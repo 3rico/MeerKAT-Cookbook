{
 "cells": [
  {
   "cell_type": "code",
   "execution_count": 1,
   "metadata": {},
   "outputs": [],
   "source": [
    "%matplotlib inline\n",
    "import numpy as np"
   ]
  },
  {
   "cell_type": "markdown",
   "metadata": {},
   "source": [
    "For reference, the frequency band $1326.21\\,MHz$ to $1368.01\\,MHz$ is clean for MeerKAT and a good location for initial inspection and calculation."
   ]
  },
  {
   "cell_type": "code",
   "execution_count": 2,
   "metadata": {},
   "outputs": [],
   "source": [
    "def freq2chan(frequency, bandwidth, n_chans):\n",
    "    channel_nr = round(float(frequency)/float(bandwidth)*n_chans)%n_chans\n",
    "    return int(channel_nr)"
   ]
  },
  {
   "cell_type": "code",
   "execution_count": 3,
   "metadata": {},
   "outputs": [],
   "source": [
    "def chan2bbfreq(channel_nr, bandwidth, n_chans):\n",
    "    frequency = round(float(channel_nr)/float(n_chans)*float(bandwidth))%bandwidth\n",
    "    return frequency"
   ]
  },
  {
   "cell_type": "code",
   "execution_count": 4,
   "metadata": {},
   "outputs": [],
   "source": [
    "def chan2freq(channel_nr, bandwidth, channel_freqs):\n",
    "    frequency = chan2bbfreq(channel_nr, bandwidth, len(channel_freqs))\n",
    "    c_width = np.mean(np.diff(channel_freqs))\n",
    "    return channel_freqs[0] + frequency - c_width/2."
   ]
  },
  {
   "cell_type": "code",
   "execution_count": 5,
   "metadata": {},
   "outputs": [],
   "source": [
    "# subset of channels that are known to be relative RFI free (close and around 1.4GHz)\n",
    "f_low = 1326214844.0  # Hz\n",
    "f_high = 1368011719.0  # Hz\n",
    "# MeerKAT channels for frequency range\n",
    "channel_width = 835937.5  # Hz\n",
    "n_channels = 1024\n",
    "bandwidth = channel_width*n_channels\n",
    "start_freq = 856000000.0  # Hz\n",
    "channel_freqs = start_freq + channel_width*np.arange(0, n_channels)"
   ]
  },
  {
   "cell_type": "code",
   "execution_count": 6,
   "metadata": {},
   "outputs": [
    {
     "name": "stdout",
     "output_type": "stream",
     "text": [
      "Frequency range 1326.215-1368.012 MHz maps to channels 563-613\n",
      "1024 channels over bandpass, maps to 1326.215-1368.012 MHz\n"
     ]
    }
   ],
   "source": [
    "c_low = freq2chan(f_low, bandwidth, n_channels)\n",
    "c_high = freq2chan(f_high, bandwidth, n_channels)\n",
    "\n",
    "print('Frequency range {:.3f}-{:.3f} MHz maps to channels {}-{}'.format(\n",
    "    f_low/1e6, f_high/1e6, c_low, c_high))\n",
    "print('{} channels over bandpass, maps to {:.3f}-{:.3f} MHz'.format(\n",
    "    n_channels,\n",
    "    chan2freq(c_low, bandwidth, channel_freqs)/1e6,\n",
    "    chan2freq(c_high, bandwidth, channel_freqs)/1e6))"
   ]
  },
  {
   "cell_type": "code",
   "execution_count": 7,
   "metadata": {},
   "outputs": [],
   "source": [
    "def rfi_range(f_low,  # MHz\n",
    "              f_high,  # MHz\n",
    "              bandwidth=856.,  # MHz L-band\n",
    "              n_channels=1024.,  # wideband coarse\n",
    "             ):\n",
    "    c_low = freq2chan(f_low*1e6, bandwidth*1e6, n_channels)\n",
    "    c_high = freq2chan(f_high*1e6, bandwidth*1e6, n_channels)\n",
    "\n",
    "    return [c_low, c_high]"
   ]
  },
  {
   "cell_type": "code",
   "execution_count": 8,
   "metadata": {},
   "outputs": [],
   "source": [
    "msg = lambda name, freqs, chans: '{0: <22} {1: <22} {2}'.format(name, freqs, chans)"
   ]
  },
  {
   "cell_type": "code",
   "execution_count": 9,
   "metadata": {},
   "outputs": [
    {
     "name": "stdout",
     "output_type": "stream",
     "text": [
      "RFI Source             Frequency Range (MHz)  Channel Range\n",
      "GSM (Mobile Phones)    900-915 MHz uplink     [53, 71]\n",
      "GSM (Mobile Phones)    925-960 MHz uplink     [83, 124]\n",
      "Aircraft Transponders  1000-1200 MHz          [172, 412]\n",
      "GPS                    L1: 1565-1585          [848, 872]\n",
      "GPS                    L2: 1217-1237          [432, 456]\n",
      "GPS                    L3: 1375-1387          [621, 635]\n",
      "GPS                    L5: 1166-1186          [371, 395]\n",
      "GLONASS                L1: 1592-1610          [880, 902]\n",
      "GLONASS                L2: 1242-1249          [462, 470]\n",
      "Galileo                1191-1217              [401, 432]\n",
      "Galileo                1260-1300              [483, 531]\n",
      "Afristar               1453-1490              [714, 758]\n",
      "IRIDIUM                1616-1626              [909, 921]\n",
      "Inmarsat               1526-1554              [801, 835]\n",
      "Alkantpan              1600                   890\n"
     ]
    }
   ],
   "source": [
    "print((msg('RFI Source', 'Frequency Range (MHz)', 'Channel Range')))\n",
    "print(msg('GSM (Mobile Phones)', '900-915 MHz uplink', rfi_range(900, 915)))\n",
    "print(msg('GSM (Mobile Phones)', '925-960 MHz uplink', rfi_range(925, 960)))\n",
    "print(msg('Aircraft Transponders', '1000-1200 MHz', rfi_range(1000, 1200)))\n",
    "print(msg('GPS', 'L1: 1565-1585', rfi_range(1565, 1585)))\n",
    "print(msg('GPS', 'L2: 1217-1237', rfi_range(1217, 1237)))\n",
    "print(msg('GPS', 'L3: 1375-1387', rfi_range(1375, 1387)))\n",
    "print(msg('GPS', 'L5: 1166-1186', rfi_range(1166, 1186)))\n",
    "print(msg('GLONASS', 'L1: 1592-1610', rfi_range(1592, 1610)))\n",
    "print(msg('GLONASS', 'L2: 1242-1249', rfi_range(1242, 1249)))\n",
    "print(msg('Galileo', '1191-1217', rfi_range(1191, 1217)))\n",
    "print(msg('Galileo', '1260-1300', rfi_range(1260, 1300)))\n",
    "print(msg('Afristar', '1453-1490', rfi_range(1453, 1490)))\n",
    "print(msg('IRIDIUM', '1616-1626', rfi_range(1616, 1626)))\n",
    "print(msg('Inmarsat', '1526-1554', rfi_range(1526, 1554)))\n",
    "print(msg('Alkantpan', '1600', freq2chan(1600*1e6, 856*1e6, 1024)))"
   ]
  },
  {
   "cell_type": "code",
   "execution_count": null,
   "metadata": {},
   "outputs": [],
   "source": []
  }
 ],
 "metadata": {
  "kernelspec": {
   "display_name": "Python 2",
   "language": "python",
   "name": "python2"
  },
  "language_info": {
   "codemirror_mode": {
    "name": "ipython",
    "version": 2
   },
   "file_extension": ".py",
   "mimetype": "text/x-python",
   "name": "python",
   "nbconvert_exporter": "python",
   "pygments_lexer": "ipython2",
   "version": "2.7.15+"
  }
 },
 "nbformat": 4,
 "nbformat_minor": 2
}
