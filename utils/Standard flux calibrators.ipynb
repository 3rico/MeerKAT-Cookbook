{
 "cells": [
  {
   "cell_type": "markdown",
   "metadata": {},
   "source": [
    "## Flux density values for standard flux calibrators\n",
    "\n",
    "To convert correlation coefficients to absolute flux densities"
   ]
  },
  {
   "cell_type": "markdown",
   "metadata": {},
   "source": [
    "### J0408-6545    \n",
    "RA: 04h08m20.4s     \n",
    "Decl: -65d45m09.6s"
   ]
  },
  {
   "cell_type": "markdown",
   "metadata": {},
   "source": [
    "Coefficients: a=-0.9790, b=3.3662, c=-1.1216, d=0.0861     \n",
    "$log_{10}(S) = a + b*log_{10}(f) +c*log_{10}(f)^2 + d*log_{10}(f)^3$     \n",
    "with $S$ in Jy and $f$ in MHz"
   ]
  },
  {
   "cell_type": "code",
   "execution_count": 3,
   "metadata": {},
   "outputs": [
    {
     "name": "stdout",
     "output_type": "stream",
     "text": [
      "Calculated Stokes I for J0408-6545 17.1063498503 [Jy]\n"
     ]
    }
   ],
   "source": [
    "a=-0.9790\n",
    "b=3.3662\n",
    "c=-1.1216\n",
    "d=0.0861\n",
    "\n",
    "f = 1284.  # MHz (L-band)\n",
    "\n",
    "log_S = a + b*np.log10(f) + c*np.log10(f)**2 + d*np.log10(f)**3\n",
    "\n",
    "print('Calculated Stokes I for J0408-6545 {} [Jy]'.format(10**log_S))"
   ]
  },
  {
   "cell_type": "markdown",
   "metadata": {},
   "source": [
    "```\n",
    "setjy(vis=msfile, field='J0408-6545', scalebychan=True, standard='manual', fluxdensity=[17.1,0,0,0])\n",
    "```"
   ]
  },
  {
   "cell_type": "markdown",
   "metadata": {},
   "source": [
    "### J1939-6342    \n",
    "RA: 19h39m25.05s     \n",
    "Decl: -63d42m43.63s"
   ]
  },
  {
   "cell_type": "markdown",
   "metadata": {},
   "source": [
    "```\n",
    "setjy(vis=msfile, field='J1939-6342', scalebychan=True, standard='Stevens-Reynolds 2016', fluxdensity=-1)\n",
    "```"
   ]
  },
  {
   "cell_type": "markdown",
   "metadata": {},
   "source": [
    "### J1331+3030    \n",
    "RA: 13h31m08.3s     \n",
    "Decl: +30d30m32.96s"
   ]
  },
  {
   "cell_type": "markdown",
   "metadata": {},
   "source": [
    "```\n",
    "setjy(vis=msfile, field='3C286', scalebychan=True, standard='Perley-Butler 2013', fluxdensity=-1)\n",
    "```"
   ]
  },
  {
   "cell_type": "code",
   "execution_count": null,
   "metadata": {},
   "outputs": [],
   "source": []
  }
 ],
 "metadata": {
  "kernelspec": {
   "display_name": "Casa",
   "language": "casa",
   "name": "casapy"
  },
  "language_info": {
   "mimetype": "text/plain",
   "name": "Casa"
  }
 },
 "nbformat": 4,
 "nbformat_minor": 2
}
