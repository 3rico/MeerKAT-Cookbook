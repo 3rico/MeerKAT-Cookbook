{
 "cells": [
  {
   "cell_type": "markdown",
   "metadata": {},
   "source": [
    "Converting the MeerKAT MVF observation data to a CASA measurement set is done using the `mvftoms.py` script provided with the `katdal` package installation.\n",
    "\n",
    "Some general usage examples are presented, but for all available options, `mvftoms.py -h`."
   ]
  },
  {
   "cell_type": "code",
   "execution_count": null,
   "metadata": {},
   "outputs": [],
   "source": []
  },
  {
   "cell_type": "markdown",
   "metadata": {},
   "source": [
    "`mvftoms.py ../example-data/1548417874/1548417874/1548417874_sdp_l0.full.rdb -o mkat_cal_im_full.ms -f -a -C '163,3885' --quack=3`     \n",
    "`mvftoms.py ../example-data/1548417874/1548417874/1548417874_sdp_l0.full.rdb -o mkat_cal_im_section.ms -f -a -C '2150,3150'--quack=3`"
   ]
  },
  {
   "cell_type": "markdown",
   "metadata": {},
   "source": [
    "**Note: pre-flagging is generally only good to use for continuum imaging and not for spectral lines, since it will flag out the science lines.**   \n",
    "For imaging the calibrators, we will select to pre-flag the data during conversion.\n"
   ]
  },
  {
   "cell_type": "code",
   "execution_count": null,
   "metadata": {},
   "outputs": [],
   "source": []
  }
 ],
 "metadata": {
  "kernelspec": {
   "display_name": "Casa",
   "language": "casa",
   "name": "casapy"
  },
  "language_info": {
   "mimetype": "text/plain",
   "name": "Casa"
  }
 },
 "nbformat": 4,
 "nbformat_minor": 2
}
