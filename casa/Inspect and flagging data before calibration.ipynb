{
 "cells": [
  {
   "cell_type": "code",
   "execution_count": 1,
   "metadata": {},
   "outputs": [],
   "source": [
    "msfile = 'ngc3621.ms'\n",
    "prefix='ngc3621'\n",
    "target='NGC3621'\n",
    "g_cal='1117-248'\n",
    "b_cal='0408-65'\n",
    "f_cal='0408-65'"
   ]
  },
  {
   "cell_type": "code",
   "execution_count": 2,
   "metadata": {
    "scrolled": true
   },
   "outputs": [
    {
     "name": "stdout",
     "output_type": "stream",
     "text": [
      "================================================================================\n",
      "           MeasurementSet Name:  /home/jupyter/MeerKAT-Cookbook/casa/ngc3621.ms      MS Version 2\n",
      "================================================================================\n",
      "   Observer: Sharmila     Project: 20170408-0011  \n",
      "Observation: MeerKAT\n",
      "Data records: 15687       Total elapsed time = 3274.61 seconds\n",
      "   Observed from   08-Apr-2017/15:00:22.0   to   08-Apr-2017/15:54:56.6 (UTC)\n",
      "\n",
      "   ObservationID = 0         ArrayID = 0\n",
      "  Date        Timerange (UTC)          Scan  FldId FieldName             nRows     SpwIds   Average Interval(s)    ScanIntent\n",
      "  08-Apr-2017/15:00:22.0 - 15:10:17.7     1      0 0408-65                   3129  [0]  [4] [CALIBRATE_BANDPASS,CALIBRATE_FLUX]\n",
      "              15:12:53.6 - 15:22:53.4     2      1 NGC3621                   3150  [0]  [4] [TARGET]\n",
      "              15:23:09.4 - 15:25:05.3     3      2 1117-248                   609  [0]  [4] [CALIBRATE_AMPLI,CALIBRATE_PHASE]\n",
      "              15:25:21.3 - 15:30:21.2     4      1 NGC3621                   1575  [0]  [4] [TARGET]\n",
      "              15:30:37.2 - 15:32:33.1     5      2 1117-248                   609  [0]  [4] [CALIBRATE_AMPLI,CALIBRATE_PHASE]\n",
      "              15:32:49.1 - 15:37:49.0     6      1 NGC3621                   1575  [0]  [4] [TARGET]\n",
      "              15:38:01.0 - 15:40:00.9     7      2 1117-248                   630  [0]  [4] [CALIBRATE_AMPLI,CALIBRATE_PHASE]\n",
      "              15:40:16.9 - 15:45:16.8     8      1 NGC3621                   1575  [0]  [4] [TARGET]\n",
      "              15:45:28.8 - 15:47:28.8     9      2 1117-248                   630  [0]  [4] [CALIBRATE_AMPLI,CALIBRATE_PHASE]\n",
      "              15:47:44.8 - 15:52:44.6    10      1 NGC3621                   1575  [0]  [4] [TARGET]\n",
      "              15:52:56.6 - 15:54:56.6    11      2 1117-248                   630  [0]  [4] [CALIBRATE_AMPLI,CALIBRATE_PHASE]\n",
      "           (nRows = Total number of rows per scan) \n",
      "Fields: 3\n",
      "  ID   Code Name                RA               Decl           Epoch   SrcId      nRows\n",
      "  0    T    0408-65             04:08:20.380000 -65.45.09.10000 J2000   0           3129\n",
      "  1    T    NGC3621             11:18:16.500000 -32.48.51.00000 J2000   1           9450\n",
      "  2    T    1117-248            11:20:09.120000 -25.08.07.60000 J2000   2           3108\n",
      "Spectral Windows:  (1 unique spectral windows and 1 unique polarization setups)\n",
      "  SpwID  Name   #Chans   Frame   Ch0(MHz)  ChanWid(kHz)  TotBW(kHz) CtrFreq(MHz)  Corrs  \n",
      "  0      none     900   TOPO    1399.359        26.123     23510.7   1411.1017   XX  YY\n",
      "Sources: 3\n",
      "  ID   Name                SpwId \n",
      "  0    0408-65             0     \n",
      "  1    NGC3621             0     \n",
      "  2    1117-248            0     \n",
      "  NB: No rest frequency information found in SOURCE table.\n",
      "  NB: No systemic velocity information found in SOURCE table.\n",
      "Antennas: 6:\n",
      "  ID   Name  Station   Diam.    Long.         Lat.                Offset from array center (m)                ITRF Geocentric coordinates (m)        \n",
      "                                                                     East         North     Elevation               x               y               z\n",
      "  0    m003  m003      13.5 m   +021.26.35.5  -30.32.39.1        -67.5674       35.5473      -14.0208  5109247.697845  2006736.974697 -3239096.127279\n",
      "  1    m005  m005      13.5 m   +021.26.34.2  -30.32.41.7       -103.1671      -45.3159      -13.6884  5109222.728014  2006688.920477 -3239165.938258\n",
      "  2    m017  m017      13.5 m   +021.26.45.5  -30.32.36.2        198.5346      125.5060      -13.1384  5109193.669173  2007001.648102 -3239019.099800\n",
      "  3    m018  m018      13.5 m   +021.26.42.0  -30.32.40.5        104.6648       -8.0697      -12.9552  5109164.953297  2006889.515614 -3239134.233344\n",
      "  4    m020  m020      13.5 m   +021.26.41.6  -30.32.42.2         95.9433      -61.8458      -12.7533  5109142.866214  2006871.469582 -3239180.649435\n",
      "  5    m022  m022      13.5 m   +021.26.24.0  -30.32.32.5       -374.0732      238.3589      -16.0724  5109454.031613  2006488.709321 -3238920.414497\n"
     ]
    },
    {
     "data": {
      "text/plain": [
       "True"
      ]
     },
     "execution_count": 2,
     "metadata": {},
     "output_type": "execute_result"
    },
    {
     "data": {
      "text/html": [
       "<button type=\"button\" class=\"btn btn-info\" data-toggle=\"collapse\" id=\"1585047807_5\" data-target=\"#log1585047807_5\" onclick=\"if ($('#'+this.id).html()=='Show log') {$('#'+this.id).html('Hide log')} else {$('#'+this.id).html('Show log')}; return false\">Show log</button> <div class=\"collapse\" id=\"log1585047807_5\">2020-03-24 11:03:27\tINFO\tlistobs::::\t\n",
       "<br>2020-03-24 11:03:27\tINFO\tlistobs::::+\t##########################################\n",
       "<br>2020-03-24 11:03:27\tINFO\tlistobs::::+\t##### Begin Task: listobs            #####\n",
       "<br>2020-03-24 11:03:27\tINFO\tlistobs::::\tlistobs(vis=\"ngc3621.ms\",selectdata=True,spw=\"\",field=\"\",antenna=\"\",\n",
       "<br>2020-03-24 11:03:27\tINFO\tlistobs::::+\t        uvrange=\"\",timerange=\"\",correlation=\"\",scan=\"\",intent=\"\",\n",
       "<br>2020-03-24 11:03:27\tINFO\tlistobs::::+\t        feed=\"\",array=\"\",observation=\"\",verbose=True,listfile=\"casapy_temp.txt\",\n",
       "<br>2020-03-24 11:03:27\tINFO\tlistobs::::+\t        listunfl=False,cachesize=50,overwrite=True)\n",
       "<br>2020-03-24 11:03:27\tINFO\tlistobs::ms::summary\tWriting output to file: casapy_temp.txt\n",
       "<br>2020-03-24 11:03:27\tINFO\tlistobs::MSMetaData::_computeScanAndSubScanProperties \tComputing scan and subscan properties...\n",
       "<br>2020-03-24 11:03:27\tINFO\tlistobs::::\t##### End Task: listobs              #####\n",
       "<br>2020-03-24 11:03:27\tINFO\tlistobs::::+\t##########################################\n",
       "</div>"
      ]
     },
     "metadata": {},
     "output_type": "display_data"
    }
   ],
   "source": [
    "listobs(msfile)"
   ]
  },
  {
   "cell_type": "markdown",
   "metadata": {},
   "source": [
    "### Apply standard L-band flags"
   ]
  },
  {
   "cell_type": "markdown",
   "metadata": {},
   "source": [
    "```\n",
    "run flagging_mkat_lband.py --msfile 'ngc3621.ms' --zeros --lband --gps --glonass --galileo --afristar --iridium --inmarsat\n",
    "```"
   ]
  },
  {
   "cell_type": "code",
   "execution_count": 3,
   "metadata": {},
   "outputs": [
    {
     "data": {
      "text/html": [
       "<button type=\"button\" class=\"btn btn-info\" data-toggle=\"collapse\" id=\"1585047908_57\" data-target=\"#log1585047908_57\" onclick=\"if ($('#'+this.id).html()=='Show log') {$('#'+this.id).html('Hide log')} else {$('#'+this.id).html('Show log')}; return false\">Show log</button> <div class=\"collapse\" id=\"log1585047908_57\">2020-03-24 11:05:08\tINFO\tflagdata::::\t\n",
       "<br>2020-03-24 11:05:08\tINFO\tflagdata::::+\t##########################################\n",
       "<br>2020-03-24 11:05:08\tINFO\tflagdata::::+\t##### Begin Task: flagdata           #####\n",
       "<br>2020-03-24 11:05:08\tINFO\tflagdata::::\tflagdata(vis=\"ngc3621.ms\",mode=\"shadow\",autocorr=False,inpfile=\"\",reason=\"any\",\n",
       "<br>2020-03-24 11:05:08\tINFO\tflagdata::::+\t        tbuff=0.0,spw=\"\",field=\"\",antenna=\"\",uvrange=\"\",\n",
       "<br>2020-03-24 11:05:08\tINFO\tflagdata::::+\t        timerange=\"\",correlation=\"\",scan=\"\",intent=\"\",array=\"\",\n",
       "<br>2020-03-24 11:05:08\tINFO\tflagdata::::+\t        observation=\"\",feed=\"\",clipminmax=[],datacolumn=\"DATA\",clipoutside=True,\n",
       "<br>2020-03-24 11:05:08\tINFO\tflagdata::::+\t        channelavg=False,chanbin=1,timeavg=False,timebin=\"0s\",clipzeros=False,\n",
       "<br>2020-03-24 11:05:08\tINFO\tflagdata::::+\t        quackinterval=1.0,quackmode=\"beg\",quackincrement=False,tolerance=0.0,addantenna=\"\",\n",
       "<br>2020-03-24 11:05:08\tINFO\tflagdata::::+\t        lowerlimit=0.0,upperlimit=90.0,ntime=\"scan\",combinescans=False,timecutoff=4.0,\n",
       "<br>2020-03-24 11:05:08\tINFO\tflagdata::::+\t        freqcutoff=3.0,timefit=\"line\",freqfit=\"poly\",maxnpieces=7,flagdimension=\"freqtime\",\n",
       "<br>2020-03-24 11:05:08\tINFO\tflagdata::::+\t        usewindowstats=\"none\",halfwin=1,extendflags=True,winsize=3,timedev=\"\",\n",
       "<br>2020-03-24 11:05:08\tINFO\tflagdata::::+\t        freqdev=\"\",timedevscale=5.0,freqdevscale=5.0,spectralmax=1000000.0,spectralmin=0.0,\n",
       "<br>2020-03-24 11:05:08\tINFO\tflagdata::::+\t        antint_ref_antenna=\"\",minchanfrac=0.6,verbose=False,extendpols=True,growtime=50.0,\n",
       "<br>2020-03-24 11:05:08\tINFO\tflagdata::::+\t        growfreq=50.0,growaround=False,flagneartime=False,flagnearfreq=False,minrel=0.0,\n",
       "<br>2020-03-24 11:05:08\tINFO\tflagdata::::+\t        maxrel=1.0,minabs=0,maxabs=-1,spwchan=False,spwcorr=False,\n",
       "<br>2020-03-24 11:05:08\tINFO\tflagdata::::+\t        basecnt=False,fieldcnt=False,name=\"Summary\",action=\"apply\",display=\"\",\n",
       "<br>2020-03-24 11:05:08\tINFO\tflagdata::::+\t        flagbackup=True,savepars=False,cmdreason=\"\",outfile=\"\",overwrite=True,\n",
       "<br>2020-03-24 11:05:08\tINFO\tflagdata::::+\t        writeflags=True)\n",
       "<br>2020-03-24 11:05:08\tINFO\tflagdata::::\tBackup original flags before applying new flags\n",
       "<br>2020-03-24 11:05:08\tINFO\tAgentFlagger::open\tTable type is Measurement Set\n",
       "<br>2020-03-24 11:05:08\tINFO\tFlagVersion::saveFlagVersion\tCreating new backup flag file called flagdata_1\n",
       "<br>2020-03-24 11:05:08\tINFO\tAgentFlagger::open\tTable type is Measurement Set\n",
       "<br>2020-03-24 11:05:08\tINFO\tflagdata::::\tShadow mode is active\n",
       "<br>2020-03-24 11:05:08\tINFO\tflagdata::::\tInitializing the agents\n",
       "<br>2020-03-24 11:05:08\tINFO\tShadow::setAgentParameters \t tolerance is 0 meters \n",
       "<br>2020-03-24 11:05:08\tINFO\tShadow::setAgentParameters \t addantenna is \n",
       "<br>2020-03-24 11:05:08\tINFO\tAgentFlagger::initAgents\tThere are 1 valid agents in list\n",
       "<br>2020-03-24 11:05:08\tINFO\tflagdata::::\tRunning the agentflagger tool\n",
       "<br>2020-03-24 11:05:08\tINFO\tFlagMSHandler::\t------------------------------------------------------------------------------------ \n",
       "<br>2020-03-24 11:05:08\tINFO\tFlagMSHandler::\tChunk = 1 [progress: 19%], Observation = 0, Array = 0, Scan = 1, Field = 0 (0408-65), Spw = 0, Channels = 900, Corrs = [ XX YY ], Total Rows = 3129\n",
       "<br>2020-03-24 11:05:08\tSEVERE\tMeasTable::dUTC(Double) (file /usr/local/casa/casacore/measures/Measures/MeasTable.cc, line 4290)\tLeap second table TAI_UTC seems out-of-date.\n",
       "<br>2020-03-24 11:05:08\tSEVERE\tMeasTable::dUTC(Double) (file /usr/local/casa/casacore/measures/Measures/MeasTable.cc, line 4290)+\tUntil the table is updated (see the CASA documentation or your system admin),\n",
       "<br>2020-03-24 11:05:08\tSEVERE\tMeasTable::dUTC(Double) (file /usr/local/casa/casacore/measures/Measures/MeasTable.cc, line 4290)+\ttimes and coordinates derived from UTC could be wrong by 1s or more.\n",
       "<br>2020-03-24 11:05:08\tINFO\tFlagMSHandler::\t------------------------------------------------------------------------------------ \n",
       "<br>2020-03-24 11:05:08\tINFO\tFlagMSHandler::\tChunk = 2 [progress: 40%], Observation = 0, Array = 0, Scan = 2, Field = 1 (NGC3621), Spw = 0, Channels = 900, Corrs = [ XX YY ], Total Rows = 3150\n",
       "<br>2020-03-24 11:05:08\tINFO\tFlagMSHandler::\t------------------------------------------------------------------------------------ \n",
       "<br>2020-03-24 11:05:08\tINFO\tFlagMSHandler::\tChunk = 3 [progress: 43%], Observation = 0, Array = 0, Scan = 3, Field = 2 (1117-248), Spw = 0, Channels = 900, Corrs = [ XX YY ], Total Rows = 609\n",
       "<br>2020-03-24 11:05:08\tINFO\tFlagMSHandler::\t------------------------------------------------------------------------------------ \n",
       "<br>2020-03-24 11:05:08\tINFO\tFlagMSHandler::\tChunk = 4 [progress: 53%], Observation = 0, Array = 0, Scan = 4, Field = 1 (NGC3621), Spw = 0, Channels = 900, Corrs = [ XX YY ], Total Rows = 1575\n",
       "<br>2020-03-24 11:05:08\tINFO\tFlagMSHandler::\t------------------------------------------------------------------------------------ \n",
       "<br>2020-03-24 11:05:08\tINFO\tFlagMSHandler::\tChunk = 5 [progress: 57%], Observation = 0, Array = 0, Scan = 5, Field = 2 (1117-248), Spw = 0, Channels = 900, Corrs = [ XX YY ], Total Rows = 609\n",
       "<br>2020-03-24 11:05:08\tINFO\tFlagMSHandler::\t------------------------------------------------------------------------------------ \n",
       "<br>2020-03-24 11:05:08\tINFO\tFlagMSHandler::\tChunk = 6 [progress: 67%], Observation = 0, Array = 0, Scan = 6, Field = 1 (NGC3621), Spw = 0, Channels = 900, Corrs = [ XX YY ], Total Rows = 1575\n",
       "<br>2020-03-24 11:05:08\tINFO\tFlagMSHandler::\t------------------------------------------------------------------------------------ \n",
       "<br>2020-03-24 11:05:08\tINFO\tFlagMSHandler::\tChunk = 7 [progress: 71%], Observation = 0, Array = 0, Scan = 7, Field = 2 (1117-248), Spw = 0, Channels = 900, Corrs = [ XX YY ], Total Rows = 630\n",
       "<br>2020-03-24 11:05:08\tINFO\tFlagMSHandler::\t------------------------------------------------------------------------------------ \n",
       "<br>2020-03-24 11:05:08\tINFO\tFlagMSHandler::\tChunk = 8 [progress: 81%], Observation = 0, Array = 0, Scan = 8, Field = 1 (NGC3621), Spw = 0, Channels = 900, Corrs = [ XX YY ], Total Rows = 1575\n",
       "<br>2020-03-24 11:05:08\tINFO\tFlagMSHandler::\t------------------------------------------------------------------------------------ \n",
       "<br>2020-03-24 11:05:08\tINFO\tFlagMSHandler::\tChunk = 9 [progress: 85%], Observation = 0, Array = 0, Scan = 9, Field = 2 (1117-248), Spw = 0, Channels = 900, Corrs = [ XX YY ], Total Rows = 630\n",
       "<br>2020-03-24 11:05:08\tINFO\tFlagMSHandler::\t------------------------------------------------------------------------------------ \n",
       "<br>2020-03-24 11:05:08\tINFO\tFlagMSHandler::\tChunk = 10 [progress: 95%], Observation = 0, Array = 0, Scan = 10, Field = 1 (NGC3621), Spw = 0, Channels = 900, Corrs = [ XX YY ], Total Rows = 1575\n",
       "<br>2020-03-24 11:05:09\tINFO\tFlagMSHandler::\t------------------------------------------------------------------------------------ \n",
       "<br>2020-03-24 11:05:09\tINFO\tFlagMSHandler::\tChunk = 11 [progress: 100%], Observation = 0, Array = 0, Scan = 11, Field = 2 (1117-248), Spw = 0, Channels = 900, Corrs = [ XX YY ], Total Rows = 630\n",
       "<br>2020-03-24 11:05:09\tINFO\tFlagMSHandler::nextChunk \t==================================================================================== \n",
       "<br>2020-03-24 11:05:09\tINFO\tAgentFlagger::run\t=> Writing flags to the MS\n",
       "<br>2020-03-24 11:05:09\tINFO\tflagdata::::\tCASA Version 5.5.0-149  \n",
       "<br>2020-03-24 11:05:09\tINFO\tflagdata::::\t\n",
       "<br>2020-03-24 11:05:09\tINFO\tflagdata::::\t##### End Task: flagdata             #####\n",
       "<br>2020-03-24 11:05:09\tINFO\tflagdata::::+\t##########################################\n",
       "</div>"
      ]
     },
     "metadata": {},
     "output_type": "display_data"
    }
   ],
   "source": [
    "flagdata(vis=msfile, mode='shadow');\n",
    "# if a Leap second warning is raised, simply run the command again to get rid of the warning"
   ]
  },
  {
   "cell_type": "code",
   "execution_count": 4,
   "metadata": {},
   "outputs": [
    {
     "data": {
      "text/html": [
       "<button type=\"button\" class=\"btn btn-info\" data-toggle=\"collapse\" id=\"1585047921_75\" data-target=\"#log1585047921_75\" onclick=\"if ($('#'+this.id).html()=='Show log') {$('#'+this.id).html('Hide log')} else {$('#'+this.id).html('Show log')}; return false\">Show log</button> <div class=\"collapse\" id=\"log1585047921_75\">2020-03-24 11:05:21\tINFO\tflagdata::::\t\n",
       "<br>2020-03-24 11:05:21\tINFO\tflagdata::::+\t##########################################\n",
       "<br>2020-03-24 11:05:21\tINFO\tflagdata::::+\t##### Begin Task: flagdata           #####\n",
       "<br>2020-03-24 11:05:21\tINFO\tflagdata::::\tflagdata(vis=\"ngc3621.ms\",mode=\"elevation\",autocorr=False,inpfile=\"\",reason=\"any\",\n",
       "<br>2020-03-24 11:05:21\tINFO\tflagdata::::+\t        tbuff=0.0,spw=\"\",field=\"\",antenna=\"\",uvrange=\"\",\n",
       "<br>2020-03-24 11:05:21\tINFO\tflagdata::::+\t        timerange=\"\",correlation=\"\",scan=\"\",intent=\"\",array=\"\",\n",
       "<br>2020-03-24 11:05:21\tINFO\tflagdata::::+\t        observation=\"\",feed=\"\",clipminmax=[],datacolumn=\"DATA\",clipoutside=True,\n",
       "<br>2020-03-24 11:05:21\tINFO\tflagdata::::+\t        channelavg=False,chanbin=1,timeavg=False,timebin=\"0s\",clipzeros=False,\n",
       "<br>2020-03-24 11:05:21\tINFO\tflagdata::::+\t        quackinterval=1.0,quackmode=\"beg\",quackincrement=False,tolerance=0.0,addantenna=\"\",\n",
       "<br>2020-03-24 11:05:21\tINFO\tflagdata::::+\t        lowerlimit=15.0,upperlimit=90.0,ntime=\"scan\",combinescans=False,timecutoff=4.0,\n",
       "<br>2020-03-24 11:05:21\tINFO\tflagdata::::+\t        freqcutoff=3.0,timefit=\"line\",freqfit=\"poly\",maxnpieces=7,flagdimension=\"freqtime\",\n",
       "<br>2020-03-24 11:05:21\tINFO\tflagdata::::+\t        usewindowstats=\"none\",halfwin=1,extendflags=True,winsize=3,timedev=\"\",\n",
       "<br>2020-03-24 11:05:21\tINFO\tflagdata::::+\t        freqdev=\"\",timedevscale=5.0,freqdevscale=5.0,spectralmax=1000000.0,spectralmin=0.0,\n",
       "<br>2020-03-24 11:05:21\tINFO\tflagdata::::+\t        antint_ref_antenna=\"\",minchanfrac=0.6,verbose=False,extendpols=True,growtime=50.0,\n",
       "<br>2020-03-24 11:05:21\tINFO\tflagdata::::+\t        growfreq=50.0,growaround=False,flagneartime=False,flagnearfreq=False,minrel=0.0,\n",
       "<br>2020-03-24 11:05:21\tINFO\tflagdata::::+\t        maxrel=1.0,minabs=0,maxabs=-1,spwchan=False,spwcorr=False,\n",
       "<br>2020-03-24 11:05:21\tINFO\tflagdata::::+\t        basecnt=False,fieldcnt=False,name=\"Summary\",action=\"apply\",display=\"\",\n",
       "<br>2020-03-24 11:05:21\tINFO\tflagdata::::+\t        flagbackup=True,savepars=False,cmdreason=\"\",outfile=\"\",overwrite=True,\n",
       "<br>2020-03-24 11:05:21\tINFO\tflagdata::::+\t        writeflags=True)\n",
       "<br>2020-03-24 11:05:21\tINFO\tflagdata::::\tBackup original flags before applying new flags\n",
       "<br>2020-03-24 11:05:21\tINFO\tAgentFlagger::open\tTable type is Measurement Set\n",
       "<br>2020-03-24 11:05:21\tINFO\tFlagVersion::saveFlagVersion\tCreating new backup flag file called flagdata_2\n",
       "<br>2020-03-24 11:05:21\tINFO\tAgentFlagger::open\tTable type is Measurement Set\n",
       "<br>2020-03-24 11:05:21\tINFO\tflagdata::::\tElevation mode is active\n",
       "<br>2020-03-24 11:05:21\tINFO\tflagdata::::\tInitializing the agents\n",
       "<br>2020-03-24 11:05:21\tINFO\tElevation::setAgentParameters \t lowerlimit is 15\n",
       "<br>2020-03-24 11:05:21\tINFO\tElevation::setAgentParameters \t upperlimit is 90\n",
       "<br>2020-03-24 11:05:21\tINFO\tAgentFlagger::initAgents\tThere are 1 valid agents in list\n",
       "<br>2020-03-24 11:05:21\tINFO\tflagdata::::\tRunning the agentflagger tool\n",
       "<br>2020-03-24 11:05:21\tINFO\tFlagMSHandler::\t------------------------------------------------------------------------------------ \n",
       "<br>2020-03-24 11:05:21\tINFO\tFlagMSHandler::\tChunk = 1 [progress: 19%], Observation = 0, Array = 0, Scan = 1, Field = 0 (0408-65), Spw = 0, Channels = 900, Corrs = [ XX YY ], Total Rows = 3129\n",
       "<br>2020-03-24 11:05:22\tINFO\tFlagMSHandler::\t------------------------------------------------------------------------------------ \n",
       "<br>2020-03-24 11:05:22\tINFO\tFlagMSHandler::\tChunk = 2 [progress: 40%], Observation = 0, Array = 0, Scan = 2, Field = 1 (NGC3621), Spw = 0, Channels = 900, Corrs = [ XX YY ], Total Rows = 3150\n",
       "<br>2020-03-24 11:05:22\tINFO\tFlagMSHandler::\t------------------------------------------------------------------------------------ \n",
       "<br>2020-03-24 11:05:22\tINFO\tFlagMSHandler::\tChunk = 3 [progress: 43%], Observation = 0, Array = 0, Scan = 3, Field = 2 (1117-248), Spw = 0, Channels = 900, Corrs = [ XX YY ], Total Rows = 609\n",
       "<br>2020-03-24 11:05:22\tINFO\tFlagMSHandler::\t------------------------------------------------------------------------------------ \n",
       "<br>2020-03-24 11:05:22\tINFO\tFlagMSHandler::\tChunk = 4 [progress: 53%], Observation = 0, Array = 0, Scan = 4, Field = 1 (NGC3621), Spw = 0, Channels = 900, Corrs = [ XX YY ], Total Rows = 1575\n",
       "<br>2020-03-24 11:05:22\tINFO\tFlagMSHandler::\t------------------------------------------------------------------------------------ \n",
       "<br>2020-03-24 11:05:22\tINFO\tFlagMSHandler::\tChunk = 5 [progress: 57%], Observation = 0, Array = 0, Scan = 5, Field = 2 (1117-248), Spw = 0, Channels = 900, Corrs = [ XX YY ], Total Rows = 609\n",
       "<br>2020-03-24 11:05:22\tINFO\tFlagMSHandler::\t------------------------------------------------------------------------------------ \n",
       "<br>2020-03-24 11:05:22\tINFO\tFlagMSHandler::\tChunk = 6 [progress: 67%], Observation = 0, Array = 0, Scan = 6, Field = 1 (NGC3621), Spw = 0, Channels = 900, Corrs = [ XX YY ], Total Rows = 1575\n",
       "<br>2020-03-24 11:05:22\tINFO\tFlagMSHandler::\t------------------------------------------------------------------------------------ \n",
       "<br>2020-03-24 11:05:22\tINFO\tFlagMSHandler::\tChunk = 7 [progress: 71%], Observation = 0, Array = 0, Scan = 7, Field = 2 (1117-248), Spw = 0, Channels = 900, Corrs = [ XX YY ], Total Rows = 630\n",
       "<br>2020-03-24 11:05:22\tINFO\tFlagMSHandler::\t------------------------------------------------------------------------------------ \n",
       "<br>2020-03-24 11:05:22\tINFO\tFlagMSHandler::\tChunk = 8 [progress: 81%], Observation = 0, Array = 0, Scan = 8, Field = 1 (NGC3621), Spw = 0, Channels = 900, Corrs = [ XX YY ], Total Rows = 1575\n",
       "<br>2020-03-24 11:05:22\tINFO\tFlagMSHandler::\t------------------------------------------------------------------------------------ \n",
       "<br>2020-03-24 11:05:22\tINFO\tFlagMSHandler::\tChunk = 9 [progress: 85%], Observation = 0, Array = 0, Scan = 9, Field = 2 (1117-248), Spw = 0, Channels = 900, Corrs = [ XX YY ], Total Rows = 630\n",
       "<br>2020-03-24 11:05:22\tINFO\tFlagMSHandler::\t------------------------------------------------------------------------------------ \n",
       "<br>2020-03-24 11:05:22\tINFO\tFlagMSHandler::\tChunk = 10 [progress: 95%], Observation = 0, Array = 0, Scan = 10, Field = 1 (NGC3621), Spw = 0, Channels = 900, Corrs = [ XX YY ], Total Rows = 1575\n",
       "<br>2020-03-24 11:05:22\tINFO\tFlagMSHandler::\t------------------------------------------------------------------------------------ \n",
       "<br>2020-03-24 11:05:22\tINFO\tFlagMSHandler::\tChunk = 11 [progress: 100%], Observation = 0, Array = 0, Scan = 11, Field = 2 (1117-248), Spw = 0, Channels = 900, Corrs = [ XX YY ], Total Rows = 630\n",
       "<br>2020-03-24 11:05:22\tINFO\tFlagMSHandler::nextChunk \t==================================================================================== \n",
       "<br>2020-03-24 11:05:22\tINFO\tAgentFlagger::run\t=> Writing flags to the MS\n",
       "<br>2020-03-24 11:05:22\tINFO\tflagdata::::\tCASA Version 5.5.0-149  \n",
       "<br>2020-03-24 11:05:22\tINFO\tflagdata::::\t\n",
       "<br>2020-03-24 11:05:22\tINFO\tflagdata::::\t##### End Task: flagdata             #####\n",
       "<br>2020-03-24 11:05:22\tINFO\tflagdata::::+\t##########################################\n",
       "</div>"
      ]
     },
     "metadata": {},
     "output_type": "display_data"
    }
   ],
   "source": [
    "flagdata(vis=msfile, mode='elevation', lowerlimit=15., upperlimit=90., action='apply');"
   ]
  },
  {
   "cell_type": "code",
   "execution_count": 5,
   "metadata": {},
   "outputs": [
    {
     "data": {
      "text/html": [
       "<button type=\"button\" class=\"btn btn-info\" data-toggle=\"collapse\" id=\"1585047949_91\" data-target=\"#log1585047949_91\" onclick=\"if ($('#'+this.id).html()=='Show log') {$('#'+this.id).html('Hide log')} else {$('#'+this.id).html('Show log')}; return false\">Show log</button> <div class=\"collapse\" id=\"log1585047949_91\">2020-03-24 11:05:48\tINFO\tflagdata::::\t\n",
       "<br>2020-03-24 11:05:48\tINFO\tflagdata::::+\t##########################################\n",
       "<br>2020-03-24 11:05:48\tINFO\tflagdata::::+\t##### Begin Task: flagdata           #####\n",
       "<br>2020-03-24 11:05:48\tINFO\tflagdata::::\tflagdata(vis=\"ngc3621.ms\",mode=\"clip\",autocorr=False,inpfile=\"\",reason=\"any\",\n",
       "<br>2020-03-24 11:05:48\tINFO\tflagdata::::+\t        tbuff=0.0,spw=\"\",field=\"\",antenna=\"\",uvrange=\"\",\n",
       "<br>2020-03-24 11:05:48\tINFO\tflagdata::::+\t        timerange=\"\",correlation=\"\",scan=\"\",intent=\"\",array=\"\",\n",
       "<br>2020-03-24 11:05:48\tINFO\tflagdata::::+\t        observation=\"\",feed=\"\",clipminmax=[1e-05, 1000.0],datacolumn=\"DATA\",clipoutside=True,\n",
       "<br>2020-03-24 11:05:48\tINFO\tflagdata::::+\t        channelavg=False,chanbin=1,timeavg=False,timebin=\"0s\",clipzeros=False,\n",
       "<br>2020-03-24 11:05:48\tINFO\tflagdata::::+\t        quackinterval=1.0,quackmode=\"beg\",quackincrement=False,tolerance=0.0,addantenna=\"\",\n",
       "<br>2020-03-24 11:05:48\tINFO\tflagdata::::+\t        lowerlimit=0.0,upperlimit=90.0,ntime=\"scan\",combinescans=False,timecutoff=4.0,\n",
       "<br>2020-03-24 11:05:48\tINFO\tflagdata::::+\t        freqcutoff=3.0,timefit=\"line\",freqfit=\"poly\",maxnpieces=7,flagdimension=\"freqtime\",\n",
       "<br>2020-03-24 11:05:48\tINFO\tflagdata::::+\t        usewindowstats=\"none\",halfwin=1,extendflags=True,winsize=3,timedev=\"\",\n",
       "<br>2020-03-24 11:05:48\tINFO\tflagdata::::+\t        freqdev=\"\",timedevscale=5.0,freqdevscale=5.0,spectralmax=1000000.0,spectralmin=0.0,\n",
       "<br>2020-03-24 11:05:48\tINFO\tflagdata::::+\t        antint_ref_antenna=\"\",minchanfrac=0.6,verbose=False,extendpols=True,growtime=50.0,\n",
       "<br>2020-03-24 11:05:48\tINFO\tflagdata::::+\t        growfreq=50.0,growaround=False,flagneartime=False,flagnearfreq=False,minrel=0.0,\n",
       "<br>2020-03-24 11:05:48\tINFO\tflagdata::::+\t        maxrel=1.0,minabs=0,maxabs=-1,spwchan=False,spwcorr=False,\n",
       "<br>2020-03-24 11:05:48\tINFO\tflagdata::::+\t        basecnt=False,fieldcnt=False,name=\"Summary\",action=\"apply\",display=\"\",\n",
       "<br>2020-03-24 11:05:48\tINFO\tflagdata::::+\t        flagbackup=True,savepars=False,cmdreason=\"\",outfile=\"\",overwrite=True,\n",
       "<br>2020-03-24 11:05:48\tINFO\tflagdata::::+\t        writeflags=True)\n",
       "<br>2020-03-24 11:05:48\tINFO\tflagdata::::\tBackup original flags before applying new flags\n",
       "<br>2020-03-24 11:05:48\tINFO\tAgentFlagger::open\tTable type is Measurement Set\n",
       "<br>2020-03-24 11:05:48\tINFO\tFlagVersion::saveFlagVersion\tCreating new backup flag file called flagdata_3\n",
       "<br>2020-03-24 11:05:48\tINFO\tAgentFlagger::open\tTable type is Measurement Set\n",
       "<br>2020-03-24 11:05:48\tINFO\tflagdata::::\tClip mode is active\n",
       "<br>2020-03-24 11:05:48\tINFO\tflagdata::::\tInitializing the agents\n",
       "<br>2020-03-24 11:05:48\tINFO\tClip::setAgentParameters \t data column is DATA\n",
       "<br>2020-03-24 11:05:48\tINFO\tClip::setAgentParameters \t Visibility expression is ABS XX,YY\n",
       "<br>2020-03-24 11:05:48\tINFO\tClip::setAgentParameters \t clipzeros is 0\n",
       "<br>2020-03-24 11:05:48\tINFO\tClip::setAgentParameters \t clipoutside is 1\n",
       "<br>2020-03-24 11:05:48\tINFO\tClip::setAgentParameters \t clipmin is 1e-05\n",
       "<br>2020-03-24 11:05:48\tINFO\tClip::setAgentParameters \t clipmax is 1000\n",
       "<br>2020-03-24 11:05:48\tINFO\tClip::setAgentParameters \t Clipping outside [1e-05,1000], plus NaNs\n",
       "<br>2020-03-24 11:05:48\tINFO\tAgentFlagger::initAgents\tThere are 1 valid agents in list\n",
       "<br>2020-03-24 11:05:48\tINFO\tflagdata::::\tRunning the agentflagger tool\n",
       "<br>2020-03-24 11:05:48\tINFO\tFlagMSHandler::\t------------------------------------------------------------------------------------ \n",
       "<br>2020-03-24 11:05:48\tINFO\tFlagMSHandler::\tChunk = 1 [progress: 19%], Observation = 0, Array = 0, Scan = 1, Field = 0 (0408-65), Spw = 0, Channels = 900, Corrs = [ XX YY ], Total Rows = 3129\n",
       "<br>2020-03-24 11:05:49\tINFO\tClip::chunkSummary\t=> Data flagged so far 16.7019%\n",
       "<br>2020-03-24 11:05:49\tINFO\tFlagMSHandler::\t------------------------------------------------------------------------------------ \n",
       "<br>2020-03-24 11:05:49\tINFO\tFlagMSHandler::\tChunk = 2 [progress: 40%], Observation = 0, Array = 0, Scan = 2, Field = 1 (NGC3621), Spw = 0, Channels = 900, Corrs = [ XX YY ], Total Rows = 3150\n",
       "<br>2020-03-24 11:05:49\tINFO\tClip::chunkSummary\t=> Data flagged so far 16.7353%\n",
       "<br>2020-03-24 11:05:49\tINFO\tFlagMSHandler::\t------------------------------------------------------------------------------------ \n",
       "<br>2020-03-24 11:05:49\tINFO\tFlagMSHandler::\tChunk = 3 [progress: 43%], Observation = 0, Array = 0, Scan = 3, Field = 2 (1117-248), Spw = 0, Channels = 900, Corrs = [ XX YY ], Total Rows = 609\n",
       "<br>2020-03-24 11:05:49\tINFO\tClip::chunkSummary\t=> Data flagged so far 16.7197%\n",
       "<br>2020-03-24 11:05:49\tINFO\tFlagMSHandler::\t------------------------------------------------------------------------------------ \n",
       "<br>2020-03-24 11:05:49\tINFO\tFlagMSHandler::\tChunk = 4 [progress: 53%], Observation = 0, Array = 0, Scan = 4, Field = 1 (NGC3621), Spw = 0, Channels = 900, Corrs = [ XX YY ], Total Rows = 1575\n",
       "<br>2020-03-24 11:05:49\tINFO\tClip::chunkSummary\t=> Data flagged so far 16.7309%\n",
       "<br>2020-03-24 11:05:49\tINFO\tFlagMSHandler::\t------------------------------------------------------------------------------------ \n",
       "<br>2020-03-24 11:05:49\tINFO\tFlagMSHandler::\tChunk = 5 [progress: 57%], Observation = 0, Array = 0, Scan = 5, Field = 2 (1117-248), Spw = 0, Channels = 900, Corrs = [ XX YY ], Total Rows = 609\n",
       "<br>2020-03-24 11:05:49\tINFO\tClip::chunkSummary\t=> Data flagged so far 16.7117%\n",
       "<br>2020-03-24 11:05:49\tINFO\tFlagMSHandler::\t------------------------------------------------------------------------------------ \n",
       "<br>2020-03-24 11:05:49\tINFO\tFlagMSHandler::\tChunk = 6 [progress: 67%], Observation = 0, Array = 0, Scan = 6, Field = 1 (NGC3621), Spw = 0, Channels = 900, Corrs = [ XX YY ], Total Rows = 1575\n",
       "<br>2020-03-24 11:05:49\tINFO\tClip::chunkSummary\t=> Data flagged so far 16.7301%\n",
       "<br>2020-03-24 11:05:49\tINFO\tFlagMSHandler::\t------------------------------------------------------------------------------------ \n",
       "<br>2020-03-24 11:05:49\tINFO\tFlagMSHandler::\tChunk = 7 [progress: 71%], Observation = 0, Array = 0, Scan = 7, Field = 2 (1117-248), Spw = 0, Channels = 900, Corrs = [ XX YY ], Total Rows = 630\n",
       "<br>2020-03-24 11:05:49\tINFO\tClip::chunkSummary\t=> Data flagged so far 16.7101%\n",
       "<br>2020-03-24 11:05:49\tINFO\tFlagMSHandler::\t------------------------------------------------------------------------------------ \n",
       "<br>2020-03-24 11:05:49\tINFO\tFlagMSHandler::\tChunk = 8 [progress: 81%], Observation = 0, Array = 0, Scan = 8, Field = 1 (NGC3621), Spw = 0, Channels = 900, Corrs = [ XX YY ], Total Rows = 1575\n",
       "<br>2020-03-24 11:05:50\tINFO\tClip::chunkSummary\t=> Data flagged so far 16.7293%\n",
       "<br>2020-03-24 11:05:50\tINFO\tFlagMSHandler::\t------------------------------------------------------------------------------------ \n",
       "<br>2020-03-24 11:05:50\tINFO\tFlagMSHandler::\tChunk = 9 [progress: 85%], Observation = 0, Array = 0, Scan = 9, Field = 2 (1117-248), Spw = 0, Channels = 900, Corrs = [ XX YY ], Total Rows = 630\n",
       "<br>2020-03-24 11:05:50\tINFO\tClip::chunkSummary\t=> Data flagged so far 16.7063%\n",
       "<br>2020-03-24 11:05:50\tINFO\tFlagMSHandler::\t------------------------------------------------------------------------------------ \n",
       "<br>2020-03-24 11:05:50\tINFO\tFlagMSHandler::\tChunk = 10 [progress: 95%], Observation = 0, Array = 0, Scan = 10, Field = 1 (NGC3621), Spw = 0, Channels = 900, Corrs = [ XX YY ], Total Rows = 1575\n",
       "<br>2020-03-24 11:05:50\tINFO\tClip::chunkSummary\t=> Data flagged so far 16.7284%\n",
       "<br>2020-03-24 11:05:50\tINFO\tFlagMSHandler::\t------------------------------------------------------------------------------------ \n",
       "<br>2020-03-24 11:05:50\tINFO\tFlagMSHandler::\tChunk = 11 [progress: 100%], Observation = 0, Array = 0, Scan = 11, Field = 2 (1117-248), Spw = 0, Channels = 900, Corrs = [ XX YY ], Total Rows = 630\n",
       "<br>2020-03-24 11:05:50\tINFO\tClip::chunkSummary\t=> Data flagged so far 16.7063%\n",
       "<br>2020-03-24 11:05:50\tINFO\tFlagMSHandler::nextChunk \t==================================================================================== \n",
       "<br>2020-03-24 11:05:50\tINFO\tClip::tableSummary\t=> Percentage of data flagged in table selection: 16.7215%\n",
       "<br>2020-03-24 11:05:50\tINFO\tAgentFlagger::run\t=> Writing flags to the MS\n",
       "<br>2020-03-24 11:05:50\tINFO\tflagdata::::\tCASA Version 5.5.0-149  \n",
       "<br>2020-03-24 11:05:50\tINFO\tflagdata::::\t\n",
       "<br>2020-03-24 11:05:50\tINFO\tflagdata::::\t##### End Task: flagdata             #####\n",
       "<br>2020-03-24 11:05:50\tINFO\tflagdata::::+\t##########################################\n",
       "</div>"
      ]
     },
     "metadata": {},
     "output_type": "display_data"
    }
   ],
   "source": [
    "flagdata(vis=msfile, mode='clip', clipminmax = [1e-5, 1000.0]);"
   ]
  },
  {
   "cell_type": "markdown",
   "metadata": {},
   "source": [
    "Spectral windows are sub-bands. MeerKAT has only one sub-band.\n",
    "Remove bandpass edges and the Milky Way"
   ]
  },
  {
   "cell_type": "code",
   "execution_count": 6,
   "metadata": {},
   "outputs": [
    {
     "data": {
      "text/html": [
       "<button type=\"button\" class=\"btn btn-info\" data-toggle=\"collapse\" id=\"1585047990_71\" data-target=\"#log1585047990_71\" onclick=\"if ($('#'+this.id).html()=='Show log') {$('#'+this.id).html('Hide log')} else {$('#'+this.id).html('Show log')}; return false\">Show log</button> <div class=\"collapse\" id=\"log1585047990_71\">2020-03-24 11:06:31\tINFO\tflagdata::::\t\n",
       "<br>2020-03-24 11:06:31\tINFO\tflagdata::::+\t##########################################\n",
       "<br>2020-03-24 11:06:31\tINFO\tflagdata::::+\t##### Begin Task: flagdata           #####\n",
       "<br>2020-03-24 11:06:31\tINFO\tflagdata::::\tflagdata(vis=\"ngc3621.ms\",mode=\"manual\",autocorr=False,inpfile=\"\",reason=\"any\",\n",
       "<br>2020-03-24 11:06:31\tINFO\tflagdata::::+\t        tbuff=0.0,spw=\"*:856~880MHz,*:1658~1800MHz,*:1420.0~1421.3MHz\",field=\"0408-65,1117-248\",antenna=\"\",uvrange=\"\",\n",
       "<br>2020-03-24 11:06:31\tINFO\tflagdata::::+\t        timerange=\"\",correlation=\"\",scan=\"\",intent=\"\",array=\"\",\n",
       "<br>2020-03-24 11:06:31\tINFO\tflagdata::::+\t        observation=\"\",feed=\"\",clipminmax=[],datacolumn=\"DATA\",clipoutside=True,\n",
       "<br>2020-03-24 11:06:31\tINFO\tflagdata::::+\t        channelavg=False,chanbin=1,timeavg=False,timebin=\"0s\",clipzeros=False,\n",
       "<br>2020-03-24 11:06:31\tINFO\tflagdata::::+\t        quackinterval=1.0,quackmode=\"beg\",quackincrement=False,tolerance=0.0,addantenna=\"\",\n",
       "<br>2020-03-24 11:06:31\tINFO\tflagdata::::+\t        lowerlimit=0.0,upperlimit=90.0,ntime=\"scan\",combinescans=False,timecutoff=4.0,\n",
       "<br>2020-03-24 11:06:31\tINFO\tflagdata::::+\t        freqcutoff=3.0,timefit=\"line\",freqfit=\"poly\",maxnpieces=7,flagdimension=\"freqtime\",\n",
       "<br>2020-03-24 11:06:31\tINFO\tflagdata::::+\t        usewindowstats=\"none\",halfwin=1,extendflags=True,winsize=3,timedev=\"\",\n",
       "<br>2020-03-24 11:06:31\tINFO\tflagdata::::+\t        freqdev=\"\",timedevscale=5.0,freqdevscale=5.0,spectralmax=1000000.0,spectralmin=0.0,\n",
       "<br>2020-03-24 11:06:31\tINFO\tflagdata::::+\t        antint_ref_antenna=\"\",minchanfrac=0.6,verbose=False,extendpols=True,growtime=50.0,\n",
       "<br>2020-03-24 11:06:31\tINFO\tflagdata::::+\t        growfreq=50.0,growaround=False,flagneartime=False,flagnearfreq=False,minrel=0.0,\n",
       "<br>2020-03-24 11:06:31\tINFO\tflagdata::::+\t        maxrel=1.0,minabs=0,maxabs=-1,spwchan=False,spwcorr=False,\n",
       "<br>2020-03-24 11:06:31\tINFO\tflagdata::::+\t        basecnt=False,fieldcnt=False,name=\"Summary\",action=\"apply\",display=\"\",\n",
       "<br>2020-03-24 11:06:31\tINFO\tflagdata::::+\t        flagbackup=False,savepars=False,cmdreason=\"\",outfile=\"\",overwrite=True,\n",
       "<br>2020-03-24 11:06:31\tINFO\tflagdata::::+\t        writeflags=True)\n",
       "<br>2020-03-24 11:06:31\tINFO\tAgentFlagger::open\tTable type is Measurement Set\n",
       "<br>2020-03-24 11:06:31\tINFO\tflagdata::::\tManual mode is active\n",
       "<br>2020-03-24 11:06:31\tWARN\tMSSpw Expression parser::MSSpwIndex::convertToChannelIndex (file /usr/local/casa/casacore/ms/MSSel/MSSpwIndex.cc, line 416)\tFound no matching SPW(s) [0]\n",
       "<br>2020-03-24 11:06:31\tWARN\tMSSpw Expression parser::MSSpwIndex::convertToChannelIndex (file /usr/local/casa/casacore/ms/MSSel/MSSpwIndex.cc, line 416)\tFound no matching SPW(s) [0]\n",
       "<br>2020-03-24 11:06:31\tINFO\tFlagMSHandler::selectData \t Selected spw-channels ids are Axis Lengths: [1, 4]  (NB: Matrix in Row/Column order)\n",
       "<br>2020-03-24 11:06:31\tINFO\tFlagMSHandler::selectData +\t[0, 791, 839, 1]\n",
       "<br>2020-03-24 11:06:31\tINFO\tflagdata::::\tInitializing the agents\n",
       "<br>2020-03-24 11:06:31\tINFO\tManual::setAgentParameters \tautocorr is 0\n",
       "<br>2020-03-24 11:06:31\tWARN\tMSSpw Expression parser::MSSpwIndex::convertToChannelIndex (file /usr/local/casa/casacore/ms/MSSel/MSSpwIndex.cc, line 416)\tFound no matching SPW(s) [0]\n",
       "<br>2020-03-24 11:06:31\tWARN\tMSSpw Expression parser::MSSpwIndex::convertToChannelIndex (file /usr/local/casa/casacore/ms/MSSel/MSSpwIndex.cc, line 416)\tFound no matching SPW(s) [0]\n",
       "<br>2020-03-24 11:06:31\tINFO\tAgentFlagger::initAgents\tThere are 1 valid agents in list\n",
       "<br>2020-03-24 11:06:31\tINFO\tflagdata::::\tRunning the agentflagger tool\n",
       "<br>2020-03-24 11:06:31\tINFO\tFlagMSHandler::\t------------------------------------------------------------------------------------ \n",
       "<br>2020-03-24 11:06:31\tINFO\tFlagMSHandler::\tChunk = 1 [progress: 50%], Observation = 0, Array = 0, Scan = 1, Field = 0 (0408-65), Spw = 0, Channels = 900, Corrs = [ XX YY ], Total Rows = 3129\n",
       "<br>2020-03-24 11:06:31\tINFO\tManual::chunkSummary\t=> Data flagged so far 5.44444%\n",
       "<br>2020-03-24 11:06:31\tINFO\tFlagMSHandler::\t------------------------------------------------------------------------------------ \n",
       "<br>2020-03-24 11:06:31\tINFO\tFlagMSHandler::\tChunk = 2 [progress: 59%], Observation = 0, Array = 0, Scan = 3, Field = 2 (1117-248), Spw = 0, Channels = 900, Corrs = [ XX YY ], Total Rows = 609\n",
       "<br>2020-03-24 11:06:31\tINFO\tManual::chunkSummary\t=> Data flagged so far 5.44444%\n",
       "<br>2020-03-24 11:06:31\tINFO\tFlagMSHandler::\t------------------------------------------------------------------------------------ \n",
       "<br>2020-03-24 11:06:31\tINFO\tFlagMSHandler::\tChunk = 3 [progress: 69%], Observation = 0, Array = 0, Scan = 5, Field = 2 (1117-248), Spw = 0, Channels = 900, Corrs = [ XX YY ], Total Rows = 609\n",
       "<br>2020-03-24 11:06:31\tINFO\tManual::chunkSummary\t=> Data flagged so far 5.44444%\n",
       "<br>2020-03-24 11:06:31\tINFO\tFlagMSHandler::\t------------------------------------------------------------------------------------ \n",
       "<br>2020-03-24 11:06:31\tINFO\tFlagMSHandler::\tChunk = 4 [progress: 79%], Observation = 0, Array = 0, Scan = 7, Field = 2 (1117-248), Spw = 0, Channels = 900, Corrs = [ XX YY ], Total Rows = 630\n",
       "<br>2020-03-24 11:06:31\tINFO\tManual::chunkSummary\t=> Data flagged so far 5.44444%\n",
       "<br>2020-03-24 11:06:31\tINFO\tFlagMSHandler::\t------------------------------------------------------------------------------------ \n",
       "<br>2020-03-24 11:06:31\tINFO\tFlagMSHandler::\tChunk = 5 [progress: 89%], Observation = 0, Array = 0, Scan = 9, Field = 2 (1117-248), Spw = 0, Channels = 900, Corrs = [ XX YY ], Total Rows = 630\n",
       "<br>2020-03-24 11:06:31\tINFO\tManual::chunkSummary\t=> Data flagged so far 5.44444%\n",
       "<br>2020-03-24 11:06:31\tINFO\tFlagMSHandler::\t------------------------------------------------------------------------------------ \n",
       "<br>2020-03-24 11:06:31\tINFO\tFlagMSHandler::\tChunk = 6 [progress: 100%], Observation = 0, Array = 0, Scan = 11, Field = 2 (1117-248), Spw = 0, Channels = 900, Corrs = [ XX YY ], Total Rows = 630\n",
       "<br>2020-03-24 11:06:31\tINFO\tManual::chunkSummary\t=> Data flagged so far 5.44444%\n",
       "<br>2020-03-24 11:06:31\tINFO\tFlagMSHandler::nextChunk \t==================================================================================== \n",
       "<br>2020-03-24 11:06:31\tINFO\tManual::tableSummary\t=> Percentage of data flagged in table selection: 5.44444%\n",
       "<br>2020-03-24 11:06:31\tINFO\tAgentFlagger::run\t=> Writing flags to the MS\n",
       "<br>2020-03-24 11:06:31\tINFO\tflagdata::::\tCASA Version 5.5.0-149  \n",
       "<br>2020-03-24 11:06:31\tINFO\tflagdata::::\t\n",
       "<br>2020-03-24 11:06:31\tINFO\tflagdata::::\t##### End Task: flagdata             #####\n",
       "<br>2020-03-24 11:06:31\tINFO\tflagdata::::+\t##########################################\n",
       "</div>"
      ]
     },
     "metadata": {},
     "output_type": "display_data"
    }
   ],
   "source": [
    "flagdata(vis=msfile,\n",
    "         field='0408-65,1117-248',\n",
    "         mode='manual',\n",
    "         spw='*:856~880MHz,*:1658~1800MHz,*:1420.0~1421.3MHz',\n",
    "         flagbackup=False);"
   ]
  },
  {
   "cell_type": "markdown",
   "metadata": {},
   "source": [
    "### Check for bad antennas\n",
    "Flag antennas based on the (mis)behaviour of their autocorrelations."
   ]
  },
  {
   "cell_type": "code",
   "execution_count": 7,
   "metadata": {
    "scrolled": false
   },
   "outputs": [
    {
     "data": {
      "image/png": "[encoded data removed]",
      "text/plain": [
       "<IPython.core.display.Image object>"
      ]
     },
     "metadata": {},
     "output_type": "display_data"
    },
    {
     "data": {
      "text/plain": [
       "True"
      ]
     },
     "execution_count": 7,
     "metadata": {},
     "output_type": "execute_result"
    },
    {
     "data": {
      "text/html": [
       "<button type=\"button\" class=\"btn btn-info\" data-toggle=\"collapse\" id=\"1585048188_37\" data-target=\"#log1585048188_37\" onclick=\"if ($('#'+this.id).html()=='Show log') {$('#'+this.id).html('Hide log')} else {$('#'+this.id).html('Show log')}; return false\">Show log</button> <div class=\"collapse\" id=\"log1585048188_37\">2020-03-24 11:09:45\tINFO\tplotms::::\t\n",
       "<br>2020-03-24 11:09:45\tINFO\tplotms::::+\t##########################################\n",
       "<br>2020-03-24 11:09:45\tINFO\tplotms::::+\t##### Begin Task: plotms             #####\n",
       "<br>2020-03-24 11:09:45\tINFO\tplotms::::\tplotms(vis=\"ngc3621.ms\",gridrows=1,gridcols=1,rowindex=0,colindex=0,\n",
       "<br>2020-03-24 11:09:45\tINFO\tplotms::::+\t        plotindex=0,xaxis=\"channel\",xdatacolumn=\"\",xframe=\"\",xinterp=\"\",\n",
       "<br>2020-03-24 11:09:45\tINFO\tplotms::::+\t        yaxis=\"phase\",ydatacolumn=\"\",yframe=\"\",yinterp=\"\",yaxislocation=\"\",\n",
       "<br>2020-03-24 11:09:45\tINFO\tplotms::::+\t        selectdata=True,field=\"0408-65\",spw=\"\",timerange=\"\",uvrange=\"\",\n",
       "<br>2020-03-24 11:09:45\tINFO\tplotms::::+\t        antenna=\"\",scan=\"\",correlation=\"YY\",array=\"\",observation=\"\",\n",
       "<br>2020-03-24 11:09:45\tINFO\tplotms::::+\t        intent=\"\",feed=\"\",msselect=\"\",averagedata=True,avgchannel=\"\",\n",
       "<br>2020-03-24 11:09:45\tINFO\tplotms::::+\t        avgtime=\"3300\",avgscan=False,avgfield=False,avgbaseline=False,avgantenna=False,\n",
       "<br>2020-03-24 11:09:45\tINFO\tplotms::::+\t        avgspw=False,scalar=False,transform=True,freqframe=\"\",restfreq=\"\",\n",
       "<br>2020-03-24 11:09:45\tINFO\tplotms::::+\t        veldef=\"RADIO\",shift=[0.0, 0.0],extendflag=False,extcorr=False,extchannel=False,\n",
       "<br>2020-03-24 11:09:45\tINFO\tplotms::::+\t        iteraxis=\"\",xselfscale=False,yselfscale=False,xsharedaxis=False,ysharedaxis=False,\n",
       "<br>2020-03-24 11:09:45\tINFO\tplotms::::+\t        customsymbol=False,symbolshape=\"autoscaling\",symbolsize=2,symbolcolor=\"0000ff\",symbolfill=\"fill\",\n",
       "<br>2020-03-24 11:09:45\tINFO\tplotms::::+\t        symboloutline=False,coloraxis=\"baseline\",customflaggedsymbol=False,flaggedsymbolshape=\"circle\",flaggedsymbolsize=2,\n",
       "<br>2020-03-24 11:09:45\tINFO\tplotms::::+\t        flaggedsymbolcolor=\"ff0000\",flaggedsymbolfill=\"fill\",flaggedsymboloutline=False,xconnector=\"\",timeconnector=False,\n",
       "<br>2020-03-24 11:09:45\tINFO\tplotms::::+\t        plotrange=[],title=\"\",titlefont=0,xlabel=\"\",xaxisfont=0,\n",
       "<br>2020-03-24 11:09:45\tINFO\tplotms::::+\t        ylabel=\"\",yaxisfont=0,showmajorgrid=False,majorwidth=1,majorstyle=\"\",\n",
       "<br>2020-03-24 11:09:45\tINFO\tplotms::::+\t        majorcolor=\"B0B0B0\",showminorgrid=False,minorwidth=1,minorstyle=\"\",minorcolor=\"D0D0D0\",\n",
       "<br>2020-03-24 11:09:45\tINFO\tplotms::::+\t        showlegend=False,legendposition=\"\",plotfile=\"plotms_temp.png\",expformat=\"\",verbose=True,\n",
       "<br>2020-03-24 11:09:45\tINFO\tplotms::::+\t        exprange=\"\",highres=False,dpi=-1,width=-1,height=-1,\n",
       "<br>2020-03-24 11:09:45\tINFO\tplotms::::+\t        overwrite=True,showgui=False,clearplots=True,callib=[''],headeritems=\"\",\n",
       "<br>2020-03-24 11:09:45\tINFO\tplotms::::+\t        showatm=False,showtsky=False)\n",
       "<br>2020-03-24 11:09:47\tINFO\tPlotMS::params_changed\tUpdating: REDRAW, MSDATA, CACHE, AXES, CANVAS, DISPLAY, PAGEHEADER, ITERATION, LOG, PLOTMS_OPTIONS.\n",
       "<br>2020-03-24 11:09:47\tINFO\tPlotMS::load_cache\tClearing the existing plotms cache.\n",
       "<br>2020-03-24 11:09:47\tINFO\tPlotMS::params_changed\tUpdating: REDRAW, MSDATA, CACHE, AXES, CANVAS, DISPLAY, PAGEHEADER, ITERATION, LOG, PLOTMS_OPTIONS.\n",
       "<br>2020-03-24 11:09:47\tINFO\tPlotMS::load_cache\tClearing the existing plotms cache.\n",
       "<br>2020-03-24 11:09:47\tINFO\tPlotMS::load_cache\tSTART     Current memory usage: 2293.08 kilobytes.\n",
       "<br>2020-03-24 11:09:47\tINFO\tPlotMS::load_cache\tPlot Data Transformations:\n",
       "<br>2020-03-24 11:09:47\tINFO\tPlotMS::load_cache+\t Frame      = \n",
       "<br>2020-03-24 11:09:47\tINFO\tPlotMS::load_cache+\t VelDef     = RADIO\n",
       "<br>2020-03-24 11:09:47\tINFO\tPlotMS::load_cache+\t RestFreq   = 0 MHz\n",
       "<br>2020-03-24 11:09:47\tINFO\tPlotMS::load_cache+\t dX         = 0 arcsec\n",
       "<br>2020-03-24 11:09:47\tINFO\tPlotMS::load_cache+\t dY         = 0 arcsec\n",
       "<br>2020-03-24 11:09:47\tINFO\tPlotMS::load_cache+\t formStokes = false\n",
       "<br>2020-03-24 11:09:47\tINFO\tPlotMS::load_cache\tData Averaging: \n",
       "<br>2020-03-24 11:09:47\tINFO\tPlotMS::load_cache+\t Using VECTOR averaging.\n",
       "<br>2020-03-24 11:09:47\tINFO\tPlotMS::load_cache+\t Time: 3300 seconds.  Scan: false;  Field: false\n",
       "<br>2020-03-24 11:09:47\tINFO\tPlotMS::load_cache\tPlot Data Calibration:\n",
       "<br>2020-03-24 11:09:47\tINFO\tPlotMS::load_cache+\t Use Calibration    = 0\n",
       "<br>2020-03-24 11:09:47\tINFO\tPlotMS::load_cache+\t Calibration Library   = \n",
       "<br>2020-03-24 11:09:47\tINFO\tPlotMS::load_cache\tCaching for the new plot: Phase(18):data vs. Channel(5)...\n",
       "<br>2020-03-24 11:09:47\tINFO\tPlotMS::load_cache\tLoading page header cache\n",
       "<br>2020-03-24 11:09:47\tINFO\tPlotMS::load_cache\tData selection will yield a total of 18900 plottable points (flagged and unflagged).\n",
       "<br>2020-03-24 11:09:47\tINFO\tPlotMS::load_cache+\tThe plotms cache will require an estimated 0.000124484 GB of memory (6.58646 bytes/point).\n",
       "<br>2020-03-24 11:09:47\tINFO\tPlotMS::load_cache+\tThis is 0.000763126% of the memory avail. to CASA (16.3124 GB).\n",
       "<br>2020-03-24 11:09:47\tINFO\tPlotMS::load_cache\tLoading chunks......\n",
       "<br>2020-03-24 11:09:48\tINFO\tPlotMS::load_cache\tGenerating the plot mask.\n",
       "<br>2020-03-24 11:09:48\tINFO\tPlotMS::load_cache\trefTime = 2017/04/08/00:00:00.0\n",
       "<br>2020-03-24 11:09:48\tINFO\tPlotMS::load_cache\tFinished loading.\n",
       "<br>2020-03-24 11:09:48\tINFO\tPlotMS::load_cache\tSetting up iteration indexing (if necessary), and calculating plot ranges.\n",
       "<br>2020-03-24 11:09:48\tINFO\tPlotMS::load_cache\tAxes ranges:\n",
       "<br>2020-03-24 11:09:48\tINFO\tPlotMS::load_cache+\tChannel: 0 to 899 (unflagged); ; 0 to 899 (flagged).\n",
       "<br>2020-03-24 11:09:48\tINFO\tPlotMS::load_cache+\tPhase:data: -134.521 to 103.786 (unflagged); -134.88 to 103.511(flagged).\n",
       "<br>2020-03-24 11:09:48\tINFO\tPlotMS::load_cache\tFinished indexing.\n",
       "<br>2020-03-24 11:09:47\tINFO\tPlotMS::load_cache\tEND       Time: +1 seconds.  Memory: +1362.92 kilobytes.\n",
       "<br>2020-03-24 11:09:48\tINFO\tPlotMS::plot\tPlotting 16169 unflagged points.\n",
       "<br>2020-03-24 11:09:48\tINFO\tplotms::::\tPlot file /home/jupyter/MeerKAT-Cookbook/casa/plotms_temp.png\n",
       "<br>2020-03-24 11:09:48\tINFO\tplotms::::\tExporting the plot.\n",
       "<br>2020-03-24 11:09:48\tINFO\tQPExporter::export\tSTART     Current memory usage: 4114.31 kilobytes.\n",
       "<br>2020-03-24 11:09:48\tINFO\tQPExporter::export\tEND       Time: +0 seconds.  Memory: +41.5625 kilobytes.\n",
       "<br>2020-03-24 11:09:48\tINFO\tPlotMS::plot\tExported /home/jupyter/MeerKAT-Cookbook/casa/plotms_temp.png\n",
       "<br>2020-03-24 11:09:48\tINFO\tplotms::::\t##### End Task: plotms               #####\n",
       "<br>2020-03-24 11:09:48\tINFO\tplotms::::+\t##########################################\n",
       "</div>"
      ]
     },
     "metadata": {},
     "output_type": "display_data"
    }
   ],
   "source": [
    "plotms(vis=msfile,\n",
    "       xaxis='channel',\n",
    "       yaxis='phase',\n",
    "       averagedata=True,\n",
    "       avgtime='3300',\n",
    "       correlation='YY',\n",
    "       field=f_cal,\n",
    "       coloraxis='baseline')"
   ]
  },
  {
   "cell_type": "code",
   "execution_count": 8,
   "metadata": {
    "scrolled": false
   },
   "outputs": [
    {
     "data": {
      "image/png": "[encoded data removed]",
      "text/plain": [
       "<IPython.core.display.Image object>"
      ]
     },
     "metadata": {},
     "output_type": "display_data"
    },
    {
     "data": {
      "text/plain": [
       "True"
      ]
     },
     "execution_count": 8,
     "metadata": {},
     "output_type": "execute_result"
    },
    {
     "data": {
      "text/html": [
       "<button type=\"button\" class=\"btn btn-info\" data-toggle=\"collapse\" id=\"1585048720_61\" data-target=\"#log1585048720_61\" onclick=\"if ($('#'+this.id).html()=='Show log') {$('#'+this.id).html('Hide log')} else {$('#'+this.id).html('Show log')}; return false\">Show log</button> <div class=\"collapse\" id=\"log1585048720_61\">2020-03-24 11:18:39\tINFO\tplotms::::\t\n",
       "<br>2020-03-24 11:18:39\tINFO\tplotms::::+\t##########################################\n",
       "<br>2020-03-24 11:18:39\tINFO\tplotms::::+\t##### Begin Task: plotms             #####\n",
       "<br>2020-03-24 11:18:39\tINFO\tplotms::::\tplotms(vis=\"ngc3621.ms\",gridrows=1,gridcols=1,rowindex=0,colindex=0,\n",
       "<br>2020-03-24 11:18:39\tINFO\tplotms::::+\t        plotindex=0,xaxis=\"channel\",xdatacolumn=\"\",xframe=\"\",xinterp=\"\",\n",
       "<br>2020-03-24 11:18:39\tINFO\tplotms::::+\t        yaxis=\"phase\",ydatacolumn=\"\",yframe=\"\",yinterp=\"\",yaxislocation=\"\",\n",
       "<br>2020-03-24 11:18:39\tINFO\tplotms::::+\t        selectdata=True,field=\"0408-65\",spw=\"\",timerange=\"\",uvrange=\"\",\n",
       "<br>2020-03-24 11:18:39\tINFO\tplotms::::+\t        antenna=\"\",scan=\"\",correlation=\"XX\",array=\"\",observation=\"\",\n",
       "<br>2020-03-24 11:18:39\tINFO\tplotms::::+\t        intent=\"\",feed=\"\",msselect=\"\",averagedata=True,avgchannel=\"\",\n",
       "<br>2020-03-24 11:18:39\tINFO\tplotms::::+\t        avgtime=\"3300\",avgscan=False,avgfield=False,avgbaseline=False,avgantenna=False,\n",
       "<br>2020-03-24 11:18:39\tINFO\tplotms::::+\t        avgspw=False,scalar=False,transform=True,freqframe=\"\",restfreq=\"\",\n",
       "<br>2020-03-24 11:18:39\tINFO\tplotms::::+\t        veldef=\"RADIO\",shift=[0.0, 0.0],extendflag=False,extcorr=False,extchannel=False,\n",
       "<br>2020-03-24 11:18:39\tINFO\tplotms::::+\t        iteraxis=\"\",xselfscale=False,yselfscale=False,xsharedaxis=False,ysharedaxis=False,\n",
       "<br>2020-03-24 11:18:39\tINFO\tplotms::::+\t        customsymbol=False,symbolshape=\"autoscaling\",symbolsize=2,symbolcolor=\"0000ff\",symbolfill=\"fill\",\n",
       "<br>2020-03-24 11:18:39\tINFO\tplotms::::+\t        symboloutline=False,coloraxis=\"baseline\",customflaggedsymbol=False,flaggedsymbolshape=\"circle\",flaggedsymbolsize=2,\n",
       "<br>2020-03-24 11:18:39\tINFO\tplotms::::+\t        flaggedsymbolcolor=\"ff0000\",flaggedsymbolfill=\"fill\",flaggedsymboloutline=False,xconnector=\"\",timeconnector=False,\n",
       "<br>2020-03-24 11:18:39\tINFO\tplotms::::+\t        plotrange=[],title=\"\",titlefont=0,xlabel=\"\",xaxisfont=0,\n",
       "<br>2020-03-24 11:18:39\tINFO\tplotms::::+\t        ylabel=\"\",yaxisfont=0,showmajorgrid=False,majorwidth=1,majorstyle=\"\",\n",
       "<br>2020-03-24 11:18:39\tINFO\tplotms::::+\t        majorcolor=\"B0B0B0\",showminorgrid=False,minorwidth=1,minorstyle=\"\",minorcolor=\"D0D0D0\",\n",
       "<br>2020-03-24 11:18:39\tINFO\tplotms::::+\t        showlegend=False,legendposition=\"\",plotfile=\"plotms_temp.png\",expformat=\"\",verbose=True,\n",
       "<br>2020-03-24 11:18:39\tINFO\tplotms::::+\t        exprange=\"\",highres=False,dpi=-1,width=-1,height=-1,\n",
       "<br>2020-03-24 11:18:39\tINFO\tplotms::::+\t        overwrite=True,showgui=False,clearplots=True,callib=[''],headeritems=\"\",\n",
       "<br>2020-03-24 11:18:39\tINFO\tplotms::::+\t        showatm=False,showtsky=False)\n",
       "<br>2020-03-24 11:18:39\tINFO\tPlotMS::params_changed\tUpdating: REDRAW, MSDATA, CACHE, AXES, CANVAS, DISPLAY, PAGEHEADER, ITERATION, LOG, PLOTMS_OPTIONS.\n",
       "<br>2020-03-24 11:18:39\tINFO\tPlotMS::load_cache\tClearing the existing plotms cache.\n",
       "<br>2020-03-24 11:18:39\tINFO\tPlotMS::load_cache\tSTART     Current memory usage: 5591.52 kilobytes.\n",
       "<br>2020-03-24 11:18:39\tINFO\tPlotMS::load_cache\tPlot Data Transformations:\n",
       "<br>2020-03-24 11:18:39\tINFO\tPlotMS::load_cache+\t Frame      = \n",
       "<br>2020-03-24 11:18:39\tINFO\tPlotMS::load_cache+\t VelDef     = RADIO\n",
       "<br>2020-03-24 11:18:39\tINFO\tPlotMS::load_cache+\t RestFreq   = 0 MHz\n",
       "<br>2020-03-24 11:18:39\tINFO\tPlotMS::load_cache+\t dX         = 0 arcsec\n",
       "<br>2020-03-24 11:18:39\tINFO\tPlotMS::load_cache+\t dY         = 0 arcsec\n",
       "<br>2020-03-24 11:18:39\tINFO\tPlotMS::load_cache+\t formStokes = false\n",
       "<br>2020-03-24 11:18:39\tINFO\tPlotMS::load_cache\tData Averaging: \n",
       "<br>2020-03-24 11:18:39\tINFO\tPlotMS::load_cache+\t Using VECTOR averaging.\n",
       "<br>2020-03-24 11:18:39\tINFO\tPlotMS::load_cache+\t Time: 3300 seconds.  Scan: false;  Field: false\n",
       "<br>2020-03-24 11:18:39\tINFO\tPlotMS::load_cache\tPlot Data Calibration:\n",
       "<br>2020-03-24 11:18:39\tINFO\tPlotMS::load_cache+\t Use Calibration    = 0\n",
       "<br>2020-03-24 11:18:39\tINFO\tPlotMS::load_cache+\t Calibration Library   = \n",
       "<br>2020-03-24 11:18:39\tINFO\tPlotMS::load_cache\tCaching for the new plot: Phase(18):data vs. Channel(5)...\n",
       "<br>2020-03-24 11:18:39\tINFO\tPlotMS::load_cache\tLoading page header cache\n",
       "<br>2020-03-24 11:18:40\tINFO\tPlotMS::load_cache\tData selection will yield a total of 18900 plottable points (flagged and unflagged).\n",
       "<br>2020-03-24 11:18:40\tINFO\tPlotMS::load_cache+\tThe plotms cache will require an estimated 0.000124484 GB of memory (6.58646 bytes/point).\n",
       "<br>2020-03-24 11:18:40\tINFO\tPlotMS::load_cache+\tThis is 0.000763126% of the memory avail. to CASA (16.3124 GB).\n",
       "<br>2020-03-24 11:18:40\tINFO\tPlotMS::load_cache\tLoading chunks......\n",
       "<br>2020-03-24 11:18:40\tINFO\tPlotMS::load_cache\tGenerating the plot mask.\n",
       "<br>2020-03-24 11:18:40\tINFO\tPlotMS::load_cache\trefTime = 2017/04/08/00:00:00.0\n",
       "<br>2020-03-24 11:18:40\tINFO\tPlotMS::load_cache\tFinished loading.\n",
       "<br>2020-03-24 11:18:40\tINFO\tPlotMS::load_cache\tSetting up iteration indexing (if necessary), and calculating plot ranges.\n",
       "<br>2020-03-24 11:18:40\tINFO\tPlotMS::load_cache\tAxes ranges:\n",
       "<br>2020-03-24 11:18:40\tINFO\tPlotMS::load_cache+\tChannel: 0 to 899 (unflagged); ; 0 to 899 (flagged).\n",
       "<br>2020-03-24 11:18:40\tINFO\tPlotMS::load_cache+\tPhase:data: -179.911 to 179.799 (unflagged); -178.964 to 179.354(flagged).\n",
       "<br>2020-03-24 11:18:40\tINFO\tPlotMS::load_cache\tFinished indexing.\n",
       "<br>2020-03-24 11:18:39\tINFO\tPlotMS::load_cache\tEND       Time: +0 seconds.  Memory: +163.984 kilobytes.\n",
       "<br>2020-03-24 11:18:40\tINFO\tPlotMS::plot\tPlotting 13616 unflagged points.\n",
       "<br>2020-03-24 11:18:40\tINFO\tplotms::::\tPlot file /home/jupyter/MeerKAT-Cookbook/casa/plotms_temp.png\n",
       "<br>2020-03-24 11:18:40\tINFO\tplotms::::\tExporting the plot.\n",
       "<br>2020-03-24 11:18:40\tINFO\tQPExporter::export\tSTART     Current memory usage: 5892.81 kilobytes.\n",
       "<br>2020-03-24 11:18:40\tINFO\tQPExporter::export\tEND       Time: +0 seconds.  Memory: +1.57812 kilobytes.\n",
       "<br>2020-03-24 11:18:41\tINFO\tPlotMS::plot\tExported /home/jupyter/MeerKAT-Cookbook/casa/plotms_temp.png\n",
       "<br>2020-03-24 11:18:41\tINFO\tplotms::::\t##### End Task: plotms               #####\n",
       "<br>2020-03-24 11:18:41\tINFO\tplotms::::+\t##########################################\n",
       "</div>"
      ]
     },
     "metadata": {},
     "output_type": "display_data"
    }
   ],
   "source": [
    "plotms(vis=msfile,\n",
    "       xaxis='channel',\n",
    "       yaxis='phase',\n",
    "       averagedata=True,\n",
    "       avgtime='3300',\n",
    "       correlation='XX',\n",
    "       field=f_cal,\n",
    "       coloraxis='baseline')"
   ]
  },
  {
   "cell_type": "code",
   "execution_count": 9,
   "metadata": {
    "scrolled": false
   },
   "outputs": [
    {
     "data": {
      "image/png": "[encoded data removed]",
      "text/plain": [
       "<IPython.core.display.Image object>"
      ]
     },
     "metadata": {},
     "output_type": "display_data"
    },
    {
     "data": {
      "text/plain": [
       "True"
      ]
     },
     "execution_count": 9,
     "metadata": {},
     "output_type": "execute_result"
    },
    {
     "data": {
      "text/html": [
       "<button type=\"button\" class=\"btn btn-info\" data-toggle=\"collapse\" id=\"1585048735_79\" data-target=\"#log1585048735_79\" onclick=\"if ($('#'+this.id).html()=='Show log') {$('#'+this.id).html('Hide log')} else {$('#'+this.id).html('Show log')}; return false\">Show log</button> <div class=\"collapse\" id=\"log1585048735_79\">2020-03-24 11:18:54\tINFO\tplotms::::\t\n",
       "<br>2020-03-24 11:18:54\tINFO\tplotms::::+\t##########################################\n",
       "<br>2020-03-24 11:18:54\tINFO\tplotms::::+\t##### Begin Task: plotms             #####\n",
       "<br>2020-03-24 11:18:54\tINFO\tplotms::::\tplotms(vis=\"ngc3621.ms\",gridrows=1,gridcols=1,rowindex=0,colindex=0,\n",
       "<br>2020-03-24 11:18:54\tINFO\tplotms::::+\t        plotindex=0,xaxis=\"channel\",xdatacolumn=\"\",xframe=\"\",xinterp=\"\",\n",
       "<br>2020-03-24 11:18:54\tINFO\tplotms::::+\t        yaxis=\"phase\",ydatacolumn=\"\",yframe=\"\",yinterp=\"\",yaxislocation=\"\",\n",
       "<br>2020-03-24 11:18:54\tINFO\tplotms::::+\t        selectdata=True,field=\"0408-65\",spw=\"\",timerange=\"\",uvrange=\"\",\n",
       "<br>2020-03-24 11:18:54\tINFO\tplotms::::+\t        antenna=\"m022\",scan=\"\",correlation=\"XX\",array=\"\",observation=\"\",\n",
       "<br>2020-03-24 11:18:54\tINFO\tplotms::::+\t        intent=\"\",feed=\"\",msselect=\"\",averagedata=True,avgchannel=\"\",\n",
       "<br>2020-03-24 11:18:54\tINFO\tplotms::::+\t        avgtime=\"3300\",avgscan=False,avgfield=False,avgbaseline=False,avgantenna=False,\n",
       "<br>2020-03-24 11:18:54\tINFO\tplotms::::+\t        avgspw=False,scalar=False,transform=True,freqframe=\"\",restfreq=\"\",\n",
       "<br>2020-03-24 11:18:54\tINFO\tplotms::::+\t        veldef=\"RADIO\",shift=[0.0, 0.0],extendflag=False,extcorr=False,extchannel=False,\n",
       "<br>2020-03-24 11:18:54\tINFO\tplotms::::+\t        iteraxis=\"\",xselfscale=False,yselfscale=False,xsharedaxis=False,ysharedaxis=False,\n",
       "<br>2020-03-24 11:18:54\tINFO\tplotms::::+\t        customsymbol=False,symbolshape=\"autoscaling\",symbolsize=2,symbolcolor=\"0000ff\",symbolfill=\"fill\",\n",
       "<br>2020-03-24 11:18:54\tINFO\tplotms::::+\t        symboloutline=False,coloraxis=\"corr\",customflaggedsymbol=False,flaggedsymbolshape=\"circle\",flaggedsymbolsize=2,\n",
       "<br>2020-03-24 11:18:54\tINFO\tplotms::::+\t        flaggedsymbolcolor=\"ff0000\",flaggedsymbolfill=\"fill\",flaggedsymboloutline=False,xconnector=\"\",timeconnector=False,\n",
       "<br>2020-03-24 11:18:54\tINFO\tplotms::::+\t        plotrange=[0, 0, -180, 180],title=\"\",titlefont=0,xlabel=\"\",xaxisfont=0,\n",
       "<br>2020-03-24 11:18:54\tINFO\tplotms::::+\t        ylabel=\"\",yaxisfont=0,showmajorgrid=False,majorwidth=1,majorstyle=\"\",\n",
       "<br>2020-03-24 11:18:54\tINFO\tplotms::::+\t        majorcolor=\"B0B0B0\",showminorgrid=False,minorwidth=1,minorstyle=\"\",minorcolor=\"D0D0D0\",\n",
       "<br>2020-03-24 11:18:54\tINFO\tplotms::::+\t        showlegend=False,legendposition=\"\",plotfile=\"plotms_temp.png\",expformat=\"\",verbose=True,\n",
       "<br>2020-03-24 11:18:54\tINFO\tplotms::::+\t        exprange=\"\",highres=False,dpi=-1,width=-1,height=-1,\n",
       "<br>2020-03-24 11:18:54\tINFO\tplotms::::+\t        overwrite=True,showgui=False,clearplots=True,callib=[''],headeritems=\"\",\n",
       "<br>2020-03-24 11:18:54\tINFO\tplotms::::+\t        showatm=False,showtsky=False)\n",
       "<br>2020-03-24 11:18:54\tINFO\tPlotMS::params_changed\tUpdating: REDRAW, MSDATA, CACHE, AXES, CANVAS, DISPLAY, PAGEHEADER, ITERATION, LOG, PLOTMS_OPTIONS.\n",
       "<br>2020-03-24 11:18:54\tINFO\tPlotMS::load_cache\tClearing the existing plotms cache.\n",
       "<br>2020-03-24 11:18:54\tINFO\tPlotMS::load_cache\tSTART     Current memory usage: 5609.88 kilobytes.\n",
       "<br>2020-03-24 11:18:54\tINFO\tPlotMS::load_cache\tPlot Data Transformations:\n",
       "<br>2020-03-24 11:18:54\tINFO\tPlotMS::load_cache+\t Frame      = \n",
       "<br>2020-03-24 11:18:54\tINFO\tPlotMS::load_cache+\t VelDef     = RADIO\n",
       "<br>2020-03-24 11:18:54\tINFO\tPlotMS::load_cache+\t RestFreq   = 0 MHz\n",
       "<br>2020-03-24 11:18:54\tINFO\tPlotMS::load_cache+\t dX         = 0 arcsec\n",
       "<br>2020-03-24 11:18:54\tINFO\tPlotMS::load_cache+\t dY         = 0 arcsec\n",
       "<br>2020-03-24 11:18:54\tINFO\tPlotMS::load_cache+\t formStokes = false\n",
       "<br>2020-03-24 11:18:54\tINFO\tPlotMS::load_cache\tData Averaging: \n",
       "<br>2020-03-24 11:18:54\tINFO\tPlotMS::load_cache+\t Using VECTOR averaging.\n",
       "<br>2020-03-24 11:18:54\tINFO\tPlotMS::load_cache+\t Time: 3300 seconds.  Scan: false;  Field: false\n",
       "<br>2020-03-24 11:18:54\tINFO\tPlotMS::load_cache\tPlot Data Calibration:\n",
       "<br>2020-03-24 11:18:54\tINFO\tPlotMS::load_cache+\t Use Calibration    = 0\n",
       "<br>2020-03-24 11:18:54\tINFO\tPlotMS::load_cache+\t Calibration Library   = \n",
       "<br>2020-03-24 11:18:54\tINFO\tPlotMS::load_cache\tCaching for the new plot: Phase(18):data vs. Channel(5)...\n",
       "<br>2020-03-24 11:18:54\tINFO\tPlotMS::load_cache\tLoading page header cache\n",
       "<br>2020-03-24 11:18:55\tINFO\tPlotMS::load_cache\tData selection will yield a total of 4500 plottable points (flagged and unflagged).\n",
       "<br>2020-03-24 11:18:55\tINFO\tPlotMS::load_cache+\tThe plotms cache will require an estimated 3.7892e-05 GB of memory (8.42044 bytes/point).\n",
       "<br>2020-03-24 11:18:55\tINFO\tPlotMS::load_cache+\tThis is 0.00023229% of the memory avail. to CASA (16.3124 GB).\n",
       "<br>2020-03-24 11:18:55\tINFO\tPlotMS::load_cache\tLoading chunks......\n",
       "<br>2020-03-24 11:18:55\tINFO\tPlotMS::load_cache\tGenerating the plot mask.\n",
       "<br>2020-03-24 11:18:55\tINFO\tPlotMS::load_cache\trefTime = 2017/04/08/00:00:00.0\n",
       "<br>2020-03-24 11:18:55\tINFO\tPlotMS::load_cache\tFinished loading.\n",
       "<br>2020-03-24 11:18:55\tINFO\tPlotMS::load_cache\tSetting up iteration indexing (if necessary), and calculating plot ranges.\n",
       "<br>2020-03-24 11:18:55\tINFO\tPlotMS::load_cache\tAxes ranges:\n",
       "<br>2020-03-24 11:18:55\tINFO\tPlotMS::load_cache+\tChannel: 0 to 899 (unflagged); ; 791 to 839 (flagged).\n",
       "<br>2020-03-24 11:18:55\tINFO\tPlotMS::load_cache+\tPhase:data: -179.911 to 179.799 (unflagged); -178.964 to 179.354(flagged).\n",
       "<br>2020-03-24 11:18:55\tINFO\tPlotMS::load_cache\tFinished indexing.\n",
       "<br>2020-03-24 11:18:54\tINFO\tPlotMS::load_cache\tEND       Time: +1 seconds.  Memory: +91.2969 kilobytes.\n",
       "<br>2020-03-24 11:18:55\tINFO\tPlotMS::plot\tPlotting 4255 unflagged points.\n",
       "<br>2020-03-24 11:18:55\tINFO\tplotms::::\tPlot file /home/jupyter/MeerKAT-Cookbook/casa/plotms_temp.png\n",
       "<br>2020-03-24 11:18:56\tINFO\tplotms::::\tExporting the plot.\n",
       "<br>2020-03-24 11:18:56\tINFO\tQPExporter::export\tSTART     Current memory usage: 5838.3 kilobytes.\n",
       "<br>2020-03-24 11:18:56\tINFO\tQPExporter::export\tEND       Time: +0 seconds.  Memory: +1.625 kilobytes.\n",
       "<br>2020-03-24 11:18:56\tINFO\tPlotMS::plot\tExported /home/jupyter/MeerKAT-Cookbook/casa/plotms_temp.png\n",
       "<br>2020-03-24 11:18:56\tINFO\tplotms::::\t##### End Task: plotms               #####\n",
       "<br>2020-03-24 11:18:56\tINFO\tplotms::::+\t##########################################\n",
       "</div>"
      ]
     },
     "metadata": {},
     "output_type": "display_data"
    }
   ],
   "source": [
    "plotms(vis=msfile,\n",
    "       xaxis='channel',\n",
    "       yaxis='phase',\n",
    "       averagedata=True,\n",
    "       avgtime='3300',\n",
    "       correlation='XX',\n",
    "       field=f_cal,\n",
    "       antenna='m022',\n",
    "       coloraxis='corr',\n",
    "       plotrange=[0,0,-180,180])"
   ]
  },
  {
   "cell_type": "code",
   "execution_count": 10,
   "metadata": {
    "scrolled": false
   },
   "outputs": [
    {
     "data": {
      "image/png": "[encoded data removed]",
      "text/plain": [
       "<IPython.core.display.Image object>"
      ]
     },
     "metadata": {},
     "output_type": "display_data"
    },
    {
     "data": {
      "text/plain": [
       "True"
      ]
     },
     "execution_count": 10,
     "metadata": {},
     "output_type": "execute_result"
    },
    {
     "data": {
      "text/html": [
       "<button type=\"button\" class=\"btn btn-info\" data-toggle=\"collapse\" id=\"1585048759_97\" data-target=\"#log1585048759_97\" onclick=\"if ($('#'+this.id).html()=='Show log') {$('#'+this.id).html('Hide log')} else {$('#'+this.id).html('Show log')}; return false\">Show log</button> <div class=\"collapse\" id=\"log1585048759_97\">2020-03-24 11:19:18\tINFO\tplotms::::\t\n",
       "<br>2020-03-24 11:19:18\tINFO\tplotms::::+\t##########################################\n",
       "<br>2020-03-24 11:19:18\tINFO\tplotms::::+\t##### Begin Task: plotms             #####\n",
       "<br>2020-03-24 11:19:18\tINFO\tplotms::::\tplotms(vis=\"ngc3621.ms\",gridrows=1,gridcols=1,rowindex=0,colindex=0,\n",
       "<br>2020-03-24 11:19:18\tINFO\tplotms::::+\t        plotindex=0,xaxis=\"channel\",xdatacolumn=\"\",xframe=\"\",xinterp=\"\",\n",
       "<br>2020-03-24 11:19:18\tINFO\tplotms::::+\t        yaxis=\"phase\",ydatacolumn=\"\",yframe=\"\",yinterp=\"\",yaxislocation=\"\",\n",
       "<br>2020-03-24 11:19:18\tINFO\tplotms::::+\t        selectdata=True,field=\"0408-65\",spw=\"\",timerange=\"\",uvrange=\"\",\n",
       "<br>2020-03-24 11:19:18\tINFO\tplotms::::+\t        antenna=\"!m022\",scan=\"\",correlation=\"XX,YY\",array=\"\",observation=\"\",\n",
       "<br>2020-03-24 11:19:18\tINFO\tplotms::::+\t        intent=\"\",feed=\"\",msselect=\"\",averagedata=True,avgchannel=\"\",\n",
       "<br>2020-03-24 11:19:18\tINFO\tplotms::::+\t        avgtime=\"3300\",avgscan=False,avgfield=False,avgbaseline=False,avgantenna=False,\n",
       "<br>2020-03-24 11:19:18\tINFO\tplotms::::+\t        avgspw=False,scalar=False,transform=True,freqframe=\"\",restfreq=\"\",\n",
       "<br>2020-03-24 11:19:18\tINFO\tplotms::::+\t        veldef=\"RADIO\",shift=[0.0, 0.0],extendflag=False,extcorr=False,extchannel=False,\n",
       "<br>2020-03-24 11:19:18\tINFO\tplotms::::+\t        iteraxis=\"\",xselfscale=False,yselfscale=False,xsharedaxis=False,ysharedaxis=False,\n",
       "<br>2020-03-24 11:19:18\tINFO\tplotms::::+\t        customsymbol=False,symbolshape=\"autoscaling\",symbolsize=2,symbolcolor=\"0000ff\",symbolfill=\"fill\",\n",
       "<br>2020-03-24 11:19:18\tINFO\tplotms::::+\t        symboloutline=False,coloraxis=\"baseline\",customflaggedsymbol=False,flaggedsymbolshape=\"circle\",flaggedsymbolsize=2,\n",
       "<br>2020-03-24 11:19:18\tINFO\tplotms::::+\t        flaggedsymbolcolor=\"ff0000\",flaggedsymbolfill=\"fill\",flaggedsymboloutline=False,xconnector=\"\",timeconnector=False,\n",
       "<br>2020-03-24 11:19:18\tINFO\tplotms::::+\t        plotrange=[0, 0, -180, 180],title=\"\",titlefont=0,xlabel=\"\",xaxisfont=0,\n",
       "<br>2020-03-24 11:19:18\tINFO\tplotms::::+\t        ylabel=\"\",yaxisfont=0,showmajorgrid=False,majorwidth=1,majorstyle=\"\",\n",
       "<br>2020-03-24 11:19:18\tINFO\tplotms::::+\t        majorcolor=\"B0B0B0\",showminorgrid=False,minorwidth=1,minorstyle=\"\",minorcolor=\"D0D0D0\",\n",
       "<br>2020-03-24 11:19:18\tINFO\tplotms::::+\t        showlegend=False,legendposition=\"\",plotfile=\"plotms_temp.png\",expformat=\"\",verbose=True,\n",
       "<br>2020-03-24 11:19:18\tINFO\tplotms::::+\t        exprange=\"\",highres=False,dpi=-1,width=-1,height=-1,\n",
       "<br>2020-03-24 11:19:18\tINFO\tplotms::::+\t        overwrite=True,showgui=False,clearplots=True,callib=[''],headeritems=\"\",\n",
       "<br>2020-03-24 11:19:18\tINFO\tplotms::::+\t        showatm=False,showtsky=False)\n",
       "<br>2020-03-24 11:19:18\tINFO\tPlotMS::params_changed\tUpdating: REDRAW, MSDATA, CACHE, AXES, CANVAS, DISPLAY, PAGEHEADER, ITERATION, LOG, PLOTMS_OPTIONS.\n",
       "<br>2020-03-24 11:19:18\tINFO\tPlotMS::load_cache\tClearing the existing plotms cache.\n",
       "<br>2020-03-24 11:19:18\tINFO\tPlotMS::load_cache\tSTART     Current memory usage: 5638.89 kilobytes.\n",
       "<br>2020-03-24 11:19:18\tINFO\tPlotMS::load_cache\tPlot Data Transformations:\n",
       "<br>2020-03-24 11:19:18\tINFO\tPlotMS::load_cache+\t Frame      = \n",
       "<br>2020-03-24 11:19:18\tINFO\tPlotMS::load_cache+\t VelDef     = RADIO\n",
       "<br>2020-03-24 11:19:18\tINFO\tPlotMS::load_cache+\t RestFreq   = 0 MHz\n",
       "<br>2020-03-24 11:19:18\tINFO\tPlotMS::load_cache+\t dX         = 0 arcsec\n",
       "<br>2020-03-24 11:19:18\tINFO\tPlotMS::load_cache+\t dY         = 0 arcsec\n",
       "<br>2020-03-24 11:19:18\tINFO\tPlotMS::load_cache+\t formStokes = false\n",
       "<br>2020-03-24 11:19:18\tINFO\tPlotMS::load_cache\tData Averaging: \n",
       "<br>2020-03-24 11:19:18\tINFO\tPlotMS::load_cache+\t Using VECTOR averaging.\n",
       "<br>2020-03-24 11:19:18\tINFO\tPlotMS::load_cache+\t Time: 3300 seconds.  Scan: false;  Field: false\n",
       "<br>2020-03-24 11:19:18\tINFO\tPlotMS::load_cache\tPlot Data Calibration:\n",
       "<br>2020-03-24 11:19:18\tINFO\tPlotMS::load_cache+\t Use Calibration    = 0\n",
       "<br>2020-03-24 11:19:18\tINFO\tPlotMS::load_cache+\t Calibration Library   = \n",
       "<br>2020-03-24 11:19:18\tINFO\tPlotMS::load_cache\tCaching for the new plot: Phase(18):data vs. Channel(5)...\n",
       "<br>2020-03-24 11:19:18\tINFO\tPlotMS::load_cache\tLoading page header cache\n",
       "<br>2020-03-24 11:19:19\tINFO\tPlotMS::load_cache\tData selection will yield a total of 28800 plottable points (flagged and unflagged).\n",
       "<br>2020-03-24 11:19:19\tINFO\tPlotMS::load_cache+\tThe plotms cache will require an estimated 0.000183828 GB of memory (6.38292 bytes/point).\n",
       "<br>2020-03-24 11:19:19\tINFO\tPlotMS::load_cache+\tThis is 0.00112692% of the memory avail. to CASA (16.3124 GB).\n",
       "<br>2020-03-24 11:19:19\tINFO\tPlotMS::load_cache\tLoading chunks......\n",
       "<br>2020-03-24 11:19:19\tINFO\tPlotMS::load_cache\tGenerating the plot mask.\n",
       "<br>2020-03-24 11:19:19\tINFO\tPlotMS::load_cache\trefTime = 2017/04/08/00:00:00.0\n",
       "<br>2020-03-24 11:19:19\tINFO\tPlotMS::load_cache\tFinished loading.\n",
       "<br>2020-03-24 11:19:19\tINFO\tPlotMS::load_cache\tSetting up iteration indexing (if necessary), and calculating plot ranges.\n",
       "<br>2020-03-24 11:19:19\tINFO\tPlotMS::load_cache\tAxes ranges:\n",
       "<br>2020-03-24 11:19:19\tINFO\tPlotMS::load_cache+\tChannel: 0 to 899 (unflagged); ; 0 to 899 (flagged).\n",
       "<br>2020-03-24 11:19:19\tINFO\tPlotMS::load_cache+\tPhase:data: -71.1425 to 140.807 (unflagged); -71.6679 to 137.546(flagged).\n",
       "<br>2020-03-24 11:19:19\tINFO\tPlotMS::load_cache\tFinished indexing.\n",
       "<br>2020-03-24 11:19:18\tINFO\tPlotMS::load_cache\tEND       Time: +1 seconds.  Memory: +217.922 kilobytes.\n",
       "<br>2020-03-24 11:19:19\tINFO\tPlotMS::plot\tPlotting 21275 unflagged points.\n",
       "<br>2020-03-24 11:19:19\tINFO\tplotms::::\tPlot file /home/jupyter/MeerKAT-Cookbook/casa/plotms_temp.png\n",
       "<br>2020-03-24 11:19:20\tINFO\tplotms::::\tExporting the plot.\n",
       "<br>2020-03-24 11:19:20\tINFO\tQPExporter::export\tSTART     Current memory usage: 5994.52 kilobytes.\n",
       "<br>2020-03-24 11:19:20\tINFO\tQPExporter::export\tEND       Time: +0 seconds.  Memory: +2.26562 kilobytes.\n",
       "<br>2020-03-24 11:19:20\tINFO\tPlotMS::plot\tExported /home/jupyter/MeerKAT-Cookbook/casa/plotms_temp.png\n",
       "<br>2020-03-24 11:19:20\tINFO\tplotms::::\t##### End Task: plotms               #####\n",
       "<br>2020-03-24 11:19:20\tINFO\tplotms::::+\t##########################################\n",
       "</div>"
      ]
     },
     "metadata": {},
     "output_type": "display_data"
    }
   ],
   "source": [
    "plotms(vis=msfile,\n",
    "       xaxis='channel',\n",
    "       yaxis='phase',\n",
    "       averagedata=True,\n",
    "       avgtime='3300',\n",
    "       correlation='XX,YY',\n",
    "       field=f_cal,\n",
    "       antenna='!m022',\n",
    "       coloraxis='baseline',\n",
    "       plotrange=[0,0,-180,180])"
   ]
  },
  {
   "cell_type": "markdown",
   "metadata": {},
   "source": [
    "### Check all the scans of the primary calibrators\n",
    "Flag based on the autocorrelations."
   ]
  },
  {
   "cell_type": "code",
   "execution_count": 11,
   "metadata": {
    "scrolled": false
   },
   "outputs": [
    {
     "data": {
      "image/png": "[encoded data removed]",
      "text/plain": [
       "<IPython.core.display.Image object>"
      ]
     },
     "metadata": {},
     "output_type": "display_data"
    },
    {
     "data": {
      "text/plain": [
       "True"
      ]
     },
     "execution_count": 11,
     "metadata": {},
     "output_type": "execute_result"
    },
    {
     "data": {
      "text/html": [
       "<button type=\"button\" class=\"btn btn-info\" data-toggle=\"collapse\" id=\"1585048814_83\" data-target=\"#log1585048814_83\" onclick=\"if ($('#'+this.id).html()=='Show log') {$('#'+this.id).html('Hide log')} else {$('#'+this.id).html('Show log')}; return false\">Show log</button> <div class=\"collapse\" id=\"log1585048814_83\">2020-03-24 11:20:13\tINFO\tplotms::::\t\n",
       "<br>2020-03-24 11:20:13\tINFO\tplotms::::+\t##########################################\n",
       "<br>2020-03-24 11:20:13\tINFO\tplotms::::+\t##### Begin Task: plotms             #####\n",
       "<br>2020-03-24 11:20:13\tINFO\tplotms::::\tplotms(vis=\"ngc3621.ms\",gridrows=1,gridcols=1,rowindex=0,colindex=0,\n",
       "<br>2020-03-24 11:20:13\tINFO\tplotms::::+\t        plotindex=0,xaxis=\"freq\",xdatacolumn=\"\",xframe=\"\",xinterp=\"\",\n",
       "<br>2020-03-24 11:20:13\tINFO\tplotms::::+\t        yaxis=\"phase\",ydatacolumn=\"\",yframe=\"\",yinterp=\"\",yaxislocation=\"\",\n",
       "<br>2020-03-24 11:20:13\tINFO\tplotms::::+\t        selectdata=True,field=\"0408-65\",spw=\"\",timerange=\"\",uvrange=\"\",\n",
       "<br>2020-03-24 11:20:13\tINFO\tplotms::::+\t        antenna=\"!m022\",scan=\"1\",correlation=\"XX,YY\",array=\"\",observation=\"\",\n",
       "<br>2020-03-24 11:20:13\tINFO\tplotms::::+\t        intent=\"\",feed=\"\",msselect=\"\",averagedata=True,avgchannel=\"\",\n",
       "<br>2020-03-24 11:20:13\tINFO\tplotms::::+\t        avgtime=\"3300\",avgscan=False,avgfield=False,avgbaseline=True,avgantenna=False,\n",
       "<br>2020-03-24 11:20:13\tINFO\tplotms::::+\t        avgspw=False,scalar=False,transform=True,freqframe=\"\",restfreq=\"\",\n",
       "<br>2020-03-24 11:20:13\tINFO\tplotms::::+\t        veldef=\"RADIO\",shift=[0.0, 0.0],extendflag=False,extcorr=False,extchannel=False,\n",
       "<br>2020-03-24 11:20:13\tINFO\tplotms::::+\t        iteraxis=\"\",xselfscale=False,yselfscale=False,xsharedaxis=False,ysharedaxis=False,\n",
       "<br>2020-03-24 11:20:13\tINFO\tplotms::::+\t        customsymbol=False,symbolshape=\"autoscaling\",symbolsize=2,symbolcolor=\"0000ff\",symbolfill=\"fill\",\n",
       "<br>2020-03-24 11:20:13\tINFO\tplotms::::+\t        symboloutline=False,coloraxis=\"corr\",customflaggedsymbol=False,flaggedsymbolshape=\"circle\",flaggedsymbolsize=2,\n",
       "<br>2020-03-24 11:20:13\tINFO\tplotms::::+\t        flaggedsymbolcolor=\"ff0000\",flaggedsymbolfill=\"fill\",flaggedsymboloutline=False,xconnector=\"\",timeconnector=False,\n",
       "<br>2020-03-24 11:20:13\tINFO\tplotms::::+\t        plotrange=[0, 0, -180, 180],title=\"\",titlefont=0,xlabel=\"\",xaxisfont=0,\n",
       "<br>2020-03-24 11:20:13\tINFO\tplotms::::+\t        ylabel=\"\",yaxisfont=0,showmajorgrid=False,majorwidth=1,majorstyle=\"\",\n",
       "<br>2020-03-24 11:20:13\tINFO\tplotms::::+\t        majorcolor=\"B0B0B0\",showminorgrid=False,minorwidth=1,minorstyle=\"\",minorcolor=\"D0D0D0\",\n",
       "<br>2020-03-24 11:20:13\tINFO\tplotms::::+\t        showlegend=False,legendposition=\"\",plotfile=\"plotms_temp.png\",expformat=\"\",verbose=True,\n",
       "<br>2020-03-24 11:20:13\tINFO\tplotms::::+\t        exprange=\"\",highres=False,dpi=-1,width=-1,height=-1,\n",
       "<br>2020-03-24 11:20:13\tINFO\tplotms::::+\t        overwrite=True,showgui=False,clearplots=True,callib=[''],headeritems=\"\",\n",
       "<br>2020-03-24 11:20:13\tINFO\tplotms::::+\t        showatm=False,showtsky=False)\n",
       "<br>2020-03-24 11:20:13\tINFO\tPlotMS::params_changed\tUpdating: REDRAW, MSDATA, CACHE, AXES, CANVAS, DISPLAY, PAGEHEADER, ITERATION, LOG, PLOTMS_OPTIONS.\n",
       "<br>2020-03-24 11:20:13\tINFO\tPlotMS::load_cache\tClearing the existing plotms cache.\n",
       "<br>2020-03-24 11:20:13\tINFO\tPlotMS::load_cache\tSTART     Current memory usage: 5651.45 kilobytes.\n",
       "<br>2020-03-24 11:20:13\tINFO\tPlotMS::load_cache\tPlot Data Transformations:\n",
       "<br>2020-03-24 11:20:13\tINFO\tPlotMS::load_cache+\t Frame      = \n",
       "<br>2020-03-24 11:20:13\tINFO\tPlotMS::load_cache+\t VelDef     = RADIO\n",
       "<br>2020-03-24 11:20:13\tINFO\tPlotMS::load_cache+\t RestFreq   = 0 MHz\n",
       "<br>2020-03-24 11:20:13\tINFO\tPlotMS::load_cache+\t dX         = 0 arcsec\n",
       "<br>2020-03-24 11:20:13\tINFO\tPlotMS::load_cache+\t dY         = 0 arcsec\n",
       "<br>2020-03-24 11:20:13\tINFO\tPlotMS::load_cache+\t formStokes = false\n",
       "<br>2020-03-24 11:20:13\tINFO\tPlotMS::load_cache\tData Averaging: \n",
       "<br>2020-03-24 11:20:13\tINFO\tPlotMS::load_cache+\t Using VECTOR averaging.\n",
       "<br>2020-03-24 11:20:13\tINFO\tPlotMS::load_cache+\t Time: 3300 seconds.  Scan: false;  Field: false\n",
       "<br>2020-03-24 11:20:13\tINFO\tPlotMS::load_cache+\t All Baselines: true\n",
       "<br>2020-03-24 11:20:13\tINFO\tPlotMS::load_cache\tPlot Data Calibration:\n",
       "<br>2020-03-24 11:20:13\tINFO\tPlotMS::load_cache+\t Use Calibration    = 0\n",
       "<br>2020-03-24 11:20:13\tINFO\tPlotMS::load_cache+\t Calibration Library   = \n",
       "<br>2020-03-24 11:20:13\tINFO\tPlotMS::load_cache\tCaching for the new plot: Phase(18):data vs. Frequency(6)...\n",
       "<br>2020-03-24 11:20:13\tINFO\tPlotMS::load_cache\tLoading page header cache\n",
       "<br>2020-03-24 11:20:14\tINFO\tPlotMS::load_cache\tData selection will yield a total of 28800 plottable points (flagged and unflagged).\n",
       "<br>2020-03-24 11:20:14\tINFO\tPlotMS::load_cache+\tThe plotms cache will require an estimated 0.000183828 GB of memory (6.38292 bytes/point).\n",
       "<br>2020-03-24 11:20:14\tINFO\tPlotMS::load_cache+\tThis is 0.00112692% of the memory avail. to CASA (16.3124 GB).\n",
       "<br>2020-03-24 11:20:14\tINFO\tPlotMS::load_cache\tLoading chunks with averaging.....\n",
       "<br>2020-03-24 11:20:14\tINFO\tPlotMS::load_cache\tGenerating the plot mask.\n",
       "<br>2020-03-24 11:20:14\tINFO\tPlotMS::load_cache\trefTime = 2017/04/08/00:00:00.0\n",
       "<br>2020-03-24 11:20:14\tINFO\tPlotMS::load_cache\tFinished loading.\n",
       "<br>2020-03-24 11:20:14\tINFO\tPlotMS::load_cache\tSetting up iteration indexing (if necessary), and calculating plot ranges.\n",
       "<br>2020-03-24 11:20:14\tINFO\tPlotMS::load_cache\tAxes ranges:\n",
       "<br>2020-03-24 11:20:14\tINFO\tPlotMS::load_cache+\tFrequency: 1.39936 to 1.42284 (unflagged); ; 1.42002 to 1.42128 (flagged).\n",
       "<br>2020-03-24 11:20:14\tINFO\tPlotMS::load_cache+\tPhase:data: 1.43124 to 15.2911 (unflagged); 0.551452 to 1.80394(flagged).\n",
       "<br>2020-03-24 11:20:14\tINFO\tPlotMS::load_cache\tFinished indexing.\n",
       "<br>2020-03-24 11:20:13\tINFO\tPlotMS::load_cache\tEND       Time: +1 seconds.  Memory: +115.484 kilobytes.\n",
       "<br>2020-03-24 11:20:14\tINFO\tPlotMS::plot\tPlotting 1702 unflagged points.\n",
       "<br>2020-03-24 11:20:14\tINFO\tplotms::::\tPlot file /home/jupyter/MeerKAT-Cookbook/casa/plotms_temp.png\n",
       "<br>2020-03-24 11:20:15\tINFO\tplotms::::\tExporting the plot.\n",
       "<br>2020-03-24 11:20:15\tINFO\tQPExporter::export\tSTART     Current memory usage: 5910.58 kilobytes.\n",
       "<br>2020-03-24 11:20:15\tINFO\tQPExporter::export\tEND       Time: +0 seconds.  Memory: +2.14062 kilobytes.\n",
       "<br>2020-03-24 11:20:15\tINFO\tPlotMS::plot\tExported /home/jupyter/MeerKAT-Cookbook/casa/plotms_temp.png\n",
       "<br>2020-03-24 11:20:15\tINFO\tplotms::::\t##### End Task: plotms               #####\n",
       "<br>2020-03-24 11:20:15\tINFO\tplotms::::+\t##########################################\n",
       "</div>"
      ]
     },
     "metadata": {},
     "output_type": "display_data"
    }
   ],
   "source": [
    "plotms(vis=msfile,\n",
    "       xaxis='freq',\n",
    "       yaxis='phase',\n",
    "       correlation='XX,YY',\n",
    "       antenna='!m022',\n",
    "       field=f_cal,\n",
    "       scan='1',\n",
    "       coloraxis='corr',\n",
    "       plotrange=[0,0,-180,180],\n",
    "       averagedata=True,\n",
    "       avgtime='3300',\n",
    "       avgbaseline=True)"
   ]
  },
  {
   "cell_type": "code",
   "execution_count": 12,
   "metadata": {
    "scrolled": false
   },
   "outputs": [
    {
     "data": {
      "image/png": "[encoded data removed]",
      "text/plain": [
       "<IPython.core.display.Image object>"
      ]
     },
     "metadata": {},
     "output_type": "display_data"
    },
    {
     "data": {
      "text/plain": [
       "True"
      ]
     },
     "execution_count": 12,
     "metadata": {},
     "output_type": "execute_result"
    },
    {
     "data": {
      "text/html": [
       "<button type=\"button\" class=\"btn btn-info\" data-toggle=\"collapse\" id=\"1585048841_09\" data-target=\"#log1585048841_09\" onclick=\"if ($('#'+this.id).html()=='Show log') {$('#'+this.id).html('Hide log')} else {$('#'+this.id).html('Show log')}; return false\">Show log</button> <div class=\"collapse\" id=\"log1585048841_09\">2020-03-24 11:20:39\tINFO\tplotms::::\t\n",
       "<br>2020-03-24 11:20:39\tINFO\tplotms::::+\t##########################################\n",
       "<br>2020-03-24 11:20:39\tINFO\tplotms::::+\t##### Begin Task: plotms             #####\n",
       "<br>2020-03-24 11:20:39\tINFO\tplotms::::\tplotms(vis=\"ngc3621.ms\",gridrows=1,gridcols=1,rowindex=0,colindex=0,\n",
       "<br>2020-03-24 11:20:39\tINFO\tplotms::::+\t        plotindex=0,xaxis=\"freq\",xdatacolumn=\"\",xframe=\"\",xinterp=\"\",\n",
       "<br>2020-03-24 11:20:39\tINFO\tplotms::::+\t        yaxis=\"amp\",ydatacolumn=\"\",yframe=\"\",yinterp=\"\",yaxislocation=\"\",\n",
       "<br>2020-03-24 11:20:39\tINFO\tplotms::::+\t        selectdata=True,field=\"0408-65\",spw=\"\",timerange=\"\",uvrange=\"\",\n",
       "<br>2020-03-24 11:20:39\tINFO\tplotms::::+\t        antenna=\"!m022\",scan=\"1\",correlation=\"XX,YY\",array=\"\",observation=\"\",\n",
       "<br>2020-03-24 11:20:39\tINFO\tplotms::::+\t        intent=\"\",feed=\"\",msselect=\"\",averagedata=True,avgchannel=\"\",\n",
       "<br>2020-03-24 11:20:39\tINFO\tplotms::::+\t        avgtime=\"3300\",avgscan=False,avgfield=False,avgbaseline=True,avgantenna=False,\n",
       "<br>2020-03-24 11:20:39\tINFO\tplotms::::+\t        avgspw=False,scalar=False,transform=True,freqframe=\"\",restfreq=\"\",\n",
       "<br>2020-03-24 11:20:39\tINFO\tplotms::::+\t        veldef=\"RADIO\",shift=[0.0, 0.0],extendflag=False,extcorr=False,extchannel=False,\n",
       "<br>2020-03-24 11:20:39\tINFO\tplotms::::+\t        iteraxis=\"\",xselfscale=False,yselfscale=False,xsharedaxis=False,ysharedaxis=False,\n",
       "<br>2020-03-24 11:20:39\tINFO\tplotms::::+\t        customsymbol=False,symbolshape=\"autoscaling\",symbolsize=2,symbolcolor=\"0000ff\",symbolfill=\"fill\",\n",
       "<br>2020-03-24 11:20:39\tINFO\tplotms::::+\t        symboloutline=False,coloraxis=\"corr\",customflaggedsymbol=False,flaggedsymbolshape=\"circle\",flaggedsymbolsize=2,\n",
       "<br>2020-03-24 11:20:39\tINFO\tplotms::::+\t        flaggedsymbolcolor=\"ff0000\",flaggedsymbolfill=\"fill\",flaggedsymboloutline=False,xconnector=\"\",timeconnector=False,\n",
       "<br>2020-03-24 11:20:39\tINFO\tplotms::::+\t        plotrange=[],title=\"\",titlefont=0,xlabel=\"\",xaxisfont=0,\n",
       "<br>2020-03-24 11:20:39\tINFO\tplotms::::+\t        ylabel=\"\",yaxisfont=0,showmajorgrid=False,majorwidth=1,majorstyle=\"\",\n",
       "<br>2020-03-24 11:20:39\tINFO\tplotms::::+\t        majorcolor=\"B0B0B0\",showminorgrid=False,minorwidth=1,minorstyle=\"\",minorcolor=\"D0D0D0\",\n",
       "<br>2020-03-24 11:20:39\tINFO\tplotms::::+\t        showlegend=False,legendposition=\"\",plotfile=\"plotms_temp.png\",expformat=\"\",verbose=True,\n",
       "<br>2020-03-24 11:20:39\tINFO\tplotms::::+\t        exprange=\"\",highres=False,dpi=-1,width=-1,height=-1,\n",
       "<br>2020-03-24 11:20:39\tINFO\tplotms::::+\t        overwrite=True,showgui=False,clearplots=True,callib=[''],headeritems=\"\",\n",
       "<br>2020-03-24 11:20:39\tINFO\tplotms::::+\t        showatm=False,showtsky=False)\n",
       "<br>2020-03-24 11:20:39\tINFO\tPlotMS::params_changed\tUpdating: REDRAW, MSDATA, CACHE, AXES, CANVAS, DISPLAY, PAGEHEADER, ITERATION, LOG, PLOTMS_OPTIONS.\n",
       "<br>2020-03-24 11:20:39\tINFO\tPlotMS::load_cache\tClearing the existing plotms cache.\n",
       "<br>2020-03-24 11:20:39\tINFO\tPlotMS::load_cache\tSTART     Current memory usage: 5725.31 kilobytes.\n",
       "<br>2020-03-24 11:20:39\tINFO\tPlotMS::load_cache\tPlot Data Transformations:\n",
       "<br>2020-03-24 11:20:39\tINFO\tPlotMS::load_cache+\t Frame      = \n",
       "<br>2020-03-24 11:20:39\tINFO\tPlotMS::load_cache+\t VelDef     = RADIO\n",
       "<br>2020-03-24 11:20:39\tINFO\tPlotMS::load_cache+\t RestFreq   = 0 MHz\n",
       "<br>2020-03-24 11:20:39\tINFO\tPlotMS::load_cache+\t dX         = 0 arcsec\n",
       "<br>2020-03-24 11:20:39\tINFO\tPlotMS::load_cache+\t dY         = 0 arcsec\n",
       "<br>2020-03-24 11:20:39\tINFO\tPlotMS::load_cache+\t formStokes = false\n",
       "<br>2020-03-24 11:20:39\tINFO\tPlotMS::load_cache\tData Averaging: \n",
       "<br>2020-03-24 11:20:39\tINFO\tPlotMS::load_cache+\t Using VECTOR averaging.\n",
       "<br>2020-03-24 11:20:39\tINFO\tPlotMS::load_cache+\t Time: 3300 seconds.  Scan: false;  Field: false\n",
       "<br>2020-03-24 11:20:39\tINFO\tPlotMS::load_cache+\t All Baselines: true\n",
       "<br>2020-03-24 11:20:39\tINFO\tPlotMS::load_cache\tPlot Data Calibration:\n",
       "<br>2020-03-24 11:20:39\tINFO\tPlotMS::load_cache+\t Use Calibration    = 0\n",
       "<br>2020-03-24 11:20:39\tINFO\tPlotMS::load_cache+\t Calibration Library   = \n",
       "<br>2020-03-24 11:20:39\tINFO\tPlotMS::load_cache\tCaching for the new plot: Amp(17):data vs. Frequency(6)...\n",
       "<br>2020-03-24 11:20:39\tINFO\tPlotMS::load_cache\tLoading page header cache\n",
       "<br>2020-03-24 11:20:40\tINFO\tPlotMS::load_cache\tData selection will yield a total of 28800 plottable points (flagged and unflagged).\n",
       "<br>2020-03-24 11:20:40\tINFO\tPlotMS::load_cache+\tThe plotms cache will require an estimated 0.000183828 GB of memory (6.38292 bytes/point).\n",
       "<br>2020-03-24 11:20:40\tINFO\tPlotMS::load_cache+\tThis is 0.00112692% of the memory avail. to CASA (16.3124 GB).\n",
       "<br>2020-03-24 11:20:40\tINFO\tPlotMS::load_cache\tLoading chunks with averaging.....\n",
       "<br>2020-03-24 11:20:41\tINFO\tPlotMS::load_cache\tGenerating the plot mask.\n",
       "<br>2020-03-24 11:20:41\tINFO\tPlotMS::load_cache\trefTime = 2017/04/08/00:00:00.0\n",
       "<br>2020-03-24 11:20:41\tINFO\tPlotMS::load_cache\tFinished loading.\n",
       "<br>2020-03-24 11:20:41\tINFO\tPlotMS::load_cache\tSetting up iteration indexing (if necessary), and calculating plot ranges.\n",
       "<br>2020-03-24 11:20:41\tINFO\tPlotMS::load_cache\tAxes ranges:\n",
       "<br>2020-03-24 11:20:41\tINFO\tPlotMS::load_cache+\tFrequency: 1.39936 to 1.42284 (unflagged); ; 1.42002 to 1.42128 (flagged).\n",
       "<br>2020-03-24 11:20:41\tINFO\tPlotMS::load_cache+\tAmp:data: 75.2459 to 243.115 (unflagged); 404.913 to 579.417(flagged).\n",
       "<br>2020-03-24 11:20:41\tINFO\tPlotMS::load_cache\tFinished indexing.\n",
       "<br>2020-03-24 11:20:39\tINFO\tPlotMS::load_cache\tEND       Time: +1 seconds.  Memory: +100.594 kilobytes.\n",
       "<br>2020-03-24 11:20:41\tINFO\tPlotMS::plot\tPlotting 1702 unflagged points.\n",
       "<br>2020-03-24 11:20:41\tINFO\tplotms::::\tPlot file /home/jupyter/MeerKAT-Cookbook/casa/plotms_temp.png\n",
       "<br>2020-03-24 11:20:41\tINFO\tplotms::::\tExporting the plot.\n",
       "<br>2020-03-24 11:20:41\tINFO\tQPExporter::export\tSTART     Current memory usage: 5967.11 kilobytes.\n",
       "<br>2020-03-24 11:20:41\tINFO\tQPExporter::export\tEND       Time: +0 seconds.  Memory: +1.90625 kilobytes.\n",
       "<br>2020-03-24 11:20:41\tINFO\tPlotMS::plot\tExported /home/jupyter/MeerKAT-Cookbook/casa/plotms_temp.png\n",
       "<br>2020-03-24 11:20:41\tINFO\tplotms::::\t##### End Task: plotms               #####\n",
       "<br>2020-03-24 11:20:41\tINFO\tplotms::::+\t##########################################\n",
       "</div>"
      ]
     },
     "metadata": {},
     "output_type": "display_data"
    }
   ],
   "source": [
    "plotms(vis=msfile,\n",
    "       xaxis='freq',\n",
    "       yaxis='amp',\n",
    "       correlation='XX,YY',\n",
    "       antenna='!m022',\n",
    "       scan='1',\n",
    "       field=f_cal,\n",
    "       coloraxis='corr',\n",
    "       averagedata=True,\n",
    "       avgtime='3300',\n",
    "       avgbaseline=True)"
   ]
  },
  {
   "cell_type": "markdown",
   "metadata": {},
   "source": [
    "### Check all the channels and scans for the secondary calibrator"
   ]
  },
  {
   "cell_type": "code",
   "execution_count": 13,
   "metadata": {
    "scrolled": false
   },
   "outputs": [
    {
     "data": {
      "image/png": "[encoded data removed]",
      "text/plain": [
       "<IPython.core.display.Image object>"
      ]
     },
     "metadata": {},
     "output_type": "display_data"
    },
    {
     "data": {
      "text/plain": [
       "True"
      ]
     },
     "execution_count": 13,
     "metadata": {},
     "output_type": "execute_result"
    },
    {
     "data": {
      "text/html": [
       "<button type=\"button\" class=\"btn btn-info\" data-toggle=\"collapse\" id=\"1585051240_01\" data-target=\"#log1585051240_01\" onclick=\"if ($('#'+this.id).html()=='Show log') {$('#'+this.id).html('Hide log')} else {$('#'+this.id).html('Show log')}; return false\">Show log</button> <div class=\"collapse\" id=\"log1585051240_01\">2020-03-24 12:00:38\tINFO\tplotms::::\t\n",
       "<br>2020-03-24 12:00:38\tINFO\tplotms::::+\t##########################################\n",
       "<br>2020-03-24 12:00:38\tINFO\tplotms::::+\t##### Begin Task: plotms             #####\n",
       "<br>2020-03-24 12:00:38\tINFO\tplotms::::\tplotms(vis=\"ngc3621.ms\",gridrows=1,gridcols=1,rowindex=0,colindex=0,\n",
       "<br>2020-03-24 12:00:38\tINFO\tplotms::::+\t        plotindex=0,xaxis=\"channel\",xdatacolumn=\"\",xframe=\"\",xinterp=\"\",\n",
       "<br>2020-03-24 12:00:38\tINFO\tplotms::::+\t        yaxis=\"phase\",ydatacolumn=\"\",yframe=\"\",yinterp=\"\",yaxislocation=\"\",\n",
       "<br>2020-03-24 12:00:38\tINFO\tplotms::::+\t        selectdata=True,field=\"0408-65,1117-248\",spw=\"\",timerange=\"\",uvrange=\"\",\n",
       "<br>2020-03-24 12:00:38\tINFO\tplotms::::+\t        antenna=\"!m022\",scan=\"1,3,5,7,9,11\",correlation=\"XX,YY\",array=\"\",observation=\"\",\n",
       "<br>2020-03-24 12:00:38\tINFO\tplotms::::+\t        intent=\"\",feed=\"\",msselect=\"\",averagedata=True,avgchannel=\"\",\n",
       "<br>2020-03-24 12:00:38\tINFO\tplotms::::+\t        avgtime=\"3300\",avgscan=False,avgfield=False,avgbaseline=True,avgantenna=False,\n",
       "<br>2020-03-24 12:00:38\tINFO\tplotms::::+\t        avgspw=False,scalar=False,transform=True,freqframe=\"\",restfreq=\"\",\n",
       "<br>2020-03-24 12:00:38\tINFO\tplotms::::+\t        veldef=\"RADIO\",shift=[0.0, 0.0],extendflag=False,extcorr=False,extchannel=False,\n",
       "<br>2020-03-24 12:00:38\tINFO\tplotms::::+\t        iteraxis=\"\",xselfscale=False,yselfscale=False,xsharedaxis=False,ysharedaxis=False,\n",
       "<br>2020-03-24 12:00:38\tINFO\tplotms::::+\t        customsymbol=False,symbolshape=\"autoscaling\",symbolsize=2,symbolcolor=\"0000ff\",symbolfill=\"fill\",\n",
       "<br>2020-03-24 12:00:38\tINFO\tplotms::::+\t        symboloutline=False,coloraxis=\"field\",customflaggedsymbol=False,flaggedsymbolshape=\"circle\",flaggedsymbolsize=2,\n",
       "<br>2020-03-24 12:00:38\tINFO\tplotms::::+\t        flaggedsymbolcolor=\"ff0000\",flaggedsymbolfill=\"fill\",flaggedsymboloutline=False,xconnector=\"\",timeconnector=False,\n",
       "<br>2020-03-24 12:00:38\tINFO\tplotms::::+\t        plotrange=[0, 0, -180, 180],title=\"\",titlefont=0,xlabel=\"\",xaxisfont=0,\n",
       "<br>2020-03-24 12:00:38\tINFO\tplotms::::+\t        ylabel=\"\",yaxisfont=0,showmajorgrid=False,majorwidth=1,majorstyle=\"\",\n",
       "<br>2020-03-24 12:00:38\tINFO\tplotms::::+\t        majorcolor=\"B0B0B0\",showminorgrid=False,minorwidth=1,minorstyle=\"\",minorcolor=\"D0D0D0\",\n",
       "<br>2020-03-24 12:00:38\tINFO\tplotms::::+\t        showlegend=False,legendposition=\"\",plotfile=\"plotms_temp.png\",expformat=\"\",verbose=True,\n",
       "<br>2020-03-24 12:00:38\tINFO\tplotms::::+\t        exprange=\"\",highres=False,dpi=-1,width=-1,height=-1,\n",
       "<br>2020-03-24 12:00:38\tINFO\tplotms::::+\t        overwrite=True,showgui=False,clearplots=True,callib=[''],headeritems=\"\",\n",
       "<br>2020-03-24 12:00:38\tINFO\tplotms::::+\t        showatm=False,showtsky=False)\n",
       "<br>2020-03-24 12:00:38\tINFO\tPlotMS::params_changed\tUpdating: REDRAW, MSDATA, CACHE, AXES, CANVAS, DISPLAY, PAGEHEADER, ITERATION, LOG, PLOTMS_OPTIONS.\n",
       "<br>2020-03-24 12:00:38\tINFO\tPlotMS::load_cache\tClearing the existing plotms cache.\n",
       "<br>2020-03-24 12:00:38\tINFO\tPlotMS::load_cache\tSTART     Current memory usage: 5780.44 kilobytes.\n",
       "<br>2020-03-24 12:00:38\tINFO\tPlotMS::load_cache\tPlot Data Transformations:\n",
       "<br>2020-03-24 12:00:38\tINFO\tPlotMS::load_cache+\t Frame      = \n",
       "<br>2020-03-24 12:00:38\tINFO\tPlotMS::load_cache+\t VelDef     = RADIO\n",
       "<br>2020-03-24 12:00:38\tINFO\tPlotMS::load_cache+\t RestFreq   = 0 MHz\n",
       "<br>2020-03-24 12:00:38\tINFO\tPlotMS::load_cache+\t dX         = 0 arcsec\n",
       "<br>2020-03-24 12:00:38\tINFO\tPlotMS::load_cache+\t dY         = 0 arcsec\n",
       "<br>2020-03-24 12:00:38\tINFO\tPlotMS::load_cache+\t formStokes = false\n",
       "<br>2020-03-24 12:00:38\tINFO\tPlotMS::load_cache\tData Averaging: \n",
       "<br>2020-03-24 12:00:38\tINFO\tPlotMS::load_cache+\t Using VECTOR averaging.\n",
       "<br>2020-03-24 12:00:38\tINFO\tPlotMS::load_cache+\t Time: 3300 seconds.  Scan: false;  Field: false\n",
       "<br>2020-03-24 12:00:38\tINFO\tPlotMS::load_cache+\t All Baselines: true\n",
       "<br>2020-03-24 12:00:38\tINFO\tPlotMS::load_cache\tPlot Data Calibration:\n",
       "<br>2020-03-24 12:00:38\tINFO\tPlotMS::load_cache+\t Use Calibration    = 0\n",
       "<br>2020-03-24 12:00:38\tINFO\tPlotMS::load_cache+\t Calibration Library   = \n",
       "<br>2020-03-24 12:00:38\tINFO\tPlotMS::load_cache\tCaching for the new plot: Phase(18):data vs. Channel(5)...\n",
       "<br>2020-03-24 12:00:38\tINFO\tPlotMS::load_cache\tLoading page header cache\n",
       "<br>2020-03-24 12:00:39\tINFO\tPlotMS::load_cache\tData selection will yield a total of 172800 plottable points (flagged and unflagged).\n",
       "<br>2020-03-24 12:00:39\tINFO\tPlotMS::load_cache+\tThe plotms cache will require an estimated 0.00110297 GB of memory (6.38292 bytes/point).\n",
       "<br>2020-03-24 12:00:39\tINFO\tPlotMS::load_cache+\tThis is 0.00676154% of the memory avail. to CASA (16.3124 GB).\n",
       "<br>2020-03-24 12:00:39\tINFO\tPlotMS::load_cache\tLoading chunks with averaging.....\n",
       "<br>2020-03-24 12:00:39\tINFO\tPlotMS::load_cache\tGenerating the plot mask.\n",
       "<br>2020-03-24 12:00:39\tINFO\tPlotMS::load_cache\trefTime = 2017/04/08/00:00:00.0\n",
       "<br>2020-03-24 12:00:39\tINFO\tPlotMS::load_cache\tFinished loading.\n",
       "<br>2020-03-24 12:00:39\tINFO\tPlotMS::load_cache\tSetting up iteration indexing (if necessary), and calculating plot ranges.\n",
       "<br>2020-03-24 12:00:39\tINFO\tPlotMS::load_cache\tAxes ranges:\n",
       "<br>2020-03-24 12:00:39\tINFO\tPlotMS::load_cache+\tChannel: 0 to 899 (unflagged); ; 791 to 839 (flagged).\n",
       "<br>2020-03-24 12:00:39\tINFO\tPlotMS::load_cache+\tPhase:data: -0.0964902 to 15.2911 (unflagged); -0.0419396 to 1.80394(flagged).\n",
       "<br>2020-03-24 12:00:39\tINFO\tPlotMS::load_cache\tFinished indexing.\n",
       "<br>2020-03-24 12:00:38\tINFO\tPlotMS::load_cache\tEND       Time: +1 seconds.  Memory: +430.031 kilobytes.\n",
       "<br>2020-03-24 12:00:39\tINFO\tPlotMS::plot\tPlotting 10212 unflagged points.\n",
       "<br>2020-03-24 12:00:39\tINFO\tplotms::::\tPlot file /home/jupyter/MeerKAT-Cookbook/casa/plotms_temp.png\n",
       "<br>2020-03-24 12:00:40\tINFO\tplotms::::\tExporting the plot.\n",
       "<br>2020-03-24 12:00:40\tINFO\tQPExporter::export\tSTART     Current memory usage: 6349.08 kilobytes.\n",
       "<br>2020-03-24 12:00:40\tINFO\tQPExporter::export\tEND       Time: +0 seconds.  Memory: +1.6875 kilobytes.\n",
       "<br>2020-03-24 12:00:40\tINFO\tPlotMS::plot\tExported /home/jupyter/MeerKAT-Cookbook/casa/plotms_temp.png\n",
       "<br>2020-03-24 12:00:40\tINFO\tplotms::::\t##### End Task: plotms               #####\n",
       "<br>2020-03-24 12:00:40\tINFO\tplotms::::+\t##########################################\n",
       "</div>"
      ]
     },
     "metadata": {},
     "output_type": "display_data"
    }
   ],
   "source": [
    "plotms(vis=msfile,\n",
    "       xaxis='channel',\n",
    "       yaxis='phase',\n",
    "       correlation='XX,YY',\n",
    "       antenna='!m022',\n",
    "       scan='1,3,5,7,9,11',\n",
    "       field=f_cal+','+g_cal,\n",
    "       coloraxis='field',\n",
    "       plotrange=[0,0,-180,180],\n",
    "       averagedata=True,\n",
    "       avgtime='3300',\n",
    "       avgbaseline=True)"
   ]
  },
  {
   "cell_type": "code",
   "execution_count": 14,
   "metadata": {
    "scrolled": false
   },
   "outputs": [
    {
     "data": {
      "image/png": "[encoded data removed]",
      "text/plain": [
       "<IPython.core.display.Image object>"
      ]
     },
     "metadata": {},
     "output_type": "display_data"
    },
    {
     "data": {
      "text/plain": [
       "True"
      ]
     },
     "execution_count": 14,
     "metadata": {},
     "output_type": "execute_result"
    },
    {
     "data": {
      "text/html": [
       "<button type=\"button\" class=\"btn btn-info\" data-toggle=\"collapse\" id=\"1585051268_35\" data-target=\"#log1585051268_35\" onclick=\"if ($('#'+this.id).html()=='Show log') {$('#'+this.id).html('Hide log')} else {$('#'+this.id).html('Show log')}; return false\">Show log</button> <div class=\"collapse\" id=\"log1585051268_35\">2020-03-24 12:01:06\tINFO\tplotms::::\t\n",
       "<br>2020-03-24 12:01:06\tINFO\tplotms::::+\t##########################################\n",
       "<br>2020-03-24 12:01:06\tINFO\tplotms::::+\t##### Begin Task: plotms             #####\n",
       "<br>2020-03-24 12:01:06\tINFO\tplotms::::\tplotms(vis=\"ngc3621.ms\",gridrows=1,gridcols=1,rowindex=0,colindex=0,\n",
       "<br>2020-03-24 12:01:06\tINFO\tplotms::::+\t        plotindex=0,xaxis=\"channel\",xdatacolumn=\"\",xframe=\"\",xinterp=\"\",\n",
       "<br>2020-03-24 12:01:06\tINFO\tplotms::::+\t        yaxis=\"amp\",ydatacolumn=\"\",yframe=\"\",yinterp=\"\",yaxislocation=\"\",\n",
       "<br>2020-03-24 12:01:06\tINFO\tplotms::::+\t        selectdata=True,field=\"0408-65,1117-248\",spw=\"\",timerange=\"\",uvrange=\"\",\n",
       "<br>2020-03-24 12:01:06\tINFO\tplotms::::+\t        antenna=\"!m022\",scan=\"1,3,5,7,9,11\",correlation=\"XX,YY\",array=\"\",observation=\"\",\n",
       "<br>2020-03-24 12:01:06\tINFO\tplotms::::+\t        intent=\"\",feed=\"\",msselect=\"\",averagedata=True,avgchannel=\"\",\n",
       "<br>2020-03-24 12:01:06\tINFO\tplotms::::+\t        avgtime=\"3300\",avgscan=False,avgfield=False,avgbaseline=True,avgantenna=False,\n",
       "<br>2020-03-24 12:01:06\tINFO\tplotms::::+\t        avgspw=False,scalar=False,transform=True,freqframe=\"\",restfreq=\"\",\n",
       "<br>2020-03-24 12:01:06\tINFO\tplotms::::+\t        veldef=\"RADIO\",shift=[0.0, 0.0],extendflag=False,extcorr=False,extchannel=False,\n",
       "<br>2020-03-24 12:01:06\tINFO\tplotms::::+\t        iteraxis=\"\",xselfscale=False,yselfscale=False,xsharedaxis=False,ysharedaxis=False,\n",
       "<br>2020-03-24 12:01:06\tINFO\tplotms::::+\t        customsymbol=False,symbolshape=\"autoscaling\",symbolsize=2,symbolcolor=\"0000ff\",symbolfill=\"fill\",\n",
       "<br>2020-03-24 12:01:06\tINFO\tplotms::::+\t        symboloutline=False,coloraxis=\"field\",customflaggedsymbol=False,flaggedsymbolshape=\"circle\",flaggedsymbolsize=2,\n",
       "<br>2020-03-24 12:01:06\tINFO\tplotms::::+\t        flaggedsymbolcolor=\"ff0000\",flaggedsymbolfill=\"fill\",flaggedsymboloutline=False,xconnector=\"\",timeconnector=False,\n",
       "<br>2020-03-24 12:01:06\tINFO\tplotms::::+\t        plotrange=[],title=\"\",titlefont=0,xlabel=\"\",xaxisfont=0,\n",
       "<br>2020-03-24 12:01:06\tINFO\tplotms::::+\t        ylabel=\"\",yaxisfont=0,showmajorgrid=False,majorwidth=1,majorstyle=\"\",\n",
       "<br>2020-03-24 12:01:06\tINFO\tplotms::::+\t        majorcolor=\"B0B0B0\",showminorgrid=False,minorwidth=1,minorstyle=\"\",minorcolor=\"D0D0D0\",\n",
       "<br>2020-03-24 12:01:06\tINFO\tplotms::::+\t        showlegend=False,legendposition=\"\",plotfile=\"plotms_temp.png\",expformat=\"\",verbose=True,\n",
       "<br>2020-03-24 12:01:06\tINFO\tplotms::::+\t        exprange=\"\",highres=False,dpi=-1,width=-1,height=-1,\n",
       "<br>2020-03-24 12:01:06\tINFO\tplotms::::+\t        overwrite=True,showgui=False,clearplots=True,callib=[''],headeritems=\"\",\n",
       "<br>2020-03-24 12:01:06\tINFO\tplotms::::+\t        showatm=False,showtsky=False)\n",
       "<br>2020-03-24 12:01:06\tINFO\tPlotMS::params_changed\tUpdating: REDRAW, MSDATA, CACHE, AXES, CANVAS, DISPLAY, PAGEHEADER, ITERATION, LOG, PLOTMS_OPTIONS.\n",
       "<br>2020-03-24 12:01:06\tINFO\tPlotMS::load_cache\tClearing the existing plotms cache.\n",
       "<br>2020-03-24 12:01:06\tINFO\tPlotMS::load_cache\tSTART     Current memory usage: 6035.64 kilobytes.\n",
       "<br>2020-03-24 12:01:06\tINFO\tPlotMS::load_cache\tPlot Data Transformations:\n",
       "<br>2020-03-24 12:01:06\tINFO\tPlotMS::load_cache+\t Frame      = \n",
       "<br>2020-03-24 12:01:06\tINFO\tPlotMS::load_cache+\t VelDef     = RADIO\n",
       "<br>2020-03-24 12:01:06\tINFO\tPlotMS::load_cache+\t RestFreq   = 0 MHz\n",
       "<br>2020-03-24 12:01:06\tINFO\tPlotMS::load_cache+\t dX         = 0 arcsec\n",
       "<br>2020-03-24 12:01:06\tINFO\tPlotMS::load_cache+\t dY         = 0 arcsec\n",
       "<br>2020-03-24 12:01:06\tINFO\tPlotMS::load_cache+\t formStokes = false\n",
       "<br>2020-03-24 12:01:06\tINFO\tPlotMS::load_cache\tData Averaging: \n",
       "<br>2020-03-24 12:01:06\tINFO\tPlotMS::load_cache+\t Using VECTOR averaging.\n",
       "<br>2020-03-24 12:01:06\tINFO\tPlotMS::load_cache+\t Time: 3300 seconds.  Scan: false;  Field: false\n",
       "<br>2020-03-24 12:01:06\tINFO\tPlotMS::load_cache+\t All Baselines: true\n",
       "<br>2020-03-24 12:01:06\tINFO\tPlotMS::load_cache\tPlot Data Calibration:\n",
       "<br>2020-03-24 12:01:06\tINFO\tPlotMS::load_cache+\t Use Calibration    = 0\n",
       "<br>2020-03-24 12:01:06\tINFO\tPlotMS::load_cache+\t Calibration Library   = \n",
       "<br>2020-03-24 12:01:06\tINFO\tPlotMS::load_cache\tCaching for the new plot: Amp(17):data vs. Channel(5)...\n",
       "<br>2020-03-24 12:01:06\tINFO\tPlotMS::load_cache\tLoading page header cache\n",
       "<br>2020-03-24 12:01:07\tINFO\tPlotMS::load_cache\tData selection will yield a total of 172800 plottable points (flagged and unflagged).\n",
       "<br>2020-03-24 12:01:07\tINFO\tPlotMS::load_cache+\tThe plotms cache will require an estimated 0.00110297 GB of memory (6.38292 bytes/point).\n",
       "<br>2020-03-24 12:01:07\tINFO\tPlotMS::load_cache+\tThis is 0.00676154% of the memory avail. to CASA (16.3124 GB).\n",
       "<br>2020-03-24 12:01:07\tINFO\tPlotMS::load_cache\tLoading chunks with averaging.....\n",
       "<br>2020-03-24 12:01:08\tINFO\tPlotMS::load_cache\tGenerating the plot mask.\n",
       "<br>2020-03-24 12:01:08\tINFO\tPlotMS::load_cache\trefTime = 2017/04/08/00:00:00.0\n",
       "<br>2020-03-24 12:01:08\tINFO\tPlotMS::load_cache\tFinished loading.\n",
       "<br>2020-03-24 12:01:08\tINFO\tPlotMS::load_cache\tSetting up iteration indexing (if necessary), and calculating plot ranges.\n",
       "<br>2020-03-24 12:01:08\tINFO\tPlotMS::load_cache\tAxes ranges:\n",
       "<br>2020-03-24 12:01:08\tINFO\tPlotMS::load_cache+\tChannel: 0 to 899 (unflagged); ; 791 to 839 (flagged).\n",
       "<br>2020-03-24 12:01:08\tINFO\tPlotMS::load_cache+\tAmp:data: 74.9559 to 249.106 (unflagged); 404.913 to 749.685(flagged).\n",
       "<br>2020-03-24 12:01:08\tINFO\tPlotMS::load_cache\tFinished indexing.\n",
       "<br>2020-03-24 12:01:06\tINFO\tPlotMS::load_cache\tEND       Time: +1 seconds.  Memory: +430.766 kilobytes.\n",
       "<br>2020-03-24 12:01:08\tINFO\tPlotMS::plot\tPlotting 10212 unflagged points.\n",
       "<br>2020-03-24 12:01:08\tINFO\tplotms::::\tPlot file /home/jupyter/MeerKAT-Cookbook/casa/plotms_temp.png\n",
       "<br>2020-03-24 12:01:08\tINFO\tplotms::::\tExporting the plot.\n",
       "<br>2020-03-24 12:01:08\tINFO\tQPExporter::export\tSTART     Current memory usage: 6612.58 kilobytes.\n",
       "<br>2020-03-24 12:01:08\tINFO\tQPExporter::export\tEND       Time: +0 seconds.  Memory: +1.39062 kilobytes.\n",
       "<br>2020-03-24 12:01:08\tINFO\tPlotMS::plot\tExported /home/jupyter/MeerKAT-Cookbook/casa/plotms_temp.png\n",
       "<br>2020-03-24 12:01:08\tINFO\tplotms::::\t##### End Task: plotms               #####\n",
       "<br>2020-03-24 12:01:08\tINFO\tplotms::::+\t##########################################\n",
       "</div>"
      ]
     },
     "metadata": {},
     "output_type": "display_data"
    }
   ],
   "source": [
    "plotms(vis=msfile,\n",
    "       xaxis='channel',\n",
    "       yaxis='amp',\n",
    "       correlation='XX,YY',\n",
    "       antenna='!m022',\n",
    "       scan='1,3,5,7,9,11',\n",
    "       field=f_cal+','+g_cal,\n",
    "       coloraxis='field',\n",
    "       averagedata=True,\n",
    "       avgtime='3300',\n",
    "       avgbaseline=True)"
   ]
  },
  {
   "cell_type": "code",
   "execution_count": 15,
   "metadata": {
    "scrolled": false
   },
   "outputs": [
    {
     "data": {
      "image/png": "[encoded data removed]",
      "text/plain": [
       "<IPython.core.display.Image object>"
      ]
     },
     "metadata": {},
     "output_type": "display_data"
    },
    {
     "data": {
      "text/plain": [
       "True"
      ]
     },
     "execution_count": 15,
     "metadata": {},
     "output_type": "execute_result"
    },
    {
     "data": {
      "text/html": [
       "<button type=\"button\" class=\"btn btn-info\" data-toggle=\"collapse\" id=\"1585051321_66\" data-target=\"#log1585051321_66\" onclick=\"if ($('#'+this.id).html()=='Show log') {$('#'+this.id).html('Hide log')} else {$('#'+this.id).html('Show log')}; return false\">Show log</button> <div class=\"collapse\" id=\"log1585051321_66\">2020-03-24 12:02:00\tINFO\tplotms::::\t\n",
       "<br>2020-03-24 12:02:00\tINFO\tplotms::::+\t##########################################\n",
       "<br>2020-03-24 12:02:00\tINFO\tplotms::::+\t##### Begin Task: plotms             #####\n",
       "<br>2020-03-24 12:02:00\tINFO\tplotms::::\tplotms(vis=\"ngc3621.ms\",gridrows=1,gridcols=1,rowindex=0,colindex=0,\n",
       "<br>2020-03-24 12:02:00\tINFO\tplotms::::+\t        plotindex=0,xaxis=\"channel\",xdatacolumn=\"\",xframe=\"\",xinterp=\"\",\n",
       "<br>2020-03-24 12:02:00\tINFO\tplotms::::+\t        yaxis=\"phase\",ydatacolumn=\"\",yframe=\"\",yinterp=\"\",yaxislocation=\"\",\n",
       "<br>2020-03-24 12:02:00\tINFO\tplotms::::+\t        selectdata=True,field=\"1117-248\",spw=\"*:0~780;820~900\",timerange=\"\",uvrange=\"\",\n",
       "<br>2020-03-24 12:02:00\tINFO\tplotms::::+\t        antenna=\"!m022\",scan=\"3,5,7,9,11\",correlation=\"XX,YY\",array=\"\",observation=\"\",\n",
       "<br>2020-03-24 12:02:00\tINFO\tplotms::::+\t        intent=\"\",feed=\"\",msselect=\"\",averagedata=True,avgchannel=\"\",\n",
       "<br>2020-03-24 12:02:00\tINFO\tplotms::::+\t        avgtime=\"3300\",avgscan=False,avgfield=False,avgbaseline=True,avgantenna=False,\n",
       "<br>2020-03-24 12:02:00\tINFO\tplotms::::+\t        avgspw=False,scalar=False,transform=True,freqframe=\"\",restfreq=\"\",\n",
       "<br>2020-03-24 12:02:00\tINFO\tplotms::::+\t        veldef=\"RADIO\",shift=[0.0, 0.0],extendflag=False,extcorr=False,extchannel=False,\n",
       "<br>2020-03-24 12:02:00\tINFO\tplotms::::+\t        iteraxis=\"\",xselfscale=False,yselfscale=False,xsharedaxis=False,ysharedaxis=False,\n",
       "<br>2020-03-24 12:02:00\tINFO\tplotms::::+\t        customsymbol=False,symbolshape=\"autoscaling\",symbolsize=2,symbolcolor=\"0000ff\",symbolfill=\"fill\",\n",
       "<br>2020-03-24 12:02:00\tINFO\tplotms::::+\t        symboloutline=False,coloraxis=\"corr\",customflaggedsymbol=False,flaggedsymbolshape=\"circle\",flaggedsymbolsize=2,\n",
       "<br>2020-03-24 12:02:00\tINFO\tplotms::::+\t        flaggedsymbolcolor=\"ff0000\",flaggedsymbolfill=\"fill\",flaggedsymboloutline=False,xconnector=\"\",timeconnector=False,\n",
       "<br>2020-03-24 12:02:00\tINFO\tplotms::::+\t        plotrange=[0, 0, -180, 180],title=\"\",titlefont=0,xlabel=\"\",xaxisfont=0,\n",
       "<br>2020-03-24 12:02:00\tINFO\tplotms::::+\t        ylabel=\"\",yaxisfont=0,showmajorgrid=False,majorwidth=1,majorstyle=\"\",\n",
       "<br>2020-03-24 12:02:00\tINFO\tplotms::::+\t        majorcolor=\"B0B0B0\",showminorgrid=False,minorwidth=1,minorstyle=\"\",minorcolor=\"D0D0D0\",\n",
       "<br>2020-03-24 12:02:00\tINFO\tplotms::::+\t        showlegend=False,legendposition=\"\",plotfile=\"plotms_temp.png\",expformat=\"\",verbose=True,\n",
       "<br>2020-03-24 12:02:00\tINFO\tplotms::::+\t        exprange=\"\",highres=False,dpi=-1,width=-1,height=-1,\n",
       "<br>2020-03-24 12:02:00\tINFO\tplotms::::+\t        overwrite=True,showgui=False,clearplots=True,callib=[''],headeritems=\"\",\n",
       "<br>2020-03-24 12:02:00\tINFO\tplotms::::+\t        showatm=False,showtsky=False)\n",
       "<br>2020-03-24 12:02:00\tINFO\tPlotMS::params_changed\tUpdating: REDRAW, MSDATA, CACHE, AXES, CANVAS, DISPLAY, PAGEHEADER, ITERATION, LOG, PLOTMS_OPTIONS.\n",
       "<br>2020-03-24 12:02:00\tINFO\tPlotMS::load_cache\tClearing the existing plotms cache.\n",
       "<br>2020-03-24 12:02:00\tINFO\tPlotMS::load_cache\tSTART     Current memory usage: 6302.86 kilobytes.\n",
       "<br>2020-03-24 12:02:00\tINFO\tPlotMS::load_cache\tPlot Data Transformations:\n",
       "<br>2020-03-24 12:02:00\tINFO\tPlotMS::load_cache+\t Frame      = \n",
       "<br>2020-03-24 12:02:00\tINFO\tPlotMS::load_cache+\t VelDef     = RADIO\n",
       "<br>2020-03-24 12:02:00\tINFO\tPlotMS::load_cache+\t RestFreq   = 0 MHz\n",
       "<br>2020-03-24 12:02:00\tINFO\tPlotMS::load_cache+\t dX         = 0 arcsec\n",
       "<br>2020-03-24 12:02:00\tINFO\tPlotMS::load_cache+\t dY         = 0 arcsec\n",
       "<br>2020-03-24 12:02:00\tINFO\tPlotMS::load_cache+\t formStokes = false\n",
       "<br>2020-03-24 12:02:00\tINFO\tPlotMS::load_cache\tData Averaging: \n",
       "<br>2020-03-24 12:02:00\tINFO\tPlotMS::load_cache+\t Using VECTOR averaging.\n",
       "<br>2020-03-24 12:02:00\tINFO\tPlotMS::load_cache+\t Time: 3300 seconds.  Scan: false;  Field: false\n",
       "<br>2020-03-24 12:02:00\tINFO\tPlotMS::load_cache+\t All Baselines: true\n",
       "<br>2020-03-24 12:02:00\tINFO\tPlotMS::load_cache\tPlot Data Calibration:\n",
       "<br>2020-03-24 12:02:00\tINFO\tPlotMS::load_cache+\t Use Calibration    = 0\n",
       "<br>2020-03-24 12:02:00\tINFO\tPlotMS::load_cache+\t Calibration Library   = \n",
       "<br>2020-03-24 12:02:00\tINFO\tPlotMS::load_cache\tCaching for the new plot: Phase(18):data vs. Channel(5)...\n",
       "<br>2020-03-24 12:02:00\tINFO\tPlotMS::load_cache\tLoading page header cache\n",
       "<br>2020-03-24 12:02:01\tINFO\tPlotMS::load_cache\tData selection will yield a total of 137760 plottable points (flagged and unflagged).\n",
       "<br>2020-03-24 12:02:01\tINFO\tPlotMS::load_cache+\tThe plotms cache will require an estimated 0.00087936 GB of memory (6.38328 bytes/point).\n",
       "<br>2020-03-24 12:02:01\tINFO\tPlotMS::load_cache+\tThis is 0.00539075% of the memory avail. to CASA (16.3124 GB).\n",
       "<br>2020-03-24 12:02:01\tINFO\tPlotMS::load_cache\tLoading chunks with averaging.....\n",
       "<br>2020-03-24 12:02:01\tINFO\tPlotMS::load_cache\tGenerating the plot mask.\n",
       "<br>2020-03-24 12:02:01\tINFO\tPlotMS::load_cache\trefTime = 2017/04/08/00:00:00.0\n",
       "<br>2020-03-24 12:02:01\tINFO\tPlotMS::load_cache\tFinished loading.\n",
       "<br>2020-03-24 12:02:01\tINFO\tPlotMS::load_cache\tSetting up iteration indexing (if necessary), and calculating plot ranges.\n",
       "<br>2020-03-24 12:02:01\tINFO\tPlotMS::load_cache\tAxes ranges:\n",
       "<br>2020-03-24 12:02:01\tINFO\tPlotMS::load_cache+\tChannel: 0 to 899 (unflagged); ; 820 to 839 (flagged).\n",
       "<br>2020-03-24 12:02:01\tINFO\tPlotMS::load_cache+\tPhase:data: -0.0964902 to 2.60855 (unflagged); -0.0419396 to 0.275679(flagged).\n",
       "<br>2020-03-24 12:02:01\tINFO\tPlotMS::load_cache\tFinished indexing.\n",
       "<br>2020-03-24 12:02:00\tINFO\tPlotMS::load_cache\tEND       Time: +1 seconds.  Memory: +362.75 kilobytes.\n",
       "<br>2020-03-24 12:02:01\tINFO\tPlotMS::plot\tPlotting 8410 unflagged points.\n",
       "<br>2020-03-24 12:02:01\tINFO\tplotms::::\tPlot file /home/jupyter/MeerKAT-Cookbook/casa/plotms_temp.png\n",
       "<br>2020-03-24 12:02:02\tINFO\tplotms::::\tExporting the plot.\n",
       "<br>2020-03-24 12:02:02\tINFO\tQPExporter::export\tSTART     Current memory usage: 6804.44 kilobytes.\n",
       "<br>2020-03-24 12:02:02\tINFO\tQPExporter::export\tEND       Time: +0 seconds.  Memory: +1.89062 kilobytes.\n",
       "<br>2020-03-24 12:02:02\tINFO\tPlotMS::plot\tExported /home/jupyter/MeerKAT-Cookbook/casa/plotms_temp.png\n",
       "<br>2020-03-24 12:02:02\tINFO\tplotms::::\t##### End Task: plotms               #####\n",
       "<br>2020-03-24 12:02:02\tINFO\tplotms::::+\t##########################################\n",
       "</div>"
      ]
     },
     "metadata": {},
     "output_type": "display_data"
    }
   ],
   "source": [
    "plotms(vis=msfile,\n",
    "       xaxis='channel',\n",
    "       yaxis='phase',\n",
    "       correlation='XX,YY',\n",
    "       antenna='!m022',\n",
    "       scan='3,5,7,9,11',\n",
    "       spw='*:0~780;820~900',\n",
    "       field=g_cal,\n",
    "       coloraxis='corr',\n",
    "       plotrange=[0,0,-180,180],\n",
    "       averagedata=True,\n",
    "       avgtime='3300',\n",
    "       avgbaseline=True)"
   ]
  },
  {
   "cell_type": "code",
   "execution_count": 16,
   "metadata": {
    "scrolled": false
   },
   "outputs": [
    {
     "data": {
      "image/png": "[encoded data removed]",
      "text/plain": [
       "<IPython.core.display.Image object>"
      ]
     },
     "metadata": {},
     "output_type": "display_data"
    },
    {
     "data": {
      "text/plain": [
       "True"
      ]
     },
     "execution_count": 16,
     "metadata": {},
     "output_type": "execute_result"
    },
    {
     "data": {
      "text/html": [
       "<button type=\"button\" class=\"btn btn-info\" data-toggle=\"collapse\" id=\"1585051425_88\" data-target=\"#log1585051425_88\" onclick=\"if ($('#'+this.id).html()=='Show log') {$('#'+this.id).html('Hide log')} else {$('#'+this.id).html('Show log')}; return false\">Show log</button> <div class=\"collapse\" id=\"log1585051425_88\">2020-03-24 12:03:44\tINFO\tplotms::::\t\n",
       "<br>2020-03-24 12:03:44\tINFO\tplotms::::+\t##########################################\n",
       "<br>2020-03-24 12:03:44\tINFO\tplotms::::+\t##### Begin Task: plotms             #####\n",
       "<br>2020-03-24 12:03:44\tINFO\tplotms::::\tplotms(vis=\"ngc3621.ms\",gridrows=1,gridcols=1,rowindex=0,colindex=0,\n",
       "<br>2020-03-24 12:03:44\tINFO\tplotms::::+\t        plotindex=0,xaxis=\"channel\",xdatacolumn=\"\",xframe=\"\",xinterp=\"\",\n",
       "<br>2020-03-24 12:03:44\tINFO\tplotms::::+\t        yaxis=\"amp\",ydatacolumn=\"\",yframe=\"\",yinterp=\"\",yaxislocation=\"\",\n",
       "<br>2020-03-24 12:03:44\tINFO\tplotms::::+\t        selectdata=True,field=\"1117-248\",spw=\"*:0~780;820~900\",timerange=\"\",uvrange=\"\",\n",
       "<br>2020-03-24 12:03:44\tINFO\tplotms::::+\t        antenna=\"!m022\",scan=\"3,5,7,9,11\",correlation=\"XX,YY\",array=\"\",observation=\"\",\n",
       "<br>2020-03-24 12:03:44\tINFO\tplotms::::+\t        intent=\"\",feed=\"\",msselect=\"\",averagedata=True,avgchannel=\"\",\n",
       "<br>2020-03-24 12:03:44\tINFO\tplotms::::+\t        avgtime=\"3300\",avgscan=False,avgfield=False,avgbaseline=True,avgantenna=False,\n",
       "<br>2020-03-24 12:03:44\tINFO\tplotms::::+\t        avgspw=False,scalar=False,transform=True,freqframe=\"\",restfreq=\"\",\n",
       "<br>2020-03-24 12:03:44\tINFO\tplotms::::+\t        veldef=\"RADIO\",shift=[0.0, 0.0],extendflag=False,extcorr=False,extchannel=False,\n",
       "<br>2020-03-24 12:03:44\tINFO\tplotms::::+\t        iteraxis=\"\",xselfscale=False,yselfscale=False,xsharedaxis=False,ysharedaxis=False,\n",
       "<br>2020-03-24 12:03:44\tINFO\tplotms::::+\t        customsymbol=False,symbolshape=\"autoscaling\",symbolsize=2,symbolcolor=\"0000ff\",symbolfill=\"fill\",\n",
       "<br>2020-03-24 12:03:44\tINFO\tplotms::::+\t        symboloutline=False,coloraxis=\"corr\",customflaggedsymbol=False,flaggedsymbolshape=\"circle\",flaggedsymbolsize=2,\n",
       "<br>2020-03-24 12:03:44\tINFO\tplotms::::+\t        flaggedsymbolcolor=\"ff0000\",flaggedsymbolfill=\"fill\",flaggedsymboloutline=False,xconnector=\"\",timeconnector=False,\n",
       "<br>2020-03-24 12:03:44\tINFO\tplotms::::+\t        plotrange=[],title=\"\",titlefont=0,xlabel=\"\",xaxisfont=0,\n",
       "<br>2020-03-24 12:03:44\tINFO\tplotms::::+\t        ylabel=\"\",yaxisfont=0,showmajorgrid=False,majorwidth=1,majorstyle=\"\",\n",
       "<br>2020-03-24 12:03:44\tINFO\tplotms::::+\t        majorcolor=\"B0B0B0\",showminorgrid=False,minorwidth=1,minorstyle=\"\",minorcolor=\"D0D0D0\",\n",
       "<br>2020-03-24 12:03:44\tINFO\tplotms::::+\t        showlegend=False,legendposition=\"\",plotfile=\"plotms_temp.png\",expformat=\"\",verbose=True,\n",
       "<br>2020-03-24 12:03:44\tINFO\tplotms::::+\t        exprange=\"\",highres=False,dpi=-1,width=-1,height=-1,\n",
       "<br>2020-03-24 12:03:44\tINFO\tplotms::::+\t        overwrite=True,showgui=False,clearplots=True,callib=[''],headeritems=\"\",\n",
       "<br>2020-03-24 12:03:44\tINFO\tplotms::::+\t        showatm=False,showtsky=False)\n",
       "<br>2020-03-24 12:03:44\tINFO\tPlotMS::params_changed\tUpdating: REDRAW, MSDATA, CACHE, AXES, CANVAS, DISPLAY, PAGEHEADER, ITERATION, LOG, PLOTMS_OPTIONS.\n",
       "<br>2020-03-24 12:03:44\tINFO\tPlotMS::load_cache\tClearing the existing plotms cache.\n",
       "<br>2020-03-24 12:03:44\tINFO\tPlotMS::load_cache\tSTART     Current memory usage: 6518.62 kilobytes.\n",
       "<br>2020-03-24 12:03:44\tINFO\tPlotMS::load_cache\tPlot Data Transformations:\n",
       "<br>2020-03-24 12:03:44\tINFO\tPlotMS::load_cache+\t Frame      = \n",
       "<br>2020-03-24 12:03:44\tINFO\tPlotMS::load_cache+\t VelDef     = RADIO\n",
       "<br>2020-03-24 12:03:44\tINFO\tPlotMS::load_cache+\t RestFreq   = 0 MHz\n",
       "<br>2020-03-24 12:03:44\tINFO\tPlotMS::load_cache+\t dX         = 0 arcsec\n",
       "<br>2020-03-24 12:03:44\tINFO\tPlotMS::load_cache+\t dY         = 0 arcsec\n",
       "<br>2020-03-24 12:03:44\tINFO\tPlotMS::load_cache+\t formStokes = false\n",
       "<br>2020-03-24 12:03:44\tINFO\tPlotMS::load_cache\tData Averaging: \n",
       "<br>2020-03-24 12:03:44\tINFO\tPlotMS::load_cache+\t Using VECTOR averaging.\n",
       "<br>2020-03-24 12:03:44\tINFO\tPlotMS::load_cache+\t Time: 3300 seconds.  Scan: false;  Field: false\n",
       "<br>2020-03-24 12:03:44\tINFO\tPlotMS::load_cache+\t All Baselines: true\n",
       "<br>2020-03-24 12:03:44\tINFO\tPlotMS::load_cache\tPlot Data Calibration:\n",
       "<br>2020-03-24 12:03:44\tINFO\tPlotMS::load_cache+\t Use Calibration    = 0\n",
       "<br>2020-03-24 12:03:44\tINFO\tPlotMS::load_cache+\t Calibration Library   = \n",
       "<br>2020-03-24 12:03:44\tINFO\tPlotMS::load_cache\tCaching for the new plot: Amp(17):data vs. Channel(5)...\n",
       "<br>2020-03-24 12:03:44\tINFO\tPlotMS::load_cache\tLoading page header cache\n",
       "<br>2020-03-24 12:03:45\tINFO\tPlotMS::load_cache\tData selection will yield a total of 137760 plottable points (flagged and unflagged).\n",
       "<br>2020-03-24 12:03:45\tINFO\tPlotMS::load_cache+\tThe plotms cache will require an estimated 0.00087936 GB of memory (6.38328 bytes/point).\n",
       "<br>2020-03-24 12:03:45\tINFO\tPlotMS::load_cache+\tThis is 0.00539075% of the memory avail. to CASA (16.3124 GB).\n",
       "<br>2020-03-24 12:03:45\tINFO\tPlotMS::load_cache\tLoading chunks with averaging.....\n",
       "<br>2020-03-24 12:03:45\tINFO\tPlotMS::load_cache\tGenerating the plot mask.\n",
       "<br>2020-03-24 12:03:45\tINFO\tPlotMS::load_cache\trefTime = 2017/04/08/00:00:00.0\n",
       "<br>2020-03-24 12:03:45\tINFO\tPlotMS::load_cache\tFinished loading.\n",
       "<br>2020-03-24 12:03:45\tINFO\tPlotMS::load_cache\tSetting up iteration indexing (if necessary), and calculating plot ranges.\n",
       "<br>2020-03-24 12:03:45\tINFO\tPlotMS::load_cache\tAxes ranges:\n",
       "<br>2020-03-24 12:03:45\tINFO\tPlotMS::load_cache+\tChannel: 0 to 899 (unflagged); ; 820 to 839 (flagged).\n",
       "<br>2020-03-24 12:03:45\tINFO\tPlotMS::load_cache+\tAmp:data: 74.9559 to 249.106 (unflagged); 415.365 to 491.623(flagged).\n",
       "<br>2020-03-24 12:03:45\tINFO\tPlotMS::load_cache\tFinished indexing.\n",
       "<br>2020-03-24 12:03:44\tINFO\tPlotMS::load_cache\tEND       Time: +1 seconds.  Memory: +362.531 kilobytes.\n",
       "<br>2020-03-24 12:03:45\tINFO\tPlotMS::plot\tPlotting 8410 unflagged points.\n",
       "<br>2020-03-24 12:03:45\tINFO\tplotms::::\tPlot file /home/jupyter/MeerKAT-Cookbook/casa/plotms_temp.png\n",
       "<br>2020-03-24 12:03:46\tINFO\tplotms::::\tExporting the plot.\n",
       "<br>2020-03-24 12:03:46\tINFO\tQPExporter::export\tSTART     Current memory usage: 7019.41 kilobytes.\n",
       "<br>2020-03-24 12:03:46\tINFO\tQPExporter::export\tEND       Time: +0 seconds.  Memory: +1.07812 kilobytes.\n",
       "<br>2020-03-24 12:03:46\tINFO\tPlotMS::plot\tExported /home/jupyter/MeerKAT-Cookbook/casa/plotms_temp.png\n",
       "<br>2020-03-24 12:03:46\tINFO\tplotms::::\t##### End Task: plotms               #####\n",
       "<br>2020-03-24 12:03:46\tINFO\tplotms::::+\t##########################################\n",
       "</div>"
      ]
     },
     "metadata": {},
     "output_type": "display_data"
    }
   ],
   "source": [
    "plotms(vis=msfile,\n",
    "       xaxis='channel',\n",
    "       yaxis='amp',\n",
    "       correlation='XX,YY',\n",
    "       antenna='!m022',\n",
    "       spw='*:0~780;820~900',\n",
    "       scan='3,5,7,9,11',\n",
    "       field=g_cal,\n",
    "       coloraxis='corr',\n",
    "       averagedata=True,\n",
    "       avgtime='3300',\n",
    "       avgbaseline=True)"
   ]
  },
  {
   "cell_type": "code",
   "execution_count": 17,
   "metadata": {
    "scrolled": false
   },
   "outputs": [
    {
     "data": {
      "image/png": "[encoded data removed]",
      "text/plain": [
       "<IPython.core.display.Image object>"
      ]
     },
     "metadata": {},
     "output_type": "display_data"
    },
    {
     "data": {
      "text/plain": [
       "True"
      ]
     },
     "execution_count": 17,
     "metadata": {},
     "output_type": "execute_result"
    },
    {
     "data": {
      "text/html": [
       "<button type=\"button\" class=\"btn btn-info\" data-toggle=\"collapse\" id=\"1585051460_76\" data-target=\"#log1585051460_76\" onclick=\"if ($('#'+this.id).html()=='Show log') {$('#'+this.id).html('Hide log')} else {$('#'+this.id).html('Show log')}; return false\">Show log</button> <div class=\"collapse\" id=\"log1585051460_76\">2020-03-24 12:04:19\tINFO\tplotms::::\t\n",
       "<br>2020-03-24 12:04:19\tINFO\tplotms::::+\t##########################################\n",
       "<br>2020-03-24 12:04:19\tINFO\tplotms::::+\t##### Begin Task: plotms             #####\n",
       "<br>2020-03-24 12:04:19\tINFO\tplotms::::\tplotms(vis=\"ngc3621.ms\",gridrows=1,gridcols=1,rowindex=0,colindex=0,\n",
       "<br>2020-03-24 12:04:19\tINFO\tplotms::::+\t        plotindex=0,xaxis=\"time\",xdatacolumn=\"\",xframe=\"\",xinterp=\"\",\n",
       "<br>2020-03-24 12:04:19\tINFO\tplotms::::+\t        yaxis=\"amp\",ydatacolumn=\"\",yframe=\"\",yinterp=\"\",yaxislocation=\"\",\n",
       "<br>2020-03-24 12:04:19\tINFO\tplotms::::+\t        selectdata=True,field=\"0408-65,1117-248\",spw=\"*:0~780;820~900\",timerange=\"\",uvrange=\"\",\n",
       "<br>2020-03-24 12:04:19\tINFO\tplotms::::+\t        antenna=\"!m022\",scan=\"1,3,5,7,9,11\",correlation=\"XX,YY\",array=\"\",observation=\"\",\n",
       "<br>2020-03-24 12:04:19\tINFO\tplotms::::+\t        intent=\"\",feed=\"\",msselect=\"\",averagedata=True,avgchannel=\"\",\n",
       "<br>2020-03-24 12:04:19\tINFO\tplotms::::+\t        avgtime=\"30\",avgscan=False,avgfield=False,avgbaseline=True,avgantenna=False,\n",
       "<br>2020-03-24 12:04:19\tINFO\tplotms::::+\t        avgspw=False,scalar=False,transform=True,freqframe=\"\",restfreq=\"\",\n",
       "<br>2020-03-24 12:04:19\tINFO\tplotms::::+\t        veldef=\"RADIO\",shift=[0.0, 0.0],extendflag=False,extcorr=False,extchannel=False,\n",
       "<br>2020-03-24 12:04:19\tINFO\tplotms::::+\t        iteraxis=\"\",xselfscale=False,yselfscale=False,xsharedaxis=False,ysharedaxis=False,\n",
       "<br>2020-03-24 12:04:19\tINFO\tplotms::::+\t        customsymbol=False,symbolshape=\"autoscaling\",symbolsize=2,symbolcolor=\"0000ff\",symbolfill=\"fill\",\n",
       "<br>2020-03-24 12:04:19\tINFO\tplotms::::+\t        symboloutline=False,coloraxis=\"corr\",customflaggedsymbol=False,flaggedsymbolshape=\"circle\",flaggedsymbolsize=2,\n",
       "<br>2020-03-24 12:04:19\tINFO\tplotms::::+\t        flaggedsymbolcolor=\"ff0000\",flaggedsymbolfill=\"fill\",flaggedsymboloutline=False,xconnector=\"\",timeconnector=False,\n",
       "<br>2020-03-24 12:04:19\tINFO\tplotms::::+\t        plotrange=[],title=\"\",titlefont=0,xlabel=\"\",xaxisfont=0,\n",
       "<br>2020-03-24 12:04:19\tINFO\tplotms::::+\t        ylabel=\"\",yaxisfont=0,showmajorgrid=False,majorwidth=1,majorstyle=\"\",\n",
       "<br>2020-03-24 12:04:19\tINFO\tplotms::::+\t        majorcolor=\"B0B0B0\",showminorgrid=False,minorwidth=1,minorstyle=\"\",minorcolor=\"D0D0D0\",\n",
       "<br>2020-03-24 12:04:19\tINFO\tplotms::::+\t        showlegend=False,legendposition=\"\",plotfile=\"plotms_temp.png\",expformat=\"\",verbose=True,\n",
       "<br>2020-03-24 12:04:19\tINFO\tplotms::::+\t        exprange=\"\",highres=False,dpi=-1,width=-1,height=-1,\n",
       "<br>2020-03-24 12:04:19\tINFO\tplotms::::+\t        overwrite=True,showgui=False,clearplots=True,callib=[''],headeritems=\"\",\n",
       "<br>2020-03-24 12:04:19\tINFO\tplotms::::+\t        showatm=False,showtsky=False)\n",
       "<br>2020-03-24 12:04:19\tINFO\tPlotMS::params_changed\tUpdating: REDRAW, MSDATA, CACHE, AXES, CANVAS, DISPLAY, PAGEHEADER, ITERATION, LOG, PLOTMS_OPTIONS.\n",
       "<br>2020-03-24 12:04:19\tINFO\tPlotMS::load_cache\tClearing the existing plotms cache.\n",
       "<br>2020-03-24 12:04:19\tINFO\tPlotMS::load_cache\tSTART     Current memory usage: 6735.95 kilobytes.\n",
       "<br>2020-03-24 12:04:19\tINFO\tPlotMS::load_cache\tPlot Data Transformations:\n",
       "<br>2020-03-24 12:04:19\tINFO\tPlotMS::load_cache+\t Frame      = \n",
       "<br>2020-03-24 12:04:19\tINFO\tPlotMS::load_cache+\t VelDef     = RADIO\n",
       "<br>2020-03-24 12:04:19\tINFO\tPlotMS::load_cache+\t RestFreq   = 0 MHz\n",
       "<br>2020-03-24 12:04:19\tINFO\tPlotMS::load_cache+\t dX         = 0 arcsec\n",
       "<br>2020-03-24 12:04:19\tINFO\tPlotMS::load_cache+\t dY         = 0 arcsec\n",
       "<br>2020-03-24 12:04:19\tINFO\tPlotMS::load_cache+\t formStokes = false\n",
       "<br>2020-03-24 12:04:19\tINFO\tPlotMS::load_cache\tData Averaging: \n",
       "<br>2020-03-24 12:04:19\tINFO\tPlotMS::load_cache+\t Using VECTOR averaging.\n",
       "<br>2020-03-24 12:04:19\tINFO\tPlotMS::load_cache+\t Time: 30 seconds.  Scan: false;  Field: false\n",
       "<br>2020-03-24 12:04:19\tINFO\tPlotMS::load_cache+\t All Baselines: true\n",
       "<br>2020-03-24 12:04:19\tINFO\tPlotMS::load_cache\tPlot Data Calibration:\n",
       "<br>2020-03-24 12:04:19\tINFO\tPlotMS::load_cache+\t Use Calibration    = 0\n",
       "<br>2020-03-24 12:04:19\tINFO\tPlotMS::load_cache+\t Calibration Library   = \n",
       "<br>2020-03-24 12:04:19\tINFO\tPlotMS::load_cache\tCaching for the new plot: Amp(17):data vs. Time(2)...\n",
       "<br>2020-03-24 12:04:19\tINFO\tPlotMS::load_cache\tLoading page header cache\n",
       "<br>2020-03-24 12:04:20\tINFO\tPlotMS::load_cache\tData selection will yield a total of 909216 plottable points (flagged and unflagged).\n",
       "<br>2020-03-24 12:04:20\tINFO\tPlotMS::load_cache+\tThe plotms cache will require an estimated 0.00580378 GB of memory (6.38328 bytes/point).\n",
       "<br>2020-03-24 12:04:20\tINFO\tPlotMS::load_cache+\tThis is 0.035579% of the memory avail. to CASA (16.3124 GB).\n",
       "<br>2020-03-24 12:04:20\tINFO\tPlotMS::load_cache\tLoading chunks with averaging.....\n",
       "<br>2020-03-24 12:04:20\tINFO\tPlotMS::load_cache\tGenerating the plot mask.\n",
       "<br>2020-03-24 12:04:20\tINFO\tPlotMS::load_cache\trefTime = 2017/04/08/00:00:00.0\n",
       "<br>2020-03-24 12:04:20\tINFO\tPlotMS::load_cache\tFinished loading.\n",
       "<br>2020-03-24 12:04:20\tINFO\tPlotMS::load_cache\tSetting up iteration indexing (if necessary), and calculating plot ranges.\n",
       "<br>2020-03-24 12:04:20\tINFO\tPlotMS::load_cache\tAxes ranges:\n",
       "<br>2020-03-24 12:04:20\tINFO\tPlotMS::load_cache+\tTime: 4.99838e+09 to 4.99838e+09 (unflagged); ; 4.99838e+09 to 4.99838e+09 (flagged).\n",
       "<br>2020-03-24 12:04:20\tINFO\tPlotMS::load_cache+\tAmp:data: 73.8829 to 249.661 (unflagged); 404.108 to 492.592(flagged).\n",
       "<br>2020-03-24 12:04:20\tINFO\tPlotMS::load_cache\tFinished indexing.\n",
       "<br>2020-03-24 12:04:19\tINFO\tPlotMS::load_cache\tEND       Time: +1 seconds.  Memory: +2172.98 kilobytes.\n",
       "<br>2020-03-24 12:04:20\tINFO\tPlotMS::plot\tPlotting 55506 unflagged points.\n",
       "<br>2020-03-24 12:04:20\tINFO\tplotms::::\tPlot file /home/jupyter/MeerKAT-Cookbook/casa/plotms_temp.png\n",
       "<br>2020-03-24 12:04:21\tINFO\tplotms::::\tExporting the plot.\n",
       "<br>2020-03-24 12:04:21\tINFO\tQPExporter::export\tSTART     Current memory usage: 9060.52 kilobytes.\n",
       "<br>2020-03-24 12:04:21\tINFO\tQPExporter::export\tEND       Time: +0 seconds.  Memory: +2.03125 kilobytes.\n",
       "<br>2020-03-24 12:04:21\tINFO\tPlotMS::plot\tExported /home/jupyter/MeerKAT-Cookbook/casa/plotms_temp.png\n",
       "<br>2020-03-24 12:04:21\tINFO\tplotms::::\t##### End Task: plotms               #####\n",
       "<br>2020-03-24 12:04:21\tINFO\tplotms::::+\t##########################################\n",
       "</div>"
      ]
     },
     "metadata": {},
     "output_type": "display_data"
    }
   ],
   "source": [
    "plotms(vis=msfile,\n",
    "       xaxis='time',\n",
    "       yaxis='amp',\n",
    "       correlation='XX,YY',\n",
    "       antenna='!m022',\n",
    "       spw='*:0~780;820~900',\n",
    "       scan='1,3,5,7,9,11',\n",
    "       field=f_cal+','+g_cal,\n",
    "       coloraxis='corr',\n",
    "       averagedata=True,\n",
    "       avgtime='30',\n",
    "       avgbaseline=True)"
   ]
  },
  {
   "cell_type": "code",
   "execution_count": 18,
   "metadata": {
    "scrolled": false
   },
   "outputs": [
    {
     "data": {
      "image/png": "[encoded data removed]",
      "text/plain": [
       "<IPython.core.display.Image object>"
      ]
     },
     "metadata": {},
     "output_type": "display_data"
    },
    {
     "data": {
      "text/plain": [
       "True"
      ]
     },
     "execution_count": 18,
     "metadata": {},
     "output_type": "execute_result"
    },
    {
     "data": {
      "text/html": [
       "<button type=\"button\" class=\"btn btn-info\" data-toggle=\"collapse\" id=\"1585051637_71\" data-target=\"#log1585051637_71\" onclick=\"if ($('#'+this.id).html()=='Show log') {$('#'+this.id).html('Hide log')} else {$('#'+this.id).html('Show log')}; return false\">Show log</button> <div class=\"collapse\" id=\"log1585051637_71\">2020-03-24 12:07:16\tINFO\tplotms::::\t\n",
       "<br>2020-03-24 12:07:16\tINFO\tplotms::::+\t##########################################\n",
       "<br>2020-03-24 12:07:16\tINFO\tplotms::::+\t##### Begin Task: plotms             #####\n",
       "<br>2020-03-24 12:07:16\tINFO\tplotms::::\tplotms(vis=\"ngc3621.ms\",gridrows=1,gridcols=1,rowindex=0,colindex=0,\n",
       "<br>2020-03-24 12:07:16\tINFO\tplotms::::+\t        plotindex=0,xaxis=\"time\",xdatacolumn=\"\",xframe=\"\",xinterp=\"\",\n",
       "<br>2020-03-24 12:07:16\tINFO\tplotms::::+\t        yaxis=\"phase\",ydatacolumn=\"\",yframe=\"\",yinterp=\"\",yaxislocation=\"\",\n",
       "<br>2020-03-24 12:07:16\tINFO\tplotms::::+\t        selectdata=True,field=\"0408-65,1117-248\",spw=\"*:2550\",timerange=\"\",uvrange=\"\",\n",
       "<br>2020-03-24 12:07:16\tINFO\tplotms::::+\t        antenna=\"\",scan=\"\",correlation=\"XX,YY\",array=\"\",observation=\"\",\n",
       "<br>2020-03-24 12:07:16\tINFO\tplotms::::+\t        intent=\"\",feed=\"\",msselect=\"\",averagedata=True,avgchannel=\"\",\n",
       "<br>2020-03-24 12:07:16\tINFO\tplotms::::+\t        avgtime=\"\",avgscan=False,avgfield=False,avgbaseline=False,avgantenna=False,\n",
       "<br>2020-03-24 12:07:16\tINFO\tplotms::::+\t        avgspw=False,scalar=False,transform=True,freqframe=\"\",restfreq=\"\",\n",
       "<br>2020-03-24 12:07:16\tINFO\tplotms::::+\t        veldef=\"RADIO\",shift=[0.0, 0.0],extendflag=False,extcorr=False,extchannel=False,\n",
       "<br>2020-03-24 12:07:16\tINFO\tplotms::::+\t        iteraxis=\"\",xselfscale=False,yselfscale=False,xsharedaxis=False,ysharedaxis=False,\n",
       "<br>2020-03-24 12:07:16\tINFO\tplotms::::+\t        customsymbol=False,symbolshape=\"autoscaling\",symbolsize=2,symbolcolor=\"0000ff\",symbolfill=\"fill\",\n",
       "<br>2020-03-24 12:07:16\tINFO\tplotms::::+\t        symboloutline=False,coloraxis=\"corr\",customflaggedsymbol=False,flaggedsymbolshape=\"circle\",flaggedsymbolsize=2,\n",
       "<br>2020-03-24 12:07:16\tINFO\tplotms::::+\t        flaggedsymbolcolor=\"ff0000\",flaggedsymbolfill=\"fill\",flaggedsymboloutline=False,xconnector=\"\",timeconnector=False,\n",
       "<br>2020-03-24 12:07:16\tINFO\tplotms::::+\t        plotrange=[0, 0, -180, 180],title=\"\",titlefont=0,xlabel=\"\",xaxisfont=0,\n",
       "<br>2020-03-24 12:07:16\tINFO\tplotms::::+\t        ylabel=\"\",yaxisfont=0,showmajorgrid=False,majorwidth=1,majorstyle=\"\",\n",
       "<br>2020-03-24 12:07:16\tINFO\tplotms::::+\t        majorcolor=\"B0B0B0\",showminorgrid=False,minorwidth=1,minorstyle=\"\",minorcolor=\"D0D0D0\",\n",
       "<br>2020-03-24 12:07:16\tINFO\tplotms::::+\t        showlegend=False,legendposition=\"\",plotfile=\"plotms_temp.png\",expformat=\"\",verbose=True,\n",
       "<br>2020-03-24 12:07:16\tINFO\tplotms::::+\t        exprange=\"\",highres=False,dpi=-1,width=-1,height=-1,\n",
       "<br>2020-03-24 12:07:16\tINFO\tplotms::::+\t        overwrite=True,showgui=False,clearplots=True,callib=[''],headeritems=\"\",\n",
       "<br>2020-03-24 12:07:16\tINFO\tplotms::::+\t        showatm=False,showtsky=False)\n",
       "<br>2020-03-24 12:07:16\tINFO\tPlotMS::params_changed\tUpdating: REDRAW, MSDATA, CACHE, AXES, CANVAS, DISPLAY, PAGEHEADER, ITERATION, LOG, PLOTMS_OPTIONS.\n",
       "<br>2020-03-24 12:07:16\tINFO\tPlotMS::load_cache\tClearing the existing plotms cache.\n",
       "<br>2020-03-24 12:07:16\tINFO\tPlotMS::load_cache\tSTART     Current memory usage: 8083.19 kilobytes.\n",
       "<br>2020-03-24 12:07:16\tINFO\tPlotMS::load_cache\tPlot Data Transformations:\n",
       "<br>2020-03-24 12:07:16\tINFO\tPlotMS::load_cache+\t Frame      = \n",
       "<br>2020-03-24 12:07:16\tINFO\tPlotMS::load_cache+\t VelDef     = RADIO\n",
       "<br>2020-03-24 12:07:16\tINFO\tPlotMS::load_cache+\t RestFreq   = 0 MHz\n",
       "<br>2020-03-24 12:07:16\tINFO\tPlotMS::load_cache+\t dX         = 0 arcsec\n",
       "<br>2020-03-24 12:07:16\tINFO\tPlotMS::load_cache+\t dY         = 0 arcsec\n",
       "<br>2020-03-24 12:07:16\tINFO\tPlotMS::load_cache+\t formStokes = false\n",
       "<br>2020-03-24 12:07:16\tINFO\tPlotMS::load_cache\tData Averaging: None.\n",
       "<br>2020-03-24 12:07:16\tINFO\tPlotMS::load_cache\tPlot Data Calibration:\n",
       "<br>2020-03-24 12:07:16\tINFO\tPlotMS::load_cache+\t Use Calibration    = 0\n",
       "<br>2020-03-24 12:07:16\tINFO\tPlotMS::load_cache+\t Calibration Library   = \n",
       "<br>2020-03-24 12:07:16\tINFO\tPlotMS::load_cache\tCaching for the new plot: Phase(18):data vs. Time(2)...\n",
       "<br>2020-03-24 12:07:16\tINFO\tPlotMS::load_cache\tLoading page header cache\n",
       "<br>2020-03-24 12:07:17\tINFO\tPlotMS::load_cache\tData selection will yield a total of 12474 plottable points (flagged and unflagged).\n",
       "<br>2020-03-24 12:07:17\tINFO\tPlotMS::load_cache+\tThe plotms cache will require an estimated 0.000163944 GB of memory (13.1429 bytes/point).\n",
       "<br>2020-03-24 12:07:17\tINFO\tPlotMS::load_cache+\tThis is 0.00100503% of the memory avail. to CASA (16.3124 GB).\n",
       "<br>2020-03-24 12:07:17\tINFO\tPlotMS::load_cache\tLoading chunks......\n",
       "<br>2020-03-24 12:07:17\tINFO\tPlotMS::load_cache\tGenerating the plot mask.\n",
       "<br>2020-03-24 12:07:17\tINFO\tPlotMS::load_cache\trefTime = 2017/04/08/00:00:00.0\n",
       "<br>2020-03-24 12:07:17\tINFO\tPlotMS::load_cache\tFinished loading.\n",
       "<br>2020-03-24 12:07:17\tINFO\tPlotMS::load_cache\tSetting up iteration indexing (if necessary), and calculating plot ranges.\n",
       "<br>2020-03-24 12:07:17\tINFO\tPlotMS::load_cache\tAxes ranges:\n",
       "<br>2020-03-24 12:07:17\tINFO\tPlotMS::load_cache+\tTime: 4.99838e+09 to 4.99838e+09 (unflagged); ; 4.99838e+09 to 4.99838e+09 (flagged).\n",
       "<br>2020-03-24 12:07:17\tINFO\tPlotMS::load_cache+\tPhase:data: -179.871 to 179.947 (unflagged); 0 to 0(flagged).\n",
       "<br>2020-03-24 12:07:17\tINFO\tPlotMS::load_cache\tFinished indexing.\n",
       "<br>2020-03-24 12:07:16\tINFO\tPlotMS::load_cache\tEND       Time: +1 seconds.  Memory: +1554.39 kilobytes.\n",
       "<br>2020-03-24 12:07:17\tINFO\tPlotMS::plot\tPlotting 10395 unflagged points.\n",
       "<br>2020-03-24 12:07:17\tINFO\tplotms::::\tPlot file /home/jupyter/MeerKAT-Cookbook/casa/plotms_temp.png\n",
       "<br>2020-03-24 12:07:18\tINFO\tplotms::::\tExporting the plot.\n",
       "<br>2020-03-24 12:07:18\tINFO\tQPExporter::export\tSTART     Current memory usage: 9782.06 kilobytes.\n",
       "<br>2020-03-24 12:07:18\tINFO\tQPExporter::export\tEND       Time: +0 seconds.  Memory: +4.01562 kilobytes.\n",
       "<br>2020-03-24 12:07:18\tINFO\tPlotMS::plot\tExported /home/jupyter/MeerKAT-Cookbook/casa/plotms_temp.png\n",
       "<br>2020-03-24 12:07:18\tINFO\tplotms::::\t##### End Task: plotms               #####\n",
       "<br>2020-03-24 12:07:18\tINFO\tplotms::::+\t##########################################\n",
       "</div>"
      ]
     },
     "metadata": {},
     "output_type": "display_data"
    }
   ],
   "source": [
    "plotms(vis=msfile,\n",
    "       xaxis='time',\n",
    "       yaxis='phase',\n",
    "       correlation='XX,YY',\n",
    "       field=f_cal+','+g_cal,\n",
    "       spw='*:2550',\n",
    "       coloraxis='corr',\n",
    "       plotrange=[0,0,-180,180])"
   ]
  },
  {
   "cell_type": "code",
   "execution_count": 19,
   "metadata": {
    "scrolled": false
   },
   "outputs": [
    {
     "data": {
      "image/png": "[encoded data removed]",
      "text/plain": [
       "<IPython.core.display.Image object>"
      ]
     },
     "metadata": {},
     "output_type": "display_data"
    },
    {
     "data": {
      "text/plain": [
       "True"
      ]
     },
     "execution_count": 19,
     "metadata": {},
     "output_type": "execute_result"
    },
    {
     "data": {
      "text/html": [
       "<button type=\"button\" class=\"btn btn-info\" data-toggle=\"collapse\" id=\"1585051670_73\" data-target=\"#log1585051670_73\" onclick=\"if ($('#'+this.id).html()=='Show log') {$('#'+this.id).html('Hide log')} else {$('#'+this.id).html('Show log')}; return false\">Show log</button> <div class=\"collapse\" id=\"log1585051670_73\">2020-03-24 12:07:49\tINFO\tplotms::::\t\n",
       "<br>2020-03-24 12:07:49\tINFO\tplotms::::+\t##########################################\n",
       "<br>2020-03-24 12:07:49\tINFO\tplotms::::+\t##### Begin Task: plotms             #####\n",
       "<br>2020-03-24 12:07:49\tINFO\tplotms::::\tplotms(vis=\"ngc3621.ms\",gridrows=1,gridcols=1,rowindex=0,colindex=0,\n",
       "<br>2020-03-24 12:07:49\tINFO\tplotms::::+\t        plotindex=0,xaxis=\"time\",xdatacolumn=\"\",xframe=\"\",xinterp=\"\",\n",
       "<br>2020-03-24 12:07:49\tINFO\tplotms::::+\t        yaxis=\"amp\",ydatacolumn=\"\",yframe=\"\",yinterp=\"\",yaxislocation=\"\",\n",
       "<br>2020-03-24 12:07:49\tINFO\tplotms::::+\t        selectdata=True,field=\"0408-65,1117-248\",spw=\"\",timerange=\"\",uvrange=\"\",\n",
       "<br>2020-03-24 12:07:49\tINFO\tplotms::::+\t        antenna=\"\",scan=\"\",correlation=\"\",array=\"\",observation=\"\",\n",
       "<br>2020-03-24 12:07:49\tINFO\tplotms::::+\t        intent=\"\",feed=\"\",msselect=\"\",averagedata=True,avgchannel=\"4096\",\n",
       "<br>2020-03-24 12:07:49\tINFO\tplotms::::+\t        avgtime=\"\",avgscan=False,avgfield=False,avgbaseline=False,avgantenna=False,\n",
       "<br>2020-03-24 12:07:49\tINFO\tplotms::::+\t        avgspw=False,scalar=False,transform=True,freqframe=\"\",restfreq=\"\",\n",
       "<br>2020-03-24 12:07:49\tINFO\tplotms::::+\t        veldef=\"RADIO\",shift=[0.0, 0.0],extendflag=False,extcorr=False,extchannel=False,\n",
       "<br>2020-03-24 12:07:49\tINFO\tplotms::::+\t        iteraxis=\"\",xselfscale=False,yselfscale=False,xsharedaxis=False,ysharedaxis=False,\n",
       "<br>2020-03-24 12:07:49\tINFO\tplotms::::+\t        customsymbol=False,symbolshape=\"autoscaling\",symbolsize=2,symbolcolor=\"0000ff\",symbolfill=\"fill\",\n",
       "<br>2020-03-24 12:07:49\tINFO\tplotms::::+\t        symboloutline=False,coloraxis=\"field\",customflaggedsymbol=False,flaggedsymbolshape=\"circle\",flaggedsymbolsize=2,\n",
       "<br>2020-03-24 12:07:49\tINFO\tplotms::::+\t        flaggedsymbolcolor=\"ff0000\",flaggedsymbolfill=\"fill\",flaggedsymboloutline=False,xconnector=\"\",timeconnector=False,\n",
       "<br>2020-03-24 12:07:49\tINFO\tplotms::::+\t        plotrange=[],title=\"\",titlefont=0,xlabel=\"\",xaxisfont=0,\n",
       "<br>2020-03-24 12:07:49\tINFO\tplotms::::+\t        ylabel=\"\",yaxisfont=0,showmajorgrid=False,majorwidth=1,majorstyle=\"\",\n",
       "<br>2020-03-24 12:07:49\tINFO\tplotms::::+\t        majorcolor=\"B0B0B0\",showminorgrid=False,minorwidth=1,minorstyle=\"\",minorcolor=\"D0D0D0\",\n",
       "<br>2020-03-24 12:07:49\tINFO\tplotms::::+\t        showlegend=False,legendposition=\"\",plotfile=\"plotms_temp.png\",expformat=\"\",verbose=True,\n",
       "<br>2020-03-24 12:07:49\tINFO\tplotms::::+\t        exprange=\"\",highres=False,dpi=-1,width=-1,height=-1,\n",
       "<br>2020-03-24 12:07:49\tINFO\tplotms::::+\t        overwrite=True,showgui=False,clearplots=True,callib=[''],headeritems=\"\",\n",
       "<br>2020-03-24 12:07:49\tINFO\tplotms::::+\t        showatm=False,showtsky=False)\n",
       "<br>2020-03-24 12:07:49\tINFO\tPlotMS::params_changed\tUpdating: REDRAW, MSDATA, CACHE, AXES, CANVAS, DISPLAY, PAGEHEADER, ITERATION, LOG, PLOTMS_OPTIONS.\n",
       "<br>2020-03-24 12:07:49\tINFO\tPlotMS::load_cache\tClearing the existing plotms cache.\n",
       "<br>2020-03-24 12:07:49\tINFO\tPlotMS::load_cache\tSTART     Current memory usage: 8100.39 kilobytes.\n",
       "<br>2020-03-24 12:07:49\tINFO\tPlotMS::load_cache\tPlot Data Transformations:\n",
       "<br>2020-03-24 12:07:49\tINFO\tPlotMS::load_cache+\t Frame      = \n",
       "<br>2020-03-24 12:07:49\tINFO\tPlotMS::load_cache+\t VelDef     = RADIO\n",
       "<br>2020-03-24 12:07:49\tINFO\tPlotMS::load_cache+\t RestFreq   = 0 MHz\n",
       "<br>2020-03-24 12:07:49\tINFO\tPlotMS::load_cache+\t dX         = 0 arcsec\n",
       "<br>2020-03-24 12:07:49\tINFO\tPlotMS::load_cache+\t dY         = 0 arcsec\n",
       "<br>2020-03-24 12:07:49\tINFO\tPlotMS::load_cache+\t formStokes = false\n",
       "<br>2020-03-24 12:07:49\tINFO\tPlotMS::load_cache\tData Averaging: \n",
       "<br>2020-03-24 12:07:49\tINFO\tPlotMS::load_cache+\t Using VECTOR averaging.\n",
       "<br>2020-03-24 12:07:49\tINFO\tPlotMS::load_cache+\t Channel: 4096 channels\n",
       "<br>2020-03-24 12:07:49\tINFO\tPlotMS::load_cache\tPlot Data Calibration:\n",
       "<br>2020-03-24 12:07:49\tINFO\tPlotMS::load_cache+\t Use Calibration    = 0\n",
       "<br>2020-03-24 12:07:49\tINFO\tPlotMS::load_cache+\t Calibration Library   = \n",
       "<br>2020-03-24 12:07:49\tINFO\tPlotMS::load_cache\tCaching for the new plot: Amp(17):data vs. Time(2)...\n",
       "<br>2020-03-24 12:07:49\tINFO\tPlotMS::load_cache\tLoading page header cache\n",
       "<br>2020-03-24 12:07:50\tINFO\tPlotMS::load_cache\tData selection will yield a total of 12474 plottable points (flagged and unflagged).\n",
       "<br>2020-03-24 12:07:50\tINFO\tPlotMS::load_cache+\tThe plotms cache will require an estimated 0.000163944 GB of memory (13.1429 bytes/point).\n",
       "<br>2020-03-24 12:07:50\tINFO\tPlotMS::load_cache+\tThis is 0.00100503% of the memory avail. to CASA (16.3124 GB).\n",
       "<br>2020-03-24 12:07:50\tINFO\tPlotMS::load_cache\tLoading chunks......\n",
       "<br>2020-03-24 12:07:50\tINFO\tPlotMS::load_cache\tSPW 0: number of channels averaged = 900\n",
       "<br>2020-03-24 12:07:50\tINFO\tPlotMS::load_cache\tGenerating the plot mask.\n",
       "<br>2020-03-24 12:07:50\tINFO\tPlotMS::load_cache\trefTime = 2017/04/08/00:00:00.0\n",
       "<br>2020-03-24 12:07:50\tINFO\tPlotMS::load_cache\tFinished loading.\n",
       "<br>2020-03-24 12:07:50\tINFO\tPlotMS::load_cache\tSetting up iteration indexing (if necessary), and calculating plot ranges.\n",
       "<br>2020-03-24 12:07:50\tINFO\tPlotMS::load_cache\tAxes ranges:\n",
       "<br>2020-03-24 12:07:50\tINFO\tPlotMS::load_cache+\tTime: 4.99838e+09 to 4.99838e+09 (unflagged); ; 4.99838e+09 to 4.99838e+09 (flagged).\n",
       "<br>2020-03-24 12:07:50\tINFO\tPlotMS::load_cache+\tAmp:data: 0.00158873 to 964.393 (unflagged); 1116.8 to 1955.75(flagged).\n",
       "<br>2020-03-24 12:07:50\tINFO\tPlotMS::load_cache\tFinished indexing.\n",
       "<br>2020-03-24 12:07:49\tINFO\tPlotMS::load_cache\tEND       Time: +1 seconds.  Memory: +4906.86 kilobytes.\n",
       "<br>2020-03-24 12:07:50\tINFO\tPlotMS::plot\tPlotting 10395 unflagged points.\n",
       "<br>2020-03-24 12:07:50\tINFO\tplotms::::\tPlot file /home/jupyter/MeerKAT-Cookbook/casa/plotms_temp.png\n",
       "<br>2020-03-24 12:07:51\tINFO\tplotms::::\tExporting the plot.\n",
       "<br>2020-03-24 12:07:51\tINFO\tQPExporter::export\tSTART     Current memory usage: 13146.6 kilobytes.\n",
       "<br>2020-03-24 12:07:51\tINFO\tQPExporter::export\tEND       Time: +0 seconds.  Memory: +2.03125 kilobytes.\n",
       "<br>2020-03-24 12:07:51\tINFO\tPlotMS::plot\tExported /home/jupyter/MeerKAT-Cookbook/casa/plotms_temp.png\n",
       "<br>2020-03-24 12:07:51\tINFO\tplotms::::\t##### End Task: plotms               #####\n",
       "<br>2020-03-24 12:07:51\tINFO\tplotms::::+\t##########################################\n",
       "</div>"
      ]
     },
     "metadata": {},
     "output_type": "display_data"
    }
   ],
   "source": [
    "plotms(vis=msfile,\n",
    "       xaxis='time',\n",
    "       yaxis='amp',\n",
    "       field=f_cal+','+g_cal,\n",
    "       averagedata=True,\n",
    "       avgchannel='4096',\n",
    "       coloraxis='field')"
   ]
  },
  {
   "cell_type": "markdown",
   "metadata": {},
   "source": [
    "### Flagging data"
   ]
  },
  {
   "cell_type": "code",
   "execution_count": 20,
   "metadata": {},
   "outputs": [
    {
     "data": {
      "text/html": [
       "<button type=\"button\" class=\"btn btn-info\" data-toggle=\"collapse\" id=\"1585051729_37\" data-target=\"#log1585051729_37\" onclick=\"if ($('#'+this.id).html()=='Show log') {$('#'+this.id).html('Hide log')} else {$('#'+this.id).html('Show log')}; return false\">Show log</button> <div class=\"collapse\" id=\"log1585051729_37\">2020-03-24 12:08:49\tINFO\tflagdata::::\t\n",
       "<br>2020-03-24 12:08:49\tINFO\tflagdata::::+\t##########################################\n",
       "<br>2020-03-24 12:08:49\tINFO\tflagdata::::+\t##### Begin Task: flagdata           #####\n",
       "<br>2020-03-24 12:08:49\tINFO\tflagdata::::\tflagdata(vis=\"ngc3621.ms\",mode=\"manual\",autocorr=False,inpfile=\"\",reason=\"any\",\n",
       "<br>2020-03-24 12:08:49\tINFO\tflagdata::::+\t        tbuff=0.0,spw=\"\",field=\"\",antenna=\"m022\",uvrange=\"\",\n",
       "<br>2020-03-24 12:08:49\tINFO\tflagdata::::+\t        timerange=\"\",correlation=\"\",scan=\"\",intent=\"\",array=\"\",\n",
       "<br>2020-03-24 12:08:49\tINFO\tflagdata::::+\t        observation=\"\",feed=\"\",clipminmax=[],datacolumn=\"DATA\",clipoutside=True,\n",
       "<br>2020-03-24 12:08:49\tINFO\tflagdata::::+\t        channelavg=False,chanbin=1,timeavg=False,timebin=\"0s\",clipzeros=False,\n",
       "<br>2020-03-24 12:08:49\tINFO\tflagdata::::+\t        quackinterval=1.0,quackmode=\"beg\",quackincrement=False,tolerance=0.0,addantenna=\"\",\n",
       "<br>2020-03-24 12:08:49\tINFO\tflagdata::::+\t        lowerlimit=0.0,upperlimit=90.0,ntime=\"scan\",combinescans=False,timecutoff=4.0,\n",
       "<br>2020-03-24 12:08:49\tINFO\tflagdata::::+\t        freqcutoff=3.0,timefit=\"line\",freqfit=\"poly\",maxnpieces=7,flagdimension=\"freqtime\",\n",
       "<br>2020-03-24 12:08:49\tINFO\tflagdata::::+\t        usewindowstats=\"none\",halfwin=1,extendflags=True,winsize=3,timedev=\"\",\n",
       "<br>2020-03-24 12:08:49\tINFO\tflagdata::::+\t        freqdev=\"\",timedevscale=5.0,freqdevscale=5.0,spectralmax=1000000.0,spectralmin=0.0,\n",
       "<br>2020-03-24 12:08:49\tINFO\tflagdata::::+\t        antint_ref_antenna=\"\",minchanfrac=0.6,verbose=False,extendpols=True,growtime=50.0,\n",
       "<br>2020-03-24 12:08:49\tINFO\tflagdata::::+\t        growfreq=50.0,growaround=False,flagneartime=False,flagnearfreq=False,minrel=0.0,\n",
       "<br>2020-03-24 12:08:49\tINFO\tflagdata::::+\t        maxrel=1.0,minabs=0,maxabs=-1,spwchan=False,spwcorr=False,\n",
       "<br>2020-03-24 12:08:49\tINFO\tflagdata::::+\t        basecnt=False,fieldcnt=False,name=\"Summary\",action=\"apply\",display=\"\",\n",
       "<br>2020-03-24 12:08:49\tINFO\tflagdata::::+\t        flagbackup=True,savepars=False,cmdreason=\"\",outfile=\"\",overwrite=True,\n",
       "<br>2020-03-24 12:08:49\tINFO\tflagdata::::+\t        writeflags=True)\n",
       "<br>2020-03-24 12:08:49\tINFO\tflagdata::::\tBackup original flags before applying new flags\n",
       "<br>2020-03-24 12:08:49\tINFO\tAgentFlagger::open\tTable type is Measurement Set\n",
       "<br>2020-03-24 12:08:49\tINFO\tFlagVersion::saveFlagVersion\tCreating new backup flag file called flagdata_4\n",
       "<br>2020-03-24 12:08:49\tINFO\tAgentFlagger::open\tTable type is Measurement Set\n",
       "<br>2020-03-24 12:08:49\tINFO\tflagdata::::\tManual mode is active\n",
       "<br>2020-03-24 12:08:49\tINFO\tflagdata::::\tInitializing the agents\n",
       "<br>2020-03-24 12:08:49\tINFO\tManual::setAgentParameters \tautocorr is 0\n",
       "<br>2020-03-24 12:08:49\tINFO\tAgentFlagger::initAgents\tThere are 1 valid agents in list\n",
       "<br>2020-03-24 12:08:49\tINFO\tflagdata::::\tRunning the agentflagger tool\n",
       "<br>2020-03-24 12:08:49\tINFO\tFlagMSHandler::\t------------------------------------------------------------------------------------ \n",
       "<br>2020-03-24 12:08:49\tINFO\tFlagMSHandler::\tChunk = 1 [progress: 19%], Observation = 0, Array = 0, Scan = 1, Field = 0 (0408-65), Spw = 0, Channels = 900, Corrs = [ XX YY ], Total Rows = 745\n",
       "<br>2020-03-24 12:08:49\tINFO\tManual::chunkSummary\t=> Data flagged so far 100%\n",
       "<br>2020-03-24 12:08:49\tINFO\tFlagMSHandler::\t------------------------------------------------------------------------------------ \n",
       "<br>2020-03-24 12:08:49\tINFO\tFlagMSHandler::\tChunk = 2 [progress: 40%], Observation = 0, Array = 0, Scan = 2, Field = 1 (NGC3621), Spw = 0, Channels = 900, Corrs = [ XX YY ], Total Rows = 750\n",
       "<br>2020-03-24 12:08:49\tINFO\tManual::chunkSummary\t=> Data flagged so far 100%\n",
       "<br>2020-03-24 12:08:49\tINFO\tFlagMSHandler::\t------------------------------------------------------------------------------------ \n",
       "<br>2020-03-24 12:08:49\tINFO\tFlagMSHandler::\tChunk = 3 [progress: 43%], Observation = 0, Array = 0, Scan = 3, Field = 2 (1117-248), Spw = 0, Channels = 900, Corrs = [ XX YY ], Total Rows = 145\n",
       "<br>2020-03-24 12:08:49\tINFO\tManual::chunkSummary\t=> Data flagged so far 100%\n",
       "<br>2020-03-24 12:08:49\tINFO\tFlagMSHandler::\t------------------------------------------------------------------------------------ \n",
       "<br>2020-03-24 12:08:49\tINFO\tFlagMSHandler::\tChunk = 4 [progress: 53%], Observation = 0, Array = 0, Scan = 4, Field = 1 (NGC3621), Spw = 0, Channels = 900, Corrs = [ XX YY ], Total Rows = 375\n",
       "<br>2020-03-24 12:08:49\tINFO\tManual::chunkSummary\t=> Data flagged so far 100%\n",
       "<br>2020-03-24 12:08:49\tINFO\tFlagMSHandler::\t------------------------------------------------------------------------------------ \n",
       "<br>2020-03-24 12:08:49\tINFO\tFlagMSHandler::\tChunk = 5 [progress: 57%], Observation = 0, Array = 0, Scan = 5, Field = 2 (1117-248), Spw = 0, Channels = 900, Corrs = [ XX YY ], Total Rows = 145\n",
       "<br>2020-03-24 12:08:49\tINFO\tManual::chunkSummary\t=> Data flagged so far 100%\n",
       "<br>2020-03-24 12:08:49\tINFO\tFlagMSHandler::\t------------------------------------------------------------------------------------ \n",
       "<br>2020-03-24 12:08:49\tINFO\tFlagMSHandler::\tChunk = 6 [progress: 67%], Observation = 0, Array = 0, Scan = 6, Field = 1 (NGC3621), Spw = 0, Channels = 900, Corrs = [ XX YY ], Total Rows = 375\n",
       "<br>2020-03-24 12:08:49\tINFO\tManual::chunkSummary\t=> Data flagged so far 100%\n",
       "<br>2020-03-24 12:08:49\tINFO\tFlagMSHandler::\t------------------------------------------------------------------------------------ \n",
       "<br>2020-03-24 12:08:49\tINFO\tFlagMSHandler::\tChunk = 7 [progress: 71%], Observation = 0, Array = 0, Scan = 7, Field = 2 (1117-248), Spw = 0, Channels = 900, Corrs = [ XX YY ], Total Rows = 150\n",
       "<br>2020-03-24 12:08:49\tINFO\tManual::chunkSummary\t=> Data flagged so far 100%\n",
       "<br>2020-03-24 12:08:49\tINFO\tFlagMSHandler::\t------------------------------------------------------------------------------------ \n",
       "<br>2020-03-24 12:08:49\tINFO\tFlagMSHandler::\tChunk = 8 [progress: 81%], Observation = 0, Array = 0, Scan = 8, Field = 1 (NGC3621), Spw = 0, Channels = 900, Corrs = [ XX YY ], Total Rows = 375\n",
       "<br>2020-03-24 12:08:49\tINFO\tManual::chunkSummary\t=> Data flagged so far 100%\n",
       "<br>2020-03-24 12:08:49\tINFO\tFlagMSHandler::\t------------------------------------------------------------------------------------ \n",
       "<br>2020-03-24 12:08:49\tINFO\tFlagMSHandler::\tChunk = 9 [progress: 85%], Observation = 0, Array = 0, Scan = 9, Field = 2 (1117-248), Spw = 0, Channels = 900, Corrs = [ XX YY ], Total Rows = 150\n",
       "<br>2020-03-24 12:08:49\tINFO\tManual::chunkSummary\t=> Data flagged so far 100%\n",
       "<br>2020-03-24 12:08:49\tINFO\tFlagMSHandler::\t------------------------------------------------------------------------------------ \n",
       "<br>2020-03-24 12:08:49\tINFO\tFlagMSHandler::\tChunk = 10 [progress: 95%], Observation = 0, Array = 0, Scan = 10, Field = 1 (NGC3621), Spw = 0, Channels = 900, Corrs = [ XX YY ], Total Rows = 375\n",
       "<br>2020-03-24 12:08:49\tINFO\tManual::chunkSummary\t=> Data flagged so far 100%\n",
       "<br>2020-03-24 12:08:49\tINFO\tFlagMSHandler::\t------------------------------------------------------------------------------------ \n",
       "<br>2020-03-24 12:08:49\tINFO\tFlagMSHandler::\tChunk = 11 [progress: 100%], Observation = 0, Array = 0, Scan = 11, Field = 2 (1117-248), Spw = 0, Channels = 900, Corrs = [ XX YY ], Total Rows = 150\n",
       "<br>2020-03-24 12:08:49\tINFO\tManual::chunkSummary\t=> Data flagged so far 100%\n",
       "<br>2020-03-24 12:08:49\tINFO\tFlagMSHandler::nextChunk \t==================================================================================== \n",
       "<br>2020-03-24 12:08:49\tINFO\tManual::tableSummary\t=> Percentage of data flagged in table selection: 100%\n",
       "<br>2020-03-24 12:08:49\tINFO\tAgentFlagger::run\t=> Writing flags to the MS\n",
       "<br>2020-03-24 12:08:49\tINFO\tflagdata::::\tCASA Version 5.5.0-149  \n",
       "<br>2020-03-24 12:08:49\tINFO\tflagdata::::\t\n",
       "<br>2020-03-24 12:08:49\tINFO\tflagdata::::\t##### End Task: flagdata             #####\n",
       "<br>2020-03-24 12:08:49\tINFO\tflagdata::::+\t##########################################\n",
       "</div>"
      ]
     },
     "metadata": {},
     "output_type": "display_data"
    }
   ],
   "source": [
    "flagdata(vis=msfile, mode='manual', antenna='m022');"
   ]
  },
  {
   "cell_type": "code",
   "execution_count": 21,
   "metadata": {},
   "outputs": [
    {
     "data": {
      "text/html": [
       "<button type=\"button\" class=\"btn btn-info\" data-toggle=\"collapse\" id=\"1585051783_59\" data-target=\"#log1585051783_59\" onclick=\"if ($('#'+this.id).html()=='Show log') {$('#'+this.id).html('Hide log')} else {$('#'+this.id).html('Show log')}; return false\">Show log</button> <div class=\"collapse\" id=\"log1585051783_59\">2020-03-24 12:09:43\tINFO\tflagdata::::\t\n",
       "<br>2020-03-24 12:09:43\tINFO\tflagdata::::+\t##########################################\n",
       "<br>2020-03-24 12:09:43\tINFO\tflagdata::::+\t##### Begin Task: flagdata           #####\n",
       "<br>2020-03-24 12:09:43\tINFO\tflagdata::::\tflagdata(vis=\"ngc3621.ms\",mode=\"manual\",autocorr=False,inpfile=\"\",reason=\"any\",\n",
       "<br>2020-03-24 12:09:43\tINFO\tflagdata::::+\t        tbuff=0.0,spw=\"*:30~35\",field=\"0408-65,1117-248\",antenna=\"\",uvrange=\"\",\n",
       "<br>2020-03-24 12:09:43\tINFO\tflagdata::::+\t        timerange=\"\",correlation=\"\",scan=\"\",intent=\"\",array=\"\",\n",
       "<br>2020-03-24 12:09:43\tINFO\tflagdata::::+\t        observation=\"\",feed=\"\",clipminmax=[],datacolumn=\"DATA\",clipoutside=True,\n",
       "<br>2020-03-24 12:09:43\tINFO\tflagdata::::+\t        channelavg=False,chanbin=1,timeavg=False,timebin=\"0s\",clipzeros=False,\n",
       "<br>2020-03-24 12:09:43\tINFO\tflagdata::::+\t        quackinterval=1.0,quackmode=\"beg\",quackincrement=False,tolerance=0.0,addantenna=\"\",\n",
       "<br>2020-03-24 12:09:43\tINFO\tflagdata::::+\t        lowerlimit=0.0,upperlimit=90.0,ntime=\"scan\",combinescans=False,timecutoff=4.0,\n",
       "<br>2020-03-24 12:09:43\tINFO\tflagdata::::+\t        freqcutoff=3.0,timefit=\"line\",freqfit=\"poly\",maxnpieces=7,flagdimension=\"freqtime\",\n",
       "<br>2020-03-24 12:09:43\tINFO\tflagdata::::+\t        usewindowstats=\"none\",halfwin=1,extendflags=True,winsize=3,timedev=\"\",\n",
       "<br>2020-03-24 12:09:43\tINFO\tflagdata::::+\t        freqdev=\"\",timedevscale=5.0,freqdevscale=5.0,spectralmax=1000000.0,spectralmin=0.0,\n",
       "<br>2020-03-24 12:09:43\tINFO\tflagdata::::+\t        antint_ref_antenna=\"\",minchanfrac=0.6,verbose=False,extendpols=True,growtime=50.0,\n",
       "<br>2020-03-24 12:09:43\tINFO\tflagdata::::+\t        growfreq=50.0,growaround=False,flagneartime=False,flagnearfreq=False,minrel=0.0,\n",
       "<br>2020-03-24 12:09:43\tINFO\tflagdata::::+\t        maxrel=1.0,minabs=0,maxabs=-1,spwchan=False,spwcorr=False,\n",
       "<br>2020-03-24 12:09:43\tINFO\tflagdata::::+\t        basecnt=False,fieldcnt=False,name=\"Summary\",action=\"apply\",display=\"\",\n",
       "<br>2020-03-24 12:09:43\tINFO\tflagdata::::+\t        flagbackup=False,savepars=False,cmdreason=\"\",outfile=\"\",overwrite=True,\n",
       "<br>2020-03-24 12:09:43\tINFO\tflagdata::::+\t        writeflags=True)\n",
       "<br>2020-03-24 12:09:43\tINFO\tAgentFlagger::open\tTable type is Measurement Set\n",
       "<br>2020-03-24 12:09:43\tINFO\tflagdata::::\tManual mode is active\n",
       "<br>2020-03-24 12:09:43\tINFO\tFlagMSHandler::selectData \t Selected spw-channels ids are Axis Lengths: [1, 4]  (NB: Matrix in Row/Column order)\n",
       "<br>2020-03-24 12:09:43\tINFO\tFlagMSHandler::selectData +\t[0, 30, 35, 1]\n",
       "<br>2020-03-24 12:09:43\tINFO\tflagdata::::\tInitializing the agents\n",
       "<br>2020-03-24 12:09:43\tINFO\tManual::setAgentParameters \tautocorr is 0\n",
       "<br>2020-03-24 12:09:43\tINFO\tAgentFlagger::initAgents\tThere are 1 valid agents in list\n",
       "<br>2020-03-24 12:09:43\tINFO\tflagdata::::\tRunning the agentflagger tool\n",
       "<br>2020-03-24 12:09:43\tINFO\tFlagMSHandler::\t------------------------------------------------------------------------------------ \n",
       "<br>2020-03-24 12:09:43\tINFO\tFlagMSHandler::\tChunk = 1 [progress: 50%], Observation = 0, Array = 0, Scan = 1, Field = 0 (0408-65), Spw = 0, Channels = 900, Corrs = [ XX YY ], Total Rows = 3129\n",
       "<br>2020-03-24 12:09:43\tINFO\tManual::chunkSummary\t=> Data flagged so far 0.666667%\n",
       "<br>2020-03-24 12:09:43\tINFO\tFlagMSHandler::\t------------------------------------------------------------------------------------ \n",
       "<br>2020-03-24 12:09:43\tINFO\tFlagMSHandler::\tChunk = 2 [progress: 59%], Observation = 0, Array = 0, Scan = 3, Field = 2 (1117-248), Spw = 0, Channels = 900, Corrs = [ XX YY ], Total Rows = 609\n",
       "<br>2020-03-24 12:09:43\tINFO\tManual::chunkSummary\t=> Data flagged so far 0.666667%\n",
       "<br>2020-03-24 12:09:43\tINFO\tFlagMSHandler::\t------------------------------------------------------------------------------------ \n",
       "<br>2020-03-24 12:09:43\tINFO\tFlagMSHandler::\tChunk = 3 [progress: 69%], Observation = 0, Array = 0, Scan = 5, Field = 2 (1117-248), Spw = 0, Channels = 900, Corrs = [ XX YY ], Total Rows = 609\n",
       "<br>2020-03-24 12:09:43\tINFO\tManual::chunkSummary\t=> Data flagged so far 0.666667%\n",
       "<br>2020-03-24 12:09:43\tINFO\tFlagMSHandler::\t------------------------------------------------------------------------------------ \n",
       "<br>2020-03-24 12:09:43\tINFO\tFlagMSHandler::\tChunk = 4 [progress: 79%], Observation = 0, Array = 0, Scan = 7, Field = 2 (1117-248), Spw = 0, Channels = 900, Corrs = [ XX YY ], Total Rows = 630\n",
       "<br>2020-03-24 12:09:43\tINFO\tManual::chunkSummary\t=> Data flagged so far 0.666667%\n",
       "<br>2020-03-24 12:09:43\tINFO\tFlagMSHandler::\t------------------------------------------------------------------------------------ \n",
       "<br>2020-03-24 12:09:43\tINFO\tFlagMSHandler::\tChunk = 5 [progress: 89%], Observation = 0, Array = 0, Scan = 9, Field = 2 (1117-248), Spw = 0, Channels = 900, Corrs = [ XX YY ], Total Rows = 630\n",
       "<br>2020-03-24 12:09:43\tINFO\tManual::chunkSummary\t=> Data flagged so far 0.666667%\n",
       "<br>2020-03-24 12:09:43\tINFO\tFlagMSHandler::\t------------------------------------------------------------------------------------ \n",
       "<br>2020-03-24 12:09:43\tINFO\tFlagMSHandler::\tChunk = 6 [progress: 100%], Observation = 0, Array = 0, Scan = 11, Field = 2 (1117-248), Spw = 0, Channels = 900, Corrs = [ XX YY ], Total Rows = 630\n",
       "<br>2020-03-24 12:09:43\tINFO\tManual::chunkSummary\t=> Data flagged so far 0.666667%\n",
       "<br>2020-03-24 12:09:43\tINFO\tFlagMSHandler::nextChunk \t==================================================================================== \n",
       "<br>2020-03-24 12:09:43\tINFO\tManual::tableSummary\t=> Percentage of data flagged in table selection: 0.666667%\n",
       "<br>2020-03-24 12:09:43\tINFO\tAgentFlagger::run\t=> Writing flags to the MS\n",
       "<br>2020-03-24 12:09:43\tINFO\tflagdata::::\tCASA Version 5.5.0-149  \n",
       "<br>2020-03-24 12:09:43\tINFO\tflagdata::::\t\n",
       "<br>2020-03-24 12:09:43\tINFO\tflagdata::::\t##### End Task: flagdata             #####\n",
       "<br>2020-03-24 12:09:43\tINFO\tflagdata::::+\t##########################################\n",
       "<br>2020-03-24 12:09:43\tINFO\tflagdata::::\t\n",
       "<br>2020-03-24 12:09:43\tINFO\tflagdata::::+\t##########################################\n",
       "<br>2020-03-24 12:09:43\tINFO\tflagdata::::+\t##### Begin Task: flagdata           #####\n",
       "<br>2020-03-24 12:09:43\tINFO\tflagdata::::\tflagdata(vis=\"ngc3621.ms\",mode=\"manual\",autocorr=False,inpfile=\"\",reason=\"any\",\n",
       "<br>2020-03-24 12:09:43\tINFO\tflagdata::::+\t        tbuff=0.0,spw=\"*:420~440\",field=\"0408-65,1117-248\",antenna=\"\",uvrange=\"\",\n",
       "<br>2020-03-24 12:09:43\tINFO\tflagdata::::+\t        timerange=\"\",correlation=\"\",scan=\"\",intent=\"\",array=\"\",\n",
       "<br>2020-03-24 12:09:43\tINFO\tflagdata::::+\t        observation=\"\",feed=\"\",clipminmax=[],datacolumn=\"DATA\",clipoutside=True,\n",
       "<br>2020-03-24 12:09:43\tINFO\tflagdata::::+\t        channelavg=False,chanbin=1,timeavg=False,timebin=\"0s\",clipzeros=False,\n",
       "<br>2020-03-24 12:09:43\tINFO\tflagdata::::+\t        quackinterval=1.0,quackmode=\"beg\",quackincrement=False,tolerance=0.0,addantenna=\"\",\n",
       "<br>2020-03-24 12:09:43\tINFO\tflagdata::::+\t        lowerlimit=0.0,upperlimit=90.0,ntime=\"scan\",combinescans=False,timecutoff=4.0,\n",
       "<br>2020-03-24 12:09:43\tINFO\tflagdata::::+\t        freqcutoff=3.0,timefit=\"line\",freqfit=\"poly\",maxnpieces=7,flagdimension=\"freqtime\",\n",
       "<br>2020-03-24 12:09:43\tINFO\tflagdata::::+\t        usewindowstats=\"none\",halfwin=1,extendflags=True,winsize=3,timedev=\"\",\n",
       "<br>2020-03-24 12:09:43\tINFO\tflagdata::::+\t        freqdev=\"\",timedevscale=5.0,freqdevscale=5.0,spectralmax=1000000.0,spectralmin=0.0,\n",
       "<br>2020-03-24 12:09:43\tINFO\tflagdata::::+\t        antint_ref_antenna=\"\",minchanfrac=0.6,verbose=False,extendpols=True,growtime=50.0,\n",
       "<br>2020-03-24 12:09:43\tINFO\tflagdata::::+\t        growfreq=50.0,growaround=False,flagneartime=False,flagnearfreq=False,minrel=0.0,\n",
       "<br>2020-03-24 12:09:43\tINFO\tflagdata::::+\t        maxrel=1.0,minabs=0,maxabs=-1,spwchan=False,spwcorr=False,\n",
       "<br>2020-03-24 12:09:43\tINFO\tflagdata::::+\t        basecnt=False,fieldcnt=False,name=\"Summary\",action=\"apply\",display=\"\",\n",
       "<br>2020-03-24 12:09:43\tINFO\tflagdata::::+\t        flagbackup=False,savepars=False,cmdreason=\"\",outfile=\"\",overwrite=True,\n",
       "<br>2020-03-24 12:09:43\tINFO\tflagdata::::+\t        writeflags=True)\n",
       "<br>2020-03-24 12:09:43\tINFO\tAgentFlagger::open\tTable type is Measurement Set\n",
       "<br>2020-03-24 12:09:43\tINFO\tflagdata::::\tManual mode is active\n",
       "<br>2020-03-24 12:09:43\tINFO\tFlagMSHandler::selectData \t Selected spw-channels ids are Axis Lengths: [1, 4]  (NB: Matrix in Row/Column order)\n",
       "<br>2020-03-24 12:09:43\tINFO\tFlagMSHandler::selectData +\t[0, 420, 440, 1]\n",
       "<br>2020-03-24 12:09:43\tINFO\tflagdata::::\tInitializing the agents\n",
       "<br>2020-03-24 12:09:43\tINFO\tManual::setAgentParameters \tautocorr is 0\n",
       "<br>2020-03-24 12:09:43\tINFO\tAgentFlagger::initAgents\tThere are 1 valid agents in list\n",
       "<br>2020-03-24 12:09:43\tINFO\tflagdata::::\tRunning the agentflagger tool\n",
       "<br>2020-03-24 12:09:43\tINFO\tFlagMSHandler::\t------------------------------------------------------------------------------------ \n",
       "<br>2020-03-24 12:09:43\tINFO\tFlagMSHandler::\tChunk = 1 [progress: 50%], Observation = 0, Array = 0, Scan = 1, Field = 0 (0408-65), Spw = 0, Channels = 900, Corrs = [ XX YY ], Total Rows = 3129\n",
       "<br>2020-03-24 12:09:43\tINFO\tManual::chunkSummary\t=> Data flagged so far 2.33333%\n",
       "<br>2020-03-24 12:09:43\tINFO\tFlagMSHandler::\t------------------------------------------------------------------------------------ \n",
       "<br>2020-03-24 12:09:43\tINFO\tFlagMSHandler::\tChunk = 2 [progress: 59%], Observation = 0, Array = 0, Scan = 3, Field = 2 (1117-248), Spw = 0, Channels = 900, Corrs = [ XX YY ], Total Rows = 609\n",
       "<br>2020-03-24 12:09:43\tINFO\tManual::chunkSummary\t=> Data flagged so far 2.33333%\n",
       "<br>2020-03-24 12:09:43\tINFO\tFlagMSHandler::\t------------------------------------------------------------------------------------ \n",
       "<br>2020-03-24 12:09:43\tINFO\tFlagMSHandler::\tChunk = 3 [progress: 69%], Observation = 0, Array = 0, Scan = 5, Field = 2 (1117-248), Spw = 0, Channels = 900, Corrs = [ XX YY ], Total Rows = 609\n",
       "<br>2020-03-24 12:09:43\tINFO\tManual::chunkSummary\t=> Data flagged so far 2.33333%\n",
       "<br>2020-03-24 12:09:43\tINFO\tFlagMSHandler::\t------------------------------------------------------------------------------------ \n",
       "<br>2020-03-24 12:09:43\tINFO\tFlagMSHandler::\tChunk = 4 [progress: 79%], Observation = 0, Array = 0, Scan = 7, Field = 2 (1117-248), Spw = 0, Channels = 900, Corrs = [ XX YY ], Total Rows = 630\n",
       "<br>2020-03-24 12:09:43\tINFO\tManual::chunkSummary\t=> Data flagged so far 2.33333%\n",
       "<br>2020-03-24 12:09:43\tINFO\tFlagMSHandler::\t------------------------------------------------------------------------------------ \n",
       "<br>2020-03-24 12:09:43\tINFO\tFlagMSHandler::\tChunk = 5 [progress: 89%], Observation = 0, Array = 0, Scan = 9, Field = 2 (1117-248), Spw = 0, Channels = 900, Corrs = [ XX YY ], Total Rows = 630\n",
       "<br>2020-03-24 12:09:43\tINFO\tManual::chunkSummary\t=> Data flagged so far 2.33333%\n",
       "<br>2020-03-24 12:09:43\tINFO\tFlagMSHandler::\t------------------------------------------------------------------------------------ \n",
       "<br>2020-03-24 12:09:43\tINFO\tFlagMSHandler::\tChunk = 6 [progress: 100%], Observation = 0, Array = 0, Scan = 11, Field = 2 (1117-248), Spw = 0, Channels = 900, Corrs = [ XX YY ], Total Rows = 630\n",
       "<br>2020-03-24 12:09:43\tINFO\tManual::chunkSummary\t=> Data flagged so far 2.33333%\n",
       "<br>2020-03-24 12:09:43\tINFO\tFlagMSHandler::nextChunk \t==================================================================================== \n",
       "<br>2020-03-24 12:09:43\tINFO\tManual::tableSummary\t=> Percentage of data flagged in table selection: 2.33333%\n",
       "<br>2020-03-24 12:09:43\tINFO\tAgentFlagger::run\t=> Writing flags to the MS\n",
       "<br>2020-03-24 12:09:43\tINFO\tflagdata::::\tCASA Version 5.5.0-149  \n",
       "<br>2020-03-24 12:09:43\tINFO\tflagdata::::\t\n",
       "<br>2020-03-24 12:09:43\tINFO\tflagdata::::\t##### End Task: flagdata             #####\n",
       "<br>2020-03-24 12:09:43\tINFO\tflagdata::::+\t##########################################\n",
       "<br>2020-03-24 12:09:43\tINFO\tflagdata::::\t\n",
       "<br>2020-03-24 12:09:43\tINFO\tflagdata::::+\t##########################################\n",
       "<br>2020-03-24 12:09:43\tINFO\tflagdata::::+\t##### Begin Task: flagdata           #####\n",
       "<br>2020-03-24 12:09:43\tINFO\tflagdata::::\tflagdata(vis=\"ngc3621.ms\",mode=\"manual\",autocorr=False,inpfile=\"\",reason=\"any\",\n",
       "<br>2020-03-24 12:09:43\tINFO\tflagdata::::+\t        tbuff=0.0,spw=\"*:450~470\",field=\"0408-65,1117-248\",antenna=\"\",uvrange=\"\",\n",
       "<br>2020-03-24 12:09:43\tINFO\tflagdata::::+\t        timerange=\"\",correlation=\"\",scan=\"\",intent=\"\",array=\"\",\n",
       "<br>2020-03-24 12:09:43\tINFO\tflagdata::::+\t        observation=\"\",feed=\"\",clipminmax=[],datacolumn=\"DATA\",clipoutside=True,\n",
       "<br>2020-03-24 12:09:43\tINFO\tflagdata::::+\t        channelavg=False,chanbin=1,timeavg=False,timebin=\"0s\",clipzeros=False,\n",
       "<br>2020-03-24 12:09:43\tINFO\tflagdata::::+\t        quackinterval=1.0,quackmode=\"beg\",quackincrement=False,tolerance=0.0,addantenna=\"\",\n",
       "<br>2020-03-24 12:09:43\tINFO\tflagdata::::+\t        lowerlimit=0.0,upperlimit=90.0,ntime=\"scan\",combinescans=False,timecutoff=4.0,\n",
       "<br>2020-03-24 12:09:43\tINFO\tflagdata::::+\t        freqcutoff=3.0,timefit=\"line\",freqfit=\"poly\",maxnpieces=7,flagdimension=\"freqtime\",\n",
       "<br>2020-03-24 12:09:43\tINFO\tflagdata::::+\t        usewindowstats=\"none\",halfwin=1,extendflags=True,winsize=3,timedev=\"\",\n",
       "<br>2020-03-24 12:09:43\tINFO\tflagdata::::+\t        freqdev=\"\",timedevscale=5.0,freqdevscale=5.0,spectralmax=1000000.0,spectralmin=0.0,\n",
       "<br>2020-03-24 12:09:43\tINFO\tflagdata::::+\t        antint_ref_antenna=\"\",minchanfrac=0.6,verbose=False,extendpols=True,growtime=50.0,\n",
       "<br>2020-03-24 12:09:43\tINFO\tflagdata::::+\t        growfreq=50.0,growaround=False,flagneartime=False,flagnearfreq=False,minrel=0.0,\n",
       "<br>2020-03-24 12:09:43\tINFO\tflagdata::::+\t        maxrel=1.0,minabs=0,maxabs=-1,spwchan=False,spwcorr=False,\n",
       "<br>2020-03-24 12:09:43\tINFO\tflagdata::::+\t        basecnt=False,fieldcnt=False,name=\"Summary\",action=\"apply\",display=\"\",\n",
       "<br>2020-03-24 12:09:43\tINFO\tflagdata::::+\t        flagbackup=False,savepars=False,cmdreason=\"\",outfile=\"\",overwrite=True,\n",
       "<br>2020-03-24 12:09:43\tINFO\tflagdata::::+\t        writeflags=True)\n",
       "<br>2020-03-24 12:09:43\tINFO\tAgentFlagger::open\tTable type is Measurement Set\n",
       "<br>2020-03-24 12:09:43\tINFO\tflagdata::::\tManual mode is active\n",
       "<br>2020-03-24 12:09:43\tINFO\tFlagMSHandler::selectData \t Selected spw-channels ids are Axis Lengths: [1, 4]  (NB: Matrix in Row/Column order)\n",
       "<br>2020-03-24 12:09:43\tINFO\tFlagMSHandler::selectData +\t[0, 450, 470, 1]\n",
       "<br>2020-03-24 12:09:43\tINFO\tflagdata::::\tInitializing the agents\n",
       "<br>2020-03-24 12:09:43\tINFO\tManual::setAgentParameters \tautocorr is 0\n",
       "<br>2020-03-24 12:09:43\tINFO\tAgentFlagger::initAgents\tThere are 1 valid agents in list\n",
       "<br>2020-03-24 12:09:43\tINFO\tflagdata::::\tRunning the agentflagger tool\n",
       "<br>2020-03-24 12:09:43\tINFO\tFlagMSHandler::\t------------------------------------------------------------------------------------ \n",
       "<br>2020-03-24 12:09:43\tINFO\tFlagMSHandler::\tChunk = 1 [progress: 50%], Observation = 0, Array = 0, Scan = 1, Field = 0 (0408-65), Spw = 0, Channels = 900, Corrs = [ XX YY ], Total Rows = 3129\n",
       "<br>2020-03-24 12:09:43\tINFO\tManual::chunkSummary\t=> Data flagged so far 2.33333%\n",
       "<br>2020-03-24 12:09:43\tINFO\tFlagMSHandler::\t------------------------------------------------------------------------------------ \n",
       "<br>2020-03-24 12:09:43\tINFO\tFlagMSHandler::\tChunk = 2 [progress: 59%], Observation = 0, Array = 0, Scan = 3, Field = 2 (1117-248), Spw = 0, Channels = 900, Corrs = [ XX YY ], Total Rows = 609\n",
       "<br>2020-03-24 12:09:43\tINFO\tManual::chunkSummary\t=> Data flagged so far 2.33333%\n",
       "<br>2020-03-24 12:09:43\tINFO\tFlagMSHandler::\t------------------------------------------------------------------------------------ \n",
       "<br>2020-03-24 12:09:43\tINFO\tFlagMSHandler::\tChunk = 3 [progress: 69%], Observation = 0, Array = 0, Scan = 5, Field = 2 (1117-248), Spw = 0, Channels = 900, Corrs = [ XX YY ], Total Rows = 609\n",
       "<br>2020-03-24 12:09:43\tINFO\tManual::chunkSummary\t=> Data flagged so far 2.33333%\n",
       "<br>2020-03-24 12:09:43\tINFO\tFlagMSHandler::\t------------------------------------------------------------------------------------ \n",
       "<br>2020-03-24 12:09:43\tINFO\tFlagMSHandler::\tChunk = 4 [progress: 79%], Observation = 0, Array = 0, Scan = 7, Field = 2 (1117-248), Spw = 0, Channels = 900, Corrs = [ XX YY ], Total Rows = 630\n",
       "<br>2020-03-24 12:09:43\tINFO\tManual::chunkSummary\t=> Data flagged so far 2.33333%\n",
       "<br>2020-03-24 12:09:43\tINFO\tFlagMSHandler::\t------------------------------------------------------------------------------------ \n",
       "<br>2020-03-24 12:09:43\tINFO\tFlagMSHandler::\tChunk = 5 [progress: 89%], Observation = 0, Array = 0, Scan = 9, Field = 2 (1117-248), Spw = 0, Channels = 900, Corrs = [ XX YY ], Total Rows = 630\n",
       "<br>2020-03-24 12:09:43\tINFO\tManual::chunkSummary\t=> Data flagged so far 2.33333%\n",
       "<br>2020-03-24 12:09:43\tINFO\tFlagMSHandler::\t------------------------------------------------------------------------------------ \n",
       "<br>2020-03-24 12:09:43\tINFO\tFlagMSHandler::\tChunk = 6 [progress: 100%], Observation = 0, Array = 0, Scan = 11, Field = 2 (1117-248), Spw = 0, Channels = 900, Corrs = [ XX YY ], Total Rows = 630\n",
       "<br>2020-03-24 12:09:43\tINFO\tManual::chunkSummary\t=> Data flagged so far 2.33333%\n",
       "<br>2020-03-24 12:09:43\tINFO\tFlagMSHandler::nextChunk \t==================================================================================== \n",
       "<br>2020-03-24 12:09:43\tINFO\tManual::tableSummary\t=> Percentage of data flagged in table selection: 2.33333%\n",
       "<br>2020-03-24 12:09:43\tINFO\tAgentFlagger::run\t=> Writing flags to the MS\n",
       "<br>2020-03-24 12:09:43\tINFO\tflagdata::::\tCASA Version 5.5.0-149  \n",
       "<br>2020-03-24 12:09:43\tINFO\tflagdata::::\t\n",
       "<br>2020-03-24 12:09:43\tINFO\tflagdata::::\t##### End Task: flagdata             #####\n",
       "<br>2020-03-24 12:09:43\tINFO\tflagdata::::+\t##########################################\n",
       "<br>2020-03-24 12:09:43\tINFO\tflagdata::::\t\n",
       "<br>2020-03-24 12:09:43\tINFO\tflagdata::::+\t##########################################\n",
       "<br>2020-03-24 12:09:43\tINFO\tflagdata::::+\t##### Begin Task: flagdata           #####\n",
       "<br>2020-03-24 12:09:43\tINFO\tflagdata::::\tflagdata(vis=\"ngc3621.ms\",mode=\"manual\",autocorr=False,inpfile=\"\",reason=\"any\",\n",
       "<br>2020-03-24 12:09:43\tINFO\tflagdata::::+\t        tbuff=0.0,spw=\"*:790~807\",field=\"0408-65,1117-248\",antenna=\"\",uvrange=\"\",\n",
       "<br>2020-03-24 12:09:43\tINFO\tflagdata::::+\t        timerange=\"\",correlation=\"\",scan=\"\",intent=\"\",array=\"\",\n",
       "<br>2020-03-24 12:09:43\tINFO\tflagdata::::+\t        observation=\"\",feed=\"\",clipminmax=[],datacolumn=\"DATA\",clipoutside=True,\n",
       "<br>2020-03-24 12:09:43\tINFO\tflagdata::::+\t        channelavg=False,chanbin=1,timeavg=False,timebin=\"0s\",clipzeros=False,\n",
       "<br>2020-03-24 12:09:43\tINFO\tflagdata::::+\t        quackinterval=1.0,quackmode=\"beg\",quackincrement=False,tolerance=0.0,addantenna=\"\",\n",
       "<br>2020-03-24 12:09:43\tINFO\tflagdata::::+\t        lowerlimit=0.0,upperlimit=90.0,ntime=\"scan\",combinescans=False,timecutoff=4.0,\n",
       "<br>2020-03-24 12:09:43\tINFO\tflagdata::::+\t        freqcutoff=3.0,timefit=\"line\",freqfit=\"poly\",maxnpieces=7,flagdimension=\"freqtime\",\n",
       "<br>2020-03-24 12:09:43\tINFO\tflagdata::::+\t        usewindowstats=\"none\",halfwin=1,extendflags=True,winsize=3,timedev=\"\",\n",
       "<br>2020-03-24 12:09:43\tINFO\tflagdata::::+\t        freqdev=\"\",timedevscale=5.0,freqdevscale=5.0,spectralmax=1000000.0,spectralmin=0.0,\n",
       "<br>2020-03-24 12:09:43\tINFO\tflagdata::::+\t        antint_ref_antenna=\"\",minchanfrac=0.6,verbose=False,extendpols=True,growtime=50.0,\n",
       "<br>2020-03-24 12:09:43\tINFO\tflagdata::::+\t        growfreq=50.0,growaround=False,flagneartime=False,flagnearfreq=False,minrel=0.0,\n",
       "<br>2020-03-24 12:09:43\tINFO\tflagdata::::+\t        maxrel=1.0,minabs=0,maxabs=-1,spwchan=False,spwcorr=False,\n",
       "<br>2020-03-24 12:09:43\tINFO\tflagdata::::+\t        basecnt=False,fieldcnt=False,name=\"Summary\",action=\"apply\",display=\"\",\n",
       "<br>2020-03-24 12:09:43\tINFO\tflagdata::::+\t        flagbackup=False,savepars=False,cmdreason=\"\",outfile=\"\",overwrite=True,\n",
       "<br>2020-03-24 12:09:43\tINFO\tflagdata::::+\t        writeflags=True)\n",
       "<br>2020-03-24 12:09:43\tINFO\tAgentFlagger::open\tTable type is Measurement Set\n",
       "<br>2020-03-24 12:09:43\tINFO\tflagdata::::\tManual mode is active\n",
       "<br>2020-03-24 12:09:43\tINFO\tFlagMSHandler::selectData \t Selected spw-channels ids are Axis Lengths: [1, 4]  (NB: Matrix in Row/Column order)\n",
       "<br>2020-03-24 12:09:43\tINFO\tFlagMSHandler::selectData +\t[0, 790, 807, 1]\n",
       "<br>2020-03-24 12:09:43\tINFO\tflagdata::::\tInitializing the agents\n",
       "<br>2020-03-24 12:09:43\tINFO\tManual::setAgentParameters \tautocorr is 0\n",
       "<br>2020-03-24 12:09:43\tINFO\tAgentFlagger::initAgents\tThere are 1 valid agents in list\n",
       "<br>2020-03-24 12:09:43\tINFO\tflagdata::::\tRunning the agentflagger tool\n",
       "<br>2020-03-24 12:09:44\tINFO\tFlagMSHandler::\t------------------------------------------------------------------------------------ \n",
       "<br>2020-03-24 12:09:44\tINFO\tFlagMSHandler::\tChunk = 1 [progress: 50%], Observation = 0, Array = 0, Scan = 1, Field = 0 (0408-65), Spw = 0, Channels = 900, Corrs = [ XX YY ], Total Rows = 3129\n",
       "<br>2020-03-24 12:09:44\tINFO\tManual::chunkSummary\t=> Data flagged so far 2%\n",
       "<br>2020-03-24 12:09:44\tINFO\tFlagMSHandler::\t------------------------------------------------------------------------------------ \n",
       "<br>2020-03-24 12:09:44\tINFO\tFlagMSHandler::\tChunk = 2 [progress: 59%], Observation = 0, Array = 0, Scan = 3, Field = 2 (1117-248), Spw = 0, Channels = 900, Corrs = [ XX YY ], Total Rows = 609\n",
       "<br>2020-03-24 12:09:44\tINFO\tManual::chunkSummary\t=> Data flagged so far 2%\n",
       "<br>2020-03-24 12:09:44\tINFO\tFlagMSHandler::\t------------------------------------------------------------------------------------ \n",
       "<br>2020-03-24 12:09:44\tINFO\tFlagMSHandler::\tChunk = 3 [progress: 69%], Observation = 0, Array = 0, Scan = 5, Field = 2 (1117-248), Spw = 0, Channels = 900, Corrs = [ XX YY ], Total Rows = 609\n",
       "<br>2020-03-24 12:09:44\tINFO\tManual::chunkSummary\t=> Data flagged so far 2%\n",
       "<br>2020-03-24 12:09:44\tINFO\tFlagMSHandler::\t------------------------------------------------------------------------------------ \n",
       "<br>2020-03-24 12:09:44\tINFO\tFlagMSHandler::\tChunk = 4 [progress: 79%], Observation = 0, Array = 0, Scan = 7, Field = 2 (1117-248), Spw = 0, Channels = 900, Corrs = [ XX YY ], Total Rows = 630\n",
       "<br>2020-03-24 12:09:44\tINFO\tManual::chunkSummary\t=> Data flagged so far 2%\n",
       "<br>2020-03-24 12:09:44\tINFO\tFlagMSHandler::\t------------------------------------------------------------------------------------ \n",
       "<br>2020-03-24 12:09:44\tINFO\tFlagMSHandler::\tChunk = 5 [progress: 89%], Observation = 0, Array = 0, Scan = 9, Field = 2 (1117-248), Spw = 0, Channels = 900, Corrs = [ XX YY ], Total Rows = 630\n",
       "<br>2020-03-24 12:09:44\tINFO\tManual::chunkSummary\t=> Data flagged so far 2%\n",
       "<br>2020-03-24 12:09:44\tINFO\tFlagMSHandler::\t------------------------------------------------------------------------------------ \n",
       "<br>2020-03-24 12:09:44\tINFO\tFlagMSHandler::\tChunk = 6 [progress: 100%], Observation = 0, Array = 0, Scan = 11, Field = 2 (1117-248), Spw = 0, Channels = 900, Corrs = [ XX YY ], Total Rows = 630\n",
       "<br>2020-03-24 12:09:44\tINFO\tManual::chunkSummary\t=> Data flagged so far 2%\n",
       "<br>2020-03-24 12:09:44\tINFO\tFlagMSHandler::nextChunk \t==================================================================================== \n",
       "<br>2020-03-24 12:09:44\tINFO\tManual::tableSummary\t=> Percentage of data flagged in table selection: 2%\n",
       "<br>2020-03-24 12:09:44\tINFO\tAgentFlagger::run\t=> Writing flags to the MS\n",
       "<br>2020-03-24 12:09:44\tINFO\tflagdata::::\tCASA Version 5.5.0-149  \n",
       "<br>2020-03-24 12:09:44\tINFO\tflagdata::::\t\n",
       "<br>2020-03-24 12:09:44\tINFO\tflagdata::::\t##### End Task: flagdata             #####\n",
       "<br>2020-03-24 12:09:44\tINFO\tflagdata::::+\t##########################################\n",
       "</div>"
      ]
     },
     "metadata": {},
     "output_type": "display_data"
    }
   ],
   "source": [
    "flagdata(vis=msfile, field='0408-65,1117-248', mode='manual', spw='*:30~35', flagbackup=False);\n",
    "flagdata(vis=msfile, field='0408-65,1117-248', mode='manual', spw='*:420~440', flagbackup=False);\n",
    "flagdata(vis=msfile, field='0408-65,1117-248', mode='manual', spw='*:450~470', flagbackup=False);\n",
    "flagdata(vis=msfile, field='0408-65,1117-248', mode='manual', spw='*:790~807', flagbackup=False);"
   ]
  },
  {
   "cell_type": "code",
   "execution_count": 22,
   "metadata": {},
   "outputs": [
    {
     "data": {
      "text/html": [
       "<button type=\"button\" class=\"btn btn-info\" data-toggle=\"collapse\" id=\"1585051815_98\" data-target=\"#log1585051815_98\" onclick=\"if ($('#'+this.id).html()=='Show log') {$('#'+this.id).html('Hide log')} else {$('#'+this.id).html('Show log')}; return false\">Show log</button> <div class=\"collapse\" id=\"log1585051815_98\">2020-03-24 12:10:16\tINFO\tflagdata::::\t\n",
       "<br>2020-03-24 12:10:16\tINFO\tflagdata::::+\t##########################################\n",
       "<br>2020-03-24 12:10:16\tINFO\tflagdata::::+\t##### Begin Task: flagdata           #####\n",
       "<br>2020-03-24 12:10:16\tINFO\tflagdata::::\tflagdata(vis=\"ngc3621.ms\",mode=\"manual\",autocorr=False,inpfile=\"\",reason=\"any\",\n",
       "<br>2020-03-24 12:10:16\tINFO\tflagdata::::+\t        tbuff=0.0,spw=\"\",field=\"\",antenna=\"\",uvrange=\"<50lambda\",\n",
       "<br>2020-03-24 12:10:16\tINFO\tflagdata::::+\t        timerange=\"\",correlation=\"\",scan=\"\",intent=\"\",array=\"\",\n",
       "<br>2020-03-24 12:10:16\tINFO\tflagdata::::+\t        observation=\"\",feed=\"\",clipminmax=[],datacolumn=\"DATA\",clipoutside=True,\n",
       "<br>2020-03-24 12:10:16\tINFO\tflagdata::::+\t        channelavg=False,chanbin=1,timeavg=False,timebin=\"0s\",clipzeros=False,\n",
       "<br>2020-03-24 12:10:16\tINFO\tflagdata::::+\t        quackinterval=1.0,quackmode=\"beg\",quackincrement=False,tolerance=0.0,addantenna=\"\",\n",
       "<br>2020-03-24 12:10:16\tINFO\tflagdata::::+\t        lowerlimit=0.0,upperlimit=90.0,ntime=\"scan\",combinescans=False,timecutoff=4.0,\n",
       "<br>2020-03-24 12:10:16\tINFO\tflagdata::::+\t        freqcutoff=3.0,timefit=\"line\",freqfit=\"poly\",maxnpieces=7,flagdimension=\"freqtime\",\n",
       "<br>2020-03-24 12:10:16\tINFO\tflagdata::::+\t        usewindowstats=\"none\",halfwin=1,extendflags=True,winsize=3,timedev=\"\",\n",
       "<br>2020-03-24 12:10:16\tINFO\tflagdata::::+\t        freqdev=\"\",timedevscale=5.0,freqdevscale=5.0,spectralmax=1000000.0,spectralmin=0.0,\n",
       "<br>2020-03-24 12:10:16\tINFO\tflagdata::::+\t        antint_ref_antenna=\"\",minchanfrac=0.6,verbose=False,extendpols=True,growtime=50.0,\n",
       "<br>2020-03-24 12:10:16\tINFO\tflagdata::::+\t        growfreq=50.0,growaround=False,flagneartime=False,flagnearfreq=False,minrel=0.0,\n",
       "<br>2020-03-24 12:10:16\tINFO\tflagdata::::+\t        maxrel=1.0,minabs=0,maxabs=-1,spwchan=False,spwcorr=False,\n",
       "<br>2020-03-24 12:10:16\tINFO\tflagdata::::+\t        basecnt=False,fieldcnt=False,name=\"Summary\",action=\"apply\",display=\"\",\n",
       "<br>2020-03-24 12:10:16\tINFO\tflagdata::::+\t        flagbackup=False,savepars=False,cmdreason=\"\",outfile=\"\",overwrite=True,\n",
       "<br>2020-03-24 12:10:16\tINFO\tflagdata::::+\t        writeflags=True)\n",
       "<br>2020-03-24 12:10:16\tINFO\tAgentFlagger::open\tTable type is Measurement Set\n",
       "<br>2020-03-24 12:10:16\tINFO\tflagdata::::\tManual mode is active\n",
       "<br>2020-03-24 12:10:16\tINFO\tflagdata::::\tInitializing the agents\n",
       "<br>2020-03-24 12:10:16\tINFO\tManual::setAgentParameters \tautocorr is 0\n",
       "<br>2020-03-24 12:10:16\tINFO\tAgentFlagger::initAgents\tThere are 1 valid agents in list\n",
       "<br>2020-03-24 12:10:16\tINFO\tflagdata::::\tRunning the agentflagger tool\n",
       "<br>2020-03-24 12:10:16\tINFO\tFlagMSHandler::\t------------------------------------------------------------------------------------ \n",
       "<br>2020-03-24 12:10:16\tINFO\tFlagMSHandler::\tChunk = 1 [progress: 19%], Observation = 0, Array = 0, Scan = 1, Field = 0 (0408-65), Spw = 0, Channels = 900, Corrs = [ XX YY ], Total Rows = 894\n",
       "<br>2020-03-24 12:10:16\tINFO\tManual::chunkSummary\t=> Data flagged so far 100%\n",
       "<br>2020-03-24 12:10:16\tINFO\tFlagMSHandler::\t------------------------------------------------------------------------------------ \n",
       "<br>2020-03-24 12:10:16\tINFO\tFlagMSHandler::\tChunk = 2 [progress: 40%], Observation = 0, Array = 0, Scan = 2, Field = 1 (NGC3621), Spw = 0, Channels = 900, Corrs = [ XX YY ], Total Rows = 900\n",
       "<br>2020-03-24 12:10:16\tINFO\tManual::chunkSummary\t=> Data flagged so far 100%\n",
       "<br>2020-03-24 12:10:16\tINFO\tFlagMSHandler::\t------------------------------------------------------------------------------------ \n",
       "<br>2020-03-24 12:10:16\tINFO\tFlagMSHandler::\tChunk = 3 [progress: 43%], Observation = 0, Array = 0, Scan = 3, Field = 2 (1117-248), Spw = 0, Channels = 900, Corrs = [ XX YY ], Total Rows = 174\n",
       "<br>2020-03-24 12:10:16\tINFO\tManual::chunkSummary\t=> Data flagged so far 100%\n",
       "<br>2020-03-24 12:10:16\tINFO\tFlagMSHandler::\t------------------------------------------------------------------------------------ \n",
       "<br>2020-03-24 12:10:16\tINFO\tFlagMSHandler::\tChunk = 4 [progress: 53%], Observation = 0, Array = 0, Scan = 4, Field = 1 (NGC3621), Spw = 0, Channels = 900, Corrs = [ XX YY ], Total Rows = 450\n",
       "<br>2020-03-24 12:10:16\tINFO\tManual::chunkSummary\t=> Data flagged so far 100%\n",
       "<br>2020-03-24 12:10:16\tINFO\tFlagMSHandler::\t------------------------------------------------------------------------------------ \n",
       "<br>2020-03-24 12:10:16\tINFO\tFlagMSHandler::\tChunk = 5 [progress: 57%], Observation = 0, Array = 0, Scan = 5, Field = 2 (1117-248), Spw = 0, Channels = 900, Corrs = [ XX YY ], Total Rows = 174\n",
       "<br>2020-03-24 12:10:16\tINFO\tManual::chunkSummary\t=> Data flagged so far 100%\n",
       "<br>2020-03-24 12:10:16\tINFO\tFlagMSHandler::\t------------------------------------------------------------------------------------ \n",
       "<br>2020-03-24 12:10:16\tINFO\tFlagMSHandler::\tChunk = 6 [progress: 67%], Observation = 0, Array = 0, Scan = 6, Field = 1 (NGC3621), Spw = 0, Channels = 900, Corrs = [ XX YY ], Total Rows = 450\n",
       "<br>2020-03-24 12:10:16\tINFO\tManual::chunkSummary\t=> Data flagged so far 100%\n",
       "<br>2020-03-24 12:10:16\tINFO\tFlagMSHandler::\t------------------------------------------------------------------------------------ \n",
       "<br>2020-03-24 12:10:16\tINFO\tFlagMSHandler::\tChunk = 7 [progress: 71%], Observation = 0, Array = 0, Scan = 7, Field = 2 (1117-248), Spw = 0, Channels = 900, Corrs = [ XX YY ], Total Rows = 180\n",
       "<br>2020-03-24 12:10:16\tINFO\tManual::chunkSummary\t=> Data flagged so far 100%\n",
       "<br>2020-03-24 12:10:16\tINFO\tFlagMSHandler::\t------------------------------------------------------------------------------------ \n",
       "<br>2020-03-24 12:10:16\tINFO\tFlagMSHandler::\tChunk = 8 [progress: 81%], Observation = 0, Array = 0, Scan = 8, Field = 1 (NGC3621), Spw = 0, Channels = 900, Corrs = [ XX YY ], Total Rows = 450\n",
       "<br>2020-03-24 12:10:16\tINFO\tManual::chunkSummary\t=> Data flagged so far 100%\n",
       "<br>2020-03-24 12:10:16\tINFO\tFlagMSHandler::\t------------------------------------------------------------------------------------ \n",
       "<br>2020-03-24 12:10:16\tINFO\tFlagMSHandler::\tChunk = 9 [progress: 85%], Observation = 0, Array = 0, Scan = 9, Field = 2 (1117-248), Spw = 0, Channels = 900, Corrs = [ XX YY ], Total Rows = 180\n",
       "<br>2020-03-24 12:10:16\tINFO\tManual::chunkSummary\t=> Data flagged so far 100%\n",
       "<br>2020-03-24 12:10:16\tINFO\tFlagMSHandler::\t------------------------------------------------------------------------------------ \n",
       "<br>2020-03-24 12:10:16\tINFO\tFlagMSHandler::\tChunk = 10 [progress: 95%], Observation = 0, Array = 0, Scan = 10, Field = 1 (NGC3621), Spw = 0, Channels = 900, Corrs = [ XX YY ], Total Rows = 450\n",
       "<br>2020-03-24 12:10:16\tINFO\tManual::chunkSummary\t=> Data flagged so far 100%\n",
       "<br>2020-03-24 12:10:16\tINFO\tFlagMSHandler::\t------------------------------------------------------------------------------------ \n",
       "<br>2020-03-24 12:10:16\tINFO\tFlagMSHandler::\tChunk = 11 [progress: 100%], Observation = 0, Array = 0, Scan = 11, Field = 2 (1117-248), Spw = 0, Channels = 900, Corrs = [ XX YY ], Total Rows = 180\n",
       "<br>2020-03-24 12:10:16\tINFO\tManual::chunkSummary\t=> Data flagged so far 100%\n",
       "<br>2020-03-24 12:10:16\tINFO\tFlagMSHandler::nextChunk \t==================================================================================== \n",
       "<br>2020-03-24 12:10:16\tINFO\tManual::tableSummary\t=> Percentage of data flagged in table selection: 100%\n",
       "<br>2020-03-24 12:10:16\tINFO\tAgentFlagger::run\t=> Writing flags to the MS\n",
       "<br>2020-03-24 12:10:16\tINFO\tflagdata::::\tCASA Version 5.5.0-149  \n",
       "<br>2020-03-24 12:10:16\tINFO\tflagdata::::\t\n",
       "<br>2020-03-24 12:10:16\tINFO\tflagdata::::\t##### End Task: flagdata             #####\n",
       "<br>2020-03-24 12:10:16\tINFO\tflagdata::::+\t##########################################\n",
       "</div>"
      ]
     },
     "metadata": {},
     "output_type": "display_data"
    }
   ],
   "source": [
    "flagdata(vis=msfile, uvrange='<50lambda', flagbackup=False);"
   ]
  },
  {
   "cell_type": "markdown",
   "metadata": {},
   "source": [
    "### Checking after flagging"
   ]
  },
  {
   "cell_type": "code",
   "execution_count": 23,
   "metadata": {
    "scrolled": false
   },
   "outputs": [
    {
     "data": {
      "image/png": "[encoded data removed]",
      "text/plain": [
       "<IPython.core.display.Image object>"
      ]
     },
     "metadata": {},
     "output_type": "display_data"
    },
    {
     "data": {
      "text/plain": [
       "True"
      ]
     },
     "execution_count": 23,
     "metadata": {},
     "output_type": "execute_result"
    },
    {
     "data": {
      "text/html": [
       "<button type=\"button\" class=\"btn btn-info\" data-toggle=\"collapse\" id=\"1585051872_02\" data-target=\"#log1585051872_02\" onclick=\"if ($('#'+this.id).html()=='Show log') {$('#'+this.id).html('Hide log')} else {$('#'+this.id).html('Show log')}; return false\">Show log</button> <div class=\"collapse\" id=\"log1585051872_02\">2020-03-24 12:11:10\tINFO\tplotms::::\t\n",
       "<br>2020-03-24 12:11:10\tINFO\tplotms::::+\t##########################################\n",
       "<br>2020-03-24 12:11:10\tINFO\tplotms::::+\t##### Begin Task: plotms             #####\n",
       "<br>2020-03-24 12:11:10\tINFO\tplotms::::\tplotms(vis=\"ngc3621.ms\",gridrows=1,gridcols=1,rowindex=0,colindex=0,\n",
       "<br>2020-03-24 12:11:10\tINFO\tplotms::::+\t        plotindex=0,xaxis=\"channel\",xdatacolumn=\"\",xframe=\"\",xinterp=\"\",\n",
       "<br>2020-03-24 12:11:10\tINFO\tplotms::::+\t        yaxis=\"phase\",ydatacolumn=\"\",yframe=\"\",yinterp=\"\",yaxislocation=\"\",\n",
       "<br>2020-03-24 12:11:10\tINFO\tplotms::::+\t        selectdata=True,field=\"0408-65\",spw=\"\",timerange=\"\",uvrange=\"\",\n",
       "<br>2020-03-24 12:11:10\tINFO\tplotms::::+\t        antenna=\"\",scan=\"\",correlation=\"XX,YY\",array=\"\",observation=\"\",\n",
       "<br>2020-03-24 12:11:10\tINFO\tplotms::::+\t        intent=\"\",feed=\"\",msselect=\"\",averagedata=True,avgchannel=\"\",\n",
       "<br>2020-03-24 12:11:10\tINFO\tplotms::::+\t        avgtime=\"3300\",avgscan=False,avgfield=False,avgbaseline=False,avgantenna=False,\n",
       "<br>2020-03-24 12:11:10\tINFO\tplotms::::+\t        avgspw=False,scalar=False,transform=True,freqframe=\"\",restfreq=\"\",\n",
       "<br>2020-03-24 12:11:10\tINFO\tplotms::::+\t        veldef=\"RADIO\",shift=[0.0, 0.0],extendflag=False,extcorr=False,extchannel=False,\n",
       "<br>2020-03-24 12:11:10\tINFO\tplotms::::+\t        iteraxis=\"\",xselfscale=False,yselfscale=False,xsharedaxis=False,ysharedaxis=False,\n",
       "<br>2020-03-24 12:11:10\tINFO\tplotms::::+\t        customsymbol=False,symbolshape=\"autoscaling\",symbolsize=2,symbolcolor=\"0000ff\",symbolfill=\"fill\",\n",
       "<br>2020-03-24 12:11:10\tINFO\tplotms::::+\t        symboloutline=False,coloraxis=\"baseline\",customflaggedsymbol=False,flaggedsymbolshape=\"circle\",flaggedsymbolsize=2,\n",
       "<br>2020-03-24 12:11:10\tINFO\tplotms::::+\t        flaggedsymbolcolor=\"ff0000\",flaggedsymbolfill=\"fill\",flaggedsymboloutline=False,xconnector=\"\",timeconnector=False,\n",
       "<br>2020-03-24 12:11:10\tINFO\tplotms::::+\t        plotrange=[0, 0, -180, 180],title=\"\",titlefont=0,xlabel=\"\",xaxisfont=0,\n",
       "<br>2020-03-24 12:11:10\tINFO\tplotms::::+\t        ylabel=\"\",yaxisfont=0,showmajorgrid=False,majorwidth=1,majorstyle=\"\",\n",
       "<br>2020-03-24 12:11:10\tINFO\tplotms::::+\t        majorcolor=\"B0B0B0\",showminorgrid=False,minorwidth=1,minorstyle=\"\",minorcolor=\"D0D0D0\",\n",
       "<br>2020-03-24 12:11:10\tINFO\tplotms::::+\t        showlegend=False,legendposition=\"\",plotfile=\"plotms_temp.png\",expformat=\"\",verbose=True,\n",
       "<br>2020-03-24 12:11:10\tINFO\tplotms::::+\t        exprange=\"\",highres=False,dpi=-1,width=-1,height=-1,\n",
       "<br>2020-03-24 12:11:10\tINFO\tplotms::::+\t        overwrite=True,showgui=False,clearplots=True,callib=[''],headeritems=\"\",\n",
       "<br>2020-03-24 12:11:10\tINFO\tplotms::::+\t        showatm=False,showtsky=False)\n",
       "<br>2020-03-24 12:11:10\tINFO\tPlotMS::params_changed\tUpdating: REDRAW, MSDATA, CACHE, AXES, CANVAS, DISPLAY, PAGEHEADER, ITERATION, LOG, PLOTMS_OPTIONS.\n",
       "<br>2020-03-24 12:11:10\tINFO\tPlotMS::load_cache\tClearing the existing plotms cache.\n",
       "<br>2020-03-24 12:11:10\tINFO\tPlotMS::load_cache\tSTART     Current memory usage: 10422.5 kilobytes.\n",
       "<br>2020-03-24 12:11:10\tINFO\tPlotMS::load_cache\tPlot Data Transformations:\n",
       "<br>2020-03-24 12:11:10\tINFO\tPlotMS::load_cache+\t Frame      = \n",
       "<br>2020-03-24 12:11:10\tINFO\tPlotMS::load_cache+\t VelDef     = RADIO\n",
       "<br>2020-03-24 12:11:10\tINFO\tPlotMS::load_cache+\t RestFreq   = 0 MHz\n",
       "<br>2020-03-24 12:11:10\tINFO\tPlotMS::load_cache+\t dX         = 0 arcsec\n",
       "<br>2020-03-24 12:11:10\tINFO\tPlotMS::load_cache+\t dY         = 0 arcsec\n",
       "<br>2020-03-24 12:11:10\tINFO\tPlotMS::load_cache+\t formStokes = false\n",
       "<br>2020-03-24 12:11:10\tINFO\tPlotMS::load_cache\tData Averaging: \n",
       "<br>2020-03-24 12:11:10\tINFO\tPlotMS::load_cache+\t Using VECTOR averaging.\n",
       "<br>2020-03-24 12:11:10\tINFO\tPlotMS::load_cache+\t Time: 3300 seconds.  Scan: false;  Field: false\n",
       "<br>2020-03-24 12:11:10\tINFO\tPlotMS::load_cache\tPlot Data Calibration:\n",
       "<br>2020-03-24 12:11:10\tINFO\tPlotMS::load_cache+\t Use Calibration    = 0\n",
       "<br>2020-03-24 12:11:10\tINFO\tPlotMS::load_cache+\t Calibration Library   = \n",
       "<br>2020-03-24 12:11:10\tINFO\tPlotMS::load_cache\tCaching for the new plot: Phase(18):data vs. Channel(5)...\n",
       "<br>2020-03-24 12:11:10\tINFO\tPlotMS::load_cache\tLoading page header cache\n",
       "<br>2020-03-24 12:11:11\tINFO\tPlotMS::load_cache\tData selection will yield a total of 37800 plottable points (flagged and unflagged).\n",
       "<br>2020-03-24 12:11:11\tINFO\tPlotMS::load_cache+\tThe plotms cache will require an estimated 0.000237888 GB of memory (6.29333 bytes/point).\n",
       "<br>2020-03-24 12:11:11\tINFO\tPlotMS::load_cache+\tThis is 0.00145833% of the memory avail. to CASA (16.3124 GB).\n",
       "<br>2020-03-24 12:11:11\tINFO\tPlotMS::load_cache\tLoading chunks......\n",
       "<br>2020-03-24 12:11:11\tINFO\tPlotMS::load_cache\tGenerating the plot mask.\n",
       "<br>2020-03-24 12:11:11\tINFO\tPlotMS::load_cache\trefTime = 2017/04/08/00:00:00.0\n",
       "<br>2020-03-24 12:11:11\tINFO\tPlotMS::load_cache\tFinished loading.\n",
       "<br>2020-03-24 12:11:11\tINFO\tPlotMS::load_cache\tSetting up iteration indexing (if necessary), and calculating plot ranges.\n",
       "<br>2020-03-24 12:11:11\tINFO\tPlotMS::load_cache\tAxes ranges:\n",
       "<br>2020-03-24 12:11:11\tINFO\tPlotMS::load_cache+\tChannel: 0 to 899 (unflagged); ; 0 to 899 (flagged).\n",
       "<br>2020-03-24 12:11:11\tINFO\tPlotMS::load_cache+\tPhase:data: -71.1425 to 140.807 (unflagged); -179.911 to 179.799(flagged).\n",
       "<br>2020-03-24 12:11:11\tINFO\tPlotMS::load_cache\tFinished indexing.\n",
       "<br>2020-03-24 12:11:10\tINFO\tPlotMS::load_cache\tEND       Time: +1 seconds.  Memory: +268.812 kilobytes.\n",
       "<br>2020-03-24 12:11:11\tINFO\tPlotMS::plot\tPlotting 16040 unflagged points.\n",
       "<br>2020-03-24 12:11:11\tINFO\tplotms::::\tPlot file /home/jupyter/MeerKAT-Cookbook/casa/plotms_temp.png\n",
       "<br>2020-03-24 12:11:12\tINFO\tplotms::::\tExporting the plot.\n",
       "<br>2020-03-24 12:11:12\tINFO\tQPExporter::export\tSTART     Current memory usage: 10831 kilobytes.\n",
       "<br>2020-03-24 12:11:12\tINFO\tQPExporter::export\tEND       Time: +1 seconds.  Memory: +1.98438 kilobytes.\n",
       "<br>2020-03-24 12:11:12\tINFO\tPlotMS::plot\tExported /home/jupyter/MeerKAT-Cookbook/casa/plotms_temp.png\n",
       "<br>2020-03-24 12:11:12\tINFO\tplotms::::\t##### End Task: plotms               #####\n",
       "<br>2020-03-24 12:11:12\tINFO\tplotms::::+\t##########################################\n",
       "</div>"
      ]
     },
     "metadata": {},
     "output_type": "display_data"
    }
   ],
   "source": [
    "plotms(vis=msfile,\n",
    "       xaxis='channel',\n",
    "       yaxis='phase',\n",
    "       averagedata=True,\n",
    "       avgtime='3300',\n",
    "       correlation='XX,YY',\n",
    "       field=f_cal,\n",
    "       coloraxis='baseline',\n",
    "       plotrange=[0,0,-180,180])"
   ]
  },
  {
   "cell_type": "code",
   "execution_count": 24,
   "metadata": {
    "scrolled": false
   },
   "outputs": [
    {
     "data": {
      "image/png": "[encoded data removed]",
      "text/plain": [
       "<IPython.core.display.Image object>"
      ]
     },
     "metadata": {},
     "output_type": "display_data"
    },
    {
     "data": {
      "text/plain": [
       "True"
      ]
     },
     "execution_count": 24,
     "metadata": {},
     "output_type": "execute_result"
    },
    {
     "data": {
      "text/html": [
       "<button type=\"button\" class=\"btn btn-info\" data-toggle=\"collapse\" id=\"1585052270_78\" data-target=\"#log1585052270_78\" onclick=\"if ($('#'+this.id).html()=='Show log') {$('#'+this.id).html('Hide log')} else {$('#'+this.id).html('Show log')}; return false\">Show log</button> <div class=\"collapse\" id=\"log1585052270_78\">2020-03-24 12:17:49\tINFO\tplotms::::\t\n",
       "<br>2020-03-24 12:17:49\tINFO\tplotms::::+\t##########################################\n",
       "<br>2020-03-24 12:17:49\tINFO\tplotms::::+\t##### Begin Task: plotms             #####\n",
       "<br>2020-03-24 12:17:49\tINFO\tplotms::::\tplotms(vis=\"ngc3621.ms\",gridrows=1,gridcols=1,rowindex=0,colindex=0,\n",
       "<br>2020-03-24 12:17:49\tINFO\tplotms::::+\t        plotindex=0,xaxis=\"channel\",xdatacolumn=\"\",xframe=\"\",xinterp=\"\",\n",
       "<br>2020-03-24 12:17:49\tINFO\tplotms::::+\t        yaxis=\"amp\",ydatacolumn=\"\",yframe=\"\",yinterp=\"\",yaxislocation=\"\",\n",
       "<br>2020-03-24 12:17:49\tINFO\tplotms::::+\t        selectdata=True,field=\"0408-65,1117-248\",spw=\"\",timerange=\"\",uvrange=\"\",\n",
       "<br>2020-03-24 12:17:49\tINFO\tplotms::::+\t        antenna=\"\",scan=\"\",correlation=\"XX,YY\",array=\"\",observation=\"\",\n",
       "<br>2020-03-24 12:17:49\tINFO\tplotms::::+\t        intent=\"\",feed=\"\",msselect=\"\",averagedata=True,avgchannel=\"\",\n",
       "<br>2020-03-24 12:17:49\tINFO\tplotms::::+\t        avgtime=\"3300\",avgscan=False,avgfield=False,avgbaseline=True,avgantenna=False,\n",
       "<br>2020-03-24 12:17:49\tINFO\tplotms::::+\t        avgspw=False,scalar=False,transform=True,freqframe=\"\",restfreq=\"\",\n",
       "<br>2020-03-24 12:17:49\tINFO\tplotms::::+\t        veldef=\"RADIO\",shift=[0.0, 0.0],extendflag=False,extcorr=False,extchannel=False,\n",
       "<br>2020-03-24 12:17:49\tINFO\tplotms::::+\t        iteraxis=\"\",xselfscale=False,yselfscale=False,xsharedaxis=False,ysharedaxis=False,\n",
       "<br>2020-03-24 12:17:49\tINFO\tplotms::::+\t        customsymbol=False,symbolshape=\"autoscaling\",symbolsize=2,symbolcolor=\"0000ff\",symbolfill=\"fill\",\n",
       "<br>2020-03-24 12:17:49\tINFO\tplotms::::+\t        symboloutline=False,coloraxis=\"field\",customflaggedsymbol=False,flaggedsymbolshape=\"circle\",flaggedsymbolsize=2,\n",
       "<br>2020-03-24 12:17:49\tINFO\tplotms::::+\t        flaggedsymbolcolor=\"ff0000\",flaggedsymbolfill=\"fill\",flaggedsymboloutline=False,xconnector=\"\",timeconnector=False,\n",
       "<br>2020-03-24 12:17:49\tINFO\tplotms::::+\t        plotrange=[],title=\"\",titlefont=0,xlabel=\"\",xaxisfont=0,\n",
       "<br>2020-03-24 12:17:49\tINFO\tplotms::::+\t        ylabel=\"\",yaxisfont=0,showmajorgrid=False,majorwidth=1,majorstyle=\"\",\n",
       "<br>2020-03-24 12:17:49\tINFO\tplotms::::+\t        majorcolor=\"B0B0B0\",showminorgrid=False,minorwidth=1,minorstyle=\"\",minorcolor=\"D0D0D0\",\n",
       "<br>2020-03-24 12:17:49\tINFO\tplotms::::+\t        showlegend=False,legendposition=\"\",plotfile=\"plotms_temp.png\",expformat=\"\",verbose=True,\n",
       "<br>2020-03-24 12:17:49\tINFO\tplotms::::+\t        exprange=\"\",highres=False,dpi=-1,width=-1,height=-1,\n",
       "<br>2020-03-24 12:17:49\tINFO\tplotms::::+\t        overwrite=True,showgui=False,clearplots=True,callib=[''],headeritems=\"\",\n",
       "<br>2020-03-24 12:17:49\tINFO\tplotms::::+\t        showatm=False,showtsky=False)\n",
       "<br>2020-03-24 12:17:49\tINFO\tPlotMS::params_changed\tUpdating: REDRAW, MSDATA, CACHE, AXES, CANVAS, DISPLAY, PAGEHEADER, ITERATION, LOG, PLOTMS_OPTIONS.\n",
       "<br>2020-03-24 12:17:49\tINFO\tPlotMS::load_cache\tClearing the existing plotms cache.\n",
       "<br>2020-03-24 12:17:49\tINFO\tPlotMS::load_cache\tSTART     Current memory usage: 10430.9 kilobytes.\n",
       "<br>2020-03-24 12:17:49\tINFO\tPlotMS::load_cache\tPlot Data Transformations:\n",
       "<br>2020-03-24 12:17:49\tINFO\tPlotMS::load_cache+\t Frame      = \n",
       "<br>2020-03-24 12:17:49\tINFO\tPlotMS::load_cache+\t VelDef     = RADIO\n",
       "<br>2020-03-24 12:17:49\tINFO\tPlotMS::load_cache+\t RestFreq   = 0 MHz\n",
       "<br>2020-03-24 12:17:49\tINFO\tPlotMS::load_cache+\t dX         = 0 arcsec\n",
       "<br>2020-03-24 12:17:49\tINFO\tPlotMS::load_cache+\t dY         = 0 arcsec\n",
       "<br>2020-03-24 12:17:49\tINFO\tPlotMS::load_cache+\t formStokes = false\n",
       "<br>2020-03-24 12:17:49\tINFO\tPlotMS::load_cache\tData Averaging: \n",
       "<br>2020-03-24 12:17:49\tINFO\tPlotMS::load_cache+\t Using VECTOR averaging.\n",
       "<br>2020-03-24 12:17:49\tINFO\tPlotMS::load_cache+\t Time: 3300 seconds.  Scan: false;  Field: false\n",
       "<br>2020-03-24 12:17:49\tINFO\tPlotMS::load_cache+\t All Baselines: true\n",
       "<br>2020-03-24 12:17:49\tINFO\tPlotMS::load_cache\tPlot Data Calibration:\n",
       "<br>2020-03-24 12:17:49\tINFO\tPlotMS::load_cache+\t Use Calibration    = 0\n",
       "<br>2020-03-24 12:17:49\tINFO\tPlotMS::load_cache+\t Calibration Library   = \n",
       "<br>2020-03-24 12:17:49\tINFO\tPlotMS::load_cache\tCaching for the new plot: Amp(17):data vs. Channel(5)...\n",
       "<br>2020-03-24 12:17:49\tINFO\tPlotMS::load_cache\tLoading page header cache\n",
       "<br>2020-03-24 12:17:50\tINFO\tPlotMS::load_cache\tData selection will yield a total of 226800 plottable points (flagged and unflagged).\n",
       "<br>2020-03-24 12:17:50\tINFO\tPlotMS::load_cache+\tThe plotms cache will require an estimated 0.00142733 GB of memory (6.29333 bytes/point).\n",
       "<br>2020-03-24 12:17:50\tINFO\tPlotMS::load_cache+\tThis is 0.00874997% of the memory avail. to CASA (16.3124 GB).\n",
       "<br>2020-03-24 12:17:50\tINFO\tPlotMS::load_cache\tLoading chunks with averaging.....\n",
       "<br>2020-03-24 12:17:50\tINFO\tPlotMS::load_cache\tGenerating the plot mask.\n",
       "<br>2020-03-24 12:17:50\tINFO\tPlotMS::load_cache\trefTime = 2017/04/08/00:00:00.0\n",
       "<br>2020-03-24 12:17:50\tINFO\tPlotMS::load_cache\tFinished loading.\n",
       "<br>2020-03-24 12:17:50\tINFO\tPlotMS::load_cache\tSetting up iteration indexing (if necessary), and calculating plot ranges.\n",
       "<br>2020-03-24 12:17:50\tINFO\tPlotMS::load_cache\tAxes ranges:\n",
       "<br>2020-03-24 12:17:50\tINFO\tPlotMS::load_cache+\tChannel: 0 to 899 (unflagged); ; 30 to 839 (flagged).\n",
       "<br>2020-03-24 12:17:50\tINFO\tPlotMS::load_cache+\tAmp:data: 0.637276 to 24.1489 (unflagged); 300.905 to 570.719(flagged).\n",
       "<br>2020-03-24 12:17:50\tINFO\tPlotMS::load_cache\tFinished indexing.\n",
       "<br>2020-03-24 12:17:49\tINFO\tPlotMS::load_cache\tEND       Time: +2 seconds.  Memory: +429.172 kilobytes.\n",
       "<br>2020-03-24 12:17:50\tINFO\tPlotMS::plot\tPlotting 9624 unflagged points.\n",
       "<br>2020-03-24 12:17:50\tINFO\tplotms::::\tPlot file /home/jupyter/MeerKAT-Cookbook/casa/plotms_temp.png\n",
       "<br>2020-03-24 12:17:51\tINFO\tplotms::::\tExporting the plot.\n",
       "<br>2020-03-24 12:17:51\tINFO\tQPExporter::export\tSTART     Current memory usage: 10998.3 kilobytes.\n",
       "<br>2020-03-24 12:17:51\tINFO\tQPExporter::export\tEND       Time: +0 seconds.  Memory: +1.92188 kilobytes.\n",
       "<br>2020-03-24 12:17:51\tINFO\tPlotMS::plot\tExported /home/jupyter/MeerKAT-Cookbook/casa/plotms_temp.png\n",
       "<br>2020-03-24 12:17:51\tINFO\tplotms::::\t##### End Task: plotms               #####\n",
       "<br>2020-03-24 12:17:51\tINFO\tplotms::::+\t##########################################\n",
       "</div>"
      ]
     },
     "metadata": {},
     "output_type": "display_data"
    }
   ],
   "source": [
    "plotms(vis=msfile,\n",
    "       xaxis='channel',\n",
    "       yaxis='amp',\n",
    "       correlation='XX,YY',\n",
    "       field=f_cal+','+g_cal,\n",
    "       coloraxis='field',\n",
    "       averagedata=True,\n",
    "       avgtime='3300',\n",
    "       avgbaseline=True)"
   ]
  },
  {
   "cell_type": "code",
   "execution_count": 25,
   "metadata": {
    "scrolled": false
   },
   "outputs": [
    {
     "data": {
      "image/png": "[encoded data removed]",
      "text/plain": [
       "<IPython.core.display.Image object>"
      ]
     },
     "metadata": {},
     "output_type": "display_data"
    },
    {
     "data": {
      "text/plain": [
       "True"
      ]
     },
     "execution_count": 25,
     "metadata": {},
     "output_type": "execute_result"
    },
    {
     "data": {
      "text/html": [
       "<button type=\"button\" class=\"btn btn-info\" data-toggle=\"collapse\" id=\"1585052299_78\" data-target=\"#log1585052299_78\" onclick=\"if ($('#'+this.id).html()=='Show log') {$('#'+this.id).html('Hide log')} else {$('#'+this.id).html('Show log')}; return false\">Show log</button> <div class=\"collapse\" id=\"log1585052299_78\">2020-03-24 12:18:18\tINFO\tplotms::::\t\n",
       "<br>2020-03-24 12:18:18\tINFO\tplotms::::+\t##########################################\n",
       "<br>2020-03-24 12:18:18\tINFO\tplotms::::+\t##### Begin Task: plotms             #####\n",
       "<br>2020-03-24 12:18:18\tINFO\tplotms::::\tplotms(vis=\"ngc3621.ms\",gridrows=1,gridcols=1,rowindex=0,colindex=0,\n",
       "<br>2020-03-24 12:18:18\tINFO\tplotms::::+\t        plotindex=0,xaxis=\"time\",xdatacolumn=\"\",xframe=\"\",xinterp=\"\",\n",
       "<br>2020-03-24 12:18:18\tINFO\tplotms::::+\t        yaxis=\"amp\",ydatacolumn=\"\",yframe=\"\",yinterp=\"\",yaxislocation=\"\",\n",
       "<br>2020-03-24 12:18:18\tINFO\tplotms::::+\t        selectdata=True,field=\"0408-65,1117-248\",spw=\"\",timerange=\"\",uvrange=\"\",\n",
       "<br>2020-03-24 12:18:18\tINFO\tplotms::::+\t        antenna=\"\",scan=\"\",correlation=\"\",array=\"\",observation=\"\",\n",
       "<br>2020-03-24 12:18:18\tINFO\tplotms::::+\t        intent=\"\",feed=\"\",msselect=\"\",averagedata=True,avgchannel=\"4096\",\n",
       "<br>2020-03-24 12:18:18\tINFO\tplotms::::+\t        avgtime=\"\",avgscan=False,avgfield=False,avgbaseline=False,avgantenna=False,\n",
       "<br>2020-03-24 12:18:18\tINFO\tplotms::::+\t        avgspw=False,scalar=False,transform=True,freqframe=\"\",restfreq=\"\",\n",
       "<br>2020-03-24 12:18:18\tINFO\tplotms::::+\t        veldef=\"RADIO\",shift=[0.0, 0.0],extendflag=False,extcorr=False,extchannel=False,\n",
       "<br>2020-03-24 12:18:18\tINFO\tplotms::::+\t        iteraxis=\"\",xselfscale=False,yselfscale=False,xsharedaxis=False,ysharedaxis=False,\n",
       "<br>2020-03-24 12:18:18\tINFO\tplotms::::+\t        customsymbol=False,symbolshape=\"autoscaling\",symbolsize=2,symbolcolor=\"0000ff\",symbolfill=\"fill\",\n",
       "<br>2020-03-24 12:18:18\tINFO\tplotms::::+\t        symboloutline=False,coloraxis=\"field\",customflaggedsymbol=False,flaggedsymbolshape=\"circle\",flaggedsymbolsize=2,\n",
       "<br>2020-03-24 12:18:18\tINFO\tplotms::::+\t        flaggedsymbolcolor=\"ff0000\",flaggedsymbolfill=\"fill\",flaggedsymboloutline=False,xconnector=\"\",timeconnector=False,\n",
       "<br>2020-03-24 12:18:18\tINFO\tplotms::::+\t        plotrange=[],title=\"\",titlefont=0,xlabel=\"\",xaxisfont=0,\n",
       "<br>2020-03-24 12:18:18\tINFO\tplotms::::+\t        ylabel=\"\",yaxisfont=0,showmajorgrid=False,majorwidth=1,majorstyle=\"\",\n",
       "<br>2020-03-24 12:18:18\tINFO\tplotms::::+\t        majorcolor=\"B0B0B0\",showminorgrid=False,minorwidth=1,minorstyle=\"\",minorcolor=\"D0D0D0\",\n",
       "<br>2020-03-24 12:18:18\tINFO\tplotms::::+\t        showlegend=False,legendposition=\"\",plotfile=\"plotms_temp.png\",expformat=\"\",verbose=True,\n",
       "<br>2020-03-24 12:18:18\tINFO\tplotms::::+\t        exprange=\"\",highres=False,dpi=-1,width=-1,height=-1,\n",
       "<br>2020-03-24 12:18:18\tINFO\tplotms::::+\t        overwrite=True,showgui=False,clearplots=True,callib=[''],headeritems=\"\",\n",
       "<br>2020-03-24 12:18:18\tINFO\tplotms::::+\t        showatm=False,showtsky=False)\n",
       "<br>2020-03-24 12:18:18\tINFO\tPlotMS::params_changed\tUpdating: REDRAW, MSDATA, CACHE, AXES, CANVAS, DISPLAY, PAGEHEADER, ITERATION, LOG, PLOTMS_OPTIONS.\n",
       "<br>2020-03-24 12:18:18\tINFO\tPlotMS::load_cache\tClearing the existing plotms cache.\n",
       "<br>2020-03-24 12:18:18\tINFO\tPlotMS::load_cache\tSTART     Current memory usage: 10684.8 kilobytes.\n",
       "<br>2020-03-24 12:18:18\tINFO\tPlotMS::load_cache\tPlot Data Transformations:\n",
       "<br>2020-03-24 12:18:18\tINFO\tPlotMS::load_cache+\t Frame      = \n",
       "<br>2020-03-24 12:18:18\tINFO\tPlotMS::load_cache+\t VelDef     = RADIO\n",
       "<br>2020-03-24 12:18:18\tINFO\tPlotMS::load_cache+\t RestFreq   = 0 MHz\n",
       "<br>2020-03-24 12:18:18\tINFO\tPlotMS::load_cache+\t dX         = 0 arcsec\n",
       "<br>2020-03-24 12:18:18\tINFO\tPlotMS::load_cache+\t dY         = 0 arcsec\n",
       "<br>2020-03-24 12:18:18\tINFO\tPlotMS::load_cache+\t formStokes = false\n",
       "<br>2020-03-24 12:18:18\tINFO\tPlotMS::load_cache\tData Averaging: \n",
       "<br>2020-03-24 12:18:18\tINFO\tPlotMS::load_cache+\t Using VECTOR averaging.\n",
       "<br>2020-03-24 12:18:18\tINFO\tPlotMS::load_cache+\t Channel: 4096 channels\n",
       "<br>2020-03-24 12:18:18\tINFO\tPlotMS::load_cache\tPlot Data Calibration:\n",
       "<br>2020-03-24 12:18:18\tINFO\tPlotMS::load_cache+\t Use Calibration    = 0\n",
       "<br>2020-03-24 12:18:18\tINFO\tPlotMS::load_cache+\t Calibration Library   = \n",
       "<br>2020-03-24 12:18:18\tINFO\tPlotMS::load_cache\tCaching for the new plot: Amp(17):data vs. Time(2)...\n",
       "<br>2020-03-24 12:18:18\tINFO\tPlotMS::load_cache\tLoading page header cache\n",
       "<br>2020-03-24 12:18:19\tINFO\tPlotMS::load_cache\tData selection will yield a total of 12474 plottable points (flagged and unflagged).\n",
       "<br>2020-03-24 12:18:19\tINFO\tPlotMS::load_cache+\tThe plotms cache will require an estimated 0.000163944 GB of memory (13.1429 bytes/point).\n",
       "<br>2020-03-24 12:18:19\tINFO\tPlotMS::load_cache+\tThis is 0.00100503% of the memory avail. to CASA (16.3124 GB).\n",
       "<br>2020-03-24 12:18:19\tINFO\tPlotMS::load_cache\tLoading chunks......\n",
       "<br>2020-03-24 12:18:19\tINFO\tPlotMS::load_cache\tSPW 0: number of channels averaged = 900\n",
       "<br>2020-03-24 12:18:19\tINFO\tPlotMS::load_cache\tGenerating the plot mask.\n",
       "<br>2020-03-24 12:18:19\tINFO\tPlotMS::load_cache\trefTime = 2017/04/08/00:00:00.0\n",
       "<br>2020-03-24 12:18:19\tINFO\tPlotMS::load_cache\tFinished loading.\n",
       "<br>2020-03-24 12:18:19\tINFO\tPlotMS::load_cache\tSetting up iteration indexing (if necessary), and calculating plot ranges.\n",
       "<br>2020-03-24 12:18:19\tINFO\tPlotMS::load_cache\tAxes ranges:\n",
       "<br>2020-03-24 12:18:19\tINFO\tPlotMS::load_cache+\tTime: 4.99838e+09 to 4.99838e+09 (unflagged); ; 4.99838e+09 to 4.99838e+09 (flagged).\n",
       "<br>2020-03-24 12:18:19\tINFO\tPlotMS::load_cache+\tAmp:data: 2.07227 to 54.0745 (unflagged); 0.00763218 to 1955.75(flagged).\n",
       "<br>2020-03-24 12:18:19\tINFO\tPlotMS::load_cache\tFinished indexing.\n",
       "<br>2020-03-24 12:18:18\tINFO\tPlotMS::load_cache\tEND       Time: +1 seconds.  Memory: +2587.5 kilobytes.\n",
       "<br>2020-03-24 12:18:19\tINFO\tPlotMS::plot\tPlotting 5940 unflagged points.\n",
       "<br>2020-03-24 12:18:19\tINFO\tplotms::::\tPlot file /home/jupyter/MeerKAT-Cookbook/casa/plotms_temp.png\n",
       "<br>2020-03-24 12:18:20\tINFO\tplotms::::\tExporting the plot.\n",
       "<br>2020-03-24 12:18:20\tINFO\tQPExporter::export\tSTART     Current memory usage: 13414 kilobytes.\n",
       "<br>2020-03-24 12:18:20\tINFO\tQPExporter::export\tEND       Time: +0 seconds.  Memory: +1.65625 kilobytes.\n",
       "<br>2020-03-24 12:18:20\tINFO\tPlotMS::plot\tExported /home/jupyter/MeerKAT-Cookbook/casa/plotms_temp.png\n",
       "<br>2020-03-24 12:18:20\tINFO\tplotms::::\t##### End Task: plotms               #####\n",
       "<br>2020-03-24 12:18:20\tINFO\tplotms::::+\t##########################################\n",
       "</div>"
      ]
     },
     "metadata": {},
     "output_type": "display_data"
    }
   ],
   "source": [
    "plotms(vis=msfile,\n",
    "       xaxis='time',\n",
    "       yaxis='amp',\n",
    "       field=f_cal+','+g_cal,\n",
    "       averagedata=True,\n",
    "       avgchannel='4096',\n",
    "       coloraxis='field')"
   ]
  },
  {
   "cell_type": "code",
   "execution_count": 26,
   "metadata": {
    "scrolled": false
   },
   "outputs": [
    {
     "data": {
      "image/png": "[encoded data removed]",
      "text/plain": [
       "<IPython.core.display.Image object>"
      ]
     },
     "metadata": {},
     "output_type": "display_data"
    },
    {
     "data": {
      "text/plain": [
       "True"
      ]
     },
     "execution_count": 26,
     "metadata": {},
     "output_type": "execute_result"
    },
    {
     "data": {
      "text/html": [
       "<button type=\"button\" class=\"btn btn-info\" data-toggle=\"collapse\" id=\"1585052321_12\" data-target=\"#log1585052321_12\" onclick=\"if ($('#'+this.id).html()=='Show log') {$('#'+this.id).html('Hide log')} else {$('#'+this.id).html('Show log')}; return false\">Show log</button> <div class=\"collapse\" id=\"log1585052321_12\">2020-03-24 12:18:40\tINFO\tplotms::::\t\n",
       "<br>2020-03-24 12:18:40\tINFO\tplotms::::+\t##########################################\n",
       "<br>2020-03-24 12:18:40\tINFO\tplotms::::+\t##### Begin Task: plotms             #####\n",
       "<br>2020-03-24 12:18:40\tINFO\tplotms::::\tplotms(vis=\"ngc3621.ms\",gridrows=1,gridcols=1,rowindex=0,colindex=0,\n",
       "<br>2020-03-24 12:18:40\tINFO\tplotms::::+\t        plotindex=0,xaxis=\"time\",xdatacolumn=\"\",xframe=\"\",xinterp=\"\",\n",
       "<br>2020-03-24 12:18:40\tINFO\tplotms::::+\t        yaxis=\"phase\",ydatacolumn=\"\",yframe=\"\",yinterp=\"\",yaxislocation=\"\",\n",
       "<br>2020-03-24 12:18:40\tINFO\tplotms::::+\t        selectdata=True,field=\"0408-65,1117-248\",spw=\"*:2550\",timerange=\"\",uvrange=\"\",\n",
       "<br>2020-03-24 12:18:40\tINFO\tplotms::::+\t        antenna=\"\",scan=\"\",correlation=\"XX,YY\",array=\"\",observation=\"\",\n",
       "<br>2020-03-24 12:18:40\tINFO\tplotms::::+\t        intent=\"\",feed=\"\",msselect=\"\",averagedata=True,avgchannel=\"\",\n",
       "<br>2020-03-24 12:18:40\tINFO\tplotms::::+\t        avgtime=\"\",avgscan=False,avgfield=False,avgbaseline=False,avgantenna=False,\n",
       "<br>2020-03-24 12:18:40\tINFO\tplotms::::+\t        avgspw=False,scalar=False,transform=True,freqframe=\"\",restfreq=\"\",\n",
       "<br>2020-03-24 12:18:40\tINFO\tplotms::::+\t        veldef=\"RADIO\",shift=[0.0, 0.0],extendflag=False,extcorr=False,extchannel=False,\n",
       "<br>2020-03-24 12:18:40\tINFO\tplotms::::+\t        iteraxis=\"\",xselfscale=False,yselfscale=False,xsharedaxis=False,ysharedaxis=False,\n",
       "<br>2020-03-24 12:18:40\tINFO\tplotms::::+\t        customsymbol=False,symbolshape=\"autoscaling\",symbolsize=2,symbolcolor=\"0000ff\",symbolfill=\"fill\",\n",
       "<br>2020-03-24 12:18:40\tINFO\tplotms::::+\t        symboloutline=False,coloraxis=\"corr\",customflaggedsymbol=False,flaggedsymbolshape=\"circle\",flaggedsymbolsize=2,\n",
       "<br>2020-03-24 12:18:40\tINFO\tplotms::::+\t        flaggedsymbolcolor=\"ff0000\",flaggedsymbolfill=\"fill\",flaggedsymboloutline=False,xconnector=\"\",timeconnector=False,\n",
       "<br>2020-03-24 12:18:40\tINFO\tplotms::::+\t        plotrange=[0, 0, -180, 180],title=\"\",titlefont=0,xlabel=\"\",xaxisfont=0,\n",
       "<br>2020-03-24 12:18:40\tINFO\tplotms::::+\t        ylabel=\"\",yaxisfont=0,showmajorgrid=False,majorwidth=1,majorstyle=\"\",\n",
       "<br>2020-03-24 12:18:40\tINFO\tplotms::::+\t        majorcolor=\"B0B0B0\",showminorgrid=False,minorwidth=1,minorstyle=\"\",minorcolor=\"D0D0D0\",\n",
       "<br>2020-03-24 12:18:40\tINFO\tplotms::::+\t        showlegend=False,legendposition=\"\",plotfile=\"plotms_temp.png\",expformat=\"\",verbose=True,\n",
       "<br>2020-03-24 12:18:40\tINFO\tplotms::::+\t        exprange=\"\",highres=False,dpi=-1,width=-1,height=-1,\n",
       "<br>2020-03-24 12:18:40\tINFO\tplotms::::+\t        overwrite=True,showgui=False,clearplots=True,callib=[''],headeritems=\"\",\n",
       "<br>2020-03-24 12:18:40\tINFO\tplotms::::+\t        showatm=False,showtsky=False)\n",
       "<br>2020-03-24 12:18:40\tINFO\tPlotMS::params_changed\tUpdating: REDRAW, MSDATA, CACHE, AXES, CANVAS, DISPLAY, PAGEHEADER, ITERATION, LOG, PLOTMS_OPTIONS.\n",
       "<br>2020-03-24 12:18:40\tINFO\tPlotMS::load_cache\tClearing the existing plotms cache.\n",
       "<br>2020-03-24 12:18:40\tINFO\tPlotMS::load_cache\tSTART     Current memory usage: 10694.6 kilobytes.\n",
       "<br>2020-03-24 12:18:40\tINFO\tPlotMS::load_cache\tPlot Data Transformations:\n",
       "<br>2020-03-24 12:18:40\tINFO\tPlotMS::load_cache+\t Frame      = \n",
       "<br>2020-03-24 12:18:40\tINFO\tPlotMS::load_cache+\t VelDef     = RADIO\n",
       "<br>2020-03-24 12:18:40\tINFO\tPlotMS::load_cache+\t RestFreq   = 0 MHz\n",
       "<br>2020-03-24 12:18:40\tINFO\tPlotMS::load_cache+\t dX         = 0 arcsec\n",
       "<br>2020-03-24 12:18:40\tINFO\tPlotMS::load_cache+\t dY         = 0 arcsec\n",
       "<br>2020-03-24 12:18:40\tINFO\tPlotMS::load_cache+\t formStokes = false\n",
       "<br>2020-03-24 12:18:40\tINFO\tPlotMS::load_cache\tData Averaging: None.\n",
       "<br>2020-03-24 12:18:40\tINFO\tPlotMS::load_cache\tPlot Data Calibration:\n",
       "<br>2020-03-24 12:18:40\tINFO\tPlotMS::load_cache+\t Use Calibration    = 0\n",
       "<br>2020-03-24 12:18:40\tINFO\tPlotMS::load_cache+\t Calibration Library   = \n",
       "<br>2020-03-24 12:18:40\tINFO\tPlotMS::load_cache\tCaching for the new plot: Phase(18):data vs. Time(2)...\n",
       "<br>2020-03-24 12:18:40\tINFO\tPlotMS::load_cache\tLoading page header cache\n",
       "<br>2020-03-24 12:18:40\tINFO\tPlotMS::load_cache\tData selection will yield a total of 12474 plottable points (flagged and unflagged).\n",
       "<br>2020-03-24 12:18:40\tINFO\tPlotMS::load_cache+\tThe plotms cache will require an estimated 0.000163944 GB of memory (13.1429 bytes/point).\n",
       "<br>2020-03-24 12:18:40\tINFO\tPlotMS::load_cache+\tThis is 0.00100503% of the memory avail. to CASA (16.3124 GB).\n",
       "<br>2020-03-24 12:18:40\tINFO\tPlotMS::load_cache\tLoading chunks......\n",
       "<br>2020-03-24 12:18:40\tINFO\tPlotMS::load_cache\tGenerating the plot mask.\n",
       "<br>2020-03-24 12:18:40\tINFO\tPlotMS::load_cache\trefTime = 2017/04/08/00:00:00.0\n",
       "<br>2020-03-24 12:18:40\tINFO\tPlotMS::load_cache\tFinished loading.\n",
       "<br>2020-03-24 12:18:40\tINFO\tPlotMS::load_cache\tSetting up iteration indexing (if necessary), and calculating plot ranges.\n",
       "<br>2020-03-24 12:18:40\tINFO\tPlotMS::load_cache\tAxes ranges:\n",
       "<br>2020-03-24 12:18:40\tINFO\tPlotMS::load_cache+\tTime: 4.99838e+09 to 4.99838e+09 (unflagged); ; 4.99838e+09 to 4.99838e+09 (flagged).\n",
       "<br>2020-03-24 12:18:40\tINFO\tPlotMS::load_cache+\tPhase:data: -179.871 to 179.639 (unflagged); -179.719 to 179.947(flagged).\n",
       "<br>2020-03-24 12:18:40\tINFO\tPlotMS::load_cache\tFinished indexing.\n",
       "<br>2020-03-24 12:18:40\tINFO\tPlotMS::load_cache\tEND       Time: +1 seconds.  Memory: +1553.7 kilobytes.\n",
       "<br>2020-03-24 12:18:40\tINFO\tPlotMS::plot\tPlotting 5940 unflagged points.\n",
       "<br>2020-03-24 12:18:40\tINFO\tplotms::::\tPlot file /home/jupyter/MeerKAT-Cookbook/casa/plotms_temp.png\n",
       "<br>2020-03-24 12:18:41\tINFO\tplotms::::\tExporting the plot.\n",
       "<br>2020-03-24 12:18:41\tINFO\tQPExporter::export\tSTART     Current memory usage: 12389.6 kilobytes.\n",
       "<br>2020-03-24 12:18:41\tINFO\tQPExporter::export\tEND       Time: +1 seconds.  Memory: +1.4375 kilobytes.\n",
       "<br>2020-03-24 12:18:41\tINFO\tPlotMS::plot\tExported /home/jupyter/MeerKAT-Cookbook/casa/plotms_temp.png\n",
       "<br>2020-03-24 12:18:41\tINFO\tplotms::::\t##### End Task: plotms               #####\n",
       "<br>2020-03-24 12:18:41\tINFO\tplotms::::+\t##########################################\n",
       "</div>"
      ]
     },
     "metadata": {},
     "output_type": "display_data"
    }
   ],
   "source": [
    "plotms(vis=msfile,\n",
    "       xaxis='time',\n",
    "       yaxis='phase',\n",
    "       correlation='XX,YY',\n",
    "       field=f_cal+','+g_cal,\n",
    "       spw='*:2550',\n",
    "       coloraxis='corr',\n",
    "       plotrange=[0,0,-180,180])"
   ]
  },
  {
   "cell_type": "code",
   "execution_count": null,
   "metadata": {},
   "outputs": [],
   "source": []
  }
 ],
 "metadata": {
  "kernelspec": {
   "display_name": "Casa",
   "language": "casa",
   "name": "casapy"
  },
  "language_info": {
   "mimetype": "text/plain",
   "name": "Casa"
  }
 },
 "nbformat": 4,
 "nbformat_minor": 2
}
