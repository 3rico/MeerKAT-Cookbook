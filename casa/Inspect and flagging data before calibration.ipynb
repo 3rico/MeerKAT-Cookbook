{
 "cells": [
  {
   "cell_type": "code",
   "execution_count": null,
   "metadata": {},
   "outputs": [],
   "source": [
    "msfile = 'ngc3621.ms'\n",
    "prefix='ngc3621'\n",
    "target='NGC3621'\n",
    "g_cal='1117-248'\n",
    "b_cal='0408-65'\n",
    "f_cal='0408-65'"
   ]
  },
  {
   "cell_type": "code",
   "execution_count": null,
   "metadata": {
    "scrolled": true
   },
   "outputs": [],
   "source": [
    "listobs(msfile)"
   ]
  },
  {
   "cell_type": "markdown",
   "metadata": {},
   "source": [
    "### Apply standard L-band flags"
   ]
  },
  {
   "cell_type": "markdown",
   "metadata": {},
   "source": [
    "```\n",
    "run flagging_mkat_lband.py --msfile 'ngc3621.ms' --zeros --lband --gps --glonass --galileo --afristar --iridium --inmarsat\n",
    "```"
   ]
  },
  {
   "cell_type": "markdown",
   "metadata": {},
   "source": [
    "### Check for bad antennas"
   ]
  },
  {
   "cell_type": "code",
   "execution_count": null,
   "metadata": {
    "scrolled": true
   },
   "outputs": [],
   "source": [
    "plotms(vis=msfile,\n",
    "       xaxis='channel',\n",
    "       yaxis='phase',\n",
    "       averagedata=True,\n",
    "       avgtime='3300',\n",
    "       correlation='YY',\n",
    "       field=f_cal,\n",
    "       #iteraxis='antenna',\n",
    "       coloraxis='baseline')"
   ]
  },
  {
   "cell_type": "code",
   "execution_count": null,
   "metadata": {
    "scrolled": true
   },
   "outputs": [],
   "source": [
    "plotms(vis=msfile,\n",
    "       xaxis='channel',\n",
    "       yaxis='phase',\n",
    "       averagedata=True,\n",
    "       avgtime='3300',\n",
    "       correlation='XX',\n",
    "       field=f_cal,\n",
    "       #iteraxis='antenna',\n",
    "       coloraxis='baseline')"
   ]
  },
  {
   "cell_type": "code",
   "execution_count": null,
   "metadata": {
    "scrolled": true
   },
   "outputs": [],
   "source": [
    "plotms(vis=msfile,\n",
    "       xaxis='channel',\n",
    "       yaxis='phase',\n",
    "       averagedata=True,\n",
    "       avgtime='3300',\n",
    "       correlation='XX',\n",
    "       field=f_cal,\n",
    "       antenna='m022',\n",
    "       coloraxis='corr',\n",
    "       plotrange=[0,0,-180,180])"
   ]
  },
  {
   "cell_type": "code",
   "execution_count": null,
   "metadata": {
    "scrolled": true
   },
   "outputs": [],
   "source": [
    "plotms(vis=msfile,\n",
    "       xaxis='channel',\n",
    "       yaxis='phase',\n",
    "       averagedata=True,\n",
    "       avgtime='3300',\n",
    "       correlation='XX,YY',\n",
    "       field=f_cal,\n",
    "       antenna='!m022',\n",
    "       #iteraxis='antenna',\n",
    "       coloraxis='baseline',\n",
    "       plotrange=[0,0,-180,180])"
   ]
  },
  {
   "cell_type": "markdown",
   "metadata": {},
   "source": [
    "### Check all the scans of the primary calibrators"
   ]
  },
  {
   "cell_type": "code",
   "execution_count": null,
   "metadata": {
    "scrolled": true
   },
   "outputs": [],
   "source": [
    "plotms(vis=msfile,\n",
    "       xaxis='freq',\n",
    "       yaxis='phase',\n",
    "       correlation='XX,YY',\n",
    "       antenna='!m022',\n",
    "       field=f_cal,\n",
    "       scan='1',\n",
    "       coloraxis='corr',\n",
    "       plotrange=[0,0,-180,180],\n",
    "       averagedata=True,\n",
    "       avgtime='3300',\n",
    "       avgbaseline=True)"
   ]
  },
  {
   "cell_type": "code",
   "execution_count": null,
   "metadata": {
    "scrolled": true
   },
   "outputs": [],
   "source": [
    "plotms(vis=msfile,\n",
    "       xaxis='freq',\n",
    "       yaxis='amp',\n",
    "       correlation='XX,YY',\n",
    "       antenna='!m022',\n",
    "       scan='1',\n",
    "       field=f_cal,\n",
    "       coloraxis='corr',\n",
    "       averagedata=True,\n",
    "       avgtime='3300',\n",
    "       avgbaseline=True)"
   ]
  },
  {
   "cell_type": "markdown",
   "metadata": {},
   "source": [
    "### Check all the channels and scans for the secondary calibrator"
   ]
  },
  {
   "cell_type": "code",
   "execution_count": null,
   "metadata": {
    "scrolled": true
   },
   "outputs": [],
   "source": [
    "plotms(vis=msfile,\n",
    "       xaxis='channel',\n",
    "       yaxis='phase',\n",
    "       correlation='XX,YY',\n",
    "       antenna='!m022',\n",
    "       scan='1,3,5,7,9,11',\n",
    "       field=f_cal+','+g_cal,\n",
    "       #iteraxis='scan',\n",
    "       coloraxis='field',\n",
    "       plotrange=[0,0,-180,180],\n",
    "       averagedata=True,\n",
    "       avgtime='3300',\n",
    "       avgbaseline=True)"
   ]
  },
  {
   "cell_type": "code",
   "execution_count": null,
   "metadata": {
    "scrolled": true
   },
   "outputs": [],
   "source": [
    "plotms(vis=msfile,\n",
    "       xaxis='channel',\n",
    "       yaxis='amp',\n",
    "       correlation='XX,YY',\n",
    "       antenna='!m022',\n",
    "       scan='1,3,5,7,9,11',\n",
    "       field=f_cal+','+g_cal,\n",
    "       coloraxis='field',\n",
    "       averagedata=True,\n",
    "       avgtime='3300',\n",
    "       avgbaseline=True)"
   ]
  },
  {
   "cell_type": "code",
   "execution_count": null,
   "metadata": {
    "scrolled": true
   },
   "outputs": [],
   "source": [
    "plotms(vis=msfile,\n",
    "       xaxis='channel',\n",
    "       yaxis='phase',\n",
    "       correlation='XX,YY',\n",
    "       antenna='!m022',\n",
    "       scan='3,5,7,9,11',\n",
    "       spw='*:0~780;820~900',\n",
    "       field=g_cal,\n",
    "       #iteraxis='scan',\n",
    "       coloraxis='corr',\n",
    "       plotrange=[0,0,-180,180],\n",
    "       averagedata=True,\n",
    "       avgtime='3300',\n",
    "       avgbaseline=True)"
   ]
  },
  {
   "cell_type": "code",
   "execution_count": null,
   "metadata": {
    "scrolled": true
   },
   "outputs": [],
   "source": [
    "plotms(vis=msfile,\n",
    "       xaxis='channel',\n",
    "       yaxis='amp',\n",
    "       correlation='XX,YY',\n",
    "       antenna='!m022',\n",
    "       spw='*:0~780;820~900',\n",
    "       scan='3,5,7,9,11',\n",
    "       field=g_cal,\n",
    "       coloraxis='corr',\n",
    "       averagedata=True,\n",
    "       avgtime='3300',\n",
    "       avgbaseline=True)"
   ]
  },
  {
   "cell_type": "code",
   "execution_count": null,
   "metadata": {
    "scrolled": true
   },
   "outputs": [],
   "source": [
    "plotms(vis=msfile,\n",
    "       xaxis='time',\n",
    "       yaxis='amp',\n",
    "       correlation='XX,YY',\n",
    "       antenna='!m022',\n",
    "       spw='*:0~780;820~900',\n",
    "       scan='1,3,5,7,9,11',\n",
    "       field=f_cal+','+g_cal,\n",
    "       coloraxis='corr',\n",
    "       averagedata=True,\n",
    "       avgtime='30',\n",
    "       avgbaseline=True)"
   ]
  },
  {
   "cell_type": "code",
   "execution_count": null,
   "metadata": {
    "scrolled": true
   },
   "outputs": [],
   "source": [
    "plotms(vis=msfile,\n",
    "       xaxis='time',\n",
    "       yaxis='phase',\n",
    "       correlation='XX,YY',\n",
    "       field=f_cal+','+g_cal,\n",
    "       spw='*:2550',\n",
    "       coloraxis='corr',\n",
    "       plotrange=[0,0,-180,180])"
   ]
  },
  {
   "cell_type": "code",
   "execution_count": null,
   "metadata": {
    "scrolled": true
   },
   "outputs": [],
   "source": [
    "plotms(vis=msfile,\n",
    "       xaxis='time',\n",
    "       yaxis='amp',\n",
    "       field=f_cal+','+g_cal,\n",
    "       averagedata=True,\n",
    "       avgchannel='4096',\n",
    "       coloraxis='field')"
   ]
  },
  {
   "cell_type": "markdown",
   "metadata": {},
   "source": [
    "### Flagging data"
   ]
  },
  {
   "cell_type": "code",
   "execution_count": null,
   "metadata": {},
   "outputs": [],
   "source": [
    "flagdata(vis=msfile, mode='manual', antenna='m022');"
   ]
  },
  {
   "cell_type": "code",
   "execution_count": null,
   "metadata": {},
   "outputs": [],
   "source": [
    "flagdata(vis=msfile, mode='manual', spw='*:800~807', flagbackup=False);"
   ]
  },
  {
   "cell_type": "code",
   "execution_count": null,
   "metadata": {},
   "outputs": [],
   "source": [
    "flagdata(vis=msfile, uvrange='0lambda', flagbackup=False);"
   ]
  },
  {
   "cell_type": "markdown",
   "metadata": {},
   "source": [
    "### Checking after flagging"
   ]
  },
  {
   "cell_type": "code",
   "execution_count": null,
   "metadata": {
    "scrolled": true
   },
   "outputs": [],
   "source": [
    "plotms(vis=msfile,\n",
    "       xaxis='channel',\n",
    "       yaxis='phase',\n",
    "       averagedata=True,\n",
    "       avgtime='3300',\n",
    "       correlation='XX,YY',\n",
    "       field=f_cal,\n",
    "       coloraxis='baseline',\n",
    "       plotrange=[0,0,-180,180])"
   ]
  },
  {
   "cell_type": "code",
   "execution_count": null,
   "metadata": {
    "scrolled": true
   },
   "outputs": [],
   "source": [
    "plotms(vis=msfile,\n",
    "       xaxis='channel',\n",
    "       yaxis='amp',\n",
    "       correlation='XX,YY',\n",
    "       field=f_cal+','+g_cal,\n",
    "       coloraxis='field',\n",
    "       averagedata=True,\n",
    "       avgtime='3300',\n",
    "       avgbaseline=True)"
   ]
  },
  {
   "cell_type": "code",
   "execution_count": null,
   "metadata": {
    "scrolled": true
   },
   "outputs": [],
   "source": [
    "plotms(vis=msfile,\n",
    "       xaxis='time',\n",
    "       yaxis='amp',\n",
    "       field=f_cal+','+g_cal,\n",
    "       averagedata=True,\n",
    "       avgchannel='4096',\n",
    "       coloraxis='field')"
   ]
  },
  {
   "cell_type": "code",
   "execution_count": null,
   "metadata": {
    "scrolled": true
   },
   "outputs": [],
   "source": [
    "plotms(vis=msfile,\n",
    "       xaxis='time',\n",
    "       yaxis='phase',\n",
    "       correlation='XX,YY',\n",
    "       field=f_cal+','+g_cal,\n",
    "       spw='*:2550',\n",
    "       coloraxis='corr',\n",
    "       plotrange=[0,0,-180,180])"
   ]
  },
  {
   "cell_type": "code",
   "execution_count": null,
   "metadata": {},
   "outputs": [],
   "source": []
  }
 ],
 "metadata": {
  "kernelspec": {
   "display_name": "Casa",
   "language": "casa",
   "name": "casapy"
  },
  "language_info": {
   "mimetype": "text/plain",
   "name": "Casa"
  }
 },
 "nbformat": 4,
 "nbformat_minor": 2
}
