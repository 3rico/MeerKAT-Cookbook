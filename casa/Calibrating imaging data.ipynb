{
 "cells": [
  {
   "cell_type": "markdown",
   "metadata": {},
   "source": [
    "### Calibration\n",
    "\n",
    "The first stage of data processing in aperture synthesis is to determine the amplitude gain and the phase shift due to each individual antenna (and the atmosphere above it), which together form the complex gain of the antenna.\n",
    "\n",
    "Various gain calibrator solutions exists\n",
    "* flux calibration (strong calibrator with known flux): in order to set the flux density scale correctly, use observations of at least one flux density calibrator (can be used for bandpass calibration as well) whose flux density is known -- use one of a few scans and done only once.\n",
    "* bandpass calibration (strong calibrator source of known spectrum): the bandpass response of the instrument varies across the frequency band, but is fairly stable in time, thus it needs to be solved for only once in an observing run.\n",
    "* gain/phase calibration (point-like source): the variation in amplitude and phase response as a function of time for calibrators which as known to be point-like sources.\n",
    "\n",
    "Note: If any of the plotcal graphs shows solutions with highly varying (outlier) data points that require more flagging of data: Return to the flagging stage and remove the bad data. Then restart calibration form the clearcal step."
   ]
  },
  {
   "cell_type": "code",
   "execution_count": 8,
   "metadata": {},
   "outputs": [],
   "source": [
    "msfile='exms_cleanband.ms'\n",
    "target = 'PKS1934-63'\n",
    "ref_ant = 'm043'\n",
    "ref_chans = ''"
   ]
  },
  {
   "cell_type": "code",
   "execution_count": 9,
   "metadata": {},
   "outputs": [],
   "source": [
    "# Bandpass, gain and flux calibration\n",
    "f_cal='PKS1934-63'\n",
    "b_cal='PKS1934-63'\n",
    "g_cal='PKS1934-63'"
   ]
  },
  {
   "cell_type": "code",
   "execution_count": 10,
   "metadata": {},
   "outputs": [
    {
     "data": {
      "image/png": "[encoded data removed]",
      "text/plain": [
       "<IPython.core.display.Image object>"
      ]
     },
     "metadata": {},
     "output_type": "display_data"
    },
    {
     "data": {
      "text/plain": [
       "True"
      ]
     },
     "execution_count": 10,
     "metadata": {},
     "output_type": "execute_result"
    },
    {
     "data": {
      "text/html": [
       "<button type=\"button\" class=\"btn btn-info\" data-toggle=\"collapse\" id=\"1561026526_92\" data-target=\"#log1561026526_92\" onclick=\"if ($('#'+this.id).html()=='Show log') {$('#'+this.id).html('Hide log')} else {$('#'+this.id).html('Show log')}; return false\">Show log</button> <div class=\"collapse\" id=\"log1561026526_92\">2019-06-20 10:28:43\tINFO\tplotms::::\t\n",
       "<br>2019-06-20 10:28:43\tINFO\tplotms::::+\t##########################################\n",
       "<br>2019-06-20 10:28:43\tINFO\tplotms::::+\t##### Begin Task: plotms             #####\n",
       "<br>2019-06-20 10:28:43\tINFO\tplotms::::\tplotms(vis=\"exms_cleanband.ms\",gridrows=1,gridcols=1,rowindex=0,colindex=0,\n",
       "<br>2019-06-20 10:28:43\tINFO\tplotms::::+\t        plotindex=0,xaxis=\"time\",xdatacolumn=\"\",xframe=\"\",xinterp=\"\",\n",
       "<br>2019-06-20 10:28:43\tINFO\tplotms::::+\t        yaxis=\"amp\",ydatacolumn=\"\",yframe=\"\",yinterp=\"\",yaxislocation=\"\",\n",
       "<br>2019-06-20 10:28:43\tINFO\tplotms::::+\t        selectdata=True,field=\"PKS1934-63,PKS1934-63,PKS1934-63\",spw=\"\",timerange=\"\",uvrange=\"\",\n",
       "<br>2019-06-20 10:28:43\tINFO\tplotms::::+\t        antenna=\"\",scan=\"\",correlation=\"\",array=\"\",observation=\"\",\n",
       "<br>2019-06-20 10:28:43\tINFO\tplotms::::+\t        intent=\"\",feed=\"\",msselect=\"\",averagedata=True,avgchannel=\"\",\n",
       "<br>2019-06-20 10:28:43\tINFO\tplotms::::+\t        avgtime=\"\",avgscan=False,avgfield=False,avgbaseline=False,avgantenna=False,\n",
       "<br>2019-06-20 10:28:43\tINFO\tplotms::::+\t        avgspw=False,scalar=False,transform=True,freqframe=\"\",restfreq=\"\",\n",
       "<br>2019-06-20 10:28:43\tINFO\tplotms::::+\t        veldef=\"RADIO\",shift=[0.0, 0.0],extendflag=False,extcorr=False,extchannel=False,\n",
       "<br>2019-06-20 10:28:43\tINFO\tplotms::::+\t        iteraxis=\"\",xselfscale=False,yselfscale=False,xsharedaxis=False,ysharedaxis=False,\n",
       "<br>2019-06-20 10:28:43\tINFO\tplotms::::+\t        customsymbol=False,symbolshape=\"autoscaling\",symbolsize=2,symbolcolor=\"0000ff\",symbolfill=\"fill\",\n",
       "<br>2019-06-20 10:28:43\tINFO\tplotms::::+\t        symboloutline=False,coloraxis=\"corr\",customflaggedsymbol=False,flaggedsymbolshape=\"circle\",flaggedsymbolsize=2,\n",
       "<br>2019-06-20 10:28:43\tINFO\tplotms::::+\t        flaggedsymbolcolor=\"ff0000\",flaggedsymbolfill=\"fill\",flaggedsymboloutline=False,xconnector=\"\",timeconnector=False,\n",
       "<br>2019-06-20 10:28:43\tINFO\tplotms::::+\t        plotrange=[],title=\"\",titlefont=0,xlabel=\"\",xaxisfont=0,\n",
       "<br>2019-06-20 10:28:43\tINFO\tplotms::::+\t        ylabel=\"\",yaxisfont=0,showmajorgrid=False,majorwidth=1,majorstyle=\"\",\n",
       "<br>2019-06-20 10:28:43\tINFO\tplotms::::+\t        majorcolor=\"B0B0B0\",showminorgrid=False,minorwidth=1,minorstyle=\"\",minorcolor=\"D0D0D0\",\n",
       "<br>2019-06-20 10:28:43\tINFO\tplotms::::+\t        showlegend=False,legendposition=\"\",plotfile=\"plotms_temp.png\",expformat=\"\",verbose=True,\n",
       "<br>2019-06-20 10:28:43\tINFO\tplotms::::+\t        exprange=\"\",highres=False,dpi=-1,width=-1,height=-1,\n",
       "<br>2019-06-20 10:28:43\tINFO\tplotms::::+\t        overwrite=True,showgui=False,clearplots=True,callib=[''],headeritems=\"\",\n",
       "<br>2019-06-20 10:28:43\tINFO\tplotms::::+\t        showatm=False,showtsky=False)\n",
       "<br>2019-06-20 10:28:45\tINFO\tplotms::::\tPlot file /home/jupyter/MeerKAT-Cookbook/casa/plotms_temp.png\n",
       "<br>2019-06-20 10:28:46\tINFO\tplotms::::\tExporting the plot.\n",
       "<br>2019-06-20 10:28:47\tINFO\tplotms::::\t##### End Task: plotms               #####\n",
       "<br>2019-06-20 10:28:47\tINFO\tplotms::::+\t##########################################\n",
       "</div>"
      ]
     },
     "metadata": {},
     "output_type": "display_data"
    }
   ],
   "source": [
    "plotms(vis=msfile, xaxis='time', yaxis='amp', field=','.join((f_cal,b_cal,g_cal)), coloraxis='corr')"
   ]
  },
  {
   "cell_type": "code",
   "execution_count": 11,
   "metadata": {},
   "outputs": [
    {
     "data": {
      "image/png": "[encoded data removed]",
      "text/plain": [
       "<IPython.core.display.Image object>"
      ]
     },
     "metadata": {},
     "output_type": "display_data"
    },
    {
     "data": {
      "text/plain": [
       "True"
      ]
     },
     "execution_count": 11,
     "metadata": {},
     "output_type": "execute_result"
    },
    {
     "data": {
      "text/html": [
       "<button type=\"button\" class=\"btn btn-info\" data-toggle=\"collapse\" id=\"1561026557_24\" data-target=\"#log1561026557_24\" onclick=\"if ($('#'+this.id).html()=='Show log') {$('#'+this.id).html('Hide log')} else {$('#'+this.id).html('Show log')}; return false\">Show log</button> <div class=\"collapse\" id=\"log1561026557_24\">2019-06-20 10:29:15\tINFO\tplotms::::\t\n",
       "<br>2019-06-20 10:29:15\tINFO\tplotms::::+\t##########################################\n",
       "<br>2019-06-20 10:29:15\tINFO\tplotms::::+\t##### Begin Task: plotms             #####\n",
       "<br>2019-06-20 10:29:15\tINFO\tplotms::::\tplotms(vis=\"exms_cleanband.ms\",gridrows=1,gridcols=1,rowindex=0,colindex=0,\n",
       "<br>2019-06-20 10:29:15\tINFO\tplotms::::+\t        plotindex=0,xaxis=\"uvdist\",xdatacolumn=\"\",xframe=\"\",xinterp=\"\",\n",
       "<br>2019-06-20 10:29:15\tINFO\tplotms::::+\t        yaxis=\"amp\",ydatacolumn=\"\",yframe=\"\",yinterp=\"\",yaxislocation=\"\",\n",
       "<br>2019-06-20 10:29:15\tINFO\tplotms::::+\t        selectdata=True,field=\"PKS1934-63,PKS1934-63,PKS1934-63\",spw=\"0\",timerange=\"\",uvrange=\"\",\n",
       "<br>2019-06-20 10:29:15\tINFO\tplotms::::+\t        antenna=\"\",scan=\"\",correlation=\"\",array=\"\",observation=\"\",\n",
       "<br>2019-06-20 10:29:15\tINFO\tplotms::::+\t        intent=\"\",feed=\"\",msselect=\"\",averagedata=True,avgchannel=\"\",\n",
       "<br>2019-06-20 10:29:15\tINFO\tplotms::::+\t        avgtime=\"\",avgscan=False,avgfield=False,avgbaseline=False,avgantenna=False,\n",
       "<br>2019-06-20 10:29:15\tINFO\tplotms::::+\t        avgspw=False,scalar=False,transform=True,freqframe=\"\",restfreq=\"\",\n",
       "<br>2019-06-20 10:29:15\tINFO\tplotms::::+\t        veldef=\"RADIO\",shift=[0.0, 0.0],extendflag=False,extcorr=False,extchannel=False,\n",
       "<br>2019-06-20 10:29:15\tINFO\tplotms::::+\t        iteraxis=\"\",xselfscale=False,yselfscale=False,xsharedaxis=False,ysharedaxis=False,\n",
       "<br>2019-06-20 10:29:15\tINFO\tplotms::::+\t        customsymbol=False,symbolshape=\"autoscaling\",symbolsize=2,symbolcolor=\"0000ff\",symbolfill=\"fill\",\n",
       "<br>2019-06-20 10:29:15\tINFO\tplotms::::+\t        symboloutline=False,coloraxis=\"corr\",customflaggedsymbol=False,flaggedsymbolshape=\"circle\",flaggedsymbolsize=2,\n",
       "<br>2019-06-20 10:29:15\tINFO\tplotms::::+\t        flaggedsymbolcolor=\"ff0000\",flaggedsymbolfill=\"fill\",flaggedsymboloutline=False,xconnector=\"\",timeconnector=False,\n",
       "<br>2019-06-20 10:29:15\tINFO\tplotms::::+\t        plotrange=[],title=\"\",titlefont=0,xlabel=\"\",xaxisfont=0,\n",
       "<br>2019-06-20 10:29:15\tINFO\tplotms::::+\t        ylabel=\"\",yaxisfont=0,showmajorgrid=False,majorwidth=1,majorstyle=\"\",\n",
       "<br>2019-06-20 10:29:15\tINFO\tplotms::::+\t        majorcolor=\"B0B0B0\",showminorgrid=False,minorwidth=1,minorstyle=\"\",minorcolor=\"D0D0D0\",\n",
       "<br>2019-06-20 10:29:15\tINFO\tplotms::::+\t        showlegend=False,legendposition=\"\",plotfile=\"plotms_temp.png\",expformat=\"\",verbose=True,\n",
       "<br>2019-06-20 10:29:15\tINFO\tplotms::::+\t        exprange=\"\",highres=False,dpi=-1,width=-1,height=-1,\n",
       "<br>2019-06-20 10:29:15\tINFO\tplotms::::+\t        overwrite=True,showgui=False,clearplots=True,callib=[''],headeritems=\"\",\n",
       "<br>2019-06-20 10:29:15\tINFO\tplotms::::+\t        showatm=False,showtsky=False)\n",
       "<br>2019-06-20 10:29:15\tINFO\tplotms::::\tPlot file /home/jupyter/MeerKAT-Cookbook/casa/plotms_temp.png\n",
       "<br>2019-06-20 10:29:16\tINFO\tplotms::::\tExporting the plot.\n",
       "<br>2019-06-20 10:29:17\tINFO\tplotms::::\t##### End Task: plotms               #####\n",
       "<br>2019-06-20 10:29:17\tINFO\tplotms::::+\t##########################################\n",
       "</div>"
      ]
     },
     "metadata": {},
     "output_type": "display_data"
    }
   ],
   "source": [
    "plotms(vis=msfile, xaxis='uvdist', yaxis='amp', field=','.join((f_cal,b_cal,g_cal)), spw='0', coloraxis='corr')"
   ]
  },
  {
   "cell_type": "code",
   "execution_count": null,
   "metadata": {},
   "outputs": [],
   "source": [
    "# define variables that hold the various tables that will be used during the reduction.\n",
    "#btable0 = prefix + '.B0'\n",
    "#gtable0 = prefix + '.G0'\n",
    "#gtable1 = prefix + '.G1'\n",
    "#ktable0 = prefix + '.K0'\n",
    "#ftable1 = prefix + '.fluxscale1'"
   ]
  },
  {
   "cell_type": "markdown",
   "metadata": {},
   "source": [
    "Start by re-initializes calibrated visibility data in a given MS and create all the columns and tables for the measurement set\n",
    "\n",
    "Setup parameters and remove previous calibration solutions\n",
    "clearcal(msfile)"
   ]
  },
  {
   "cell_type": "code",
   "execution_count": null,
   "metadata": {},
   "outputs": [],
   "source": [
    "clearstat()\n",
    "clearcal(msfile)"
   ]
  },
  {
   "cell_type": "code",
   "execution_count": 6,
   "metadata": {},
   "outputs": [
    {
     "data": {
      "text/html": [
       "<button type=\"button\" class=\"btn btn-info\" data-toggle=\"collapse\" id=\"1561026280_18\" data-target=\"#log1561026280_18\" onclick=\"if ($('#'+this.id).html()=='Show log') {$('#'+this.id).html('Hide log')} else {$('#'+this.id).html('Show log')}; return false\">Show log</button> <div class=\"collapse\" id=\"log1561026280_18\">2019-06-20 10:24:40\tINFO\tclearcal::::\t\n",
       "<br>2019-06-20 10:24:40\tINFO\tclearcal::::+\t##########################################\n",
       "<br>2019-06-20 10:24:40\tINFO\tclearcal::::+\t##### Begin Task: clearcal           #####\n",
       "<br>2019-06-20 10:24:40\tINFO\tclearcal::::\tclearcal(vis=\"exms_cleanband.ms\",field=\"\",spw=\"\",intent=\"\",addmodel=False)\n",
       "<br>2019-06-20 10:24:40\tINFO\tclearcal::::\tNeed to create scratch columns; ignoring selection.\n",
       "<br>2019-06-20 10:24:40\tWARN\tcalibrater::setvi(bool,bool)\tForcing use of OLD VisibilityIterator.\n",
       "<br>2019-06-20 10:24:40\tINFO\tcalibrater::open\t****Using OLD VI-driven calibrater tool****\n",
       "<br>2019-06-20 10:24:40\tINFO\tcalibrater::open\tOpening MS: exms_cleanband.ms for calibration.\n",
       "<br>2019-06-20 10:24:40\tINFO\tVisSetUtil::addScrCols\tAdding CORRECTED_DATA column(s).\n",
       "<br>2019-06-20 10:24:40\tINFO\tVisSetUtil::addScrCols\tStart copying column keyword(s) of CORRECTED_DATA from DATA\n",
       "<br>2019-06-20 10:24:40\tINFO\tCalibrater::\tInitializing nominal selection to the whole MS.\n",
       "<br>2019-06-20 10:24:40\tINFO\tclearcal::::\tCASA Version 5.5.0-149  \n",
       "<br>2019-06-20 10:24:40\tINFO\tclearcal::::\t\n",
       "<br>2019-06-20 10:24:40\tINFO\tclearcal::::\t##### End Task: clearcal             #####\n",
       "<br>2019-06-20 10:24:40\tINFO\tclearcal::::+\t##########################################\n",
       "</div>"
      ]
     },
     "metadata": {},
     "output_type": "display_data"
    }
   ],
   "source": [
    "#rmtables(btable0)\n",
    "#rmtables(gtable0)\n",
    "#rmtables(gtable1)\n",
    "#rmtables(ktable0)\n",
    "#rmtables(ftable1)"
   ]
  },
  {
   "cell_type": "markdown",
   "metadata": {},
   "source": [
    "#### Calibrating imaging data\n",
    "Setting the flux to -1 causes `setjy` to look up the flux density.\n",
    "\n",
    "Solving for the main time variable part of each source. Amplitude calibration was done on the primary amplitude flux calibrator. Use this to solve for the complex gain solutions of the secondary gain/phase calibrator source.\n",
    "Since there is only limit primary calibrators, which may not be close to the target source, this flux density bootstrapping allows the use of much closer secondary calibrators which will provide better calibration solutions for the target source. For calibrator sources we expect values that are consistent across baselines and vary only slightly across channels."
   ]
  },
  {
   "cell_type": "code",
   "execution_count": 7,
   "metadata": {},
   "outputs": [
    {
     "data": {
      "text/plain": [
       "{'0': {'0': {'fluxd': array([ 15.06729696,   0.        ,   0.        ,   0.        ])},\n",
       "  'fieldName': 'PKS1934-63'},\n",
       " 'format': \"{field Id: {spw Id: {fluxd: [I,Q,U,V] in Jy}, 'fieldName':field name }}\"}"
      ]
     },
     "execution_count": 7,
     "metadata": {},
     "output_type": "execute_result"
    },
    {
     "data": {
      "text/html": [
       "<button type=\"button\" class=\"btn btn-info\" data-toggle=\"collapse\" id=\"1561026325_35\" data-target=\"#log1561026325_35\" onclick=\"if ($('#'+this.id).html()=='Show log') {$('#'+this.id).html('Hide log')} else {$('#'+this.id).html('Show log')}; return false\">Show log</button> <div class=\"collapse\" id=\"log1561026325_35\">2019-06-20 10:25:25\tINFO\tsetjy::::\t\n",
       "<br>2019-06-20 10:25:25\tINFO\tsetjy::::+\t##########################################\n",
       "<br>2019-06-20 10:25:25\tINFO\tsetjy::::+\t##### Begin Task: setjy              #####\n",
       "<br>2019-06-20 10:25:25\tINFO\tsetjy::::\tsetjy(vis=\"exms_cleanband.ms\",field=\"PKS1934-63\",spw=\"\",selectdata=False,timerange=\"\",\n",
       "<br>2019-06-20 10:25:25\tINFO\tsetjy::::+\t        scan=\"\",intent=\"\",observation=\"\",scalebychan=True,standard=\"Perley-Butler 2010\",\n",
       "<br>2019-06-20 10:25:25\tINFO\tsetjy::::+\t        model=\"\",modimage=\"\",listmodels=False,fluxdensity=-1,spix=0.0,\n",
       "<br>2019-06-20 10:25:25\tINFO\tsetjy::::+\t        reffreq=\"1GHz\",polindex=[],polangle=[],rotmeas=0.0,fluxdict={},\n",
       "<br>2019-06-20 10:25:25\tINFO\tsetjy::::+\t        useephemdir=False,interpolation=\"nearest\",usescratch=False,ismms=False)\n",
       "<br>2019-06-20 10:25:25\tINFO\tsetjy::::\t{'field': 'PKS1934-63'}\n",
       "<br>2019-06-20 10:25:25\tINFO\tImager::open() \tOpening MeasurementSet /home/jupyter/MeerKAT-Cookbook/casa/exms_cleanband.ms\n",
       "<br>2019-06-20 10:25:25\tINFO\tsetjy::::\tCASA Version 5.5.0-149  \n",
       "<br>2019-06-20 10:25:25\tINFO\tsetjy::::\t\n",
       "<br>2019-06-20 10:25:25\tINFO\timager::setjy()\tUsing channel dependent flux densities\n",
       "<br>2019-06-20 10:25:25\tINFO\tFluxStdSrcs::srcNameToEnum\tTrying to determine source match by position...\n",
       "<br>2019-06-20 10:25:25\tINFO\tFluxStdSrcs::srcNameToEnum\tFound 1934-638 as a match for the input field, PKS1934-63 in the cone search within radius of 4.8481367e-06rad\n",
       "<br>2019-06-20 10:25:25\tINFO\timager::setjy()\t  PKS1934-63 (fld ind 0) spw 0  [I=15.067, Q=0, U=0, V=0] Jy @ 1.3053e+09Hz, (Perley-Butler 2010)\n",
       "<br>2019-06-20 10:25:25\tINFO\timager::setjy()\tWill clear any existing model with matching field=PKS1934-63 and spw=*\n",
       "<br>2019-06-20 10:25:25\tINFO\t\tClearing model records in MS header for selected fields.\n",
       "<br>2019-06-20 10:25:25\tINFO\t\t PKS1934-63 (id = 0) not found.\n",
       "<br>2019-06-20 10:25:25\tINFO\timager::ft() \tFourier transforming: replacing visibility model header\n",
       "<br>2019-06-20 10:25:25\tINFO\timager::createSkyEquation() \tProcessing after subtracting componentlist /home/jupyter/MeerKAT-Cookbook/casa/exms_cleanband.ms_setjy_spw0_PKS1934-63_1.30532GHz58508.5d.cl\n",
       "<br>2019-06-20 10:25:25\tINFO\timager::createFTMachine() \tPerforming interferometric gridding...\n",
       "<br>2019-06-20 10:25:25\tINFO\tsetjy::::\t##### End Task: setjy                #####\n",
       "<br>2019-06-20 10:25:25\tINFO\tsetjy::::+\t##########################################\n",
       "</div>"
      ]
     },
     "metadata": {},
     "output_type": "display_data"
    }
   ],
   "source": [
    "setjy(vis=msfile,\n",
    "      field=f_cal,\n",
    "      fluxdensity=-1,\n",
    "      standard='Perley-Butler 2010')"
   ]
  },
  {
   "cell_type": "code",
   "execution_count": null,
   "metadata": {},
   "outputs": [],
   "source": [
    "rmtables(ktable0)"
   ]
  },
  {
   "cell_type": "code",
   "execution_count": null,
   "metadata": {},
   "outputs": [],
   "source": [
    "gaincal(vis=msfile,\n",
    "        caltable=ktable0,\n",
    "        field=f_cal,\n",
    "        refant=ref_ant,\n",
    "        spw='0:2150~3150',\n",
    "        gaintype='G',\n",
    "        calmode='p',\n",
    "        combine='scan',\n",
    "        minblperant=1,\n",
    "        solnorm=False,\n",
    "        solint='int',\n",
    "        minsnr=5)"
   ]
  },
  {
   "cell_type": "code",
   "execution_count": null,
   "metadata": {},
   "outputs": [],
   "source": [
    "gaincal(vis=msfile,\n",
    "        caltable=ktable0,\n",
    "        field=f_cal,\n",
    "        refant='m043',\n",
    "#        spw='0:2150~3150',\n",
    "        gaintype='G',\n",
    "        calmode='p',\n",
    "#        combine='scan',\n",
    "        minblperant=1,\n",
    "#        solnorm=False,\n",
    "        solint='int',\n",
    "        minsnr=5)"
   ]
  },
  {
   "cell_type": "code",
   "execution_count": null,
   "metadata": {},
   "outputs": [],
   "source": [
    "#Solving for delays\n",
    "gaincal(vis=msfile,\n",
    "        caltable=ktable0,\n",
    "        field=f_cal,\n",
    "        gaintype='K',\n",
    "        solint='inf',\n",
    "        refant=ref_ant,\n",
    "        combine='scan',\n",
    "        minblperant=1,\n",
    "        solnorm=False,\n",
    "        spw='0',\n",
    "        minsnr=5)"
   ]
  },
  {
   "cell_type": "code",
   "execution_count": null,
   "metadata": {},
   "outputs": [],
   "source": [
    "plotcal(caltable=ktable0, xaxis='antenna', yaxis='delay', antenna='')"
   ]
  },
  {
   "cell_type": "code",
   "execution_count": null,
   "metadata": {},
   "outputs": [],
   "source": [
    "gaincal(vis=msfile,\n",
    "        field=b_cal,\n",
    "        caltable=gtable0,\n",
    "        refant=ref_ant,\n",
    "        calmode='p',\n",
    "        solint='inf',\n",
    "        minsnr=5,\n",
    "        solnorm=True,\n",
    "        gaintable=ktable0,\n",
    "        interp='nearest')"
   ]
  },
  {
   "cell_type": "code",
   "execution_count": null,
   "metadata": {},
   "outputs": [],
   "source": [
    "# Solve for the bandpass response -- complex gain as a function of channel across the passband.\n",
    "bandpass(vis=msfile,\n",
    "         caltable=btable0,\n",
    "         field=b_cal,\n",
    "         refant=ref_ant,\n",
    "         solnorm=True,\n",
    "#         combine='scan',\n",
    "         solint='inf',\n",
    "         bandtype='B',\n",
    "         minsnr=5,\n",
    "         gaintable=[ktable0],\n",
    "         interp=['nearest', 'nearest'])"
   ]
  },
  {
   "cell_type": "markdown",
   "metadata": {},
   "source": [
    "Since we asked bandpass to normalise the solution, the amplitude should be fairly stable around 1.\n",
    "\n",
    "If any of the plotcal graphs shows solutions with highly varying (outlier) data points that require more flagging of data: Return to the flagging stage and remove the bad data. Then restart calibration form the clearcal step.\n"
   ]
  },
  {
   "cell_type": "code",
   "execution_count": null,
   "metadata": {},
   "outputs": [],
   "source": [
    "3) Solve for the complex gain solution\n",
    "Solving for the main time variable part of each source. Amplitude calibration was done on the primary amplitude flux calibrator. Use this to solve for the complex gain solutions of the secondary gain/phase calibrator source.\n",
    "Since there is only limit primary calibrators, which may not be close to the target source, this flux density bootstrapping allows the use of much closer secondary calibrators which will provide better calibration solutions for the target source. For calibrator sources we expect values that are consistent across baselines and vary only slightly across channels. Thus plot amplitude for all baseline together.\n",
    "plotms(vis=msfile, xaxis='channel', yaxis='amp', correlation='XX,YY', field='PKS1934-638', coloraxis='corr')\n"
   ]
  },
  {
   "cell_type": "code",
   "execution_count": null,
   "metadata": {},
   "outputs": [],
   "source": [
    "plotms(vis=msfile,\n",
    "       xaxis='channel',\n",
    "       yaxis='phase',\n",
    "       correlation='XX,YY',\n",
    "#       scan='28',\n",
    "       field=b_cal,\n",
    "#       iteraxis='baseline',\n",
    "#       coloraxis='corr',\n",
    "       coloraxis='baseline',\n",
    "       plotrange=[0,0,-180,180])"
   ]
  },
  {
   "cell_type": "code",
   "execution_count": null,
   "metadata": {},
   "outputs": [],
   "source": [
    "plotcal(caltable=btable0, xaxis='chan', yaxis='phase', subplot=321)"
   ]
  },
  {
   "cell_type": "code",
   "execution_count": null,
   "metadata": {},
   "outputs": [],
   "source": []
  },
  {
   "cell_type": "markdown",
   "metadata": {},
   "source": [
    "#### Apply calibration"
   ]
  },
  {
   "cell_type": "markdown",
   "metadata": {},
   "source": []
  },
  {
   "cell_type": "markdown",
   "metadata": {},
   "source": [
    "delay calibraion\n",
    "The first stage of data processing in aperture synthesis is to determine the amplitude gain and the phase shift due to each individual antenna (and the atmosphere above it), which together form the complex gain of the antenna.\n"
   ]
  },
  {
   "cell_type": "markdown",
   "metadata": {},
   "source": []
  },
  {
   "cell_type": "markdown",
   "metadata": {},
   "source": [
    "Various gain calibrator solutions exists\n",
    "flux calibration (strong calibrator with known flux): in order to set the flux density scale correctly, use observations of at least one flux density calibrator (can be used for bandpass calibration as well) whose flux density is known -- use one of a few scans and done only once.\n",
    "bandpass calibration (strong calibrator source of known spectrum): the bandpass response of the instrument varies across the frequency band, but is fairly stable in time, thus it needs to be solved for only once in an observing run.\n",
    "gain/phase calibration (point-like source): the variation in amplitude and phase response as a function of time for calibrators which are known to be point-like sources.\n"
   ]
  },
  {
   "cell_type": "code",
   "execution_count": null,
   "metadata": {},
   "outputs": [],
   "source": [
    "Start by re-initializes calibrated visibility data in a given MS and doing basic flagging:\n",
    "Create all the columns and tables for the measurement set\n",
    "clearcal(msfile)\n"
   ]
  },
  {
   "cell_type": "code",
   "execution_count": null,
   "metadata": {},
   "outputs": [],
   "source": []
  },
  {
   "cell_type": "code",
   "execution_count": null,
   "metadata": {},
   "outputs": [],
   "source": []
  },
  {
   "cell_type": "code",
   "execution_count": null,
   "metadata": {},
   "outputs": [],
   "source": []
  },
  {
   "cell_type": "code",
   "execution_count": null,
   "metadata": {},
   "outputs": [],
   "source": []
  },
  {
   "cell_type": "code",
   "execution_count": null,
   "metadata": {},
   "outputs": [],
   "source": []
  },
  {
   "cell_type": "markdown",
   "metadata": {},
   "source": []
  },
  {
   "cell_type": "markdown",
   "metadata": {},
   "source": []
  },
  {
   "cell_type": "code",
   "execution_count": 18,
   "metadata": {},
   "outputs": [
    {
     "data": {
      "image/png": "[encoded data removed]",
      "text/plain": [
       "<IPython.core.display.Image object>"
      ]
     },
     "metadata": {},
     "output_type": "display_data"
    },
    {
     "data": {
      "text/plain": [
       "True"
      ]
     },
     "execution_count": 18,
     "metadata": {},
     "output_type": "execute_result"
    },
    {
     "data": {
      "text/html": [
       "<button type=\"button\" class=\"btn btn-info\" data-toggle=\"collapse\" id=\"1560941483_25\" data-target=\"#log1560941483_25\" onclick=\"if ($('#'+this.id).html()=='Show log') {$('#'+this.id).html('Hide log')} else {$('#'+this.id).html('Show log')}; return false\">Show log</button> <div class=\"collapse\" id=\"log1560941483_25\">2019-06-19 10:51:18\tINFO\tplotms::::\t\n",
       "<br>2019-06-19 10:51:18\tINFO\tplotms::::+\t##########################################\n",
       "<br>2019-06-19 10:51:18\tINFO\tplotms::::+\t##### Begin Task: plotms             #####\n",
       "<br>2019-06-19 10:51:18\tINFO\tplotms::::\tplotms(vis=\"../../example-data/mkat_cal_im_full.ms\",gridrows=1,gridcols=1,rowindex=0,colindex=0,\n",
       "<br>2019-06-19 10:51:18\tINFO\tplotms::::+\t        plotindex=0,xaxis=\"freq\",xdatacolumn=\"\",xframe=\"\",xinterp=\"\",\n",
       "<br>2019-06-19 10:51:18\tINFO\tplotms::::+\t        yaxis=\"amp\",ydatacolumn=\"\",yframe=\"\",yinterp=\"\",yaxislocation=\"\",\n",
       "<br>2019-06-19 10:51:18\tINFO\tplotms::::+\t        selectdata=True,field=\"PKS1934-63\",spw=\"\",timerange=\"\",uvrange=\"\",\n",
       "<br>2019-06-19 10:51:18\tINFO\tplotms::::+\t        antenna=\"m010,m043,m053\",scan=\"\",correlation=\"\",array=\"\",observation=\"\",\n",
       "<br>2019-06-19 10:51:18\tINFO\tplotms::::+\t        intent=\"\",feed=\"\",msselect=\"\",averagedata=True,avgchannel=\"\",\n",
       "<br>2019-06-19 10:51:18\tINFO\tplotms::::+\t        avgtime=\"\",avgscan=False,avgfield=False,avgbaseline=False,avgantenna=False,\n",
       "<br>2019-06-19 10:51:18\tINFO\tplotms::::+\t        avgspw=False,scalar=False,transform=True,freqframe=\"\",restfreq=\"\",\n",
       "<br>2019-06-19 10:51:18\tINFO\tplotms::::+\t        veldef=\"RADIO\",shift=[0.0, 0.0],extendflag=False,extcorr=False,extchannel=False,\n",
       "<br>2019-06-19 10:51:18\tINFO\tplotms::::+\t        iteraxis=\"\",xselfscale=False,yselfscale=False,xsharedaxis=False,ysharedaxis=False,\n",
       "<br>2019-06-19 10:51:18\tINFO\tplotms::::+\t        customsymbol=False,symbolshape=\"autoscaling\",symbolsize=2,symbolcolor=\"0000ff\",symbolfill=\"fill\",\n",
       "<br>2019-06-19 10:51:18\tINFO\tplotms::::+\t        symboloutline=False,coloraxis=\"baseline\",customflaggedsymbol=False,flaggedsymbolshape=\"circle\",flaggedsymbolsize=2,\n",
       "<br>2019-06-19 10:51:18\tINFO\tplotms::::+\t        flaggedsymbolcolor=\"ff0000\",flaggedsymbolfill=\"fill\",flaggedsymboloutline=False,xconnector=\"\",timeconnector=False,\n",
       "<br>2019-06-19 10:51:18\tINFO\tplotms::::+\t        plotrange=[],title=\"\",titlefont=0,xlabel=\"\",xaxisfont=0,\n",
       "<br>2019-06-19 10:51:18\tINFO\tplotms::::+\t        ylabel=\"\",yaxisfont=0,showmajorgrid=False,majorwidth=1,majorstyle=\"\",\n",
       "<br>2019-06-19 10:51:18\tINFO\tplotms::::+\t        majorcolor=\"B0B0B0\",showminorgrid=False,minorwidth=1,minorstyle=\"\",minorcolor=\"D0D0D0\",\n",
       "<br>2019-06-19 10:51:18\tINFO\tplotms::::+\t        showlegend=False,legendposition=\"\",plotfile=\"plotms_temp.png\",expformat=\"\",verbose=True,\n",
       "<br>2019-06-19 10:51:18\tINFO\tplotms::::+\t        exprange=\"\",highres=False,dpi=-1,width=-1,height=-1,\n",
       "<br>2019-06-19 10:51:18\tINFO\tplotms::::+\t        overwrite=True,showgui=False,clearplots=True,callib=[''],headeritems=\"\",\n",
       "<br>2019-06-19 10:51:18\tINFO\tplotms::::+\t        showatm=False,showtsky=False)\n",
       "<br>2019-06-19 10:51:18\tINFO\tPlotMS::params_changed\tUpdating: REDRAW, MSDATA, CACHE, AXES, CANVAS, DISPLAY, PAGEHEADER, ITERATION, LOG, PLOTMS_OPTIONS.\n",
       "<br>2019-06-19 10:51:18\tINFO\tPlotMS::load_cache\tClearing the existing plotms cache.\n",
       "<br>2019-06-19 10:51:18\tINFO\tPlotMS::load_cache\tSTART     Current memory usage: 7946.5 kilobytes.\n",
       "<br>2019-06-19 10:51:18\tINFO\tPlotMS::load_cache\tPlot Data Transformations:\n",
       "<br>2019-06-19 10:51:18\tINFO\tPlotMS::load_cache+\t Frame      = \n",
       "<br>2019-06-19 10:51:18\tINFO\tPlotMS::load_cache+\t VelDef     = RADIO\n",
       "<br>2019-06-19 10:51:18\tINFO\tPlotMS::load_cache+\t RestFreq   = 0 MHz\n",
       "<br>2019-06-19 10:51:18\tINFO\tPlotMS::load_cache+\t dX         = 0 arcsec\n",
       "<br>2019-06-19 10:51:18\tINFO\tPlotMS::load_cache+\t dY         = 0 arcsec\n",
       "<br>2019-06-19 10:51:18\tINFO\tPlotMS::load_cache+\t formStokes = false\n",
       "<br>2019-06-19 10:51:18\tINFO\tPlotMS::load_cache\tData Averaging: None.\n",
       "<br>2019-06-19 10:51:18\tINFO\tPlotMS::load_cache\tPlot Data Calibration:\n",
       "<br>2019-06-19 10:51:18\tINFO\tPlotMS::load_cache+\t Use Calibration    = 0\n",
       "<br>2019-06-19 10:51:18\tINFO\tPlotMS::load_cache+\t Calibration Library   = \n",
       "<br>2019-06-19 10:51:18\tINFO\tPlotMS::load_cache\tCaching for the new plot: Amp(17):data vs. Frequency(6)...\n",
       "<br>2019-06-19 10:51:18\tINFO\tPlotMS::load_cache\tLoading page header cache\n",
       "<br>2019-06-19 10:51:18\tINFO\tPlotMS::load_cache\tData selection will yield a total of 1179648 plottable points (flagged and unflagged).\n",
       "<br>2019-06-19 10:51:18\tINFO\tPlotMS::load_cache+\tThe plotms cache will require an estimated 0.00826013 GB of memory (7.0022 bytes/point).\n",
       "<br>2019-06-19 10:51:18\tINFO\tPlotMS::load_cache+\tThis is 0.0506344% of the memory avail. to CASA (16.3133 GB).\n",
       "<br>2019-06-19 10:51:18\tINFO\tPlotMS::load_cache\tLoading chunks......\n",
       "<br>2019-06-19 10:51:18\tINFO\tPlotMS::load_cache\tGenerating the plot mask.\n",
       "<br>2019-06-19 10:51:18\tINFO\tPlotMS::load_cache\trefTime = 2019/01/25/00:00:00.0\n",
       "<br>2019-06-19 10:51:18\tINFO\tPlotMS::load_cache\tFinished loading.\n",
       "<br>2019-06-19 10:51:18\tINFO\tPlotMS::load_cache\tSetting up iteration indexing (if necessary), and calculating plot ranges.\n",
       "<br>2019-06-19 10:51:18\tINFO\tPlotMS::load_cache\tAxes ranges:\n",
       "<br>2019-06-19 10:51:18\tINFO\tPlotMS::load_cache+\tFrequency: 0.856209 to 1.71179 (unflagged); ; 0.856 to 1.71179 (flagged).\n",
       "<br>2019-06-19 10:51:18\tINFO\tPlotMS::load_cache+\tAmp:data: 0 to 11.1707 (unflagged); 0 to 11908.4(flagged).\n",
       "<br>2019-06-19 10:51:18\tINFO\tPlotMS::load_cache\tFinished indexing.\n",
       "<br>2019-06-19 10:51:18\tINFO\tPlotMS::load_cache\tEND       Time: +1 seconds.  Memory: +8206.3 kilobytes.\n",
       "<br>2019-06-19 10:51:18\tINFO\tPlotMS::plot\tPlotting 768688 unflagged points.\n",
       "<br>2019-06-19 10:51:18\tINFO\tplotms::::\tPlot file /home/jupyter/MeerKAT-Cookbook/casa/plotms_temp.png\n",
       "<br>2019-06-19 10:51:21\tINFO\tplotms::::\tExporting the plot.\n",
       "<br>2019-06-19 10:51:21\tINFO\tQPExporter::export\tSTART     Current memory usage: 16292.2 kilobytes.\n",
       "<br>2019-06-19 10:51:21\tINFO\tQPExporter::export\tEND       Time: +3 seconds.  Memory: +1.64062 kilobytes.\n",
       "<br>2019-06-19 10:51:23\tINFO\tPlotMS::plot\tExported /home/jupyter/MeerKAT-Cookbook/casa/plotms_temp.png\n",
       "<br>2019-06-19 10:51:23\tINFO\tplotms::::\t##### End Task: plotms               #####\n",
       "<br>2019-06-19 10:51:23\tINFO\tplotms::::+\t##########################################\n",
       "</div>"
      ]
     },
     "metadata": {},
     "output_type": "display_data"
    }
   ],
   "source": [
    "plotms(vis=msfile, xaxis='freq', yaxis='amp', field='PKS1934-63', coloraxis='baseline', antenna='m010,m043,m053')"
   ]
  },
  {
   "cell_type": "code",
   "execution_count": 17,
   "metadata": {},
   "outputs": [
    {
     "data": {
      "image/png": "[encoded data removed]",
      "text/plain": [
       "<IPython.core.display.Image object>"
      ]
     },
     "metadata": {},
     "output_type": "display_data"
    },
    {
     "data": {
      "text/plain": [
       "True"
      ]
     },
     "execution_count": 17,
     "metadata": {},
     "output_type": "execute_result"
    },
    {
     "data": {
      "text/html": [
       "<button type=\"button\" class=\"btn btn-info\" data-toggle=\"collapse\" id=\"1560941453_88\" data-target=\"#log1560941453_88\" onclick=\"if ($('#'+this.id).html()=='Show log') {$('#'+this.id).html('Hide log')} else {$('#'+this.id).html('Show log')}; return false\">Show log</button> <div class=\"collapse\" id=\"log1560941453_88\">2019-06-19 10:50:51\tINFO\tplotms::::\t\n",
       "<br>2019-06-19 10:50:51\tINFO\tplotms::::+\t##########################################\n",
       "<br>2019-06-19 10:50:51\tINFO\tplotms::::+\t##### Begin Task: plotms             #####\n",
       "<br>2019-06-19 10:50:51\tINFO\tplotms::::\tplotms(vis=\"../../example-data/mkat_cal_im_full.ms\",gridrows=1,gridcols=1,rowindex=0,colindex=0,\n",
       "<br>2019-06-19 10:50:51\tINFO\tplotms::::+\t        plotindex=0,xaxis=\"freq\",xdatacolumn=\"\",xframe=\"\",xinterp=\"\",\n",
       "<br>2019-06-19 10:50:51\tINFO\tplotms::::+\t        yaxis=\"amp\",ydatacolumn=\"\",yframe=\"\",yinterp=\"\",yaxislocation=\"\",\n",
       "<br>2019-06-19 10:50:51\tINFO\tplotms::::+\t        selectdata=True,field=\"PKS1934-63\",spw=\"\",timerange=\"\",uvrange=\"\",\n",
       "<br>2019-06-19 10:50:51\tINFO\tplotms::::+\t        antenna=\"m054\",scan=\"\",correlation=\"\",array=\"\",observation=\"\",\n",
       "<br>2019-06-19 10:50:51\tINFO\tplotms::::+\t        intent=\"\",feed=\"\",msselect=\"\",averagedata=True,avgchannel=\"\",\n",
       "<br>2019-06-19 10:50:51\tINFO\tplotms::::+\t        avgtime=\"\",avgscan=False,avgfield=False,avgbaseline=False,avgantenna=False,\n",
       "<br>2019-06-19 10:50:51\tINFO\tplotms::::+\t        avgspw=False,scalar=False,transform=True,freqframe=\"\",restfreq=\"\",\n",
       "<br>2019-06-19 10:50:51\tINFO\tplotms::::+\t        veldef=\"RADIO\",shift=[0.0, 0.0],extendflag=False,extcorr=False,extchannel=False,\n",
       "<br>2019-06-19 10:50:51\tINFO\tplotms::::+\t        iteraxis=\"\",xselfscale=False,yselfscale=False,xsharedaxis=False,ysharedaxis=False,\n",
       "<br>2019-06-19 10:50:51\tINFO\tplotms::::+\t        customsymbol=False,symbolshape=\"autoscaling\",symbolsize=2,symbolcolor=\"0000ff\",symbolfill=\"fill\",\n",
       "<br>2019-06-19 10:50:51\tINFO\tplotms::::+\t        symboloutline=False,coloraxis=\"baseline\",customflaggedsymbol=False,flaggedsymbolshape=\"circle\",flaggedsymbolsize=2,\n",
       "<br>2019-06-19 10:50:51\tINFO\tplotms::::+\t        flaggedsymbolcolor=\"ff0000\",flaggedsymbolfill=\"fill\",flaggedsymboloutline=False,xconnector=\"\",timeconnector=False,\n",
       "<br>2019-06-19 10:50:51\tINFO\tplotms::::+\t        plotrange=[],title=\"\",titlefont=0,xlabel=\"\",xaxisfont=0,\n",
       "<br>2019-06-19 10:50:51\tINFO\tplotms::::+\t        ylabel=\"\",yaxisfont=0,showmajorgrid=False,majorwidth=1,majorstyle=\"\",\n",
       "<br>2019-06-19 10:50:51\tINFO\tplotms::::+\t        majorcolor=\"B0B0B0\",showminorgrid=False,minorwidth=1,minorstyle=\"\",minorcolor=\"D0D0D0\",\n",
       "<br>2019-06-19 10:50:51\tINFO\tplotms::::+\t        showlegend=False,legendposition=\"\",plotfile=\"plotms_temp.png\",expformat=\"\",verbose=True,\n",
       "<br>2019-06-19 10:50:51\tINFO\tplotms::::+\t        exprange=\"\",highres=False,dpi=-1,width=-1,height=-1,\n",
       "<br>2019-06-19 10:50:51\tINFO\tplotms::::+\t        overwrite=True,showgui=False,clearplots=True,callib=[''],headeritems=\"\",\n",
       "<br>2019-06-19 10:50:51\tINFO\tplotms::::+\t        showatm=False,showtsky=False)\n",
       "<br>2019-06-19 10:50:51\tINFO\tPlotMS::params_changed\tUpdating: REDRAW, MSDATA, CACHE, AXES, CANVAS, DISPLAY, PAGEHEADER, ITERATION, LOG, PLOTMS_OPTIONS.\n",
       "<br>2019-06-19 10:50:51\tINFO\tPlotMS::load_cache\tClearing the existing plotms cache.\n",
       "<br>2019-06-19 10:50:51\tINFO\tPlotMS::load_cache\tSTART     Current memory usage: 7936.81 kilobytes.\n",
       "<br>2019-06-19 10:50:51\tINFO\tPlotMS::load_cache\tPlot Data Transformations:\n",
       "<br>2019-06-19 10:50:51\tINFO\tPlotMS::load_cache+\t Frame      = \n",
       "<br>2019-06-19 10:50:51\tINFO\tPlotMS::load_cache+\t VelDef     = RADIO\n",
       "<br>2019-06-19 10:50:51\tINFO\tPlotMS::load_cache+\t RestFreq   = 0 MHz\n",
       "<br>2019-06-19 10:50:51\tINFO\tPlotMS::load_cache+\t dX         = 0 arcsec\n",
       "<br>2019-06-19 10:50:51\tINFO\tPlotMS::load_cache+\t dY         = 0 arcsec\n",
       "<br>2019-06-19 10:50:51\tINFO\tPlotMS::load_cache+\t formStokes = false\n",
       "<br>2019-06-19 10:50:51\tINFO\tPlotMS::load_cache\tData Averaging: None.\n",
       "<br>2019-06-19 10:50:51\tINFO\tPlotMS::load_cache\tPlot Data Calibration:\n",
       "<br>2019-06-19 10:50:51\tINFO\tPlotMS::load_cache+\t Use Calibration    = 0\n",
       "<br>2019-06-19 10:50:51\tINFO\tPlotMS::load_cache+\t Calibration Library   = \n",
       "<br>2019-06-19 10:50:51\tINFO\tPlotMS::load_cache\tCaching for the new plot: Amp(17):data vs. Frequency(6)...\n",
       "<br>2019-06-19 10:50:51\tINFO\tPlotMS::load_cache\tLoading page header cache\n",
       "<br>2019-06-19 10:50:51\tINFO\tPlotMS::load_cache\tData selection will yield a total of 589824 plottable points (flagged and unflagged).\n",
       "<br>2019-06-19 10:50:51\tINFO\tPlotMS::load_cache+\tThe plotms cache will require an estimated 0.00472032 GB of memory (8.00293 bytes/point).\n",
       "<br>2019-06-19 10:50:51\tINFO\tPlotMS::load_cache+\tThis is 0.0289354% of the memory avail. to CASA (16.3133 GB).\n",
       "<br>2019-06-19 10:50:51\tINFO\tPlotMS::load_cache\tLoading chunks......\n",
       "<br>2019-06-19 10:50:51\tINFO\tPlotMS::load_cache\tGenerating the plot mask.\n",
       "<br>2019-06-19 10:50:51\tINFO\tPlotMS::load_cache\trefTime = 2019/01/25/00:00:00.0\n",
       "<br>2019-06-19 10:50:51\tINFO\tPlotMS::load_cache\tFinished loading.\n",
       "<br>2019-06-19 10:50:51\tINFO\tPlotMS::load_cache\tSetting up iteration indexing (if necessary), and calculating plot ranges.\n",
       "<br>2019-06-19 10:50:51\tINFO\tPlotMS::load_cache\tAxes ranges:\n",
       "<br>2019-06-19 10:50:51\tINFO\tPlotMS::load_cache+\tFrequency: 0.856209 to 1.71179 (unflagged); ; 0.856 to 1.60813 (flagged).\n",
       "<br>2019-06-19 10:50:51\tINFO\tPlotMS::load_cache+\tAmp:data: 0 to 0 (unflagged); 0 to 0(flagged).\n",
       "<br>2019-06-19 10:50:51\tINFO\tPlotMS::load_cache\tFinished indexing.\n",
       "<br>2019-06-19 10:50:51\tINFO\tPlotMS::load_cache\tEND       Time: +1 seconds.  Memory: +4749.94 kilobytes.\n",
       "<br>2019-06-19 10:50:51\tINFO\tPlotMS::plot\tPlotting 404496 unflagged points.\n",
       "<br>2019-06-19 10:50:51\tINFO\tplotms::::\tPlot file /home/jupyter/MeerKAT-Cookbook/casa/plotms_temp.png\n",
       "<br>2019-06-19 10:50:53\tINFO\tplotms::::\tExporting the plot.\n",
       "<br>2019-06-19 10:50:53\tINFO\tQPExporter::export\tSTART     Current memory usage: 12826.7 kilobytes.\n",
       "<br>2019-06-19 10:50:53\tINFO\tQPExporter::export\tEND       Time: +1 seconds.  Memory: +1.79688 kilobytes.\n",
       "<br>2019-06-19 10:50:54\tINFO\tPlotMS::plot\tExported /home/jupyter/MeerKAT-Cookbook/casa/plotms_temp.png\n",
       "<br>2019-06-19 10:50:54\tINFO\tplotms::::\t##### End Task: plotms               #####\n",
       "<br>2019-06-19 10:50:54\tINFO\tplotms::::+\t##########################################\n",
       "</div>"
      ]
     },
     "metadata": {},
     "output_type": "display_data"
    }
   ],
   "source": [
    "plotms(vis=msfile, xaxis='freq', yaxis='amp', field='PKS1934-63', coloraxis='baseline', antenna='m054')"
   ]
  },
  {
   "cell_type": "code",
   "execution_count": 19,
   "metadata": {},
   "outputs": [
    {
     "data": {
      "image/png": "[encoded data removed]",
      "text/plain": [
       "<IPython.core.display.Image object>"
      ]
     },
     "metadata": {},
     "output_type": "display_data"
    },
    {
     "data": {
      "text/plain": [
       "True"
      ]
     },
     "execution_count": 19,
     "metadata": {},
     "output_type": "execute_result"
    },
    {
     "data": {
      "text/html": [
       "<button type=\"button\" class=\"btn btn-info\" data-toggle=\"collapse\" id=\"1560941621_34\" data-target=\"#log1560941621_34\" onclick=\"if ($('#'+this.id).html()=='Show log') {$('#'+this.id).html('Hide log')} else {$('#'+this.id).html('Show log')}; return false\">Show log</button> <div class=\"collapse\" id=\"log1560941621_34\">2019-06-19 10:53:36\tINFO\tplotms::::\t\n",
       "<br>2019-06-19 10:53:36\tINFO\tplotms::::+\t##########################################\n",
       "<br>2019-06-19 10:53:36\tINFO\tplotms::::+\t##### Begin Task: plotms             #####\n",
       "<br>2019-06-19 10:53:36\tINFO\tplotms::::\tplotms(vis=\"../../example-data/mkat_cal_im_full.ms\",gridrows=1,gridcols=1,rowindex=0,colindex=0,\n",
       "<br>2019-06-19 10:53:36\tINFO\tplotms::::+\t        plotindex=0,xaxis=\"time\",xdatacolumn=\"\",xframe=\"\",xinterp=\"\",\n",
       "<br>2019-06-19 10:53:36\tINFO\tplotms::::+\t        yaxis=\"amp\",ydatacolumn=\"\",yframe=\"\",yinterp=\"\",yaxislocation=\"\",\n",
       "<br>2019-06-19 10:53:36\tINFO\tplotms::::+\t        selectdata=True,field=\"PKS1934-63\",spw=\"\",timerange=\"\",uvrange=\"\",\n",
       "<br>2019-06-19 10:53:36\tINFO\tplotms::::+\t        antenna=\"m010,m043,m053\",scan=\"\",correlation=\"\",array=\"\",observation=\"\",\n",
       "<br>2019-06-19 10:53:36\tINFO\tplotms::::+\t        intent=\"\",feed=\"\",msselect=\"\",averagedata=True,avgchannel=\"\",\n",
       "<br>2019-06-19 10:53:36\tINFO\tplotms::::+\t        avgtime=\"\",avgscan=False,avgfield=False,avgbaseline=False,avgantenna=False,\n",
       "<br>2019-06-19 10:53:36\tINFO\tplotms::::+\t        avgspw=False,scalar=False,transform=True,freqframe=\"\",restfreq=\"\",\n",
       "<br>2019-06-19 10:53:36\tINFO\tplotms::::+\t        veldef=\"RADIO\",shift=[0.0, 0.0],extendflag=False,extcorr=False,extchannel=False,\n",
       "<br>2019-06-19 10:53:36\tINFO\tplotms::::+\t        iteraxis=\"\",xselfscale=False,yselfscale=False,xsharedaxis=False,ysharedaxis=False,\n",
       "<br>2019-06-19 10:53:36\tINFO\tplotms::::+\t        customsymbol=False,symbolshape=\"autoscaling\",symbolsize=2,symbolcolor=\"0000ff\",symbolfill=\"fill\",\n",
       "<br>2019-06-19 10:53:36\tINFO\tplotms::::+\t        symboloutline=False,coloraxis=\"baseline\",customflaggedsymbol=False,flaggedsymbolshape=\"circle\",flaggedsymbolsize=2,\n",
       "<br>2019-06-19 10:53:36\tINFO\tplotms::::+\t        flaggedsymbolcolor=\"ff0000\",flaggedsymbolfill=\"fill\",flaggedsymboloutline=False,xconnector=\"\",timeconnector=False,\n",
       "<br>2019-06-19 10:53:36\tINFO\tplotms::::+\t        plotrange=[],title=\"\",titlefont=0,xlabel=\"\",xaxisfont=0,\n",
       "<br>2019-06-19 10:53:36\tINFO\tplotms::::+\t        ylabel=\"\",yaxisfont=0,showmajorgrid=False,majorwidth=1,majorstyle=\"\",\n",
       "<br>2019-06-19 10:53:36\tINFO\tplotms::::+\t        majorcolor=\"B0B0B0\",showminorgrid=False,minorwidth=1,minorstyle=\"\",minorcolor=\"D0D0D0\",\n",
       "<br>2019-06-19 10:53:36\tINFO\tplotms::::+\t        showlegend=False,legendposition=\"\",plotfile=\"plotms_temp.png\",expformat=\"\",verbose=True,\n",
       "<br>2019-06-19 10:53:36\tINFO\tplotms::::+\t        exprange=\"\",highres=False,dpi=-1,width=-1,height=-1,\n",
       "<br>2019-06-19 10:53:36\tINFO\tplotms::::+\t        overwrite=True,showgui=False,clearplots=True,callib=[''],headeritems=\"\",\n",
       "<br>2019-06-19 10:53:36\tINFO\tplotms::::+\t        showatm=False,showtsky=False)\n",
       "<br>2019-06-19 10:53:36\tINFO\tPlotMS::params_changed\tUpdating: REDRAW, MSDATA, CACHE, AXES, CANVAS, DISPLAY, PAGEHEADER, ITERATION, LOG, PLOTMS_OPTIONS.\n",
       "<br>2019-06-19 10:53:36\tINFO\tPlotMS::load_cache\tClearing the existing plotms cache.\n",
       "<br>2019-06-19 10:53:36\tINFO\tPlotMS::load_cache\tSTART     Current memory usage: 7957.36 kilobytes.\n",
       "<br>2019-06-19 10:53:36\tINFO\tPlotMS::load_cache\tPlot Data Transformations:\n",
       "<br>2019-06-19 10:53:36\tINFO\tPlotMS::load_cache+\t Frame      = \n",
       "<br>2019-06-19 10:53:36\tINFO\tPlotMS::load_cache+\t VelDef     = RADIO\n",
       "<br>2019-06-19 10:53:36\tINFO\tPlotMS::load_cache+\t RestFreq   = 0 MHz\n",
       "<br>2019-06-19 10:53:36\tINFO\tPlotMS::load_cache+\t dX         = 0 arcsec\n",
       "<br>2019-06-19 10:53:36\tINFO\tPlotMS::load_cache+\t dY         = 0 arcsec\n",
       "<br>2019-06-19 10:53:36\tINFO\tPlotMS::load_cache+\t formStokes = false\n",
       "<br>2019-06-19 10:53:36\tINFO\tPlotMS::load_cache\tData Averaging: None.\n",
       "<br>2019-06-19 10:53:36\tINFO\tPlotMS::load_cache\tPlot Data Calibration:\n",
       "<br>2019-06-19 10:53:36\tINFO\tPlotMS::load_cache+\t Use Calibration    = 0\n",
       "<br>2019-06-19 10:53:36\tINFO\tPlotMS::load_cache+\t Calibration Library   = \n",
       "<br>2019-06-19 10:53:36\tINFO\tPlotMS::load_cache\tCaching for the new plot: Amp(17):data vs. Time(2)...\n",
       "<br>2019-06-19 10:53:36\tINFO\tPlotMS::load_cache\tLoading page header cache\n",
       "<br>2019-06-19 10:53:36\tINFO\tPlotMS::load_cache\tData selection will yield a total of 1179648 plottable points (flagged and unflagged).\n",
       "<br>2019-06-19 10:53:36\tINFO\tPlotMS::load_cache+\tThe plotms cache will require an estimated 0.00826013 GB of memory (7.0022 bytes/point).\n",
       "<br>2019-06-19 10:53:36\tINFO\tPlotMS::load_cache+\tThis is 0.0506344% of the memory avail. to CASA (16.3133 GB).\n",
       "<br>2019-06-19 10:53:36\tINFO\tPlotMS::load_cache\tLoading chunks......\n",
       "<br>2019-06-19 10:53:37\tINFO\tPlotMS::load_cache\tGenerating the plot mask.\n",
       "<br>2019-06-19 10:53:37\tINFO\tPlotMS::load_cache\trefTime = 2019/01/25/00:00:00.0\n",
       "<br>2019-06-19 10:53:37\tINFO\tPlotMS::load_cache\tFinished loading.\n",
       "<br>2019-06-19 10:53:37\tINFO\tPlotMS::load_cache\tSetting up iteration indexing (if necessary), and calculating plot ranges.\n",
       "<br>2019-06-19 10:53:37\tINFO\tPlotMS::load_cache\tAxes ranges:\n",
       "<br>2019-06-19 10:53:37\tINFO\tPlotMS::load_cache+\tTime: 5.05513e+09 to 5.05513e+09 (unflagged); ; 5.05513e+09 to 5.05513e+09 (flagged).\n",
       "<br>2019-06-19 10:53:37\tINFO\tPlotMS::load_cache+\tAmp:data: 0 to 11.1707 (unflagged); 0 to 11908.4(flagged).\n",
       "<br>2019-06-19 10:53:37\tINFO\tPlotMS::load_cache\tFinished indexing.\n",
       "<br>2019-06-19 10:53:36\tINFO\tPlotMS::load_cache\tEND       Time: +1 seconds.  Memory: +8206.31 kilobytes.\n",
       "<br>2019-06-19 10:53:37\tINFO\tPlotMS::plot\tPlotting 768688 unflagged points.\n",
       "<br>2019-06-19 10:53:37\tINFO\tplotms::::\tPlot file /home/jupyter/MeerKAT-Cookbook/casa/plotms_temp.png\n",
       "<br>2019-06-19 10:53:39\tINFO\tplotms::::\tExporting the plot.\n",
       "<br>2019-06-19 10:53:39\tINFO\tQPExporter::export\tSTART     Current memory usage: 16309.7 kilobytes.\n",
       "<br>2019-06-19 10:53:39\tINFO\tQPExporter::export\tEND       Time: +3 seconds.  Memory: +2.10938 kilobytes.\n",
       "<br>2019-06-19 10:53:41\tINFO\tPlotMS::plot\tExported /home/jupyter/MeerKAT-Cookbook/casa/plotms_temp.png\n",
       "<br>2019-06-19 10:53:41\tINFO\tplotms::::\t##### End Task: plotms               #####\n",
       "<br>2019-06-19 10:53:41\tINFO\tplotms::::+\t##########################################\n",
       "</div>"
      ]
     },
     "metadata": {},
     "output_type": "display_data"
    }
   ],
   "source": [
    "plotms(vis=msfile, xaxis='time', yaxis='amp', field='PKS1934-63', coloraxis='baseline', antenna='m010,m043,m053')"
   ]
  },
  {
   "cell_type": "code",
   "execution_count": 20,
   "metadata": {},
   "outputs": [
    {
     "data": {
      "image/png": "[encoded data removed]",
      "text/plain": [
       "<IPython.core.display.Image object>"
      ]
     },
     "metadata": {},
     "output_type": "display_data"
    },
    {
     "data": {
      "text/plain": [
       "True"
      ]
     },
     "execution_count": 20,
     "metadata": {},
     "output_type": "execute_result"
    },
    {
     "data": {
      "text/html": [
       "<button type=\"button\" class=\"btn btn-info\" data-toggle=\"collapse\" id=\"1560941641_22\" data-target=\"#log1560941641_22\" onclick=\"if ($('#'+this.id).html()=='Show log') {$('#'+this.id).html('Hide log')} else {$('#'+this.id).html('Show log')}; return false\">Show log</button> <div class=\"collapse\" id=\"log1560941641_22\">2019-06-19 10:53:58\tINFO\tplotms::::\t\n",
       "<br>2019-06-19 10:53:58\tINFO\tplotms::::+\t##########################################\n",
       "<br>2019-06-19 10:53:58\tINFO\tplotms::::+\t##### Begin Task: plotms             #####\n",
       "<br>2019-06-19 10:53:58\tINFO\tplotms::::\tplotms(vis=\"../../example-data/mkat_cal_im_full.ms\",gridrows=1,gridcols=1,rowindex=0,colindex=0,\n",
       "<br>2019-06-19 10:53:58\tINFO\tplotms::::+\t        plotindex=0,xaxis=\"time\",xdatacolumn=\"\",xframe=\"\",xinterp=\"\",\n",
       "<br>2019-06-19 10:53:58\tINFO\tplotms::::+\t        yaxis=\"amp\",ydatacolumn=\"\",yframe=\"\",yinterp=\"\",yaxislocation=\"\",\n",
       "<br>2019-06-19 10:53:58\tINFO\tplotms::::+\t        selectdata=True,field=\"PKS1934-63\",spw=\"\",timerange=\"\",uvrange=\"\",\n",
       "<br>2019-06-19 10:53:58\tINFO\tplotms::::+\t        antenna=\"m054\",scan=\"\",correlation=\"\",array=\"\",observation=\"\",\n",
       "<br>2019-06-19 10:53:58\tINFO\tplotms::::+\t        intent=\"\",feed=\"\",msselect=\"\",averagedata=True,avgchannel=\"\",\n",
       "<br>2019-06-19 10:53:58\tINFO\tplotms::::+\t        avgtime=\"\",avgscan=False,avgfield=False,avgbaseline=False,avgantenna=False,\n",
       "<br>2019-06-19 10:53:58\tINFO\tplotms::::+\t        avgspw=False,scalar=False,transform=True,freqframe=\"\",restfreq=\"\",\n",
       "<br>2019-06-19 10:53:58\tINFO\tplotms::::+\t        veldef=\"RADIO\",shift=[0.0, 0.0],extendflag=False,extcorr=False,extchannel=False,\n",
       "<br>2019-06-19 10:53:58\tINFO\tplotms::::+\t        iteraxis=\"\",xselfscale=False,yselfscale=False,xsharedaxis=False,ysharedaxis=False,\n",
       "<br>2019-06-19 10:53:58\tINFO\tplotms::::+\t        customsymbol=False,symbolshape=\"autoscaling\",symbolsize=2,symbolcolor=\"0000ff\",symbolfill=\"fill\",\n",
       "<br>2019-06-19 10:53:58\tINFO\tplotms::::+\t        symboloutline=False,coloraxis=\"baseline\",customflaggedsymbol=False,flaggedsymbolshape=\"circle\",flaggedsymbolsize=2,\n",
       "<br>2019-06-19 10:53:58\tINFO\tplotms::::+\t        flaggedsymbolcolor=\"ff0000\",flaggedsymbolfill=\"fill\",flaggedsymboloutline=False,xconnector=\"\",timeconnector=False,\n",
       "<br>2019-06-19 10:53:58\tINFO\tplotms::::+\t        plotrange=[],title=\"\",titlefont=0,xlabel=\"\",xaxisfont=0,\n",
       "<br>2019-06-19 10:53:58\tINFO\tplotms::::+\t        ylabel=\"\",yaxisfont=0,showmajorgrid=False,majorwidth=1,majorstyle=\"\",\n",
       "<br>2019-06-19 10:53:58\tINFO\tplotms::::+\t        majorcolor=\"B0B0B0\",showminorgrid=False,minorwidth=1,minorstyle=\"\",minorcolor=\"D0D0D0\",\n",
       "<br>2019-06-19 10:53:58\tINFO\tplotms::::+\t        showlegend=False,legendposition=\"\",plotfile=\"plotms_temp.png\",expformat=\"\",verbose=True,\n",
       "<br>2019-06-19 10:53:58\tINFO\tplotms::::+\t        exprange=\"\",highres=False,dpi=-1,width=-1,height=-1,\n",
       "<br>2019-06-19 10:53:58\tINFO\tplotms::::+\t        overwrite=True,showgui=False,clearplots=True,callib=[''],headeritems=\"\",\n",
       "<br>2019-06-19 10:53:58\tINFO\tplotms::::+\t        showatm=False,showtsky=False)\n",
       "<br>2019-06-19 10:53:58\tINFO\tPlotMS::params_changed\tUpdating: REDRAW, MSDATA, CACHE, AXES, CANVAS, DISPLAY, PAGEHEADER, ITERATION, LOG, PLOTMS_OPTIONS.\n",
       "<br>2019-06-19 10:53:58\tINFO\tPlotMS::load_cache\tClearing the existing plotms cache.\n",
       "<br>2019-06-19 10:53:58\tINFO\tPlotMS::load_cache\tSTART     Current memory usage: 7977.41 kilobytes.\n",
       "<br>2019-06-19 10:53:58\tINFO\tPlotMS::load_cache\tPlot Data Transformations:\n",
       "<br>2019-06-19 10:53:58\tINFO\tPlotMS::load_cache+\t Frame      = \n",
       "<br>2019-06-19 10:53:58\tINFO\tPlotMS::load_cache+\t VelDef     = RADIO\n",
       "<br>2019-06-19 10:53:58\tINFO\tPlotMS::load_cache+\t RestFreq   = 0 MHz\n",
       "<br>2019-06-19 10:53:58\tINFO\tPlotMS::load_cache+\t dX         = 0 arcsec\n",
       "<br>2019-06-19 10:53:58\tINFO\tPlotMS::load_cache+\t dY         = 0 arcsec\n",
       "<br>2019-06-19 10:53:58\tINFO\tPlotMS::load_cache+\t formStokes = false\n",
       "<br>2019-06-19 10:53:58\tINFO\tPlotMS::load_cache\tData Averaging: None.\n",
       "<br>2019-06-19 10:53:58\tINFO\tPlotMS::load_cache\tPlot Data Calibration:\n",
       "<br>2019-06-19 10:53:58\tINFO\tPlotMS::load_cache+\t Use Calibration    = 0\n",
       "<br>2019-06-19 10:53:58\tINFO\tPlotMS::load_cache+\t Calibration Library   = \n",
       "<br>2019-06-19 10:53:58\tINFO\tPlotMS::load_cache\tCaching for the new plot: Amp(17):data vs. Time(2)...\n",
       "<br>2019-06-19 10:53:58\tINFO\tPlotMS::load_cache\tLoading page header cache\n",
       "<br>2019-06-19 10:53:59\tINFO\tPlotMS::load_cache\tData selection will yield a total of 589824 plottable points (flagged and unflagged).\n",
       "<br>2019-06-19 10:53:59\tINFO\tPlotMS::load_cache+\tThe plotms cache will require an estimated 0.00472032 GB of memory (8.00293 bytes/point).\n",
       "<br>2019-06-19 10:53:59\tINFO\tPlotMS::load_cache+\tThis is 0.0289354% of the memory avail. to CASA (16.3133 GB).\n",
       "<br>2019-06-19 10:53:59\tINFO\tPlotMS::load_cache\tLoading chunks......\n",
       "<br>2019-06-19 10:53:59\tINFO\tPlotMS::load_cache\tGenerating the plot mask.\n",
       "<br>2019-06-19 10:53:59\tINFO\tPlotMS::load_cache\trefTime = 2019/01/25/00:00:00.0\n",
       "<br>2019-06-19 10:53:59\tINFO\tPlotMS::load_cache\tFinished loading.\n",
       "<br>2019-06-19 10:53:59\tINFO\tPlotMS::load_cache\tSetting up iteration indexing (if necessary), and calculating plot ranges.\n",
       "<br>2019-06-19 10:53:59\tINFO\tPlotMS::load_cache\tAxes ranges:\n",
       "<br>2019-06-19 10:53:59\tINFO\tPlotMS::load_cache+\tTime: 5.05513e+09 to 5.05513e+09 (unflagged); ; 5.05513e+09 to 5.05513e+09 (flagged).\n",
       "<br>2019-06-19 10:53:59\tINFO\tPlotMS::load_cache+\tAmp:data: 0 to 0 (unflagged); 0 to 0(flagged).\n",
       "<br>2019-06-19 10:53:59\tINFO\tPlotMS::load_cache\tFinished indexing.\n",
       "<br>2019-06-19 10:53:58\tINFO\tPlotMS::load_cache\tEND       Time: +0 seconds.  Memory: +4750.45 kilobytes.\n",
       "<br>2019-06-19 10:53:59\tINFO\tPlotMS::plot\tPlotting 404496 unflagged points.\n",
       "<br>2019-06-19 10:53:59\tINFO\tplotms::::\tPlot file /home/jupyter/MeerKAT-Cookbook/casa/plotms_temp.png\n",
       "<br>2019-06-19 10:54:00\tINFO\tplotms::::\tExporting the plot.\n",
       "<br>2019-06-19 10:54:00\tINFO\tQPExporter::export\tSTART     Current memory usage: 12868.5 kilobytes.\n",
       "<br>2019-06-19 10:54:00\tINFO\tQPExporter::export\tEND       Time: +2 seconds.  Memory: +1.90625 kilobytes.\n",
       "<br>2019-06-19 10:54:01\tINFO\tPlotMS::plot\tExported /home/jupyter/MeerKAT-Cookbook/casa/plotms_temp.png\n",
       "<br>2019-06-19 10:54:01\tINFO\tplotms::::\t##### End Task: plotms               #####\n",
       "<br>2019-06-19 10:54:01\tINFO\tplotms::::+\t##########################################\n",
       "</div>"
      ]
     },
     "metadata": {},
     "output_type": "display_data"
    }
   ],
   "source": [
    "plotms(vis=msfile, xaxis='time', yaxis='amp', field='PKS1934-63', coloraxis='baseline', antenna='m054')"
   ]
  },
  {
   "cell_type": "code",
   "execution_count": null,
   "metadata": {},
   "outputs": [],
   "source": [
    "plotms(vis=msfile, xaxis='time', yaxis='phase', field='PKS1934-63', coloraxis='baseline', avgchannel='3072', plotrange=[0,0,-180,180])"
   ]
  },
  {
   "cell_type": "code",
   "execution_count": null,
   "metadata": {},
   "outputs": [],
   "source": [
    "#plotms(vis=msfile, xaxis='freq', yaxis='amp', field='PKS1934-63', coloraxis='baseline')\n",
    "plotms(vis=msfile, xaxis='freq', yaxis='phase', field='PKS1934-63', coloraxis='baseline')"
   ]
  },
  {
   "cell_type": "code",
   "execution_count": null,
   "metadata": {},
   "outputs": [],
   "source": [
    "ref_ant = 'm043'"
   ]
  },
  {
   "cell_type": "markdown",
   "metadata": {},
   "source": [
    "### Inspecting the Data"
   ]
  },
  {
   "cell_type": "code",
   "execution_count": null,
   "metadata": {},
   "outputs": [],
   "source": [
    "# looking at amplitude (amp) to identify outliers\n",
    "#plotms(vis=msfile, xaxis='channel', yaxis='amp', field='PKS1934-63', plotfile='foo.png', coloraxis='baseline')\n",
    "plotms(vis=msfile, xaxis='channel', yaxis='amp', field='PKS1934-63', coloraxis='baseline')"
   ]
  },
  {
   "cell_type": "markdown",
   "metadata": {},
   "source": [
    "Viewing amplitude vs channel will show the passband for each target very clearly."
   ]
  },
  {
   "cell_type": "code",
   "execution_count": null,
   "metadata": {},
   "outputs": [],
   "source": [
    "plotms(vis=msfile, xaxis='freq', yaxis='amp', spw='0', field='PKS1934-63', coloraxis='baseline')"
   ]
  },
  {
   "cell_type": "markdown",
   "metadata": {},
   "source": [
    "For calibrator sources we expect values that are consistent across baselines and vary only slightly across channels. Thus plot amplitude for all baseline together.   \n",
    "Bandpass calibrator must have fairly stable amplitude over time."
   ]
  },
  {
   "cell_type": "markdown",
   "metadata": {},
   "source": [
    "`avgchannel`: Number of channels to average over, by choosing a value $\\geq$ number of channels, data will be averaged over all channels"
   ]
  },
  {
   "cell_type": "code",
   "execution_count": null,
   "metadata": {},
   "outputs": [],
   "source": [
    "plotms(vis=msfile, xaxis='time', yaxis='amp', field='PKS1934-63', coloraxis='baseline', avgchannel='3072')"
   ]
  },
  {
   "cell_type": "code",
   "execution_count": null,
   "metadata": {},
   "outputs": [],
   "source": [
    "plotms(vis=msfile, xaxis='time', yaxis='amp', correlation='XY', field='PKS1934-63', avgchannel='128')"
   ]
  },
  {
   "cell_type": "code",
   "execution_count": null,
   "metadata": {},
   "outputs": [],
   "source": [
    "plotms(vis=msfile, xaxis='time', yaxis='amp', correlation='YX', field='PKS1934-63', avgchannel='1536')"
   ]
  },
  {
   "cell_type": "code",
   "execution_count": null,
   "metadata": {},
   "outputs": [],
   "source": [
    "plotms(vis=msfile,xaxis='u', yaxis='v', coloraxis='field')"
   ]
  },
  {
   "cell_type": "markdown",
   "metadata": {},
   "source": [
    "If possible flag either all visibilities for some time interval, or all by antenna, rather than flagging individual baselines!    \n",
    "RFI are channel specific and may not appear in all data sets, these channels has to be flagged on a per baseline basis."
   ]
  },
  {
   "cell_type": "code",
   "execution_count": null,
   "metadata": {},
   "outputs": [],
   "source": []
  }
 ],
 "metadata": {
  "kernelspec": {
   "display_name": "Casa",
   "language": "casa",
   "name": "casapy"
  },
  "language_info": {
   "mimetype": "text/plain",
   "name": "Casa"
  }
 },
 "nbformat": 4,
 "nbformat_minor": 2
}
