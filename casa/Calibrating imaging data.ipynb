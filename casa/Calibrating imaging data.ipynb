{
 "cells": [
  {
   "cell_type": "markdown",
   "metadata": {},
   "source": [
    "### Calibration\n",
    "\n",
    "After initial flagging bad data affecting the calibrator sources. Proceed to actual calibration.\n",
    "\n",
    "The first stage of data processing in aperture synthesis is to determine the amplitude gain and the phase shift due to each individual antenna (and the atmosphere above it), which together form the complex gain of the antenna.\n",
    "\n",
    "Various gain calibrator solutions exists\n",
    "* flux calibration (strong calibrator with known flux): in order to set the flux density scale correctly, use observations of at least one flux density calibrator (can be used for bandpass calibration as well) whose flux density is known -- use one of a few scans and done only once.\n",
    "* bandpass calibration (strong calibrator source of known spectrum): the bandpass response of the instrument varies across the frequency band, but is fairly stable in time, thus it needs to be solved for only once in an observing run.\n",
    "* gain/phase calibration (point-like source): the variation in amplitude and phase response as a function of time for calibrators which as known to be point-like sources.\n",
    "\n",
    "Note: If any of the plotcal graphs shows solutions with highly varying (outlier) data points that require more flagging of data: Return to the flagging stage and remove the bad data. Then restart calibration form the clearcal step."
   ]
  },
  {
   "cell_type": "code",
   "execution_count": 17,
   "metadata": {},
   "outputs": [],
   "source": [
    "msfile='exms_cleanband.ms'\n",
    "prefix='exms_cleanband'\n",
    "target = 'PKS1934-63'\n",
    "ref_ant = 'm043'\n",
    "ref_chans = ''"
   ]
  },
  {
   "cell_type": "markdown",
   "metadata": {},
   "source": [
    "When specifying a reference antenna to use in calibration, verify that the antenna has data over most of the time series, or select an antenna that is present during the entire run using plotms.\n",
    "```\n",
    "plotms(vis=msfile,xaxis='time',yaxis='amp', iteraxis='antenna')\n",
    "```"
   ]
  },
  {
   "cell_type": "code",
   "execution_count": 18,
   "metadata": {},
   "outputs": [],
   "source": [
    "# Bandpass, gain and flux calibration\n",
    "f_cal='PKS1934-63'\n",
    "b_cal='PKS1934-63'\n",
    "g_cal='PKS1934-63'"
   ]
  },
  {
   "cell_type": "code",
   "execution_count": 19,
   "metadata": {},
   "outputs": [
    {
     "data": {
      "image/png": "[encoded data removed]",
      "text/plain": [
       "<IPython.core.display.Image object>"
      ]
     },
     "metadata": {},
     "output_type": "display_data"
    },
    {
     "data": {
      "text/plain": [
       "True"
      ]
     },
     "execution_count": 19,
     "metadata": {},
     "output_type": "execute_result"
    },
    {
     "data": {
      "text/html": [
       "<button type=\"button\" class=\"btn btn-info\" data-toggle=\"collapse\" id=\"1561092714_79\" data-target=\"#log1561092714_79\" onclick=\"if ($('#'+this.id).html()=='Show log') {$('#'+this.id).html('Hide log')} else {$('#'+this.id).html('Show log')}; return false\">Show log</button> <div class=\"collapse\" id=\"log1561092714_79\">2019-06-21 04:51:52\tINFO\tplotms::::\t\n",
       "<br>2019-06-21 04:51:52\tINFO\tplotms::::+\t##########################################\n",
       "<br>2019-06-21 04:51:52\tINFO\tplotms::::+\t##### Begin Task: plotms             #####\n",
       "<br>2019-06-21 04:51:52\tINFO\tplotms::::\tplotms(vis=\"exms_cleanband.ms\",gridrows=1,gridcols=1,rowindex=0,colindex=0,\n",
       "<br>2019-06-21 04:51:52\tINFO\tplotms::::+\t        plotindex=0,xaxis=\"time\",xdatacolumn=\"\",xframe=\"\",xinterp=\"\",\n",
       "<br>2019-06-21 04:51:52\tINFO\tplotms::::+\t        yaxis=\"amp\",ydatacolumn=\"\",yframe=\"\",yinterp=\"\",yaxislocation=\"\",\n",
       "<br>2019-06-21 04:51:52\tINFO\tplotms::::+\t        selectdata=True,field=\"PKS1934-63,PKS1934-63,PKS1934-63\",spw=\"\",timerange=\"\",uvrange=\"\",\n",
       "<br>2019-06-21 04:51:52\tINFO\tplotms::::+\t        antenna=\"\",scan=\"\",correlation=\"\",array=\"\",observation=\"\",\n",
       "<br>2019-06-21 04:51:52\tINFO\tplotms::::+\t        intent=\"\",feed=\"\",msselect=\"\",averagedata=True,avgchannel=\"\",\n",
       "<br>2019-06-21 04:51:52\tINFO\tplotms::::+\t        avgtime=\"\",avgscan=False,avgfield=False,avgbaseline=False,avgantenna=False,\n",
       "<br>2019-06-21 04:51:52\tINFO\tplotms::::+\t        avgspw=False,scalar=False,transform=True,freqframe=\"\",restfreq=\"\",\n",
       "<br>2019-06-21 04:51:52\tINFO\tplotms::::+\t        veldef=\"RADIO\",shift=[0.0, 0.0],extendflag=False,extcorr=False,extchannel=False,\n",
       "<br>2019-06-21 04:51:52\tINFO\tplotms::::+\t        iteraxis=\"\",xselfscale=False,yselfscale=False,xsharedaxis=False,ysharedaxis=False,\n",
       "<br>2019-06-21 04:51:52\tINFO\tplotms::::+\t        customsymbol=False,symbolshape=\"autoscaling\",symbolsize=2,symbolcolor=\"0000ff\",symbolfill=\"fill\",\n",
       "<br>2019-06-21 04:51:52\tINFO\tplotms::::+\t        symboloutline=False,coloraxis=\"corr\",customflaggedsymbol=False,flaggedsymbolshape=\"circle\",flaggedsymbolsize=2,\n",
       "<br>2019-06-21 04:51:52\tINFO\tplotms::::+\t        flaggedsymbolcolor=\"ff0000\",flaggedsymbolfill=\"fill\",flaggedsymboloutline=False,xconnector=\"\",timeconnector=False,\n",
       "<br>2019-06-21 04:51:52\tINFO\tplotms::::+\t        plotrange=[],title=\"\",titlefont=0,xlabel=\"\",xaxisfont=0,\n",
       "<br>2019-06-21 04:51:52\tINFO\tplotms::::+\t        ylabel=\"\",yaxisfont=0,showmajorgrid=False,majorwidth=1,majorstyle=\"\",\n",
       "<br>2019-06-21 04:51:52\tINFO\tplotms::::+\t        majorcolor=\"B0B0B0\",showminorgrid=False,minorwidth=1,minorstyle=\"\",minorcolor=\"D0D0D0\",\n",
       "<br>2019-06-21 04:51:52\tINFO\tplotms::::+\t        showlegend=False,legendposition=\"\",plotfile=\"plotms_temp.png\",expformat=\"\",verbose=True,\n",
       "<br>2019-06-21 04:51:52\tINFO\tplotms::::+\t        exprange=\"\",highres=False,dpi=-1,width=-1,height=-1,\n",
       "<br>2019-06-21 04:51:52\tINFO\tplotms::::+\t        overwrite=True,showgui=False,clearplots=True,callib=[''],headeritems=\"\",\n",
       "<br>2019-06-21 04:51:52\tINFO\tplotms::::+\t        showatm=False,showtsky=False)\n",
       "<br>2019-06-21 04:51:52\tINFO\tPlotMS::params_changed\tUpdating: REDRAW, MSDATA, CACHE, AXES, CANVAS, DISPLAY, PAGEHEADER, ITERATION, LOG, PLOTMS_OPTIONS.\n",
       "<br>2019-06-21 04:51:52\tINFO\tPlotMS::load_cache\tClearing the existing plotms cache.\n",
       "<br>2019-06-21 04:51:52\tINFO\tPlotMS::load_cache\tSTART     Current memory usage: 5537.86 kilobytes.\n",
       "<br>2019-06-21 04:51:52\tINFO\tPlotMS::load_cache\tPlot Data Transformations:\n",
       "<br>2019-06-21 04:51:52\tINFO\tPlotMS::load_cache+\t Frame      = \n",
       "<br>2019-06-21 04:51:52\tINFO\tPlotMS::load_cache+\t VelDef     = RADIO\n",
       "<br>2019-06-21 04:51:52\tINFO\tPlotMS::load_cache+\t RestFreq   = 0 MHz\n",
       "<br>2019-06-21 04:51:52\tINFO\tPlotMS::load_cache+\t dX         = 0 arcsec\n",
       "<br>2019-06-21 04:51:52\tINFO\tPlotMS::load_cache+\t dY         = 0 arcsec\n",
       "<br>2019-06-21 04:51:52\tINFO\tPlotMS::load_cache+\t formStokes = false\n",
       "<br>2019-06-21 04:51:52\tINFO\tPlotMS::load_cache\tData Averaging: None.\n",
       "<br>2019-06-21 04:51:52\tINFO\tPlotMS::load_cache\tPlot Data Calibration:\n",
       "<br>2019-06-21 04:51:52\tINFO\tPlotMS::load_cache+\t Use Calibration    = 0\n",
       "<br>2019-06-21 04:51:52\tINFO\tPlotMS::load_cache+\t Calibration Library   = \n",
       "<br>2019-06-21 04:51:52\tINFO\tPlotMS::load_cache\tCaching for the new plot: Amp(17):data vs. Time(2)...\n",
       "<br>2019-06-21 04:51:52\tINFO\tPlotMS::load_cache\tLoading page header cache\n",
       "<br>2019-06-21 04:51:53\tINFO\tPlotMS::load_cache\tData selection will yield a total of 600600 plottable points (flagged and unflagged).\n",
       "<br>2019-06-21 04:51:53\tINFO\tPlotMS::load_cache+\tThe plotms cache will require an estimated 0.0039068 GB of memory (6.50483 bytes/point).\n",
       "<br>2019-06-21 04:51:53\tINFO\tPlotMS::load_cache+\tThis is 0.0239486% of the memory avail. to CASA (16.3133 GB).\n",
       "<br>2019-06-21 04:51:53\tINFO\tPlotMS::load_cache\tLoading chunks......\n",
       "<br>2019-06-21 04:51:53\tINFO\tPlotMS::load_cache\tGenerating the plot mask.\n",
       "<br>2019-06-21 04:51:53\tINFO\tPlotMS::load_cache\trefTime = 2019/01/25/00:00:00.0\n",
       "<br>2019-06-21 04:51:53\tINFO\tPlotMS::load_cache\tFinished loading.\n",
       "<br>2019-06-21 04:51:53\tINFO\tPlotMS::load_cache\tSetting up iteration indexing (if necessary), and calculating plot ranges.\n",
       "<br>2019-06-21 04:51:53\tINFO\tPlotMS::load_cache\tAxes ranges:\n",
       "<br>2019-06-21 04:51:53\tINFO\tPlotMS::load_cache+\tTime: 5.05513e+09 to 5.05513e+09 (unflagged); ; 5.05513e+09 to 5.05513e+09 (flagged).\n",
       "<br>2019-06-21 04:51:53\tINFO\tPlotMS::load_cache+\tAmp:data: 0.000540453 to 8.53459 (unflagged); 0 to 0(flagged).\n",
       "<br>2019-06-21 04:51:53\tINFO\tPlotMS::load_cache\tFinished indexing.\n",
       "<br>2019-06-21 04:51:52\tINFO\tPlotMS::load_cache\tEND       Time: +0 seconds.  Memory: +3958.06 kilobytes.\n",
       "<br>2019-06-21 04:51:53\tINFO\tPlotMS::plot\tPlotting 300300 unflagged points.\n",
       "<br>2019-06-21 04:51:53\tINFO\tplotms::::\tPlot file /home/jupyter/MeerKAT-Cookbook/casa/plotms_temp.png\n",
       "<br>2019-06-21 04:51:54\tINFO\tplotms::::\tExporting the plot.\n",
       "<br>2019-06-21 04:51:54\tINFO\tQPExporter::export\tSTART     Current memory usage: 9633.94 kilobytes.\n",
       "<br>2019-06-21 04:51:54\tINFO\tQPExporter::export\tEND       Time: +1 seconds.  Memory: +2.03125 kilobytes.\n",
       "<br>2019-06-21 04:51:55\tINFO\tPlotMS::plot\tExported /home/jupyter/MeerKAT-Cookbook/casa/plotms_temp.png\n",
       "<br>2019-06-21 04:51:55\tINFO\tplotms::::\t##### End Task: plotms               #####\n",
       "<br>2019-06-21 04:51:55\tINFO\tplotms::::+\t##########################################\n",
       "</div>"
      ]
     },
     "metadata": {},
     "output_type": "display_data"
    }
   ],
   "source": [
    "plotms(vis=msfile, xaxis='time', yaxis='amp', field=','.join((f_cal,b_cal,g_cal)), coloraxis='corr')"
   ]
  },
  {
   "cell_type": "code",
   "execution_count": 20,
   "metadata": {},
   "outputs": [
    {
     "data": {
      "image/png": "[encoded data removed]",
      "text/plain": [
       "<IPython.core.display.Image object>"
      ]
     },
     "metadata": {},
     "output_type": "display_data"
    },
    {
     "data": {
      "text/plain": [
       "True"
      ]
     },
     "execution_count": 20,
     "metadata": {},
     "output_type": "execute_result"
    },
    {
     "data": {
      "text/html": [
       "<button type=\"button\" class=\"btn btn-info\" data-toggle=\"collapse\" id=\"1561092718_39\" data-target=\"#log1561092718_39\" onclick=\"if ($('#'+this.id).html()=='Show log') {$('#'+this.id).html('Hide log')} else {$('#'+this.id).html('Show log')}; return false\">Show log</button> <div class=\"collapse\" id=\"log1561092718_39\">2019-06-21 04:51:55\tINFO\tplotms::::\t\n",
       "<br>2019-06-21 04:51:55\tINFO\tplotms::::+\t##########################################\n",
       "<br>2019-06-21 04:51:55\tINFO\tplotms::::+\t##### Begin Task: plotms             #####\n",
       "<br>2019-06-21 04:51:55\tINFO\tplotms::::\tplotms(vis=\"exms_cleanband.ms\",gridrows=1,gridcols=1,rowindex=0,colindex=0,\n",
       "<br>2019-06-21 04:51:55\tINFO\tplotms::::+\t        plotindex=0,xaxis=\"uvdist\",xdatacolumn=\"\",xframe=\"\",xinterp=\"\",\n",
       "<br>2019-06-21 04:51:55\tINFO\tplotms::::+\t        yaxis=\"amp\",ydatacolumn=\"\",yframe=\"\",yinterp=\"\",yaxislocation=\"\",\n",
       "<br>2019-06-21 04:51:55\tINFO\tplotms::::+\t        selectdata=True,field=\"PKS1934-63,PKS1934-63,PKS1934-63\",spw=\"0\",timerange=\"\",uvrange=\"\",\n",
       "<br>2019-06-21 04:51:55\tINFO\tplotms::::+\t        antenna=\"\",scan=\"\",correlation=\"\",array=\"\",observation=\"\",\n",
       "<br>2019-06-21 04:51:55\tINFO\tplotms::::+\t        intent=\"\",feed=\"\",msselect=\"\",averagedata=True,avgchannel=\"\",\n",
       "<br>2019-06-21 04:51:55\tINFO\tplotms::::+\t        avgtime=\"\",avgscan=False,avgfield=False,avgbaseline=False,avgantenna=False,\n",
       "<br>2019-06-21 04:51:55\tINFO\tplotms::::+\t        avgspw=False,scalar=False,transform=True,freqframe=\"\",restfreq=\"\",\n",
       "<br>2019-06-21 04:51:55\tINFO\tplotms::::+\t        veldef=\"RADIO\",shift=[0.0, 0.0],extendflag=False,extcorr=False,extchannel=False,\n",
       "<br>2019-06-21 04:51:55\tINFO\tplotms::::+\t        iteraxis=\"\",xselfscale=False,yselfscale=False,xsharedaxis=False,ysharedaxis=False,\n",
       "<br>2019-06-21 04:51:55\tINFO\tplotms::::+\t        customsymbol=False,symbolshape=\"autoscaling\",symbolsize=2,symbolcolor=\"0000ff\",symbolfill=\"fill\",\n",
       "<br>2019-06-21 04:51:55\tINFO\tplotms::::+\t        symboloutline=False,coloraxis=\"corr\",customflaggedsymbol=False,flaggedsymbolshape=\"circle\",flaggedsymbolsize=2,\n",
       "<br>2019-06-21 04:51:55\tINFO\tplotms::::+\t        flaggedsymbolcolor=\"ff0000\",flaggedsymbolfill=\"fill\",flaggedsymboloutline=False,xconnector=\"\",timeconnector=False,\n",
       "<br>2019-06-21 04:51:55\tINFO\tplotms::::+\t        plotrange=[],title=\"\",titlefont=0,xlabel=\"\",xaxisfont=0,\n",
       "<br>2019-06-21 04:51:55\tINFO\tplotms::::+\t        ylabel=\"\",yaxisfont=0,showmajorgrid=False,majorwidth=1,majorstyle=\"\",\n",
       "<br>2019-06-21 04:51:55\tINFO\tplotms::::+\t        majorcolor=\"B0B0B0\",showminorgrid=False,minorwidth=1,minorstyle=\"\",minorcolor=\"D0D0D0\",\n",
       "<br>2019-06-21 04:51:55\tINFO\tplotms::::+\t        showlegend=False,legendposition=\"\",plotfile=\"plotms_temp.png\",expformat=\"\",verbose=True,\n",
       "<br>2019-06-21 04:51:55\tINFO\tplotms::::+\t        exprange=\"\",highres=False,dpi=-1,width=-1,height=-1,\n",
       "<br>2019-06-21 04:51:55\tINFO\tplotms::::+\t        overwrite=True,showgui=False,clearplots=True,callib=[''],headeritems=\"\",\n",
       "<br>2019-06-21 04:51:55\tINFO\tplotms::::+\t        showatm=False,showtsky=False)\n",
       "<br>2019-06-21 04:51:56\tINFO\tPlotMS::params_changed\tUpdating: REDRAW, MSDATA, CACHE, AXES, CANVAS, DISPLAY, PAGEHEADER, ITERATION, LOG, PLOTMS_OPTIONS.\n",
       "<br>2019-06-21 04:51:56\tINFO\tPlotMS::load_cache\tClearing the existing plotms cache.\n",
       "<br>2019-06-21 04:51:56\tINFO\tPlotMS::load_cache\tSTART     Current memory usage: 5548.09 kilobytes.\n",
       "<br>2019-06-21 04:51:56\tINFO\tPlotMS::load_cache\tPlot Data Transformations:\n",
       "<br>2019-06-21 04:51:56\tINFO\tPlotMS::load_cache+\t Frame      = \n",
       "<br>2019-06-21 04:51:56\tINFO\tPlotMS::load_cache+\t VelDef     = RADIO\n",
       "<br>2019-06-21 04:51:56\tINFO\tPlotMS::load_cache+\t RestFreq   = 0 MHz\n",
       "<br>2019-06-21 04:51:56\tINFO\tPlotMS::load_cache+\t dX         = 0 arcsec\n",
       "<br>2019-06-21 04:51:56\tINFO\tPlotMS::load_cache+\t dY         = 0 arcsec\n",
       "<br>2019-06-21 04:51:56\tINFO\tPlotMS::load_cache+\t formStokes = false\n",
       "<br>2019-06-21 04:51:56\tINFO\tPlotMS::load_cache\tData Averaging: None.\n",
       "<br>2019-06-21 04:51:56\tINFO\tPlotMS::load_cache\tPlot Data Calibration:\n",
       "<br>2019-06-21 04:51:56\tINFO\tPlotMS::load_cache+\t Use Calibration    = 0\n",
       "<br>2019-06-21 04:51:56\tINFO\tPlotMS::load_cache+\t Calibration Library   = \n",
       "<br>2019-06-21 04:51:56\tINFO\tPlotMS::load_cache\tCaching for the new plot: Amp(17):data vs. UVdist(28)...\n",
       "<br>2019-06-21 04:51:56\tINFO\tPlotMS::load_cache\tLoading page header cache\n",
       "<br>2019-06-21 04:51:56\tINFO\tPlotMS::load_cache\tData selection will yield a total of 600600 plottable points (flagged and unflagged).\n",
       "<br>2019-06-21 04:51:56\tINFO\tPlotMS::load_cache+\tThe plotms cache will require an estimated 0.003908 GB of memory (6.50683 bytes/point).\n",
       "<br>2019-06-21 04:51:56\tINFO\tPlotMS::load_cache+\tThis is 0.0239559% of the memory avail. to CASA (16.3133 GB).\n",
       "<br>2019-06-21 04:51:56\tINFO\tPlotMS::load_cache\tLoading chunks......\n",
       "<br>2019-06-21 04:51:56\tINFO\tPlotMS::load_cache\tGenerating the plot mask.\n",
       "<br>2019-06-21 04:51:56\tINFO\tPlotMS::load_cache\trefTime = 2019/01/25/00:00:00.0\n",
       "<br>2019-06-21 04:51:56\tINFO\tPlotMS::load_cache\tFinished loading.\n",
       "<br>2019-06-21 04:51:56\tINFO\tPlotMS::load_cache\tSetting up iteration indexing (if necessary), and calculating plot ranges.\n",
       "<br>2019-06-21 04:51:56\tINFO\tPlotMS::load_cache\tAxes ranges:\n",
       "<br>2019-06-21 04:51:56\tINFO\tPlotMS::load_cache+\tUVdist: 634.411 to 1226.49 (unflagged); ; 759.75 to 1541.53 (flagged).\n",
       "<br>2019-06-21 04:51:56\tINFO\tPlotMS::load_cache+\tAmp:data: 0.000540453 to 8.53459 (unflagged); 0 to 0(flagged).\n",
       "<br>2019-06-21 04:51:56\tINFO\tPlotMS::load_cache\tFinished indexing.\n",
       "<br>2019-06-21 04:51:56\tINFO\tPlotMS::load_cache\tEND       Time: +1 seconds.  Memory: +3969.92 kilobytes.\n",
       "<br>2019-06-21 04:51:56\tINFO\tPlotMS::plot\tPlotting 300300 unflagged points.\n",
       "<br>2019-06-21 04:51:56\tINFO\tplotms::::\tPlot file /home/jupyter/MeerKAT-Cookbook/casa/plotms_temp.png\n",
       "<br>2019-06-21 04:51:57\tINFO\tplotms::::\tExporting the plot.\n",
       "<br>2019-06-21 04:51:57\tINFO\tQPExporter::export\tSTART     Current memory usage: 9655.12 kilobytes.\n",
       "<br>2019-06-21 04:51:57\tINFO\tQPExporter::export\tEND       Time: +1 seconds.  Memory: +1.59375 kilobytes.\n",
       "<br>2019-06-21 04:51:58\tINFO\tPlotMS::plot\tExported /home/jupyter/MeerKAT-Cookbook/casa/plotms_temp.png\n",
       "<br>2019-06-21 04:51:58\tINFO\tplotms::::\t##### End Task: plotms               #####\n",
       "<br>2019-06-21 04:51:58\tINFO\tplotms::::+\t##########################################\n",
       "</div>"
      ]
     },
     "metadata": {},
     "output_type": "display_data"
    }
   ],
   "source": [
    "plotms(vis=msfile, xaxis='uvdist', yaxis='amp', field=','.join((f_cal,b_cal,g_cal)), spw='0', coloraxis='corr')"
   ]
  },
  {
   "cell_type": "code",
   "execution_count": 40,
   "metadata": {},
   "outputs": [],
   "source": [
    "# define variables that hold the various tables that will be used during the reduction.\n",
    "ktable = prefix + '.K'\n",
    "btable = prefix + '.B'\n",
    "gtable = prefix + '.G'\n",
    "ftable = prefix + '.fluxscale'\n",
    "#btable0 = prefix + '.B0'\n",
    "#gtable0 = prefix + '.G0'\n",
    "#gtable1 = prefix + '.G1'\n",
    "#ktable0 = prefix + '.K0'\n",
    "#ftable1 = prefix + '.fluxscale1'"
   ]
  },
  {
   "cell_type": "markdown",
   "metadata": {},
   "source": [
    "Start by re-initializes calibrated visibility data in a given MS and create all the columns and tables for the measurement set\n",
    "\n",
    "Setup parameters and remove previous calibration solutions\n",
    "clearcal(msfile)"
   ]
  },
  {
   "cell_type": "code",
   "execution_count": 22,
   "metadata": {},
   "outputs": [
    {
     "name": "stdout",
     "output_type": "stream",
     "text": [
      "\n"
     ]
    },
    {
     "data": {
      "text/html": [
       "<button type=\"button\" class=\"btn btn-info\" data-toggle=\"collapse\" id=\"1561092722_96\" data-target=\"#log1561092722_96\" onclick=\"if ($('#'+this.id).html()=='Show log') {$('#'+this.id).html('Hide log')} else {$('#'+this.id).html('Show log')}; return false\">Show log</button> <div class=\"collapse\" id=\"log1561092722_96\">2019-06-21 04:52:03\tINFO\tclearstat::::\t\n",
       "<br>2019-06-21 04:52:03\tINFO\tclearstat::::+\t##########################################\n",
       "<br>2019-06-21 04:52:03\tINFO\tclearstat::::+\t##### Begin Task: clearstat          #####\n",
       "<br>2019-06-21 04:52:03\tINFO\tclearstat::::\t\n",
       "<br>2019-06-21 04:52:03\tINFO\tclearstat::::\t##### End Task: clearstat            #####\n",
       "<br>2019-06-21 04:52:03\tINFO\tclearstat::::+\t##########################################\n",
       "<br>2019-06-21 04:52:03\tINFO\tclearcal::::\t\n",
       "<br>2019-06-21 04:52:03\tINFO\tclearcal::::+\t##########################################\n",
       "<br>2019-06-21 04:52:03\tINFO\tclearcal::::+\t##### Begin Task: clearcal           #####\n",
       "<br>2019-06-21 04:52:03\tINFO\tclearcal::::\tclearcal(vis=\"exms_cleanband.ms\",field=\"\",spw=\"\",intent=\"\",addmodel=False)\n",
       "<br>2019-06-21 04:52:03\tWARN\tclearcal::calibrater::setvi(bool,bool)\tForcing use of OLD VisibilityIterator.\n",
       "<br>2019-06-21 04:52:03\tINFO\tclearcal::calibrater::open\t****Using OLD VI-driven calibrater tool****\n",
       "<br>2019-06-21 04:52:03\tINFO\tclearcal::calibrater::open\tOpening MS: exms_cleanband.ms for calibration.\n",
       "<br>2019-06-21 04:52:03\tINFO\tclearcal::Calibrater::\tInitializing nominal selection to the whole MS.\n",
       "<br>2019-06-21 04:52:03\tINFO\tclearcal::calibrater::setdata\tBeginning selectvis--(MSSelection version)-------\n",
       "<br>2019-06-21 04:52:03\tINFO\tclearcal::calibrater::reset\tReseting solve/apply state\n",
       "<br>2019-06-21 04:52:03\tINFO\tclearcal::Calibrater::selectvis\tPerforming selection on MeasurementSet\n",
       "<br>2019-06-21 04:52:03\tINFO\tclearcal::Calibrater::selectvis\tSelection did not drop any rows\n",
       "<br>2019-06-21 04:52:03\tINFO\tclearcal::Calibrater::selectvis\tFrequency selection: Selecting all channels in all spws.\n",
       "<br>2019-06-21 04:52:03\tINFO\tclearcal::calibrater::setdata\tchanmode=none nchan=1 start=0 step=1 mStart='0km/s' mStep='0km/s' msSelect=''\n",
       "<br>2019-06-21 04:52:03\tINFO\tclearcal::::\tClearing all model records in MS header.\n",
       "<br>2019-06-21 04:52:03\tINFO\tclearcal::::\t PKS1934-63 (id = 0) deleted.\n",
       "<br>2019-06-21 04:52:03\tINFO\tclearcal::calibrater::initcalset\tBeginning initcalset------------------------\n",
       "<br>2019-06-21 04:52:03\tINFO\tclearcal::VisSet::VisSet\tInitializing CORRECTED_DATA (to DATA)\n",
       "<br>2019-06-21 04:52:03\tINFO\tclearcal::VisSet::VisSet\tInitialized 150 rows.\n",
       "<br>2019-06-21 04:52:03\tINFO\tclearcal::::\tCASA Version 5.5.0-149  \n",
       "<br>2019-06-21 04:52:03\tINFO\tclearcal::::\t\n",
       "<br>2019-06-21 04:52:03\tINFO\tclearcal::::\t##### End Task: clearcal             #####\n",
       "<br>2019-06-21 04:52:03\tINFO\tclearcal::::+\t##########################################\n",
       "</div>"
      ]
     },
     "metadata": {},
     "output_type": "display_data"
    }
   ],
   "source": [
    "clearstat()\n",
    "clearcal(msfile)"
   ]
  },
  {
   "cell_type": "markdown",
   "metadata": {},
   "source": [
    "####  Setting fluxes on flux calibrator\n",
    "Setting the flux to -1 causes `setjy` to look up the flux density.\n",
    "\n",
    "Solving for the main time variable part of each source. Amplitude calibration was done on the primary amplitude flux calibrator. Use this to solve for the complex gain solutions of the secondary gain/phase calibrator source.\n",
    "Since there is only limit primary calibrators, which may not be close to the target source, this flux density bootstrapping allows the use of much closer secondary calibrators which will provide better calibration solutions for the target source. For calibrator sources we expect values that are consistent across baselines and vary only slightly across channels."
   ]
  },
  {
   "cell_type": "code",
   "execution_count": 23,
   "metadata": {},
   "outputs": [
    {
     "data": {
      "text/plain": [
       "{'0': {'0': {'fluxd': array([ 15.06729696,   0.        ,   0.        ,   0.        ])},\n",
       "  'fieldName': 'PKS1934-63'},\n",
       " 'format': \"{field Id: {spw Id: {fluxd: [I,Q,U,V] in Jy}, 'fieldName':field name }}\"}"
      ]
     },
     "execution_count": 23,
     "metadata": {},
     "output_type": "execute_result"
    },
    {
     "data": {
      "text/html": [
       "<button type=\"button\" class=\"btn btn-info\" data-toggle=\"collapse\" id=\"1561092730_82\" data-target=\"#log1561092730_82\" onclick=\"if ($('#'+this.id).html()=='Show log') {$('#'+this.id).html('Hide log')} else {$('#'+this.id).html('Show log')}; return false\">Show log</button> <div class=\"collapse\" id=\"log1561092730_82\">2019-06-21 04:52:11\tINFO\tsetjy::::\t\n",
       "<br>2019-06-21 04:52:11\tINFO\tsetjy::::+\t##########################################\n",
       "<br>2019-06-21 04:52:11\tINFO\tsetjy::::+\t##### Begin Task: setjy              #####\n",
       "<br>2019-06-21 04:52:11\tINFO\tsetjy::::\tsetjy(vis=\"exms_cleanband.ms\",field=\"PKS1934-63\",spw=\"\",selectdata=False,timerange=\"\",\n",
       "<br>2019-06-21 04:52:11\tINFO\tsetjy::::+\t        scan=\"\",intent=\"\",observation=\"\",scalebychan=True,standard=\"Perley-Butler 2010\",\n",
       "<br>2019-06-21 04:52:11\tINFO\tsetjy::::+\t        model=\"\",modimage=\"\",listmodels=False,fluxdensity=-1,spix=0.0,\n",
       "<br>2019-06-21 04:52:11\tINFO\tsetjy::::+\t        reffreq=\"1GHz\",polindex=[],polangle=[],rotmeas=0.0,fluxdict={},\n",
       "<br>2019-06-21 04:52:11\tINFO\tsetjy::::+\t        useephemdir=False,interpolation=\"nearest\",usescratch=False,ismms=False)\n",
       "<br>2019-06-21 04:52:11\tINFO\tsetjy::::\t{'field': 'PKS1934-63'}\n",
       "<br>2019-06-21 04:52:11\tINFO\tImager::open() \tOpening MeasurementSet /home/jupyter/MeerKAT-Cookbook/casa/exms_cleanband.ms\n",
       "<br>2019-06-21 04:52:11\tINFO\tsetjy::::\tCASA Version 5.5.0-149  \n",
       "<br>2019-06-21 04:52:11\tINFO\tsetjy::::\t\n",
       "<br>2019-06-21 04:52:11\tINFO\timager::setjy()\tUsing channel dependent flux densities\n",
       "<br>2019-06-21 04:52:11\tINFO\tFluxStdSrcs::srcNameToEnum\tTrying to determine source match by position...\n",
       "<br>2019-06-21 04:52:11\tINFO\tFluxStdSrcs::srcNameToEnum\tFound 1934-638 as a match for the input field, PKS1934-63 in the cone search within radius of 4.8481367e-06rad\n",
       "<br>2019-06-21 04:52:11\tINFO\timager::setjy()\t  PKS1934-63 (fld ind 0) spw 0  [I=15.067, Q=0, U=0, V=0] Jy @ 1.3053e+09Hz, (Perley-Butler 2010)\n",
       "<br>2019-06-21 04:52:11\tINFO\timager::setjy()\tWill clear any existing model with matching field=PKS1934-63 and spw=*\n",
       "<br>2019-06-21 04:52:11\tINFO\t\tClearing model records in MS header for selected fields.\n",
       "<br>2019-06-21 04:52:11\tINFO\t\t PKS1934-63 (id = 0) not found.\n",
       "<br>2019-06-21 04:52:11\tINFO\timager::ft() \tFourier transforming: replacing visibility model header\n",
       "<br>2019-06-21 04:52:11\tINFO\timager::createSkyEquation() \tProcessing after subtracting componentlist /home/jupyter/MeerKAT-Cookbook/casa/exms_cleanband.ms_setjy_spw0_PKS1934-63_1.30532GHz58508.5d.cl\n",
       "<br>2019-06-21 04:52:11\tINFO\timager::createFTMachine() \tPerforming interferometric gridding...\n",
       "<br>2019-06-21 04:52:11\tINFO\tsetjy::::\t##### End Task: setjy                #####\n",
       "<br>2019-06-21 04:52:11\tINFO\tsetjy::::+\t##########################################\n",
       "</div>"
      ]
     },
     "metadata": {},
     "output_type": "display_data"
    }
   ],
   "source": [
    "setjy(vis=msfile,\n",
    "      field=f_cal,\n",
    "      fluxdensity=-1,\n",
    "      standard='Perley-Butler 2010')"
   ]
  },
  {
   "cell_type": "markdown",
   "metadata": {},
   "source": [
    "####  Solving for delays"
   ]
  },
  {
   "cell_type": "code",
   "execution_count": 24,
   "metadata": {},
   "outputs": [
    {
     "data": {
      "text/html": [
       "<button type=\"button\" class=\"btn btn-info\" data-toggle=\"collapse\" id=\"1561092733_12\" data-target=\"#log1561092733_12\" onclick=\"if ($('#'+this.id).html()=='Show log') {$('#'+this.id).html('Hide log')} else {$('#'+this.id).html('Show log')}; return false\">Show log</button> <div class=\"collapse\" id=\"log1561092733_12\">2019-06-21 04:52:13\tINFO\trmtables::::\t\n",
       "<br>2019-06-21 04:52:13\tINFO\trmtables::::+\t##########################################\n",
       "<br>2019-06-21 04:52:13\tINFO\trmtables::::+\t##### Begin Task: rmtables           #####\n",
       "<br>2019-06-21 04:52:13\tINFO\trmtables::::\trmtables(tablenames=\"exms_cleanband.K\")\n",
       "<br>2019-06-21 04:52:13\tINFO\trmtables::::\tRemoving exms_cleanband.K\n",
       "<br>2019-06-21 04:52:13\tINFO\trmtables::::\t##### End Task: rmtables             #####\n",
       "<br>2019-06-21 04:52:13\tINFO\trmtables::::+\t##########################################\n",
       "<br>2019-06-21 04:52:13\tINFO\tgaincal::::\t\n",
       "<br>2019-06-21 04:52:13\tINFO\tgaincal::::+\t##########################################\n",
       "<br>2019-06-21 04:52:13\tINFO\tgaincal::::+\t##### Begin Task: gaincal            #####\n",
       "<br>2019-06-21 04:52:13\tINFO\tgaincal::::\tgaincal(vis=\"exms_cleanband.ms\",caltable=\"exms_cleanband.K\",field=\"PKS1934-63\",spw=\"0\",intent=\"\",\n",
       "<br>2019-06-21 04:52:13\tINFO\tgaincal::::+\t        selectdata=True,timerange=\"\",uvrange=\"\",antenna=\"\",scan=\"\",\n",
       "<br>2019-06-21 04:52:13\tINFO\tgaincal::::+\t        observation=\"\",msselect=\"\",solint=\"inf\",combine=\"scan\",preavg=-1.0,\n",
       "<br>2019-06-21 04:52:13\tINFO\tgaincal::::+\t        refant=\"m043\",refantmode=\"flex\",minblperant=1,minsnr=5,solnorm=False,\n",
       "<br>2019-06-21 04:52:13\tINFO\tgaincal::::+\t        normtype=\"mean\",gaintype=\"K\",smodel=[],calmode=\"ap\",solmode=\"\",\n",
       "<br>2019-06-21 04:52:13\tINFO\tgaincal::::+\t        rmsthresh=[],append=False,splinetime=3600.0,npointaver=3,phasewrap=180.0,\n",
       "<br>2019-06-21 04:52:13\tINFO\tgaincal::::+\t        docallib=False,callib=\"\",gaintable=[''],gainfield=[''],interp=[],\n",
       "<br>2019-06-21 04:52:13\tINFO\tgaincal::::+\t        spwmap=[],parang=False)\n",
       "<br>2019-06-21 04:52:13\tINFO\tgaincal::calibrater::open\t****Using NEW VI2-driven calibrater tool****\n",
       "<br>2019-06-21 04:52:13\tINFO\tgaincal::calibrater::open\tOpening MS: exms_cleanband.ms for calibration.\n",
       "<br>2019-06-21 04:52:13\tINFO\tgaincal::Calibrater::\tInitializing nominal selection to the whole MS.\n",
       "<br>2019-06-21 04:52:13\tINFO\tgaincal::::\tNB: gaincal automatically excludes auto-correlations.\n",
       "<br>2019-06-21 04:52:13\tINFO\tcalibrater::setdata\tBeginning selectvis--(MSSelection version)-------\n",
       "<br>2019-06-21 04:52:13\tINFO\tcalibrater::reset\tReseting solve/apply state\n",
       "<br>2019-06-21 04:52:13\tINFO\tCalibrater::selectvis\tPerforming selection on MeasurementSet\n",
       "<br>2019-06-21 04:52:13\tINFO\tCalibrater::selectvis+\t Selecting on spw: '0'\n",
       "<br>2019-06-21 04:52:13\tINFO\tCalibrater::selectvis+\t Selecting on field: 'PKS1934-63'\n",
       "<br>2019-06-21 04:52:13\tINFO\tCalibrater::selectvis+\t Selecting with TaQL: 'ANTENNA1!=ANTENNA2'\n",
       "<br>2019-06-21 04:52:13\tINFO\tCalibrater::selectvis\tSelection did not drop any rows\n",
       "<br>2019-06-21 04:52:13\tINFO\tCalibrater::selectvis\tFrequency selection: \n",
       "<br>2019-06-21 04:52:13\tINFO\tCalibrater::selectvis\t.  Spw 0:0~1000 (1001 channels, step by 1)\n",
       "<br>2019-06-21 04:52:13\tINFO\tcalibrater::setdata\tchanmode=none nchan=1 start=0 step=1 mStart='0km/s' mStep='0km/s' msSelect='ANTENNA1!=ANTENNA2'\n",
       "<br>2019-06-21 04:52:13\tINFO\tcalibrater::setsolve\tBeginning setsolve--(MSSelection version)-------\n",
       "<br>2019-06-21 04:52:13\tINFO\tCalibrater::setsolve\tArranging to SOLVE:\n",
       "<br>2019-06-21 04:52:13\tINFO\tCalibrater::setsolve\t.   K Jones: table=exms_cleanband.K append=false solint=inf refantmode='flex' refant='m043' minsnr=5 apmode=AP solnorm=false\n",
       "<br>2019-06-21 04:52:13\tINFO\tcalibrater::solve\tBeginning solve-----------------------------\n",
       "<br>2019-06-21 04:52:13\tINFO\tCalibrater::solve\tThe following calibration terms are arranged for apply:\n",
       "<br>2019-06-21 04:52:13\tINFO\tCalibrater::solve\t.   (None)\n",
       "<br>2019-06-21 04:52:13\tINFO\tCalibrater::solve\tThe following calibration term is arranged for solve:\n",
       "<br>2019-06-21 04:52:13\tINFO\tCalibrater::solve\t.   K Jones: table=exms_cleanband.K append=false solint=inf refantmode='flex' refant='m043' minsnr=5 apmode=AP solnorm=false\n",
       "<br>2019-06-21 04:52:13\tINFO\tCalibrater::solve\tFor solint = inf, found 1 solution intervals.\n",
       "<br>2019-06-21 04:52:13\tINFO\tCalibrater::solve\t  Found good K Jones solutions in 1 solution intervals.\n",
       "<br>2019-06-21 04:52:13\tINFO\t\tWriting solutions to table: exms_cleanband.K\n",
       "<br>2019-06-21 04:52:13\tINFO\tcalibrater::solve\tFinished solving.\n",
       "<br>2019-06-21 04:52:13\tINFO\tgaincal::::\tCalibration solve statistics per spw:  (expected/attempted/succeeded):\n",
       "<br>2019-06-21 04:52:13\tINFO\tgaincal::::\t  Spw 0: 1/1/1\n",
       "<br>2019-06-21 04:52:13\tINFO\tgaincal::::\t##### End Task: gaincal              #####\n",
       "<br>2019-06-21 04:52:13\tINFO\tgaincal::::+\t##########################################\n",
       "</div>"
      ]
     },
     "metadata": {},
     "output_type": "display_data"
    }
   ],
   "source": [
    "rmtables(ktable)\n",
    "\n",
    "#Solving for delays\n",
    "gaincal(vis=msfile,\n",
    "        caltable=ktable,\n",
    "        field=f_cal,\n",
    "        gaintype='K',\n",
    "        solint='inf',\n",
    "        refant=ref_ant,\n",
    "        combine='scan',\n",
    "        minblperant=1,\n",
    "        solnorm=False,\n",
    "        spw='0',\n",
    "        minsnr=5)"
   ]
  },
  {
   "cell_type": "markdown",
   "metadata": {},
   "source": [
    "Inspect calibration solution using `plotcal`   \n",
    "Delays after calibration should be no more than a few nanoseconds close to and around zero.    \n",
    "Dual polarization, per antenna delay corrections using flux calibrator -- m010, m053 (reference antenna) and m043. \n",
    "```\n",
    "plotcal(caltable = ktable, xaxis = 'antenna', yaxis = 'delay', subplot=221, iteration='antenna')\n",
    "```"
   ]
  },
  {
   "cell_type": "code",
   "execution_count": 25,
   "metadata": {},
   "outputs": [
    {
     "data": {
      "image/png": "[encoded data removed]",
      "text/plain": [
       "<Figure size 432x288 with 1 Axes>"
      ]
     },
     "metadata": {
      "needs_background": "light"
     },
     "output_type": "display_data"
    },
    {
     "data": {
      "text/html": [
       "<button type=\"button\" class=\"btn btn-info\" data-toggle=\"collapse\" id=\"1561092734_92\" data-target=\"#log1561092734_92\" onclick=\"if ($('#'+this.id).html()=='Show log') {$('#'+this.id).html('Hide log')} else {$('#'+this.id).html('Show log')}; return false\">Show log</button> <div class=\"collapse\" id=\"log1561092734_92\">2019-06-21 04:52:15\tINFO\tplotcal::::\t\n",
       "<br>2019-06-21 04:52:15\tINFO\tplotcal::::+\t##########################################\n",
       "<br>2019-06-21 04:52:15\tINFO\tplotcal::::+\t##### Begin Task: plotcal            #####\n",
       "<br>2019-06-21 04:52:15\tINFO\tplotcal::::\tplotcal(caltable=\"exms_cleanband.K\",xaxis=\"antenna\",yaxis=\"delay\",poln=\"\",field=\"\",\n",
       "<br>2019-06-21 04:52:15\tINFO\tplotcal::::+\t        antenna=\"\",spw=\"\",timerange=\"\",subplot=111,overplot=False,\n",
       "<br>2019-06-21 04:52:15\tINFO\tplotcal::::+\t        clearpanel=\"Auto\",iteration=\"\",plotrange=[],showflags=False,plotsymbol=\"o\",\n",
       "<br>2019-06-21 04:52:15\tINFO\tplotcal::::+\t        plotcolor=\"blue\",markersize=5.0,fontsize=10.0,showgui=True,figfile=\"\")\n",
       "<br>2019-06-21 04:52:15\tINFO\ttableplot::setgui\tSwitching to GUI mode. All current plots  will be reset.\n",
       "<br>2019-06-21 04:52:15\tINFO\tplotcal::createCalTab \tDetected a NewCalTable!\n",
       "<br>2019-06-21 04:52:15\tINFO\t\tNow get the data\n",
       "<br>2019-06-21 04:52:15\tINFO\t\tDone Processing data ... \n",
       "<br>2019-06-21 04:52:15\tINFO\tplotcal::::\t##### End Task: plotcal              #####\n",
       "<br>2019-06-21 04:52:15\tINFO\tplotcal::::+\t##########################################\n",
       "</div>"
      ]
     },
     "metadata": {},
     "output_type": "display_data"
    }
   ],
   "source": [
    "plotcal(caltable = ktable, xaxis = 'antenna', yaxis = 'delay')"
   ]
  },
  {
   "cell_type": "markdown",
   "metadata": {},
   "source": [
    "####   Solve for the bandpass response\n",
    "bandpass response = the variation of the complex antenna gains across the different channels.   \n",
    "Run bandpass to solve for the complex gain as a function of channel across the passband."
   ]
  },
  {
   "cell_type": "code",
   "execution_count": null,
   "metadata": {},
   "outputs": [],
   "source": [
    "plotms(vis=msfile,\n",
    "       xaxis='channel',\n",
    "       yaxis='phase',\n",
    "       correlation='XX,YY',\n",
    "#       scan='28',\n",
    "       field=b_cal,\n",
    "#       iteraxis='baseline',\n",
    "#       coloraxis='corr',\n",
    "       coloraxis='baseline',\n",
    "       plotrange=[0,0,-180,180])"
   ]
  },
  {
   "cell_type": "code",
   "execution_count": 26,
   "metadata": {},
   "outputs": [
    {
     "data": {
      "text/html": [
       "<button type=\"button\" class=\"btn btn-info\" data-toggle=\"collapse\" id=\"1561092742_51\" data-target=\"#log1561092742_51\" onclick=\"if ($('#'+this.id).html()=='Show log') {$('#'+this.id).html('Hide log')} else {$('#'+this.id).html('Show log')}; return false\">Show log</button> <div class=\"collapse\" id=\"log1561092742_51\">2019-06-21 04:52:22\tINFO\trmtables::::\t\n",
       "<br>2019-06-21 04:52:22\tINFO\trmtables::::+\t##########################################\n",
       "<br>2019-06-21 04:52:22\tINFO\trmtables::::+\t##### Begin Task: rmtables           #####\n",
       "<br>2019-06-21 04:52:22\tINFO\trmtables::::\trmtables(tablenames=\"exms_cleanband.B\")\n",
       "<br>2019-06-21 04:52:22\tINFO\trmtables::::\tRemoving exms_cleanband.B\n",
       "<br>2019-06-21 04:52:22\tINFO\trmtables::::\t##### End Task: rmtables             #####\n",
       "<br>2019-06-21 04:52:22\tINFO\trmtables::::+\t##########################################\n",
       "<br>2019-06-21 04:52:22\tINFO\tbandpass::::\t\n",
       "<br>2019-06-21 04:52:22\tINFO\tbandpass::::+\t##########################################\n",
       "<br>2019-06-21 04:52:22\tINFO\tbandpass::::+\t##### Begin Task: bandpass           #####\n",
       "<br>2019-06-21 04:52:22\tINFO\tbandpass::::\tbandpass(vis=\"exms_cleanband.ms\",caltable=\"exms_cleanband.B\",field=\"PKS1934-63\",spw=\"\",intent=\"\",\n",
       "<br>2019-06-21 04:52:22\tINFO\tbandpass::::+\t        selectdata=True,timerange=\"\",uvrange=\"\",antenna=\"\",scan=\"\",\n",
       "<br>2019-06-21 04:52:22\tINFO\tbandpass::::+\t        observation=\"\",msselect=\"\",solint=\"inf\",combine=\"scan\",refant=\"m043\",\n",
       "<br>2019-06-21 04:52:22\tINFO\tbandpass::::+\t        minblperant=1,minsnr=5,solnorm=True,bandtype=\"B\",smodel=[],\n",
       "<br>2019-06-21 04:52:22\tINFO\tbandpass::::+\t        append=False,fillgaps=0,degamp=3,degphase=3,visnorm=False,\n",
       "<br>2019-06-21 04:52:22\tINFO\tbandpass::::+\t        maskcenter=0,maskedge=5,docallib=False,callib=\"\",gaintable=['exms_cleanband.K'],\n",
       "<br>2019-06-21 04:52:22\tINFO\tbandpass::::+\t        gainfield=[''],interp=['nearest', 'nearest'],spwmap=[],parang=False)\n",
       "<br>2019-06-21 04:52:22\tINFO\tbandpass::calibrater::open\t****Using NEW VI2-driven calibrater tool****\n",
       "<br>2019-06-21 04:52:22\tINFO\tbandpass::calibrater::open\tOpening MS: exms_cleanband.ms for calibration.\n",
       "<br>2019-06-21 04:52:22\tINFO\tbandpass::Calibrater::\tInitializing nominal selection to the whole MS.\n",
       "<br>2019-06-21 04:52:22\tINFO\tbandpass::calibrater::reset\tReseting solve/apply state\n",
       "<br>2019-06-21 04:52:22\tINFO\tbandpass::::\tNB: bandpass automatically excludes auto-correlations.\n",
       "<br>2019-06-21 04:52:22\tINFO\tcalibrater::setdata\tBeginning selectvis--(MSSelection version)-------\n",
       "<br>2019-06-21 04:52:22\tINFO\tcalibrater::reset\tReseting solve/apply state\n",
       "<br>2019-06-21 04:52:22\tINFO\tCalibrater::selectvis\tPerforming selection on MeasurementSet\n",
       "<br>2019-06-21 04:52:22\tINFO\tCalibrater::selectvis+\t Selecting on field: 'PKS1934-63'\n",
       "<br>2019-06-21 04:52:22\tINFO\tCalibrater::selectvis+\t Selecting with TaQL: 'ANTENNA1!=ANTENNA2'\n",
       "<br>2019-06-21 04:52:22\tINFO\tCalibrater::selectvis\tSelection did not drop any rows\n",
       "<br>2019-06-21 04:52:22\tINFO\tCalibrater::selectvis\tFrequency selection: Selecting all channels in all spws.\n",
       "<br>2019-06-21 04:52:22\tINFO\tcalibrater::setdata\tchanmode=none nchan=1 start=0 step=1 mStart='0km/s' mStep='0km/s' msSelect='ANTENNA1!=ANTENNA2'\n",
       "<br>2019-06-21 04:52:22\tINFO\tcalibrater::setapply\tBeginning setapply--(MSSelection version)-------\n",
       "<br>2019-06-21 04:52:22\tINFO\tCalibrater::setapply(type, applypar)\tArranging to APPLY:\n",
       "<br>2019-06-21 04:52:22\tINFO\t\t (K Jones: Enforcing calWt()=false for phase/delay-like terms)\n",
       "<br>2019-06-21 04:52:22\tINFO\tCalibrater::setapply(type, applypar)\t.   K Jones: table=exms_cleanband.K select= interp=nearest spwmap=[-1] calWt=false\n",
       "<br>2019-06-21 04:52:22\tINFO\tcalibrater::setsolve\tBeginning setsolve--(MSSelection version)-------\n",
       "<br>2019-06-21 04:52:22\tINFO\tCalibrater::setsolve\tArranging to SOLVE:\n",
       "<br>2019-06-21 04:52:22\tINFO\tCalibrater::setsolve\t.   B Jones: table=exms_cleanband.B append=false solint=inf,none refantmode='flex' refant='m043' minsnr=5 apmode=AP solnorm=true normtype=MEAN\n",
       "<br>2019-06-21 04:52:22\tINFO\tcalibrater::solve\tBeginning solve-----------------------------\n",
       "<br>2019-06-21 04:52:22\tINFO\tCalibrater::solve\tThe following calibration terms are arranged for apply:\n",
       "<br>2019-06-21 04:52:22\tINFO\tCalibrater::solve\t.   K Jones: table=exms_cleanband.K select= interp=nearest spwmap=[-1] calWt=false\n",
       "<br>2019-06-21 04:52:22\tINFO\tCalibrater::solve\tThe following calibration term is arranged for solve:\n",
       "<br>2019-06-21 04:52:22\tINFO\tCalibrater::solve\t.   B Jones: table=exms_cleanband.B append=false solint=inf,none refantmode='flex' refant='m043' minsnr=5 apmode=AP solnorm=true normtype=MEAN\n",
       "<br>2019-06-21 04:52:22\tINFO\tCalibrater::solve\tFor solint = inf, found 1 solution intervals.\n",
       "<br>2019-06-21 04:52:22\tINFO\tCalibrater::solve\t  Found good B Jones solutions in 1 solution intervals.\n",
       "<br>2019-06-21 04:52:22\tINFO\t\tApplying refant: m043 refantmode = flex (hold alternate refants' phase constant) when refant flagged\n",
       "<br>2019-06-21 04:52:22\tINFO\t\tNormalizing solutions per spw, time, ant, pol with MEAN in amplitude (and center channel in phase).\n",
       "<br>2019-06-21 04:52:22\tINFO\t\t Normalization factor (MEAN) for spw=0 time=2019/01/25/12:06:40.4 ant=0 pol 0 = 0.722726, 25.9068deg\n",
       "<br>2019-06-21 04:52:22\tINFO\t\t Normalization factor (MEAN) for spw=0 time=2019/01/25/12:06:40.4 ant=0 pol 1 = 0.607736, 173.095deg\n",
       "<br>2019-06-21 04:52:22\tINFO\t\t Normalization factor (MEAN) for spw=0 time=2019/01/25/12:06:40.4 ant=1 pol 0 = 0.700287, 7.39704e-10deg\n",
       "<br>2019-06-21 04:52:22\tINFO\t\t Normalization factor (MEAN) for spw=0 time=2019/01/25/12:06:40.4 ant=1 pol 1 = 0.696463, -5.3079e-10deg\n",
       "<br>2019-06-21 04:52:22\tINFO\t\t Normalization factor (MEAN) for spw=0 time=2019/01/25/12:06:40.4 ant=2 pol 0 = 0.678234, -51.5247deg\n",
       "<br>2019-06-21 04:52:22\tINFO\t\t Normalization factor (MEAN) for spw=0 time=2019/01/25/12:06:40.4 ant=2 pol 1 = 0.531687, 106.425deg\n",
       "<br>2019-06-21 04:52:22\tINFO\t\tWriting solutions to table: exms_cleanband.B\n",
       "<br>2019-06-21 04:52:22\tINFO\tcalibrater::solve\tFinished solving.\n",
       "<br>2019-06-21 04:52:23\tINFO\tbandpass::::\t##### End Task: bandpass             #####\n",
       "<br>2019-06-21 04:52:23\tINFO\tbandpass::::+\t##########################################\n",
       "</div>"
      ]
     },
     "metadata": {},
     "output_type": "display_data"
    }
   ],
   "source": [
    "rmtables(btable)\n",
    "\n",
    "# Solve for the bandpass response -- complex gain as a function of channel across the passband.\n",
    "bandpass(vis=msfile,\n",
    "         caltable=btable,\n",
    "         field=b_cal,\n",
    "         refant=ref_ant,\n",
    "         solnorm=True,\n",
    "         combine='scan',\n",
    "         solint='inf',\n",
    "         minblperant=1,\n",
    "         bandtype='B',\n",
    "         minsnr=5,\n",
    "         gaintable=[ktable],\n",
    "         interp=['nearest', 'nearest'])"
   ]
  },
  {
   "cell_type": "markdown",
   "metadata": {},
   "source": [
    "Since we asked bandpass to normalise the solution, the amplitude should be fairly stable around 1.\n",
    "\n",
    "If any of the plotcal graphs shows solutions with highly varying (outlier) data points that require more flagging of data: Return to the flagging stage and remove the bad data. Then restart calibration form the clearcal step.\n"
   ]
  },
  {
   "cell_type": "markdown",
   "metadata": {},
   "source": [
    "Use `plotcal` to display the bandpass solution   \n",
    "Phases should be fairly stable around 0 deg."
   ]
  },
  {
   "cell_type": "code",
   "execution_count": 27,
   "metadata": {},
   "outputs": [
    {
     "data": {
      "image/png": "[encoded data removed]",
      "text/plain": [
       "<Figure size 432x288 with 1 Axes>"
      ]
     },
     "metadata": {
      "needs_background": "light"
     },
     "output_type": "display_data"
    },
    {
     "data": {
      "text/html": [
       "<button type=\"button\" class=\"btn btn-info\" data-toggle=\"collapse\" id=\"1561092750_96\" data-target=\"#log1561092750_96\" onclick=\"if ($('#'+this.id).html()=='Show log') {$('#'+this.id).html('Hide log')} else {$('#'+this.id).html('Show log')}; return false\">Show log</button> <div class=\"collapse\" id=\"log1561092750_96\">2019-06-21 04:52:25\tINFO\tplotcal::::\t\n",
       "<br>2019-06-21 04:52:25\tINFO\tplotcal::::+\t##########################################\n",
       "<br>2019-06-21 04:52:25\tINFO\tplotcal::::+\t##### Begin Task: plotcal            #####\n",
       "<br>2019-06-21 04:52:25\tINFO\tplotcal::::\tplotcal(caltable=\"exms_cleanband.B\",xaxis=\"chan\",yaxis=\"phase\",poln=\"\",field=\"\",\n",
       "<br>2019-06-21 04:52:25\tINFO\tplotcal::::+\t        antenna=\"m010\",spw=\"\",timerange=\"\",subplot=111,overplot=False,\n",
       "<br>2019-06-21 04:52:25\tINFO\tplotcal::::+\t        clearpanel=\"Auto\",iteration=\"\",plotrange=[],showflags=False,plotsymbol=\"o\",\n",
       "<br>2019-06-21 04:52:25\tINFO\tplotcal::::+\t        plotcolor=\"blue\",markersize=5.0,fontsize=10.0,showgui=True,figfile=\"\")\n",
       "<br>2019-06-21 04:52:25\tINFO\ttableplot::setgui\tSwitching to GUI mode. All current plots  will be reset.\n",
       "<br>2019-06-21 04:52:25\tINFO\tplotcal::createCalTab \tDetected a NewCalTable!\n",
       "<br>2019-06-21 04:52:25\tINFO\t\tNow get the data\n",
       "<br>2019-06-21 04:52:25\tINFO\t\tDone Processing data ... \n",
       "<br>2019-06-21 04:52:30\tINFO\tplotcal::::\t##### End Task: plotcal              #####\n",
       "<br>2019-06-21 04:52:30\tINFO\tplotcal::::+\t##########################################\n",
       "</div>"
      ]
     },
     "metadata": {},
     "output_type": "display_data"
    }
   ],
   "source": [
    "plotcal(caltable = btable, xaxis = 'chan', yaxis = 'phase', antenna='m010')"
   ]
  },
  {
   "cell_type": "code",
   "execution_count": 28,
   "metadata": {},
   "outputs": [
    {
     "data": {
      "image/png": "[encoded data removed]",
      "text/plain": [
       "<Figure size 432x288 with 1 Axes>"
      ]
     },
     "metadata": {
      "needs_background": "light"
     },
     "output_type": "display_data"
    },
    {
     "data": {
      "text/html": [
       "<button type=\"button\" class=\"btn btn-info\" data-toggle=\"collapse\" id=\"1561092759_3\" data-target=\"#log1561092759_3\" onclick=\"if ($('#'+this.id).html()=='Show log') {$('#'+this.id).html('Hide log')} else {$('#'+this.id).html('Show log')}; return false\">Show log</button> <div class=\"collapse\" id=\"log1561092759_3\">2019-06-21 04:52:33\tINFO\tplotcal::::\t\n",
       "<br>2019-06-21 04:52:33\tINFO\tplotcal::::+\t##########################################\n",
       "<br>2019-06-21 04:52:33\tINFO\tplotcal::::+\t##### Begin Task: plotcal            #####\n",
       "<br>2019-06-21 04:52:33\tINFO\tplotcal::::\tplotcal(caltable=\"exms_cleanband.B\",xaxis=\"chan\",yaxis=\"phase\",poln=\"\",field=\"\",\n",
       "<br>2019-06-21 04:52:33\tINFO\tplotcal::::+\t        antenna=\"m043\",spw=\"\",timerange=\"\",subplot=111,overplot=False,\n",
       "<br>2019-06-21 04:52:33\tINFO\tplotcal::::+\t        clearpanel=\"Auto\",iteration=\"\",plotrange=[],showflags=False,plotsymbol=\"o\",\n",
       "<br>2019-06-21 04:52:33\tINFO\tplotcal::::+\t        plotcolor=\"blue\",markersize=5.0,fontsize=10.0,showgui=True,figfile=\"\")\n",
       "<br>2019-06-21 04:52:33\tINFO\ttableplot::setgui\tSwitching to GUI mode. All current plots  will be reset.\n",
       "<br>2019-06-21 04:52:33\tINFO\tplotcal::createCalTab \tDetected a NewCalTable!\n",
       "<br>2019-06-21 04:52:33\tINFO\t\tNow get the data\n",
       "<br>2019-06-21 04:52:33\tINFO\t\tDone Processing data ... \n",
       "<br>2019-06-21 04:52:38\tINFO\tplotcal::::\t##### End Task: plotcal              #####\n",
       "<br>2019-06-21 04:52:38\tINFO\tplotcal::::+\t##########################################\n",
       "</div>"
      ]
     },
     "metadata": {},
     "output_type": "display_data"
    }
   ],
   "source": [
    "plotcal(caltable = btable, xaxis = 'chan', yaxis = 'phase', antenna='m043')"
   ]
  },
  {
   "cell_type": "code",
   "execution_count": 29,
   "metadata": {},
   "outputs": [
    {
     "data": {
      "image/png": "[encoded data removed]",
      "text/plain": [
       "<Figure size 432x288 with 1 Axes>"
      ]
     },
     "metadata": {
      "needs_background": "light"
     },
     "output_type": "display_data"
    },
    {
     "data": {
      "text/html": [
       "<button type=\"button\" class=\"btn btn-info\" data-toggle=\"collapse\" id=\"1561092767_45\" data-target=\"#log1561092767_45\" onclick=\"if ($('#'+this.id).html()=='Show log') {$('#'+this.id).html('Hide log')} else {$('#'+this.id).html('Show log')}; return false\">Show log</button> <div class=\"collapse\" id=\"log1561092767_45\">2019-06-21 04:52:41\tINFO\tplotcal::::\t\n",
       "<br>2019-06-21 04:52:41\tINFO\tplotcal::::+\t##########################################\n",
       "<br>2019-06-21 04:52:41\tINFO\tplotcal::::+\t##### Begin Task: plotcal            #####\n",
       "<br>2019-06-21 04:52:41\tINFO\tplotcal::::\tplotcal(caltable=\"exms_cleanband.B\",xaxis=\"chan\",yaxis=\"phase\",poln=\"\",field=\"\",\n",
       "<br>2019-06-21 04:52:41\tINFO\tplotcal::::+\t        antenna=\"m053\",spw=\"\",timerange=\"\",subplot=111,overplot=False,\n",
       "<br>2019-06-21 04:52:41\tINFO\tplotcal::::+\t        clearpanel=\"Auto\",iteration=\"\",plotrange=[],showflags=False,plotsymbol=\"o\",\n",
       "<br>2019-06-21 04:52:41\tINFO\tplotcal::::+\t        plotcolor=\"blue\",markersize=5.0,fontsize=10.0,showgui=True,figfile=\"\")\n",
       "<br>2019-06-21 04:52:41\tINFO\ttableplot::setgui\tSwitching to GUI mode. All current plots  will be reset.\n",
       "<br>2019-06-21 04:52:41\tINFO\tplotcal::createCalTab \tDetected a NewCalTable!\n",
       "<br>2019-06-21 04:52:41\tINFO\t\tNow get the data\n",
       "<br>2019-06-21 04:52:41\tINFO\t\tDone Processing data ... \n",
       "<br>2019-06-21 04:52:46\tINFO\tplotcal::::\t##### End Task: plotcal              #####\n",
       "<br>2019-06-21 04:52:46\tINFO\tplotcal::::+\t##########################################\n",
       "</div>"
      ]
     },
     "metadata": {},
     "output_type": "display_data"
    }
   ],
   "source": [
    "plotcal(caltable = btable, xaxis = 'chan', yaxis = 'phase', antenna='m053')"
   ]
  },
  {
   "cell_type": "code",
   "execution_count": 30,
   "metadata": {},
   "outputs": [
    {
     "data": {
      "image/png": "[encoded data removed]",
      "text/plain": [
       "<Figure size 432x288 with 1 Axes>"
      ]
     },
     "metadata": {
      "needs_background": "light"
     },
     "output_type": "display_data"
    },
    {
     "data": {
      "text/html": [
       "<button type=\"button\" class=\"btn btn-info\" data-toggle=\"collapse\" id=\"1561092802_4\" data-target=\"#log1561092802_4\" onclick=\"if ($('#'+this.id).html()=='Show log') {$('#'+this.id).html('Hide log')} else {$('#'+this.id).html('Show log')}; return false\">Show log</button> <div class=\"collapse\" id=\"log1561092802_4\">2019-06-21 04:52:50\tINFO\tplotcal::::\t\n",
       "<br>2019-06-21 04:52:50\tINFO\tplotcal::::+\t##########################################\n",
       "<br>2019-06-21 04:52:50\tINFO\tplotcal::::+\t##### Begin Task: plotcal            #####\n",
       "<br>2019-06-21 04:52:50\tINFO\tplotcal::::\tplotcal(caltable=\"exms_cleanband.B\",xaxis=\"chan\",yaxis=\"amp\",poln=\"\",field=\"\",\n",
       "<br>2019-06-21 04:52:50\tINFO\tplotcal::::+\t        antenna=\"\",spw=\"\",timerange=\"\",subplot=111,overplot=False,\n",
       "<br>2019-06-21 04:52:50\tINFO\tplotcal::::+\t        clearpanel=\"Auto\",iteration=\"\",plotrange=[],showflags=False,plotsymbol=\"o\",\n",
       "<br>2019-06-21 04:52:50\tINFO\tplotcal::::+\t        plotcolor=\"blue\",markersize=5.0,fontsize=10.0,showgui=True,figfile=\"\")\n",
       "<br>2019-06-21 04:52:50\tINFO\ttableplot::setgui\tSwitching to GUI mode. All current plots  will be reset.\n",
       "<br>2019-06-21 04:52:50\tINFO\tplotcal::createCalTab \tDetected a NewCalTable!\n",
       "<br>2019-06-21 04:52:50\tINFO\t\tNow get the data\n",
       "<br>2019-06-21 04:52:50\tINFO\t\tDone Processing data ... \n",
       "<br>2019-06-21 04:53:20\tINFO\tplotcal::::\t##### End Task: plotcal              #####\n",
       "<br>2019-06-21 04:53:20\tINFO\tplotcal::::+\t##########################################\n",
       "</div>"
      ]
     },
     "metadata": {},
     "output_type": "display_data"
    }
   ],
   "source": [
    "plotcal(caltable = btable, xaxis = 'chan', yaxis = 'amp')"
   ]
  },
  {
   "cell_type": "markdown",
   "metadata": {},
   "source": [
    "#### Solve for the complex gain solution\n",
    "Solving for the main time variable part of each source. Amplitude calibration was done on the primary amplitude flux calibrator. Use this to solve for the complex gain solutions of the secondary gain/phase calibrator source.\n",
    "Since there is only limit primary calibrators, which may not be close to the target source, this flux density bootstrapping allows the use of much closer secondary calibrators which will provide better calibration solutions for the target source. For calibrator sources we expect values that are consistent across baselines and vary only slightly across channels. Thus plot amplitude for all baseline together.\n",
    "plotms(vis=msfile, xaxis='channel', yaxis='amp', correlation='XX,YY', field='PKS1934-638', coloraxis='corr')\n"
   ]
  },
  {
   "cell_type": "markdown",
   "metadata": {},
   "source": [
    "To stabilize time varying components, do a basic phase calibration using a selection of channels near the center of the frequency band that are relatively free from interference.\n",
    "[Optional] To identify these channels use the plotms viewer as previously:\n",
    "plotms(vis=msfile, xaxis='channel', yaxis='phase', correlation='XX,YY', scan='28', field='PKS1934-638', iteraxis='baseline', coloraxis='corr', plotrange=[0,0,-180,180])\n",
    "\n",
    "Calculate temporary phase-calibration using gaincal\n",
    "ref_chans=''\n",
    "gaincal(vis=msfile, field=b_cal, caltable=gtable0, refant=ref_ant, spw=ref_chans, calmode='p', solint='inf', minsnr=5, solnorm=True, gaintable=ktable0, interp= 'nearest')\n",
    "gaincal(vis=msfile, field=b_cal, caltable=gtable0, refant=ref_ant, calmode='p', solint='inf', minsnr=5, solnorm=True, gaintable=ktable0, interp= 'nearest')\n",
    "\n",
    "\n",
    "`gaincal` provide antenna-based components which can be inspected for each antenna using `plotcal`\n",
    "plotcal(caltable = gtable0, field=b_cal, xaxis = 'time', yaxis = 'phase', iteration='antenna', subplot=321)\n"
   ]
  },
  {
   "cell_type": "markdown",
   "metadata": {},
   "source": [
    "Gain calibration on fluxscale calibrator\n",
    "gaincal(vis = msfile, caltable = gtable1, field = f_cal, solint = 'inf', refant = ref_ant, gaintype = 'G', calmode = 'ap', solnorm = False, minsnr = 5, gaintable = [ktable0, btable0], interp = ['nearest', 'nearest'])\n",
    "\n",
    "Use the plotting tool to look at the solution:\n",
    "plotcal(caltable = gtable1, field = f_cal, xaxis = 'time', yaxis = 'amp',iteration='antenna', subplot=321)\n",
    "Since we are working with the corrected flux density for this source, these gains have already been corrected and should lie around 0.1\n",
    "\n",
    "plotcal(caltable = gtable1, field = f_cal, xaxis = 'time', yaxis = 'phase', iteration='antenna', subplot=321)\n"
   ]
  },
  {
   "cell_type": "markdown",
   "metadata": {},
   "source": [
    "Determine the complex gains for the secondary phase calibrator"
   ]
  },
  {
   "cell_type": "code",
   "execution_count": 31,
   "metadata": {},
   "outputs": [
    {
     "data": {
      "text/html": [
       "<button type=\"button\" class=\"btn btn-info\" data-toggle=\"collapse\" id=\"1561092814_41\" data-target=\"#log1561092814_41\" onclick=\"if ($('#'+this.id).html()=='Show log') {$('#'+this.id).html('Hide log')} else {$('#'+this.id).html('Show log')}; return false\">Show log</button> <div class=\"collapse\" id=\"log1561092814_41\">2019-06-21 04:53:34\tINFO\trmtables::::\t\n",
       "<br>2019-06-21 04:53:34\tINFO\trmtables::::+\t##########################################\n",
       "<br>2019-06-21 04:53:34\tINFO\trmtables::::+\t##### Begin Task: rmtables           #####\n",
       "<br>2019-06-21 04:53:34\tINFO\trmtables::::\trmtables(tablenames=\"exms_cleanband.G\")\n",
       "<br>2019-06-21 04:53:34\tINFO\trmtables::::\tRemoving exms_cleanband.G\n",
       "<br>2019-06-21 04:53:34\tINFO\trmtables::::\t##### End Task: rmtables             #####\n",
       "<br>2019-06-21 04:53:34\tINFO\trmtables::::+\t##########################################\n",
       "<br>2019-06-21 04:53:34\tINFO\tgaincal::::\t\n",
       "<br>2019-06-21 04:53:34\tINFO\tgaincal::::+\t##########################################\n",
       "<br>2019-06-21 04:53:34\tINFO\tgaincal::::+\t##### Begin Task: gaincal            #####\n",
       "<br>2019-06-21 04:53:34\tINFO\tgaincal::::\tgaincal(vis=\"exms_cleanband.ms\",caltable=\"exms_cleanband.G\",field=\"PKS1934-63\",spw=\"\",intent=\"\",\n",
       "<br>2019-06-21 04:53:34\tINFO\tgaincal::::+\t        selectdata=True,timerange=\"\",uvrange=\"\",antenna=\"\",scan=\"\",\n",
       "<br>2019-06-21 04:53:34\tINFO\tgaincal::::+\t        observation=\"\",msselect=\"\",solint=\"inf\",combine=\"\",preavg=-1.0,\n",
       "<br>2019-06-21 04:53:34\tINFO\tgaincal::::+\t        refant=\"m043\",refantmode=\"flex\",minblperant=1,minsnr=5,solnorm=False,\n",
       "<br>2019-06-21 04:53:34\tINFO\tgaincal::::+\t        normtype=\"mean\",gaintype=\"G\",smodel=[],calmode=\"p\",solmode=\"\",\n",
       "<br>2019-06-21 04:53:34\tINFO\tgaincal::::+\t        rmsthresh=[],append=False,splinetime=3600.0,npointaver=3,phasewrap=180.0,\n",
       "<br>2019-06-21 04:53:34\tINFO\tgaincal::::+\t        docallib=False,callib=\"\",gaintable=['exms_cleanband.K', 'exms_cleanband.B'],gainfield=[''],interp=['nearest', 'nearest'],\n",
       "<br>2019-06-21 04:53:34\tINFO\tgaincal::::+\t        spwmap=[],parang=False)\n",
       "<br>2019-06-21 04:53:34\tINFO\tgaincal::calibrater::open\t****Using NEW VI2-driven calibrater tool****\n",
       "<br>2019-06-21 04:53:34\tINFO\tgaincal::calibrater::open\tOpening MS: exms_cleanband.ms for calibration.\n",
       "<br>2019-06-21 04:53:34\tINFO\tgaincal::Calibrater::\tInitializing nominal selection to the whole MS.\n",
       "<br>2019-06-21 04:53:34\tINFO\tgaincal::::\tNB: gaincal automatically excludes auto-correlations.\n",
       "<br>2019-06-21 04:53:34\tINFO\tcalibrater::setdata\tBeginning selectvis--(MSSelection version)-------\n",
       "<br>2019-06-21 04:53:34\tINFO\tcalibrater::reset\tReseting solve/apply state\n",
       "<br>2019-06-21 04:53:34\tINFO\tCalibrater::selectvis\tPerforming selection on MeasurementSet\n",
       "<br>2019-06-21 04:53:34\tINFO\tCalibrater::selectvis+\t Selecting on field: 'PKS1934-63'\n",
       "<br>2019-06-21 04:53:34\tINFO\tCalibrater::selectvis+\t Selecting with TaQL: 'ANTENNA1!=ANTENNA2'\n",
       "<br>2019-06-21 04:53:34\tINFO\tCalibrater::selectvis\tSelection did not drop any rows\n",
       "<br>2019-06-21 04:53:34\tINFO\tCalibrater::selectvis\tFrequency selection: Selecting all channels in all spws.\n",
       "<br>2019-06-21 04:53:34\tINFO\tcalibrater::setdata\tchanmode=none nchan=1 start=0 step=1 mStart='0km/s' mStep='0km/s' msSelect='ANTENNA1!=ANTENNA2'\n",
       "<br>2019-06-21 04:53:34\tINFO\tcalibrater::setapply\tBeginning setapply--(MSSelection version)-------\n",
       "<br>2019-06-21 04:53:34\tINFO\tCalibrater::setapply(type, applypar)\tArranging to APPLY:\n",
       "<br>2019-06-21 04:53:34\tINFO\t\t (K Jones: Enforcing calWt()=false for phase/delay-like terms)\n",
       "<br>2019-06-21 04:53:34\tINFO\tCalibrater::setapply(type, applypar)\t.   K Jones: table=exms_cleanband.K select= interp=nearest spwmap=[-1] calWt=false\n",
       "<br>2019-06-21 04:53:34\tINFO\tcalibrater::setapply\tBeginning setapply--(MSSelection version)-------\n",
       "<br>2019-06-21 04:53:34\tINFO\tCalibrater::setapply(type, applypar)\tArranging to APPLY:\n",
       "<br>2019-06-21 04:53:34\tINFO\tCalibrater::setapply(type, applypar)\t.   B Jones: table=exms_cleanband.B select= interp=nearest,linear spwmap=[-1] calWt=true\n",
       "<br>2019-06-21 04:53:34\tINFO\tcalibrater::setsolve\tBeginning setsolve--(MSSelection version)-------\n",
       "<br>2019-06-21 04:53:34\tINFO\tCalibrater::setsolve\tArranging to SOLVE:\n",
       "<br>2019-06-21 04:53:34\tINFO\tCalibrater::setsolve\t.   G Jones: table=exms_cleanband.G append=false solint=inf refantmode='flex' refant='m043' minsnr=5 apmode=P solnorm=false\n",
       "<br>2019-06-21 04:53:34\tINFO\tcalibrater::solve\tBeginning solve-----------------------------\n",
       "<br>2019-06-21 04:53:34\tINFO\tCalibrater::solve\tThe following calibration terms are arranged for apply:\n",
       "<br>2019-06-21 04:53:34\tINFO\tCalibrater::solve\t.   B Jones: table=exms_cleanband.B select= interp=nearest,linear spwmap=[-1] calWt=true\n",
       "<br>2019-06-21 04:53:34\tINFO\tCalibrater::solve\t.   K Jones: table=exms_cleanband.K select= interp=nearest spwmap=[-1] calWt=false\n",
       "<br>2019-06-21 04:53:34\tINFO\tCalibrater::solve\tThe following calibration term is arranged for solve:\n",
       "<br>2019-06-21 04:53:34\tINFO\tCalibrater::solve\t.   G Jones: table=exms_cleanband.G append=false solint=inf refantmode='flex' refant='m043' minsnr=5 apmode=P solnorm=false\n",
       "<br>2019-06-21 04:53:34\tINFO\tChannelAverageTVI::parseConfiguration\tChannel bin is [-1]\n",
       "<br>2019-06-21 04:53:34\tINFO\tCalibrater::solve\tFor solint = inf, found 1 solution intervals.\n",
       "<br>2019-06-21 04:53:34\tINFO\tCalibrater::solve\t  Found good G Jones solutions in 1 solution intervals.\n",
       "<br>2019-06-21 04:53:34\tINFO\t\tApplying refant: m043 refantmode = flex (hold alternate refants' phase constant) when refant flagged\n",
       "<br>2019-06-21 04:53:34\tINFO\t\tEnforcing apmode on solutions.\n",
       "<br>2019-06-21 04:53:34\tINFO\t\tWriting solutions to table: exms_cleanband.G\n",
       "<br>2019-06-21 04:53:34\tINFO\tcalibrater::solve\tFinished solving.\n",
       "<br>2019-06-21 04:53:34\tINFO\tgaincal::::\tCalibration solve statistics per spw:  (expected/attempted/succeeded):\n",
       "<br>2019-06-21 04:53:34\tINFO\tgaincal::::\t  Spw 0: 1/1/1\n",
       "<br>2019-06-21 04:53:34\tINFO\tgaincal::::\t##### End Task: gaincal              #####\n",
       "<br>2019-06-21 04:53:34\tINFO\tgaincal::::+\t##########################################\n",
       "</div>"
      ]
     },
     "metadata": {},
     "output_type": "display_data"
    }
   ],
   "source": [
    "rmtables(gtable)\n",
    "\n",
    "gaincal(vis=msfile,\n",
    "        caltable=gtable,\n",
    "        field=g_cal,\n",
    "        solint='inf',\n",
    "        refant=ref_ant,\n",
    "        gaintype='G',\n",
    "        calmode='p',\n",
    "#        calmode='ap',\n",
    "#        append=True,\n",
    "        minblperant=1,\n",
    "        minsnr=5,\n",
    "        gaintable=[ktable, btable],\n",
    "        interp=['nearest', 'nearest'])"
   ]
  },
  {
   "cell_type": "code",
   "execution_count": 36,
   "metadata": {},
   "outputs": [
    {
     "data": {
      "image/png": "[encoded data removed]",
      "text/plain": [
       "<Figure size 432x288 with 1 Axes>"
      ]
     },
     "metadata": {
      "needs_background": "light"
     },
     "output_type": "display_data"
    },
    {
     "data": {
      "text/html": [
       "<button type=\"button\" class=\"btn btn-info\" data-toggle=\"collapse\" id=\"1561092859_92\" data-target=\"#log1561092859_92\" onclick=\"if ($('#'+this.id).html()=='Show log') {$('#'+this.id).html('Hide log')} else {$('#'+this.id).html('Show log')}; return false\">Show log</button> <div class=\"collapse\" id=\"log1561092859_92\">2019-06-21 04:54:20\tINFO\tplotcal::::\t\n",
       "<br>2019-06-21 04:54:20\tINFO\tplotcal::::+\t##########################################\n",
       "<br>2019-06-21 04:54:20\tINFO\tplotcal::::+\t##### Begin Task: plotcal            #####\n",
       "<br>2019-06-21 04:54:20\tINFO\tplotcal::::\tplotcal(caltable=\"exms_cleanband.G\",xaxis=\"time\",yaxis=\"amp\",poln=\"\",field=\"\",\n",
       "<br>2019-06-21 04:54:20\tINFO\tplotcal::::+\t        antenna=\"\",spw=\"\",timerange=\"\",subplot=111,overplot=False,\n",
       "<br>2019-06-21 04:54:20\tINFO\tplotcal::::+\t        clearpanel=\"Auto\",iteration=\"\",plotrange=[],showflags=False,plotsymbol=\"o\",\n",
       "<br>2019-06-21 04:54:20\tINFO\tplotcal::::+\t        plotcolor=\"blue\",markersize=5.0,fontsize=10.0,showgui=True,figfile=\"\")\n",
       "<br>2019-06-21 04:54:20\tINFO\ttableplot::setgui\tSwitching to GUI mode. All current plots  will be reset.\n",
       "<br>2019-06-21 04:54:20\tINFO\tplotcal::createCalTab \tDetected a NewCalTable!\n",
       "<br>2019-06-21 04:54:20\tINFO\t\tNow get the data\n",
       "<br>2019-06-21 04:54:20\tINFO\t\tDone Processing data ... \n",
       "<br>2019-06-21 04:54:20\tINFO\tplotcal::::\t##### End Task: plotcal              #####\n",
       "<br>2019-06-21 04:54:20\tINFO\tplotcal::::+\t##########################################\n",
       "</div>"
      ]
     },
     "metadata": {},
     "output_type": "display_data"
    }
   ],
   "source": [
    "plotcal(caltable = gtable, xaxis = 'time', yaxis = 'amp')"
   ]
  },
  {
   "cell_type": "code",
   "execution_count": 37,
   "metadata": {},
   "outputs": [
    {
     "data": {
      "image/png": "[encoded data removed]",
      "text/plain": [
       "<Figure size 432x288 with 1 Axes>"
      ]
     },
     "metadata": {
      "needs_background": "light"
     },
     "output_type": "display_data"
    },
    {
     "data": {
      "text/html": [
       "<button type=\"button\" class=\"btn btn-info\" data-toggle=\"collapse\" id=\"1561093046_85\" data-target=\"#log1561093046_85\" onclick=\"if ($('#'+this.id).html()=='Show log') {$('#'+this.id).html('Hide log')} else {$('#'+this.id).html('Show log')}; return false\">Show log</button> <div class=\"collapse\" id=\"log1561093046_85\">2019-06-21 04:57:27\tINFO\tplotcal::::\t\n",
       "<br>2019-06-21 04:57:27\tINFO\tplotcal::::+\t##########################################\n",
       "<br>2019-06-21 04:57:27\tINFO\tplotcal::::+\t##### Begin Task: plotcal            #####\n",
       "<br>2019-06-21 04:57:27\tINFO\tplotcal::::\tplotcal(caltable=\"exms_cleanband.G\",xaxis=\"time\",yaxis=\"phase\",poln=\"\",field=\"\",\n",
       "<br>2019-06-21 04:57:27\tINFO\tplotcal::::+\t        antenna=\"\",spw=\"\",timerange=\"\",subplot=111,overplot=False,\n",
       "<br>2019-06-21 04:57:27\tINFO\tplotcal::::+\t        clearpanel=\"Auto\",iteration=\"\",plotrange=[],showflags=False,plotsymbol=\"o\",\n",
       "<br>2019-06-21 04:57:27\tINFO\tplotcal::::+\t        plotcolor=\"blue\",markersize=5.0,fontsize=10.0,showgui=True,figfile=\"\")\n",
       "<br>2019-06-21 04:57:27\tINFO\ttableplot::setgui\tSwitching to GUI mode. All current plots  will be reset.\n",
       "<br>2019-06-21 04:57:27\tINFO\tplotcal::createCalTab \tDetected a NewCalTable!\n",
       "<br>2019-06-21 04:57:27\tINFO\t\tNow get the data\n",
       "<br>2019-06-21 04:57:27\tINFO\t\tDone Processing data ... \n",
       "<br>2019-06-21 04:57:27\tINFO\tplotcal::::\t##### End Task: plotcal              #####\n",
       "<br>2019-06-21 04:57:27\tINFO\tplotcal::::+\t##########################################\n",
       "</div>"
      ]
     },
     "metadata": {},
     "output_type": "display_data"
    }
   ],
   "source": [
    "plotcal(caltable = gtable, xaxis = 'time', yaxis = 'phase')"
   ]
  },
  {
   "cell_type": "markdown",
   "metadata": {},
   "source": [
    "Derive the scale factor difference between the primary and secondary calibrator sources. Apply scale factor to secondary calibrator to obtain true flux density for this source.\n",
    "The task fluxscale performs the bootstrapping and calculates the scale factor.\n"
   ]
  },
  {
   "cell_type": "code",
   "execution_count": 43,
   "metadata": {},
   "outputs": [
    {
     "data": {
      "text/plain": [
       "{'0': {'0': {'fluxd': array([ 15.06729696,   0.        ,   0.        ,   0.        ])},\n",
       "  'fieldName': 'PKS1934-63'},\n",
       " 'format': \"{field Id: {spw Id: {fluxd: [I,Q,U,V] in Jy}, 'fieldName':field name }}\"}"
      ]
     },
     "execution_count": 43,
     "metadata": {},
     "output_type": "execute_result"
    },
    {
     "data": {
      "text/html": [
       "<button type=\"button\" class=\"btn btn-info\" data-toggle=\"collapse\" id=\"1561093214_94\" data-target=\"#log1561093214_94\" onclick=\"if ($('#'+this.id).html()=='Show log') {$('#'+this.id).html('Hide log')} else {$('#'+this.id).html('Show log')}; return false\">Show log</button> <div class=\"collapse\" id=\"log1561093214_94\">2019-06-21 05:00:15\tINFO\trmtables::::\t\n",
       "<br>2019-06-21 05:00:15\tINFO\trmtables::::+\t##########################################\n",
       "<br>2019-06-21 05:00:15\tINFO\trmtables::::+\t##### Begin Task: rmtables           #####\n",
       "<br>2019-06-21 05:00:15\tINFO\trmtables::::\trmtables(tablenames=\"exms_cleanband.fluxscale\")\n",
       "<br>2019-06-21 05:00:15\tWARN\trmtables::utils::removetable\tEmpty filename\n",
       "<br>2019-06-21 05:00:15\tWARN\trmtables::utils::removetable\tCannot delete file  because it's not a table.\n",
       "<br>2019-06-21 05:00:15\tINFO\trmtables::::\t##### End Task: rmtables             #####\n",
       "<br>2019-06-21 05:00:15\tINFO\trmtables::::+\t##########################################\n",
       "<br>2019-06-21 05:00:15\tINFO\tsetjy::::\t\n",
       "<br>2019-06-21 05:00:15\tINFO\tsetjy::::+\t##########################################\n",
       "<br>2019-06-21 05:00:15\tINFO\tsetjy::::+\t##### Begin Task: setjy              #####\n",
       "<br>2019-06-21 05:00:15\tINFO\tsetjy::::\tsetjy(vis=\"exms_cleanband.ms\",field=\"PKS1934-63\",spw=\"\",selectdata=False,timerange=\"\",\n",
       "<br>2019-06-21 05:00:15\tINFO\tsetjy::::+\t        scan=\"\",intent=\"\",observation=\"\",scalebychan=True,standard=\"Perley-Butler 2010\",\n",
       "<br>2019-06-21 05:00:15\tINFO\tsetjy::::+\t        model=\"\",modimage=\"\",listmodels=False,fluxdensity=-1,spix=0.0,\n",
       "<br>2019-06-21 05:00:15\tINFO\tsetjy::::+\t        reffreq=\"1GHz\",polindex=[],polangle=[],rotmeas=0.0,fluxdict={},\n",
       "<br>2019-06-21 05:00:15\tINFO\tsetjy::::+\t        useephemdir=False,interpolation=\"nearest\",usescratch=False,ismms=False)\n",
       "<br>2019-06-21 05:00:15\tINFO\tsetjy::::\t{'field': 'PKS1934-63'}\n",
       "<br>2019-06-21 05:00:15\tINFO\tImager::open() \tOpening MeasurementSet /home/jupyter/MeerKAT-Cookbook/casa/exms_cleanband.ms\n",
       "<br>2019-06-21 05:00:15\tINFO\tsetjy::::\tCASA Version 5.5.0-149  \n",
       "<br>2019-06-21 05:00:15\tINFO\tsetjy::::\t\n",
       "<br>2019-06-21 05:00:15\tINFO\timager::setjy()\tUsing channel dependent flux densities\n",
       "<br>2019-06-21 05:00:15\tINFO\tFluxStdSrcs::srcNameToEnum\tTrying to determine source match by position...\n",
       "<br>2019-06-21 05:00:15\tINFO\tFluxStdSrcs::srcNameToEnum\tFound 1934-638 as a match for the input field, PKS1934-63 in the cone search within radius of 4.8481367e-06rad\n",
       "<br>2019-06-21 05:00:15\tINFO\timager::setjy()\t  PKS1934-63 (fld ind 0) spw 0  [I=15.067, Q=0, U=0, V=0] Jy @ 1.3053e+09Hz, (Perley-Butler 2010)\n",
       "<br>2019-06-21 05:00:15\tINFO\timager::setjy()\tWill clear any existing model with matching field=PKS1934-63 and spw=*\n",
       "<br>2019-06-21 05:00:15\tINFO\t\tClearing model records in MS header for selected fields.\n",
       "<br>2019-06-21 05:00:15\tINFO\t\t PKS1934-63 (id = 0) deleted.\n",
       "<br>2019-06-21 05:00:15\tINFO\timager::ft() \tFourier transforming: replacing visibility model header\n",
       "<br>2019-06-21 05:00:15\tINFO\timager::createSkyEquation() \tProcessing after subtracting componentlist /home/jupyter/MeerKAT-Cookbook/casa/exms_cleanband.ms_setjy_spw0_PKS1934-63_1.30532GHz58508.5d.cl\n",
       "<br>2019-06-21 05:00:15\tINFO\timager::createFTMachine() \tPerforming interferometric gridding...\n",
       "<br>2019-06-21 05:00:15\tINFO\tsetjy::::\t##### End Task: setjy                #####\n",
       "<br>2019-06-21 05:00:15\tINFO\tsetjy::::+\t##########################################\n",
       "</div>"
      ]
     },
     "metadata": {},
     "output_type": "display_data"
    }
   ],
   "source": [
    "rmtables(ftable)\n",
    "\n",
    "#fluxscale(vis=msfile,\n",
    "#          caltable=gtable,\n",
    "#          fluxtable=ftable,\n",
    "#          reference=f_cal,\n",
    "#          transfer=g_cal)\n",
    "          \n",
    "setjy(vis=msfile,\n",
    "      field=f_cal,\n",
    "      standard='Perley-Butler 2010')"
   ]
  },
  {
   "cell_type": "code",
   "execution_count": 44,
   "metadata": {},
   "outputs": [
    {
     "data": {
      "image/png": "[encoded data removed]",
      "text/plain": [
       "<Figure size 432x288 with 1 Axes>"
      ]
     },
     "metadata": {
      "needs_background": "light"
     },
     "output_type": "display_data"
    },
    {
     "data": {
      "text/html": [
       "<button type=\"button\" class=\"btn btn-info\" data-toggle=\"collapse\" id=\"1561093253_45\" data-target=\"#log1561093253_45\" onclick=\"if ($('#'+this.id).html()=='Show log') {$('#'+this.id).html('Hide log')} else {$('#'+this.id).html('Show log')}; return false\">Show log</button> <div class=\"collapse\" id=\"log1561093253_45\">2019-06-21 05:00:53\tINFO\tplotcal::::\t\n",
       "<br>2019-06-21 05:00:53\tINFO\tplotcal::::+\t##########################################\n",
       "<br>2019-06-21 05:00:53\tINFO\tplotcal::::+\t##### Begin Task: plotcal            #####\n",
       "<br>2019-06-21 05:00:53\tINFO\tplotcal::::\tplotcal(caltable=\"exms_cleanband.G\",xaxis=\"time\",yaxis=\"amp\",poln=\"\",field=\"\",\n",
       "<br>2019-06-21 05:00:53\tINFO\tplotcal::::+\t        antenna=\"\",spw=\"\",timerange=\"\",subplot=111,overplot=False,\n",
       "<br>2019-06-21 05:00:53\tINFO\tplotcal::::+\t        clearpanel=\"Auto\",iteration=\"\",plotrange=[],showflags=False,plotsymbol=\"o\",\n",
       "<br>2019-06-21 05:00:53\tINFO\tplotcal::::+\t        plotcolor=\"blue\",markersize=5.0,fontsize=10.0,showgui=True,figfile=\"\")\n",
       "<br>2019-06-21 05:00:53\tINFO\ttableplot::setgui\tSwitching to GUI mode. All current plots  will be reset.\n",
       "<br>2019-06-21 05:00:53\tINFO\tplotcal::createCalTab \tDetected a NewCalTable!\n",
       "<br>2019-06-21 05:00:53\tINFO\t\tNow get the data\n",
       "<br>2019-06-21 05:00:53\tINFO\t\tDone Processing data ... \n",
       "<br>2019-06-21 05:00:53\tINFO\tplotcal::::\t##### End Task: plotcal              #####\n",
       "<br>2019-06-21 05:00:53\tINFO\tplotcal::::+\t##########################################\n",
       "</div>"
      ]
     },
     "metadata": {},
     "output_type": "display_data"
    }
   ],
   "source": [
    "plotcal(caltable = gtable, xaxis = 'time', yaxis = 'amp')"
   ]
  },
  {
   "cell_type": "markdown",
   "metadata": {},
   "source": [
    "#### Apply calibration"
   ]
  },
  {
   "cell_type": "code",
   "execution_count": null,
   "metadata": {},
   "outputs": [],
   "source": []
  },
  {
   "cell_type": "code",
   "execution_count": null,
   "metadata": {},
   "outputs": [],
   "source": []
  },
  {
   "cell_type": "code",
   "execution_count": null,
   "metadata": {},
   "outputs": [],
   "source": []
  },
  {
   "cell_type": "markdown",
   "metadata": {},
   "source": []
  },
  {
   "cell_type": "markdown",
   "metadata": {},
   "source": [
    "delay calibraion\n",
    "The first stage of data processing in aperture synthesis is to determine the amplitude gain and the phase shift due to each individual antenna (and the atmosphere above it), which together form the complex gain of the antenna.\n"
   ]
  },
  {
   "cell_type": "markdown",
   "metadata": {},
   "source": []
  },
  {
   "cell_type": "markdown",
   "metadata": {},
   "source": [
    "Various gain calibrator solutions exists\n",
    "flux calibration (strong calibrator with known flux): in order to set the flux density scale correctly, use observations of at least one flux density calibrator (can be used for bandpass calibration as well) whose flux density is known -- use one of a few scans and done only once.\n",
    "bandpass calibration (strong calibrator source of known spectrum): the bandpass response of the instrument varies across the frequency band, but is fairly stable in time, thus it needs to be solved for only once in an observing run.\n",
    "gain/phase calibration (point-like source): the variation in amplitude and phase response as a function of time for calibrators which are known to be point-like sources.\n"
   ]
  },
  {
   "cell_type": "code",
   "execution_count": null,
   "metadata": {},
   "outputs": [],
   "source": [
    "Start by re-initializes calibrated visibility data in a given MS and doing basic flagging:\n",
    "Create all the columns and tables for the measurement set\n",
    "clearcal(msfile)\n"
   ]
  },
  {
   "cell_type": "code",
   "execution_count": null,
   "metadata": {},
   "outputs": [],
   "source": []
  },
  {
   "cell_type": "code",
   "execution_count": null,
   "metadata": {},
   "outputs": [],
   "source": []
  },
  {
   "cell_type": "code",
   "execution_count": null,
   "metadata": {},
   "outputs": [],
   "source": []
  },
  {
   "cell_type": "code",
   "execution_count": null,
   "metadata": {},
   "outputs": [],
   "source": []
  },
  {
   "cell_type": "code",
   "execution_count": null,
   "metadata": {},
   "outputs": [],
   "source": []
  },
  {
   "cell_type": "markdown",
   "metadata": {},
   "source": []
  },
  {
   "cell_type": "markdown",
   "metadata": {},
   "source": []
  },
  {
   "cell_type": "code",
   "execution_count": null,
   "metadata": {},
   "outputs": [],
   "source": [
    "plotms(vis=msfile, xaxis='freq', yaxis='amp', field='PKS1934-63', coloraxis='baseline', antenna='m010,m043,m053')"
   ]
  },
  {
   "cell_type": "code",
   "execution_count": null,
   "metadata": {},
   "outputs": [],
   "source": [
    "plotms(vis=msfile, xaxis='freq', yaxis='amp', field='PKS1934-63', coloraxis='baseline', antenna='m054')"
   ]
  },
  {
   "cell_type": "code",
   "execution_count": null,
   "metadata": {},
   "outputs": [],
   "source": [
    "plotms(vis=msfile, xaxis='time', yaxis='amp', field='PKS1934-63', coloraxis='baseline', antenna='m010,m043,m053')"
   ]
  },
  {
   "cell_type": "code",
   "execution_count": null,
   "metadata": {},
   "outputs": [],
   "source": [
    "plotms(vis=msfile, xaxis='time', yaxis='amp', field='PKS1934-63', coloraxis='baseline', antenna='m054')"
   ]
  },
  {
   "cell_type": "code",
   "execution_count": null,
   "metadata": {},
   "outputs": [],
   "source": [
    "plotms(vis=msfile, xaxis='time', yaxis='phase', field='PKS1934-63', coloraxis='baseline', avgchannel='3072', plotrange=[0,0,-180,180])"
   ]
  },
  {
   "cell_type": "code",
   "execution_count": null,
   "metadata": {},
   "outputs": [],
   "source": [
    "#plotms(vis=msfile, xaxis='freq', yaxis='amp', field='PKS1934-63', coloraxis='baseline')\n",
    "plotms(vis=msfile, xaxis='freq', yaxis='phase', field='PKS1934-63', coloraxis='baseline')"
   ]
  },
  {
   "cell_type": "code",
   "execution_count": null,
   "metadata": {},
   "outputs": [],
   "source": [
    "ref_ant = 'm043'"
   ]
  },
  {
   "cell_type": "markdown",
   "metadata": {},
   "source": [
    "### Inspecting the Data"
   ]
  },
  {
   "cell_type": "code",
   "execution_count": null,
   "metadata": {},
   "outputs": [],
   "source": [
    "# looking at amplitude (amp) to identify outliers\n",
    "#plotms(vis=msfile, xaxis='channel', yaxis='amp', field='PKS1934-63', plotfile='foo.png', coloraxis='baseline')\n",
    "plotms(vis=msfile, xaxis='channel', yaxis='amp', field='PKS1934-63', coloraxis='baseline')"
   ]
  },
  {
   "cell_type": "markdown",
   "metadata": {},
   "source": [
    "Viewing amplitude vs channel will show the passband for each target very clearly."
   ]
  },
  {
   "cell_type": "code",
   "execution_count": null,
   "metadata": {},
   "outputs": [],
   "source": [
    "plotms(vis=msfile, xaxis='freq', yaxis='amp', spw='0', field='PKS1934-63', coloraxis='baseline')"
   ]
  },
  {
   "cell_type": "markdown",
   "metadata": {},
   "source": [
    "For calibrator sources we expect values that are consistent across baselines and vary only slightly across channels. Thus plot amplitude for all baseline together.   \n",
    "Bandpass calibrator must have fairly stable amplitude over time."
   ]
  },
  {
   "cell_type": "markdown",
   "metadata": {},
   "source": [
    "`avgchannel`: Number of channels to average over, by choosing a value $\\geq$ number of channels, data will be averaged over all channels"
   ]
  },
  {
   "cell_type": "code",
   "execution_count": null,
   "metadata": {},
   "outputs": [],
   "source": [
    "plotms(vis=msfile, xaxis='time', yaxis='amp', field='PKS1934-63', coloraxis='baseline', avgchannel='3072')"
   ]
  },
  {
   "cell_type": "code",
   "execution_count": null,
   "metadata": {},
   "outputs": [],
   "source": [
    "plotms(vis=msfile, xaxis='time', yaxis='amp', correlation='XY', field='PKS1934-63', avgchannel='128')"
   ]
  },
  {
   "cell_type": "code",
   "execution_count": null,
   "metadata": {},
   "outputs": [],
   "source": [
    "plotms(vis=msfile, xaxis='time', yaxis='amp', correlation='YX', field='PKS1934-63', avgchannel='1536')"
   ]
  },
  {
   "cell_type": "code",
   "execution_count": null,
   "metadata": {},
   "outputs": [],
   "source": [
    "plotms(vis=msfile,xaxis='u', yaxis='v', coloraxis='field')"
   ]
  },
  {
   "cell_type": "markdown",
   "metadata": {},
   "source": [
    "If possible flag either all visibilities for some time interval, or all by antenna, rather than flagging individual baselines!    \n",
    "RFI are channel specific and may not appear in all data sets, these channels has to be flagged on a per baseline basis."
   ]
  },
  {
   "cell_type": "code",
   "execution_count": null,
   "metadata": {},
   "outputs": [],
   "source": []
  }
 ],
 "metadata": {
  "kernelspec": {
   "display_name": "Casa",
   "language": "casa",
   "name": "casapy"
  },
  "language_info": {
   "mimetype": "text/plain",
   "name": "Casa"
  }
 },
 "nbformat": 4,
 "nbformat_minor": 2
}
