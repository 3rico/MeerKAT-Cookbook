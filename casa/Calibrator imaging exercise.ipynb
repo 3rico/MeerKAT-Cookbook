{
 "cells": [
  {
   "cell_type": "markdown",
   "metadata": {},
   "source": [
    "Convert, inspect, flag and calibrate the exersize data set   \n",
    "Understand and explain various choices and implementations"
   ]
  },
  {
   "cell_type": "markdown",
   "metadata": {},
   "source": [
    "```\n",
    "mvftoms.py ../../example-data/1554279147/1554279147/1554279147_sdp_l0.full.rdb -o 1554279147.ms -f -a -C '2150,3150' --quack=3 -r 'm001' --flags 'static'\n",
    "```"
   ]
  },
  {
   "cell_type": "code",
   "execution_count": null,
   "metadata": {},
   "outputs": [],
   "source": [
    "import matplotlib.pyplot as plt"
   ]
  },
  {
   "cell_type": "code",
   "execution_count": null,
   "metadata": {},
   "outputs": [],
   "source": [
    "ls 1554279147.ms"
   ]
  },
  {
   "cell_type": "code",
   "execution_count": null,
   "metadata": {},
   "outputs": [],
   "source": [
    "msfile='1554279147.ms'"
   ]
  },
  {
   "cell_type": "code",
   "execution_count": null,
   "metadata": {
    "scrolled": true
   },
   "outputs": [],
   "source": [
    "listobs(vis=msfile)"
   ]
  },
  {
   "cell_type": "code",
   "execution_count": null,
   "metadata": {},
   "outputs": [],
   "source": [
    "flagdata(vis=msfile, mode='shadow');\n",
    "flagdata(vis=msfile, mode='elevation', lowerlimit = 15);\n",
    "flagdata(vis=msfile, mode='clip', clipminmax = [1e-5, 1000.0]);\n",
    "flagdata(vis=msfile, mode='clip', field='', clipzeros=True, flagbackup=False);"
   ]
  },
  {
   "cell_type": "code",
   "execution_count": null,
   "metadata": {
    "scrolled": true
   },
   "outputs": [],
   "source": [
    "# antenna positions\n",
    "plotants(vis=msfile)"
   ]
  },
  {
   "cell_type": "code",
   "execution_count": null,
   "metadata": {
    "scrolled": true
   },
   "outputs": [],
   "source": [
    "plotms(vis=msfile, xaxis='freq', yaxis='amp', coloraxis='corr')"
   ]
  },
  {
   "cell_type": "code",
   "execution_count": null,
   "metadata": {},
   "outputs": [],
   "source": [
    "f_cal='PKS1934-63'\n",
    "g_cal='PKS0408-65'\n",
    "\n",
    "ref_ant = 'm001'"
   ]
  },
  {
   "cell_type": "code",
   "execution_count": null,
   "metadata": {
    "scrolled": true
   },
   "outputs": [],
   "source": [
    "plotms(vis=msfile,\n",
    "       xaxis='freq',\n",
    "       yaxis='phase',\n",
    "       correlation='XX,YY',\n",
    "       field=f_cal,\n",
    "       coloraxis='baseline',\n",
    "       plotrange=[0,0,-180,180])"
   ]
  },
  {
   "cell_type": "code",
   "execution_count": null,
   "metadata": {},
   "outputs": [],
   "source": [
    "clearstat()\n",
    "clearcal(msfile)"
   ]
  },
  {
   "cell_type": "code",
   "execution_count": null,
   "metadata": {
    "scrolled": true
   },
   "outputs": [],
   "source": [
    "plotms(vis=msfile,\n",
    "       xaxis='time',\n",
    "       yaxis='amp',\n",
    "       correlation='XX,YY',\n",
    "       field=f_cal,\n",
    "       coloraxis='baseline')"
   ]
  },
  {
   "cell_type": "code",
   "execution_count": null,
   "metadata": {
    "scrolled": true
   },
   "outputs": [],
   "source": [
    "plotms(vis=msfile,\n",
    "       xaxis='time',\n",
    "       yaxis='phase',\n",
    "       field=f_cal,\n",
    "       coloraxis='baseline',\n",
    "       plotrange=[0,0,-180,180])"
   ]
  },
  {
   "cell_type": "code",
   "execution_count": null,
   "metadata": {},
   "outputs": [],
   "source": [
    "setjy(vis=msfile,\n",
    "      field=f_cal,\n",
    "      spw='0',\n",
    "      scalebychan=True,\n",
    "      standard='Perley-Butler 2010',\n",
    "      fluxdensity=-1)"
   ]
  },
  {
   "cell_type": "code",
   "execution_count": null,
   "metadata": {},
   "outputs": [],
   "source": [
    "gtable0 = msfile + '.G0'\n",
    "rmtables(gtable0)\n",
    "\n",
    "gaincal(vis=msfile,\n",
    "        caltable=gtable0,\n",
    "        field=f_cal,\n",
    "        solint='inf',\n",
    "        refant=ref_ant,\n",
    "        spw='0:2150~3150',\n",
    "        gaintype='G',\n",
    "        calmode='p',\n",
    "        minblperant=2,\n",
    "        minsnr=3.0,\n",
    "        gaintable=[''])"
   ]
  },
  {
   "cell_type": "code",
   "execution_count": null,
   "metadata": {},
   "outputs": [],
   "source": [
    "plt.figure(figsize=[10,8])\n",
    "plotcal(caltable=gtable0,\n",
    "        xaxis='time',\n",
    "        yaxis='phase',\n",
    "        field=f_cal,\n",
    "        spw = '0',\n",
    "        plotrange = [-1, -1, -180, 180],\n",
    "        fontsize=8,\n",
    "        overplot=True,\n",
    "        showgui=False)"
   ]
  },
  {
   "cell_type": "code",
   "execution_count": null,
   "metadata": {},
   "outputs": [],
   "source": [
    "ktable = msfile + '.K'\n",
    "rmtables(ktable)\n",
    "\n",
    "#Solving for delays\n",
    "gaincal(vis=msfile,\n",
    "        caltable=ktable,\n",
    "        field=f_cal,\n",
    "        gaintype='K',\n",
    "        solint='inf',\n",
    "        refant=ref_ant,\n",
    "        spw='0:2150~3150',\n",
    "        combine='scan',\n",
    "        minblperant=2,\n",
    "        solnorm=False,\n",
    "        minsnr=3.0,\n",
    "        gaintable=[gtable0])"
   ]
  },
  {
   "cell_type": "code",
   "execution_count": null,
   "metadata": {},
   "outputs": [],
   "source": [
    "plotcal(caltable = ktable, xaxis = 'antenna', yaxis = 'delay')"
   ]
  },
  {
   "cell_type": "code",
   "execution_count": null,
   "metadata": {},
   "outputs": [],
   "source": [
    "btable = msfile + '.B'\n",
    "rmtables(btable)\n",
    "\n",
    "# Solve for the bandpass response -- complex gain as a function of channel across the passband.\n",
    "bandpass(vis=msfile,\n",
    "         caltable=btable,\n",
    "         field=f_cal,\n",
    "         refant=ref_ant,\n",
    "         spw='0:2150~3150',\n",
    "         solnorm=True,\n",
    "         combine='scan',\n",
    "         solint='inf',\n",
    "         minblperant=2,\n",
    "         bandtype='B',\n",
    "         minsnr=3.0,\n",
    "         gaintable=[gtable0, ktable])"
   ]
  },
  {
   "cell_type": "code",
   "execution_count": null,
   "metadata": {},
   "outputs": [],
   "source": [
    "plotcal(caltable = btable, xaxis = 'chan', yaxis = 'phase')"
   ]
  },
  {
   "cell_type": "code",
   "execution_count": null,
   "metadata": {},
   "outputs": [],
   "source": [
    "plotcal(caltable = btable, xaxis = 'chan', yaxis = 'amp')"
   ]
  },
  {
   "cell_type": "code",
   "execution_count": null,
   "metadata": {},
   "outputs": [],
   "source": [
    "applycal(vis=msfile,\n",
    "         gaintable=[btable, ktable],\n",
    "         calwt=False,\n",
    "         applymode='calflag')"
   ]
  },
  {
   "cell_type": "code",
   "execution_count": null,
   "metadata": {
    "scrolled": true
   },
   "outputs": [],
   "source": [
    "plotms(vis=msfile,\n",
    "       xaxis='time',\n",
    "       yaxis='amp',\n",
    "       field=f_cal,\n",
    "       coloraxis='baseline',\n",
    "       plotrange=[0,0,-180,180])"
   ]
  },
  {
   "cell_type": "code",
   "execution_count": null,
   "metadata": {},
   "outputs": [],
   "source": [
    "os.system('rm -rf '+msfile+'/table.lock');"
   ]
  },
  {
   "cell_type": "code",
   "execution_count": null,
   "metadata": {},
   "outputs": [],
   "source": [
    "gtable = msfile + '.G'\n",
    "rmtables(gtable)\n",
    "\n",
    "gaincal(vis=msfile,\n",
    "        caltable=gtable,\n",
    "        field=f_cal,\n",
    "        solint='int',\n",
    "        refant=ref_ant,\n",
    "        spw='0:2150~3150',\n",
    "        combine='scan',\n",
    "        gaintype='G',\n",
    "        calmode='ap',\n",
    "        minblperant=2,\n",
    "        minsnr=1.0,\n",
    "        solnorm=False,\n",
    "        gaintable=[btable, ktable])"
   ]
  },
  {
   "cell_type": "code",
   "execution_count": null,
   "metadata": {},
   "outputs": [],
   "source": [
    "plotcal(caltable = gtable, xaxis = 'time', yaxis = 'amp')"
   ]
  },
  {
   "cell_type": "code",
   "execution_count": null,
   "metadata": {},
   "outputs": [],
   "source": [
    "plotcal(caltable = gtable, xaxis = 'time', yaxis = 'phase')"
   ]
  },
  {
   "cell_type": "code",
   "execution_count": null,
   "metadata": {},
   "outputs": [],
   "source": [
    "applycal(vis=msfile,\n",
    "         field=f_cal,\n",
    "         gaintable=[ktable, btable, gtable],\n",
    "         gainfield=[f_cal, f_cal, f_cal])"
   ]
  },
  {
   "cell_type": "code",
   "execution_count": null,
   "metadata": {
    "scrolled": true
   },
   "outputs": [],
   "source": [
    "plotms(vis=msfile,\n",
    "       field=f_cal,\n",
    "       xaxis='uvwave',\n",
    "       yaxis='amp',\n",
    "       correlation='XX,YY',\n",
    "       ydatacolumn='corrected',\n",
    "       coloraxis = 'corr')"
   ]
  },
  {
   "cell_type": "code",
   "execution_count": null,
   "metadata": {
    "scrolled": true
   },
   "outputs": [],
   "source": [
    "plotms(vis=msfile,\n",
    "       field=f_cal,\n",
    "       xaxis='uvwave',\n",
    "       yaxis='phase',\n",
    "       correlation='XX,YY',\n",
    "       ydatacolumn='corrected',\n",
    "       coloraxis = 'corr')"
   ]
  },
  {
   "cell_type": "code",
   "execution_count": null,
   "metadata": {},
   "outputs": [],
   "source": [
    "split(vis=msfile, outputvis='PKS1934-63.ms', field=f_cal, datacolumn='corrected')"
   ]
  },
  {
   "cell_type": "code",
   "execution_count": null,
   "metadata": {},
   "outputs": [],
   "source": [
    "clean(vis='PKS1934-63.ms',\n",
    "      imagename = 'PKS1934-63',\n",
    "      niter=20000,\n",
    "      threshold='0.065Jy',\n",
    "      psfmode='hogbom',\n",
    "      imsize = 1024,\n",
    "      cell='2.0arcsec',\n",
    "      stokes = 'I',\n",
    "      weighting='briggs',\n",
    "      robust=0.0)"
   ]
  },
  {
   "cell_type": "code",
   "execution_count": null,
   "metadata": {},
   "outputs": [],
   "source": [
    "viewer('PKS1934-63.image')"
   ]
  },
  {
   "cell_type": "code",
   "execution_count": null,
   "metadata": {},
   "outputs": [],
   "source": [
    "gtable1 = msfile + '.G1'\n",
    "rmtables(gtable1)\n",
    "\n",
    "gaincal(vis=msfile,\n",
    "        caltable=gtable1,\n",
    "        field=g_cal,\n",
    "        solint='int',\n",
    "        refant=ref_ant,\n",
    "        spw='0:2150~3150',\n",
    "        combine='scan',\n",
    "        gaintype='G',\n",
    "        calmode='ap',\n",
    "        minblperant=2,\n",
    "        minsnr=1,\n",
    "        solnorm=False,\n",
    "        append=True,\n",
    "        gaintable=[btable, ktable])"
   ]
  },
  {
   "cell_type": "code",
   "execution_count": null,
   "metadata": {
    "scrolled": true
   },
   "outputs": [],
   "source": [
    "pl.figure(figsize=[10,8])\n",
    "plotcal(caltable=gtable1,\n",
    "        xaxis='time',\n",
    "        yaxis='phase',\n",
    "        field=g_cal,\n",
    "        spw='0',\n",
    "        plotrange=[-1, -1, -180, 180],\n",
    "        showgui=False)"
   ]
  },
  {
   "cell_type": "code",
   "execution_count": null,
   "metadata": {},
   "outputs": [],
   "source": [
    "setjy(vis=msfile,\n",
    "      field=f_cal,\n",
    "      scalebychan=True,\n",
    "      standard='Perley-Butler 2010',\n",
    "      fluxdensity=-1)"
   ]
  },
  {
   "cell_type": "code",
   "execution_count": null,
   "metadata": {},
   "outputs": [],
   "source": [
    "ftable = msfile + '.F'\n",
    "rmtables(ftable)\n",
    "\n",
    "fluxscale(vis=msfile,\n",
    "          refspwmap=[0],\n",
    "          caltable=gtable1,\n",
    "          fluxtable=ftable,\n",
    "          reference=[f_cal],\n",
    "          transfer=[g_cal],\n",
    "          append=False)"
   ]
  },
  {
   "cell_type": "code",
   "execution_count": null,
   "metadata": {},
   "outputs": [],
   "source": [
    "applycal(vis=msfile,\n",
    "         field=g_cal,\n",
    "         gaintable=[ktable, btable, ftable],\n",
    "         gainfield=[f_cal, f_cal, f_cal])"
   ]
  },
  {
   "cell_type": "code",
   "execution_count": null,
   "metadata": {},
   "outputs": [],
   "source": [
    "split(vis=msfile, outputvis='PKS0408-65.ms', field=g_cal, datacolumn='corrected')"
   ]
  },
  {
   "cell_type": "code",
   "execution_count": null,
   "metadata": {},
   "outputs": [],
   "source": [
    "clean(vis='PKS0408-65.ms',\n",
    "      imagename = 'PKS0408-65',\n",
    "      niter=20000,\n",
    "      threshold='0.065Jy',\n",
    "      psfmode='hogbom',\n",
    "      imsize = 1024,\n",
    "      cell='2.0arcsec',\n",
    "      stokes = 'I',\n",
    "      weighting='briggs',\n",
    "      robust=0.0)"
   ]
  },
  {
   "cell_type": "code",
   "execution_count": null,
   "metadata": {},
   "outputs": [],
   "source": [
    "viewer('PKS0408-65.image')"
   ]
  }
 ],
 "metadata": {
  "kernelspec": {
   "display_name": "Casa",
   "language": "casa",
   "name": "casapy"
  },
  "language_info": {
   "mimetype": "text/plain",
   "name": "Casa"
  }
 },
 "nbformat": 4,
 "nbformat_minor": 2
}
