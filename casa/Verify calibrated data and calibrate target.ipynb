{
 "cells": [
  {
   "cell_type": "code",
   "execution_count": null,
   "metadata": {},
   "outputs": [],
   "source": [
    "msfile = 'ngc3621.ms'\n",
    "prefix='ngc3621'\n",
    "\n",
    "target='NGC3621'\n",
    "g_cal='1117-248'\n",
    "b_cal='0408-65'\n",
    "f_cal='0408-65'\n",
    "\n",
    "ktable = prefix + '.K'\n",
    "btable = prefix + '.B'\n",
    "gtable = prefix + '.G'\n",
    "ftable = prefix + '.flux'"
   ]
  },
  {
   "cell_type": "markdown",
   "metadata": {},
   "source": [
    "### Verify efficiency of calibration and flagging"
   ]
  },
  {
   "cell_type": "code",
   "execution_count": null,
   "metadata": {
    "scrolled": true
   },
   "outputs": [],
   "source": [
    "plotms(vis=msfile,\n",
    "       xaxis='imag',\n",
    "       yaxis='real',\n",
    "       correlation='XX,YY',\n",
    "       xdatacolumn='corrected',\n",
    "       ydatacolumn='corrected',\n",
    "       field=f_cal,\n",
    "       avgscan=False,\n",
    "       coloraxis='scan')"
   ]
  },
  {
   "cell_type": "code",
   "execution_count": null,
   "metadata": {
    "scrolled": true
   },
   "outputs": [],
   "source": [
    "plotms(vis=msfile,\n",
    "       xaxis='real',\n",
    "       yaxis='imag',\n",
    "       correlation='XX,YY',\n",
    "       xdatacolumn='corrected',\n",
    "       ydatacolumn='corrected',\n",
    "       field=g_cal,\n",
    "       avgscan=False,\n",
    "       coloraxis='scan')"
   ]
  },
  {
   "cell_type": "code",
   "execution_count": null,
   "metadata": {
    "scrolled": true
   },
   "outputs": [],
   "source": [
    "plotms(vis=msfile,\n",
    "       xaxis='phase',\n",
    "       yaxis='amp',\n",
    "       correlation='XX,YY',\n",
    "       xdatacolumn='corrected',\n",
    "       ydatacolumn='corrected',\n",
    "       field=f_cal,\n",
    "       avgscan=False,\n",
    "       coloraxis='corr')"
   ]
  },
  {
   "cell_type": "code",
   "execution_count": null,
   "metadata": {
    "scrolled": false
   },
   "outputs": [],
   "source": [
    "plotms(vis=msfile,\n",
    "       xaxis='amp',\n",
    "       yaxis='phase',\n",
    "       correlation='XX,YY',\n",
    "       xdatacolumn='corrected',\n",
    "       ydatacolumn='corrected',\n",
    "       field=g_cal,\n",
    "       avgscan=False,\n",
    "       coloraxis='corr')"
   ]
  },
  {
   "cell_type": "code",
   "execution_count": null,
   "metadata": {
    "scrolled": true
   },
   "outputs": [],
   "source": [
    "plotms(vis=msfile,\n",
    "       xaxis='uvwave',\n",
    "       yaxis='amp',\n",
    "       correlation='XX,YY',\n",
    "       xdatacolumn='corrected',\n",
    "       ydatacolumn='corrected',\n",
    "       field=f_cal,\n",
    "       avgscan=False,\n",
    "       coloraxis='corr')"
   ]
  },
  {
   "cell_type": "code",
   "execution_count": null,
   "metadata": {
    "scrolled": true
   },
   "outputs": [],
   "source": [
    "plotms(vis=msfile,\n",
    "       xaxis='uvwave',\n",
    "       yaxis='amp',\n",
    "       correlation='XX,YY',\n",
    "       xdatacolumn='corrected',\n",
    "       ydatacolumn='corrected',\n",
    "       field=g_cal,\n",
    "       avgscan=False,\n",
    "       coloraxis='corr')"
   ]
  },
  {
   "cell_type": "code",
   "execution_count": null,
   "metadata": {
    "scrolled": true
   },
   "outputs": [],
   "source": [
    "plotms(vis=msfile,\n",
    "       xaxis='uvwave',\n",
    "       yaxis='phase',\n",
    "       correlation='XX,YY',\n",
    "       xdatacolumn='corrected',\n",
    "       ydatacolumn='corrected',\n",
    "       field=f_cal,\n",
    "       avgscan=False,\n",
    "       coloraxis='corr')"
   ]
  },
  {
   "cell_type": "code",
   "execution_count": null,
   "metadata": {
    "scrolled": true
   },
   "outputs": [],
   "source": [
    "plotms(vis=msfile,\n",
    "       xaxis='uvwave',\n",
    "       yaxis='phase',\n",
    "       correlation='XX,YY',\n",
    "       xdatacolumn='corrected',\n",
    "       ydatacolumn='corrected',\n",
    "       field=g_cal,\n",
    "       avgscan=False,\n",
    "       coloraxis='corr')"
   ]
  },
  {
   "cell_type": "code",
   "execution_count": null,
   "metadata": {
    "scrolled": true
   },
   "outputs": [],
   "source": [
    "plotms(vis=msfile,\n",
    "       xaxis='scan',\n",
    "       yaxis='amp',\n",
    "       correlation='XX,YY',\n",
    "       xdatacolumn='corrected',\n",
    "       ydatacolumn='corrected',\n",
    "       field=f_cal+','+g_cal,\n",
    "       avgscan=False,\n",
    "       coloraxis='corr')"
   ]
  },
  {
   "cell_type": "code",
   "execution_count": null,
   "metadata": {
    "scrolled": true
   },
   "outputs": [],
   "source": [
    "plotms(vis=msfile,\n",
    "       xaxis='baseline',\n",
    "       yaxis='amp',\n",
    "       correlation='XX,YY',\n",
    "       xdatacolumn='corrected',\n",
    "       ydatacolumn='corrected',\n",
    "       field=f_cal+','+g_cal,\n",
    "       avgscan=False,\n",
    "       coloraxis='corr')"
   ]
  },
  {
   "cell_type": "markdown",
   "metadata": {},
   "source": [
    "### Inspect data for flagging after antenna based calibration"
   ]
  },
  {
   "cell_type": "code",
   "execution_count": null,
   "metadata": {
    "scrolled": true
   },
   "outputs": [],
   "source": [
    "plotms(vis=msfile,\n",
    "       xaxis='channel',\n",
    "       yaxis='phase',\n",
    "       averagedata=True,\n",
    "       avgtime='3300',\n",
    "       ydatacolumn='corrected',\n",
    "       avgbaseline=True,\n",
    "       correlation='XX,YY',\n",
    "       field=','.join((f_cal,g_cal)),\n",
    "       coloraxis='field',\n",
    "       )"
   ]
  },
  {
   "cell_type": "code",
   "execution_count": null,
   "metadata": {
    "scrolled": true
   },
   "outputs": [],
   "source": [
    "plotms(vis=msfile,\n",
    "       xaxis='channel',\n",
    "       yaxis='amp',\n",
    "       correlation='XX,YY',\n",
    "       ydatacolumn='corrected',\n",
    "       field=','.join((f_cal,g_cal)),\n",
    "       coloraxis='field',\n",
    "       averagedata=True,\n",
    "       avgtime='3300',\n",
    "       avgbaseline=True)"
   ]
  },
  {
   "cell_type": "code",
   "execution_count": null,
   "metadata": {
    "scrolled": true
   },
   "outputs": [],
   "source": [
    "plotms(vis=msfile,\n",
    "       xaxis='time',\n",
    "       yaxis='amp',\n",
    "       correlation='XX,YY',\n",
    "       ydatacolumn='corrected',\n",
    "       field=','.join((f_cal,g_cal)),\n",
    "       coloraxis='field',\n",
    "       averagedata=True,\n",
    "       avgbaseline=True,\n",
    "       avgchannel='4096')"
   ]
  },
  {
   "cell_type": "markdown",
   "metadata": {},
   "source": [
    "### Inspect target after antenna based calibration"
   ]
  },
  {
   "cell_type": "code",
   "execution_count": null,
   "metadata": {},
   "outputs": [],
   "source": [
    "applycal(vis=msfile,\n",
    "         field=target,\n",
    "         gaintable=[ftable, btable, ktable],\n",
    "         gainfield=[g_cal, b_cal, f_cal],\n",
    "         interp=['', 'nearest', ''],\n",
    "         calwt=False,\n",
    "         applymode='calflag')"
   ]
  },
  {
   "cell_type": "code",
   "execution_count": null,
   "metadata": {
    "scrolled": true
   },
   "outputs": [],
   "source": [
    "plotms(vis=msfile,\n",
    "       xaxis='channel',\n",
    "       yaxis='phase',\n",
    "       ydatacolumn='corrected',\n",
    "       correlation='XX,YY',\n",
    "       field=target,\n",
    "       averagedata=True,\n",
    "       avgtime='3300',\n",
    "       avgbaseline=True,\n",
    "       coloraxis='scan',\n",
    "       )"
   ]
  },
  {
   "cell_type": "code",
   "execution_count": null,
   "metadata": {},
   "outputs": [],
   "source": [
    "plotms(vis=msfile,\n",
    "       xaxis='channel',\n",
    "       yaxis='amp',\n",
    "       ydatacolumn='corrected',\n",
    "       correlation='XX,YY',\n",
    "       field=target,\n",
    "       coloraxis='corr',\n",
    "       averagedata=True,\n",
    "       avgtime='3300',\n",
    "       avgbaseline=True,\n",
    "       )"
   ]
  },
  {
   "cell_type": "code",
   "execution_count": null,
   "metadata": {
    "scrolled": true
   },
   "outputs": [],
   "source": [
    "plotms(vis=msfile,\n",
    "       xaxis='time',\n",
    "       yaxis='amp',\n",
    "       ydatacolumn='corrected',\n",
    "       correlation='XX,YY',\n",
    "       field=target,\n",
    "       coloraxis='corr',\n",
    "       averagedata=True,\n",
    "       avgbaseline=True,\n",
    "       avgchannel='4096')"
   ]
  },
  {
   "cell_type": "code",
   "execution_count": null,
   "metadata": {},
   "outputs": [],
   "source": [
    "splitted_ms = prefix+'_split.ms'\n",
    "split(vis=msfile,\n",
    "      field=target,\n",
    "      outputvis=splitted_ms,\n",
    "      datacolumn='corrected')"
   ]
  },
  {
   "cell_type": "code",
   "execution_count": null,
   "metadata": {},
   "outputs": [],
   "source": [
    "visstat(splitted_ms, axis='amp', field=target)"
   ]
  },
  {
   "cell_type": "code",
   "execution_count": null,
   "metadata": {
    "scrolled": true
   },
   "outputs": [],
   "source": [
    "plotms(vis=splitted_ms,\n",
    "       xaxis='time',\n",
    "       yaxis='amp',\n",
    "       correlation='XX,YY',\n",
    "       coloraxis='corr',\n",
    "       averagedata=True,\n",
    "       avgbaseline=True,\n",
    "       avgchannel='4096')"
   ]
  },
  {
   "cell_type": "code",
   "execution_count": null,
   "metadata": {},
   "outputs": [],
   "source": [
    "plotms(vis=splitted_ms,\n",
    "       xaxis='freq',\n",
    "       yaxis='amp',\n",
    "       correlation='XX,YY',\n",
    "       coloraxis='corr',\n",
    "       averagedata=True,\n",
    "       avgtime='3300',\n",
    "       avgbaseline=True,\n",
    "       )"
   ]
  },
  {
   "cell_type": "code",
   "execution_count": null,
   "metadata": {},
   "outputs": [],
   "source": []
  }
 ],
 "metadata": {
  "kernelspec": {
   "display_name": "Casa",
   "language": "casa",
   "name": "casapy"
  },
  "language_info": {
   "mimetype": "text/plain",
   "name": "Casa"
  }
 },
 "nbformat": 4,
 "nbformat_minor": 2
}
