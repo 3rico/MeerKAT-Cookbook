{
 "cells": [
  {
   "cell_type": "code",
   "execution_count": null,
   "metadata": {
    "collapsed": true
   },
   "outputs": [],
   "source": [
    "msfile='1548939342.ms'"
   ]
  },
  {
   "cell_type": "code",
   "execution_count": null,
   "metadata": {
    "collapsed": false,
    "scrolled": true
   },
   "outputs": [],
   "source": [
    "listobs(msfile)"
   ]
  },
  {
   "cell_type": "code",
   "execution_count": null,
   "metadata": {
    "collapsed": false,
    "scrolled": false
   },
   "outputs": [],
   "source": [
    "plotms(vis=msfile,\n",
    "       xaxis='freq',\n",
    "       yaxis='amp',\n",
    "       averagedata=True,\n",
    "       avgtime='900',\n",
    "       field='PKS1934-63',\n",
    "       antenna='*&&&',\n",
    "       coloraxis='corr',\n",
    "       plotrange=[0.850, 1.712, 0, 0])"
   ]
  },
  {
   "cell_type": "markdown",
   "metadata": {},
   "source": [
    "### Bandpass edges and the Milky Way"
   ]
  },
  {
   "cell_type": "code",
   "execution_count": null,
   "metadata": {
    "collapsed": false
   },
   "outputs": [],
   "source": [
    "flagdata(vis=msfile, mode='manual', spw='*:856MHZ~880MHZ', action='apply');\n",
    "flagdata(vis=msfile, mode='manual', spw='*:1658MHz~1800MHZ', action='apply');\n",
    "flagdata(vis=msfile, mode='manual', spw='*:1420.0MHz~1421.3MHZ', action='apply');"
   ]
  },
  {
   "cell_type": "code",
   "execution_count": null,
   "metadata": {
    "collapsed": false,
    "scrolled": false
   },
   "outputs": [],
   "source": [
    "plotms(vis=msfile,\n",
    "       xaxis='freq',\n",
    "       yaxis='amp',\n",
    "       averagedata=True,\n",
    "       avgtime='900',\n",
    "       field='PKS1934-63',\n",
    "       antenna='*&&&',\n",
    "       coloraxis='corr',\n",
    "       plotrange=[0.850, 1.712, 0, 0])"
   ]
  },
  {
   "cell_type": "markdown",
   "metadata": {},
   "source": [
    "### GSM and Aviation"
   ]
  },
  {
   "cell_type": "code",
   "execution_count": null,
   "metadata": {
    "collapsed": false
   },
   "outputs": [],
   "source": [
    "flagdata(vis=msfile, mode='manual', spw='*:900MHz~915MHZ', action='apply');\n",
    "flagdata(vis=msfile, mode='manual', spw='*:925MHz~960MHZ', action='apply');\n",
    "flagdata(vis=msfile, mode='manual', spw='*:1080MHz~1095MHZ', action='apply');"
   ]
  },
  {
   "cell_type": "code",
   "execution_count": null,
   "metadata": {
    "collapsed": false
   },
   "outputs": [],
   "source": [
    "plotms(vis=msfile,\n",
    "       xaxis='freq',\n",
    "       yaxis='amp',\n",
    "       averagedata=True,\n",
    "       avgtime='900',\n",
    "       field='PKS1934-63',\n",
    "       antenna='*&&&',\n",
    "       coloraxis='corr',\n",
    "       plotrange=[0.850, 1.712, 0, 0])"
   ]
  },
  {
   "cell_type": "markdown",
   "metadata": {},
   "source": [
    "### GPS"
   ]
  },
  {
   "cell_type": "code",
   "execution_count": null,
   "metadata": {
    "collapsed": false
   },
   "outputs": [],
   "source": [
    "flagdata(vis=msfile, mode='manual', spw='*:1565MHz~1585MHZ', action='apply');\n",
    "flagdata(vis=msfile, mode='manual', spw='*:1217MHz~1237MHZ', action='apply');\n",
    "flagdata(vis=msfile, mode='manual', spw='*:1375MHz~1387MHZ', action='apply');\n",
    "flagdata(vis=msfile, mode='manual', spw='*:1166MHz~1186MHZ', action='apply');"
   ]
  },
  {
   "cell_type": "code",
   "execution_count": null,
   "metadata": {
    "collapsed": false
   },
   "outputs": [],
   "source": [
    "plotms(vis=msfile,\n",
    "       xaxis='freq',\n",
    "       yaxis='amp',\n",
    "       averagedata=True,\n",
    "       avgtime='900',\n",
    "       field='PKS1934-63',\n",
    "       antenna='*&&&',\n",
    "       coloraxis='corr',\n",
    "       plotrange=[0.850, 1.712, 0, 0])"
   ]
  },
  {
   "cell_type": "markdown",
   "metadata": {},
   "source": [
    "### GLONASS"
   ]
  },
  {
   "cell_type": "code",
   "execution_count": null,
   "metadata": {
    "collapsed": false
   },
   "outputs": [],
   "source": [
    "flagdata(vis=msfile, mode='manual', spw='*:1592MHz~1610MHZ', action='apply');\n",
    "flagdata(vis=msfile, mode='manual', spw='*:1242MHz~1249MHZ', action='apply');"
   ]
  },
  {
   "cell_type": "code",
   "execution_count": null,
   "metadata": {
    "collapsed": false
   },
   "outputs": [],
   "source": [
    "plotms(vis=msfile,\n",
    "       xaxis='freq',\n",
    "       yaxis='amp',\n",
    "       averagedata=True,\n",
    "       avgtime='900',\n",
    "       field='PKS1934-63',\n",
    "       antenna='*&&&',\n",
    "       coloraxis='corr',\n",
    "       plotrange=[0.850, 1.712, 0, 0])"
   ]
  },
  {
   "cell_type": "markdown",
   "metadata": {},
   "source": [
    "### Galileo"
   ]
  },
  {
   "cell_type": "code",
   "execution_count": null,
   "metadata": {
    "collapsed": false
   },
   "outputs": [],
   "source": [
    "flagdata(vis=msfile, mode='manual', spw='*:1191MHz~1217MHZ', action='apply');\n",
    "flagdata(vis=msfile, mode='manual', spw='*:1260MHz~1300MHZ', action='apply');"
   ]
  },
  {
   "cell_type": "code",
   "execution_count": null,
   "metadata": {
    "collapsed": false
   },
   "outputs": [],
   "source": [
    "plotms(vis=msfile,\n",
    "       xaxis='freq',\n",
    "       yaxis='amp',\n",
    "       averagedata=True,\n",
    "       avgtime='900',\n",
    "       field='PKS1934-63',\n",
    "       antenna='*&&&',\n",
    "       coloraxis='corr',\n",
    "       plotrange=[0.850, 1.712, 0, 0])"
   ]
  },
  {
   "cell_type": "markdown",
   "metadata": {},
   "source": [
    "### Afristar"
   ]
  },
  {
   "cell_type": "code",
   "execution_count": null,
   "metadata": {
    "collapsed": false
   },
   "outputs": [],
   "source": [
    "flagdata(vis=msfile, mode='manual', spw='*:1453MHz~1490MHZ', action='apply');"
   ]
  },
  {
   "cell_type": "code",
   "execution_count": null,
   "metadata": {
    "collapsed": false
   },
   "outputs": [],
   "source": [
    "plotms(vis=msfile,\n",
    "       xaxis='freq',\n",
    "       yaxis='amp',\n",
    "       averagedata=True,\n",
    "       avgtime='900',\n",
    "       field='PKS1934-63',\n",
    "       antenna='*&&&',\n",
    "       coloraxis='corr',\n",
    "       plotrange=[0.850, 1.712, 0, 0])"
   ]
  },
  {
   "cell_type": "markdown",
   "metadata": {},
   "source": [
    "### IRIDIUM"
   ]
  },
  {
   "cell_type": "code",
   "execution_count": null,
   "metadata": {
    "collapsed": false
   },
   "outputs": [],
   "source": [
    "flagdata(vis=msfile, mode='manual', spw='*:1616MHz~1626MHZ', action='apply');"
   ]
  },
  {
   "cell_type": "code",
   "execution_count": null,
   "metadata": {
    "collapsed": false
   },
   "outputs": [],
   "source": [
    "plotms(vis=msfile,\n",
    "       xaxis='freq',\n",
    "       yaxis='amp',\n",
    "       averagedata=True,\n",
    "       avgtime='900',\n",
    "       field='PKS1934-63',\n",
    "       antenna='*&&&',\n",
    "       coloraxis='corr',\n",
    "       plotrange=[0.850, 1.712, 0, 0])"
   ]
  },
  {
   "cell_type": "markdown",
   "metadata": {},
   "source": [
    "### Inmarsat"
   ]
  },
  {
   "cell_type": "code",
   "execution_count": null,
   "metadata": {
    "collapsed": false
   },
   "outputs": [],
   "source": [
    "flagdata(vis=msfile, mode='manual', spw='*:1526MHz~1554MHZ', action='apply');"
   ]
  },
  {
   "cell_type": "code",
   "execution_count": null,
   "metadata": {
    "collapsed": false
   },
   "outputs": [],
   "source": [
    "plotms(vis=msfile,\n",
    "       xaxis='freq',\n",
    "       yaxis='amp',\n",
    "       averagedata=True,\n",
    "       avgtime='900',\n",
    "       field='PKS1934-63',\n",
    "       antenna='*&&&',\n",
    "       coloraxis='corr',\n",
    "       plotrange=[0.850, 1.712, 0, 0])"
   ]
  },
  {
   "cell_type": "markdown",
   "metadata": {},
   "source": [
    "### Alkantpan"
   ]
  },
  {
   "cell_type": "code",
   "execution_count": null,
   "metadata": {
    "collapsed": false
   },
   "outputs": [],
   "source": [
    "flagdata(vis=msfile, mode='manual', spw='*:1600MHz', action='apply');"
   ]
  },
  {
   "cell_type": "code",
   "execution_count": null,
   "metadata": {
    "collapsed": false
   },
   "outputs": [],
   "source": [
    "plotms(vis=msfile,\n",
    "       xaxis='freq',\n",
    "       yaxis='amp',\n",
    "       averagedata=True,\n",
    "       avgtime='900',\n",
    "       field='PKS1934-63',\n",
    "       antenna='*&&&',\n",
    "       coloraxis='corr',\n",
    "       plotrange=[0.850, 1.712, 0, 0])"
   ]
  },
  {
   "cell_type": "code",
   "execution_count": null,
   "metadata": {
    "collapsed": true
   },
   "outputs": [],
   "source": []
  }
 ],
 "metadata": {
  "kernelspec": {
   "display_name": "Python 2",
   "language": "python",
   "name": "python2"
  },
  "language_info": {
   "codemirror_mode": {
    "name": "ipython",
    "version": 2
   },
   "file_extension": ".py",
   "mimetype": "text/x-python",
   "name": "python",
   "nbconvert_exporter": "python",
   "pygments_lexer": "ipython2",
   "version": "2.7.12"
  }
 },
 "nbformat": 4,
 "nbformat_minor": 2
}
