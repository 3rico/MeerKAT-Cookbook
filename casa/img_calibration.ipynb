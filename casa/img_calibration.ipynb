{
 "cells": [
  {
   "cell_type": "markdown",
   "metadata": {},
   "source": [
    "## Converting MeerKAT observation files to a measurement set\n",
    "Convertion scripts are installed into the python path by `katdal`   \n",
    "For all available options: `mvftoms.py -h`"
   ]
  },
  {
   "cell_type": "markdown",
   "metadata": {},
   "source": [
    "`mvftoms.py ../example-data/1548417874/1548417874/1548417874_sdp_l0.full.rdb -o mkat_cal_im_full.ms -f -a -C '163,3885' --quack=3`     \n",
    "`mvftoms.py ../example-data/1548417874/1548417874/1548417874_sdp_l0.full.rdb -o mkat_cal_im_section.ms -f -a -C '2150,3150'--quack=3`"
   ]
  },
  {
   "cell_type": "markdown",
   "metadata": {},
   "source": [
    "**Note: pre-flagging is generally only good to use for continuum imaging and not for spectral lines, since it will flag out the science lines.**   \n",
    "For imaging the calibrators, we will select to pre-flag the data during conversion.\n"
   ]
  },
  {
   "cell_type": "markdown",
   "metadata": {},
   "source": [
    "## Measurement set and CASA"
   ]
  },
  {
   "cell_type": "markdown",
   "metadata": {},
   "source": [
    "A measurement set is read as a \"file\" but is represented as a directory containing \"tables\" with telescope and observation information. A quick way to inspect the format is to list the unpacked directory"
   ]
  },
  {
   "cell_type": "code",
   "execution_count": 57,
   "metadata": {},
   "outputs": [
    {
     "name": "stdout",
     "output_type": "stream",
     "text": [
      "\u001b[0m\u001b[01;34mANTENNA\u001b[0m/           \u001b[01;34mPROCESSOR\u001b[0m/        table.f2_TSM0  table.f7\r\n",
      "\u001b[01;34mDATA_DESCRIPTION\u001b[0m/  \u001b[01;34mSOURCE\u001b[0m/           table.f3       table.f7_TSM0\r\n",
      "\u001b[01;34mFEED\u001b[0m/              \u001b[01;34mSPECTRAL_WINDOW\u001b[0m/  table.f3_TSM0  table.f8\r\n",
      "\u001b[01;34mFIELD\u001b[0m/             \u001b[01;34mSTATE\u001b[0m/            table.f4       table.f8_TSM0\r\n",
      "\u001b[01;34mFLAG_CMD\u001b[0m/          table.dat         table.f4_TSM0  table.f9\r\n",
      "\u001b[01;34mHISTORY\u001b[0m/           table.f0          table.f5       table.f9_TSM0\r\n",
      "\u001b[01;34mOBSERVATION\u001b[0m/       table.f1          table.f5_TSM0  table.info\r\n",
      "\u001b[01;34mPOINTING\u001b[0m/          table.f1_TSM0     table.f6       table.lock\r\n",
      "\u001b[01;34mPOLARIZATION\u001b[0m/      table.f2          table.f6_TSM0\r\n"
     ]
    }
   ],
   "source": [
    "ls ../example-data/mkat_cal_im_section.ms"
   ]
  },
  {
   "cell_type": "markdown",
   "metadata": {},
   "source": [
    "**Important: Even though you can access the CASA measurement set as a normal directory with files, NEVER change any of the files or directories inside this measurement set (.ms) directory outside of CASA. This will break the expected structure and CASA will be unable to read and process the data.**"
   ]
  },
  {
   "cell_type": "markdown",
   "metadata": {},
   "source": [
    "It is customary to refer to CASA measurement sets as \"files\" with a \".ms\" extension"
   ]
  },
  {
   "cell_type": "code",
   "execution_count": 58,
   "metadata": {},
   "outputs": [],
   "source": [
    "msfile='../example-data/mkat_cal_im_section.ms'"
   ]
  },
  {
   "cell_type": "markdown",
   "metadata": {},
   "source": [
    "Use the `tasklist` command to list available CASA functions."
   ]
  },
  {
   "cell_type": "code",
   "execution_count": 59,
   "metadata": {
    "scrolled": true
   },
   "outputs": [
    {
     "name": "stdout",
     "output_type": "stream",
     "text": [
      "5.5.0-149  \n",
      "Available tasks, organized by category (experimental tasks in parenthesis ()\n",
      "  deprecated tasks in curly brackets {}).\n",
      "\n",
      "\n",
      "Import/export       Information         Editing             Manipulation      \n",
      "------------------  ------------------  ------------------  ------------------\n",
      "exportasdm          asdmsummary         fixplanets          concat            \n",
      "exportfits          imhead              fixvis              conjugatevis      \n",
      "exportuvfits        imreframe           flagcmd             cvel              \n",
      "importasap          imstat              flagdata            fixvis            \n",
      "importasdm          imval               flagmanager         hanningsmooth     \n",
      "importatca          listcal             msview              imhead            \n",
      "importfits          listfits            plotms              mstransform       \n",
      "importfitsidi       listhistory                             oldstatwt         \n",
      "importmiriad        listobs                                 partition         \n",
      "importnro           listpartition                           plotms            \n",
      "importuvfits        listsdm                                 split             \n",
      "importvla           listvis                                 statwt            \n",
      "(importgmrt)        makemask                                testconcat        \n",
      "                    plotms                                  uvcontsub         \n",
      "                    vishead                                 virtualconcat     \n",
      "                    visstat                                 vishead           \n",
      "                                                            (cvel2)           \n",
      "                                                            (uvcontsub3)      \n",
      "\n",
      "Calibration         Modeling            Imaging             Analysis          \n",
      "------------------  ------------------  ------------------  ------------------\n",
      "accum               predictcomp         apparentsens        imcollapse        \n",
      "applycal            setjy               clean               imcontsub         \n",
      "bandpass            uvcontsub           deconvolve          imdev             \n",
      "blcal               uvmodelfit          feather             imfit             \n",
      "calstat             uvsub               ft                  imhead            \n",
      "clearcal            (uvcontsub3)        imcontsub           imhistory         \n",
      "delmod                                  tclean              immath            \n",
      "fixplanets                              (widebandpbcor)     immoments         \n",
      "fluxscale                                                   impbcor           \n",
      "ft                                                          impv              \n",
      "gaincal                                                     imrebin           \n",
      "gencal                                                      imreframe         \n",
      "initweights                                                 imregrid          \n",
      "listcal                                                     imsmooth          \n",
      "plotants                                                    imstat            \n",
      "plotbandpass                                                imsubimage        \n",
      "plotcal                                                     imtrans           \n",
      "polcal                                                      imval             \n",
      "polfromgain                                                 listvis           \n",
      "predictcomp                                                 rmfit             \n",
      "rerefant                                                    slsearch          \n",
      "setjy                                                       specfit           \n",
      "smoothcal                                                   specsmooth        \n",
      "uvmodelfit                                                  splattotable      \n",
      "uvsub                                                       spxfit            \n",
      "wvrgcal                                                     (specflux)        \n",
      "(accor)                                                                       \n",
      "(fringefit)                                                                   \n",
      "(msuvbin)                                                                     \n",
      "\n",
      "Visualization       Simulation          Single dish         Utility           \n",
      "------------------  ------------------  ------------------  ------------------\n",
      "imview              simalma             importasap          browsetable       \n",
      "msview              simanalyze          importnro           caltabconvert     \n",
      "plotants            simobserve          sdbaseline          clearstat         \n",
      "plotbandpass                            sdcal               concat            \n",
      "plotcal                                 sdfit               conjugatevis      \n",
      "plotms                                  sdfixscan           help par.parameter\n",
      "plotprofilemap                          sdgaincal           help taskname     \n",
      "plotweather                             sdimaging           imview            \n",
      "viewer                                  sdpolaverage        msview            \n",
      "                                        sdsmooth            plotms            \n",
      "                                        (sdsidebandsplit)   rmtables          \n",
      "                                        (tsdimaging)        startup           \n",
      "                                                            taskhelp          \n",
      "                                                            tasklist          \n",
      "                                                            testconcat        \n",
      "                                                            toolhelp          \n",
      "                                                            virtualconcat     \n",
      "\n",
      "User defined tasks\n",
      "------------------\n"
     ]
    }
   ],
   "source": [
    "print casa['build']['version']\n",
    "\n",
    "tasklist()"
   ]
  },
  {
   "cell_type": "markdown",
   "metadata": {},
   "source": [
    "## Observation calibration with CASA"
   ]
  },
  {
   "cell_type": "markdown",
   "metadata": {},
   "source": [
    "A CASA measurement set contains not only the data of the observation, but also metadata about the observatory, as well as additional info related to the observation that is needed to analyse and calibrate the data. This information can be viewed (compare the output with the `katdal` header display):"
   ]
  },
  {
   "cell_type": "code",
   "execution_count": 60,
   "metadata": {
    "scrolled": true
   },
   "outputs": [
    {
     "name": "stdout",
     "output_type": "stream",
     "text": [
      "================================================================================\n",
      "           MeasurementSet Name:  /home/jupyter/example-data/mkat_cal_im_section.ms      MS Version 2\n",
      "================================================================================\n",
      "   Observer: Lindsay     Project: 20190125-0012  \n",
      "Observation: MeerKAT\n",
      "Data records: 144       Total elapsed time = 191.919 seconds\n",
      "   Observed from   25-Jan-2019/12:05:08.4   to   25-Jan-2019/12:08:20.3 (UTC)\n",
      "\n",
      "   ObservationID = 0         ArrayID = 0\n",
      "  Date        Timerange (UTC)          Scan  FldId FieldName             nRows     SpwIds   Average Interval(s)    ScanIntent\n",
      "  25-Jan-2019/12:05:08.4 - 12:08:20.3     1      0 PKS1934-63                 144  [0]  [8] [UNKNOWN]\n",
      "           (nRows = Total number of rows per scan) \n",
      "Fields: 1\n",
      "  ID   Code Name                RA               Decl           Epoch   SrcId      nRows\n",
      "  0    T    PKS1934-63          19:39:25.030000 -63.42.45.70000 J2000   0            144\n",
      "Spectral Windows:  (1 unique spectral windows and 1 unique polarization setups)\n",
      "  SpwID  Name   #Chans   Frame   Ch0(MHz)  ChanWid(kHz)  TotBW(kHz) CtrFreq(MHz)  Corrs          \n",
      "  0      none    1001   TOPO    1305.316       208.984    209193.4   1409.8086   XX  XY  YX  YY\n",
      "Sources: 1\n",
      "  ID   Name                SpwId \n",
      "  0    PKS1934-63          0     \n",
      "  NB: No rest frequency information found in SOURCE table.\n",
      "  NB: No systemic velocity information found in SOURCE table.\n",
      "Antennas: 4:\n",
      "  ID   Name  Station   Diam.    Long.         Lat.                Offset from array center (m)                ITRF Geocentric coordinates (m)        \n",
      "                                                                     East         North     Elevation               x               y               z\n",
      "  0    m010  m010      13.5 m   +021.26.41.3  -30.32.49.1         87.0329     -274.0563      -12.0002  5109046.342503  2006823.982229 -3239363.792060\n",
      "  1    m043  m043      13.5 m   +021.26.14.3  -30.32.36.7       -630.9123      109.5241      -16.7813  5109486.398942  2006225.484528 -3239031.012788\n",
      "  2    m053  m053      13.5 m   +021.26.38.4  -30.33.14.8          8.3009    -1066.6557      -10.3748  5108701.441647  2006603.926330 -3240047.188721\n",
      "  3    m054  m054      13.5 m   +021.27.10.8  -30.32.48.7        870.9375     -261.9677       -9.7286  5108767.237976  2007556.539449 -3239354.535754\n"
     ]
    },
    {
     "data": {
      "text/plain": [
       "True"
      ]
     },
     "execution_count": 60,
     "metadata": {},
     "output_type": "execute_result"
    },
    {
     "data": {
      "text/html": [
       "<button type=\"button\" class=\"btn btn-info\" data-toggle=\"collapse\" id=\"1560848615_84\" data-target=\"#log1560848615_84\" onclick=\"if ($('#'+this.id).html()=='Show log') {$('#'+this.id).html('Hide log')} else {$('#'+this.id).html('Show log')}; return false\">Show log</button> <div class=\"collapse\" id=\"log1560848615_84\">2019-06-18 09:03:36\tINFO\tlistobs::::\t\n",
       "<br>2019-06-18 09:03:36\tINFO\tlistobs::::+\t##########################################\n",
       "<br>2019-06-18 09:03:36\tINFO\tlistobs::::+\t##### Begin Task: listobs            #####\n",
       "<br>2019-06-18 09:03:36\tINFO\tlistobs::::\tlistobs(vis=\"../example-data/mkat_cal_im_section.ms\",selectdata=True,spw=\"\",field=\"\",antenna=\"\",\n",
       "<br>2019-06-18 09:03:36\tINFO\tlistobs::::+\t        uvrange=\"\",timerange=\"\",correlation=\"\",scan=\"\",intent=\"\",\n",
       "<br>2019-06-18 09:03:36\tINFO\tlistobs::::+\t        feed=\"\",array=\"\",observation=\"\",verbose=True,listfile=\"casapy_temp.txt\",\n",
       "<br>2019-06-18 09:03:36\tINFO\tlistobs::::+\t        listunfl=False,cachesize=50,overwrite=True)\n",
       "<br>2019-06-18 09:03:36\tINFO\tlistobs::ms::summary\tWriting output to file: casapy_temp.txt\n",
       "<br>2019-06-18 09:03:36\tINFO\tlistobs::MSMetaData::_computeScanAndSubScanProperties \tComputing scan and subscan properties...\n",
       "<br>2019-06-18 09:03:36\tINFO\tlistobs::::\t##### End Task: listobs              #####\n",
       "<br>2019-06-18 09:03:36\tINFO\tlistobs::::+\t##########################################\n",
       "</div>"
      ]
     },
     "metadata": {},
     "output_type": "display_data"
    }
   ],
   "source": [
    "listobs(vis=msfile)"
   ]
  },
  {
   "cell_type": "markdown",
   "metadata": {},
   "source": [
    "Useful information: targets (fields) observed, and in which spectral windows (Spw). Whether the observation contains a single setup or various spectral resolutions: number channels, total bandwidth, center frequency, correlator product per spectral window. As well as, number of antennas and which antennas was used.\n",
    "\n",
    "Firstly, try to identify which sources are calibrators and which are targets. This will be indicated in the science proposal, but can also be inferred from the targets. Flux and bandpass calibrators will have only a few observations, gain/phase calibrators will be intermittent with the science observations, but will be observed for shorter intervals and will typically be within 15 degrees of a science target. For flux and bandpass calibrators, only verify that they were up some time during the observation (if more than one select the best one to use). For gain calibrators it is a little more complex, select a calibrator close (approx 15 to 10 degrees) to the target and apply that calibration solution to the target."
   ]
  },
  {
   "cell_type": "code",
   "execution_count": 61,
   "metadata": {},
   "outputs": [
    {
     "name": "stdout",
     "output_type": "stream",
     "text": [
      "Number of points being plotted: 4\n"
     ]
    },
    {
     "data": {
      "image/png": "[encoded data removed]",
      "text/plain": [
       "<Figure size 432x288 with 1 Axes>"
      ]
     },
     "metadata": {
      "needs_background": "light"
     },
     "output_type": "display_data"
    },
    {
     "data": {
      "text/html": [
       "<button type=\"button\" class=\"btn btn-info\" data-toggle=\"collapse\" id=\"1560848616_04\" data-target=\"#log1560848616_04\" onclick=\"if ($('#'+this.id).html()=='Show log') {$('#'+this.id).html('Hide log')} else {$('#'+this.id).html('Show log')}; return false\">Show log</button> <div class=\"collapse\" id=\"log1560848616_04\">2019-06-18 09:03:36\tINFO\tplotants::::\t\n",
       "<br>2019-06-18 09:03:36\tINFO\tplotants::::+\t##########################################\n",
       "<br>2019-06-18 09:03:36\tINFO\tplotants::::+\t##### Begin Task: plotants           #####\n",
       "<br>2019-06-18 09:03:36\tINFO\tplotants::::\tplotants(vis=\"../example-data/mkat_cal_im_section.ms\",figfile=\"\",antindex=False,logpos=False,exclude=\"\",\n",
       "<br>2019-06-18 09:03:36\tINFO\tplotants::::+\t        checkbaselines=False,title=\"\",showgui=True)\n",
       "<br>2019-06-18 09:03:36\tINFO\tmsmetadata_cmpt.cc::open\tPerforming internal consistency checks on ../example-data/mkat_cal_im_section.ms...\n",
       "<br>2019-06-18 09:03:36\tINFO\tplotants::::\tNumber of points being plotted: 4\n",
       "<br>2019-06-18 09:03:36\tINFO\tplotants::::\t##### End Task: plotants             #####\n",
       "<br>2019-06-18 09:03:36\tINFO\tplotants::::+\t##########################################\n",
       "</div>"
      ]
     },
     "metadata": {},
     "output_type": "display_data"
    }
   ],
   "source": [
    "# antenna positions\n",
    "plotants(vis=msfile)\n",
    "\n",
    "ref_ant = 'm010'"
   ]
  },
  {
   "cell_type": "markdown",
   "metadata": {},
   "source": [
    "### Inspecting the Data"
   ]
  },
  {
   "cell_type": "markdown",
   "metadata": {},
   "source": [
    "There may be a few bad points, RFI or system related issues that will affect the calibration and data analysis. It is generally a good idea to spend a little time simply looking at your data before doing anything.\n",
    "\n",
    "Look for bad antennas, persistently bad channels across all spectral windows, and other clear outliers.  \n",
    "\n",
    "Once bad data has been identified, it must be flagged out to improve results.   \n",
    "**Note: initial inspection and flagging are only done using your calibrators, NEVER use the science targets. These will be inspected and flagged after calibration.**\n",
    "\n",
    "Bad data must be flagged out to improve imaging:\n",
    "* for calibrator sources -- bad data for the calibrator sources should ideally be removed before determining the calibration solutions\n",
    "* for other sources -- generally easier to identify bad data after the calibration is applied."
   ]
  },
  {
   "cell_type": "markdown",
   "metadata": {},
   "source": [
    "Use the `plotms` command and the display window to look at your data from various angles, such as amp/phase vs time/frequency/channel and iterate over antenna/baseline. You can also apply some averaging to get less noisy displays. Usually the best approach is to make several passes through the data using various plotting and listing tools. **During this initial investigation you are only looking at the data, not flagging!** You need to identify bad antennas, baselines and only select those channels that have such persistent, bad outliers that it could skew the calibration results.    \n",
    "\n",
    "Since calibrator sources are generally point-like, their true visibility amplitude is independent of baseline and time, and the phase should be 0 deg. The data for the initial investigation is uncalibrated, but for point-like sources the uncalibrated visibility amplitude on all baselines should be approximately the same, and the uncalibrated visibility phases should be fairly stable, although not necessarily close to 0 deg."
   ]
  },
  {
   "cell_type": "markdown",
   "metadata": {},
   "source": [
    "Good advice is to start with a bandpass (primary) calibrator for inspection. Then confirm bad antenna and channel behaviour using the phase (secondary) calibrators.\n",
    "\n",
    "Remember: The bandpass (primary) calibrator is a point source that is very stable and well known."
   ]
  },
  {
   "cell_type": "code",
   "execution_count": 62,
   "metadata": {},
   "outputs": [
    {
     "data": {
      "text/plain": [
       "False"
      ]
     },
     "execution_count": 62,
     "metadata": {},
     "output_type": "execute_result"
    },
    {
     "data": {
      "text/html": [
       "<button type=\"button\" class=\"btn btn-info\" data-toggle=\"collapse\" id=\"1560848616_22\" data-target=\"#log1560848616_22\" onclick=\"if ($('#'+this.id).html()=='Show log') {$('#'+this.id).html('Hide log')} else {$('#'+this.id).html('Show log')}; return false\">Show log</button> <div class=\"collapse\" id=\"log1560848616_22\">2019-06-18 09:03:36\tINFO\tplotms::::\t\n",
       "<br>2019-06-18 09:03:36\tINFO\tplotms::::+\t##########################################\n",
       "<br>2019-06-18 09:03:36\tINFO\tplotms::::+\t##### Begin Task: plotms             #####\n",
       "<br>2019-06-18 09:03:36\tINFO\tplotms::::\tplotms(vis=\"../example-data/mkat_cal_im_section.ms\",gridrows=1,gridcols=1,rowindex=0,colindex=0,\n",
       "<br>2019-06-18 09:03:36\tINFO\tplotms::::+\t        plotindex=0,xaxis=\"channel\",xdatacolumn=\"\",xframe=\"\",xinterp=\"\",\n",
       "<br>2019-06-18 09:03:36\tINFO\tplotms::::+\t        yaxis=\"amp\",ydatacolumn=\"\",yframe=\"\",yinterp=\"\",yaxislocation=\"\",\n",
       "<br>2019-06-18 09:03:36\tINFO\tplotms::::+\t        selectdata=True,field=\"PKS1934-63\",spw=\"0\",timerange=\"\",uvrange=\"\",\n",
       "<br>2019-06-18 09:03:36\tINFO\tplotms::::+\t        antenna=\"\",scan=\"\",correlation=\"\",array=\"\",observation=\"\",\n",
       "<br>2019-06-18 09:03:36\tINFO\tplotms::::+\t        intent=\"\",feed=\"\",msselect=\"\",averagedata=True,avgchannel=\"\",\n",
       "<br>2019-06-18 09:03:36\tINFO\tplotms::::+\t        avgtime=\"\",avgscan=False,avgfield=False,avgbaseline=False,avgantenna=False,\n",
       "<br>2019-06-18 09:03:36\tINFO\tplotms::::+\t        avgspw=False,scalar=False,transform=True,freqframe=\"\",restfreq=\"\",\n",
       "<br>2019-06-18 09:03:36\tINFO\tplotms::::+\t        veldef=\"RADIO\",shift=[0.0, 0.0],extendflag=False,extcorr=False,extchannel=False,\n",
       "<br>2019-06-18 09:03:36\tINFO\tplotms::::+\t        iteraxis=\"antenna\",xselfscale=False,yselfscale=False,xsharedaxis=False,ysharedaxis=False,\n",
       "<br>2019-06-18 09:03:36\tINFO\tplotms::::+\t        customsymbol=False,symbolshape=\"autoscaling\",symbolsize=2,symbolcolor=\"0000ff\",symbolfill=\"fill\",\n",
       "<br>2019-06-18 09:03:36\tINFO\tplotms::::+\t        symboloutline=False,coloraxis=\"\",customflaggedsymbol=False,flaggedsymbolshape=\"circle\",flaggedsymbolsize=2,\n",
       "<br>2019-06-18 09:03:36\tINFO\tplotms::::+\t        flaggedsymbolcolor=\"ff0000\",flaggedsymbolfill=\"fill\",flaggedsymboloutline=False,xconnector=\"\",timeconnector=False,\n",
       "<br>2019-06-18 09:03:36\tINFO\tplotms::::+\t        plotrange=[],title=\"\",titlefont=0,xlabel=\"\",xaxisfont=0,\n",
       "<br>2019-06-18 09:03:36\tINFO\tplotms::::+\t        ylabel=\"\",yaxisfont=0,showmajorgrid=False,majorwidth=1,majorstyle=\"\",\n",
       "<br>2019-06-18 09:03:36\tINFO\tplotms::::+\t        majorcolor=\"B0B0B0\",showminorgrid=False,minorwidth=1,minorstyle=\"\",minorcolor=\"D0D0D0\",\n",
       "<br>2019-06-18 09:03:36\tINFO\tplotms::::+\t        showlegend=False,legendposition=\"\",plotfile=\"plotms_temp.png\",expformat=\"\",verbose=True,\n",
       "<br>2019-06-18 09:03:36\tINFO\tplotms::::+\t        exprange=\"\",highres=False,dpi=-1,width=-1,height=-1,\n",
       "<br>2019-06-18 09:03:36\tINFO\tplotms::::+\t        overwrite=True,showgui=False,clearplots=True,callib=[''],headeritems=\"\",\n",
       "<br>2019-06-18 09:03:36\tINFO\tplotms::::+\t        showatm=False,showtsky=False)\n",
       "<br>2019-06-18 09:03:36\tSEVERE\tplotms::::\tERROR: DISPLAY environment variable is not set! Cannot run plotms.\n",
       "<br>2019-06-18 09:03:36\tINFO\tplotms::::\t##### End Task: plotms               #####\n",
       "<br>2019-06-18 09:03:36\tINFO\tplotms::::+\t##########################################\n",
       "</div>"
      ]
     },
     "metadata": {},
     "output_type": "display_data"
    }
   ],
   "source": [
    "# looking at amplitude (amp) to identify outliers\n",
    "plotms(vis=msfile, xaxis='channel', yaxis='amp', spw='0', field='PKS1934-63', iteraxis='antenna')"
   ]
  },
  {
   "cell_type": "markdown",
   "metadata": {},
   "source": [
    "Viewing amplitude vs channel will show the passband for each target very clearly."
   ]
  },
  {
   "cell_type": "code",
   "execution_count": 63,
   "metadata": {},
   "outputs": [
    {
     "data": {
      "text/plain": [
       "False"
      ]
     },
     "execution_count": 63,
     "metadata": {},
     "output_type": "execute_result"
    },
    {
     "data": {
      "text/html": [
       "<button type=\"button\" class=\"btn btn-info\" data-toggle=\"collapse\" id=\"1560848616_4\" data-target=\"#log1560848616_4\" onclick=\"if ($('#'+this.id).html()=='Show log') {$('#'+this.id).html('Hide log')} else {$('#'+this.id).html('Show log')}; return false\">Show log</button> <div class=\"collapse\" id=\"log1560848616_4\">2019-06-18 09:03:36\tINFO\tplotms::::\t\n",
       "<br>2019-06-18 09:03:36\tINFO\tplotms::::+\t##########################################\n",
       "<br>2019-06-18 09:03:36\tINFO\tplotms::::+\t##### Begin Task: plotms             #####\n",
       "<br>2019-06-18 09:03:36\tINFO\tplotms::::\tplotms(vis=\"../example-data/mkat_cal_im_section.ms\",gridrows=1,gridcols=1,rowindex=0,colindex=0,\n",
       "<br>2019-06-18 09:03:36\tINFO\tplotms::::+\t        plotindex=0,xaxis=\"freq\",xdatacolumn=\"\",xframe=\"\",xinterp=\"\",\n",
       "<br>2019-06-18 09:03:36\tINFO\tplotms::::+\t        yaxis=\"amp\",ydatacolumn=\"\",yframe=\"\",yinterp=\"\",yaxislocation=\"\",\n",
       "<br>2019-06-18 09:03:36\tINFO\tplotms::::+\t        selectdata=True,field=\"PKS1934-63\",spw=\"0\",timerange=\"\",uvrange=\"\",\n",
       "<br>2019-06-18 09:03:36\tINFO\tplotms::::+\t        antenna=\"\",scan=\"\",correlation=\"\",array=\"\",observation=\"\",\n",
       "<br>2019-06-18 09:03:36\tINFO\tplotms::::+\t        intent=\"\",feed=\"\",msselect=\"\",averagedata=True,avgchannel=\"\",\n",
       "<br>2019-06-18 09:03:36\tINFO\tplotms::::+\t        avgtime=\"\",avgscan=False,avgfield=False,avgbaseline=False,avgantenna=False,\n",
       "<br>2019-06-18 09:03:36\tINFO\tplotms::::+\t        avgspw=False,scalar=False,transform=True,freqframe=\"\",restfreq=\"\",\n",
       "<br>2019-06-18 09:03:36\tINFO\tplotms::::+\t        veldef=\"RADIO\",shift=[0.0, 0.0],extendflag=False,extcorr=False,extchannel=False,\n",
       "<br>2019-06-18 09:03:36\tINFO\tplotms::::+\t        iteraxis=\"antenna\",xselfscale=False,yselfscale=False,xsharedaxis=False,ysharedaxis=False,\n",
       "<br>2019-06-18 09:03:36\tINFO\tplotms::::+\t        customsymbol=False,symbolshape=\"autoscaling\",symbolsize=2,symbolcolor=\"0000ff\",symbolfill=\"fill\",\n",
       "<br>2019-06-18 09:03:36\tINFO\tplotms::::+\t        symboloutline=False,coloraxis=\"\",customflaggedsymbol=False,flaggedsymbolshape=\"circle\",flaggedsymbolsize=2,\n",
       "<br>2019-06-18 09:03:36\tINFO\tplotms::::+\t        flaggedsymbolcolor=\"ff0000\",flaggedsymbolfill=\"fill\",flaggedsymboloutline=False,xconnector=\"\",timeconnector=False,\n",
       "<br>2019-06-18 09:03:36\tINFO\tplotms::::+\t        plotrange=[],title=\"\",titlefont=0,xlabel=\"\",xaxisfont=0,\n",
       "<br>2019-06-18 09:03:36\tINFO\tplotms::::+\t        ylabel=\"\",yaxisfont=0,showmajorgrid=False,majorwidth=1,majorstyle=\"\",\n",
       "<br>2019-06-18 09:03:36\tINFO\tplotms::::+\t        majorcolor=\"B0B0B0\",showminorgrid=False,minorwidth=1,minorstyle=\"\",minorcolor=\"D0D0D0\",\n",
       "<br>2019-06-18 09:03:36\tINFO\tplotms::::+\t        showlegend=False,legendposition=\"\",plotfile=\"plotms_temp.png\",expformat=\"\",verbose=True,\n",
       "<br>2019-06-18 09:03:36\tINFO\tplotms::::+\t        exprange=\"\",highres=False,dpi=-1,width=-1,height=-1,\n",
       "<br>2019-06-18 09:03:36\tINFO\tplotms::::+\t        overwrite=True,showgui=False,clearplots=True,callib=[''],headeritems=\"\",\n",
       "<br>2019-06-18 09:03:36\tINFO\tplotms::::+\t        showatm=False,showtsky=False)\n",
       "<br>2019-06-18 09:03:36\tSEVERE\tplotms::::\tERROR: DISPLAY environment variable is not set! Cannot run plotms.\n",
       "<br>2019-06-18 09:03:36\tINFO\tplotms::::\t##### End Task: plotms               #####\n",
       "<br>2019-06-18 09:03:36\tINFO\tplotms::::+\t##########################################\n",
       "</div>"
      ]
     },
     "metadata": {},
     "output_type": "display_data"
    }
   ],
   "source": [
    "plotms(vis=msfile, xaxis='freq', yaxis='amp', spw='0', field='PKS1934-63', iteraxis='antenna')"
   ]
  },
  {
   "cell_type": "markdown",
   "metadata": {},
   "source": [
    "For calibrator sources we expect values that are consistent across baselines and vary only slightly across channels. Thus plot amplitude for all baseline together.   \n",
    "Bandpass calibrator must have fairly stable amplitude over time."
   ]
  },
  {
   "cell_type": "raw",
   "metadata": {},
   "source": [
    "plotms(vis=msfile, xaxis='time', yaxis='amp', field='PKS1934-63', avgchannel='3072', coloraxis='field')\n",
    "plotms(vis=msfile, xaxis='time', yaxis='amp', correlation='LL', spw='1~40', field='3C279', avgchannel='128')\n",
    "plotms(vis=msfile, xaxis='time', yaxis='amp', correlation='LL', spw='41~44', field='3C279', avgchannel='1536')\n",
    "avgchannel -- Number of channels to average over, by choosing a value >= number of channels, data will be averaged over all channels"
   ]
  },
  {
   "cell_type": "code",
   "execution_count": 64,
   "metadata": {},
   "outputs": [
    {
     "data": {
      "text/plain": [
       "False"
      ]
     },
     "execution_count": 64,
     "metadata": {},
     "output_type": "execute_result"
    },
    {
     "data": {
      "text/html": [
       "<button type=\"button\" class=\"btn btn-info\" data-toggle=\"collapse\" id=\"1560848616_58\" data-target=\"#log1560848616_58\" onclick=\"if ($('#'+this.id).html()=='Show log') {$('#'+this.id).html('Hide log')} else {$('#'+this.id).html('Show log')}; return false\">Show log</button> <div class=\"collapse\" id=\"log1560848616_58\">2019-06-18 09:03:37\tINFO\tplotms::::\t\n",
       "<br>2019-06-18 09:03:37\tINFO\tplotms::::+\t##########################################\n",
       "<br>2019-06-18 09:03:37\tINFO\tplotms::::+\t##### Begin Task: plotms             #####\n",
       "<br>2019-06-18 09:03:37\tINFO\tplotms::::\tplotms(vis=\"../example-data/mkat_cal_im_section.ms\",gridrows=1,gridcols=1,rowindex=0,colindex=0,\n",
       "<br>2019-06-18 09:03:37\tINFO\tplotms::::+\t        plotindex=0,xaxis=\"u\",xdatacolumn=\"\",xframe=\"\",xinterp=\"\",\n",
       "<br>2019-06-18 09:03:37\tINFO\tplotms::::+\t        yaxis=\"v\",ydatacolumn=\"\",yframe=\"\",yinterp=\"\",yaxislocation=\"\",\n",
       "<br>2019-06-18 09:03:37\tINFO\tplotms::::+\t        selectdata=True,field=\"\",spw=\"0\",timerange=\"\",uvrange=\"\",\n",
       "<br>2019-06-18 09:03:37\tINFO\tplotms::::+\t        antenna=\"\",scan=\"\",correlation=\"\",array=\"\",observation=\"\",\n",
       "<br>2019-06-18 09:03:37\tINFO\tplotms::::+\t        intent=\"\",feed=\"\",msselect=\"\",averagedata=True,avgchannel=\"\",\n",
       "<br>2019-06-18 09:03:37\tINFO\tplotms::::+\t        avgtime=\"\",avgscan=False,avgfield=False,avgbaseline=False,avgantenna=False,\n",
       "<br>2019-06-18 09:03:37\tINFO\tplotms::::+\t        avgspw=False,scalar=False,transform=True,freqframe=\"\",restfreq=\"\",\n",
       "<br>2019-06-18 09:03:37\tINFO\tplotms::::+\t        veldef=\"RADIO\",shift=[0.0, 0.0],extendflag=False,extcorr=False,extchannel=False,\n",
       "<br>2019-06-18 09:03:37\tINFO\tplotms::::+\t        iteraxis=\"\",xselfscale=False,yselfscale=False,xsharedaxis=False,ysharedaxis=False,\n",
       "<br>2019-06-18 09:03:37\tINFO\tplotms::::+\t        customsymbol=False,symbolshape=\"autoscaling\",symbolsize=2,symbolcolor=\"0000ff\",symbolfill=\"fill\",\n",
       "<br>2019-06-18 09:03:37\tINFO\tplotms::::+\t        symboloutline=False,coloraxis=\"field\",customflaggedsymbol=False,flaggedsymbolshape=\"circle\",flaggedsymbolsize=2,\n",
       "<br>2019-06-18 09:03:37\tINFO\tplotms::::+\t        flaggedsymbolcolor=\"ff0000\",flaggedsymbolfill=\"fill\",flaggedsymboloutline=False,xconnector=\"\",timeconnector=False,\n",
       "<br>2019-06-18 09:03:37\tINFO\tplotms::::+\t        plotrange=[],title=\"\",titlefont=0,xlabel=\"\",xaxisfont=0,\n",
       "<br>2019-06-18 09:03:37\tINFO\tplotms::::+\t        ylabel=\"\",yaxisfont=0,showmajorgrid=False,majorwidth=1,majorstyle=\"\",\n",
       "<br>2019-06-18 09:03:37\tINFO\tplotms::::+\t        majorcolor=\"B0B0B0\",showminorgrid=False,minorwidth=1,minorstyle=\"\",minorcolor=\"D0D0D0\",\n",
       "<br>2019-06-18 09:03:37\tINFO\tplotms::::+\t        showlegend=False,legendposition=\"\",plotfile=\"plotms_temp.png\",expformat=\"\",verbose=True,\n",
       "<br>2019-06-18 09:03:37\tINFO\tplotms::::+\t        exprange=\"\",highres=False,dpi=-1,width=-1,height=-1,\n",
       "<br>2019-06-18 09:03:37\tINFO\tplotms::::+\t        overwrite=True,showgui=False,clearplots=True,callib=[''],headeritems=\"\",\n",
       "<br>2019-06-18 09:03:37\tINFO\tplotms::::+\t        showatm=False,showtsky=False)\n",
       "<br>2019-06-18 09:03:37\tSEVERE\tplotms::::\tERROR: DISPLAY environment variable is not set! Cannot run plotms.\n",
       "<br>2019-06-18 09:03:37\tINFO\tplotms::::\t##### End Task: plotms               #####\n",
       "<br>2019-06-18 09:03:37\tINFO\tplotms::::+\t##########################################\n",
       "</div>"
      ]
     },
     "metadata": {},
     "output_type": "display_data"
    }
   ],
   "source": [
    "plotms(vis=msfile,xaxis='u', yaxis='v', field='', spw='0', ydatacolumn='', coloraxis='field', correlation='')"
   ]
  },
  {
   "cell_type": "markdown",
   "metadata": {},
   "source": [
    "If possible flag either all visibilities for some time interval, or all by antenna, rather than flagging individual baselines!    \n",
    "RFI are channel specific and may not appear in all data sets, these channels has to be flagged on a per baseline basis."
   ]
  },
  {
   "cell_type": "markdown",
   "metadata": {},
   "source": [
    "### Calibration\n",
    "\n",
    "The first stage of data processing in aperture synthesis is to determine the amplitude gain and the phase shift due to each individual antenna (and the atmosphere above it), which together form the complex gain of the antenna.\n",
    "\n",
    "Various gain calibrator solutions exists\n",
    "* flux calibration (strong calibrator with known flux): in order to set the flux density scale correctly, use observations of at least one flux density calibrator (can be used for bandpass calibration as well) whose flux density is known -- use one of a few scans and done only once.\n",
    "* bandpass calibration (strong calibrator source of known spectrum): the bandpass response of the instrument varies across the frequency band, but is fairly stable in time, thus it needs to be solved for only once in an observing run.\n",
    "* gain/phase calibration (point-like source): the variation in amplitude and phase response as a function of time for calibrators which as known to be point-like sources.\n"
   ]
  },
  {
   "cell_type": "code",
   "execution_count": 65,
   "metadata": {},
   "outputs": [],
   "source": [
    "prefix='../example-data/mkat_cal_im_section'\n",
    "# define variables that hold the various tables that will be used during the reduction.\n",
    "btable0 = prefix + '.B0'\n",
    "gtable0 = prefix + '.G0'\n",
    "gtable1 = prefix + '.G1'\n",
    "ktable0 = prefix + '.K0'\n",
    "ftable1 = prefix + '.fluxscale1'\n",
    "\n",
    "# Bandpass, gain and flux calibration\n",
    "f_cal='PKS1934-63'\n",
    "b_cal='PKS1934-63'\n",
    "g_cal='PKS1934-63'"
   ]
  },
  {
   "cell_type": "markdown",
   "metadata": {},
   "source": [
    "Start by re-initializes calibrated visibility data in a given MS and doing basic flagging:    \n",
    "Create all the columns and tables for the measurement set"
   ]
  },
  {
   "cell_type": "code",
   "execution_count": 66,
   "metadata": {},
   "outputs": [
    {
     "data": {
      "text/html": [
       "<button type=\"button\" class=\"btn btn-info\" data-toggle=\"collapse\" id=\"1560848616_81\" data-target=\"#log1560848616_81\" onclick=\"if ($('#'+this.id).html()=='Show log') {$('#'+this.id).html('Hide log')} else {$('#'+this.id).html('Show log')}; return false\">Show log</button> <div class=\"collapse\" id=\"log1560848616_81\">2019-06-18 09:03:37\tINFO\tclearcal::::\t\n",
       "<br>2019-06-18 09:03:37\tINFO\tclearcal::::+\t##########################################\n",
       "<br>2019-06-18 09:03:37\tINFO\tclearcal::::+\t##### Begin Task: clearcal           #####\n",
       "<br>2019-06-18 09:03:37\tINFO\tclearcal::::\tclearcal(vis=\"../example-data/mkat_cal_im_section.ms\",field=\"\",spw=\"\",intent=\"\",addmodel=False)\n",
       "<br>2019-06-18 09:03:37\tWARN\tclearcal::calibrater::setvi(bool,bool)\tForcing use of OLD VisibilityIterator.\n",
       "<br>2019-06-18 09:03:37\tINFO\tclearcal::calibrater::open\t****Using OLD VI-driven calibrater tool****\n",
       "<br>2019-06-18 09:03:37\tINFO\tclearcal::calibrater::open\tOpening MS: ../example-data/mkat_cal_im_section.ms for calibration.\n",
       "<br>2019-06-18 09:03:37\tINFO\tclearcal::Calibrater::\tInitializing nominal selection to the whole MS.\n",
       "<br>2019-06-18 09:03:37\tINFO\tclearcal::calibrater::setdata\tBeginning selectvis--(MSSelection version)-------\n",
       "<br>2019-06-18 09:03:37\tINFO\tclearcal::calibrater::reset\tReseting solve/apply state\n",
       "<br>2019-06-18 09:03:37\tINFO\tclearcal::Calibrater::selectvis\tPerforming selection on MeasurementSet\n",
       "<br>2019-06-18 09:03:37\tINFO\tclearcal::Calibrater::selectvis\tSelection did not drop any rows\n",
       "<br>2019-06-18 09:03:37\tINFO\tclearcal::Calibrater::selectvis\tFrequency selection: Selecting all channels in all spws.\n",
       "<br>2019-06-18 09:03:37\tINFO\tclearcal::calibrater::setdata\tchanmode=none nchan=1 start=0 step=1 mStart='0km/s' mStep='0km/s' msSelect=''\n",
       "<br>2019-06-18 09:03:37\tINFO\tclearcal::::\tClearing all model records in MS header.\n",
       "<br>2019-06-18 09:03:37\tINFO\tclearcal::calibrater::initcalset\tBeginning initcalset------------------------\n",
       "<br>2019-06-18 09:03:37\tINFO\tclearcal::VisSet::VisSet\tInitializing CORRECTED_DATA (to DATA)\n",
       "<br>2019-06-18 09:03:37\tINFO\tclearcal::VisSet::VisSet\tInitialized 144 rows.\n",
       "<br>2019-06-18 09:03:37\tINFO\tclearcal::::\tCASA Version 5.5.0-149  \n",
       "<br>2019-06-18 09:03:37\tINFO\tclearcal::::\t\n",
       "<br>2019-06-18 09:03:37\tINFO\tclearcal::::\t##### End Task: clearcal             #####\n",
       "<br>2019-06-18 09:03:37\tINFO\tclearcal::::+\t##########################################\n",
       "<br>2019-06-18 09:03:37\tINFO\trmtables::::\t\n",
       "<br>2019-06-18 09:03:37\tINFO\trmtables::::+\t##########################################\n",
       "<br>2019-06-18 09:03:37\tINFO\trmtables::::+\t##### Begin Task: rmtables           #####\n",
       "<br>2019-06-18 09:03:37\tINFO\trmtables::::\trmtables(tablenames=\"../example-data/mkat_cal_im_section.B0\")\n",
       "<br>2019-06-18 09:03:37\tWARN\trmtables::utils::removetable\tEmpty filename\n",
       "<br>2019-06-18 09:03:37\tWARN\trmtables::utils::removetable\tCannot delete file  because it's not a table.\n",
       "<br>2019-06-18 09:03:37\tINFO\trmtables::::\t##### End Task: rmtables             #####\n",
       "<br>2019-06-18 09:03:37\tINFO\trmtables::::+\t##########################################\n",
       "<br>2019-06-18 09:03:37\tINFO\trmtables::::\t\n",
       "<br>2019-06-18 09:03:37\tINFO\trmtables::::+\t##########################################\n",
       "<br>2019-06-18 09:03:37\tINFO\trmtables::::+\t##### Begin Task: rmtables           #####\n",
       "<br>2019-06-18 09:03:37\tINFO\trmtables::::\trmtables(tablenames=\"../example-data/mkat_cal_im_section.G0\")\n",
       "<br>2019-06-18 09:03:37\tWARN\trmtables::utils::removetable\tEmpty filename\n",
       "<br>2019-06-18 09:03:37\tWARN\trmtables::utils::removetable\tCannot delete file  because it's not a table.\n",
       "<br>2019-06-18 09:03:37\tINFO\trmtables::::\t##### End Task: rmtables             #####\n",
       "<br>2019-06-18 09:03:37\tINFO\trmtables::::+\t##########################################\n",
       "<br>2019-06-18 09:03:37\tINFO\trmtables::::\t\n",
       "<br>2019-06-18 09:03:37\tINFO\trmtables::::+\t##########################################\n",
       "<br>2019-06-18 09:03:37\tINFO\trmtables::::+\t##### Begin Task: rmtables           #####\n",
       "<br>2019-06-18 09:03:37\tINFO\trmtables::::\trmtables(tablenames=\"../example-data/mkat_cal_im_section.G1\")\n",
       "<br>2019-06-18 09:03:37\tWARN\trmtables::utils::removetable\tEmpty filename\n",
       "<br>2019-06-18 09:03:37\tWARN\trmtables::utils::removetable\tCannot delete file  because it's not a table.\n",
       "<br>2019-06-18 09:03:37\tINFO\trmtables::::\t##### End Task: rmtables             #####\n",
       "<br>2019-06-18 09:03:37\tINFO\trmtables::::+\t##########################################\n",
       "<br>2019-06-18 09:03:37\tINFO\trmtables::::\t\n",
       "<br>2019-06-18 09:03:37\tINFO\trmtables::::+\t##########################################\n",
       "<br>2019-06-18 09:03:37\tINFO\trmtables::::+\t##### Begin Task: rmtables           #####\n",
       "<br>2019-06-18 09:03:37\tINFO\trmtables::::\trmtables(tablenames=\"../example-data/mkat_cal_im_section.K0\")\n",
       "<br>2019-06-18 09:03:37\tINFO\trmtables::::\tRemoving ../example-data/mkat_cal_im_section.K0\n",
       "<br>2019-06-18 09:03:37\tINFO\trmtables::::\t##### End Task: rmtables             #####\n",
       "<br>2019-06-18 09:03:37\tINFO\trmtables::::+\t##########################################\n",
       "<br>2019-06-18 09:03:37\tINFO\trmtables::::\t\n",
       "<br>2019-06-18 09:03:37\tINFO\trmtables::::+\t##########################################\n",
       "<br>2019-06-18 09:03:37\tINFO\trmtables::::+\t##### Begin Task: rmtables           #####\n",
       "<br>2019-06-18 09:03:37\tINFO\trmtables::::\trmtables(tablenames=\"../example-data/mkat_cal_im_section.fluxscale1\")\n",
       "<br>2019-06-18 09:03:37\tWARN\trmtables::utils::removetable\tEmpty filename\n",
       "<br>2019-06-18 09:03:37\tWARN\trmtables::utils::removetable\tCannot delete file  because it's not a table.\n",
       "<br>2019-06-18 09:03:37\tINFO\trmtables::::\t##### End Task: rmtables             #####\n",
       "<br>2019-06-18 09:03:37\tINFO\trmtables::::+\t##########################################\n",
       "</div>"
      ]
     },
     "metadata": {},
     "output_type": "display_data"
    }
   ],
   "source": [
    "clearcal(msfile)\n",
    "rmtables(btable0)\n",
    "rmtables(gtable0)\n",
    "rmtables(gtable1)\n",
    "rmtables(ktable0)\n",
    "rmtables(ftable1)"
   ]
  },
  {
   "cell_type": "markdown",
   "metadata": {},
   "source": [
    "#### Flagging\n",
    "\n",
    "Automated flagging for shadowing, elevations below 15 degrees and extreme outliers:"
   ]
  },
  {
   "cell_type": "code",
   "execution_count": 67,
   "metadata": {},
   "outputs": [
    {
     "name": "stdout",
     "output_type": "stream",
     "text": [
      "Flagging for shadowing, elevation and extreme outliers\n"
     ]
    },
    {
     "data": {
      "text/plain": [
       "{}"
      ]
     },
     "execution_count": 67,
     "metadata": {},
     "output_type": "execute_result"
    },
    {
     "data": {
      "text/html": [
       "<button type=\"button\" class=\"btn btn-info\" data-toggle=\"collapse\" id=\"1560848617_16\" data-target=\"#log1560848617_16\" onclick=\"if ($('#'+this.id).html()=='Show log') {$('#'+this.id).html('Hide log')} else {$('#'+this.id).html('Show log')}; return false\">Show log</button> <div class=\"collapse\" id=\"log1560848617_16\">2019-06-18 09:03:37\tINFO\tflagdata::::\t\n",
       "<br>2019-06-18 09:03:37\tINFO\tflagdata::::+\t##########################################\n",
       "<br>2019-06-18 09:03:37\tINFO\tflagdata::::+\t##### Begin Task: flagdata           #####\n",
       "<br>2019-06-18 09:03:37\tINFO\tflagdata::::\tflagdata(vis=\"../example-data/mkat_cal_im_section.ms\",mode=\"shadow\",autocorr=False,inpfile=\"\",reason=\"any\",\n",
       "<br>2019-06-18 09:03:37\tINFO\tflagdata::::+\t        tbuff=0.0,spw=\"\",field=\"\",antenna=\"\",uvrange=\"\",\n",
       "<br>2019-06-18 09:03:37\tINFO\tflagdata::::+\t        timerange=\"\",correlation=\"\",scan=\"\",intent=\"\",array=\"\",\n",
       "<br>2019-06-18 09:03:37\tINFO\tflagdata::::+\t        observation=\"\",feed=\"\",clipminmax=[],datacolumn=\"DATA\",clipoutside=True,\n",
       "<br>2019-06-18 09:03:37\tINFO\tflagdata::::+\t        channelavg=False,chanbin=1,timeavg=False,timebin=\"0s\",clipzeros=False,\n",
       "<br>2019-06-18 09:03:37\tINFO\tflagdata::::+\t        quackinterval=1.0,quackmode=\"beg\",quackincrement=False,tolerance=0.0,addantenna=\"\",\n",
       "<br>2019-06-18 09:03:37\tINFO\tflagdata::::+\t        lowerlimit=0.0,upperlimit=90.0,ntime=\"scan\",combinescans=False,timecutoff=4.0,\n",
       "<br>2019-06-18 09:03:37\tINFO\tflagdata::::+\t        freqcutoff=3.0,timefit=\"line\",freqfit=\"poly\",maxnpieces=7,flagdimension=\"freqtime\",\n",
       "<br>2019-06-18 09:03:37\tINFO\tflagdata::::+\t        usewindowstats=\"none\",halfwin=1,extendflags=True,winsize=3,timedev=\"\",\n",
       "<br>2019-06-18 09:03:37\tINFO\tflagdata::::+\t        freqdev=\"\",timedevscale=5.0,freqdevscale=5.0,spectralmax=1000000.0,spectralmin=0.0,\n",
       "<br>2019-06-18 09:03:37\tINFO\tflagdata::::+\t        antint_ref_antenna=\"\",minchanfrac=0.6,verbose=False,extendpols=True,growtime=50.0,\n",
       "<br>2019-06-18 09:03:37\tINFO\tflagdata::::+\t        growfreq=50.0,growaround=False,flagneartime=False,flagnearfreq=False,minrel=0.0,\n",
       "<br>2019-06-18 09:03:37\tINFO\tflagdata::::+\t        maxrel=1.0,minabs=0,maxabs=-1,spwchan=False,spwcorr=False,\n",
       "<br>2019-06-18 09:03:37\tINFO\tflagdata::::+\t        basecnt=False,fieldcnt=False,name=\"Summary\",action=\"apply\",display=\"\",\n",
       "<br>2019-06-18 09:03:37\tINFO\tflagdata::::+\t        flagbackup=True,savepars=False,cmdreason=\"\",outfile=\"\",overwrite=True,\n",
       "<br>2019-06-18 09:03:37\tINFO\tflagdata::::+\t        writeflags=True)\n",
       "<br>2019-06-18 09:03:37\tINFO\tflagdata::::\tBackup original flags before applying new flags\n",
       "<br>2019-06-18 09:03:37\tINFO\tAgentFlagger::open\tTable type is Measurement Set\n",
       "<br>2019-06-18 09:03:37\tINFO\tFlagVersion::saveFlagVersion\tCreating new backup flag file called flagdata_9\n",
       "<br>2019-06-18 09:03:37\tINFO\tAgentFlagger::open\tTable type is Measurement Set\n",
       "<br>2019-06-18 09:03:37\tINFO\tflagdata::::\tShadow mode is active\n",
       "<br>2019-06-18 09:03:37\tINFO\tflagdata::::\tInitializing the agents\n",
       "<br>2019-06-18 09:03:37\tINFO\tShadow::setAgentParameters \t tolerance is 0 meters \n",
       "<br>2019-06-18 09:03:37\tINFO\tShadow::setAgentParameters \t addantenna is \n",
       "<br>2019-06-18 09:03:37\tINFO\tAgentFlagger::initAgents\tThere are 1 valid agents in list\n",
       "<br>2019-06-18 09:03:37\tINFO\tflagdata::::\tRunning the agentflagger tool\n",
       "<br>2019-06-18 09:03:37\tINFO\tFlagMSHandler::\t------------------------------------------------------------------------------------ \n",
       "<br>2019-06-18 09:03:37\tINFO\tFlagMSHandler::\tChunk = 1 [progress: 100%], Observation = 0, Array = 0, Scan = 1, Field = 0 (PKS1934-63), Spw = 0, Channels = 1001, Corrs = [ XX XY YX YY ], Total Rows = 144\n",
       "<br>2019-06-18 09:03:37\tINFO\tFlagMSHandler::nextChunk \t==================================================================================== \n",
       "<br>2019-06-18 09:03:37\tINFO\tAgentFlagger::run\t=> Writing flags to the MS\n",
       "<br>2019-06-18 09:03:37\tINFO\tflagdata::::\tCASA Version 5.5.0-149  \n",
       "<br>2019-06-18 09:03:37\tINFO\tflagdata::::\t\n",
       "<br>2019-06-18 09:03:37\tINFO\tflagdata::::\t##### End Task: flagdata             #####\n",
       "<br>2019-06-18 09:03:37\tINFO\tflagdata::::+\t##########################################\n",
       "</div>"
      ]
     },
     "metadata": {},
     "output_type": "display_data"
    }
   ],
   "source": [
    "print('Flagging for shadowing, elevation and extreme outliers')\n",
    "flagdata(vis=msfile,\n",
    "         mode='shadow')\n",
    "# if a Leap second warning is raised, simply run the command again to get rid of the warning"
   ]
  },
  {
   "cell_type": "code",
   "execution_count": 68,
   "metadata": {},
   "outputs": [
    {
     "data": {
      "text/html": [
       "<button type=\"button\" class=\"btn btn-info\" data-toggle=\"collapse\" id=\"1560848617_81\" data-target=\"#log1560848617_81\" onclick=\"if ($('#'+this.id).html()=='Show log') {$('#'+this.id).html('Hide log')} else {$('#'+this.id).html('Show log')}; return false\">Show log</button> <div class=\"collapse\" id=\"log1560848617_81\">2019-06-18 09:03:37\tINFO\tflagdata::::\t\n",
       "<br>2019-06-18 09:03:37\tINFO\tflagdata::::+\t##########################################\n",
       "<br>2019-06-18 09:03:37\tINFO\tflagdata::::+\t##### Begin Task: flagdata           #####\n",
       "<br>2019-06-18 09:03:37\tINFO\tflagdata::::\tflagdata(vis=\"../example-data/mkat_cal_im_section.ms\",mode=\"elevation\",autocorr=False,inpfile=\"\",reason=\"any\",\n",
       "<br>2019-06-18 09:03:37\tINFO\tflagdata::::+\t        tbuff=0.0,spw=\"\",field=\"\",antenna=\"\",uvrange=\"\",\n",
       "<br>2019-06-18 09:03:37\tINFO\tflagdata::::+\t        timerange=\"\",correlation=\"\",scan=\"\",intent=\"\",array=\"\",\n",
       "<br>2019-06-18 09:03:37\tINFO\tflagdata::::+\t        observation=\"\",feed=\"\",clipminmax=[],datacolumn=\"DATA\",clipoutside=True,\n",
       "<br>2019-06-18 09:03:37\tINFO\tflagdata::::+\t        channelavg=False,chanbin=1,timeavg=False,timebin=\"0s\",clipzeros=False,\n",
       "<br>2019-06-18 09:03:37\tINFO\tflagdata::::+\t        quackinterval=1.0,quackmode=\"beg\",quackincrement=False,tolerance=0.0,addantenna=\"\",\n",
       "<br>2019-06-18 09:03:37\tINFO\tflagdata::::+\t        lowerlimit=15,upperlimit=90.0,ntime=\"scan\",combinescans=False,timecutoff=4.0,\n",
       "<br>2019-06-18 09:03:37\tINFO\tflagdata::::+\t        freqcutoff=3.0,timefit=\"line\",freqfit=\"poly\",maxnpieces=7,flagdimension=\"freqtime\",\n",
       "<br>2019-06-18 09:03:37\tINFO\tflagdata::::+\t        usewindowstats=\"none\",halfwin=1,extendflags=True,winsize=3,timedev=\"\",\n",
       "<br>2019-06-18 09:03:37\tINFO\tflagdata::::+\t        freqdev=\"\",timedevscale=5.0,freqdevscale=5.0,spectralmax=1000000.0,spectralmin=0.0,\n",
       "<br>2019-06-18 09:03:37\tINFO\tflagdata::::+\t        antint_ref_antenna=\"\",minchanfrac=0.6,verbose=False,extendpols=True,growtime=50.0,\n",
       "<br>2019-06-18 09:03:37\tINFO\tflagdata::::+\t        growfreq=50.0,growaround=False,flagneartime=False,flagnearfreq=False,minrel=0.0,\n",
       "<br>2019-06-18 09:03:37\tINFO\tflagdata::::+\t        maxrel=1.0,minabs=0,maxabs=-1,spwchan=False,spwcorr=False,\n",
       "<br>2019-06-18 09:03:37\tINFO\tflagdata::::+\t        basecnt=False,fieldcnt=False,name=\"Summary\",action=\"apply\",display=\"\",\n",
       "<br>2019-06-18 09:03:37\tINFO\tflagdata::::+\t        flagbackup=True,savepars=False,cmdreason=\"\",outfile=\"\",overwrite=True,\n",
       "<br>2019-06-18 09:03:37\tINFO\tflagdata::::+\t        writeflags=True)\n",
       "<br>2019-06-18 09:03:37\tINFO\tflagdata::::\tBackup original flags before applying new flags\n",
       "<br>2019-06-18 09:03:37\tINFO\tAgentFlagger::open\tTable type is Measurement Set\n",
       "<br>2019-06-18 09:03:37\tINFO\tFlagVersion::saveFlagVersion\tCreating new backup flag file called flagdata_10\n",
       "<br>2019-06-18 09:03:37\tINFO\tAgentFlagger::open\tTable type is Measurement Set\n",
       "<br>2019-06-18 09:03:37\tINFO\tflagdata::::\tElevation mode is active\n",
       "<br>2019-06-18 09:03:37\tINFO\tflagdata::::\tInitializing the agents\n",
       "<br>2019-06-18 09:03:37\tINFO\tElevation::setAgentParameters \t lowerlimit is 15\n",
       "<br>2019-06-18 09:03:37\tINFO\tElevation::setAgentParameters \t upperlimit is 90\n",
       "<br>2019-06-18 09:03:37\tINFO\tAgentFlagger::initAgents\tThere are 1 valid agents in list\n",
       "<br>2019-06-18 09:03:37\tINFO\tflagdata::::\tRunning the agentflagger tool\n",
       "<br>2019-06-18 09:03:37\tINFO\tFlagMSHandler::\t------------------------------------------------------------------------------------ \n",
       "<br>2019-06-18 09:03:37\tINFO\tFlagMSHandler::\tChunk = 1 [progress: 100%], Observation = 0, Array = 0, Scan = 1, Field = 0 (PKS1934-63), Spw = 0, Channels = 1001, Corrs = [ XX XY YX YY ], Total Rows = 144\n",
       "<br>2019-06-18 09:03:37\tINFO\tFlagMSHandler::nextChunk \t==================================================================================== \n",
       "<br>2019-06-18 09:03:37\tINFO\tAgentFlagger::run\t=> Writing flags to the MS\n",
       "<br>2019-06-18 09:03:37\tINFO\tflagdata::::\tCASA Version 5.5.0-149  \n",
       "<br>2019-06-18 09:03:37\tINFO\tflagdata::::\t\n",
       "<br>2019-06-18 09:03:37\tINFO\tflagdata::::\t##### End Task: flagdata             #####\n",
       "<br>2019-06-18 09:03:37\tINFO\tflagdata::::+\t##########################################\n",
       "<br>2019-06-18 09:03:38\tINFO\tflagdata::::\t\n",
       "<br>2019-06-18 09:03:38\tINFO\tflagdata::::+\t##########################################\n",
       "<br>2019-06-18 09:03:38\tINFO\tflagdata::::+\t##### Begin Task: flagdata           #####\n",
       "<br>2019-06-18 09:03:38\tINFO\tflagdata::::\tflagdata(vis=\"../example-data/mkat_cal_im_section.ms\",mode=\"clip\",autocorr=False,inpfile=\"\",reason=\"any\",\n",
       "<br>2019-06-18 09:03:38\tINFO\tflagdata::::+\t        tbuff=0.0,spw=\"\",field=\"\",antenna=\"\",uvrange=\"\",\n",
       "<br>2019-06-18 09:03:38\tINFO\tflagdata::::+\t        timerange=\"\",correlation=\"\",scan=\"\",intent=\"\",array=\"\",\n",
       "<br>2019-06-18 09:03:38\tINFO\tflagdata::::+\t        observation=\"\",feed=\"\",clipminmax=[1e-05, 1000.0],datacolumn=\"DATA\",clipoutside=True,\n",
       "<br>2019-06-18 09:03:38\tINFO\tflagdata::::+\t        channelavg=False,chanbin=1,timeavg=False,timebin=\"0s\",clipzeros=False,\n",
       "<br>2019-06-18 09:03:38\tINFO\tflagdata::::+\t        quackinterval=1.0,quackmode=\"beg\",quackincrement=False,tolerance=0.0,addantenna=\"\",\n",
       "<br>2019-06-18 09:03:38\tINFO\tflagdata::::+\t        lowerlimit=0.0,upperlimit=90.0,ntime=\"scan\",combinescans=False,timecutoff=4.0,\n",
       "<br>2019-06-18 09:03:38\tINFO\tflagdata::::+\t        freqcutoff=3.0,timefit=\"line\",freqfit=\"poly\",maxnpieces=7,flagdimension=\"freqtime\",\n",
       "<br>2019-06-18 09:03:38\tINFO\tflagdata::::+\t        usewindowstats=\"none\",halfwin=1,extendflags=True,winsize=3,timedev=\"\",\n",
       "<br>2019-06-18 09:03:38\tINFO\tflagdata::::+\t        freqdev=\"\",timedevscale=5.0,freqdevscale=5.0,spectralmax=1000000.0,spectralmin=0.0,\n",
       "<br>2019-06-18 09:03:38\tINFO\tflagdata::::+\t        antint_ref_antenna=\"\",minchanfrac=0.6,verbose=False,extendpols=True,growtime=50.0,\n",
       "<br>2019-06-18 09:03:38\tINFO\tflagdata::::+\t        growfreq=50.0,growaround=False,flagneartime=False,flagnearfreq=False,minrel=0.0,\n",
       "<br>2019-06-18 09:03:38\tINFO\tflagdata::::+\t        maxrel=1.0,minabs=0,maxabs=-1,spwchan=False,spwcorr=False,\n",
       "<br>2019-06-18 09:03:38\tINFO\tflagdata::::+\t        basecnt=False,fieldcnt=False,name=\"Summary\",action=\"apply\",display=\"\",\n",
       "<br>2019-06-18 09:03:38\tINFO\tflagdata::::+\t        flagbackup=True,savepars=False,cmdreason=\"\",outfile=\"\",overwrite=True,\n",
       "<br>2019-06-18 09:03:38\tINFO\tflagdata::::+\t        writeflags=True)\n",
       "<br>2019-06-18 09:03:38\tINFO\tflagdata::::\tBackup original flags before applying new flags\n",
       "<br>2019-06-18 09:03:38\tINFO\tAgentFlagger::open\tTable type is Measurement Set\n",
       "<br>2019-06-18 09:03:38\tINFO\tFlagVersion::saveFlagVersion\tCreating new backup flag file called flagdata_11\n",
       "<br>2019-06-18 09:03:38\tINFO\tAgentFlagger::open\tTable type is Measurement Set\n",
       "<br>2019-06-18 09:03:38\tINFO\tflagdata::::\tClip mode is active\n",
       "<br>2019-06-18 09:03:38\tINFO\tflagdata::::\tInitializing the agents\n",
       "<br>2019-06-18 09:03:38\tINFO\tClip::setAgentParameters \t data column is DATA\n",
       "<br>2019-06-18 09:03:38\tINFO\tClip::setAgentParameters \t Visibility expression is ABS XX,XY,YX,YY\n",
       "<br>2019-06-18 09:03:38\tINFO\tClip::setAgentParameters \t clipzeros is 0\n",
       "<br>2019-06-18 09:03:38\tINFO\tClip::setAgentParameters \t clipoutside is 1\n",
       "<br>2019-06-18 09:03:38\tINFO\tClip::setAgentParameters \t clipmin is 1e-05\n",
       "<br>2019-06-18 09:03:38\tINFO\tClip::setAgentParameters \t clipmax is 1000\n",
       "<br>2019-06-18 09:03:38\tINFO\tClip::setAgentParameters \t Clipping outside [1e-05,1000], plus NaNs\n",
       "<br>2019-06-18 09:03:38\tINFO\tAgentFlagger::initAgents\tThere are 1 valid agents in list\n",
       "<br>2019-06-18 09:03:38\tINFO\tflagdata::::\tRunning the agentflagger tool\n",
       "<br>2019-06-18 09:03:38\tINFO\tFlagMSHandler::\t------------------------------------------------------------------------------------ \n",
       "<br>2019-06-18 09:03:38\tINFO\tFlagMSHandler::\tChunk = 1 [progress: 100%], Observation = 0, Array = 0, Scan = 1, Field = 0 (PKS1934-63), Spw = 0, Channels = 1001, Corrs = [ XX XY YX YY ], Total Rows = 144\n",
       "<br>2019-06-18 09:03:38\tINFO\tClip::chunkSummary\t=> Data flagged so far 50%\n",
       "<br>2019-06-18 09:03:38\tINFO\tFlagMSHandler::nextChunk \t==================================================================================== \n",
       "<br>2019-06-18 09:03:38\tINFO\tClip::tableSummary\t=> Percentage of data flagged in table selection: 50%\n",
       "<br>2019-06-18 09:03:38\tINFO\tAgentFlagger::run\t=> Writing flags to the MS\n",
       "<br>2019-06-18 09:03:38\tINFO\tflagdata::::\tCASA Version 5.5.0-149  \n",
       "<br>2019-06-18 09:03:38\tINFO\tflagdata::::\t\n",
       "<br>2019-06-18 09:03:38\tINFO\tflagdata::::\t##### End Task: flagdata             #####\n",
       "<br>2019-06-18 09:03:38\tINFO\tflagdata::::+\t##########################################\n",
       "</div>"
      ]
     },
     "metadata": {},
     "output_type": "display_data"
    }
   ],
   "source": [
    "flagdata(vis=msfile,\n",
    "         mode='elevation',\n",
    "         lowerlimit = 15)\n",
    "flagdata(vis=msfile,\n",
    "         mode='clip',\n",
    "         clipminmax = [1e-5, 1000.0]);"
   ]
  },
  {
   "cell_type": "code",
   "execution_count": 69,
   "metadata": {},
   "outputs": [
    {
     "data": {
      "text/html": [
       "<button type=\"button\" class=\"btn btn-info\" data-toggle=\"collapse\" id=\"1560848618_11\" data-target=\"#log1560848618_11\" onclick=\"if ($('#'+this.id).html()=='Show log') {$('#'+this.id).html('Hide log')} else {$('#'+this.id).html('Show log')}; return false\">Show log</button> <div class=\"collapse\" id=\"log1560848618_11\">2019-06-18 09:03:38\tINFO\tflagdata::::\t\n",
       "<br>2019-06-18 09:03:38\tINFO\tflagdata::::+\t##########################################\n",
       "<br>2019-06-18 09:03:38\tINFO\tflagdata::::+\t##### Begin Task: flagdata           #####\n",
       "<br>2019-06-18 09:03:38\tINFO\tflagdata::::\tflagdata(vis=\"../example-data/mkat_cal_im_section.ms\",mode=\"clip\",autocorr=False,inpfile=\"\",reason=\"any\",\n",
       "<br>2019-06-18 09:03:38\tINFO\tflagdata::::+\t        tbuff=0.0,spw=\"\",field=\"\",antenna=\"\",uvrange=\"\",\n",
       "<br>2019-06-18 09:03:38\tINFO\tflagdata::::+\t        timerange=\"\",correlation=\"\",scan=\"\",intent=\"\",array=\"\",\n",
       "<br>2019-06-18 09:03:38\tINFO\tflagdata::::+\t        observation=\"\",feed=\"\",clipminmax=[],datacolumn=\"DATA\",clipoutside=True,\n",
       "<br>2019-06-18 09:03:38\tINFO\tflagdata::::+\t        channelavg=False,chanbin=1,timeavg=False,timebin=\"0s\",clipzeros=True,\n",
       "<br>2019-06-18 09:03:38\tINFO\tflagdata::::+\t        quackinterval=1.0,quackmode=\"beg\",quackincrement=False,tolerance=0.0,addantenna=\"\",\n",
       "<br>2019-06-18 09:03:38\tINFO\tflagdata::::+\t        lowerlimit=0.0,upperlimit=90.0,ntime=\"scan\",combinescans=False,timecutoff=4.0,\n",
       "<br>2019-06-18 09:03:38\tINFO\tflagdata::::+\t        freqcutoff=3.0,timefit=\"line\",freqfit=\"poly\",maxnpieces=7,flagdimension=\"freqtime\",\n",
       "<br>2019-06-18 09:03:38\tINFO\tflagdata::::+\t        usewindowstats=\"none\",halfwin=1,extendflags=True,winsize=3,timedev=\"\",\n",
       "<br>2019-06-18 09:03:38\tINFO\tflagdata::::+\t        freqdev=\"\",timedevscale=5.0,freqdevscale=5.0,spectralmax=1000000.0,spectralmin=0.0,\n",
       "<br>2019-06-18 09:03:38\tINFO\tflagdata::::+\t        antint_ref_antenna=\"\",minchanfrac=0.6,verbose=False,extendpols=True,growtime=50.0,\n",
       "<br>2019-06-18 09:03:38\tINFO\tflagdata::::+\t        growfreq=50.0,growaround=False,flagneartime=False,flagnearfreq=False,minrel=0.0,\n",
       "<br>2019-06-18 09:03:38\tINFO\tflagdata::::+\t        maxrel=1.0,minabs=0,maxabs=-1,spwchan=False,spwcorr=False,\n",
       "<br>2019-06-18 09:03:38\tINFO\tflagdata::::+\t        basecnt=False,fieldcnt=False,name=\"Summary\",action=\"apply\",display=\"\",\n",
       "<br>2019-06-18 09:03:38\tINFO\tflagdata::::+\t        flagbackup=False,savepars=False,cmdreason=\"\",outfile=\"\",overwrite=True,\n",
       "<br>2019-06-18 09:03:38\tINFO\tflagdata::::+\t        writeflags=True)\n",
       "<br>2019-06-18 09:03:38\tINFO\tAgentFlagger::open\tTable type is Measurement Set\n",
       "<br>2019-06-18 09:03:38\tINFO\tflagdata::::\tClip mode is active\n",
       "<br>2019-06-18 09:03:38\tINFO\tflagdata::::\tInitializing the agents\n",
       "<br>2019-06-18 09:03:38\tINFO\tClip::setAgentParameters \t data column is DATA\n",
       "<br>2019-06-18 09:03:38\tINFO\tClip::setAgentParameters \t Visibility expression is ABS XX,XY,YX,YY\n",
       "<br>2019-06-18 09:03:38\tINFO\tClip::setAgentParameters \t clipzeros is 1\n",
       "<br>2019-06-18 09:03:38\tINFO\tClip::setAgentParameters \t clipoutside is 1\n",
       "<br>2019-06-18 09:03:38\tINFO\tClip::setAgentParameters \t clipminmax range not provided\n",
       "<br>2019-06-18 09:03:38\tINFO\tClip::setAgentParameters \t Clipping range not provided, clipping NaNs and zeros\n",
       "<br>2019-06-18 09:03:38\tINFO\tAgentFlagger::initAgents\tThere are 1 valid agents in list\n",
       "<br>2019-06-18 09:03:38\tINFO\tflagdata::::\tRunning the agentflagger tool\n",
       "<br>2019-06-18 09:03:38\tINFO\tFlagMSHandler::\t------------------------------------------------------------------------------------ \n",
       "<br>2019-06-18 09:03:38\tINFO\tFlagMSHandler::\tChunk = 1 [progress: 100%], Observation = 0, Array = 0, Scan = 1, Field = 0 (PKS1934-63), Spw = 0, Channels = 1001, Corrs = [ XX XY YX YY ], Total Rows = 144\n",
       "<br>2019-06-18 09:03:38\tINFO\tClip::chunkSummary\t=> Data flagged so far 50%\n",
       "<br>2019-06-18 09:03:38\tINFO\tFlagMSHandler::nextChunk \t==================================================================================== \n",
       "<br>2019-06-18 09:03:38\tINFO\tClip::tableSummary\t=> Percentage of data flagged in table selection: 50%\n",
       "<br>2019-06-18 09:03:38\tINFO\tAgentFlagger::run\t=> Writing flags to the MS\n",
       "<br>2019-06-18 09:03:38\tINFO\tflagdata::::\tCASA Version 5.5.0-149  \n",
       "<br>2019-06-18 09:03:38\tINFO\tflagdata::::\t\n",
       "<br>2019-06-18 09:03:38\tINFO\tflagdata::::\t##### End Task: flagdata             #####\n",
       "<br>2019-06-18 09:03:38\tINFO\tflagdata::::+\t##########################################\n",
       "</div>"
      ]
     },
     "metadata": {},
     "output_type": "display_data"
    }
   ],
   "source": [
    "# only for continuum sources (imaging)\n",
    "flagdata(vis=msfile,\n",
    "         mode='clip',\n",
    "         field='',\n",
    "         clipzeros=True,\n",
    "         flagbackup=False);"
   ]
  },
  {
   "cell_type": "markdown",
   "metadata": {},
   "source": [
    "#### Calibrating imaging data\n",
    "Setting the flux to -1 causes `setjy` to look up the flux density."
   ]
  },
  {
   "cell_type": "raw",
   "metadata": {},
   "source": [
    "setjy(vis=msfile, field=f_cal, fluxdensity=-1, standard = 'Perley-Butler 2010')"
   ]
  },
  {
   "cell_type": "code",
   "execution_count": 70,
   "metadata": {},
   "outputs": [
    {
     "data": {
      "text/html": [
       "<button type=\"button\" class=\"btn btn-info\" data-toggle=\"collapse\" id=\"1560848618_55\" data-target=\"#log1560848618_55\" onclick=\"if ($('#'+this.id).html()=='Show log') {$('#'+this.id).html('Hide log')} else {$('#'+this.id).html('Show log')}; return false\">Show log</button> <div class=\"collapse\" id=\"log1560848618_55\">2019-06-18 09:03:38\tINFO\tgaincal::::\t\n",
       "<br>2019-06-18 09:03:38\tINFO\tgaincal::::+\t##########################################\n",
       "<br>2019-06-18 09:03:38\tINFO\tgaincal::::+\t##### Begin Task: gaincal            #####\n",
       "<br>2019-06-18 09:03:38\tINFO\tgaincal::::\tgaincal(vis=\"../example-data/mkat_cal_im_section.ms\",caltable=\"../example-data/mkat_cal_im_section.K0\",field=\"PKS1934-63\",spw=\"0\",intent=\"\",\n",
       "<br>2019-06-18 09:03:38\tINFO\tgaincal::::+\t        selectdata=True,timerange=\"\",uvrange=\"\",antenna=\"\",scan=\"\",\n",
       "<br>2019-06-18 09:03:38\tINFO\tgaincal::::+\t        observation=\"\",msselect=\"\",solint=\"inf\",combine=\"scan\",preavg=-1.0,\n",
       "<br>2019-06-18 09:03:38\tINFO\tgaincal::::+\t        refant=\"m010\",refantmode=\"flex\",minblperant=1,minsnr=5,solnorm=False,\n",
       "<br>2019-06-18 09:03:38\tINFO\tgaincal::::+\t        normtype=\"mean\",gaintype=\"K\",smodel=[],calmode=\"ap\",solmode=\"\",\n",
       "<br>2019-06-18 09:03:38\tINFO\tgaincal::::+\t        rmsthresh=[],append=False,splinetime=3600.0,npointaver=3,phasewrap=180.0,\n",
       "<br>2019-06-18 09:03:38\tINFO\tgaincal::::+\t        docallib=False,callib=\"\",gaintable=[''],gainfield=[''],interp=[],\n",
       "<br>2019-06-18 09:03:38\tINFO\tgaincal::::+\t        spwmap=[],parang=False)\n",
       "<br>2019-06-18 09:03:38\tINFO\tgaincal::calibrater::open\t****Using NEW VI2-driven calibrater tool****\n",
       "<br>2019-06-18 09:03:38\tINFO\tgaincal::calibrater::open\tOpening MS: ../example-data/mkat_cal_im_section.ms for calibration.\n",
       "<br>2019-06-18 09:03:38\tINFO\tgaincal::Calibrater::\tInitializing nominal selection to the whole MS.\n",
       "<br>2019-06-18 09:03:38\tINFO\tgaincal::::\tNB: gaincal automatically excludes auto-correlations.\n",
       "<br>2019-06-18 09:03:38\tINFO\tcalibrater::setdata\tBeginning selectvis--(MSSelection version)-------\n",
       "<br>2019-06-18 09:03:38\tINFO\tcalibrater::reset\tReseting solve/apply state\n",
       "<br>2019-06-18 09:03:38\tINFO\tCalibrater::selectvis\tPerforming selection on MeasurementSet\n",
       "<br>2019-06-18 09:03:38\tINFO\tCalibrater::selectvis+\t Selecting on spw: '0'\n",
       "<br>2019-06-18 09:03:38\tINFO\tCalibrater::selectvis+\t Selecting on field: 'PKS1934-63'\n",
       "<br>2019-06-18 09:03:38\tINFO\tCalibrater::selectvis+\t Selecting with TaQL: 'ANTENNA1!=ANTENNA2'\n",
       "<br>2019-06-18 09:03:38\tINFO\tCalibrater::selectvis\tSelection did not drop any rows\n",
       "<br>2019-06-18 09:03:38\tINFO\tCalibrater::selectvis\tFrequency selection: \n",
       "<br>2019-06-18 09:03:38\tINFO\tCalibrater::selectvis\t.  Spw 0:0~1000 (1001 channels, step by 1)\n",
       "<br>2019-06-18 09:03:38\tINFO\tcalibrater::setdata\tchanmode=none nchan=1 start=0 step=1 mStart='0km/s' mStep='0km/s' msSelect='ANTENNA1!=ANTENNA2'\n",
       "<br>2019-06-18 09:03:38\tINFO\tcalibrater::setsolve\tBeginning setsolve--(MSSelection version)-------\n",
       "<br>2019-06-18 09:03:38\tINFO\tCalibrater::setsolve\tArranging to SOLVE:\n",
       "<br>2019-06-18 09:03:38\tINFO\tCalibrater::setsolve\t.   K Jones: table=../example-data/mkat_cal_im_section.K0 append=false solint=inf refantmode='flex' refant='m010' minsnr=5 apmode=AP solnorm=false\n",
       "<br>2019-06-18 09:03:38\tINFO\tcalibrater::solve\tBeginning solve-----------------------------\n",
       "<br>2019-06-18 09:03:38\tINFO\tCalibrater::solve\tThe following calibration terms are arranged for apply:\n",
       "<br>2019-06-18 09:03:38\tINFO\tCalibrater::solve\t.   (None)\n",
       "<br>2019-06-18 09:03:38\tINFO\tCalibrater::solve\tThe following calibration term is arranged for solve:\n",
       "<br>2019-06-18 09:03:38\tINFO\tCalibrater::solve\t.   K Jones: table=../example-data/mkat_cal_im_section.K0 append=false solint=inf refantmode='flex' refant='m010' minsnr=5 apmode=AP solnorm=false\n",
       "<br>2019-06-18 09:03:38\tINFO\tCalibrater::solve\tFor solint = inf, found 1 solution intervals.\n",
       "<br>2019-06-18 09:03:38\tINFO\tCalibrater::solve\t  Found good K Jones solutions in 1 solution intervals.\n",
       "<br>2019-06-18 09:03:38\tINFO\t\tWriting solutions to table: ../example-data/mkat_cal_im_section.K0\n",
       "<br>2019-06-18 09:03:39\tINFO\tcalibrater::solve\tFinished solving.\n",
       "<br>2019-06-18 09:03:39\tINFO\tgaincal::::\tCalibration solve statistics per spw:  (expected/attempted/succeeded):\n",
       "<br>2019-06-18 09:03:39\tINFO\tgaincal::::\t  Spw 0: 1/1/1\n",
       "<br>2019-06-18 09:03:39\tINFO\tgaincal::::\t##### End Task: gaincal              #####\n",
       "<br>2019-06-18 09:03:39\tINFO\tgaincal::::+\t##########################################\n",
       "</div>"
      ]
     },
     "metadata": {},
     "output_type": "display_data"
    }
   ],
   "source": [
    "#Solving for delays\n",
    "gaincal(vis=msfile,\n",
    "        caltable=ktable0,\n",
    "        field=f_cal,\n",
    "        gaintype='K',\n",
    "        solint='inf',\n",
    "        refant=ref_ant,\n",
    "        combine='scan',\n",
    "        minblperant=1,\n",
    "        solnorm=False,\n",
    "        spw='0',\n",
    "        minsnr=5)"
   ]
  },
  {
   "cell_type": "code",
   "execution_count": 72,
   "metadata": {},
   "outputs": [
    {
     "data": {
      "image/png": "[encoded data removed]",
      "text/plain": [
       "<Figure size 432x288 with 1 Axes>"
      ]
     },
     "metadata": {
      "needs_background": "light"
     },
     "output_type": "display_data"
    },
    {
     "data": {
      "text/html": [
       "<button type=\"button\" class=\"btn btn-info\" data-toggle=\"collapse\" id=\"1560849683_9\" data-target=\"#log1560849683_9\" onclick=\"if ($('#'+this.id).html()=='Show log') {$('#'+this.id).html('Hide log')} else {$('#'+this.id).html('Show log')}; return false\">Show log</button> <div class=\"collapse\" id=\"log1560849683_9\">2019-06-18 09:21:23\tINFO\tplotcal::::\t\n",
       "<br>2019-06-18 09:21:23\tINFO\tplotcal::::+\t##########################################\n",
       "<br>2019-06-18 09:21:23\tINFO\tplotcal::::+\t##### Begin Task: plotcal            #####\n",
       "<br>2019-06-18 09:21:23\tINFO\tplotcal::::\tplotcal(caltable=\"../example-data/mkat_cal_im_section.K0\",xaxis=\"antenna\",yaxis=\"delay\",poln=\"\",field=\"\",\n",
       "<br>2019-06-18 09:21:23\tINFO\tplotcal::::+\t        antenna=\"\",spw=\"\",timerange=\"\",subplot=111,overplot=False,\n",
       "<br>2019-06-18 09:21:23\tINFO\tplotcal::::+\t        clearpanel=\"Auto\",iteration=\"\",plotrange=[],showflags=False,plotsymbol=\"o\",\n",
       "<br>2019-06-18 09:21:23\tINFO\tplotcal::::+\t        plotcolor=\"blue\",markersize=5.0,fontsize=10.0,showgui=True,figfile=\"\")\n",
       "<br>2019-06-18 09:21:23\tINFO\ttableplot::setgui\tSwitching to GUI mode. All current plots  will be reset.\n",
       "<br>2019-06-18 09:21:23\tINFO\tplotcal::createCalTab \tDetected a NewCalTable!\n",
       "<br>2019-06-18 09:21:23\tINFO\tFlagVersion::saveFlagVersion\tNow get the data\n",
       "<br>2019-06-18 09:21:23\tINFO\tFlagVersion::saveFlagVersion\tDone Processing data ... \n",
       "<br>2019-06-18 09:21:24\tINFO\tplotcal::::\t##### End Task: plotcal              #####\n",
       "<br>2019-06-18 09:21:24\tINFO\tplotcal::::+\t##########################################\n",
       "</div>"
      ]
     },
     "metadata": {},
     "output_type": "display_data"
    }
   ],
   "source": [
    "plotcal(caltable = ktable0, xaxis = 'antenna', yaxis = 'delay')"
   ]
  },
  {
   "cell_type": "code",
   "execution_count": 71,
   "metadata": {},
   "outputs": [
    {
     "data": {
      "text/html": [
       "<button type=\"button\" class=\"btn btn-info\" data-toggle=\"collapse\" id=\"1560848618_76\" data-target=\"#log1560848618_76\" onclick=\"if ($('#'+this.id).html()=='Show log') {$('#'+this.id).html('Hide log')} else {$('#'+this.id).html('Show log')}; return false\">Show log</button> <div class=\"collapse\" id=\"log1560848618_76\">2019-06-18 09:03:39\tINFO\tbandpass::::\t\n",
       "<br>2019-06-18 09:03:39\tINFO\tbandpass::::+\t##########################################\n",
       "<br>2019-06-18 09:03:39\tINFO\tbandpass::::+\t##### Begin Task: bandpass           #####\n",
       "<br>2019-06-18 09:03:39\tINFO\tbandpass::::\tbandpass(vis=\"../example-data/mkat_cal_im_section.ms\",caltable=\"../example-data/mkat_cal_im_section.B0\",field=\"PKS1934-63\",spw=\"\",intent=\"\",\n",
       "<br>2019-06-18 09:03:39\tINFO\tbandpass::::+\t        selectdata=True,timerange=\"\",uvrange=\"\",antenna=\"\",scan=\"\",\n",
       "<br>2019-06-18 09:03:39\tINFO\tbandpass::::+\t        observation=\"\",msselect=\"\",solint=\"inf\",combine=\"scan\",refant=\"m010\",\n",
       "<br>2019-06-18 09:03:39\tINFO\tbandpass::::+\t        minblperant=4,minsnr=5,solnorm=True,bandtype=\"B\",smodel=[],\n",
       "<br>2019-06-18 09:03:39\tINFO\tbandpass::::+\t        append=False,fillgaps=0,degamp=3,degphase=3,visnorm=False,\n",
       "<br>2019-06-18 09:03:39\tINFO\tbandpass::::+\t        maskcenter=0,maskedge=5,docallib=False,callib=\"\",gaintable=['../example-data/mkat_cal_im_section.K0'],\n",
       "<br>2019-06-18 09:03:39\tINFO\tbandpass::::+\t        gainfield=[''],interp=['nearest', 'nearest'],spwmap=[],parang=False)\n",
       "<br>2019-06-18 09:03:39\tINFO\tbandpass::calibrater::open\t****Using NEW VI2-driven calibrater tool****\n",
       "<br>2019-06-18 09:03:39\tINFO\tbandpass::calibrater::open\tOpening MS: ../example-data/mkat_cal_im_section.ms for calibration.\n",
       "<br>2019-06-18 09:03:39\tINFO\tbandpass::Calibrater::\tInitializing nominal selection to the whole MS.\n",
       "<br>2019-06-18 09:03:39\tINFO\tbandpass::calibrater::reset\tReseting solve/apply state\n",
       "<br>2019-06-18 09:03:39\tINFO\tbandpass::::\tNB: bandpass automatically excludes auto-correlations.\n",
       "<br>2019-06-18 09:03:39\tINFO\tcalibrater::setdata\tBeginning selectvis--(MSSelection version)-------\n",
       "<br>2019-06-18 09:03:39\tINFO\tcalibrater::reset\tReseting solve/apply state\n",
       "<br>2019-06-18 09:03:39\tINFO\tCalibrater::selectvis\tPerforming selection on MeasurementSet\n",
       "<br>2019-06-18 09:03:39\tINFO\tCalibrater::selectvis+\t Selecting on field: 'PKS1934-63'\n",
       "<br>2019-06-18 09:03:39\tINFO\tCalibrater::selectvis+\t Selecting with TaQL: 'ANTENNA1!=ANTENNA2'\n",
       "<br>2019-06-18 09:03:39\tINFO\tCalibrater::selectvis\tSelection did not drop any rows\n",
       "<br>2019-06-18 09:03:39\tINFO\tCalibrater::selectvis\tFrequency selection: Selecting all channels in all spws.\n",
       "<br>2019-06-18 09:03:39\tINFO\tcalibrater::setdata\tchanmode=none nchan=1 start=0 step=1 mStart='0km/s' mStep='0km/s' msSelect='ANTENNA1!=ANTENNA2'\n",
       "<br>2019-06-18 09:03:39\tINFO\tcalibrater::setapply\tBeginning setapply--(MSSelection version)-------\n",
       "<br>2019-06-18 09:03:39\tINFO\tCalibrater::setapply(type, applypar)\tArranging to APPLY:\n",
       "<br>2019-06-18 09:03:39\tINFO\t\t (K Jones: Enforcing calWt()=false for phase/delay-like terms)\n",
       "<br>2019-06-18 09:03:39\tINFO\tCalibrater::setapply(type, applypar)\t.   K Jones: table=../example-data/mkat_cal_im_section.K0 select= interp=nearest spwmap=[-1] calWt=false\n",
       "<br>2019-06-18 09:03:39\tINFO\tcalibrater::setsolve\tBeginning setsolve--(MSSelection version)-------\n",
       "<br>2019-06-18 09:03:39\tINFO\tCalibrater::setsolve\tArranging to SOLVE:\n",
       "<br>2019-06-18 09:03:39\tINFO\tCalibrater::setsolve\t.   B Jones: table=../example-data/mkat_cal_im_section.B0 append=false solint=inf,none refantmode='flex' refant='m010' minsnr=5 apmode=AP solnorm=true normtype=MEAN\n",
       "<br>2019-06-18 09:03:39\tINFO\tcalibrater::solve\tBeginning solve-----------------------------\n",
       "<br>2019-06-18 09:03:39\tINFO\tCalibrater::solve\tThe following calibration terms are arranged for apply:\n",
       "<br>2019-06-18 09:03:39\tINFO\tCalibrater::solve\t.   K Jones: table=../example-data/mkat_cal_im_section.K0 select= interp=nearest spwmap=[-1] calWt=false\n",
       "<br>2019-06-18 09:03:39\tINFO\tCalibrater::solve\tThe following calibration term is arranged for solve:\n",
       "<br>2019-06-18 09:03:39\tINFO\tCalibrater::solve\t.   B Jones: table=../example-data/mkat_cal_im_section.B0 append=false solint=inf,none refantmode='flex' refant='m010' minsnr=5 apmode=AP solnorm=true normtype=MEAN\n",
       "<br>2019-06-18 09:03:39\tINFO\tCalibrater::solve\tFor solint = inf, found 1 solution intervals.\n",
       "<br>2019-06-18 09:03:39\tINFO\tCalibrater::solve\t  Found good B Jones solutions in 0 solution intervals.\n",
       "<br>2019-06-18 09:03:39\tINFO\tCalibrater::solve\tNo output calibration table written.\n",
       "<br>2019-06-18 09:03:39\tINFO\tcalibrater::solve\tFinished solving.\n",
       "<br>2019-06-18 09:03:39\tINFO\tbandpass::::\t##### End Task: bandpass             #####\n",
       "<br>2019-06-18 09:03:39\tINFO\tbandpass::::+\t##########################################\n",
       "</div>"
      ]
     },
     "metadata": {},
     "output_type": "display_data"
    }
   ],
   "source": [
    "# Solve for the bandpass response -- complex gain as a function of channel across the passband.\n",
    "bandpass(vis=msfile,\n",
    "         caltable=btable0,\n",
    "         field=b_cal,\n",
    "         refant=ref_ant,\n",
    "         solnorm=True,\n",
    "         combine='scan',\n",
    "         solint='inf',\n",
    "         bandtype='B',\n",
    "         minsnr=5,\n",
    "         gaintable=[ktable0],\n",
    "         interp=['nearest', 'nearest'])"
   ]
  },
  {
   "cell_type": "code",
   "execution_count": null,
   "metadata": {},
   "outputs": [],
   "source": []
  },
  {
   "cell_type": "code",
   "execution_count": null,
   "metadata": {},
   "outputs": [],
   "source": []
  },
  {
   "cell_type": "code",
   "execution_count": null,
   "metadata": {},
   "outputs": [],
   "source": []
  },
  {
   "cell_type": "markdown",
   "metadata": {},
   "source": [
    "#### Apply calibration"
   ]
  },
  {
   "cell_type": "code",
   "execution_count": null,
   "metadata": {},
   "outputs": [],
   "source": []
  }
 ],
 "metadata": {
  "kernelspec": {
   "display_name": "Casa",
   "language": "casa",
   "name": "casapy"
  },
  "language_info": {
   "mimetype": "text/plain",
   "name": "Casa"
  }
 },
 "nbformat": 4,
 "nbformat_minor": 2
}
