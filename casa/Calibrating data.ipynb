{
 "cells": [
  {
   "cell_type": "code",
   "execution_count": null,
   "metadata": {},
   "outputs": [],
   "source": [
    "msfile = 'ngc3621.ms'\n",
    "prefix='ngc3621'\n",
    "target='NGC3621'\n",
    "g_cal='1117-248'\n",
    "b_cal='0408-65'\n",
    "f_cal='0408-65'\n",
    "#ref_ant='m018'\n",
    "ref_ant='m003'"
   ]
  },
  {
   "cell_type": "markdown",
   "metadata": {},
   "source": [
    "### [Optional] W correction"
   ]
  },
  {
   "cell_type": "raw",
   "metadata": {},
   "source": [
    "fixvis(vis=msfile, outputvis=prefix+'_fixvis.ms')"
   ]
  },
  {
   "cell_type": "raw",
   "metadata": {},
   "source": [
    "msfile = prefix+'_fixvis.ms'\n",
    "prefix = prefix+'_fixvis'"
   ]
  },
  {
   "cell_type": "markdown",
   "metadata": {},
   "source": [
    "### Basics calibration steps"
   ]
  },
  {
   "cell_type": "code",
   "execution_count": null,
   "metadata": {},
   "outputs": [],
   "source": [
    "clearcal(msfile)"
   ]
  },
  {
   "cell_type": "markdown",
   "metadata": {},
   "source": [
    "### Convert correlation coefficients to absolute flux densities"
   ]
  },
  {
   "cell_type": "code",
   "execution_count": null,
   "metadata": {},
   "outputs": [],
   "source": [
    "log_S = -0.9790 + 3.3662*np.log10(1284.) -1.1216*np.log10(1284.)**2 + 0.0861*np.log10(1284.)**3\n",
    "setjy(vis=msfile, field=f_cal, scalebychan=True, standard='manual', fluxdensity=[10**log_S,0,0,0])"
   ]
  },
  {
   "cell_type": "markdown",
   "metadata": {},
   "source": [
    "### Delay calibration using the flux cal"
   ]
  },
  {
   "cell_type": "code",
   "execution_count": null,
   "metadata": {},
   "outputs": [],
   "source": [
    "ktable = prefix + '.K'"
   ]
  },
  {
   "cell_type": "code",
   "execution_count": null,
   "metadata": {},
   "outputs": [],
   "source": [
    "rmtables(ktable)"
   ]
  },
  {
   "cell_type": "code",
   "execution_count": null,
   "metadata": {},
   "outputs": [],
   "source": [
    "gaincal(vis=msfile,\n",
    "        caltable=ktable,\n",
    "        field=f_cal,\n",
    "        gaintype='K',\n",
    "        solint='inf',\n",
    "        refant=ref_ant,\n",
    "        combine='scan',\n",
    "        solnorm=False,\n",
    "        minsnr=3.0,\n",
    "        gaintable=[])"
   ]
  },
  {
   "cell_type": "code",
   "execution_count": null,
   "metadata": {},
   "outputs": [],
   "source": [
    "plotcal(caltable=ktable,\n",
    "        xaxis='antenna',\n",
    "        yaxis='delay')"
   ]
  },
  {
   "cell_type": "markdown",
   "metadata": {},
   "source": [
    "### Through away calibration using the flux cal"
   ]
  },
  {
   "cell_type": "code",
   "execution_count": null,
   "metadata": {},
   "outputs": [],
   "source": [
    "gtable0 = prefix + '.G0'"
   ]
  },
  {
   "cell_type": "code",
   "execution_count": null,
   "metadata": {},
   "outputs": [],
   "source": [
    "rmtables(gtable0)"
   ]
  },
  {
   "cell_type": "code",
   "execution_count": null,
   "metadata": {},
   "outputs": [],
   "source": [
    "gaincal(vis=msfile,\n",
    "        caltable=gtable0,\n",
    "        field=f_cal,\n",
    "#        solint='int',\n",
    "        solint='inf',\n",
    "        refant=ref_ant,\n",
    "        gaintype='G',\n",
    "        solnorm=True,\n",
    "        calmode='p',\n",
    "        minsnr=3.0,\n",
    "        gaintable=[ktable])"
   ]
  },
  {
   "cell_type": "code",
   "execution_count": null,
   "metadata": {},
   "outputs": [],
   "source": [
    "plotcal(caltable=gtable0,\n",
    "        xaxis='time',\n",
    "        yaxis='phase',\n",
    "        plotrange = [-1, -1, -180, 180])"
   ]
  },
  {
   "cell_type": "markdown",
   "metadata": {},
   "source": [
    "### Solve for bandpass response using the flux cal"
   ]
  },
  {
   "cell_type": "code",
   "execution_count": null,
   "metadata": {},
   "outputs": [],
   "source": [
    "btable = prefix + '.B'"
   ]
  },
  {
   "cell_type": "code",
   "execution_count": null,
   "metadata": {},
   "outputs": [],
   "source": [
    "rmtables(btable)"
   ]
  },
  {
   "cell_type": "code",
   "execution_count": null,
   "metadata": {},
   "outputs": [],
   "source": [
    "bandpass(vis=msfile,\n",
    "         caltable=btable,\n",
    "         field=b_cal,\n",
    "         refant=ref_ant,\n",
    "         solnorm=True,\n",
    "         combine='scan',\n",
    "         solint='inf',\n",
    "         bandtype='B',\n",
    "         minsnr=3.0,\n",
    "         gaintable=[gtable0, ktable])"
   ]
  },
  {
   "cell_type": "code",
   "execution_count": null,
   "metadata": {},
   "outputs": [],
   "source": [
    "plotcal(caltable=btable,\n",
    "        xaxis='chan',\n",
    "        yaxis='phase',\n",
    "        field=b_cal,\n",
    "        plotrange = [-1, -1, -180, 180])"
   ]
  },
  {
   "cell_type": "markdown",
   "metadata": {},
   "source": [
    "### Complex gain calibration"
   ]
  },
  {
   "cell_type": "code",
   "execution_count": null,
   "metadata": {},
   "outputs": [],
   "source": [
    "gtable = prefix + '.G'"
   ]
  },
  {
   "cell_type": "code",
   "execution_count": null,
   "metadata": {},
   "outputs": [],
   "source": [
    "rmtables(gtable)"
   ]
  },
  {
   "cell_type": "code",
   "execution_count": null,
   "metadata": {},
   "outputs": [],
   "source": [
    "gaincal(vis=msfile,\n",
    "        caltable=gtable,\n",
    "        field=f_cal,\n",
    "        solint='int',\n",
    "        refant=ref_ant,\n",
    "        combine='spw',\n",
    "        gaintype='G',\n",
    "        calmode='ap',\n",
    "        minsnr=1.0,\n",
    "        solnorm=False,\n",
    "        gaintable=[btable, ktable])"
   ]
  },
  {
   "cell_type": "code",
   "execution_count": null,
   "metadata": {},
   "outputs": [],
   "source": [
    "gaincal(vis=msfile,\n",
    "        caltable=gtable,\n",
    "        field=g_cal,\n",
    "        solint='int',\n",
    "        refant=ref_ant,\n",
    "        combine='spw',\n",
    "        gaintype='G',\n",
    "        calmode='ap',\n",
    "        minsnr=1.0,\n",
    "        solnorm=False,\n",
    "        append=True,\n",
    "        gaintable=[btable, ktable])"
   ]
  },
  {
   "cell_type": "code",
   "execution_count": null,
   "metadata": {},
   "outputs": [],
   "source": [
    "plotcal(caltable=gtable,\n",
    "        xaxis='time',\n",
    "        yaxis='phase',\n",
    "        field=f_cal+','+g_cal,\n",
    "        plotrange=[-1, -1, -180, 180])"
   ]
  },
  {
   "cell_type": "markdown",
   "metadata": {},
   "source": [
    "### Flux calibration"
   ]
  },
  {
   "cell_type": "code",
   "execution_count": null,
   "metadata": {},
   "outputs": [],
   "source": [
    "ftable = prefix + '.flux'"
   ]
  },
  {
   "cell_type": "code",
   "execution_count": null,
   "metadata": {},
   "outputs": [],
   "source": [
    "rmtables(ftable)"
   ]
  },
  {
   "cell_type": "code",
   "execution_count": null,
   "metadata": {},
   "outputs": [],
   "source": [
    "fluxscale(vis=msfile,\n",
    "          caltable=gtable,\n",
    "          fluxtable=ftable,\n",
    "          reference=f_cal,\n",
    "          transfer=g_cal)"
   ]
  },
  {
   "cell_type": "markdown",
   "metadata": {},
   "source": [
    "### Apply calibration separately to each source"
   ]
  },
  {
   "cell_type": "code",
   "execution_count": null,
   "metadata": {},
   "outputs": [],
   "source": [
    "applycal(vis=msfile,\n",
    "         field=f_cal,\n",
    "         gaintable=[ftable, btable, ktable],\n",
    "         gainfield=[f_cal, f_cal, f_cal],\n",
    "         interp=['', 'nearest', ''],\n",
    "         calwt=False,\n",
    "         applymode='calflag')"
   ]
  },
  {
   "cell_type": "code",
   "execution_count": null,
   "metadata": {
    "scrolled": false
   },
   "outputs": [],
   "source": [
    "plotms(vis=msfile,\n",
    "       xaxis='time',\n",
    "       yaxis='amp',\n",
    "       ydatacolumn='corrected',\n",
    "       correlation='XX,YY',\n",
    "       field=f_cal,\n",
    "       coloraxis='corr',\n",
    "       averagedata=True,\n",
    "       avgbaseline=True,\n",
    "       avgchannel='4096')"
   ]
  },
  {
   "cell_type": "code",
   "execution_count": null,
   "metadata": {},
   "outputs": [],
   "source": [
    "applycal(vis=msfile,\n",
    "         field=g_cal,\n",
    "         gaintable=[ftable, btable, ktable],\n",
    "         gainfield=[g_cal, b_cal, f_cal],\n",
    "         interp=['', 'nearest', ''],\n",
    "         calwt=False,\n",
    "         applymode='calflag')"
   ]
  },
  {
   "cell_type": "code",
   "execution_count": null,
   "metadata": {
    "scrolled": false
   },
   "outputs": [],
   "source": [
    "plotms(vis=msfile,\n",
    "       xaxis='time',\n",
    "       yaxis='amp',\n",
    "       ydatacolumn='corrected',\n",
    "       correlation='XX,YY',\n",
    "       field=g_cal,\n",
    "       coloraxis='corr',\n",
    "       averagedata=True,\n",
    "       avgbaseline=True,\n",
    "       avgchannel='4096')"
   ]
  },
  {
   "cell_type": "markdown",
   "metadata": {},
   "source": [
    "### Verify efficiency of calibration and flagging"
   ]
  },
  {
   "cell_type": "raw",
   "metadata": {},
   "source": [
    "plotms(vis=msfile,\n",
    "       xaxis='imag',\n",
    "       yaxis='real',\n",
    "       correlation='XX,YY',\n",
    "       xdatacolumn='corrected',\n",
    "       ydatacolumn='corrected',\n",
    "       field=f_cal,\n",
    "       avgscan=False,\n",
    "       coloraxis='scan')"
   ]
  },
  {
   "cell_type": "raw",
   "metadata": {},
   "source": [
    "plotms(vis=msfile,\n",
    "       xaxis='imag',\n",
    "       yaxis='real',\n",
    "       correlation='XX,YY',\n",
    "       xdatacolumn='corrected',\n",
    "       ydatacolumn='corrected',\n",
    "       field=g_cal,\n",
    "       avgscan=False,\n",
    "       coloraxis='scan')"
   ]
  },
  {
   "cell_type": "raw",
   "metadata": {},
   "source": [
    "plotms(vis=msfile,\n",
    "       xaxis='phase',\n",
    "       yaxis='amp',\n",
    "       correlation='XX,YY',\n",
    "       xdatacolumn='corrected',\n",
    "       ydatacolumn='corrected',\n",
    "       field=f_cal,\n",
    "       avgscan=False,\n",
    "       coloraxis='corr')"
   ]
  },
  {
   "cell_type": "raw",
   "metadata": {},
   "source": [
    "plotms(vis=msfile,\n",
    "       xaxis='phase',\n",
    "       yaxis='amp',\n",
    "       correlation='XX,YY',\n",
    "       xdatacolumn='corrected',\n",
    "       ydatacolumn='corrected',\n",
    "       field=g_cal,\n",
    "       avgscan=False,\n",
    "       coloraxis='corr')"
   ]
  },
  {
   "cell_type": "raw",
   "metadata": {},
   "source": []
  },
  {
   "cell_type": "raw",
   "metadata": {},
   "source": []
  },
  {
   "cell_type": "raw",
   "metadata": {},
   "source": []
  },
  {
   "cell_type": "raw",
   "metadata": {},
   "source": []
  },
  {
   "cell_type": "raw",
   "metadata": {},
   "source": []
  },
  {
   "cell_type": "raw",
   "metadata": {},
   "source": []
  }
 ],
 "metadata": {
  "kernelspec": {
   "display_name": "Casa",
   "language": "casa",
   "name": "casapy"
  },
  "language_info": {
   "mimetype": "text/plain",
   "name": "Casa"
  }
 },
 "nbformat": 4,
 "nbformat_minor": 2
}
