{
 "cells": [
  {
   "cell_type": "code",
   "execution_count": 1,
   "metadata": {},
   "outputs": [],
   "source": [
    "from astropy.coordinates import SkyCoord\n",
    "from astropy import units as u\n",
    "from astropy.coordinates import Galactic, ICRS\n",
    "\n",
    "from ipywidgets import widgets\n",
    "from IPython.display import display\n",
    "from ipywidgets import interact\n",
    "\n",
    "from numpy import recarray\n",
    "import os"
   ]
  },
  {
   "cell_type": "markdown",
   "metadata": {},
   "source": [
    "Position coordinates for galactic targets are converted to celestial target coordinates.    \n",
    "Calibrator targets can then be added and elevation plots generated of all targets"
   ]
  },
  {
   "cell_type": "markdown",
   "metadata": {},
   "source": [
    "Input coordinates assumes the (`HMS`, `DMS`) string format for both galactic $(l, b)$ and celestial $(\\alpha, \\delta)$ coordinates."
   ]
  },
  {
   "cell_type": "code",
   "execution_count": 2,
   "metadata": {},
   "outputs": [],
   "source": [
    "class ObsTargets(object):\n",
    "    def __init__(self):\n",
    "        self.dtype = {'names': ('name', 'gal', 'radec'),\n",
    "                      'formats': ('S12', SkyCoord, SkyCoord),\n",
    "                      }\n",
    "        self.targets = recarray((0,), dtype=self.dtype)\n",
    "        \n",
    "    def add_target(self, name, gal_coord, radec_coord):\n",
    "        self.targets.resize(self.targets.size+1)\n",
    "        self.targets[-1] = (name, gal_coord, radec_coord)\n",
    "    \n",
    "    def clear_targets(self):\n",
    "        self.targets = recarray((0,), dtype=self.dtype)\n",
    "    \n",
    "    def add_gal_coordinate(self, name, glon_str, glat_str):\n",
    "        gal_coord = SkyCoord(l=glon_str, b=glat_str, frame=Galactic)\n",
    "        radec_coord = gal_coord.transform_to(ICRS)\n",
    "        self.add_target(name, gal_coord, radec_coord)\n",
    "    \n",
    "    def add_radec_coordinate(self, name, ra_str, dec_str):\n",
    "        radec_coord = SkyCoord(ra=ra_str, dec=dec_str,\n",
    "                               unit=(u.hourangle, u.deg),\n",
    "                               frame=ICRS)\n",
    "        gal_coord = radec_coord.transform_to(Galactic)\n",
    "        self.add_target(name, gal_coord, radec_coord)\n",
    "    \n",
    "    def show_gal_coordinates(self):\n",
    "        str_list = ''\n",
    "        for target in self.targets:\n",
    "            str_list +=\"name={}, gal={}\\n\".format(target.name,\n",
    "                                                  target.gal.to_string('hmsdms'))\n",
    "        return str_list\n",
    "    \n",
    "    def show_radec_coordinates(self):\n",
    "        str_list = ''\n",
    "        for target in self.targets:\n",
    "            ra_str = target.radec.ra.to_string(unit=u.hourangle,\n",
    "                                               sep=':',\n",
    "                                               precision=4,\n",
    "                                               pad=True)\n",
    "            dec_str = target.radec.dec.to_string(sep=':',\n",
    "                                                 precision=4,\n",
    "                                                 alwayssign=True,\n",
    "                                                 pad=True)\n",
    "            str_list +=\"Name={}, radec={} {}\\n\".format(target.name,\n",
    "                                                       str(ra_str),\n",
    "                                                       str(dec_str))\n",
    "        return str_list\n",
    "    \n",
    "    def write_file(self, filename, outstr, verbose=False):\n",
    "        with open(filename, 'w') as fout:\n",
    "            fout.write(outstr)\n",
    "        print('File saved as: {}'.format(os.path.join(os.getcwd(),filename)))\n",
    "        if verbose:\n",
    "            print(outstr)\n",
    "    \n",
    "    def write_gal_csv(self, filename='gal_coords.csv'):\n",
    "        outstr = ''\n",
    "        for target in self.targets:\n",
    "            outstr += '{}, gal target, {:.3f}, {:.3f}\\n'.format(target.name,\n",
    "                                                                target.gal.l.degree,\n",
    "                                                                target.gal.b.degree)\n",
    "        self.write_file(filename, outstr)\n",
    "        \n",
    "    def write_radec_csv(self, filename='radec_coords.csv', verbose=False):\n",
    "        outstr = ''\n",
    "        for target in self.targets:\n",
    "            ra_str = target.radec.ra.to_string(unit=u.hourangle, sep=':', precision=3,pad=True)\n",
    "            dec_str = target.radec.dec.to_string(sep=':',precision=3, alwayssign=True, pad=True)\n",
    "            outstr += '{}, radec target, {}, {}\\n'.format(target.name,\n",
    "                                                          ra_str,\n",
    "                                                          dec_str)\n",
    "        self.write_file(filename, outstr, verbose=verbose)"
   ]
  },
  {
   "cell_type": "code",
   "execution_count": 3,
   "metadata": {},
   "outputs": [],
   "source": [
    "class list_inputs():\n",
    "    def __init__(self,\n",
    "                 gname='', \n",
    "                 glon='',  \n",
    "                 glat='',  \n",
    "                 cname='', \n",
    "                 ra='',  \n",
    "                 dec='',  \n",
    "                 prefill=False,\n",
    "                ):\n",
    "        \n",
    "        if prefill:\n",
    "            gname, glon, glat = 'Test', '1h12m43.2s', '+1d12m43s'\n",
    "            cname, ra, dec = 'Test', '00h42m44.2992s', '+41d16m09.012s'\n",
    "                \n",
    "        self.gname = self._add_text_(description='Name', value=gname)\n",
    "        # The Galactic longitude for this object\n",
    "        self.glon = self._add_text_(description='Lon (l)', value=glon)\n",
    "        # The Galactic latitude for this object\n",
    "        self.glat = self._add_text_(description='Lat (b)', value=glat)\n",
    "        # Create explicit add button\n",
    "        self.add_gbutton = widgets.Button(description='Add target', layout={'width':'auto'})\n",
    "        \n",
    "        self.cname = self._add_text_(description='Name', value=cname)\n",
    "        # The right ascension for this object\n",
    "        self.ra = self._add_text_(description='RA', value=ra)\n",
    "        # The declination for this object\n",
    "        self.dec = self._add_text_(description='Dec', value=dec)\n",
    "        # Create explicit add button\n",
    "        self.add_cbutton = widgets.Button(description='Add target', layout={'width':'auto'})\n",
    "        \n",
    "        # Create explicit clear button\n",
    "        gal_header = widgets.Button(description='Enter galactic target coordinates',\n",
    "                                    disabled=True, button_style='', tooltip='', icon='',\n",
    "                                    layout={'width':'608px'})        \n",
    "        header_0_0 = self._add_header_(description='T11R00C02')\n",
    "        header_0_1 = self._add_header_(description='21h51m30.37s')        \n",
    "        header_0_2 = self._add_header_(description='+00d59m15.56s')        \n",
    " \n",
    "        radec_header = widgets.Button(description='Enter celestial target coordinates',\n",
    "                                      disabled=True, button_style='', tooltip='', icon='',\n",
    "                                      layout={'width':'608px'})        \n",
    "        header_1_0 = self._add_header_(description='J1939-6342')\n",
    "        header_1_1 = self._add_header_(description='19h39m25.0264s')        \n",
    "        header_1_2 = self._add_header_(description='-63d42m45.624s')        \n",
    " \n",
    "        headers_0 = widgets.HBox([header_0_0, header_0_1, header_0_2])\n",
    "        galactic_target = widgets.HBox([self.gname, self.glon, self.glat, self.add_gbutton])\n",
    "        headers_1 = widgets.HBox([header_1_0, header_1_1, header_1_2])\n",
    "        celestial_target = widgets.HBox([self.cname, self.ra, self.dec, self.add_cbutton])\n",
    "        self.ui = widgets.VBox([gal_header, headers_0, galactic_target,\n",
    "                                radec_header, headers_1, celestial_target])\n",
    "\n",
    "    def _add_header_(self, description):\n",
    "        header_layout = {'width':'200px', 'min_width':'200px',\n",
    "                         'height':'28px', 'min_height':'28px'}\n",
    "        return widgets.Button(description=description,\n",
    "                              disabled=True,\n",
    "                              button_style='',\n",
    "                              tooltip='',\n",
    "                              icon='',\n",
    "                              layout=header_layout)\n",
    "\n",
    "    def _add_text_(self, description, value=''):\n",
    "        text_style = {'description_width': 'initial'}\n",
    "        text_layout = {'width':'200px', 'min_width':'200px'}\n",
    "        return widgets.Text(description=description,\n",
    "                            value=value,\n",
    "                            layout=text_layout,\n",
    "                            style=text_style)"
   ]
  },
  {
   "cell_type": "code",
   "execution_count": 4,
   "metadata": {},
   "outputs": [],
   "source": [
    "class list_output():\n",
    "    def __init__(self):\n",
    "        row_style = {'description_width': 'initial'}\n",
    "        row_layout = {'width':'400px', 'min_width':'400px', 'height':'200px', 'min_height':'200px'}\n",
    "        self.galactice_coordinates = widgets.Textarea(layout=row_layout, style=row_style)\n",
    "        self.celestial_coordinates = widgets.Textarea(layout=row_layout, style=row_style)\n",
    "        # Create explicit clear button\n",
    "        self.clear_button = widgets.Button(description='Clear lists', layout={'width':'803px'})\n",
    "        output_coordinates = widgets.HBox([self.galactice_coordinates,\n",
    "                                           self.celestial_coordinates])\n",
    "        \n",
    "        header_layout = {'width':'400px', 'min_width':'400px', 'height':'28px', 'min_height':'28px'}\n",
    "        header_0 = widgets.Button(description='Galactic target list',\n",
    "                                  disabled=True,\n",
    "                                  button_style='',\n",
    "                                  tooltip='',\n",
    "                                  icon='',\n",
    "                                  layout=header_layout)\n",
    "        header_1 = widgets.Button(description='Celestial target list',\n",
    "                                  disabled=True,\n",
    "                                  button_style='',\n",
    "                                  tooltip='',\n",
    "                                  icon='',\n",
    "                                  layout=header_layout)\n",
    "        headers = widgets.HBox([header_0, header_1])\n",
    "        \n",
    "        self.save_gal = widgets.Button(description='Save as CSV',\n",
    "                                       layout=header_layout)\n",
    "        self.save_radec = widgets.Button(description='Save as CSV',\n",
    "                                         layout=header_layout)\n",
    "        savebuttons = widgets.HBox([self.save_gal, self.save_radec])\n",
    "        \n",
    "        self.ui = widgets.VBox([self.clear_button, savebuttons, headers, output_coordinates])"
   ]
  },
  {
   "cell_type": "code",
   "execution_count": 5,
   "metadata": {},
   "outputs": [],
   "source": [
    "def decode(wdgt_text):\n",
    "    if isinstance(wdgt_text, str):\n",
    "        text = wdgt_text\n",
    "    else:\n",
    "        text = wdgt_text.decode(encoding)\n",
    "    return text"
   ]
  },
  {
   "cell_type": "code",
   "execution_count": 6,
   "metadata": {},
   "outputs": [
    {
     "name": "stdout",
     "output_type": "stream",
     "text": [
      "Press 'Add target' button to append the target to the lists displayed\n"
     ]
    },
    {
     "data": {
      "application/vnd.jupyter.widget-view+json": {
       "model_id": "a34e1e92add749a5a40c9111cace5e4d",
       "version_major": 2,
       "version_minor": 0
      },
      "text/plain": [
       "VBox(children=(Button(description='Enter galactic target coordinates', disabled=True, layout=Layout(width='608…"
      ]
     },
     "metadata": {},
     "output_type": "display_data"
    },
    {
     "data": {
      "application/vnd.jupyter.widget-view+json": {
       "model_id": "351963c71ac940d298e9dd9ab849b906",
       "version_major": 2,
       "version_minor": 0
      },
      "text/plain": [
       "VBox(children=(Button(description='Clear lists', layout=Layout(width='803px'), style=ButtonStyle()), HBox(chil…"
      ]
     },
     "metadata": {},
     "output_type": "display_data"
    }
   ],
   "source": [
    "obs_targets = ObsTargets()\n",
    "inputs = list_inputs(prefill=True)\n",
    "outputs = list_output()\n",
    "\n",
    "# Define function to bind value of the input to the output variable\n",
    "def update_output(obs_targets):\n",
    "    outputs.galactice_coordinates.value = decode(obs_targets.show_gal_coordinates())\n",
    "    outputs.celestial_coordinates.value = decode(obs_targets.show_radec_coordinates())\n",
    "\n",
    "def add_gal_target(sender):\n",
    "    obs_targets.add_gal_coordinate(str(inputs.gname.value),\n",
    "                                   str(inputs.glon.value),\n",
    "                                   str(inputs.glat.value))\n",
    "    update_output(obs_targets)\n",
    "    \n",
    "def add_radec_target(sender):\n",
    "    obs_targets.add_radec_coordinate(str(inputs.cname.value),\n",
    "                                     str(inputs.ra.value),\n",
    "                                     str(inputs.dec.value))\n",
    "    update_output(obs_targets)\n",
    "    \n",
    "def clear_lists(wdgt):\n",
    "    obs_targets.clear_targets()\n",
    "    outputs.galactice_coordinates.value = decode(obs_targets.show_gal_coordinates())\n",
    "    outputs.celestial_coordinates.value = decode(obs_targets.show_radec_coordinates())\n",
    "\n",
    "def write_gal_targets(sender):\n",
    "    obs_targets.write_gal_csv()\n",
    "\n",
    "def write_radec_targets(sender):\n",
    "    obs_targets.write_radec_csv(verbose=True)\n",
    "\n",
    "# functionality\n",
    "print(\"Press 'Add target' button to append the target to the lists displayed\")\n",
    "display(inputs.ui)\n",
    "display(outputs.ui)\n",
    "inputs.add_gbutton.on_click(add_gal_target)\n",
    "inputs.add_cbutton.on_click(add_radec_target)\n",
    "outputs.clear_button.on_click(clear_lists)\n",
    "outputs.save_gal.on_click(write_gal_targets)\n",
    "outputs.save_radec.on_click(write_radec_targets)"
   ]
  },
  {
   "cell_type": "code",
   "execution_count": null,
   "metadata": {},
   "outputs": [],
   "source": []
  }
 ],
 "metadata": {
  "kernelspec": {
   "display_name": "Python 3",
   "language": "python",
   "name": "python3"
  },
  "language_info": {
   "codemirror_mode": {
    "name": "ipython",
    "version": 3
   },
   "file_extension": ".py",
   "mimetype": "text/x-python",
   "name": "python",
   "nbconvert_exporter": "python",
   "pygments_lexer": "ipython3",
   "version": "3.6.9"
  },
  "widgets": {
   "application/vnd.jupyter.widget-state+json": {
    "state": {
     "00565df76a5b4d459921167e7227ad00": {
      "model_module": "@jupyter-widgets/controls",
      "model_module_version": "1.5.0",
      "model_name": "ButtonStyleModel",
      "state": {}
     },
     "019bc64bdfc04533bcc700fd2f0e72a5": {
      "model_module": "@jupyter-widgets/base",
      "model_module_version": "1.2.0",
      "model_name": "LayoutModel",
      "state": {
       "min_width": "200px",
       "width": "200px"
      }
     },
     "02665e5cd9d54b9b93d0f878940e4084": {
      "model_module": "@jupyter-widgets/controls",
      "model_module_version": "1.5.0",
      "model_name": "HBoxModel",
      "state": {
       "children": [
        "IPY_MODEL_ece4fa1a71b8412e9566f70e299594dd",
        "IPY_MODEL_5cd6c0c1855641b39aac70a09eeca2cd",
        "IPY_MODEL_b67ac9bf5b0547c98f7f86ed8e8ce6aa",
        "IPY_MODEL_195a58f437414c36a265a2dcf2291dca"
       ],
       "layout": "IPY_MODEL_4313fcb52f164c3591eded82419055ec"
      }
     },
     "0450e04f0d444630ab851f8ed4ca49cb": {
      "model_module": "@jupyter-widgets/controls",
      "model_module_version": "1.5.0",
      "model_name": "VBoxModel",
      "state": {
       "children": [
        "IPY_MODEL_21150e9326324a5ab93655004aae0aaf",
        "IPY_MODEL_fd4433af9fbe46d6ba73ff9cdf6d190e",
        "IPY_MODEL_02665e5cd9d54b9b93d0f878940e4084",
        "IPY_MODEL_3d471f6949104161a300614743085a9a",
        "IPY_MODEL_f763679f836b484291cfdcd7b6f2f0f6",
        "IPY_MODEL_1da7e8693a3a4416bed987eed669af19"
       ],
       "layout": "IPY_MODEL_5fd27b9fcdb94238967c5eb2824543ec"
      }
     },
     "04caa16717c84dcd867db50e6bc8cd31": {
      "model_module": "@jupyter-widgets/base",
      "model_module_version": "1.2.0",
      "model_name": "LayoutModel",
      "state": {
       "min_width": "200px",
       "width": "200px"
      }
     },
     "05edcefdc8724993aeca75ef3fba32bf": {
      "model_module": "@jupyter-widgets/base",
      "model_module_version": "1.2.0",
      "model_name": "LayoutModel",
      "state": {}
     },
     "06af038cd3534b08865382c1ff7e3b75": {
      "model_module": "@jupyter-widgets/controls",
      "model_module_version": "1.5.0",
      "model_name": "DescriptionStyleModel",
      "state": {
       "description_width": "initial"
      }
     },
     "06d6ca31d8b44cdab47d0d6cbbe6d802": {
      "model_module": "@jupyter-widgets/controls",
      "model_module_version": "1.5.0",
      "model_name": "ButtonModel",
      "state": {
       "description": "T11R00C02",
       "disabled": true,
       "layout": "IPY_MODEL_c3bc9d7ee81447a6a5751631b7c84851",
       "style": "IPY_MODEL_a02a93dd84f641f8ac1ea6a67fc9afb3"
      }
     },
     "0713969f5ec44d4f94952c873a11ff8d": {
      "model_module": "@jupyter-widgets/controls",
      "model_module_version": "1.5.0",
      "model_name": "ButtonModel",
      "state": {
       "description": "21h51m30.37s",
       "disabled": true,
       "layout": "IPY_MODEL_a29606f16c814afb837cf66ffae01944",
       "style": "IPY_MODEL_5005c161f2834559b22393a2058f6c39"
      }
     },
     "07b951c9bd7e4b28be3c57b364e5e010": {
      "model_module": "@jupyter-widgets/controls",
      "model_module_version": "1.5.0",
      "model_name": "DescriptionStyleModel",
      "state": {
       "description_width": "initial"
      }
     },
     "08345f61db004e6f9d1611bb1575d048": {
      "model_module": "@jupyter-widgets/controls",
      "model_module_version": "1.5.0",
      "model_name": "ButtonStyleModel",
      "state": {}
     },
     "0a41c8bd819944c8b15237d8278cc9fa": {
      "model_module": "@jupyter-widgets/base",
      "model_module_version": "1.2.0",
      "model_name": "LayoutModel",
      "state": {
       "height": "28px",
       "min_height": "28px",
       "min_width": "400px",
       "width": "400px"
      }
     },
     "1075f3b2984844429d6e640ba8ab5058": {
      "model_module": "@jupyter-widgets/base",
      "model_module_version": "1.2.0",
      "model_name": "LayoutModel",
      "state": {
       "height": "28px",
       "min_height": "28px",
       "min_width": "200px",
       "width": "200px"
      }
     },
     "1124a9c522694e6a925d8a6c85e3af78": {
      "model_module": "@jupyter-widgets/base",
      "model_module_version": "1.2.0",
      "model_name": "LayoutModel",
      "state": {
       "height": "28px",
       "min_height": "28px",
       "min_width": "200px",
       "width": "200px"
      }
     },
     "112738b9edbe4be08b3eb308b8355031": {
      "model_module": "@jupyter-widgets/base",
      "model_module_version": "1.2.0",
      "model_name": "LayoutModel",
      "state": {}
     },
     "115028c550d5423f85389cd9a81c3379": {
      "model_module": "@jupyter-widgets/base",
      "model_module_version": "1.2.0",
      "model_name": "LayoutModel",
      "state": {
       "height": "28px",
       "min_height": "28px",
       "min_width": "400px",
       "width": "400px"
      }
     },
     "11f703e27b3e4b5ba92a686c06599a60": {
      "model_module": "@jupyter-widgets/controls",
      "model_module_version": "1.5.0",
      "model_name": "ButtonModel",
      "state": {
       "description": "19h39m25.0264s",
       "disabled": true,
       "layout": "IPY_MODEL_f70579e79dc647c8b004068b9d5e58d2",
       "style": "IPY_MODEL_16168abd5a7446fa9fae2ab332a1e6ee"
      }
     },
     "13a3ac65356946ed9c50fe6e1a70d95e": {
      "model_module": "@jupyter-widgets/controls",
      "model_module_version": "1.5.0",
      "model_name": "ButtonStyleModel",
      "state": {}
     },
     "13bd877e609445e9a8f8b3a9a5f163bf": {
      "model_module": "@jupyter-widgets/controls",
      "model_module_version": "1.5.0",
      "model_name": "DescriptionStyleModel",
      "state": {
       "description_width": "initial"
      }
     },
     "1578d31911754d54b5495e996644accf": {
      "model_module": "@jupyter-widgets/controls",
      "model_module_version": "1.5.0",
      "model_name": "TextModel",
      "state": {
       "description": "Dec",
       "layout": "IPY_MODEL_db6b6ea2430b4da093095896ce2debbd",
       "style": "IPY_MODEL_06af038cd3534b08865382c1ff7e3b75",
       "value": "+41d16m09.012s"
      }
     },
     "16168abd5a7446fa9fae2ab332a1e6ee": {
      "model_module": "@jupyter-widgets/controls",
      "model_module_version": "1.5.0",
      "model_name": "ButtonStyleModel",
      "state": {}
     },
     "167499a0fa72451d89373f8c73ea2aa8": {
      "model_module": "@jupyter-widgets/controls",
      "model_module_version": "1.5.0",
      "model_name": "DescriptionStyleModel",
      "state": {
       "description_width": "initial"
      }
     },
     "195a58f437414c36a265a2dcf2291dca": {
      "model_module": "@jupyter-widgets/controls",
      "model_module_version": "1.5.0",
      "model_name": "ButtonModel",
      "state": {
       "description": "Add target",
       "layout": "IPY_MODEL_fd18c0c123e5407e9462d4e685aefb8b",
       "style": "IPY_MODEL_796cfebcad794a94b48afe24c49f3837"
      }
     },
     "1ad1367a0d114fd99e0229779c3b8e80": {
      "model_module": "@jupyter-widgets/controls",
      "model_module_version": "1.5.0",
      "model_name": "ButtonModel",
      "state": {
       "description": "21h51m30.37s",
       "disabled": true,
       "layout": "IPY_MODEL_d6dc554a8f2645d19c456bb648b28644",
       "style": "IPY_MODEL_4287c2aa330440b89542f01b963624d4"
      }
     },
     "1adb857f75694de19f0e7f3d392fcb4c": {
      "model_module": "@jupyter-widgets/controls",
      "model_module_version": "1.5.0",
      "model_name": "HBoxModel",
      "state": {
       "children": [
        "IPY_MODEL_d49334a302d14380a7f8ac9cd5159c5f",
        "IPY_MODEL_d43645613a8d404baff9f60fc494b081"
       ],
       "layout": "IPY_MODEL_7ae7b319ba524447a84868d479952f35"
      }
     },
     "1cb802de5b42457c870aa04374268511": {
      "model_module": "@jupyter-widgets/controls",
      "model_module_version": "1.5.0",
      "model_name": "HBoxModel",
      "state": {
       "children": [
        "IPY_MODEL_fbd81833a6c04d80bc079dd047f244c2",
        "IPY_MODEL_6b3f59d6b56041d7a70b5b7c9c088205"
       ],
       "layout": "IPY_MODEL_96c1011b25b240569b4d8c13e3702545"
      }
     },
     "1cc9219463b34ced8e3a9316d81b9eb7": {
      "model_module": "@jupyter-widgets/base",
      "model_module_version": "1.2.0",
      "model_name": "LayoutModel",
      "state": {
       "height": "28px",
       "min_height": "28px",
       "min_width": "400px",
       "width": "400px"
      }
     },
     "1d67be374a1b4558a766d794f7d85e08": {
      "model_module": "@jupyter-widgets/controls",
      "model_module_version": "1.5.0",
      "model_name": "DescriptionStyleModel",
      "state": {
       "description_width": "initial"
      }
     },
     "1d909f6566834cf19a9604e089733d06": {
      "model_module": "@jupyter-widgets/controls",
      "model_module_version": "1.5.0",
      "model_name": "DescriptionStyleModel",
      "state": {
       "description_width": "initial"
      }
     },
     "1da7e8693a3a4416bed987eed669af19": {
      "model_module": "@jupyter-widgets/controls",
      "model_module_version": "1.5.0",
      "model_name": "HBoxModel",
      "state": {
       "children": [
        "IPY_MODEL_8f23794c561f44e1933fa9036c8ee7fe",
        "IPY_MODEL_adca1d4d9aa14fa9b8bf61d3a7eec4c4",
        "IPY_MODEL_a96d8952756c4b9587bf5802e631a6a2",
        "IPY_MODEL_96e0a21905c34c4d9e62c32090b8a665"
       ],
       "layout": "IPY_MODEL_3e30bbd758e842e496db7bc9cba9165f"
      }
     },
     "1dac3a9205474d26891390050aee1bf4": {
      "model_module": "@jupyter-widgets/base",
      "model_module_version": "1.2.0",
      "model_name": "LayoutModel",
      "state": {
       "height": "28px",
       "min_height": "28px",
       "min_width": "400px",
       "width": "400px"
      }
     },
     "21150e9326324a5ab93655004aae0aaf": {
      "model_module": "@jupyter-widgets/controls",
      "model_module_version": "1.5.0",
      "model_name": "ButtonModel",
      "state": {
       "description": "Enter galactic target coordinates",
       "disabled": true,
       "layout": "IPY_MODEL_3138c148b9be44f8a9b63cf6bbff786b",
       "style": "IPY_MODEL_28b0cee74bde4278b461ab8c24599c94"
      }
     },
     "216d5badd21741169ff098737907597f": {
      "model_module": "@jupyter-widgets/base",
      "model_module_version": "1.2.0",
      "model_name": "LayoutModel",
      "state": {
       "width": "803px"
      }
     },
     "2265b0b8d31c458997aa0a953d1a5f95": {
      "model_module": "@jupyter-widgets/base",
      "model_module_version": "1.2.0",
      "model_name": "LayoutModel",
      "state": {
       "height": "28px",
       "min_height": "28px",
       "min_width": "200px",
       "width": "200px"
      }
     },
     "2282c4ea116d495d9f13ea5f1a000590": {
      "model_module": "@jupyter-widgets/controls",
      "model_module_version": "1.5.0",
      "model_name": "ButtonModel",
      "state": {
       "description": "-63d42m45.624s",
       "disabled": true,
       "layout": "IPY_MODEL_5a0a3ee3a34248c5940edca975a9d067",
       "style": "IPY_MODEL_b291b1cf4e7544c3b26fe02b7ef30639"
      }
     },
     "24368a02df7743b4b101d8e5d2ff1424": {
      "model_module": "@jupyter-widgets/controls",
      "model_module_version": "1.5.0",
      "model_name": "ButtonModel",
      "state": {
       "description": "Enter galactic target coordinates",
       "disabled": true,
       "layout": "IPY_MODEL_f814c5a7b07c414a80607223fe668917",
       "style": "IPY_MODEL_bbcb42a2e6614f109b2a0e51a409b8ce"
      }
     },
     "26edf88573b64b3ab26faef0d8a0873c": {
      "model_module": "@jupyter-widgets/base",
      "model_module_version": "1.2.0",
      "model_name": "LayoutModel",
      "state": {
       "width": "auto"
      }
     },
     "27efadbb8e314efaaeca7dffec277b33": {
      "model_module": "@jupyter-widgets/controls",
      "model_module_version": "1.5.0",
      "model_name": "ButtonStyleModel",
      "state": {}
     },
     "28b0cee74bde4278b461ab8c24599c94": {
      "model_module": "@jupyter-widgets/controls",
      "model_module_version": "1.5.0",
      "model_name": "ButtonStyleModel",
      "state": {}
     },
     "2c1594e55d47477d8e426fad0129bc71": {
      "model_module": "@jupyter-widgets/controls",
      "model_module_version": "1.5.0",
      "model_name": "ButtonStyleModel",
      "state": {}
     },
     "2c3411eba57040abbe89fe6701af1f6b": {
      "model_module": "@jupyter-widgets/controls",
      "model_module_version": "1.5.0",
      "model_name": "TextModel",
      "state": {
       "description": "Name",
       "layout": "IPY_MODEL_353b94eb886a45628f39c8814b1fef9c",
       "style": "IPY_MODEL_bcfc802d8d394f06adaf7cf3d0d45d05",
       "value": "Test"
      }
     },
     "2edd45cd19154e7da73c55fe4a77d11e": {
      "model_module": "@jupyter-widgets/controls",
      "model_module_version": "1.5.0",
      "model_name": "DescriptionStyleModel",
      "state": {
       "description_width": "initial"
      }
     },
     "2ee77073d4e3466db21e8015d6bbe70c": {
      "model_module": "@jupyter-widgets/controls",
      "model_module_version": "1.5.0",
      "model_name": "ButtonStyleModel",
      "state": {}
     },
     "300e8630094941efb7dc9d9fce09f53a": {
      "model_module": "@jupyter-widgets/base",
      "model_module_version": "1.2.0",
      "model_name": "LayoutModel",
      "state": {
       "height": "28px",
       "min_height": "28px",
       "min_width": "400px",
       "width": "400px"
      }
     },
     "30bbf4cf692e49929c206f4e6c75e1b0": {
      "model_module": "@jupyter-widgets/base",
      "model_module_version": "1.2.0",
      "model_name": "LayoutModel",
      "state": {}
     },
     "30c68db18b2945169e656e21bbc64063": {
      "model_module": "@jupyter-widgets/controls",
      "model_module_version": "1.5.0",
      "model_name": "ButtonModel",
      "state": {
       "description": "Add target",
       "layout": "IPY_MODEL_bb089c68205d471586b519d556ff43cf",
       "style": "IPY_MODEL_c31c753cbcb04c62bcbda130d98f7621"
      }
     },
     "312fa26369fc4f23a17dc19a58430db9": {
      "model_module": "@jupyter-widgets/controls",
      "model_module_version": "1.5.0",
      "model_name": "ButtonStyleModel",
      "state": {}
     },
     "3138c148b9be44f8a9b63cf6bbff786b": {
      "model_module": "@jupyter-widgets/base",
      "model_module_version": "1.2.0",
      "model_name": "LayoutModel",
      "state": {
       "width": "608px"
      }
     },
     "3345f9489c8b460b8e96024eb342a044": {
      "model_module": "@jupyter-widgets/base",
      "model_module_version": "1.2.0",
      "model_name": "LayoutModel",
      "state": {
       "height": "200px",
       "min_height": "200px",
       "min_width": "400px",
       "width": "400px"
      }
     },
     "351963c71ac940d298e9dd9ab849b906": {
      "model_module": "@jupyter-widgets/controls",
      "model_module_version": "1.5.0",
      "model_name": "VBoxModel",
      "state": {
       "children": [
        "IPY_MODEL_ebbf6c8110d44ef98e8c8054e3960779",
        "IPY_MODEL_1adb857f75694de19f0e7f3d392fcb4c",
        "IPY_MODEL_7ee785d1bd57465da7f4dc6c4339481d",
        "IPY_MODEL_b95f7ed8da824773ab372fb228801768"
       ],
       "layout": "IPY_MODEL_f2692d75054d49dbacff746865c501a2"
      }
     },
     "353b94eb886a45628f39c8814b1fef9c": {
      "model_module": "@jupyter-widgets/base",
      "model_module_version": "1.2.0",
      "model_name": "LayoutModel",
      "state": {
       "min_width": "200px",
       "width": "200px"
      }
     },
     "35ed5bef6c874c8e9c3560ba74ebd3ff": {
      "model_module": "@jupyter-widgets/controls",
      "model_module_version": "1.5.0",
      "model_name": "TextModel",
      "state": {
       "description": "Lon (l)",
       "layout": "IPY_MODEL_e9669a2ffe784048b685044dd17c979c",
       "style": "IPY_MODEL_ba2d8eed31c9431bba1ac6b26e46bef1",
       "value": "1h12m43.2s"
      }
     },
     "365c6df0f12b4934a56d381ccc7df670": {
      "model_module": "@jupyter-widgets/controls",
      "model_module_version": "1.5.0",
      "model_name": "TextModel",
      "state": {
       "description": "RA",
       "layout": "IPY_MODEL_019bc64bdfc04533bcc700fd2f0e72a5",
       "style": "IPY_MODEL_13bd877e609445e9a8f8b3a9a5f163bf",
       "value": "00h42m44.2992s"
      }
     },
     "3666eaebfcde44debf78602b2ef0cf15": {
      "model_module": "@jupyter-widgets/controls",
      "model_module_version": "1.5.0",
      "model_name": "ButtonStyleModel",
      "state": {}
     },
     "36d58736344a4552b4cf6a459e798f12": {
      "model_module": "@jupyter-widgets/controls",
      "model_module_version": "1.5.0",
      "model_name": "DescriptionStyleModel",
      "state": {
       "description_width": "initial"
      }
     },
     "36d7dc2b744a4aee8177d7b37cef4edd": {
      "model_module": "@jupyter-widgets/controls",
      "model_module_version": "1.5.0",
      "model_name": "ButtonModel",
      "state": {
       "description": "Add target",
       "layout": "IPY_MODEL_d939f6522385476f97601d8bf9649b54",
       "style": "IPY_MODEL_4f6e8b9c6a0c4a0ba591c0b337b4c7f8"
      }
     },
     "37cb8366d4f84b95874c1252c9d417e6": {
      "model_module": "@jupyter-widgets/base",
      "model_module_version": "1.2.0",
      "model_name": "LayoutModel",
      "state": {}
     },
     "389b68e0da454260b7b64a69e56ff46b": {
      "model_module": "@jupyter-widgets/base",
      "model_module_version": "1.2.0",
      "model_name": "LayoutModel",
      "state": {
       "width": "auto"
      }
     },
     "3b2344a74d6a4cd7918047e36956ad3f": {
      "model_module": "@jupyter-widgets/base",
      "model_module_version": "1.2.0",
      "model_name": "LayoutModel",
      "state": {
       "min_width": "200px",
       "width": "200px"
      }
     },
     "3b50a2bd93554847918019e402738dbe": {
      "model_module": "@jupyter-widgets/controls",
      "model_module_version": "1.5.0",
      "model_name": "ButtonModel",
      "state": {
       "description": "J1939-6342",
       "disabled": true,
       "layout": "IPY_MODEL_88a68b178fb849dabb94427bf9b4e1d2",
       "style": "IPY_MODEL_c5b03167fe464300a68c570416387c4a"
      }
     },
     "3c49f31e33af46d5bc547639d69dc636": {
      "model_module": "@jupyter-widgets/base",
      "model_module_version": "1.2.0",
      "model_name": "LayoutModel",
      "state": {
       "height": "28px",
       "min_height": "28px",
       "min_width": "200px",
       "width": "200px"
      }
     },
     "3cd188f9ec0444c88d0684002241ffb2": {
      "model_module": "@jupyter-widgets/controls",
      "model_module_version": "1.5.0",
      "model_name": "ButtonStyleModel",
      "state": {}
     },
     "3d471f6949104161a300614743085a9a": {
      "model_module": "@jupyter-widgets/controls",
      "model_module_version": "1.5.0",
      "model_name": "ButtonModel",
      "state": {
       "description": "Enter celestial target coordinates",
       "disabled": true,
       "layout": "IPY_MODEL_810c6e89a3804721bae0d3db4e835ffb",
       "style": "IPY_MODEL_5b45000f07dd4689a68f6a38b35822f0"
      }
     },
     "3d7fc15499224de3b669f5ac7f00177a": {
      "model_module": "@jupyter-widgets/controls",
      "model_module_version": "1.5.0",
      "model_name": "ButtonStyleModel",
      "state": {}
     },
     "3e30bbd758e842e496db7bc9cba9165f": {
      "model_module": "@jupyter-widgets/base",
      "model_module_version": "1.2.0",
      "model_name": "LayoutModel",
      "state": {}
     },
     "3fa169da6fba4ca0b0d285c7c6a7fe91": {
      "model_module": "@jupyter-widgets/base",
      "model_module_version": "1.2.0",
      "model_name": "LayoutModel",
      "state": {
       "height": "28px",
       "min_height": "28px",
       "min_width": "400px",
       "width": "400px"
      }
     },
     "3fe38dd7901f4c6a9914e177c9c8504f": {
      "model_module": "@jupyter-widgets/controls",
      "model_module_version": "1.5.0",
      "model_name": "DescriptionStyleModel",
      "state": {
       "description_width": "initial"
      }
     },
     "41f6c991000d4aec9ffb43c25d6bcdfc": {
      "model_module": "@jupyter-widgets/controls",
      "model_module_version": "1.5.0",
      "model_name": "ButtonModel",
      "state": {
       "description": "Galactic target list",
       "disabled": true,
       "layout": "IPY_MODEL_67c3c6fef4d04c3ba996c5e691ab3745",
       "style": "IPY_MODEL_cbaaafd0fa364727873610682d35cbd3"
      }
     },
     "4287c2aa330440b89542f01b963624d4": {
      "model_module": "@jupyter-widgets/controls",
      "model_module_version": "1.5.0",
      "model_name": "ButtonStyleModel",
      "state": {}
     },
     "4313fcb52f164c3591eded82419055ec": {
      "model_module": "@jupyter-widgets/base",
      "model_module_version": "1.2.0",
      "model_name": "LayoutModel",
      "state": {}
     },
     "437f36d064714d96a55e2d267e30bad1": {
      "model_module": "@jupyter-widgets/controls",
      "model_module_version": "1.5.0",
      "model_name": "ButtonModel",
      "state": {
       "description": "Add target",
       "layout": "IPY_MODEL_389b68e0da454260b7b64a69e56ff46b",
       "style": "IPY_MODEL_a8f963ad5d2248f3a929ca57291de786"
      }
     },
     "4386129f589443b8b05cc14ad2d83774": {
      "model_module": "@jupyter-widgets/controls",
      "model_module_version": "1.5.0",
      "model_name": "HBoxModel",
      "state": {
       "children": [
        "IPY_MODEL_06d6ca31d8b44cdab47d0d6cbbe6d802",
        "IPY_MODEL_0713969f5ec44d4f94952c873a11ff8d",
        "IPY_MODEL_6da314dd4f3f4207853d5532fa09bc46"
       ],
       "layout": "IPY_MODEL_694c5a02f35249709f2fc0536a5bad64"
      }
     },
     "449ec9e5e20a431caf9aa2234ccd6f79": {
      "model_module": "@jupyter-widgets/base",
      "model_module_version": "1.2.0",
      "model_name": "LayoutModel",
      "state": {
       "width": "auto"
      }
     },
     "460f9ba27c6a4b24af75a60f7fc465fd": {
      "model_module": "@jupyter-widgets/controls",
      "model_module_version": "1.5.0",
      "model_name": "ButtonStyleModel",
      "state": {}
     },
     "474c1d32e6ae457683ff37690e9a2dec": {
      "model_module": "@jupyter-widgets/controls",
      "model_module_version": "1.5.0",
      "model_name": "HBoxModel",
      "state": {
       "children": [
        "IPY_MODEL_48d781364d8e4fd7a9ea7ffe8f694299",
        "IPY_MODEL_f4db42987bb64175b79497e93318b2d8"
       ],
       "layout": "IPY_MODEL_86d0d17b03f148e8bb123377c82f138d"
      }
     },
     "48d781364d8e4fd7a9ea7ffe8f694299": {
      "model_module": "@jupyter-widgets/controls",
      "model_module_version": "1.5.0",
      "model_name": "TextareaModel",
      "state": {
       "layout": "IPY_MODEL_e4c0cb7af77d477c95a2d3fb44845c3b",
       "style": "IPY_MODEL_36d58736344a4552b4cf6a459e798f12"
      }
     },
     "491b602c540b49e299b00b1c344a2e51": {
      "model_module": "@jupyter-widgets/controls",
      "model_module_version": "1.5.0",
      "model_name": "DescriptionStyleModel",
      "state": {
       "description_width": "initial"
      }
     },
     "49ac2af993f44e3da866a0fca37b76a2": {
      "model_module": "@jupyter-widgets/controls",
      "model_module_version": "1.5.0",
      "model_name": "ButtonModel",
      "state": {
       "description": "Clear lists",
       "layout": "IPY_MODEL_216d5badd21741169ff098737907597f",
       "style": "IPY_MODEL_460f9ba27c6a4b24af75a60f7fc465fd"
      }
     },
     "49f207274d9e4a3585a5abc9c87daa7c": {
      "model_module": "@jupyter-widgets/controls",
      "model_module_version": "1.5.0",
      "model_name": "TextModel",
      "state": {
       "description": "RA",
       "layout": "IPY_MODEL_8f78bd015ef343f5b26c955cd3375c5a",
       "style": "IPY_MODEL_ef7f4570072e49fb966191d083980bed",
       "value": "00h42m44.2992s"
      }
     },
     "4a47e51525f4480aa78ce1d3cd7553e0": {
      "model_module": "@jupyter-widgets/controls",
      "model_module_version": "1.5.0",
      "model_name": "ButtonModel",
      "state": {
       "description": "Enter celestial target coordinates",
       "disabled": true,
       "layout": "IPY_MODEL_761fc9bce42948a19328e20ad8d770d9",
       "style": "IPY_MODEL_27efadbb8e314efaaeca7dffec277b33"
      }
     },
     "4b179f18581449bc9929c7dc58e17839": {
      "model_module": "@jupyter-widgets/controls",
      "model_module_version": "1.5.0",
      "model_name": "ButtonModel",
      "state": {
       "description": "+00d59m15.56s",
       "disabled": true,
       "layout": "IPY_MODEL_df14875e5cb946609acd9414a455d0c6",
       "style": "IPY_MODEL_08345f61db004e6f9d1611bb1575d048"
      }
     },
     "4be1dc95e1f8473e8c5682bef327bf2d": {
      "model_module": "@jupyter-widgets/controls",
      "model_module_version": "1.5.0",
      "model_name": "ButtonModel",
      "state": {
       "description": "J1939-6342",
       "disabled": true,
       "layout": "IPY_MODEL_b7736e564ee246cfad44dc29576331b7",
       "style": "IPY_MODEL_4c0025d002db4a8fa359fd9a8b6c6e42"
      }
     },
     "4c0025d002db4a8fa359fd9a8b6c6e42": {
      "model_module": "@jupyter-widgets/controls",
      "model_module_version": "1.5.0",
      "model_name": "ButtonStyleModel",
      "state": {}
     },
     "4d357a67dc6d42e89e17b7b5348780b8": {
      "model_module": "@jupyter-widgets/base",
      "model_module_version": "1.2.0",
      "model_name": "LayoutModel",
      "state": {}
     },
     "4d55d03b99b84c41a6d225682f861280": {
      "model_module": "@jupyter-widgets/base",
      "model_module_version": "1.2.0",
      "model_name": "LayoutModel",
      "state": {
       "min_width": "200px",
       "width": "200px"
      }
     },
     "4d8e46bcb6264037a47e0f511b584a22": {
      "model_module": "@jupyter-widgets/base",
      "model_module_version": "1.2.0",
      "model_name": "LayoutModel",
      "state": {
       "height": "28px",
       "min_height": "28px",
       "min_width": "400px",
       "width": "400px"
      }
     },
     "4db6a9c57e96466a8891123823697079": {
      "model_module": "@jupyter-widgets/controls",
      "model_module_version": "1.5.0",
      "model_name": "VBoxModel",
      "state": {
       "children": [
        "IPY_MODEL_24368a02df7743b4b101d8e5d2ff1424",
        "IPY_MODEL_67436b4607ca4266a0d75545f5c38a30",
        "IPY_MODEL_9fd9ec656ac6457184e1f18742be9132",
        "IPY_MODEL_88f6deaa1621496f915c840614e5b678",
        "IPY_MODEL_af66f40b386f41e99f230f42f7bae071",
        "IPY_MODEL_e22b9363a91e4d0b9b36dc131572fd51"
       ],
       "layout": "IPY_MODEL_9a0c38f0e0f14dc4b095a13c5050be09"
      }
     },
     "4f51f3bd548f4a69921c9ae71b46cf20": {
      "model_module": "@jupyter-widgets/base",
      "model_module_version": "1.2.0",
      "model_name": "LayoutModel",
      "state": {}
     },
     "4f6e8b9c6a0c4a0ba591c0b337b4c7f8": {
      "model_module": "@jupyter-widgets/controls",
      "model_module_version": "1.5.0",
      "model_name": "ButtonStyleModel",
      "state": {}
     },
     "5005c161f2834559b22393a2058f6c39": {
      "model_module": "@jupyter-widgets/controls",
      "model_module_version": "1.5.0",
      "model_name": "ButtonStyleModel",
      "state": {}
     },
     "534f09fa93d64b0482491d1eafe3d5c6": {
      "model_module": "@jupyter-widgets/controls",
      "model_module_version": "1.5.0",
      "model_name": "VBoxModel",
      "state": {
       "children": [
        "IPY_MODEL_8b87c4a90bcf44cca55d772ab171dad1",
        "IPY_MODEL_ad988db931f3456984888f413971a12e",
        "IPY_MODEL_9a2ad700b82f432ea7cb7b3c1ec2fa2e",
        "IPY_MODEL_474c1d32e6ae457683ff37690e9a2dec"
       ],
       "layout": "IPY_MODEL_4f51f3bd548f4a69921c9ae71b46cf20"
      }
     },
     "5627a5ad0f704348a0e43efa2b39fec6": {
      "model_module": "@jupyter-widgets/base",
      "model_module_version": "1.2.0",
      "model_name": "LayoutModel",
      "state": {
       "min_width": "200px",
       "width": "200px"
      }
     },
     "57e8ac71c9c04d5aa05b4bc0c431da96": {
      "model_module": "@jupyter-widgets/controls",
      "model_module_version": "1.5.0",
      "model_name": "ButtonModel",
      "state": {
       "description": "19h39m25.0264s",
       "disabled": true,
       "layout": "IPY_MODEL_85bd255347164401b099bb74e1fb2778",
       "style": "IPY_MODEL_9cc08285a8854c8c8593f1e7aee2c855"
      }
     },
     "5a0a3ee3a34248c5940edca975a9d067": {
      "model_module": "@jupyter-widgets/base",
      "model_module_version": "1.2.0",
      "model_name": "LayoutModel",
      "state": {
       "height": "28px",
       "min_height": "28px",
       "min_width": "200px",
       "width": "200px"
      }
     },
     "5a3aa17df2dc40039e18b20201a5b85e": {
      "model_module": "@jupyter-widgets/controls",
      "model_module_version": "1.5.0",
      "model_name": "ButtonModel",
      "state": {
       "description": "J1939-6342",
       "disabled": true,
       "layout": "IPY_MODEL_1124a9c522694e6a925d8a6c85e3af78",
       "style": "IPY_MODEL_9d8f2a7c38ea44509b5fa73ab15299f7"
      }
     },
     "5abf1da437594f9c8ff3da9f74951bf6": {
      "model_module": "@jupyter-widgets/base",
      "model_module_version": "1.2.0",
      "model_name": "LayoutModel",
      "state": {}
     },
     "5ad7d6ba3dc743e8a63d4a04253afab1": {
      "model_module": "@jupyter-widgets/controls",
      "model_module_version": "1.5.0",
      "model_name": "ButtonStyleModel",
      "state": {}
     },
     "5b45000f07dd4689a68f6a38b35822f0": {
      "model_module": "@jupyter-widgets/controls",
      "model_module_version": "1.5.0",
      "model_name": "ButtonStyleModel",
      "state": {}
     },
     "5cd6c0c1855641b39aac70a09eeca2cd": {
      "model_module": "@jupyter-widgets/controls",
      "model_module_version": "1.5.0",
      "model_name": "TextModel",
      "state": {
       "description": "Lon (l)",
       "layout": "IPY_MODEL_ff7d45114fe243ecbf741f2f8a1c4026",
       "style": "IPY_MODEL_bdc0bf91ad0f499cb32cf2a80d10423b",
       "value": "1h12m43.2s"
      }
     },
     "5dbc91f1cd2a4869a7329438bb5bc17f": {
      "model_module": "@jupyter-widgets/controls",
      "model_module_version": "1.5.0",
      "model_name": "TextModel",
      "state": {
       "description": "Dec",
       "layout": "IPY_MODEL_fd752c81469f4af8b0a4aa647036b116",
       "style": "IPY_MODEL_491b602c540b49e299b00b1c344a2e51",
       "value": "+41d16m09.012s"
      }
     },
     "5f8d10a78bc64e39a903044a9cb766ab": {
      "model_module": "@jupyter-widgets/base",
      "model_module_version": "1.2.0",
      "model_name": "LayoutModel",
      "state": {
       "height": "28px",
       "min_height": "28px",
       "min_width": "200px",
       "width": "200px"
      }
     },
     "5f91fac6b3874e4b9a139f71d700b2b8": {
      "model_module": "@jupyter-widgets/controls",
      "model_module_version": "1.5.0",
      "model_name": "ButtonModel",
      "state": {
       "description": "21h51m30.37s",
       "disabled": true,
       "layout": "IPY_MODEL_5f8d10a78bc64e39a903044a9cb766ab",
       "style": "IPY_MODEL_00565df76a5b4d459921167e7227ad00"
      }
     },
     "5fd27b9fcdb94238967c5eb2824543ec": {
      "model_module": "@jupyter-widgets/base",
      "model_module_version": "1.2.0",
      "model_name": "LayoutModel",
      "state": {}
     },
     "607f045af22941a5ab2894e19188d04c": {
      "model_module": "@jupyter-widgets/controls",
      "model_module_version": "1.5.0",
      "model_name": "TextModel",
      "state": {
       "description": "Name",
       "layout": "IPY_MODEL_6e4a78a3b00643af8dce4913c10edb80",
       "style": "IPY_MODEL_d0578bdb84c74051af7b14a66a3e2d03",
       "value": "Test"
      }
     },
     "6084111920674c17b07792db29d33c1e": {
      "model_module": "@jupyter-widgets/controls",
      "model_module_version": "1.5.0",
      "model_name": "DescriptionStyleModel",
      "state": {
       "description_width": "initial"
      }
     },
     "612acd519f96426092559b5c660d4ad0": {
      "model_module": "@jupyter-widgets/controls",
      "model_module_version": "1.5.0",
      "model_name": "DescriptionStyleModel",
      "state": {
       "description_width": "initial"
      }
     },
     "628d7f1fffc649a09c5e69fab7b93ee0": {
      "model_module": "@jupyter-widgets/base",
      "model_module_version": "1.2.0",
      "model_name": "LayoutModel",
      "state": {}
     },
     "66809154297e495c8f40655411045d26": {
      "model_module": "@jupyter-widgets/controls",
      "model_module_version": "1.5.0",
      "model_name": "ButtonStyleModel",
      "state": {}
     },
     "66ae86298c564409aa7946c7aa4c5cff": {
      "model_module": "@jupyter-widgets/controls",
      "model_module_version": "1.5.0",
      "model_name": "ButtonModel",
      "state": {
       "description": "+00d59m15.56s",
       "disabled": true,
       "layout": "IPY_MODEL_1075f3b2984844429d6e640ba8ab5058",
       "style": "IPY_MODEL_3cd188f9ec0444c88d0684002241ffb2"
      }
     },
     "66b6632b6f8441b78c3bfacf85e99347": {
      "model_module": "@jupyter-widgets/base",
      "model_module_version": "1.2.0",
      "model_name": "LayoutModel",
      "state": {
       "height": "28px",
       "min_height": "28px",
       "min_width": "400px",
       "width": "400px"
      }
     },
     "67436b4607ca4266a0d75545f5c38a30": {
      "model_module": "@jupyter-widgets/controls",
      "model_module_version": "1.5.0",
      "model_name": "HBoxModel",
      "state": {
       "children": [
        "IPY_MODEL_b4d2f6364f6b4dfd8db97c46e7fdb2b2",
        "IPY_MODEL_5f91fac6b3874e4b9a139f71d700b2b8",
        "IPY_MODEL_66ae86298c564409aa7946c7aa4c5cff"
       ],
       "layout": "IPY_MODEL_628d7f1fffc649a09c5e69fab7b93ee0"
      }
     },
     "67c3c6fef4d04c3ba996c5e691ab3745": {
      "model_module": "@jupyter-widgets/base",
      "model_module_version": "1.2.0",
      "model_name": "LayoutModel",
      "state": {
       "height": "28px",
       "min_height": "28px",
       "min_width": "400px",
       "width": "400px"
      }
     },
     "67d5ca12427349f8b949c79ae16a02d8": {
      "model_module": "@jupyter-widgets/controls",
      "model_module_version": "1.5.0",
      "model_name": "ButtonModel",
      "state": {
       "description": "19h39m25.0264s",
       "disabled": true,
       "layout": "IPY_MODEL_cc7508323d9e467bb044cc24c97c7a58",
       "style": "IPY_MODEL_8d981a91b01a4a29aa9cb1ca566ab6db"
      }
     },
     "694c5a02f35249709f2fc0536a5bad64": {
      "model_module": "@jupyter-widgets/base",
      "model_module_version": "1.2.0",
      "model_name": "LayoutModel",
      "state": {}
     },
     "69cb7159f0294676b2071a2cbd9317bb": {
      "model_module": "@jupyter-widgets/controls",
      "model_module_version": "1.5.0",
      "model_name": "ButtonModel",
      "state": {
       "description": "-63d42m45.624s",
       "disabled": true,
       "layout": "IPY_MODEL_dfe28cf886fa4c949748ec95960b6c6b",
       "style": "IPY_MODEL_6eaa70e8bc364d59a2cc9f68ccc9ab1c"
      }
     },
     "6aabad37234343cda3e9597000aa5c36": {
      "model_module": "@jupyter-widgets/controls",
      "model_module_version": "1.5.0",
      "model_name": "TextareaModel",
      "state": {
       "layout": "IPY_MODEL_a966cbc781424a51af1590431c5b9343",
       "style": "IPY_MODEL_3fe38dd7901f4c6a9914e177c9c8504f"
      }
     },
     "6b3f59d6b56041d7a70b5b7c9c088205": {
      "model_module": "@jupyter-widgets/controls",
      "model_module_version": "1.5.0",
      "model_name": "ButtonModel",
      "state": {
       "description": "Celestial target list",
       "disabled": true,
       "layout": "IPY_MODEL_115028c550d5423f85389cd9a81c3379",
       "style": "IPY_MODEL_eeafd94d284c44f4b574d8edeebb4be3"
      }
     },
     "6c0341665f7548afb88d89628e2120b4": {
      "model_module": "@jupyter-widgets/base",
      "model_module_version": "1.2.0",
      "model_name": "LayoutModel",
      "state": {
       "min_width": "200px",
       "width": "200px"
      }
     },
     "6da314dd4f3f4207853d5532fa09bc46": {
      "model_module": "@jupyter-widgets/controls",
      "model_module_version": "1.5.0",
      "model_name": "ButtonModel",
      "state": {
       "description": "+00d59m15.56s",
       "disabled": true,
       "layout": "IPY_MODEL_7d0eb1589d4e4324b7f2ebbe3827c229",
       "style": "IPY_MODEL_753ef9b1c39540f0847759a77032433f"
      }
     },
     "6e4a78a3b00643af8dce4913c10edb80": {
      "model_module": "@jupyter-widgets/base",
      "model_module_version": "1.2.0",
      "model_name": "LayoutModel",
      "state": {
       "min_width": "200px",
       "width": "200px"
      }
     },
     "6eaa70e8bc364d59a2cc9f68ccc9ab1c": {
      "model_module": "@jupyter-widgets/controls",
      "model_module_version": "1.5.0",
      "model_name": "ButtonStyleModel",
      "state": {}
     },
     "725c89cd37934ffa98aff1cabfa1f09b": {
      "model_module": "@jupyter-widgets/controls",
      "model_module_version": "1.5.0",
      "model_name": "TextModel",
      "state": {
       "description": "Name",
       "layout": "IPY_MODEL_6c0341665f7548afb88d89628e2120b4",
       "style": "IPY_MODEL_1d909f6566834cf19a9604e089733d06",
       "value": "Test"
      }
     },
     "72b807a353d64f638d39159370db21b1": {
      "model_module": "@jupyter-widgets/controls",
      "model_module_version": "1.5.0",
      "model_name": "TextModel",
      "state": {
       "description": "Lat (b)",
       "layout": "IPY_MODEL_f3b5df4d7da5469ab8010ccfaff8dfe5",
       "style": "IPY_MODEL_1d67be374a1b4558a766d794f7d85e08",
       "value": "+1d12m43s"
      }
     },
     "753ef9b1c39540f0847759a77032433f": {
      "model_module": "@jupyter-widgets/controls",
      "model_module_version": "1.5.0",
      "model_name": "ButtonStyleModel",
      "state": {}
     },
     "75b46f4d726a44b4985ad6aaa8872d1c": {
      "model_module": "@jupyter-widgets/controls",
      "model_module_version": "1.5.0",
      "model_name": "ButtonStyleModel",
      "state": {}
     },
     "761fc9bce42948a19328e20ad8d770d9": {
      "model_module": "@jupyter-widgets/base",
      "model_module_version": "1.2.0",
      "model_name": "LayoutModel",
      "state": {
       "width": "608px"
      }
     },
     "76d79907bc1a4f72820e4c8a37d5c8ce": {
      "model_module": "@jupyter-widgets/base",
      "model_module_version": "1.2.0",
      "model_name": "LayoutModel",
      "state": {}
     },
     "796cfebcad794a94b48afe24c49f3837": {
      "model_module": "@jupyter-widgets/controls",
      "model_module_version": "1.5.0",
      "model_name": "ButtonStyleModel",
      "state": {}
     },
     "7ae2bbc68799490b9064d333318afdc0": {
      "model_module": "@jupyter-widgets/base",
      "model_module_version": "1.2.0",
      "model_name": "LayoutModel",
      "state": {}
     },
     "7ae7b319ba524447a84868d479952f35": {
      "model_module": "@jupyter-widgets/base",
      "model_module_version": "1.2.0",
      "model_name": "LayoutModel",
      "state": {}
     },
     "7d0eb1589d4e4324b7f2ebbe3827c229": {
      "model_module": "@jupyter-widgets/base",
      "model_module_version": "1.2.0",
      "model_name": "LayoutModel",
      "state": {
       "height": "28px",
       "min_height": "28px",
       "min_width": "200px",
       "width": "200px"
      }
     },
     "7da153abf51d46a9a48de49edb4c91f5": {
      "model_module": "@jupyter-widgets/controls",
      "model_module_version": "1.5.0",
      "model_name": "DescriptionStyleModel",
      "state": {
       "description_width": "initial"
      }
     },
     "7ee785d1bd57465da7f4dc6c4339481d": {
      "model_module": "@jupyter-widgets/controls",
      "model_module_version": "1.5.0",
      "model_name": "HBoxModel",
      "state": {
       "children": [
        "IPY_MODEL_41f6c991000d4aec9ffb43c25d6bcdfc",
        "IPY_MODEL_b78d0eefdadd4ca886ffdf2bbcf5287e"
       ],
       "layout": "IPY_MODEL_af4c6bf851704b07b2db32c9781f4bc7"
      }
     },
     "7f280166c1e74631946dfcfc6342dc36": {
      "model_module": "@jupyter-widgets/controls",
      "model_module_version": "1.5.0",
      "model_name": "ButtonModel",
      "state": {
       "description": "Save as CSV",
       "layout": "IPY_MODEL_1dac3a9205474d26891390050aee1bf4",
       "style": "IPY_MODEL_c69f52a8d26941be9d52935a150629db"
      }
     },
     "810c6e89a3804721bae0d3db4e835ffb": {
      "model_module": "@jupyter-widgets/base",
      "model_module_version": "1.2.0",
      "model_name": "LayoutModel",
      "state": {
       "width": "608px"
      }
     },
     "815a876e6a4741c9900c4640df0d3e5b": {
      "model_module": "@jupyter-widgets/base",
      "model_module_version": "1.2.0",
      "model_name": "LayoutModel",
      "state": {}
     },
     "84f81f2b422f4e7aa77f9f0fc0fa2543": {
      "model_module": "@jupyter-widgets/controls",
      "model_module_version": "1.5.0",
      "model_name": "ButtonStyleModel",
      "state": {}
     },
     "85bd255347164401b099bb74e1fb2778": {
      "model_module": "@jupyter-widgets/base",
      "model_module_version": "1.2.0",
      "model_name": "LayoutModel",
      "state": {
       "height": "28px",
       "min_height": "28px",
       "min_width": "200px",
       "width": "200px"
      }
     },
     "86d0d17b03f148e8bb123377c82f138d": {
      "model_module": "@jupyter-widgets/base",
      "model_module_version": "1.2.0",
      "model_name": "LayoutModel",
      "state": {}
     },
     "88a68b178fb849dabb94427bf9b4e1d2": {
      "model_module": "@jupyter-widgets/base",
      "model_module_version": "1.2.0",
      "model_name": "LayoutModel",
      "state": {
       "height": "28px",
       "min_height": "28px",
       "min_width": "200px",
       "width": "200px"
      }
     },
     "88ecf7a5828449418101501b8b3194d5": {
      "model_module": "@jupyter-widgets/base",
      "model_module_version": "1.2.0",
      "model_name": "LayoutModel",
      "state": {
       "min_width": "200px",
       "width": "200px"
      }
     },
     "88f6deaa1621496f915c840614e5b678": {
      "model_module": "@jupyter-widgets/controls",
      "model_module_version": "1.5.0",
      "model_name": "ButtonModel",
      "state": {
       "description": "Enter celestial target coordinates",
       "disabled": true,
       "layout": "IPY_MODEL_a053bd5d33b54292aa817b13c1dd62bb",
       "style": "IPY_MODEL_9fa6ce3e0c2a40e3a43aa31686feb251"
      }
     },
     "8b0269b9efe04c6c93653a10bcdc0758": {
      "model_module": "@jupyter-widgets/controls",
      "model_module_version": "1.5.0",
      "model_name": "ButtonModel",
      "state": {
       "description": "T11R00C02",
       "disabled": true,
       "layout": "IPY_MODEL_2265b0b8d31c458997aa0a953d1a5f95",
       "style": "IPY_MODEL_be6b379f43034a148b7da9f1c6569d3a"
      }
     },
     "8b87c4a90bcf44cca55d772ab171dad1": {
      "model_module": "@jupyter-widgets/controls",
      "model_module_version": "1.5.0",
      "model_name": "ButtonModel",
      "state": {
       "description": "Clear lists",
       "layout": "IPY_MODEL_a375e7dc747f42d3ae25a98632c82a92",
       "style": "IPY_MODEL_ca66ef9f8f49470c95305fcc6c711e22"
      }
     },
     "8ce7c8fd805a4bcebaae9906a26e12ce": {
      "model_module": "@jupyter-widgets/controls",
      "model_module_version": "1.5.0",
      "model_name": "ButtonStyleModel",
      "state": {}
     },
     "8d981a91b01a4a29aa9cb1ca566ab6db": {
      "model_module": "@jupyter-widgets/controls",
      "model_module_version": "1.5.0",
      "model_name": "ButtonStyleModel",
      "state": {}
     },
     "8da93e19c0e84c01bb95dbeffbdf863a": {
      "model_module": "@jupyter-widgets/base",
      "model_module_version": "1.2.0",
      "model_name": "LayoutModel",
      "state": {
       "height": "200px",
       "min_height": "200px",
       "min_width": "400px",
       "width": "400px"
      }
     },
     "8e68b94e7e0442598a8ded6825032db9": {
      "model_module": "@jupyter-widgets/controls",
      "model_module_version": "1.5.0",
      "model_name": "ButtonStyleModel",
      "state": {}
     },
     "8f23794c561f44e1933fa9036c8ee7fe": {
      "model_module": "@jupyter-widgets/controls",
      "model_module_version": "1.5.0",
      "model_name": "TextModel",
      "state": {
       "description": "Name",
       "layout": "IPY_MODEL_3b2344a74d6a4cd7918047e36956ad3f",
       "style": "IPY_MODEL_a0bfef3e15b64dab90d737883983dbbc",
       "value": "Test"
      }
     },
     "8f78bd015ef343f5b26c955cd3375c5a": {
      "model_module": "@jupyter-widgets/base",
      "model_module_version": "1.2.0",
      "model_name": "LayoutModel",
      "state": {
       "min_width": "200px",
       "width": "200px"
      }
     },
     "912534d4940e4790a9434a52b765a8ef": {
      "model_module": "@jupyter-widgets/controls",
      "model_module_version": "1.5.0",
      "model_name": "TextareaModel",
      "state": {
       "layout": "IPY_MODEL_ee006a3a012144d0a605286e19eb76f5",
       "style": "IPY_MODEL_6084111920674c17b07792db29d33c1e"
      }
     },
     "932bbc39686940bbbba756afb4185e8c": {
      "model_module": "@jupyter-widgets/controls",
      "model_module_version": "1.5.0",
      "model_name": "DescriptionStyleModel",
      "state": {
       "description_width": "initial"
      }
     },
     "951725cb0669407a9c338d902de5cb9d": {
      "model_module": "@jupyter-widgets/base",
      "model_module_version": "1.2.0",
      "model_name": "LayoutModel",
      "state": {
       "height": "28px",
       "min_height": "28px",
       "min_width": "400px",
       "width": "400px"
      }
     },
     "96c1011b25b240569b4d8c13e3702545": {
      "model_module": "@jupyter-widgets/base",
      "model_module_version": "1.2.0",
      "model_name": "LayoutModel",
      "state": {}
     },
     "96e0a21905c34c4d9e62c32090b8a665": {
      "model_module": "@jupyter-widgets/controls",
      "model_module_version": "1.5.0",
      "model_name": "ButtonModel",
      "state": {
       "description": "Add target",
       "layout": "IPY_MODEL_26edf88573b64b3ab26faef0d8a0873c",
       "style": "IPY_MODEL_312fa26369fc4f23a17dc19a58430db9"
      }
     },
     "9830ef0c995844c89352d5d08bd7a944": {
      "model_module": "@jupyter-widgets/base",
      "model_module_version": "1.2.0",
      "model_name": "LayoutModel",
      "state": {
       "height": "28px",
       "min_height": "28px",
       "min_width": "400px",
       "width": "400px"
      }
     },
     "9a0c38f0e0f14dc4b095a13c5050be09": {
      "model_module": "@jupyter-widgets/base",
      "model_module_version": "1.2.0",
      "model_name": "LayoutModel",
      "state": {}
     },
     "9a2ad700b82f432ea7cb7b3c1ec2fa2e": {
      "model_module": "@jupyter-widgets/controls",
      "model_module_version": "1.5.0",
      "model_name": "HBoxModel",
      "state": {
       "children": [
        "IPY_MODEL_c47805b7df374be38bba141e08f9b7a8",
        "IPY_MODEL_9b298c6f1a794e8c813ba247239cae3d"
       ],
       "layout": "IPY_MODEL_05edcefdc8724993aeca75ef3fba32bf"
      }
     },
     "9b298c6f1a794e8c813ba247239cae3d": {
      "model_module": "@jupyter-widgets/controls",
      "model_module_version": "1.5.0",
      "model_name": "ButtonModel",
      "state": {
       "description": "Celestial target list",
       "disabled": true,
       "layout": "IPY_MODEL_0a41c8bd819944c8b15237d8278cc9fa",
       "style": "IPY_MODEL_3666eaebfcde44debf78602b2ef0cf15"
      }
     },
     "9cc08285a8854c8c8593f1e7aee2c855": {
      "model_module": "@jupyter-widgets/controls",
      "model_module_version": "1.5.0",
      "model_name": "ButtonStyleModel",
      "state": {}
     },
     "9d8f2a7c38ea44509b5fa73ab15299f7": {
      "model_module": "@jupyter-widgets/controls",
      "model_module_version": "1.5.0",
      "model_name": "ButtonStyleModel",
      "state": {}
     },
     "9fa6ce3e0c2a40e3a43aa31686feb251": {
      "model_module": "@jupyter-widgets/controls",
      "model_module_version": "1.5.0",
      "model_name": "ButtonStyleModel",
      "state": {}
     },
     "9fd9ec656ac6457184e1f18742be9132": {
      "model_module": "@jupyter-widgets/controls",
      "model_module_version": "1.5.0",
      "model_name": "HBoxModel",
      "state": {
       "children": [
        "IPY_MODEL_607f045af22941a5ab2894e19188d04c",
        "IPY_MODEL_a4201328edd6491887ff45fe0d17bae2",
        "IPY_MODEL_72b807a353d64f638d39159370db21b1",
        "IPY_MODEL_30c68db18b2945169e656e21bbc64063"
       ],
       "layout": "IPY_MODEL_37cb8366d4f84b95874c1252c9d417e6"
      }
     },
     "a02a93dd84f641f8ac1ea6a67fc9afb3": {
      "model_module": "@jupyter-widgets/controls",
      "model_module_version": "1.5.0",
      "model_name": "ButtonStyleModel",
      "state": {}
     },
     "a053bd5d33b54292aa817b13c1dd62bb": {
      "model_module": "@jupyter-widgets/base",
      "model_module_version": "1.2.0",
      "model_name": "LayoutModel",
      "state": {
       "width": "608px"
      }
     },
     "a0bfef3e15b64dab90d737883983dbbc": {
      "model_module": "@jupyter-widgets/controls",
      "model_module_version": "1.5.0",
      "model_name": "DescriptionStyleModel",
      "state": {
       "description_width": "initial"
      }
     },
     "a140372da4394e819f7789da20e0a8e8": {
      "model_module": "@jupyter-widgets/controls",
      "model_module_version": "1.5.0",
      "model_name": "ButtonModel",
      "state": {
       "description": "Save as CSV",
       "layout": "IPY_MODEL_66b6632b6f8441b78c3bfacf85e99347",
       "style": "IPY_MODEL_a65233542c2a415eb8ba53eec4229faa"
      }
     },
     "a1e86e108ffc42479566152eb640ec89": {
      "model_module": "@jupyter-widgets/controls",
      "model_module_version": "1.5.0",
      "model_name": "ButtonModel",
      "state": {
       "description": "Save as CSV",
       "layout": "IPY_MODEL_9830ef0c995844c89352d5d08bd7a944",
       "style": "IPY_MODEL_8e68b94e7e0442598a8ded6825032db9"
      }
     },
     "a29606f16c814afb837cf66ffae01944": {
      "model_module": "@jupyter-widgets/base",
      "model_module_version": "1.2.0",
      "model_name": "LayoutModel",
      "state": {
       "height": "28px",
       "min_height": "28px",
       "min_width": "200px",
       "width": "200px"
      }
     },
     "a34e1e92add749a5a40c9111cace5e4d": {
      "model_module": "@jupyter-widgets/controls",
      "model_module_version": "1.5.0",
      "model_name": "VBoxModel",
      "state": {
       "children": [
        "IPY_MODEL_f337be622acf43f5936e6ea50205a337",
        "IPY_MODEL_4386129f589443b8b05cc14ad2d83774",
        "IPY_MODEL_e7d13e579500494f95b645cc690d8028",
        "IPY_MODEL_4a47e51525f4480aa78ce1d3cd7553e0",
        "IPY_MODEL_feb8dd9c8d2e4fefaef137672e131051",
        "IPY_MODEL_adb738bf72ac49039392f99d869248f8"
       ],
       "layout": "IPY_MODEL_30bbf4cf692e49929c206f4e6c75e1b0"
      }
     },
     "a375e7dc747f42d3ae25a98632c82a92": {
      "model_module": "@jupyter-widgets/base",
      "model_module_version": "1.2.0",
      "model_name": "LayoutModel",
      "state": {
       "width": "803px"
      }
     },
     "a4201328edd6491887ff45fe0d17bae2": {
      "model_module": "@jupyter-widgets/controls",
      "model_module_version": "1.5.0",
      "model_name": "TextModel",
      "state": {
       "description": "Lon (l)",
       "layout": "IPY_MODEL_04caa16717c84dcd867db50e6bc8cd31",
       "style": "IPY_MODEL_07b951c9bd7e4b28be3c57b364e5e010",
       "value": "1h12m43.2s"
      }
     },
     "a4b9abddba014fb9b718708e072bb522": {
      "model_module": "@jupyter-widgets/base",
      "model_module_version": "1.2.0",
      "model_name": "LayoutModel",
      "state": {
       "width": "608px"
      }
     },
     "a4c01ca4610d4953b7fd29e97d80c718": {
      "model_module": "@jupyter-widgets/base",
      "model_module_version": "1.2.0",
      "model_name": "LayoutModel",
      "state": {}
     },
     "a55970a1cd7c4e268c9bcac22bef56ea": {
      "model_module": "@jupyter-widgets/base",
      "model_module_version": "1.2.0",
      "model_name": "LayoutModel",
      "state": {}
     },
     "a56d599d0f9c418593eb52d40bc515eb": {
      "model_module": "@jupyter-widgets/controls",
      "model_module_version": "1.5.0",
      "model_name": "VBoxModel",
      "state": {
       "children": [
        "IPY_MODEL_49ac2af993f44e3da866a0fca37b76a2",
        "IPY_MODEL_cc2a5ef43f214df9b244f753fcd59a50",
        "IPY_MODEL_1cb802de5b42457c870aa04374268511",
        "IPY_MODEL_ede2186ad2014feebaa335c57f6e82ad"
       ],
       "layout": "IPY_MODEL_de6bc39a8ead4071a06d388c51c4ce7d"
      }
     },
     "a65233542c2a415eb8ba53eec4229faa": {
      "model_module": "@jupyter-widgets/controls",
      "model_module_version": "1.5.0",
      "model_name": "ButtonStyleModel",
      "state": {}
     },
     "a66369f94db54f1e974992ef8e19c9b2": {
      "model_module": "@jupyter-widgets/base",
      "model_module_version": "1.2.0",
      "model_name": "LayoutModel",
      "state": {
       "height": "28px",
       "min_height": "28px",
       "min_width": "400px",
       "width": "400px"
      }
     },
     "a8f963ad5d2248f3a929ca57291de786": {
      "model_module": "@jupyter-widgets/controls",
      "model_module_version": "1.5.0",
      "model_name": "ButtonStyleModel",
      "state": {}
     },
     "a966cbc781424a51af1590431c5b9343": {
      "model_module": "@jupyter-widgets/base",
      "model_module_version": "1.2.0",
      "model_name": "LayoutModel",
      "state": {
       "height": "200px",
       "min_height": "200px",
       "min_width": "400px",
       "width": "400px"
      }
     },
     "a96d8952756c4b9587bf5802e631a6a2": {
      "model_module": "@jupyter-widgets/controls",
      "model_module_version": "1.5.0",
      "model_name": "TextModel",
      "state": {
       "description": "Lat (b)",
       "layout": "IPY_MODEL_b1cc651266c8435cb898445447aaced3",
       "style": "IPY_MODEL_7da153abf51d46a9a48de49edb4c91f5",
       "value": "+41d16m09.012s"
      }
     },
     "aadbe8f7afe0467688a09a0445d91c70": {
      "model_module": "@jupyter-widgets/controls",
      "model_module_version": "1.5.0",
      "model_name": "TextareaModel",
      "state": {
       "layout": "IPY_MODEL_8da93e19c0e84c01bb95dbeffbdf863a",
       "style": "IPY_MODEL_add6821a638942cea06543865cc0f3c3"
      }
     },
     "ad988db931f3456984888f413971a12e": {
      "model_module": "@jupyter-widgets/controls",
      "model_module_version": "1.5.0",
      "model_name": "HBoxModel",
      "state": {
       "children": [
        "IPY_MODEL_a140372da4394e819f7789da20e0a8e8",
        "IPY_MODEL_e766eada43dc4c0a99c0f0b1dfad47d5"
       ],
       "layout": "IPY_MODEL_112738b9edbe4be08b3eb308b8355031"
      }
     },
     "adb738bf72ac49039392f99d869248f8": {
      "model_module": "@jupyter-widgets/controls",
      "model_module_version": "1.5.0",
      "model_name": "HBoxModel",
      "state": {
       "children": [
        "IPY_MODEL_2c3411eba57040abbe89fe6701af1f6b",
        "IPY_MODEL_49f207274d9e4a3585a5abc9c87daa7c",
        "IPY_MODEL_5dbc91f1cd2a4869a7329438bb5bc17f",
        "IPY_MODEL_437f36d064714d96a55e2d267e30bad1"
       ],
       "layout": "IPY_MODEL_f71ec721b4a848b09b9d82f778abb211"
      }
     },
     "adca1d4d9aa14fa9b8bf61d3a7eec4c4": {
      "model_module": "@jupyter-widgets/controls",
      "model_module_version": "1.5.0",
      "model_name": "TextModel",
      "state": {
       "description": "Lon (l)",
       "layout": "IPY_MODEL_88ecf7a5828449418101501b8b3194d5",
       "style": "IPY_MODEL_d3aee6503ab4410eb3ccddb546cd2107",
       "value": "00h42m44.2992s"
      }
     },
     "add6821a638942cea06543865cc0f3c3": {
      "model_module": "@jupyter-widgets/controls",
      "model_module_version": "1.5.0",
      "model_name": "DescriptionStyleModel",
      "state": {
       "description_width": "initial"
      }
     },
     "ae72e2d044b54ef4b1c3a4ae0427d116": {
      "model_module": "@jupyter-widgets/controls",
      "model_module_version": "1.5.0",
      "model_name": "ButtonModel",
      "state": {
       "description": "-63d42m45.624s",
       "disabled": true,
       "layout": "IPY_MODEL_3c49f31e33af46d5bc547639d69dc636",
       "style": "IPY_MODEL_2c1594e55d47477d8e426fad0129bc71"
      }
     },
     "af4c6bf851704b07b2db32c9781f4bc7": {
      "model_module": "@jupyter-widgets/base",
      "model_module_version": "1.2.0",
      "model_name": "LayoutModel",
      "state": {}
     },
     "af66f40b386f41e99f230f42f7bae071": {
      "model_module": "@jupyter-widgets/controls",
      "model_module_version": "1.5.0",
      "model_name": "HBoxModel",
      "state": {
       "children": [
        "IPY_MODEL_4be1dc95e1f8473e8c5682bef327bf2d",
        "IPY_MODEL_67d5ca12427349f8b949c79ae16a02d8",
        "IPY_MODEL_ae72e2d044b54ef4b1c3a4ae0427d116"
       ],
       "layout": "IPY_MODEL_4d357a67dc6d42e89e17b7b5348780b8"
      }
     },
     "b0b31c67b4714e51a676ebfe3feab20b": {
      "model_module": "@jupyter-widgets/base",
      "model_module_version": "1.2.0",
      "model_name": "LayoutModel",
      "state": {
       "min_width": "200px",
       "width": "200px"
      }
     },
     "b1cc651266c8435cb898445447aaced3": {
      "model_module": "@jupyter-widgets/base",
      "model_module_version": "1.2.0",
      "model_name": "LayoutModel",
      "state": {
       "min_width": "200px",
       "width": "200px"
      }
     },
     "b291b1cf4e7544c3b26fe02b7ef30639": {
      "model_module": "@jupyter-widgets/controls",
      "model_module_version": "1.5.0",
      "model_name": "ButtonStyleModel",
      "state": {}
     },
     "b4d2f6364f6b4dfd8db97c46e7fdb2b2": {
      "model_module": "@jupyter-widgets/controls",
      "model_module_version": "1.5.0",
      "model_name": "ButtonModel",
      "state": {
       "description": "T11R00C02",
       "disabled": true,
       "layout": "IPY_MODEL_ebdc99dab1ec48318851396d231f3b47",
       "style": "IPY_MODEL_f61fe26dfd9940fdae923ba9decb5cf3"
      }
     },
     "b67ac9bf5b0547c98f7f86ed8e8ce6aa": {
      "model_module": "@jupyter-widgets/controls",
      "model_module_version": "1.5.0",
      "model_name": "TextModel",
      "state": {
       "description": "Lat (b)",
       "layout": "IPY_MODEL_5627a5ad0f704348a0e43efa2b39fec6",
       "style": "IPY_MODEL_c6d9e3540fba42bf97146d58e1a85f8b",
       "value": "+1d12m43s"
      }
     },
     "b7736e564ee246cfad44dc29576331b7": {
      "model_module": "@jupyter-widgets/base",
      "model_module_version": "1.2.0",
      "model_name": "LayoutModel",
      "state": {
       "height": "28px",
       "min_height": "28px",
       "min_width": "200px",
       "width": "200px"
      }
     },
     "b78d0eefdadd4ca886ffdf2bbcf5287e": {
      "model_module": "@jupyter-widgets/controls",
      "model_module_version": "1.5.0",
      "model_name": "ButtonModel",
      "state": {
       "description": "Celestial target list",
       "disabled": true,
       "layout": "IPY_MODEL_3fa169da6fba4ca0b0d285c7c6a7fe91",
       "style": "IPY_MODEL_3d7fc15499224de3b669f5ac7f00177a"
      }
     },
     "b8e3e1453f024bd382a1880d0d2ab90f": {
      "model_module": "@jupyter-widgets/base",
      "model_module_version": "1.2.0",
      "model_name": "LayoutModel",
      "state": {}
     },
     "b95f7ed8da824773ab372fb228801768": {
      "model_module": "@jupyter-widgets/controls",
      "model_module_version": "1.5.0",
      "model_name": "HBoxModel",
      "state": {
       "children": [
        "IPY_MODEL_c10fcfeb3e164c14b1c9f6b1e17842c3",
        "IPY_MODEL_aadbe8f7afe0467688a09a0445d91c70"
       ],
       "layout": "IPY_MODEL_e855e256d48248019f4a0018f6651eba"
      }
     },
     "ba2d8eed31c9431bba1ac6b26e46bef1": {
      "model_module": "@jupyter-widgets/controls",
      "model_module_version": "1.5.0",
      "model_name": "DescriptionStyleModel",
      "state": {
       "description_width": "initial"
      }
     },
     "bb089c68205d471586b519d556ff43cf": {
      "model_module": "@jupyter-widgets/base",
      "model_module_version": "1.2.0",
      "model_name": "LayoutModel",
      "state": {
       "width": "auto"
      }
     },
     "bbcb42a2e6614f109b2a0e51a409b8ce": {
      "model_module": "@jupyter-widgets/controls",
      "model_module_version": "1.5.0",
      "model_name": "ButtonStyleModel",
      "state": {}
     },
     "bbd20e6fdee3462e9b25556f6b465adb": {
      "model_module": "@jupyter-widgets/controls",
      "model_module_version": "1.5.0",
      "model_name": "TextModel",
      "state": {
       "description": "Name",
       "layout": "IPY_MODEL_b0b31c67b4714e51a676ebfe3feab20b",
       "style": "IPY_MODEL_612acd519f96426092559b5c660d4ad0",
       "value": "Test"
      }
     },
     "bc5abe779df44085b90ed1f9b6d6d9fe": {
      "model_module": "@jupyter-widgets/controls",
      "model_module_version": "1.5.0",
      "model_name": "DescriptionStyleModel",
      "state": {
       "description_width": "initial"
      }
     },
     "bc8e3b66ff7c49e78b57b490d34326f7": {
      "model_module": "@jupyter-widgets/base",
      "model_module_version": "1.2.0",
      "model_name": "LayoutModel",
      "state": {
       "height": "200px",
       "min_height": "200px",
       "min_width": "400px",
       "width": "400px"
      }
     },
     "bcfc802d8d394f06adaf7cf3d0d45d05": {
      "model_module": "@jupyter-widgets/controls",
      "model_module_version": "1.5.0",
      "model_name": "DescriptionStyleModel",
      "state": {
       "description_width": "initial"
      }
     },
     "bdc0bf91ad0f499cb32cf2a80d10423b": {
      "model_module": "@jupyter-widgets/controls",
      "model_module_version": "1.5.0",
      "model_name": "DescriptionStyleModel",
      "state": {
       "description_width": "initial"
      }
     },
     "be49a870181e42a9b3ff7e4890198617": {
      "model_module": "@jupyter-widgets/base",
      "model_module_version": "1.2.0",
      "model_name": "LayoutModel",
      "state": {
       "width": "803px"
      }
     },
     "be6b379f43034a148b7da9f1c6569d3a": {
      "model_module": "@jupyter-widgets/controls",
      "model_module_version": "1.5.0",
      "model_name": "ButtonStyleModel",
      "state": {}
     },
     "c10fcfeb3e164c14b1c9f6b1e17842c3": {
      "model_module": "@jupyter-widgets/controls",
      "model_module_version": "1.5.0",
      "model_name": "TextareaModel",
      "state": {
       "layout": "IPY_MODEL_3345f9489c8b460b8e96024eb342a044",
       "style": "IPY_MODEL_2edd45cd19154e7da73c55fe4a77d11e"
      }
     },
     "c31c753cbcb04c62bcbda130d98f7621": {
      "model_module": "@jupyter-widgets/controls",
      "model_module_version": "1.5.0",
      "model_name": "ButtonStyleModel",
      "state": {}
     },
     "c3bc9d7ee81447a6a5751631b7c84851": {
      "model_module": "@jupyter-widgets/base",
      "model_module_version": "1.2.0",
      "model_name": "LayoutModel",
      "state": {
       "height": "28px",
       "min_height": "28px",
       "min_width": "200px",
       "width": "200px"
      }
     },
     "c47805b7df374be38bba141e08f9b7a8": {
      "model_module": "@jupyter-widgets/controls",
      "model_module_version": "1.5.0",
      "model_name": "ButtonModel",
      "state": {
       "description": "Galactic target list",
       "disabled": true,
       "layout": "IPY_MODEL_300e8630094941efb7dc9d9fce09f53a",
       "style": "IPY_MODEL_84f81f2b422f4e7aa77f9f0fc0fa2543"
      }
     },
     "c5b03167fe464300a68c570416387c4a": {
      "model_module": "@jupyter-widgets/controls",
      "model_module_version": "1.5.0",
      "model_name": "ButtonStyleModel",
      "state": {}
     },
     "c69f52a8d26941be9d52935a150629db": {
      "model_module": "@jupyter-widgets/controls",
      "model_module_version": "1.5.0",
      "model_name": "ButtonStyleModel",
      "state": {}
     },
     "c6d9e3540fba42bf97146d58e1a85f8b": {
      "model_module": "@jupyter-widgets/controls",
      "model_module_version": "1.5.0",
      "model_name": "DescriptionStyleModel",
      "state": {
       "description_width": "initial"
      }
     },
     "ca66ef9f8f49470c95305fcc6c711e22": {
      "model_module": "@jupyter-widgets/controls",
      "model_module_version": "1.5.0",
      "model_name": "ButtonStyleModel",
      "state": {}
     },
     "cbaaafd0fa364727873610682d35cbd3": {
      "model_module": "@jupyter-widgets/controls",
      "model_module_version": "1.5.0",
      "model_name": "ButtonStyleModel",
      "state": {}
     },
     "cc2a5ef43f214df9b244f753fcd59a50": {
      "model_module": "@jupyter-widgets/controls",
      "model_module_version": "1.5.0",
      "model_name": "HBoxModel",
      "state": {
       "children": [
        "IPY_MODEL_7f280166c1e74631946dfcfc6342dc36",
        "IPY_MODEL_a1e86e108ffc42479566152eb640ec89"
       ],
       "layout": "IPY_MODEL_815a876e6a4741c9900c4640df0d3e5b"
      }
     },
     "cc7508323d9e467bb044cc24c97c7a58": {
      "model_module": "@jupyter-widgets/base",
      "model_module_version": "1.2.0",
      "model_name": "LayoutModel",
      "state": {
       "height": "28px",
       "min_height": "28px",
       "min_width": "200px",
       "width": "200px"
      }
     },
     "d019194410694434b282e3a0c482d871": {
      "model_module": "@jupyter-widgets/controls",
      "model_module_version": "1.5.0",
      "model_name": "ButtonStyleModel",
      "state": {}
     },
     "d0578bdb84c74051af7b14a66a3e2d03": {
      "model_module": "@jupyter-widgets/controls",
      "model_module_version": "1.5.0",
      "model_name": "DescriptionStyleModel",
      "state": {
       "description_width": "initial"
      }
     },
     "d3aee6503ab4410eb3ccddb546cd2107": {
      "model_module": "@jupyter-widgets/controls",
      "model_module_version": "1.5.0",
      "model_name": "DescriptionStyleModel",
      "state": {
       "description_width": "initial"
      }
     },
     "d43645613a8d404baff9f60fc494b081": {
      "model_module": "@jupyter-widgets/controls",
      "model_module_version": "1.5.0",
      "model_name": "ButtonModel",
      "state": {
       "description": "Save as CSV",
       "layout": "IPY_MODEL_951725cb0669407a9c338d902de5cb9d",
       "style": "IPY_MODEL_66809154297e495c8f40655411045d26"
      }
     },
     "d49334a302d14380a7f8ac9cd5159c5f": {
      "model_module": "@jupyter-widgets/controls",
      "model_module_version": "1.5.0",
      "model_name": "ButtonModel",
      "state": {
       "description": "Save as CSV",
       "layout": "IPY_MODEL_1cc9219463b34ced8e3a9316d81b9eb7",
       "style": "IPY_MODEL_d019194410694434b282e3a0c482d871"
      }
     },
     "d6dc554a8f2645d19c456bb648b28644": {
      "model_module": "@jupyter-widgets/base",
      "model_module_version": "1.2.0",
      "model_name": "LayoutModel",
      "state": {
       "height": "28px",
       "min_height": "28px",
       "min_width": "200px",
       "width": "200px"
      }
     },
     "d939f6522385476f97601d8bf9649b54": {
      "model_module": "@jupyter-widgets/base",
      "model_module_version": "1.2.0",
      "model_name": "LayoutModel",
      "state": {
       "width": "auto"
      }
     },
     "db6b6ea2430b4da093095896ce2debbd": {
      "model_module": "@jupyter-widgets/base",
      "model_module_version": "1.2.0",
      "model_name": "LayoutModel",
      "state": {
       "min_width": "200px",
       "width": "200px"
      }
     },
     "de6bc39a8ead4071a06d388c51c4ce7d": {
      "model_module": "@jupyter-widgets/base",
      "model_module_version": "1.2.0",
      "model_name": "LayoutModel",
      "state": {}
     },
     "df14875e5cb946609acd9414a455d0c6": {
      "model_module": "@jupyter-widgets/base",
      "model_module_version": "1.2.0",
      "model_name": "LayoutModel",
      "state": {
       "height": "28px",
       "min_height": "28px",
       "min_width": "200px",
       "width": "200px"
      }
     },
     "dfe28cf886fa4c949748ec95960b6c6b": {
      "model_module": "@jupyter-widgets/base",
      "model_module_version": "1.2.0",
      "model_name": "LayoutModel",
      "state": {
       "height": "28px",
       "min_height": "28px",
       "min_width": "200px",
       "width": "200px"
      }
     },
     "e22b9363a91e4d0b9b36dc131572fd51": {
      "model_module": "@jupyter-widgets/controls",
      "model_module_version": "1.5.0",
      "model_name": "HBoxModel",
      "state": {
       "children": [
        "IPY_MODEL_bbd20e6fdee3462e9b25556f6b465adb",
        "IPY_MODEL_365c6df0f12b4934a56d381ccc7df670",
        "IPY_MODEL_1578d31911754d54b5495e996644accf",
        "IPY_MODEL_f1db8838ac9e40c1bef50b4562b9f3ad"
       ],
       "layout": "IPY_MODEL_a4c01ca4610d4953b7fd29e97d80c718"
      }
     },
     "e4c0cb7af77d477c95a2d3fb44845c3b": {
      "model_module": "@jupyter-widgets/base",
      "model_module_version": "1.2.0",
      "model_name": "LayoutModel",
      "state": {
       "height": "200px",
       "min_height": "200px",
       "min_width": "400px",
       "width": "400px"
      }
     },
     "e766eada43dc4c0a99c0f0b1dfad47d5": {
      "model_module": "@jupyter-widgets/controls",
      "model_module_version": "1.5.0",
      "model_name": "ButtonModel",
      "state": {
       "description": "Save as CSV",
       "layout": "IPY_MODEL_4d8e46bcb6264037a47e0f511b584a22",
       "style": "IPY_MODEL_13a3ac65356946ed9c50fe6e1a70d95e"
      }
     },
     "e7d13e579500494f95b645cc690d8028": {
      "model_module": "@jupyter-widgets/controls",
      "model_module_version": "1.5.0",
      "model_name": "HBoxModel",
      "state": {
       "children": [
        "IPY_MODEL_725c89cd37934ffa98aff1cabfa1f09b",
        "IPY_MODEL_35ed5bef6c874c8e9c3560ba74ebd3ff",
        "IPY_MODEL_fc683432d68b4e538247a6093d0cb7ad",
        "IPY_MODEL_36d7dc2b744a4aee8177d7b37cef4edd"
       ],
       "layout": "IPY_MODEL_b8e3e1453f024bd382a1880d0d2ab90f"
      }
     },
     "e855e256d48248019f4a0018f6651eba": {
      "model_module": "@jupyter-widgets/base",
      "model_module_version": "1.2.0",
      "model_name": "LayoutModel",
      "state": {}
     },
     "e9669a2ffe784048b685044dd17c979c": {
      "model_module": "@jupyter-widgets/base",
      "model_module_version": "1.2.0",
      "model_name": "LayoutModel",
      "state": {
       "min_width": "200px",
       "width": "200px"
      }
     },
     "eb7e7f1dd61949b888058f0000ed81f1": {
      "model_module": "@jupyter-widgets/base",
      "model_module_version": "1.2.0",
      "model_name": "LayoutModel",
      "state": {
       "min_width": "200px",
       "width": "200px"
      }
     },
     "ebbf6c8110d44ef98e8c8054e3960779": {
      "model_module": "@jupyter-widgets/controls",
      "model_module_version": "1.5.0",
      "model_name": "ButtonModel",
      "state": {
       "description": "Clear lists",
       "layout": "IPY_MODEL_be49a870181e42a9b3ff7e4890198617",
       "style": "IPY_MODEL_5ad7d6ba3dc743e8a63d4a04253afab1"
      }
     },
     "ebdc99dab1ec48318851396d231f3b47": {
      "model_module": "@jupyter-widgets/base",
      "model_module_version": "1.2.0",
      "model_name": "LayoutModel",
      "state": {
       "height": "28px",
       "min_height": "28px",
       "min_width": "200px",
       "width": "200px"
      }
     },
     "ece4fa1a71b8412e9566f70e299594dd": {
      "model_module": "@jupyter-widgets/controls",
      "model_module_version": "1.5.0",
      "model_name": "TextModel",
      "state": {
       "description": "Name",
       "layout": "IPY_MODEL_4d55d03b99b84c41a6d225682f861280",
       "style": "IPY_MODEL_bc5abe779df44085b90ed1f9b6d6d9fe",
       "value": "Test"
      }
     },
     "ede2186ad2014feebaa335c57f6e82ad": {
      "model_module": "@jupyter-widgets/controls",
      "model_module_version": "1.5.0",
      "model_name": "HBoxModel",
      "state": {
       "children": [
        "IPY_MODEL_6aabad37234343cda3e9597000aa5c36",
        "IPY_MODEL_912534d4940e4790a9434a52b765a8ef"
       ],
       "layout": "IPY_MODEL_7ae2bbc68799490b9064d333318afdc0"
      }
     },
     "ee006a3a012144d0a605286e19eb76f5": {
      "model_module": "@jupyter-widgets/base",
      "model_module_version": "1.2.0",
      "model_name": "LayoutModel",
      "state": {
       "height": "200px",
       "min_height": "200px",
       "min_width": "400px",
       "width": "400px"
      }
     },
     "eeafd94d284c44f4b574d8edeebb4be3": {
      "model_module": "@jupyter-widgets/controls",
      "model_module_version": "1.5.0",
      "model_name": "ButtonStyleModel",
      "state": {}
     },
     "ef7f4570072e49fb966191d083980bed": {
      "model_module": "@jupyter-widgets/controls",
      "model_module_version": "1.5.0",
      "model_name": "DescriptionStyleModel",
      "state": {
       "description_width": "initial"
      }
     },
     "f1db8838ac9e40c1bef50b4562b9f3ad": {
      "model_module": "@jupyter-widgets/controls",
      "model_module_version": "1.5.0",
      "model_name": "ButtonModel",
      "state": {
       "description": "Add target",
       "layout": "IPY_MODEL_449ec9e5e20a431caf9aa2234ccd6f79",
       "style": "IPY_MODEL_2ee77073d4e3466db21e8015d6bbe70c"
      }
     },
     "f2692d75054d49dbacff746865c501a2": {
      "model_module": "@jupyter-widgets/base",
      "model_module_version": "1.2.0",
      "model_name": "LayoutModel",
      "state": {}
     },
     "f337be622acf43f5936e6ea50205a337": {
      "model_module": "@jupyter-widgets/controls",
      "model_module_version": "1.5.0",
      "model_name": "ButtonModel",
      "state": {
       "description": "Enter galactic target coordinates",
       "disabled": true,
       "layout": "IPY_MODEL_a4b9abddba014fb9b718708e072bb522",
       "style": "IPY_MODEL_8ce7c8fd805a4bcebaae9906a26e12ce"
      }
     },
     "f3b5df4d7da5469ab8010ccfaff8dfe5": {
      "model_module": "@jupyter-widgets/base",
      "model_module_version": "1.2.0",
      "model_name": "LayoutModel",
      "state": {
       "min_width": "200px",
       "width": "200px"
      }
     },
     "f4db42987bb64175b79497e93318b2d8": {
      "model_module": "@jupyter-widgets/controls",
      "model_module_version": "1.5.0",
      "model_name": "TextareaModel",
      "state": {
       "layout": "IPY_MODEL_bc8e3b66ff7c49e78b57b490d34326f7",
       "style": "IPY_MODEL_167499a0fa72451d89373f8c73ea2aa8"
      }
     },
     "f61fe26dfd9940fdae923ba9decb5cf3": {
      "model_module": "@jupyter-widgets/controls",
      "model_module_version": "1.5.0",
      "model_name": "ButtonStyleModel",
      "state": {}
     },
     "f70579e79dc647c8b004068b9d5e58d2": {
      "model_module": "@jupyter-widgets/base",
      "model_module_version": "1.2.0",
      "model_name": "LayoutModel",
      "state": {
       "height": "28px",
       "min_height": "28px",
       "min_width": "200px",
       "width": "200px"
      }
     },
     "f71ec721b4a848b09b9d82f778abb211": {
      "model_module": "@jupyter-widgets/base",
      "model_module_version": "1.2.0",
      "model_name": "LayoutModel",
      "state": {}
     },
     "f763679f836b484291cfdcd7b6f2f0f6": {
      "model_module": "@jupyter-widgets/controls",
      "model_module_version": "1.5.0",
      "model_name": "HBoxModel",
      "state": {
       "children": [
        "IPY_MODEL_5a3aa17df2dc40039e18b20201a5b85e",
        "IPY_MODEL_57e8ac71c9c04d5aa05b4bc0c431da96",
        "IPY_MODEL_69cb7159f0294676b2071a2cbd9317bb"
       ],
       "layout": "IPY_MODEL_a55970a1cd7c4e268c9bcac22bef56ea"
      }
     },
     "f814c5a7b07c414a80607223fe668917": {
      "model_module": "@jupyter-widgets/base",
      "model_module_version": "1.2.0",
      "model_name": "LayoutModel",
      "state": {
       "width": "608px"
      }
     },
     "fbd81833a6c04d80bc079dd047f244c2": {
      "model_module": "@jupyter-widgets/controls",
      "model_module_version": "1.5.0",
      "model_name": "ButtonModel",
      "state": {
       "description": "Galactic target list",
       "disabled": true,
       "layout": "IPY_MODEL_a66369f94db54f1e974992ef8e19c9b2",
       "style": "IPY_MODEL_75b46f4d726a44b4985ad6aaa8872d1c"
      }
     },
     "fc683432d68b4e538247a6093d0cb7ad": {
      "model_module": "@jupyter-widgets/controls",
      "model_module_version": "1.5.0",
      "model_name": "TextModel",
      "state": {
       "description": "Lat (b)",
       "layout": "IPY_MODEL_eb7e7f1dd61949b888058f0000ed81f1",
       "style": "IPY_MODEL_932bbc39686940bbbba756afb4185e8c",
       "value": "+1d12m43s"
      }
     },
     "fd18c0c123e5407e9462d4e685aefb8b": {
      "model_module": "@jupyter-widgets/base",
      "model_module_version": "1.2.0",
      "model_name": "LayoutModel",
      "state": {
       "width": "auto"
      }
     },
     "fd4433af9fbe46d6ba73ff9cdf6d190e": {
      "model_module": "@jupyter-widgets/controls",
      "model_module_version": "1.5.0",
      "model_name": "HBoxModel",
      "state": {
       "children": [
        "IPY_MODEL_8b0269b9efe04c6c93653a10bcdc0758",
        "IPY_MODEL_1ad1367a0d114fd99e0229779c3b8e80",
        "IPY_MODEL_4b179f18581449bc9929c7dc58e17839"
       ],
       "layout": "IPY_MODEL_5abf1da437594f9c8ff3da9f74951bf6"
      }
     },
     "fd752c81469f4af8b0a4aa647036b116": {
      "model_module": "@jupyter-widgets/base",
      "model_module_version": "1.2.0",
      "model_name": "LayoutModel",
      "state": {
       "min_width": "200px",
       "width": "200px"
      }
     },
     "feb8dd9c8d2e4fefaef137672e131051": {
      "model_module": "@jupyter-widgets/controls",
      "model_module_version": "1.5.0",
      "model_name": "HBoxModel",
      "state": {
       "children": [
        "IPY_MODEL_3b50a2bd93554847918019e402738dbe",
        "IPY_MODEL_11f703e27b3e4b5ba92a686c06599a60",
        "IPY_MODEL_2282c4ea116d495d9f13ea5f1a000590"
       ],
       "layout": "IPY_MODEL_76d79907bc1a4f72820e4c8a37d5c8ce"
      }
     },
     "ff7d45114fe243ecbf741f2f8a1c4026": {
      "model_module": "@jupyter-widgets/base",
      "model_module_version": "1.2.0",
      "model_name": "LayoutModel",
      "state": {
       "min_width": "200px",
       "width": "200px"
      }
     }
    },
    "version_major": 2,
    "version_minor": 0
   }
  }
 },
 "nbformat": 4,
 "nbformat_minor": 4
}
