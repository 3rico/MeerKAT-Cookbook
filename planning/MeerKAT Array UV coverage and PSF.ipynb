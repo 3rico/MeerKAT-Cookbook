{
 "cells": [
  {
   "cell_type": "code",
   "execution_count": 1,
   "metadata": {},
   "outputs": [],
   "source": [
    "%matplotlib inline\n",
    "import astropy.constants as phys\n",
    "import ephem\n",
    "import matplotlib.pyplot as plt\n",
    "import numpy as np\n",
    "import yaml\n",
    "\n",
    "from astropy import units as u\n",
    "from astropy.coordinates import Longitude, Latitude, EarthLocation\n",
    "from astropy.coordinates import ICRS, SkyCoord\n",
    "from datetime import datetime, timedelta\n",
    "from mpl_toolkits.basemap import Basemap\n",
    "from numpy import recarray\n",
    "\n",
    "from ipywidgets import widgets\n",
    "from IPython.display import display"
   ]
  },
  {
   "cell_type": "markdown",
   "metadata": {},
   "source": [
    "## Read MeerKAT config file with antenna positions"
   ]
  },
  {
   "cell_type": "code",
   "execution_count": 2,
   "metadata": {},
   "outputs": [],
   "source": [
    "class MKAT(object):\n",
    "    def __init__(self, mkat_config):\n",
    "        self.ref_position = None\n",
    "        arr_desc = {'names': ('name', 'east', 'north', 'up', 'location'),\n",
    "                    'formats': ('S5', float, float, float, EarthLocation)}\n",
    "        self.antennas = recarray((0,), dtype=arr_desc)\n",
    "        self.build_array(mkat_config)\n",
    "        \n",
    "        self.frequency = 1420e6 / u.s\n",
    "        self.wavelength = phys.c / self.frequency\n",
    "        self.nr_antennas = len(self.antennas)\n",
    "        self.nr_baselines = (self.nr_antennas * (self.nr_antennas - 1)) // 2\n",
    "        \n",
    "        self.observer = self.ephem_observer()\n",
    "        \n",
    "    def build_array(self, filename):\n",
    "        \"\"\"Read array default .yaml file.\"\"\"\n",
    "        with open(filename, \"r\") as stream:\n",
    "            data = yaml.safe_load(stream)\n",
    "        self.get_reference(data['reference'])\n",
    "        self.get_antennas(data['antennas'])\n",
    " \n",
    "    def get_reference(self, ref_position):\n",
    "        \"\"\"General Earth position for the Telescope\"\"\"\n",
    "        ref_LAT = Latitude(ref_position['latitude'],\n",
    "                           u.degree,\n",
    "                           copy=False)\n",
    "        ref_LON = Longitude(ref_position['longitude'],\n",
    "                            u.degree,\n",
    "                            wrap_angle=180. * u.degree,\n",
    "                            copy=False)\n",
    "        ref_ALT = u.Quantity(ref_position['altitude'],\n",
    "                             u.m,\n",
    "                             copy=False)\n",
    "        self.ref_position = EarthLocation(lat=ref_LAT,\n",
    "                                          lon=ref_LON,\n",
    "                                          height=ref_ALT)\n",
    " \n",
    "    def get_antennas(self, antennas):\n",
    "        \"\"\"ENU coordinates per antenna\"\"\"\n",
    "        if self.ref_position is not None:\n",
    "            [x, y, z] = self.ref_position.to_geocentric()\n",
    "\n",
    "        self.antennas.resize(len(antennas))\n",
    "        for cnt, antenna in enumerate(antennas):\n",
    "            ant_ = [item.strip() for item in antenna.split(\",\")]\n",
    "            for item_ in ant_:\n",
    "                for prefix_ in ('name', 'east', 'north', 'up'):\n",
    "                    val_ =  None\n",
    "                    if item_.startswith(prefix_):\n",
    "                        val_ =  item_.split('=')[-1].strip()\n",
    "                    if val_ is not None:\n",
    "                        self.antennas[cnt][prefix_] = val_\n",
    "            if self.ref_position is not None:\n",
    "                ant_North = x.value + self.antennas[cnt]['north']\n",
    "                ant_East = y.value + self.antennas[cnt]['east']\n",
    "                ant_Up = z.value + self.antennas[cnt]['up']\n",
    "                self.antennas[cnt]['location'] = EarthLocation(x=ant_North * u.m,\n",
    "                                                               y=ant_East * u.m,\n",
    "                                                               z=ant_Up * u.m)\n",
    "\n",
    "    def ephem_observer(self):\n",
    "        lon = self.ref_position.geodetic[0].degree\n",
    "        lat = self.ref_position.geodetic[1].degree\n",
    "        alt = self.ref_position.geodetic[2].value\n",
    "        observer = ephem.Observer()\n",
    "        observer.lon = str(lon)\n",
    "        observer.lat = str(lat)\n",
    "        observer.elevation = alt\n",
    "        return observer\n",
    "    \n",
    "    def baselines(self):\n",
    "        \"\"\"The function evaluates baselines lenghts\n",
    "           and the angle between antennas\n",
    "        \"\"\"\n",
    "        P = np.array([self.antennas['north'],\n",
    "                      self.antennas['east']]).T\n",
    "        # antenna position in wavelength units\n",
    "        P = P / self.wavelength.value  # baseline\n",
    "\n",
    "        bl_length = np.zeros((self.nr_baselines, ))\n",
    "        bl_az_angle = np.zeros((self.nr_baselines, ))\n",
    "        cnt = 0\n",
    "        for idx0 in range(self.nr_antennas):\n",
    "            for idx1 in range(idx0 + 1, self.nr_antennas):\n",
    "                bl_len_p0 = (P[idx0, 0] - P[idx1, 0])**2\n",
    "                bl_len_p1 = (P[idx0, 1] - P[idx1, 1])**2\n",
    "                bl_length[cnt] = np.sqrt(bl_len_p0 + bl_len_p1)\n",
    "                bl_az_angle[cnt] = np.arctan2((P[idx0, 1] - P[idx1, 1]),\n",
    "                                              (P[idx0, 0] - P[idx1, 0]))\n",
    "                cnt += 1\n",
    "\n",
    "        return bl_length, bl_az_angle"
   ]
  },
  {
   "cell_type": "code",
   "execution_count": 3,
   "metadata": {},
   "outputs": [],
   "source": [
    "mkat = MKAT('mkat_antennas.yml')\n",
    "\n",
    "def decode(text_):\n",
    "    if isinstance(text_, str):\n",
    "        text = text_\n",
    "    else:\n",
    "        text = text_.decode(\"utf-8\")\n",
    "    return text\n",
    "\n",
    "# Get array\n",
    "arr_latitude = []\n",
    "arr_longitude = []\n",
    "arr_names = []\n",
    "for antenna in mkat.antennas:\n",
    "    arr_names.append(decode(antenna['name']))\n",
    "    arr_latitude.append(antenna['location'].lat.value)\n",
    "    arr_longitude.append(antenna['location'].lon.value)"
   ]
  },
  {
   "cell_type": "markdown",
   "metadata": {},
   "source": [
    "## Plotting functionality"
   ]
  },
  {
   "cell_type": "code",
   "execution_count": 4,
   "metadata": {},
   "outputs": [],
   "source": [
    "class UVplot(object):\n",
    "    def __init__(self,\n",
    "                 latitude,\n",
    "                 declination,\n",
    "                 elevation):\n",
    "        self.lat = latitude\n",
    "        self.dec = declination\n",
    "        self.elev = elevation\n",
    "\n",
    "    def __baseline_to_xyz__(self,\n",
    "                            baseline_lengths,\n",
    "                            baseline_azimuth):\n",
    "        \"\"\"The following function transform baseline to x,y,z coordinates\n",
    "            elevation: Elevation angle in radian\n",
    "            The result is a vector of (x,y,z) with unit the same as baseline length\n",
    "            Interferometry and Synthesis in Radio Astronomy, Chapter 4, Equation 4.4\n",
    "        \"\"\"\n",
    "        x0 = np.cos(self.lat) * np.sin(baseline_azimuth)\n",
    "        x1 = np.sin(self.lat) * np.cos(baseline_azimuth) * np.cos(self.elev)\n",
    "        x = x0 - x1\n",
    "        y = np.cos(baseline_azimuth) * np.sin(self.elev)\n",
    "        z0 = np.sin(self.lat) * np.sin(baseline_azimuth)\n",
    "        z1 = np.cos(self.lat) * np.cos(baseline_azimuth) * np.cos(self.elev)\n",
    "        z = z0 + z1\n",
    "        xyz = np.array([(x, y, z)])\n",
    "        return baseline_lengths * xyz.T\n",
    "\n",
    "    def __xyz_to_baseline__(self,\n",
    "                            hour_angle):\n",
    "        \"\"\"Transform x, y, z to u, v, w components\n",
    "           hour_angle: Source hour angle in radians\n",
    "           dec: Source declination in radian\n",
    "           Interferometry and Synthesis in Radio Astronomy, Chapter 4, Equation 4.1\n",
    "        \"\"\"\n",
    "        a1 = np.sin(hour_angle)\n",
    "        a2 = np.cos(hour_angle)\n",
    "        a3 = 0.\n",
    "\n",
    "        b1 = -1 * np.sin(self.dec) * np.cos(hour_angle)\n",
    "        b2 = np.sin(self.dec) * np.sin(hour_angle)\n",
    "        b3 = np.cos(self.dec)\n",
    "\n",
    "        c1 = np.cos(self.dec) * np.cos(hour_angle)\n",
    "        c2 = -1 * np.cos(self.dec) * np.sin(hour_angle)\n",
    "        c3 = np.sin(self.dec)\n",
    "\n",
    "        return np.array([(a1, a2, a3),\n",
    "                         (b1, b2, b3),\n",
    "                         (c1, c2, c3)])\n",
    "\n",
    "    def track_uv(self,\n",
    "                 ha_range,\n",
    "                 bl_length,\n",
    "                 bl_azimuth,\n",
    "                 timeslots):\n",
    "        \"\"\"Evaluate the track of a single antenna pair\n",
    "           The function return a set of u,v,w components\n",
    "        \"\"\"\n",
    "        uvw = np.zeros((timeslots, 3), dtype=float)\n",
    "        for i in range(timeslots):\n",
    "            uvw[i, :] = np.dot(self.__xyz_to_baseline__(ha_range[i]),\n",
    "                               self.__baseline_to_xyz__(bl_length,\n",
    "                                                        bl_azimuth)).T\n",
    "        return uvw\n",
    "\n",
    "    def uvMask(self,\n",
    "               ha_range,\n",
    "               bl_length,\n",
    "               bl_azimuth,\n",
    "               timeslots,\n",
    "               maxsize,\n",
    "               uvscaling):\n",
    "        maskmat = np.zeros((maxsize, maxsize))\n",
    "        uvw = self.track_uv(ha_range,\n",
    "                            bl_length,\n",
    "                            bl_azimuth,\n",
    "                            timeslots)\n",
    "        sctrl = maxsize // 2 + 1\n",
    "        for i in range(timeslots):\n",
    "            maskmat[sctrl + int(np.ceil(uvw[i, 0] * uvscaling)),\n",
    "                    sctrl + int(np.ceil(uvw[i, 1] * uvscaling))] = 1.\n",
    "            maskmat[sctrl - int(np.ceil(uvw[i, 0] * uvscaling)),\n",
    "                    sctrl - int(np.ceil(uvw[i, 1] * uvscaling))] = 1.\n",
    "        return maskmat\n",
    "\n",
    "    def plot_uv(self,\n",
    "                ha_range,\n",
    "                bl_length,\n",
    "                bl_azimuth,\n",
    "                timeslots,\n",
    "                comment=''):\n",
    "        \"\"\"UV coverage graph\"\"\"\n",
    "        nr_baselines = len(bl_length)\n",
    "        fig, ax = plt.subplots(nrows=1, ncols=1,\n",
    "                               figsize=(20, 13),  # W x H\n",
    "                               facecolor='white')\n",
    "        for i in range(nr_baselines):\n",
    "            uv = self.track_uv(ha_range,\n",
    "                               bl_length[i],\n",
    "                               bl_azimuth[i],\n",
    "                               timeslots)\n",
    "            ax.plot(uv[:, 0], uv[:, 1], 'b.', markersize=2)\n",
    "            ax.plot(-uv[:, 0], -uv[:, 1], 'r.', markersize=2)\n",
    "        ax.set_xlabel('u')\n",
    "        ax.set_ylabel('v')\n",
    "        ax.set_title('Declination {} deg: UV coverage'\n",
    "                     .format(comment))\n",
    "        return fig, ax\n",
    "\n",
    "    def plot_mask(self,\n",
    "                  mask,\n",
    "                  psf,\n",
    "                  comment=''):\n",
    "        \"\"\"Display simulated beamshape\"\"\"\n",
    "        fig, ax = plt.subplots(nrows=1, ncols=2,\n",
    "                               figsize=(20, 13),  # W x H\n",
    "                               facecolor='white')\n",
    "        ax[0].imshow(mask)\n",
    "        [nr, nc] = np.shape(mask)\n",
    "        ax[0].set_xlim(0.5 * nr - 0.25 * nr,\n",
    "                       0.5 * nr + 0.25 * nr)\n",
    "        ax[0].set_ylim(0.5 * nc - 0.25 * nc,\n",
    "                       0.5 * nc + 0.25 * nc)\n",
    "        ax[0].set_xlabel('u')\n",
    "        ax[0].set_ylabel('v')\n",
    "        ax[0].set_title('uv coverage, \"%s\"' % comment)\n",
    "\n",
    "        ax[1].imshow(psf,\n",
    "                     interpolation='gaussian',\n",
    "                     origin='lower',\n",
    "                     vmin=psf.min() / 1000.,\n",
    "                     vmax=psf.max())\n",
    "        [nr, nc] = np.shape(psf)\n",
    "        ax[1].set_xlim(0.5 * nr - 0.25 * nr,\n",
    "                       0.5 * nr + 0.25 * nr)\n",
    "        ax[1].set_ylim(0.5 * nc - 0.25 * nc,\n",
    "                       0.5 * nc + 0.25 * nc)\n",
    "        ax[1].set_xlabel('u')\n",
    "        ax[1].set_ylabel('v')\n",
    "        ax[1].set_title('psf, \"%s\"' % comment)\n",
    "\n",
    "        return fig, ax"
   ]
  },
  {
   "cell_type": "code",
   "execution_count": 5,
   "metadata": {},
   "outputs": [],
   "source": [
    "# hour angle range in hours given nr of timeslots\n",
    "# At meridian the hour angle is 0.000 degree,\n",
    "# with the time before meridian crossing expressed as negative degrees,\n",
    "# and the local time after expressed as positive degrees.\n",
    "def get_ha_range(telescope,\n",
    "                 target,\n",
    "                 start_time,\n",
    "                 duration,\n",
    "                 ntimeslots=50):\n",
    "\n",
    "    start_time = datetime.strptime(start_time, '%Y-%m-%d %H:%M:%S')\n",
    "    stop_time = start_time + timedelta(seconds=duration)\n",
    "\n",
    "    telescope.observer.date = ephem.Date(start_time)\n",
    "    star = ephem.FixedBody()\n",
    "    star._ra = target.ra.degree\n",
    "    star._dec = target.dec.degree\n",
    "    rise_time = telescope.observer.previous_rising(star)\n",
    "    set_time = telescope.observer.next_setting(star,\n",
    "                                               start=rise_time).datetime()\n",
    "    if start_time > set_time:\n",
    "        rise_time = telescope.observer.next_rising(star)\n",
    "        set_time = telescope.observer.next_setting(star,\n",
    "                                                   start=rise_time).datetime()\n",
    "    if start_time < rise_time.datetime():\n",
    "        start_time = rise_time.datetime()\n",
    "\n",
    "    transit_time = telescope.observer.next_transit(star,\n",
    "                                                   start=rise_time).datetime()\n",
    "\n",
    "    if stop_time > set_time:\n",
    "        stop_time = set_time\n",
    "        duration = (stop_time - start_time).total_seconds()\n",
    "\n",
    "    time_step = float(duration) / float(ntimeslots)\n",
    "    dtime = np.arange(0, duration + time_step, time_step)\n",
    "    ha_range = np.zeros((dtime.size), dtype=float)\n",
    "    for cnt, dt in enumerate(dtime):\n",
    "        time_ = start_time + timedelta(seconds=dt)\n",
    "        if time_ < transit_time:\n",
    "            dt_transit = -(transit_time - time_).total_seconds()\n",
    "        else:\n",
    "            dt_transit = (time_ - transit_time).total_seconds()\n",
    "        ha_range[cnt] = dt_transit / 3600.\n",
    "\n",
    "    # 1hr = 15 deg = pi/12 rad\n",
    "    return ha_range * np.pi / 12.\n",
    "\n",
    "def coverage(telescope,\n",
    "             target,\n",
    "             start_time=None,\n",
    "             duration=300,  # sec\n",
    "             ntimeslots=10):\n",
    "\n",
    "    # declination convert in radian\n",
    "    dec = np.radians(target.dec.degree)\n",
    "    print(dec)\n",
    "    # telescope latitude\n",
    "    latitude = telescope.ref_position.geodetic[1].radian\n",
    "    print(latitude)\n",
    "    # number of time slots\n",
    "    ntimeslots = ntimeslots\n",
    "    print(ntimeslots)\n",
    "    # hour angle range from target sky track\n",
    "    ha_range = get_ha_range(telescope,\n",
    "                            target,\n",
    "                            start_time,\n",
    "                            duration,\n",
    "                            ntimeslots=ntimeslots)\n",
    "    print(ha_range)\n",
    "\n",
    "    # baseline lengths and azimuth angles\n",
    "    [bl_length,\n",
    "     bl_az_angle] = telescope.baselines()\n",
    "\n",
    "    # Plot the uv-Coverage\n",
    "    uvplot = UVplot(latitude=latitude,\n",
    "                    declination=dec,\n",
    "                    elevation=0.)\n",
    "\n",
    "    fig, ax = uvplot.plot_uv(ha_range,\n",
    "                             bl_length,\n",
    "                             bl_az_angle,\n",
    "                             ntimeslots,\n",
    "                             comment='{:.0f}'.format(dec))\n",
    "    uv = uvplot.track_uv(ha_range=ha_range,\n",
    "                         bl_length=bl_length[-1],\n",
    "                         bl_azimuth=bl_az_angle[-1],\n",
    "                         timeslots=ntimeslots)\n",
    "    mb = 5 * np.sqrt((uv**2).sum(1)).max()\n",
    "    ax.set_xlim(-mb, mb)\n",
    "    ax.set_ylim(-mb, mb)\n",
    "    plt.axis('equal')\n",
    "    plt.gca().invert_xaxis()\n",
    "\n",
    "    # Show UV mask and synthesize beam, natural weighting without a taper\n",
    "    # number of pixels\n",
    "    npix = 2**10  # should be a power of two\n",
    "    # kernel matrix\n",
    "    mask = np.zeros((npix, npix))\n",
    "    # uv-grid scale factor to fit tracks into matrix\n",
    "    uvscale = npix / 2 / mb * 0.95 * 0.5\n",
    "    for i in range(telescope.nr_baselines):\n",
    "        mask = mask + uvplot.uvMask(ha_range,\n",
    "                                    bl_length[i],\n",
    "                                    bl_az_angle[i],\n",
    "                                    ntimeslots,\n",
    "                                    npix,\n",
    "                                    uvscale)\n",
    "\n",
    "    psf = np.fft.ifftshift(np.fft.ifft2(mask.T)).real\n",
    "    uvplot.plot_mask(mask.T,\n",
    "                     psf,\n",
    "                     comment=\"natural weighting\")"
   ]
  },
  {
   "cell_type": "markdown",
   "metadata": {},
   "source": [
    "## Select antennas for array"
   ]
  },
  {
   "cell_type": "code",
   "execution_count": 6,
   "metadata": {},
   "outputs": [],
   "source": [
    "class antennas():\n",
    "    def __init__(self):\n",
    "        \n",
    "        self.antennas = {}\n",
    "        self.construct_array()\n",
    "        \n",
    "        # build widget grid\n",
    "        for ant_name in self.antennas.keys():\n",
    "            self.antennas[ant_name] = self.ant_checkbox(ant_name)\n",
    "        \n",
    "    def construct_array(self):\n",
    "        for cntr in range(0, 64):\n",
    "            ant_name = 'm{:03d}'.format(cntr)\n",
    "            self.antennas[ant_name] = None        \n",
    "        \n",
    "    def ant_checkbox(self, ant_name):\n",
    "        return widgets.Checkbox(value=True,\n",
    "                                description=ant_name,\n",
    "                                disabled=False,\n",
    "                                indent=False) "
   ]
  },
  {
   "cell_type": "markdown",
   "metadata": {},
   "source": [
    "## Target coordinates and observation information"
   ]
  },
  {
   "cell_type": "code",
   "execution_count": 7,
   "metadata": {},
   "outputs": [],
   "source": [
    "class RaDec(object):\n",
    "    def __init__(self):\n",
    "        radec_header = widgets.Button(description='Enter celestial target coordinates',\n",
    "                                      disabled=True, button_style='', tooltip='', icon='',\n",
    "                                      layout={'width':'608px'})        \n",
    "        header_1_0 = self._add_header_(description='J1939-6342')\n",
    "        header_1_1 = self._add_header_(description='19h39m25.0264s')        \n",
    "        header_1_2 = self._add_header_(description='-63d42m45.624s')  \n",
    "        \n",
    "        self.cname = self._add_text_(description='Name', value='Test')\n",
    "        # The right ascension for this object\n",
    "        self.ra = self._add_text_(description='RA', value='00h42m44.2992s')\n",
    "        # The declination for this object\n",
    "        self.dec = self._add_text_(description='Dec', value='+41d16m09.012s')\n",
    "    \n",
    "        headers_1 = widgets.HBox([header_1_0, header_1_1, header_1_2])\n",
    "        celestial_target = widgets.HBox([self.cname, self.ra, self.dec])\n",
    "        \n",
    "        header_2 = self._add_header_(description='YYYY-MM-DD HH:mm:SS.f')\n",
    "        self.starttime = self._add_text_(description='Start time', value='2013-6-21 21:00:00')\n",
    "        self.duration = self._add_text_(description='Duration [sec]', value='600')\n",
    "        self.timeslots = self._add_text_(description='# timeslots', value='50')\n",
    "        start = widgets.VBox([header_2, widgets.HBox([self.starttime, self.duration, self.timeslots])])\n",
    "        \n",
    "        self.ui = widgets.VBox([radec_header,\n",
    "                                headers_1,\n",
    "                                celestial_target,\n",
    "                                start\n",
    "                               ])\n",
    "    \n",
    "    def _add_header_(self, description):\n",
    "        header_layout = {'width':'200px', 'min_width':'200px',\n",
    "                         'height':'28px', 'min_height':'28px'}\n",
    "        return widgets.Button(description=description,\n",
    "                              disabled=True,\n",
    "                              button_style='',\n",
    "                              tooltip='',\n",
    "                              icon='',\n",
    "                              layout=header_layout)\n",
    "    \n",
    "    def _add_text_(self, description, value=''):\n",
    "        text_style = {'description_width': 'initial'}\n",
    "        text_layout = {'width':'200px', 'min_width':'200px'}\n",
    "        return widgets.Text(description=description,\n",
    "                            value=value,\n",
    "                            layout=text_layout,\n",
    "                            style=text_style)"
   ]
  },
  {
   "cell_type": "markdown",
   "metadata": {},
   "source": [
    "## User input"
   ]
  },
  {
   "cell_type": "code",
   "execution_count": 8,
   "metadata": {},
   "outputs": [
    {
     "data": {
      "application/vnd.jupyter.widget-view+json": {
       "model_id": "98228912829d4d1abaa3de5210aa11e7",
       "version_major": 2,
       "version_minor": 0
      },
      "text/plain": [
       "VBox(children=(HBox(children=(Checkbox(value=True, description='m000', indent=False), Checkbox(value=True, des…"
      ]
     },
     "metadata": {},
     "output_type": "display_data"
    }
   ],
   "source": [
    "def select_antennas(ant_array):\n",
    "    array_ = np.empty([4, 16], dtype=widgets.Checkbox)\n",
    "    for cnt, ant in enumerate(ant_array.antennas.keys()):\n",
    "        array_[cnt//16, cnt%16] = ant_array.antennas[ant]\n",
    "    antennas_ = widgets.VBox([widgets.HBox(array_[0,:].tolist()),\n",
    "                              widgets.HBox(array_[1,:].tolist()),\n",
    "                              widgets.HBox(array_[2,:].tolist()),\n",
    "                              widgets.HBox(array_[3,:].tolist())])\n",
    "    display(antennas_)\n",
    "ant_array = antennas()\n",
    "select_antennas(ant_array)"
   ]
  },
  {
   "cell_type": "code",
   "execution_count": 9,
   "metadata": {},
   "outputs": [
    {
     "data": {
      "application/vnd.jupyter.widget-view+json": {
       "model_id": "207167908fee44248054ee6356ac5e17",
       "version_major": 2,
       "version_minor": 0
      },
      "text/plain": [
       "VBox(children=(Button(description='Enter celestial target coordinates', disabled=True, layout=Layout(width='60…"
      ]
     },
     "metadata": {},
     "output_type": "display_data"
    }
   ],
   "source": [
    "target = RaDec()\n",
    "display(target.ui)"
   ]
  },
  {
   "cell_type": "markdown",
   "metadata": {},
   "source": [
    "## Run to show UV coverage for selected antennas\n",
    "\n",
    "Select the appropriate antennas from those listed above and and run the cells generate the coverage plots"
   ]
  },
  {
   "cell_type": "code",
   "execution_count": 10,
   "metadata": {},
   "outputs": [
    {
     "name": "stdout",
     "output_type": "stream",
     "text": [
      "Test 00h42m44.2992s +41d16m09.012s\n",
      "<SkyCoord (ICRS): (ra, dec) in deg\n",
      "    (10.68458, 41.26917)>\n",
      "2013-6-21 21:00:00 600 50\n",
      "0.7202828960652683\n",
      "-0.5360090362073406\n",
      "50\n",
      "[-1.85318907 -1.85231641 -1.85144374 -1.85057108 -1.84969841 -1.84882575\n",
      " -1.84795308 -1.84708042 -1.84620776 -1.84533509 -1.84446243 -1.84358976\n",
      " -1.8427171  -1.84184443 -1.84097177 -1.8400991  -1.83922644 -1.83835377\n",
      " -1.83748111 -1.83660844 -1.83573578 -1.83486311 -1.83399045 -1.83311779\n",
      " -1.83224512 -1.83137246 -1.83049979 -1.82962713 -1.82875446 -1.8278818\n",
      " -1.82700913 -1.82613647 -1.8252638  -1.82439114 -1.82351847 -1.82264581\n",
      " -1.82177315 -1.82090048 -1.82002782 -1.81915515 -1.81828249 -1.81740982\n",
      " -1.81653716 -1.81566449 -1.81479183 -1.81391916 -1.8130465  -1.81217383\n",
      " -1.81130117 -1.81042851 -1.80955584]\n"
     ]
    },
    {
     "data": {
      "image/png": "[encoded data removed]",
      "text/plain": [
       "<Figure size 1440x936 with 1 Axes>"
      ]
     },
     "metadata": {},
     "output_type": "display_data"
    },
    {
     "data": {
      "image/png": "[encoded data removed]",
      "text/plain": [
       "<Figure size 1440x936 with 2 Axes>"
      ]
     },
     "metadata": {},
     "output_type": "display_data"
    }
   ],
   "source": [
    "radec_coord = SkyCoord(ra=target.ra.value, dec=target.dec.value,\n",
    "                       unit=(u.hourangle, u.deg),\n",
    "                       frame=ICRS)\n",
    "coverage(telescope=mkat,\n",
    "         target=radec_coord,\n",
    "         start_time=target.starttime.value,\n",
    "         duration=float(target.duration.value),\n",
    "         ntimeslots=int(target.timeslots.value))"
   ]
  },
  {
   "cell_type": "code",
   "execution_count": null,
   "metadata": {},
   "outputs": [],
   "source": []
  }
 ],
 "metadata": {
  "kernelspec": {
   "display_name": "Python 3",
   "language": "python",
   "name": "python3"
  },
  "language_info": {
   "codemirror_mode": {
    "name": "ipython",
    "version": 3
   },
   "file_extension": ".py",
   "mimetype": "text/x-python",
   "name": "python",
   "nbconvert_exporter": "python",
   "pygments_lexer": "ipython3",
   "version": "3.6.9"
  },
  "widgets": {
   "application/vnd.jupyter.widget-state+json": {
    "state": {
     "00341454d720470f8ade9796be8dce92": {
      "model_module": "@jupyter-widgets/controls",
      "model_module_version": "1.5.0",
      "model_name": "CheckboxModel",
      "state": {
       "description": "m061",
       "disabled": false,
       "indent": false,
       "layout": "IPY_MODEL_2986b3acf7684e0ebde5574689cb4d13",
       "style": "IPY_MODEL_1239de748b164e4684f288741aeb32c3",
       "value": true
      }
     },
     "005ce3aa268845259f6f0a8a968e6159": {
      "model_module": "@jupyter-widgets/controls",
      "model_module_version": "1.5.0",
      "model_name": "CheckboxModel",
      "state": {
       "description": "m013",
       "disabled": false,
       "indent": false,
       "layout": "IPY_MODEL_3c5cf4945d53478084eb614de477f330",
       "style": "IPY_MODEL_ad0c73706f844da38c83e0ba08040247",
       "value": true
      }
     },
     "009bc53b4e6944aca8b03ad96b27d53f": {
      "model_module": "@jupyter-widgets/base",
      "model_module_version": "1.2.0",
      "model_name": "LayoutModel",
      "state": {}
     },
     "00cdb64521b9435492126e213338c142": {
      "model_module": "@jupyter-widgets/controls",
      "model_module_version": "1.5.0",
      "model_name": "DescriptionStyleModel",
      "state": {
       "description_width": ""
      }
     },
     "00f5a782a19041fcb8114999d6251332": {
      "model_module": "@jupyter-widgets/controls",
      "model_module_version": "1.5.0",
      "model_name": "TextModel",
      "state": {
       "description": "Name",
       "layout": "IPY_MODEL_f17951ee924846bdb349128cc7e6a5e6",
       "style": "IPY_MODEL_c38f3c53c0954975b428976dbe33194a",
       "value": "Test"
      }
     },
     "014a91fa165448c38c03aa01821343bf": {
      "model_module": "@jupyter-widgets/base",
      "model_module_version": "1.2.0",
      "model_name": "LayoutModel",
      "state": {}
     },
     "019be2e0b5774d2f81cd46be59dc7fda": {
      "model_module": "@jupyter-widgets/controls",
      "model_module_version": "1.5.0",
      "model_name": "DescriptionStyleModel",
      "state": {
       "description_width": ""
      }
     },
     "024c6af5081641ccae724328eb346ea3": {
      "model_module": "@jupyter-widgets/controls",
      "model_module_version": "1.5.0",
      "model_name": "DescriptionStyleModel",
      "state": {
       "description_width": ""
      }
     },
     "02710a3b5a604aba977ba0965816fc76": {
      "model_module": "@jupyter-widgets/base",
      "model_module_version": "1.2.0",
      "model_name": "LayoutModel",
      "state": {
       "height": "28px",
       "min_height": "28px",
       "min_width": "200px",
       "width": "200px"
      }
     },
     "02a0a7aba1744ce7833f19f258cf1140": {
      "model_module": "@jupyter-widgets/controls",
      "model_module_version": "1.5.0",
      "model_name": "CheckboxModel",
      "state": {
       "description": "m046",
       "disabled": false,
       "indent": false,
       "layout": "IPY_MODEL_743d332ebda445fa99ec3e72007d1bfc",
       "style": "IPY_MODEL_d686dc197a954bef962c652addbd4dd7",
       "value": true
      }
     },
     "03849d58d4f94e76939c1467e45f48a3": {
      "model_module": "@jupyter-widgets/controls",
      "model_module_version": "1.5.0",
      "model_name": "ButtonModel",
      "state": {
       "description": "-63d42m45.624s",
       "disabled": true,
       "layout": "IPY_MODEL_0baef7a2c9ed497c83e9706c88dbf60c",
       "style": "IPY_MODEL_c76c552166634823ad1d014cd649bfce"
      }
     },
     "046bec215d1d4a099cee60b69aabda02": {
      "model_module": "@jupyter-widgets/base",
      "model_module_version": "1.2.0",
      "model_name": "LayoutModel",
      "state": {}
     },
     "048c0514413344cc8862527acc821cb6": {
      "model_module": "@jupyter-widgets/base",
      "model_module_version": "1.2.0",
      "model_name": "LayoutModel",
      "state": {}
     },
     "0495ae6e99db4c20b61993a774d12318": {
      "model_module": "@jupyter-widgets/controls",
      "model_module_version": "1.5.0",
      "model_name": "DescriptionStyleModel",
      "state": {
       "description_width": ""
      }
     },
     "04f691eb955445e9a57ba0e904120356": {
      "model_module": "@jupyter-widgets/controls",
      "model_module_version": "1.5.0",
      "model_name": "DescriptionStyleModel",
      "state": {
       "description_width": ""
      }
     },
     "0552d987f0e9401bb02ef0e5ee3409e1": {
      "model_module": "@jupyter-widgets/base",
      "model_module_version": "1.2.0",
      "model_name": "LayoutModel",
      "state": {}
     },
     "059d2aa697cd4852be78f52b5c14c0d8": {
      "model_module": "@jupyter-widgets/base",
      "model_module_version": "1.2.0",
      "model_name": "LayoutModel",
      "state": {}
     },
     "05a2d64f5e6a42ef9f9bf15d16432cc9": {
      "model_module": "@jupyter-widgets/controls",
      "model_module_version": "1.5.0",
      "model_name": "ButtonModel",
      "state": {
       "description": "19h39m25.0264s",
       "disabled": true,
       "layout": "IPY_MODEL_5f0d0b09bedf402783f599b37b2ab806",
       "style": "IPY_MODEL_cd1622e1ad304cc1909fd326c5ef0cf9"
      }
     },
     "05a415661ab24624a54cbe0db42e0bc8": {
      "model_module": "@jupyter-widgets/controls",
      "model_module_version": "1.5.0",
      "model_name": "DescriptionStyleModel",
      "state": {
       "description_width": ""
      }
     },
     "05e0812b4d724f1fb90b331f90dadb0a": {
      "model_module": "@jupyter-widgets/controls",
      "model_module_version": "1.5.0",
      "model_name": "ButtonStyleModel",
      "state": {}
     },
     "060844b7a9884520baf99ea9fa24f826": {
      "model_module": "@jupyter-widgets/controls",
      "model_module_version": "1.5.0",
      "model_name": "ButtonStyleModel",
      "state": {}
     },
     "06147d3f213d4922912fcb5a0afd5a10": {
      "model_module": "@jupyter-widgets/base",
      "model_module_version": "1.2.0",
      "model_name": "LayoutModel",
      "state": {}
     },
     "062594f7c7ec4cc7875b4fb885ca0799": {
      "model_module": "@jupyter-widgets/controls",
      "model_module_version": "1.5.0",
      "model_name": "DescriptionStyleModel",
      "state": {
       "description_width": ""
      }
     },
     "062c6858ad5b454eb5f4b58722cf1641": {
      "model_module": "@jupyter-widgets/controls",
      "model_module_version": "1.5.0",
      "model_name": "ButtonModel",
      "state": {
       "description": "-63d42m45.624s",
       "disabled": true,
       "layout": "IPY_MODEL_f049f29cb59a403a9121d8cac6e3eac4",
       "style": "IPY_MODEL_1286fc4d1ca74c2bbac417a9f532f78f"
      }
     },
     "063e91dfc30c4d0da68ed55d95fbf658": {
      "model_module": "@jupyter-widgets/controls",
      "model_module_version": "1.5.0",
      "model_name": "DescriptionStyleModel",
      "state": {
       "description_width": ""
      }
     },
     "06961bd777ce49d5ba4f57f3ccee75f5": {
      "model_module": "@jupyter-widgets/controls",
      "model_module_version": "1.5.0",
      "model_name": "CheckboxModel",
      "state": {
       "description": "m050",
       "disabled": false,
       "indent": false,
       "layout": "IPY_MODEL_4a688b6d1317404a9d676226cb750ff4",
       "style": "IPY_MODEL_81943b02a7a84cec840edc6b5865169f",
       "value": true
      }
     },
     "082d1fcc5bd44490a6ad06c612ce5f78": {
      "model_module": "@jupyter-widgets/base",
      "model_module_version": "1.2.0",
      "model_name": "LayoutModel",
      "state": {}
     },
     "08d6cb425191486788255e1c3b8d44f3": {
      "model_module": "@jupyter-widgets/controls",
      "model_module_version": "1.5.0",
      "model_name": "CheckboxModel",
      "state": {
       "description": "m011",
       "disabled": false,
       "indent": false,
       "layout": "IPY_MODEL_16286ff8982348789ce8554886dc598b",
       "style": "IPY_MODEL_26635b61d703462c9f5c29593423edaf",
       "value": true
      }
     },
     "090d9f94c74a4de58abbd100d055ca95": {
      "model_module": "@jupyter-widgets/controls",
      "model_module_version": "1.5.0",
      "model_name": "ButtonModel",
      "state": {
       "description": "Add target",
       "layout": "IPY_MODEL_37d1a9c87afd4dac9f5074d9740dc05d",
       "style": "IPY_MODEL_4e85451218994aa683bf3f71713d57a1"
      }
     },
     "09400f278b794ef49488b16082b7cc8e": {
      "model_module": "@jupyter-widgets/controls",
      "model_module_version": "1.5.0",
      "model_name": "DescriptionStyleModel",
      "state": {
       "description_width": ""
      }
     },
     "09acd0c35ed9455eb656c67b9ccfd607": {
      "model_module": "@jupyter-widgets/controls",
      "model_module_version": "1.5.0",
      "model_name": "ButtonModel",
      "state": {
       "description": "YYYY-MM-DD HH:mm:SS.f",
       "disabled": true,
       "layout": "IPY_MODEL_9d799d364ad4431d9078e22e2bb7cd08",
       "style": "IPY_MODEL_48d71967764348568ca45865b0af265e"
      }
     },
     "0a9c46685e7d4b55b4919d021863e3d4": {
      "model_module": "@jupyter-widgets/controls",
      "model_module_version": "1.5.0",
      "model_name": "ButtonStyleModel",
      "state": {}
     },
     "0b560021c65e437eb27f88345f194ab4": {
      "model_module": "@jupyter-widgets/controls",
      "model_module_version": "1.5.0",
      "model_name": "ButtonStyleModel",
      "state": {}
     },
     "0bae3de4816e4daa9b268af6edc034ad": {
      "model_module": "@jupyter-widgets/controls",
      "model_module_version": "1.5.0",
      "model_name": "VBoxModel",
      "state": {
       "children": [
        "IPY_MODEL_b77bc54c2b4a47eab150d0b2dd356047",
        "IPY_MODEL_692ae8834aea43e7afbce88b7cf72d47",
        "IPY_MODEL_5f1170f74f3847a4a5320a50a6c6009f"
       ],
       "layout": "IPY_MODEL_43bed6a5650c4f778de11570ae274945"
      }
     },
     "0baef7a2c9ed497c83e9706c88dbf60c": {
      "model_module": "@jupyter-widgets/base",
      "model_module_version": "1.2.0",
      "model_name": "LayoutModel",
      "state": {
       "height": "28px",
       "min_height": "28px",
       "min_width": "200px",
       "width": "200px"
      }
     },
     "0bbe15cb69484eb389a37711ca502823": {
      "model_module": "@jupyter-widgets/controls",
      "model_module_version": "1.5.0",
      "model_name": "DescriptionStyleModel",
      "state": {
       "description_width": ""
      }
     },
     "0ca4c87db781458d96153cfc721cc886": {
      "model_module": "@jupyter-widgets/base",
      "model_module_version": "1.2.0",
      "model_name": "LayoutModel",
      "state": {
       "min_width": "200px",
       "width": "200px"
      }
     },
     "0cce5d7272f243be985cc8e8213f3111": {
      "model_module": "@jupyter-widgets/controls",
      "model_module_version": "1.5.0",
      "model_name": "CheckboxModel",
      "state": {
       "description": "m038",
       "disabled": false,
       "indent": false,
       "layout": "IPY_MODEL_227a59f4f2df4e2e8d4fc6affc96386c",
       "style": "IPY_MODEL_c660e0341b764fb299df58912111b22e",
       "value": true
      }
     },
     "0cd6386b3a194a1bb8b536a0fb3da460": {
      "model_module": "@jupyter-widgets/base",
      "model_module_version": "1.2.0",
      "model_name": "LayoutModel",
      "state": {}
     },
     "0cec8ccfdac944e9b45be5d43607aee8": {
      "model_module": "@jupyter-widgets/base",
      "model_module_version": "1.2.0",
      "model_name": "LayoutModel",
      "state": {}
     },
     "0de0ca15746f4094a41defef4361342d": {
      "model_module": "@jupyter-widgets/base",
      "model_module_version": "1.2.0",
      "model_name": "LayoutModel",
      "state": {}
     },
     "0e0d28406079471a88dbac697f350940": {
      "model_module": "@jupyter-widgets/base",
      "model_module_version": "1.2.0",
      "model_name": "LayoutModel",
      "state": {}
     },
     "0e1fddbcb6444cb39db37ef2dfd52d01": {
      "model_module": "@jupyter-widgets/base",
      "model_module_version": "1.2.0",
      "model_name": "LayoutModel",
      "state": {}
     },
     "0e290c7d0f6d418ba208adae0e1bc0fb": {
      "model_module": "@jupyter-widgets/controls",
      "model_module_version": "1.5.0",
      "model_name": "CheckboxModel",
      "state": {
       "description": "m016",
       "disabled": false,
       "indent": false,
       "layout": "IPY_MODEL_15e8cffa76e54a61b276babe5c247fab",
       "style": "IPY_MODEL_f564e1c866fe405d80b617ee85225aeb",
       "value": true
      }
     },
     "0e96aebe388d4341be20f2293dc56024": {
      "model_module": "@jupyter-widgets/controls",
      "model_module_version": "1.5.0",
      "model_name": "CheckboxModel",
      "state": {
       "description": "m019",
       "disabled": false,
       "indent": false,
       "layout": "IPY_MODEL_9584b1612f664414aa40c5c80d3dd67f",
       "style": "IPY_MODEL_9c73a4fd61844f49b7fcd063703551e6",
       "value": true
      }
     },
     "0eb0796157944e73b83b5683be9722ce": {
      "model_module": "@jupyter-widgets/base",
      "model_module_version": "1.2.0",
      "model_name": "LayoutModel",
      "state": {}
     },
     "0ede1a44cd354b1ca1320ba18d456e77": {
      "model_module": "@jupyter-widgets/controls",
      "model_module_version": "1.5.0",
      "model_name": "CheckboxModel",
      "state": {
       "description": "m010",
       "disabled": false,
       "indent": false,
       "layout": "IPY_MODEL_f970dfb5858a475ab81c78ac8fd252df",
       "style": "IPY_MODEL_ecec6ec598884352968ad0abed287221",
       "value": true
      }
     },
     "0f123a20d2284a7a96adeb793a619dc3": {
      "model_module": "@jupyter-widgets/base",
      "model_module_version": "1.2.0",
      "model_name": "LayoutModel",
      "state": {
       "height": "28px",
       "min_height": "28px",
       "min_width": "200px",
       "width": "200px"
      }
     },
     "0f174dd2989f47ea9c5b267b4e9631be": {
      "model_module": "@jupyter-widgets/controls",
      "model_module_version": "1.5.0",
      "model_name": "DescriptionStyleModel",
      "state": {
       "description_width": ""
      }
     },
     "0f19877d6be243f0b3de1ce8277309de": {
      "model_module": "@jupyter-widgets/controls",
      "model_module_version": "1.5.0",
      "model_name": "CheckboxModel",
      "state": {
       "description": "m028",
       "disabled": false,
       "indent": false,
       "layout": "IPY_MODEL_5fde2c414d2740a69d0b17f180caa122",
       "style": "IPY_MODEL_accf986086fe4eb8bd530e2d559c8657",
       "value": true
      }
     },
     "1082c48ff4f84fc6a33df768b55f940b": {
      "model_module": "@jupyter-widgets/controls",
      "model_module_version": "1.5.0",
      "model_name": "ButtonModel",
      "state": {
       "description": "J1939-6342",
       "disabled": true,
       "layout": "IPY_MODEL_e8fe4fa5325b45c6ab903aeaacf824cd",
       "style": "IPY_MODEL_ad9d72cb37904de2b9d8672e947d140d"
      }
     },
     "1099479ade304ab7ae46d042694575dc": {
      "model_module": "@jupyter-widgets/controls",
      "model_module_version": "1.5.0",
      "model_name": "DescriptionStyleModel",
      "state": {
       "description_width": ""
      }
     },
     "10c2bf416e134a2eb91b83a89aac9700": {
      "model_module": "@jupyter-widgets/controls",
      "model_module_version": "1.5.0",
      "model_name": "ButtonStyleModel",
      "state": {}
     },
     "111faebba87547018d60959b77f3713d": {
      "model_module": "@jupyter-widgets/base",
      "model_module_version": "1.2.0",
      "model_name": "LayoutModel",
      "state": {}
     },
     "1157eb58b640416fb9d45e73c8d7e7dd": {
      "model_module": "@jupyter-widgets/controls",
      "model_module_version": "1.5.0",
      "model_name": "ButtonModel",
      "state": {
       "description": "-63d42m45.624s",
       "disabled": true,
       "layout": "IPY_MODEL_02710a3b5a604aba977ba0965816fc76",
       "style": "IPY_MODEL_f35ce1086ea94f02a1af2c59b86bfb55"
      }
     },
     "11a70848e1704150bd5b3c8c4dd6b3b4": {
      "model_module": "@jupyter-widgets/controls",
      "model_module_version": "1.5.0",
      "model_name": "CheckboxModel",
      "state": {
       "description": "m026",
       "disabled": false,
       "indent": false,
       "layout": "IPY_MODEL_1427058c88274e2ca08fdf74d44ab46b",
       "style": "IPY_MODEL_6fe97443d4ad4303b39a46a811b54ea7",
       "value": true
      }
     },
     "11cdaa81286244c3b66481b1531ca13c": {
      "model_module": "@jupyter-widgets/controls",
      "model_module_version": "1.5.0",
      "model_name": "CheckboxModel",
      "state": {
       "description": "m028",
       "disabled": false,
       "indent": false,
       "layout": "IPY_MODEL_da65ba43f86b47b5b85e136a98617097",
       "style": "IPY_MODEL_7b40f7764516486f94ff33dd4174010b",
       "value": true
      }
     },
     "1235bd06d1004fc3a09a73ab429e9fe4": {
      "model_module": "@jupyter-widgets/base",
      "model_module_version": "1.2.0",
      "model_name": "LayoutModel",
      "state": {}
     },
     "1239de748b164e4684f288741aeb32c3": {
      "model_module": "@jupyter-widgets/controls",
      "model_module_version": "1.5.0",
      "model_name": "DescriptionStyleModel",
      "state": {
       "description_width": ""
      }
     },
     "1243a430540548139ea38193c625aa39": {
      "model_module": "@jupyter-widgets/controls",
      "model_module_version": "1.5.0",
      "model_name": "HBoxModel",
      "state": {
       "children": [
        "IPY_MODEL_c6708a95bf424a05ba346ea44d9b1891",
        "IPY_MODEL_5525b6aa389548b48f2d99da6ed76853",
        "IPY_MODEL_4cee0bd1164c4dc1996a199688760d09",
        "IPY_MODEL_29b356b3fc664f84b7fb3003a9a79051",
        "IPY_MODEL_8faeecc314274446a87a17405214be9a",
        "IPY_MODEL_7cf04dea9fe6492a909926b80166c92e",
        "IPY_MODEL_5cf9f133adb24142b873d3db0d127811",
        "IPY_MODEL_a5fc42d4e76b48c3940ec4dcb0dbffa3",
        "IPY_MODEL_1ed0f711d2bd455ea9908762be9cac8e",
        "IPY_MODEL_513d2068a8b248daabbf443b7322144c",
        "IPY_MODEL_11a70848e1704150bd5b3c8c4dd6b3b4",
        "IPY_MODEL_927657a48b9e4f1c9bf0ff01f11d9e49",
        "IPY_MODEL_0f19877d6be243f0b3de1ce8277309de",
        "IPY_MODEL_155485206ea04658b291cbec677e5748",
        "IPY_MODEL_7607d0dab84a4002aff150ef0a3d13cd",
        "IPY_MODEL_ce8d6df75ff84426b717fa0a87810285"
       ],
       "layout": "IPY_MODEL_0cec8ccfdac944e9b45be5d43607aee8"
      }
     },
     "1286fc4d1ca74c2bbac417a9f532f78f": {
      "model_module": "@jupyter-widgets/controls",
      "model_module_version": "1.5.0",
      "model_name": "ButtonStyleModel",
      "state": {}
     },
     "129b4d36bce649f5846382bac8308697": {
      "model_module": "@jupyter-widgets/controls",
      "model_module_version": "1.5.0",
      "model_name": "HBoxModel",
      "state": {
       "children": [
        "IPY_MODEL_0e290c7d0f6d418ba208adae0e1bc0fb",
        "IPY_MODEL_de04bc3c3dfa448b9e29adb57d33f143",
        "IPY_MODEL_353d59409cf946b3b0adc2d9135990b7",
        "IPY_MODEL_0e96aebe388d4341be20f2293dc56024",
        "IPY_MODEL_d12bf240fe6745bd9faca7d4b9eb867e",
        "IPY_MODEL_d49f059516314f7d9c040ce11d7a2a41",
        "IPY_MODEL_9f0882b9c2ad47f4abf642ba5b18b37c",
        "IPY_MODEL_d0720ff4e4024f3ea390a3d50f0ec4c3",
        "IPY_MODEL_45fc0774585547e0bdffcbd3af073347",
        "IPY_MODEL_1de29cd981814fef8bab2c8e24225b57",
        "IPY_MODEL_ea0c6ced0f024572aa52e4850ba82b39",
        "IPY_MODEL_c163d230d473424eb7ec47fc39d8a0a2",
        "IPY_MODEL_11cdaa81286244c3b66481b1531ca13c",
        "IPY_MODEL_869bfcd9439842d5bf68ca13737fa171",
        "IPY_MODEL_3020cece0fc94de19ffa305ebe3876f0",
        "IPY_MODEL_765d86a449c9404a81d87022c0e74544"
       ],
       "layout": "IPY_MODEL_f952305538ed4e4eaae19f1ef3436434"
      }
     },
     "12b8a7dcc4964dd8b257c873e931a5a2": {
      "model_module": "@jupyter-widgets/base",
      "model_module_version": "1.2.0",
      "model_name": "LayoutModel",
      "state": {}
     },
     "13a3abc02420444abd95e8f445aadaae": {
      "model_module": "@jupyter-widgets/base",
      "model_module_version": "1.2.0",
      "model_name": "LayoutModel",
      "state": {}
     },
     "140a913f9ca340089d64d368dd04efde": {
      "model_module": "@jupyter-widgets/controls",
      "model_module_version": "1.5.0",
      "model_name": "CheckboxModel",
      "state": {
       "description": "m047",
       "disabled": false,
       "indent": false,
       "layout": "IPY_MODEL_3bed01087530450eb238aaeac284c5e8",
       "style": "IPY_MODEL_40f0bb7157b84b82b703744c04b43796",
       "value": true
      }
     },
     "1427058c88274e2ca08fdf74d44ab46b": {
      "model_module": "@jupyter-widgets/base",
      "model_module_version": "1.2.0",
      "model_name": "LayoutModel",
      "state": {}
     },
     "14753db01e7841578e0b48479e6333bf": {
      "model_module": "@jupyter-widgets/controls",
      "model_module_version": "1.5.0",
      "model_name": "DescriptionStyleModel",
      "state": {
       "description_width": "initial"
      }
     },
     "1478ba1f7f3e4abfa600a3adcf745b52": {
      "model_module": "@jupyter-widgets/controls",
      "model_module_version": "1.5.0",
      "model_name": "CheckboxModel",
      "state": {
       "description": "m040",
       "disabled": false,
       "indent": false,
       "layout": "IPY_MODEL_dd45ce935f17415883622bb5a4cc48c6",
       "style": "IPY_MODEL_90a3ac4ce8f74160ba4894b37ff78d95",
       "value": true
      }
     },
     "1498aaf602b54a9f88d0f10600303744": {
      "model_module": "@jupyter-widgets/controls",
      "model_module_version": "1.5.0",
      "model_name": "CheckboxModel",
      "state": {
       "description": "m043",
       "disabled": false,
       "indent": false,
       "layout": "IPY_MODEL_71bbdbb6c9d145b680bbfd13adea80f0",
       "style": "IPY_MODEL_edd1059941b24b7ab845354e562581fb",
       "value": true
      }
     },
     "155485206ea04658b291cbec677e5748": {
      "model_module": "@jupyter-widgets/controls",
      "model_module_version": "1.5.0",
      "model_name": "CheckboxModel",
      "state": {
       "description": "m029",
       "disabled": false,
       "indent": false,
       "layout": "IPY_MODEL_a426df9b0ddc47c78d4031ef5efc891c",
       "style": "IPY_MODEL_879ce88394224c7a9bd6dd657b250db8",
       "value": true
      }
     },
     "15e8cffa76e54a61b276babe5c247fab": {
      "model_module": "@jupyter-widgets/base",
      "model_module_version": "1.2.0",
      "model_name": "LayoutModel",
      "state": {}
     },
     "16286ff8982348789ce8554886dc598b": {
      "model_module": "@jupyter-widgets/base",
      "model_module_version": "1.2.0",
      "model_name": "LayoutModel",
      "state": {}
     },
     "170e9e57165e45e7a9b5e881737d4ba6": {
      "model_module": "@jupyter-widgets/base",
      "model_module_version": "1.2.0",
      "model_name": "LayoutModel",
      "state": {
       "min_width": "200px",
       "width": "200px"
      }
     },
     "1839368c11a94c3599854ec3329f14fd": {
      "model_module": "@jupyter-widgets/base",
      "model_module_version": "1.2.0",
      "model_name": "LayoutModel",
      "state": {}
     },
     "190083b37fc64f1998c4f4a78e50e939": {
      "model_module": "@jupyter-widgets/controls",
      "model_module_version": "1.5.0",
      "model_name": "CheckboxModel",
      "state": {
       "description": "m005",
       "disabled": false,
       "indent": false,
       "layout": "IPY_MODEL_342eb72fe93b427589d0de55999dcc29",
       "style": "IPY_MODEL_930afa6fd4cb405f9f8f19fb588e38f4",
       "value": true
      }
     },
     "19416be000404619908967e51d019fc7": {
      "model_module": "@jupyter-widgets/controls",
      "model_module_version": "1.5.0",
      "model_name": "CheckboxModel",
      "state": {
       "description": "m039",
       "disabled": false,
       "indent": false,
       "layout": "IPY_MODEL_b0e4333b379b45bdb2c09abfcc2e08f9",
       "style": "IPY_MODEL_eca99c3ce48c4dc78acd780ab9f6b5ba",
       "value": true
      }
     },
     "1acf16f9bd6a494bbc7d39a3d599e7c4": {
      "model_module": "@jupyter-widgets/controls",
      "model_module_version": "1.5.0",
      "model_name": "ButtonModel",
      "state": {
       "description": "Enter celestial target coordinates",
       "disabled": true,
       "layout": "IPY_MODEL_bad32d8c901744be9813a6e2b8194759",
       "style": "IPY_MODEL_0b560021c65e437eb27f88345f194ab4"
      }
     },
     "1ae5e7637d3b4196846a9cef0a724b2c": {
      "model_module": "@jupyter-widgets/controls",
      "model_module_version": "1.5.0",
      "model_name": "CheckboxModel",
      "state": {
       "description": "m062",
       "disabled": false,
       "indent": false,
       "layout": "IPY_MODEL_706e26e3f2b449cb8716f4b5d8541d61",
       "style": "IPY_MODEL_05a415661ab24624a54cbe0db42e0bc8",
       "value": true
      }
     },
     "1b4e730d6d0b44bbaf11079f65f229ef": {
      "model_module": "@jupyter-widgets/base",
      "model_module_version": "1.2.0",
      "model_name": "LayoutModel",
      "state": {}
     },
     "1c4d8cc6c5974270a9680ff19c65c588": {
      "model_module": "@jupyter-widgets/controls",
      "model_module_version": "1.5.0",
      "model_name": "DescriptionStyleModel",
      "state": {
       "description_width": ""
      }
     },
     "1c5c653fd1d8428cb147e37218272722": {
      "model_module": "@jupyter-widgets/controls",
      "model_module_version": "1.5.0",
      "model_name": "ButtonModel",
      "state": {
       "description": "Enter celestial target coordinates",
       "disabled": true,
       "layout": "IPY_MODEL_64b8d81935ad473fb14ab71dfe3341a1",
       "style": "IPY_MODEL_b09ea3bae31a48d588de0e74562db492"
      }
     },
     "1c84b34eedc44f3cbef524f1d9475b2a": {
      "model_module": "@jupyter-widgets/base",
      "model_module_version": "1.2.0",
      "model_name": "LayoutModel",
      "state": {
       "min_width": "200px",
       "width": "200px"
      }
     },
     "1c878053263142a1ba3e1c1c4ca45924": {
      "model_module": "@jupyter-widgets/controls",
      "model_module_version": "1.5.0",
      "model_name": "TextModel",
      "state": {
       "description": "Start time",
       "layout": "IPY_MODEL_1c84b34eedc44f3cbef524f1d9475b2a",
       "style": "IPY_MODEL_268d78cb60ed4097a0382fea236ce01b",
       "value": "2013-6-21 21:00:00"
      }
     },
     "1d2fcefa9b124b6784c7cb82a2686315": {
      "model_module": "@jupyter-widgets/controls",
      "model_module_version": "1.5.0",
      "model_name": "TextModel",
      "state": {
       "description": "RA",
       "layout": "IPY_MODEL_170e9e57165e45e7a9b5e881737d4ba6",
       "style": "IPY_MODEL_14753db01e7841578e0b48479e6333bf",
       "value": "00h42m44.2992s"
      }
     },
     "1de29cd981814fef8bab2c8e24225b57": {
      "model_module": "@jupyter-widgets/controls",
      "model_module_version": "1.5.0",
      "model_name": "CheckboxModel",
      "state": {
       "description": "m025",
       "disabled": false,
       "indent": false,
       "layout": "IPY_MODEL_4ab1a98cabbc4be5ac596025a601545b",
       "style": "IPY_MODEL_42a7bd98e5924aed983f6594c92c29f1",
       "value": true
      }
     },
     "1e745aaa88db40bc9845e25e95599938": {
      "model_module": "@jupyter-widgets/controls",
      "model_module_version": "1.5.0",
      "model_name": "HBoxModel",
      "state": {
       "children": [
        "IPY_MODEL_4cdcbaadc6fa4855baf56b3dd4dec464",
        "IPY_MODEL_463e6d5e60c542b4b24b83fff05fcf41",
        "IPY_MODEL_ef2a609da1294d6ebe235ae60a740af5"
       ],
       "layout": "IPY_MODEL_c545ec767ba94bc1b51fbccabf2b1618"
      }
     },
     "1ea8262d4ff54a20a6f6f284598de978": {
      "model_module": "@jupyter-widgets/controls",
      "model_module_version": "1.5.0",
      "model_name": "ButtonModel",
      "state": {
       "description": "-63d42m45.624s",
       "disabled": true,
       "layout": "IPY_MODEL_9b7ab39956b24dc1aa198db484b94d4c",
       "style": "IPY_MODEL_fb799e2ccbae4349a91bb87d178e0939"
      }
     },
     "1ed0f711d2bd455ea9908762be9cac8e": {
      "model_module": "@jupyter-widgets/controls",
      "model_module_version": "1.5.0",
      "model_name": "CheckboxModel",
      "state": {
       "description": "m024",
       "disabled": false,
       "indent": false,
       "layout": "IPY_MODEL_be6057e728804065958fe85ae2723229",
       "style": "IPY_MODEL_6f75215243464cf78d96ddb419ef207e",
       "value": true
      }
     },
     "1f37972806a7498384a4e8c4fb7fb944": {
      "model_module": "@jupyter-widgets/controls",
      "model_module_version": "1.5.0",
      "model_name": "DescriptionStyleModel",
      "state": {
       "description_width": ""
      }
     },
     "1f6c57d760a3478d9de916b182a8d23e": {
      "model_module": "@jupyter-widgets/controls",
      "model_module_version": "1.5.0",
      "model_name": "HBoxModel",
      "state": {
       "children": [
        "IPY_MODEL_abd1f40cade542e2bc426415bb485dd7",
        "IPY_MODEL_333c53a2293344c889ad18484c18fe47",
        "IPY_MODEL_e48012c5a8b744c99251c62c7252625d",
        "IPY_MODEL_a7da34cd986c414abcc42ff7a2b05110",
        "IPY_MODEL_fe99d2a4ac1b462a8102b23d1deb6b6d",
        "IPY_MODEL_3228ce82a31b4394b0b0db78856991af",
        "IPY_MODEL_0cce5d7272f243be985cc8e8213f3111",
        "IPY_MODEL_19416be000404619908967e51d019fc7",
        "IPY_MODEL_1478ba1f7f3e4abfa600a3adcf745b52",
        "IPY_MODEL_405b4237dcaa47718209dba3b1a1a78a",
        "IPY_MODEL_e2abf3adabfe40718ff4f4c07ea5ea2d",
        "IPY_MODEL_92d040b1efac43649765085ff7715a3d",
        "IPY_MODEL_8e8198d90bc94a448eefa343ed35c196",
        "IPY_MODEL_4ead8c258b5c4af78a255fdc25a5ebad",
        "IPY_MODEL_02a0a7aba1744ce7833f19f258cf1140",
        "IPY_MODEL_2e27dff532654a4b8c55a41f107ec1a1"
       ],
       "layout": "IPY_MODEL_65fc34e559234e79994622f9886af4fa"
      }
     },
     "20473cb747314062a4298c5ed5fccab4": {
      "model_module": "@jupyter-widgets/controls",
      "model_module_version": "1.5.0",
      "model_name": "DescriptionStyleModel",
      "state": {
       "description_width": ""
      }
     },
     "207167908fee44248054ee6356ac5e17": {
      "model_module": "@jupyter-widgets/controls",
      "model_module_version": "1.5.0",
      "model_name": "VBoxModel",
      "state": {
       "children": [
        "IPY_MODEL_a064c149b1c3461ea92d0c133ddecf8b",
        "IPY_MODEL_abda3d62723548b9bd37cf1537e1c4c2",
        "IPY_MODEL_d3dc8249442c40dfbe2e17724a7466a8",
        "IPY_MODEL_85536c2a44f049309fdbdd52af24e8bb"
       ],
       "layout": "IPY_MODEL_904fe9c174f94a3f99e1ab78e9a49647"
      }
     },
     "222ade7aa2bd4360baa04c2cd26da787": {
      "model_module": "@jupyter-widgets/controls",
      "model_module_version": "1.5.0",
      "model_name": "DescriptionStyleModel",
      "state": {
       "description_width": ""
      }
     },
     "227a59f4f2df4e2e8d4fc6affc96386c": {
      "model_module": "@jupyter-widgets/base",
      "model_module_version": "1.2.0",
      "model_name": "LayoutModel",
      "state": {}
     },
     "22d1ff3ebf974555b025ccb08a868cf8": {
      "model_module": "@jupyter-widgets/controls",
      "model_module_version": "1.5.0",
      "model_name": "DescriptionStyleModel",
      "state": {
       "description_width": "initial"
      }
     },
     "22e93017de3d4011926e3afaa25bffd1": {
      "model_module": "@jupyter-widgets/base",
      "model_module_version": "1.2.0",
      "model_name": "LayoutModel",
      "state": {}
     },
     "22f6ff693f89490ebd9fd8f08a497a8a": {
      "model_module": "@jupyter-widgets/controls",
      "model_module_version": "1.5.0",
      "model_name": "DescriptionStyleModel",
      "state": {
       "description_width": ""
      }
     },
     "23008c8343244122bcf1b8ec0fb5c427": {
      "model_module": "@jupyter-widgets/base",
      "model_module_version": "1.2.0",
      "model_name": "LayoutModel",
      "state": {
       "height": "28px",
       "min_height": "28px",
       "min_width": "200px",
       "width": "200px"
      }
     },
     "23107635ecd04d19969dae9a2db659c3": {
      "model_module": "@jupyter-widgets/controls",
      "model_module_version": "1.5.0",
      "model_name": "ButtonStyleModel",
      "state": {}
     },
     "23871e335b0845f58be965d929a5a877": {
      "model_module": "@jupyter-widgets/base",
      "model_module_version": "1.2.0",
      "model_name": "LayoutModel",
      "state": {}
     },
     "23e4b17501324bc2b1179287ed8f3c61": {
      "model_module": "@jupyter-widgets/controls",
      "model_module_version": "1.5.0",
      "model_name": "CheckboxModel",
      "state": {
       "description": "m051",
       "disabled": false,
       "indent": false,
       "layout": "IPY_MODEL_9274a0dc347247e8b63c5a9cea2d2444",
       "style": "IPY_MODEL_024c6af5081641ccae724328eb346ea3",
       "value": true
      }
     },
     "23efd3f830e84df99fdc9d2f3836ea7c": {
      "model_module": "@jupyter-widgets/controls",
      "model_module_version": "1.5.0",
      "model_name": "CheckboxModel",
      "state": {
       "description": "m055",
       "disabled": false,
       "indent": false,
       "layout": "IPY_MODEL_64de6d62120b461ab7b196bc92cde9e6",
       "style": "IPY_MODEL_38f347ce346c4012a95908618fa74191",
       "value": true
      }
     },
     "24abe4be565c44cbb3aee7d8488c6b52": {
      "model_module": "@jupyter-widgets/controls",
      "model_module_version": "1.5.0",
      "model_name": "HBoxModel",
      "state": {
       "children": [
        "IPY_MODEL_e3b5c636f4de45bab870c865b982159d",
        "IPY_MODEL_589f7162aea94d119f3e0179b5b77d91",
        "IPY_MODEL_ff71213747ff4d68b856b8cf198bb619"
       ],
       "layout": "IPY_MODEL_1b4e730d6d0b44bbaf11079f65f229ef"
      }
     },
     "251c193f4a0847f18a726a19cf59d39a": {
      "model_module": "@jupyter-widgets/controls",
      "model_module_version": "1.5.0",
      "model_name": "DescriptionStyleModel",
      "state": {
       "description_width": ""
      }
     },
     "25994d4fe80f42ff94c022472789fefb": {
      "model_module": "@jupyter-widgets/controls",
      "model_module_version": "1.5.0",
      "model_name": "CheckboxModel",
      "state": {
       "description": "m008",
       "disabled": false,
       "indent": false,
       "layout": "IPY_MODEL_4247e9b9bbc346b1a5c02c529e599b56",
       "style": "IPY_MODEL_a8ffb05bd2244e09b7712b4bf82ac9fe",
       "value": true
      }
     },
     "25d7dd917c5a438d8fa403699c597083": {
      "model_module": "@jupyter-widgets/base",
      "model_module_version": "1.2.0",
      "model_name": "LayoutModel",
      "state": {}
     },
     "2651e84650c2481eadc19a0ea63f1ad3": {
      "model_module": "@jupyter-widgets/base",
      "model_module_version": "1.2.0",
      "model_name": "LayoutModel",
      "state": {
       "min_width": "200px",
       "width": "200px"
      }
     },
     "26635b61d703462c9f5c29593423edaf": {
      "model_module": "@jupyter-widgets/controls",
      "model_module_version": "1.5.0",
      "model_name": "DescriptionStyleModel",
      "state": {
       "description_width": ""
      }
     },
     "268181990ad94a489669c25776af0807": {
      "model_module": "@jupyter-widgets/base",
      "model_module_version": "1.2.0",
      "model_name": "LayoutModel",
      "state": {}
     },
     "268bb6ac81ce4283939deb0619b06ef6": {
      "model_module": "@jupyter-widgets/controls",
      "model_module_version": "1.5.0",
      "model_name": "ButtonModel",
      "state": {
       "description": "-63d42m45.624s",
       "disabled": true,
       "layout": "IPY_MODEL_fabafaed389a475aa6f2d070d68a122b",
       "style": "IPY_MODEL_e3eed26298954fc4961aa95cd4c13230"
      }
     },
     "268d78cb60ed4097a0382fea236ce01b": {
      "model_module": "@jupyter-widgets/controls",
      "model_module_version": "1.5.0",
      "model_name": "DescriptionStyleModel",
      "state": {
       "description_width": "initial"
      }
     },
     "27358d6de9a14892b8db447ccef595c4": {
      "model_module": "@jupyter-widgets/base",
      "model_module_version": "1.2.0",
      "model_name": "LayoutModel",
      "state": {}
     },
     "282709ef018740b5b31f71639e366bfd": {
      "model_module": "@jupyter-widgets/controls",
      "model_module_version": "1.5.0",
      "model_name": "DescriptionStyleModel",
      "state": {
       "description_width": ""
      }
     },
     "284525d95dcf44bdbd756620180b166a": {
      "model_module": "@jupyter-widgets/base",
      "model_module_version": "1.2.0",
      "model_name": "LayoutModel",
      "state": {
       "min_width": "200px",
       "width": "200px"
      }
     },
     "2867ca9a72484a5c95be7d2005c0e4b4": {
      "model_module": "@jupyter-widgets/controls",
      "model_module_version": "1.5.0",
      "model_name": "CheckboxModel",
      "state": {
       "description": "m042",
       "disabled": false,
       "indent": false,
       "layout": "IPY_MODEL_498f2649b081480f86aa851fcb740fe6",
       "style": "IPY_MODEL_4857d4550f3d4763a16b5b624757f6da",
       "value": true
      }
     },
     "289891dbb75e477fa783e67b8acd2067": {
      "model_module": "@jupyter-widgets/controls",
      "model_module_version": "1.5.0",
      "model_name": "CheckboxModel",
      "state": {
       "description": "m036",
       "disabled": false,
       "indent": false,
       "layout": "IPY_MODEL_9f50f9a5c2884a13bc84942289bc93e0",
       "style": "IPY_MODEL_7c2ffd3311944c158ef5313566a3d437",
       "value": true
      }
     },
     "28aec37363b2411b8287e18438d0c7d6": {
      "model_module": "@jupyter-widgets/controls",
      "model_module_version": "1.5.0",
      "model_name": "DescriptionStyleModel",
      "state": {
       "description_width": "initial"
      }
     },
     "2986b3acf7684e0ebde5574689cb4d13": {
      "model_module": "@jupyter-widgets/base",
      "model_module_version": "1.2.0",
      "model_name": "LayoutModel",
      "state": {}
     },
     "29a0421ddff7464f84c55cf2c91206c5": {
      "model_module": "@jupyter-widgets/controls",
      "model_module_version": "1.5.0",
      "model_name": "CheckboxModel",
      "state": {
       "description": "m049",
       "disabled": false,
       "indent": false,
       "layout": "IPY_MODEL_aa8bbf148fb549f398c936946271b09a",
       "style": "IPY_MODEL_6f452f09cf5342eca0b78642b741f525",
       "value": true
      }
     },
     "29b356b3fc664f84b7fb3003a9a79051": {
      "model_module": "@jupyter-widgets/controls",
      "model_module_version": "1.5.0",
      "model_name": "CheckboxModel",
      "state": {
       "description": "m019",
       "disabled": false,
       "indent": false,
       "layout": "IPY_MODEL_50b30b8629ec4143a99dbe38cb1006f5",
       "style": "IPY_MODEL_4254b5d7e35745f68ac34a74b8862145",
       "value": true
      }
     },
     "29d469aa9e8b4db8a4469e813fc42aa1": {
      "model_module": "@jupyter-widgets/controls",
      "model_module_version": "1.5.0",
      "model_name": "DescriptionStyleModel",
      "state": {
       "description_width": ""
      }
     },
     "2b34ad9cd6614e4ba507cf22ed5503f6": {
      "model_module": "@jupyter-widgets/controls",
      "model_module_version": "1.5.0",
      "model_name": "ButtonModel",
      "state": {
       "description": "J1939-6342",
       "disabled": true,
       "layout": "IPY_MODEL_82a5ea6302ef4f799f10c3d16e19515f",
       "style": "IPY_MODEL_7971c9b0abe94dd380e64e14e178c886"
      }
     },
     "2b5a95ae06af4353a92f8c05c863eb1d": {
      "model_module": "@jupyter-widgets/controls",
      "model_module_version": "1.5.0",
      "model_name": "DescriptionStyleModel",
      "state": {
       "description_width": ""
      }
     },
     "2bec2e3e4e454dcdbcc7631dfa7503e1": {
      "model_module": "@jupyter-widgets/controls",
      "model_module_version": "1.5.0",
      "model_name": "DescriptionStyleModel",
      "state": {
       "description_width": ""
      }
     },
     "2c69ada7f89f47a1933724941f27875c": {
      "model_module": "@jupyter-widgets/controls",
      "model_module_version": "1.5.0",
      "model_name": "VBoxModel",
      "state": {
       "children": [
        "IPY_MODEL_b27e8c5670534532b1f663265b3fec09",
        "IPY_MODEL_42465b5f2a574b47969df791860fd8a5",
        "IPY_MODEL_24abe4be565c44cbb3aee7d8488c6b52",
        "IPY_MODEL_4846c6bac88a4fbbb282ab086c142096"
       ],
       "layout": "IPY_MODEL_aad6f402ca004e618dd64003e8f04305"
      }
     },
     "2e27dff532654a4b8c55a41f107ec1a1": {
      "model_module": "@jupyter-widgets/controls",
      "model_module_version": "1.5.0",
      "model_name": "CheckboxModel",
      "state": {
       "description": "m047",
       "disabled": false,
       "indent": false,
       "layout": "IPY_MODEL_27358d6de9a14892b8db447ccef595c4",
       "style": "IPY_MODEL_8a20c6730bff41f5b881e959083597c0",
       "value": true
      }
     },
     "2e5cf740d8554d7caeda8c2317558135": {
      "model_module": "@jupyter-widgets/controls",
      "model_module_version": "1.5.0",
      "model_name": "DescriptionStyleModel",
      "state": {
       "description_width": ""
      }
     },
     "2f08e7ed5ca747ee83509afb51004b87": {
      "model_module": "@jupyter-widgets/controls",
      "model_module_version": "1.5.0",
      "model_name": "TextModel",
      "state": {
       "description": "RA",
       "layout": "IPY_MODEL_d460fad1cfa240638c44ea4cee4fcb84",
       "style": "IPY_MODEL_8fa5b4d0b40844b6ac02bcff11cea8c3",
       "value": "00h42m44.2992s"
      }
     },
     "2f69dcdb06604da6a19ce9f56df6e512": {
      "model_module": "@jupyter-widgets/controls",
      "model_module_version": "1.5.0",
      "model_name": "DescriptionStyleModel",
      "state": {
       "description_width": ""
      }
     },
     "3005f68aeecf4bb8b4a0a1b0a653a0c5": {
      "model_module": "@jupyter-widgets/base",
      "model_module_version": "1.2.0",
      "model_name": "LayoutModel",
      "state": {}
     },
     "3020cece0fc94de19ffa305ebe3876f0": {
      "model_module": "@jupyter-widgets/controls",
      "model_module_version": "1.5.0",
      "model_name": "CheckboxModel",
      "state": {
       "description": "m030",
       "disabled": false,
       "indent": false,
       "layout": "IPY_MODEL_9637e829aa5045239527f7af4330174f",
       "style": "IPY_MODEL_019be2e0b5774d2f81cd46be59dc7fda",
       "value": true
      }
     },
     "305a488101704be597eac9dd57e966d9": {
      "model_module": "@jupyter-widgets/controls",
      "model_module_version": "1.5.0",
      "model_name": "TextModel",
      "state": {
       "description": "Dec",
       "layout": "IPY_MODEL_64a4e3bfe46342a6a65be5357e7819f0",
       "style": "IPY_MODEL_b3f04cf992a84082b2507d6fd94a5522",
       "value": "+41d16m09.012s"
      }
     },
     "3228ce82a31b4394b0b0db78856991af": {
      "model_module": "@jupyter-widgets/controls",
      "model_module_version": "1.5.0",
      "model_name": "CheckboxModel",
      "state": {
       "description": "m037",
       "disabled": false,
       "indent": false,
       "layout": "IPY_MODEL_12b8a7dcc4964dd8b257c873e931a5a2",
       "style": "IPY_MODEL_97b5326857a24517b5ffb4844aa2762b",
       "value": true
      }
     },
     "323eeaa1c27343919e1231303dc97771": {
      "model_module": "@jupyter-widgets/controls",
      "model_module_version": "1.5.0",
      "model_name": "DescriptionStyleModel",
      "state": {
       "description_width": ""
      }
     },
     "32544ec192c340a9afd7d457c8554a08": {
      "model_module": "@jupyter-widgets/controls",
      "model_module_version": "1.5.0",
      "model_name": "CheckboxModel",
      "state": {
       "description": "m002",
       "disabled": false,
       "indent": false,
       "layout": "IPY_MODEL_58060f5146464a9fa9149bd177fdef0d",
       "style": "IPY_MODEL_59f4a38f9c2449aaa1fc0e2255ed9fe1",
       "value": true
      }
     },
     "326a5e4c540e4beb9a0c4f8c6fca54b5": {
      "model_module": "@jupyter-widgets/base",
      "model_module_version": "1.2.0",
      "model_name": "LayoutModel",
      "state": {}
     },
     "32704d8acbb649cea81df5d8712e1e91": {
      "model_module": "@jupyter-widgets/base",
      "model_module_version": "1.2.0",
      "model_name": "LayoutModel",
      "state": {}
     },
     "333c53a2293344c889ad18484c18fe47": {
      "model_module": "@jupyter-widgets/controls",
      "model_module_version": "1.5.0",
      "model_name": "CheckboxModel",
      "state": {
       "description": "m033",
       "disabled": false,
       "indent": false,
       "layout": "IPY_MODEL_0e0d28406079471a88dbac697f350940",
       "style": "IPY_MODEL_f95206fee7a64bcca8cc0fae1a2811c8",
       "value": true
      }
     },
     "342eb72fe93b427589d0de55999dcc29": {
      "model_module": "@jupyter-widgets/base",
      "model_module_version": "1.2.0",
      "model_name": "LayoutModel",
      "state": {}
     },
     "353d59409cf946b3b0adc2d9135990b7": {
      "model_module": "@jupyter-widgets/controls",
      "model_module_version": "1.5.0",
      "model_name": "CheckboxModel",
      "state": {
       "description": "m018",
       "disabled": false,
       "indent": false,
       "layout": "IPY_MODEL_f68ecd7b487545d79ad24738722f090d",
       "style": "IPY_MODEL_a0304591c6ee47da82966b86f364bf72",
       "value": true
      }
     },
     "35d9f09239d348729a07c34294e6c98d": {
      "model_module": "@jupyter-widgets/controls",
      "model_module_version": "1.5.0",
      "model_name": "CheckboxModel",
      "state": {
       "description": "m005",
       "disabled": false,
       "indent": false,
       "layout": "IPY_MODEL_73540466010b4cda876f600058f2ac38",
       "style": "IPY_MODEL_9d56dc95e22749d5a87ffcf11bbd43d2",
       "value": true
      }
     },
     "365f0467ee21410b9ed942d23eeeb47e": {
      "model_module": "@jupyter-widgets/controls",
      "model_module_version": "1.5.0",
      "model_name": "DescriptionStyleModel",
      "state": {
       "description_width": ""
      }
     },
     "36c302fdec8b4ada8a07957970189ac0": {
      "model_module": "@jupyter-widgets/controls",
      "model_module_version": "1.5.0",
      "model_name": "CheckboxModel",
      "state": {
       "description": "m014",
       "disabled": false,
       "indent": false,
       "layout": "IPY_MODEL_c5072ceb73834c55aeed0ae25d9350a9",
       "style": "IPY_MODEL_d717540352a5432b9fa49ac3ba0bf10f",
       "value": true
      }
     },
     "37417b0a42814f8e8f34d7f47d3a22c4": {
      "model_module": "@jupyter-widgets/controls",
      "model_module_version": "1.5.0",
      "model_name": "CheckboxModel",
      "state": {
       "description": "m000",
       "disabled": false,
       "indent": false,
       "layout": "IPY_MODEL_5397c89b3d4d4a59b0a4d192bf464328",
       "style": "IPY_MODEL_063e91dfc30c4d0da68ed55d95fbf658",
       "value": true
      }
     },
     "37d1a9c87afd4dac9f5074d9740dc05d": {
      "model_module": "@jupyter-widgets/base",
      "model_module_version": "1.2.0",
      "model_name": "LayoutModel",
      "state": {
       "width": "auto"
      }
     },
     "3831389262f947efb5738cc9dd3b0ceb": {
      "model_module": "@jupyter-widgets/controls",
      "model_module_version": "1.5.0",
      "model_name": "DescriptionStyleModel",
      "state": {
       "description_width": ""
      }
     },
     "38482d614d604685a57c0fa181c07447": {
      "model_module": "@jupyter-widgets/controls",
      "model_module_version": "1.5.0",
      "model_name": "ButtonStyleModel",
      "state": {}
     },
     "38cc351139b647f99cb6526bbc3b8550": {
      "model_module": "@jupyter-widgets/base",
      "model_module_version": "1.2.0",
      "model_name": "LayoutModel",
      "state": {}
     },
     "38e5a216ba7a4d2e9307c5df11d6cfa8": {
      "model_module": "@jupyter-widgets/controls",
      "model_module_version": "1.5.0",
      "model_name": "CheckboxModel",
      "state": {
       "description": "m063",
       "disabled": false,
       "indent": false,
       "layout": "IPY_MODEL_0cd6386b3a194a1bb8b536a0fb3da460",
       "style": "IPY_MODEL_a74e0eee66bf44e0aae55ac9fd0f5134",
       "value": true
      }
     },
     "38f347ce346c4012a95908618fa74191": {
      "model_module": "@jupyter-widgets/controls",
      "model_module_version": "1.5.0",
      "model_name": "DescriptionStyleModel",
      "state": {
       "description_width": ""
      }
     },
     "39225400cc4e473eabe63321f80368b0": {
      "model_module": "@jupyter-widgets/controls",
      "model_module_version": "1.5.0",
      "model_name": "HBoxModel",
      "state": {
       "children": [
        "IPY_MODEL_aff6f67883af4914b3060e7e4f507392",
        "IPY_MODEL_894a8e8e1afa413db0888fce9afcdf64",
        "IPY_MODEL_a1f5710ef278456b98fc68f057899d9c"
       ],
       "layout": "IPY_MODEL_25d7dd917c5a438d8fa403699c597083"
      }
     },
     "3957cd3c56da4b56a9c947cbd5c55307": {
      "model_module": "@jupyter-widgets/base",
      "model_module_version": "1.2.0",
      "model_name": "LayoutModel",
      "state": {}
     },
     "3a02787fbfe9449a8f2b4a8f881e5edb": {
      "model_module": "@jupyter-widgets/controls",
      "model_module_version": "1.5.0",
      "model_name": "CheckboxModel",
      "state": {
       "description": "m037",
       "disabled": false,
       "indent": false,
       "layout": "IPY_MODEL_da24783371fa473dbd1b1e26c92bd3ee",
       "style": "IPY_MODEL_5c87538679714031a1451eacb26f89ac",
       "value": true
      }
     },
     "3a1084ce20034d30b7af958f9fcba7ad": {
      "model_module": "@jupyter-widgets/controls",
      "model_module_version": "1.5.0",
      "model_name": "DescriptionStyleModel",
      "state": {
       "description_width": "initial"
      }
     },
     "3a3740b6b4ad4b3294c2ba9bf4c5ae0a": {
      "model_module": "@jupyter-widgets/controls",
      "model_module_version": "1.5.0",
      "model_name": "DescriptionStyleModel",
      "state": {
       "description_width": ""
      }
     },
     "3a9a8d0ff1db48e8bd17665bac540f68": {
      "model_module": "@jupyter-widgets/base",
      "model_module_version": "1.2.0",
      "model_name": "LayoutModel",
      "state": {
       "height": "28px",
       "min_height": "28px",
       "min_width": "200px",
       "width": "200px"
      }
     },
     "3abc81e967aa40d09a1be312d03be45b": {
      "model_module": "@jupyter-widgets/controls",
      "model_module_version": "1.5.0",
      "model_name": "VBoxModel",
      "state": {
       "children": [
        "IPY_MODEL_81dd69d8f2bb43558378855094ced644",
        "IPY_MODEL_dab29f5ef9f04018a8c71aa0ffe79f1a",
        "IPY_MODEL_818378a99c17455b8b7da9e6de1c1514",
        "IPY_MODEL_450552d4beae4da5b8620e03c9fd7325"
       ],
       "layout": "IPY_MODEL_f23883686556464292b5a1c6420ad608"
      }
     },
     "3bd4f057f9a04143a63df012a7789382": {
      "model_module": "@jupyter-widgets/base",
      "model_module_version": "1.2.0",
      "model_name": "LayoutModel",
      "state": {}
     },
     "3bed01087530450eb238aaeac284c5e8": {
      "model_module": "@jupyter-widgets/base",
      "model_module_version": "1.2.0",
      "model_name": "LayoutModel",
      "state": {}
     },
     "3c399acae8594c0ea55b23aaee339f75": {
      "model_module": "@jupyter-widgets/base",
      "model_module_version": "1.2.0",
      "model_name": "LayoutModel",
      "state": {}
     },
     "3c5cf4945d53478084eb614de477f330": {
      "model_module": "@jupyter-widgets/base",
      "model_module_version": "1.2.0",
      "model_name": "LayoutModel",
      "state": {}
     },
     "3cc4adf9747b47c49402b326fef30648": {
      "model_module": "@jupyter-widgets/controls",
      "model_module_version": "1.5.0",
      "model_name": "CheckboxModel",
      "state": {
       "description": "m052",
       "disabled": false,
       "indent": false,
       "layout": "IPY_MODEL_5ff14ad38dbe40ab8e67214b6b16df60",
       "style": "IPY_MODEL_a8c8b47e5d87447b9f15cec5e1f2d11c",
       "value": true
      }
     },
     "3d0eda140b014ea786ff7dd34b842d99": {
      "model_module": "@jupyter-widgets/controls",
      "model_module_version": "1.5.0",
      "model_name": "DescriptionStyleModel",
      "state": {
       "description_width": ""
      }
     },
     "3d69c0c16c194144bca72348c8d73e35": {
      "model_module": "@jupyter-widgets/controls",
      "model_module_version": "1.5.0",
      "model_name": "ButtonStyleModel",
      "state": {}
     },
     "3e2ee234bc26435e91837b6f8fc86952": {
      "model_module": "@jupyter-widgets/controls",
      "model_module_version": "1.5.0",
      "model_name": "ButtonModel",
      "state": {
       "description": "-63d42m45.624s",
       "disabled": true,
       "layout": "IPY_MODEL_df7f1093166f4447be4d8f1580647e83",
       "style": "IPY_MODEL_9809fc42b7ad4cc1bea8b4185d2d0e13"
      }
     },
     "3f3611c7c71c4e19b856f801344dec54": {
      "model_module": "@jupyter-widgets/controls",
      "model_module_version": "1.5.0",
      "model_name": "ButtonModel",
      "state": {
       "description": "19h39m25.0264s",
       "disabled": true,
       "layout": "IPY_MODEL_bc2e6291d5b8482a9b8cff4eef8a5385",
       "style": "IPY_MODEL_81fdcde5d5b24d408d77e7c670fb5ab2"
      }
     },
     "40107d88de4d49ad88ce48c485f6a60a": {
      "model_module": "@jupyter-widgets/controls",
      "model_module_version": "1.5.0",
      "model_name": "CheckboxModel",
      "state": {
       "description": "m056",
       "disabled": false,
       "indent": false,
       "layout": "IPY_MODEL_76dfe18182e84e8584940e704c3f685c",
       "style": "IPY_MODEL_0bbe15cb69484eb389a37711ca502823",
       "value": true
      }
     },
     "405b4237dcaa47718209dba3b1a1a78a": {
      "model_module": "@jupyter-widgets/controls",
      "model_module_version": "1.5.0",
      "model_name": "CheckboxModel",
      "state": {
       "description": "m041",
       "disabled": false,
       "indent": false,
       "layout": "IPY_MODEL_c03a464968ea4333bf66a1548e2f62e6",
       "style": "IPY_MODEL_29d469aa9e8b4db8a4469e813fc42aa1",
       "value": true
      }
     },
     "40955a1549974405bae58643a176b76a": {
      "model_module": "@jupyter-widgets/base",
      "model_module_version": "1.2.0",
      "model_name": "LayoutModel",
      "state": {}
     },
     "40ce58316ed64f29a581cdb37bfae9dc": {
      "model_module": "@jupyter-widgets/base",
      "model_module_version": "1.2.0",
      "model_name": "LayoutModel",
      "state": {}
     },
     "40f0bb7157b84b82b703744c04b43796": {
      "model_module": "@jupyter-widgets/controls",
      "model_module_version": "1.5.0",
      "model_name": "DescriptionStyleModel",
      "state": {
       "description_width": ""
      }
     },
     "4168c42026c646b986349a831a95529f": {
      "model_module": "@jupyter-widgets/controls",
      "model_module_version": "1.5.0",
      "model_name": "DescriptionStyleModel",
      "state": {
       "description_width": ""
      }
     },
     "417be316944b4960b40a2aee134d2f00": {
      "model_module": "@jupyter-widgets/base",
      "model_module_version": "1.2.0",
      "model_name": "LayoutModel",
      "state": {}
     },
     "41f76cbf69d54660ac11b97a6bdbc2e4": {
      "model_module": "@jupyter-widgets/controls",
      "model_module_version": "1.5.0",
      "model_name": "HBoxModel",
      "state": {
       "children": [
        "IPY_MODEL_bf56db0fc78040ee9351eabd03a8bd80",
        "IPY_MODEL_8382aca314b141379611037f68345773",
        "IPY_MODEL_b3707ed3d22c4a829ad51cb5d70d7876",
        "IPY_MODEL_d2481f3e2f97400e9d0110f43daa45a4",
        "IPY_MODEL_289891dbb75e477fa783e67b8acd2067",
        "IPY_MODEL_3a02787fbfe9449a8f2b4a8f881e5edb",
        "IPY_MODEL_c080fd81fa6f4e2897ef37f9b262b4cb",
        "IPY_MODEL_c6251f1fe3494a3a9cce5e304c3c1e1c",
        "IPY_MODEL_7c5a787d292945dd80fcc768fd66b7a5",
        "IPY_MODEL_4f51a7c8c5094122b4fc614659c7be04",
        "IPY_MODEL_2867ca9a72484a5c95be7d2005c0e4b4",
        "IPY_MODEL_1498aaf602b54a9f88d0f10600303744",
        "IPY_MODEL_d0f66cccf9f24792a831ce9ea193474e",
        "IPY_MODEL_9d62a221fefe4773b66cb9be84ff640b",
        "IPY_MODEL_d8e85cf85fd34046b4f33c2796f18a68",
        "IPY_MODEL_140a913f9ca340089d64d368dd04efde"
       ],
       "layout": "IPY_MODEL_417be316944b4960b40a2aee134d2f00"
      }
     },
     "42465b5f2a574b47969df791860fd8a5": {
      "model_module": "@jupyter-widgets/controls",
      "model_module_version": "1.5.0",
      "model_name": "HBoxModel",
      "state": {
       "children": [
        "IPY_MODEL_f684867935ce4e56a76a7c58207ae384",
        "IPY_MODEL_fb8c5425bb4e49b4be4c0e69d5dd6cd5",
        "IPY_MODEL_e1fce69920a64d4abd471252f017ca23"
       ],
       "layout": "IPY_MODEL_40955a1549974405bae58643a176b76a"
      }
     },
     "4247e9b9bbc346b1a5c02c529e599b56": {
      "model_module": "@jupyter-widgets/base",
      "model_module_version": "1.2.0",
      "model_name": "LayoutModel",
      "state": {}
     },
     "4254b5d7e35745f68ac34a74b8862145": {
      "model_module": "@jupyter-widgets/controls",
      "model_module_version": "1.5.0",
      "model_name": "DescriptionStyleModel",
      "state": {
       "description_width": ""
      }
     },
     "429d6b0afca7410580dd64c55ee6f258": {
      "model_module": "@jupyter-widgets/controls",
      "model_module_version": "1.5.0",
      "model_name": "CheckboxModel",
      "state": {
       "description": "m004",
       "disabled": false,
       "indent": false,
       "layout": "IPY_MODEL_df5f9762dee342d5ad6e957efbce8a1e",
       "style": "IPY_MODEL_968014ecbd0a4a3a97269c198365ddef",
       "value": true
      }
     },
     "429defcedcd54e7e9606899727554718": {
      "model_module": "@jupyter-widgets/controls",
      "model_module_version": "1.5.0",
      "model_name": "DescriptionStyleModel",
      "state": {
       "description_width": ""
      }
     },
     "42a7bd98e5924aed983f6594c92c29f1": {
      "model_module": "@jupyter-widgets/controls",
      "model_module_version": "1.5.0",
      "model_name": "DescriptionStyleModel",
      "state": {
       "description_width": ""
      }
     },
     "43bed6a5650c4f778de11570ae274945": {
      "model_module": "@jupyter-widgets/base",
      "model_module_version": "1.2.0",
      "model_name": "LayoutModel",
      "state": {}
     },
     "43d8220cf696460e9fda44fc4fea30d1": {
      "model_module": "@jupyter-widgets/controls",
      "model_module_version": "1.5.0",
      "model_name": "DescriptionStyleModel",
      "state": {
       "description_width": "initial"
      }
     },
     "4468f8df32c048c28e71e5a8eb2f9a10": {
      "model_module": "@jupyter-widgets/controls",
      "model_module_version": "1.5.0",
      "model_name": "CheckboxModel",
      "state": {
       "description": "m061",
       "disabled": false,
       "indent": false,
       "layout": "IPY_MODEL_996354840c8849d49a5f8baa6058269a",
       "style": "IPY_MODEL_3d0eda140b014ea786ff7dd34b842d99",
       "value": true
      }
     },
     "450552d4beae4da5b8620e03c9fd7325": {
      "model_module": "@jupyter-widgets/controls",
      "model_module_version": "1.5.0",
      "model_name": "VBoxModel",
      "state": {
       "children": [
        "IPY_MODEL_a5c547e0911a44c8b4d6b16afae330ca",
        "IPY_MODEL_1c878053263142a1ba3e1c1c4ca45924"
       ],
       "layout": "IPY_MODEL_627ac48e7054403c9b1436afd7325aae"
      }
     },
     "45b5fc04cbbc47cba5bfe178ad2304ae": {
      "model_module": "@jupyter-widgets/controls",
      "model_module_version": "1.5.0",
      "model_name": "ButtonModel",
      "state": {
       "description": "J1939-6342",
       "disabled": true,
       "layout": "IPY_MODEL_5fff001d65214d71968f1235b018a9f1",
       "style": "IPY_MODEL_0a9c46685e7d4b55b4919d021863e3d4"
      }
     },
     "45f6553b0446482f9eb9ac7560b2288b": {
      "model_module": "@jupyter-widgets/base",
      "model_module_version": "1.2.0",
      "model_name": "LayoutModel",
      "state": {}
     },
     "45fc0774585547e0bdffcbd3af073347": {
      "model_module": "@jupyter-widgets/controls",
      "model_module_version": "1.5.0",
      "model_name": "CheckboxModel",
      "state": {
       "description": "m024",
       "disabled": false,
       "indent": false,
       "layout": "IPY_MODEL_009bc53b4e6944aca8b03ad96b27d53f",
       "style": "IPY_MODEL_c50d98ae375e4899add9a2452e001062",
       "value": true
      }
     },
     "463e6d5e60c542b4b24b83fff05fcf41": {
      "model_module": "@jupyter-widgets/controls",
      "model_module_version": "1.5.0",
      "model_name": "TextModel",
      "state": {
       "description": "Duration [sec]",
       "layout": "IPY_MODEL_4c9df098360340609b64b2a36c5936b0",
       "style": "IPY_MODEL_7ae2a3f1c62843a880509f561f26ed00",
       "value": "600"
      }
     },
     "465edb5cd751497fbccdb5079fcf5f5e": {
      "model_module": "@jupyter-widgets/controls",
      "model_module_version": "1.5.0",
      "model_name": "ButtonStyleModel",
      "state": {}
     },
     "47186bc4e4044ace9f263c2d6998f394": {
      "model_module": "@jupyter-widgets/controls",
      "model_module_version": "1.5.0",
      "model_name": "DescriptionStyleModel",
      "state": {
       "description_width": "initial"
      }
     },
     "4750ab098a1447f9933babd85b874b62": {
      "model_module": "@jupyter-widgets/controls",
      "model_module_version": "1.5.0",
      "model_name": "DescriptionStyleModel",
      "state": {
       "description_width": ""
      }
     },
     "4846c6bac88a4fbbb282ab086c142096": {
      "model_module": "@jupyter-widgets/controls",
      "model_module_version": "1.5.0",
      "model_name": "VBoxModel",
      "state": {
       "children": [
        "IPY_MODEL_09acd0c35ed9455eb656c67b9ccfd607",
        "IPY_MODEL_1e745aaa88db40bc9845e25e95599938"
       ],
       "layout": "IPY_MODEL_13a3abc02420444abd95e8f445aadaae"
      }
     },
     "4847383d75584a07abbec301786575f0": {
      "model_module": "@jupyter-widgets/controls",
      "model_module_version": "1.5.0",
      "model_name": "CheckboxModel",
      "state": {
       "description": "m058",
       "disabled": false,
       "indent": false,
       "layout": "IPY_MODEL_99b0cc2b7d964bb7aaacbfe844c53321",
       "style": "IPY_MODEL_09400f278b794ef49488b16082b7cc8e",
       "value": true
      }
     },
     "4857d4550f3d4763a16b5b624757f6da": {
      "model_module": "@jupyter-widgets/controls",
      "model_module_version": "1.5.0",
      "model_name": "DescriptionStyleModel",
      "state": {
       "description_width": ""
      }
     },
     "48d71967764348568ca45865b0af265e": {
      "model_module": "@jupyter-widgets/controls",
      "model_module_version": "1.5.0",
      "model_name": "ButtonStyleModel",
      "state": {}
     },
     "49830c1a31d042a0b626f5eab327edf4": {
      "model_module": "@jupyter-widgets/base",
      "model_module_version": "1.2.0",
      "model_name": "LayoutModel",
      "state": {}
     },
     "498f2649b081480f86aa851fcb740fe6": {
      "model_module": "@jupyter-widgets/base",
      "model_module_version": "1.2.0",
      "model_name": "LayoutModel",
      "state": {}
     },
     "49f4afd0c81744259e5697cbfa42ba15": {
      "model_module": "@jupyter-widgets/base",
      "model_module_version": "1.2.0",
      "model_name": "LayoutModel",
      "state": {}
     },
     "4a688b6d1317404a9d676226cb750ff4": {
      "model_module": "@jupyter-widgets/base",
      "model_module_version": "1.2.0",
      "model_name": "LayoutModel",
      "state": {}
     },
     "4ab1a98cabbc4be5ac596025a601545b": {
      "model_module": "@jupyter-widgets/base",
      "model_module_version": "1.2.0",
      "model_name": "LayoutModel",
      "state": {}
     },
     "4c6512642ae04d648843b608806a9169": {
      "model_module": "@jupyter-widgets/controls",
      "model_module_version": "1.5.0",
      "model_name": "DescriptionStyleModel",
      "state": {
       "description_width": ""
      }
     },
     "4c9df098360340609b64b2a36c5936b0": {
      "model_module": "@jupyter-widgets/base",
      "model_module_version": "1.2.0",
      "model_name": "LayoutModel",
      "state": {
       "min_width": "200px",
       "width": "200px"
      }
     },
     "4cbfa1f36a4c4428bb8c00963473ae9e": {
      "model_module": "@jupyter-widgets/controls",
      "model_module_version": "1.5.0",
      "model_name": "CheckboxModel",
      "state": {
       "description": "m062",
       "disabled": false,
       "indent": false,
       "layout": "IPY_MODEL_c3489868e3c44ba38135f949e98d6372",
       "style": "IPY_MODEL_2e5cf740d8554d7caeda8c2317558135",
       "value": true
      }
     },
     "4cdcbaadc6fa4855baf56b3dd4dec464": {
      "model_module": "@jupyter-widgets/controls",
      "model_module_version": "1.5.0",
      "model_name": "TextModel",
      "state": {
       "description": "Start time",
       "layout": "IPY_MODEL_92918ea1b9834cbdb89d0ca359bd1ba8",
       "style": "IPY_MODEL_7275939b918e46b4bc34acacb1764601",
       "value": "2013-6-21 21:00:00"
      }
     },
     "4cee0bd1164c4dc1996a199688760d09": {
      "model_module": "@jupyter-widgets/controls",
      "model_module_version": "1.5.0",
      "model_name": "CheckboxModel",
      "state": {
       "description": "m018",
       "disabled": false,
       "indent": false,
       "layout": "IPY_MODEL_3bd4f057f9a04143a63df012a7789382",
       "style": "IPY_MODEL_52a2b3c9eca54479a2e7016666bbe9e0",
       "value": true
      }
     },
     "4d4e5541c6514f60b335fefcaf6d5c82": {
      "model_module": "@jupyter-widgets/controls",
      "model_module_version": "1.5.0",
      "model_name": "DescriptionStyleModel",
      "state": {
       "description_width": ""
      }
     },
     "4d71c1c4a4624f29b018c8eab0d75298": {
      "model_module": "@jupyter-widgets/controls",
      "model_module_version": "1.5.0",
      "model_name": "DescriptionStyleModel",
      "state": {
       "description_width": ""
      }
     },
     "4e011c6a8675412282e8330dc81b413a": {
      "model_module": "@jupyter-widgets/controls",
      "model_module_version": "1.5.0",
      "model_name": "ButtonStyleModel",
      "state": {}
     },
     "4e85451218994aa683bf3f71713d57a1": {
      "model_module": "@jupyter-widgets/controls",
      "model_module_version": "1.5.0",
      "model_name": "ButtonStyleModel",
      "state": {}
     },
     "4e983448659744fdb103f30ffaf03387": {
      "model_module": "@jupyter-widgets/controls",
      "model_module_version": "1.5.0",
      "model_name": "TextModel",
      "state": {
       "description": "Name",
       "layout": "IPY_MODEL_930896eeffd2485c850cbcc8d16b5025",
       "style": "IPY_MODEL_47186bc4e4044ace9f263c2d6998f394",
       "value": "Test"
      }
     },
     "4ead8c258b5c4af78a255fdc25a5ebad": {
      "model_module": "@jupyter-widgets/controls",
      "model_module_version": "1.5.0",
      "model_name": "CheckboxModel",
      "state": {
       "description": "m045",
       "disabled": false,
       "indent": false,
       "layout": "IPY_MODEL_ff7928f169a743558467ea2135d91835",
       "style": "IPY_MODEL_5b012359575142d19bdf098bb783c402",
       "value": true
      }
     },
     "4f51a7c8c5094122b4fc614659c7be04": {
      "model_module": "@jupyter-widgets/controls",
      "model_module_version": "1.5.0",
      "model_name": "CheckboxModel",
      "state": {
       "description": "m041",
       "disabled": false,
       "indent": false,
       "layout": "IPY_MODEL_e3a893ea66d84e4980678d1f581e5920",
       "style": "IPY_MODEL_3a3740b6b4ad4b3294c2ba9bf4c5ae0a",
       "value": true
      }
     },
     "4fa7dfbd06de46a4809352075ad1c380": {
      "model_module": "@jupyter-widgets/controls",
      "model_module_version": "1.5.0",
      "model_name": "ButtonModel",
      "state": {
       "description": "19h39m25.0264s",
       "disabled": true,
       "layout": "IPY_MODEL_e633cc06bf37470fac6d618b55e43001",
       "style": "IPY_MODEL_7a26c5f4c79645228570c87ba0c6af11"
      }
     },
     "4fc599b245c948239b0256a2cc166088": {
      "model_module": "@jupyter-widgets/controls",
      "model_module_version": "1.5.0",
      "model_name": "DescriptionStyleModel",
      "state": {
       "description_width": ""
      }
     },
     "50b30b8629ec4143a99dbe38cb1006f5": {
      "model_module": "@jupyter-widgets/base",
      "model_module_version": "1.2.0",
      "model_name": "LayoutModel",
      "state": {}
     },
     "513d2068a8b248daabbf443b7322144c": {
      "model_module": "@jupyter-widgets/controls",
      "model_module_version": "1.5.0",
      "model_name": "CheckboxModel",
      "state": {
       "description": "m025",
       "disabled": false,
       "indent": false,
       "layout": "IPY_MODEL_6b0ecca504c04e2eb1fce8da70279684",
       "style": "IPY_MODEL_bd64a3299ced448bb272e62b274673d5",
       "value": true
      }
     },
     "519634d2c22845e5bf291057875ce441": {
      "model_module": "@jupyter-widgets/base",
      "model_module_version": "1.2.0",
      "model_name": "LayoutModel",
      "state": {}
     },
     "52a2b3c9eca54479a2e7016666bbe9e0": {
      "model_module": "@jupyter-widgets/controls",
      "model_module_version": "1.5.0",
      "model_name": "DescriptionStyleModel",
      "state": {
       "description_width": ""
      }
     },
     "52dc94f94f854d1c846d3c92a1446a87": {
      "model_module": "@jupyter-widgets/base",
      "model_module_version": "1.2.0",
      "model_name": "LayoutModel",
      "state": {}
     },
     "538a274b29ea4c61a5f9e8aee6e30c10": {
      "model_module": "@jupyter-widgets/base",
      "model_module_version": "1.2.0",
      "model_name": "LayoutModel",
      "state": {}
     },
     "5397c89b3d4d4a59b0a4d192bf464328": {
      "model_module": "@jupyter-widgets/base",
      "model_module_version": "1.2.0",
      "model_name": "LayoutModel",
      "state": {}
     },
     "53ff12135a184724b3be684e1c356599": {
      "model_module": "@jupyter-widgets/base",
      "model_module_version": "1.2.0",
      "model_name": "LayoutModel",
      "state": {}
     },
     "542ab996a8ef48c48fd7d24e56fb57e1": {
      "model_module": "@jupyter-widgets/controls",
      "model_module_version": "1.5.0",
      "model_name": "DescriptionStyleModel",
      "state": {
       "description_width": ""
      }
     },
     "54f00cd5f8bf4c5982a632f2d57483c5": {
      "model_module": "@jupyter-widgets/base",
      "model_module_version": "1.2.0",
      "model_name": "LayoutModel",
      "state": {}
     },
     "5525b6aa389548b48f2d99da6ed76853": {
      "model_module": "@jupyter-widgets/controls",
      "model_module_version": "1.5.0",
      "model_name": "CheckboxModel",
      "state": {
       "description": "m017",
       "disabled": false,
       "indent": false,
       "layout": "IPY_MODEL_6a4e3708e744498596357b5d933ee0b6",
       "style": "IPY_MODEL_00cdb64521b9435492126e213338c142",
       "value": true
      }
     },
     "5541ed87298a455e9c892c363ac05a83": {
      "model_module": "@jupyter-widgets/base",
      "model_module_version": "1.2.0",
      "model_name": "LayoutModel",
      "state": {}
     },
     "57a469ec97ef477f80b18f315f1fca83": {
      "model_module": "@jupyter-widgets/base",
      "model_module_version": "1.2.0",
      "model_name": "LayoutModel",
      "state": {
       "min_width": "200px",
       "width": "200px"
      }
     },
     "58060f5146464a9fa9149bd177fdef0d": {
      "model_module": "@jupyter-widgets/base",
      "model_module_version": "1.2.0",
      "model_name": "LayoutModel",
      "state": {}
     },
     "5895d25ec0b9438bb8146bea80c7a7d6": {
      "model_module": "@jupyter-widgets/controls",
      "model_module_version": "1.5.0",
      "model_name": "DescriptionStyleModel",
      "state": {
       "description_width": ""
      }
     },
     "589f7162aea94d119f3e0179b5b77d91": {
      "model_module": "@jupyter-widgets/controls",
      "model_module_version": "1.5.0",
      "model_name": "TextModel",
      "state": {
       "description": "RA",
       "layout": "IPY_MODEL_284525d95dcf44bdbd756620180b166a",
       "style": "IPY_MODEL_caf6cd3aaed340bf92e30063260b0d01",
       "value": "00h42m44.2992s"
      }
     },
     "58ccf06f159f455fa27d82a58bd74f69": {
      "model_module": "@jupyter-widgets/controls",
      "model_module_version": "1.5.0",
      "model_name": "DescriptionStyleModel",
      "state": {
       "description_width": ""
      }
     },
     "58d4f0236f9e4a5fb60a2aa8090d0095": {
      "model_module": "@jupyter-widgets/controls",
      "model_module_version": "1.5.0",
      "model_name": "CheckboxModel",
      "state": {
       "description": "m012",
       "disabled": false,
       "indent": false,
       "layout": "IPY_MODEL_1235bd06d1004fc3a09a73ab429e9fe4",
       "style": "IPY_MODEL_3831389262f947efb5738cc9dd3b0ceb",
       "value": true
      }
     },
     "59f4a38f9c2449aaa1fc0e2255ed9fe1": {
      "model_module": "@jupyter-widgets/controls",
      "model_module_version": "1.5.0",
      "model_name": "DescriptionStyleModel",
      "state": {
       "description_width": ""
      }
     },
     "5b012359575142d19bdf098bb783c402": {
      "model_module": "@jupyter-widgets/controls",
      "model_module_version": "1.5.0",
      "model_name": "DescriptionStyleModel",
      "state": {
       "description_width": ""
      }
     },
     "5c87538679714031a1451eacb26f89ac": {
      "model_module": "@jupyter-widgets/controls",
      "model_module_version": "1.5.0",
      "model_name": "DescriptionStyleModel",
      "state": {
       "description_width": ""
      }
     },
     "5cf9f133adb24142b873d3db0d127811": {
      "model_module": "@jupyter-widgets/controls",
      "model_module_version": "1.5.0",
      "model_name": "CheckboxModel",
      "state": {
       "description": "m022",
       "disabled": false,
       "indent": false,
       "layout": "IPY_MODEL_d196439d884048a9947c59306a2c60a1",
       "style": "IPY_MODEL_4750ab098a1447f9933babd85b874b62",
       "value": true
      }
     },
     "5db7f3aa7e7c48a5a98ad56397287bc3": {
      "model_module": "@jupyter-widgets/controls",
      "model_module_version": "1.5.0",
      "model_name": "ButtonStyleModel",
      "state": {}
     },
     "5dc41e1275174e8c9a89865e337013c2": {
      "model_module": "@jupyter-widgets/base",
      "model_module_version": "1.2.0",
      "model_name": "LayoutModel",
      "state": {}
     },
     "5e62e2e402b84fff90ae7fa17e569ea5": {
      "model_module": "@jupyter-widgets/controls",
      "model_module_version": "1.5.0",
      "model_name": "DescriptionStyleModel",
      "state": {
       "description_width": ""
      }
     },
     "5e67710dea9643f0a8404d6351f96d51": {
      "model_module": "@jupyter-widgets/controls",
      "model_module_version": "1.5.0",
      "model_name": "CheckboxModel",
      "state": {
       "description": "m052",
       "disabled": false,
       "indent": false,
       "layout": "IPY_MODEL_63b050ebfd594c778c5ed5ac8bef68ff",
       "style": "IPY_MODEL_79872b5b9e4145508b2ad309d6dddda4",
       "value": true
      }
     },
     "5efe2710fa3d481ebf5d83a254789c4f": {
      "model_module": "@jupyter-widgets/controls",
      "model_module_version": "1.5.0",
      "model_name": "DescriptionStyleModel",
      "state": {
       "description_width": ""
      }
     },
     "5f00503797fe471b97e301f7da3d14e4": {
      "model_module": "@jupyter-widgets/base",
      "model_module_version": "1.2.0",
      "model_name": "LayoutModel",
      "state": {}
     },
     "5f0d0b09bedf402783f599b37b2ab806": {
      "model_module": "@jupyter-widgets/base",
      "model_module_version": "1.2.0",
      "model_name": "LayoutModel",
      "state": {
       "height": "28px",
       "min_height": "28px",
       "min_width": "200px",
       "width": "200px"
      }
     },
     "5f1170f74f3847a4a5320a50a6c6009f": {
      "model_module": "@jupyter-widgets/controls",
      "model_module_version": "1.5.0",
      "model_name": "HBoxModel",
      "state": {
       "children": [
        "IPY_MODEL_a9c50beed80a43adb194fbc5053b054b",
        "IPY_MODEL_1d2fcefa9b124b6784c7cb82a2686315",
        "IPY_MODEL_305a488101704be597eac9dd57e966d9"
       ],
       "layout": "IPY_MODEL_f368027b71be4b2f9e150f0cb561f930"
      }
     },
     "5fde2c414d2740a69d0b17f180caa122": {
      "model_module": "@jupyter-widgets/base",
      "model_module_version": "1.2.0",
      "model_name": "LayoutModel",
      "state": {}
     },
     "5ff14ad38dbe40ab8e67214b6b16df60": {
      "model_module": "@jupyter-widgets/base",
      "model_module_version": "1.2.0",
      "model_name": "LayoutModel",
      "state": {}
     },
     "5fff001d65214d71968f1235b018a9f1": {
      "model_module": "@jupyter-widgets/base",
      "model_module_version": "1.2.0",
      "model_name": "LayoutModel",
      "state": {
       "height": "28px",
       "min_height": "28px",
       "min_width": "200px",
       "width": "200px"
      }
     },
     "60114f75060a4bd093991c07b930b81d": {
      "model_module": "@jupyter-widgets/base",
      "model_module_version": "1.2.0",
      "model_name": "LayoutModel",
      "state": {}
     },
     "627ac48e7054403c9b1436afd7325aae": {
      "model_module": "@jupyter-widgets/base",
      "model_module_version": "1.2.0",
      "model_name": "LayoutModel",
      "state": {}
     },
     "62c273b2239640f4be1ff69698cb28f8": {
      "model_module": "@jupyter-widgets/controls",
      "model_module_version": "1.5.0",
      "model_name": "CheckboxModel",
      "state": {
       "description": "m002",
       "disabled": false,
       "indent": false,
       "layout": "IPY_MODEL_9a59f20cddee4ed5b29e15203706f6af",
       "style": "IPY_MODEL_282709ef018740b5b31f71639e366bfd",
       "value": true
      }
     },
     "62ce93a583cc4eefa37c49ebd989cc84": {
      "model_module": "@jupyter-widgets/base",
      "model_module_version": "1.2.0",
      "model_name": "LayoutModel",
      "state": {}
     },
     "634705483f9b4ee0840372761f35a318": {
      "model_module": "@jupyter-widgets/base",
      "model_module_version": "1.2.0",
      "model_name": "LayoutModel",
      "state": {}
     },
     "63b050ebfd594c778c5ed5ac8bef68ff": {
      "model_module": "@jupyter-widgets/base",
      "model_module_version": "1.2.0",
      "model_name": "LayoutModel",
      "state": {}
     },
     "63f4c9b76d0442b98f55a105db335025": {
      "model_module": "@jupyter-widgets/base",
      "model_module_version": "1.2.0",
      "model_name": "LayoutModel",
      "state": {}
     },
     "6401407e30ad4392a182e8c0134f3b6e": {
      "model_module": "@jupyter-widgets/base",
      "model_module_version": "1.2.0",
      "model_name": "LayoutModel",
      "state": {}
     },
     "6423fdd50f0c4a75baed84c7e5b378fb": {
      "model_module": "@jupyter-widgets/controls",
      "model_module_version": "1.5.0",
      "model_name": "CheckboxModel",
      "state": {
       "description": "m001",
       "disabled": false,
       "indent": false,
       "layout": "IPY_MODEL_32704d8acbb649cea81df5d8712e1e91",
       "style": "IPY_MODEL_58ccf06f159f455fa27d82a58bd74f69",
       "value": true
      }
     },
     "64728d8a37ab4166bf854e37fe322423": {
      "model_module": "@jupyter-widgets/controls",
      "model_module_version": "1.5.0",
      "model_name": "TextModel",
      "state": {
       "description": "Name",
       "layout": "IPY_MODEL_2651e84650c2481eadc19a0ea63f1ad3",
       "style": "IPY_MODEL_6ef45a4c395e4b2f96fd7639f6c66ccc",
       "value": "Test"
      }
     },
     "64a4e3bfe46342a6a65be5357e7819f0": {
      "model_module": "@jupyter-widgets/base",
      "model_module_version": "1.2.0",
      "model_name": "LayoutModel",
      "state": {
       "min_width": "200px",
       "width": "200px"
      }
     },
     "64a5cafdbd1140feb9808e30ae080766": {
      "model_module": "@jupyter-widgets/controls",
      "model_module_version": "1.5.0",
      "model_name": "ButtonModel",
      "state": {
       "description": "19h39m25.0264s",
       "disabled": true,
       "layout": "IPY_MODEL_c3c2131fd69e4717918b926d5f7caf06",
       "style": "IPY_MODEL_c70db5e62fab4c2ba272bcca6af10eb4"
      }
     },
     "64b8d81935ad473fb14ab71dfe3341a1": {
      "model_module": "@jupyter-widgets/base",
      "model_module_version": "1.2.0",
      "model_name": "LayoutModel",
      "state": {
       "width": "608px"
      }
     },
     "64de6d62120b461ab7b196bc92cde9e6": {
      "model_module": "@jupyter-widgets/base",
      "model_module_version": "1.2.0",
      "model_name": "LayoutModel",
      "state": {}
     },
     "65fc34e559234e79994622f9886af4fa": {
      "model_module": "@jupyter-widgets/base",
      "model_module_version": "1.2.0",
      "model_name": "LayoutModel",
      "state": {}
     },
     "6620f79b880d4bc5ac886c990189f6c5": {
      "model_module": "@jupyter-widgets/controls",
      "model_module_version": "1.5.0",
      "model_name": "DescriptionStyleModel",
      "state": {
       "description_width": ""
      }
     },
     "662842f5a0a042f0b64a9a90333d6806": {
      "model_module": "@jupyter-widgets/base",
      "model_module_version": "1.2.0",
      "model_name": "LayoutModel",
      "state": {}
     },
     "66676ff792c44614ab6d4fe85b45397b": {
      "model_module": "@jupyter-widgets/base",
      "model_module_version": "1.2.0",
      "model_name": "LayoutModel",
      "state": {
       "min_width": "200px",
       "width": "200px"
      }
     },
     "67cf29ac3ce24f049845f4db4a52c2bc": {
      "model_module": "@jupyter-widgets/controls",
      "model_module_version": "1.5.0",
      "model_name": "CheckboxModel",
      "state": {
       "description": "m057",
       "disabled": false,
       "indent": false,
       "layout": "IPY_MODEL_8a4b9d86360a42b79e44ab4795c2e714",
       "style": "IPY_MODEL_d69b60952c214d67ac523f73f5972e05",
       "value": true
      }
     },
     "67ebafb67c2c4f9bbb2ae2cbcb024db3": {
      "model_module": "@jupyter-widgets/controls",
      "model_module_version": "1.5.0",
      "model_name": "CheckboxModel",
      "state": {
       "description": "m060",
       "disabled": false,
       "indent": false,
       "layout": "IPY_MODEL_8451031dcaf549b7af6a39f2bc12933d",
       "style": "IPY_MODEL_429defcedcd54e7e9606899727554718",
       "value": true
      }
     },
     "6808a367e6574461980f021b7cdfa53a": {
      "model_module": "@jupyter-widgets/controls",
      "model_module_version": "1.5.0",
      "model_name": "DescriptionStyleModel",
      "state": {
       "description_width": ""
      }
     },
     "686c1216e9b24e95bf67b7551f5b23d0": {
      "model_module": "@jupyter-widgets/base",
      "model_module_version": "1.2.0",
      "model_name": "LayoutModel",
      "state": {}
     },
     "687d3113a99c467dbc807aa43f716029": {
      "model_module": "@jupyter-widgets/controls",
      "model_module_version": "1.5.0",
      "model_name": "DescriptionStyleModel",
      "state": {
       "description_width": "initial"
      }
     },
     "687d805970d24ff4ac86d292df2dde46": {
      "model_module": "@jupyter-widgets/base",
      "model_module_version": "1.2.0",
      "model_name": "LayoutModel",
      "state": {
       "min_width": "200px",
       "width": "200px"
      }
     },
     "692ae8834aea43e7afbce88b7cf72d47": {
      "model_module": "@jupyter-widgets/controls",
      "model_module_version": "1.5.0",
      "model_name": "HBoxModel",
      "state": {
       "children": [
        "IPY_MODEL_a229c2ca1528483d9d46df20e5e32471",
        "IPY_MODEL_3f3611c7c71c4e19b856f801344dec54",
        "IPY_MODEL_1ea8262d4ff54a20a6f6f284598de978"
       ],
       "layout": "IPY_MODEL_8e44de5a82d84968918a3a60df1d2ac2"
      }
     },
     "6a4e3708e744498596357b5d933ee0b6": {
      "model_module": "@jupyter-widgets/base",
      "model_module_version": "1.2.0",
      "model_name": "LayoutModel",
      "state": {}
     },
     "6afef5015291469db8f6bbbf32d11105": {
      "model_module": "@jupyter-widgets/controls",
      "model_module_version": "1.5.0",
      "model_name": "CheckboxModel",
      "state": {
       "description": "m009",
       "disabled": false,
       "indent": false,
       "layout": "IPY_MODEL_8aec4d8bac834c23a6ac0fb7af080c30",
       "style": "IPY_MODEL_828dfe602d644b56975ef5b6bb68d57b",
       "value": true
      }
     },
     "6b0ecca504c04e2eb1fce8da70279684": {
      "model_module": "@jupyter-widgets/base",
      "model_module_version": "1.2.0",
      "model_name": "LayoutModel",
      "state": {}
     },
     "6bc09e48e02a4d01895784609e9f49c2": {
      "model_module": "@jupyter-widgets/controls",
      "model_module_version": "1.5.0",
      "model_name": "DescriptionStyleModel",
      "state": {
       "description_width": ""
      }
     },
     "6dfd4366f6f24ac58c983d58f1bb9996": {
      "model_module": "@jupyter-widgets/controls",
      "model_module_version": "1.5.0",
      "model_name": "DescriptionStyleModel",
      "state": {
       "description_width": ""
      }
     },
     "6e19f7f1cc1e46f59336d1e1b7be3805": {
      "model_module": "@jupyter-widgets/controls",
      "model_module_version": "1.5.0",
      "model_name": "DescriptionStyleModel",
      "state": {
       "description_width": ""
      }
     },
     "6ea3e076cd38438d87b74445548b5448": {
      "model_module": "@jupyter-widgets/controls",
      "model_module_version": "1.5.0",
      "model_name": "HBoxModel",
      "state": {
       "children": [
        "IPY_MODEL_d1941117b9064bd1aec20b284ba0fb17",
        "IPY_MODEL_2f08e7ed5ca747ee83509afb51004b87",
        "IPY_MODEL_bbcb0801a8f74ba6a4a5245205d37757",
        "IPY_MODEL_090d9f94c74a4de58abbd100d055ca95"
       ],
       "layout": "IPY_MODEL_f833061a24f24dc58dd34c481e6fdf9f"
      }
     },
     "6ef45a4c395e4b2f96fd7639f6c66ccc": {
      "model_module": "@jupyter-widgets/controls",
      "model_module_version": "1.5.0",
      "model_name": "DescriptionStyleModel",
      "state": {
       "description_width": "initial"
      }
     },
     "6f33ad818395413a818a12065d27d1f9": {
      "model_module": "@jupyter-widgets/controls",
      "model_module_version": "1.5.0",
      "model_name": "CheckboxModel",
      "state": {
       "description": "m014",
       "disabled": false,
       "indent": false,
       "layout": "IPY_MODEL_938b7506102045cea97fcb0d7044b67a",
       "style": "IPY_MODEL_a0ed65067d40438ca14ec63e945c0e97",
       "value": true
      }
     },
     "6f452f09cf5342eca0b78642b741f525": {
      "model_module": "@jupyter-widgets/controls",
      "model_module_version": "1.5.0",
      "model_name": "DescriptionStyleModel",
      "state": {
       "description_width": ""
      }
     },
     "6f75215243464cf78d96ddb419ef207e": {
      "model_module": "@jupyter-widgets/controls",
      "model_module_version": "1.5.0",
      "model_name": "DescriptionStyleModel",
      "state": {
       "description_width": ""
      }
     },
     "6f8c657f90584be5ad3b68f6def92a4e": {
      "model_module": "@jupyter-widgets/controls",
      "model_module_version": "1.5.0",
      "model_name": "DescriptionStyleModel",
      "state": {
       "description_width": ""
      }
     },
     "6fe97443d4ad4303b39a46a811b54ea7": {
      "model_module": "@jupyter-widgets/controls",
      "model_module_version": "1.5.0",
      "model_name": "DescriptionStyleModel",
      "state": {
       "description_width": ""
      }
     },
     "700f690c258e4ff1927d5935877c82c2": {
      "model_module": "@jupyter-widgets/controls",
      "model_module_version": "1.5.0",
      "model_name": "DescriptionStyleModel",
      "state": {
       "description_width": ""
      }
     },
     "70461503642042f4ab9b3d724f19e630": {
      "model_module": "@jupyter-widgets/controls",
      "model_module_version": "1.5.0",
      "model_name": "TextModel",
      "state": {
       "description": "RA",
       "layout": "IPY_MODEL_f3845fe7c223467290bc80d2c0788839",
       "style": "IPY_MODEL_28aec37363b2411b8287e18438d0c7d6",
       "value": "00h42m44.2992s"
      }
     },
     "706e26e3f2b449cb8716f4b5d8541d61": {
      "model_module": "@jupyter-widgets/base",
      "model_module_version": "1.2.0",
      "model_name": "LayoutModel",
      "state": {}
     },
     "7075f88d7cd9474b98df620dcdfc9c16": {
      "model_module": "@jupyter-widgets/controls",
      "model_module_version": "1.5.0",
      "model_name": "CheckboxModel",
      "state": {
       "description": "m059",
       "disabled": false,
       "indent": false,
       "layout": "IPY_MODEL_f3d335d3dad24eb29454111223faeffc",
       "style": "IPY_MODEL_ff4c72ae1b1241fd9033b1b21853384f",
       "value": true
      }
     },
     "7128d099603449d2a4785db540d9da23": {
      "model_module": "@jupyter-widgets/controls",
      "model_module_version": "1.5.0",
      "model_name": "VBoxModel",
      "state": {
       "children": [
        "IPY_MODEL_f7f343496d3c4e1e9ff7bc3e48593597",
        "IPY_MODEL_9d2922ac03cf4daf81219344623e4a48",
        "IPY_MODEL_6ea3e076cd38438d87b74445548b5448"
       ],
       "layout": "IPY_MODEL_082d1fcc5bd44490a6ad06c612ce5f78"
      }
     },
     "713a818aa680417e934040bb82479787": {
      "model_module": "@jupyter-widgets/base",
      "model_module_version": "1.2.0",
      "model_name": "LayoutModel",
      "state": {
       "min_width": "200px",
       "width": "200px"
      }
     },
     "71753b7d6a6244b4b7e5ab8c0a260eed": {
      "model_module": "@jupyter-widgets/controls",
      "model_module_version": "1.5.0",
      "model_name": "DescriptionStyleModel",
      "state": {
       "description_width": ""
      }
     },
     "71bbdbb6c9d145b680bbfd13adea80f0": {
      "model_module": "@jupyter-widgets/base",
      "model_module_version": "1.2.0",
      "model_name": "LayoutModel",
      "state": {}
     },
     "71f0aa638e9b461e93cd02a680572c82": {
      "model_module": "@jupyter-widgets/controls",
      "model_module_version": "1.5.0",
      "model_name": "CheckboxModel",
      "state": {
       "description": "m006",
       "disabled": false,
       "indent": false,
       "layout": "IPY_MODEL_38cc351139b647f99cb6526bbc3b8550",
       "style": "IPY_MODEL_700f690c258e4ff1927d5935877c82c2",
       "value": true
      }
     },
     "7209f10cd51e4aa696403b275afd1e0b": {
      "model_module": "@jupyter-widgets/controls",
      "model_module_version": "1.5.0",
      "model_name": "HBoxModel",
      "state": {
       "children": [
        "IPY_MODEL_37417b0a42814f8e8f34d7f47d3a22c4",
        "IPY_MODEL_f5154cf956c845e9bc1d193e886c2b1b",
        "IPY_MODEL_32544ec192c340a9afd7d457c8554a08",
        "IPY_MODEL_de2f1d69e4c746a3838e91dc54e0552c",
        "IPY_MODEL_eadd8dfd5027484398c284b4b717f03e",
        "IPY_MODEL_35d9f09239d348729a07c34294e6c98d",
        "IPY_MODEL_71f0aa638e9b461e93cd02a680572c82",
        "IPY_MODEL_a4096703e59249eb90de520e70693a9c",
        "IPY_MODEL_a530a7a8c4d64917884f320c2fba5369",
        "IPY_MODEL_aea5749c454e4cf9bfe60a3af28d1162",
        "IPY_MODEL_0ede1a44cd354b1ca1320ba18d456e77",
        "IPY_MODEL_08d6cb425191486788255e1c3b8d44f3",
        "IPY_MODEL_9af6ff41638c405490703f653311d595",
        "IPY_MODEL_c763958875144392ab301a1a2ce5829d",
        "IPY_MODEL_6f33ad818395413a818a12065d27d1f9",
        "IPY_MODEL_7f904bd01e6c4f77bd70989ef35cfc4a"
       ],
       "layout": "IPY_MODEL_e1fa3ebacbd644fcb206d3edfc8cb2cf"
      }
     },
     "7275939b918e46b4bc34acacb1764601": {
      "model_module": "@jupyter-widgets/controls",
      "model_module_version": "1.5.0",
      "model_name": "DescriptionStyleModel",
      "state": {
       "description_width": "initial"
      }
     },
     "73540466010b4cda876f600058f2ac38": {
      "model_module": "@jupyter-widgets/base",
      "model_module_version": "1.2.0",
      "model_name": "LayoutModel",
      "state": {}
     },
     "743d332ebda445fa99ec3e72007d1bfc": {
      "model_module": "@jupyter-widgets/base",
      "model_module_version": "1.2.0",
      "model_name": "LayoutModel",
      "state": {}
     },
     "747a65762e904a1bb07123037b359ec9": {
      "model_module": "@jupyter-widgets/controls",
      "model_module_version": "1.5.0",
      "model_name": "DescriptionStyleModel",
      "state": {
       "description_width": "initial"
      }
     },
     "74cfb1a7749542fd8d63accfd11500d2": {
      "model_module": "@jupyter-widgets/base",
      "model_module_version": "1.2.0",
      "model_name": "LayoutModel",
      "state": {}
     },
     "75d462cbd96648a282e9b58afaf05da5": {
      "model_module": "@jupyter-widgets/base",
      "model_module_version": "1.2.0",
      "model_name": "LayoutModel",
      "state": {
       "min_width": "200px",
       "width": "200px"
      }
     },
     "7607d0dab84a4002aff150ef0a3d13cd": {
      "model_module": "@jupyter-widgets/controls",
      "model_module_version": "1.5.0",
      "model_name": "CheckboxModel",
      "state": {
       "description": "m030",
       "disabled": false,
       "indent": false,
       "layout": "IPY_MODEL_634705483f9b4ee0840372761f35a318",
       "style": "IPY_MODEL_4d4e5541c6514f60b335fefcaf6d5c82",
       "value": true
      }
     },
     "765d86a449c9404a81d87022c0e74544": {
      "model_module": "@jupyter-widgets/controls",
      "model_module_version": "1.5.0",
      "model_name": "CheckboxModel",
      "state": {
       "description": "m031",
       "disabled": false,
       "indent": false,
       "layout": "IPY_MODEL_86b379ead1b142b89f9542e010d1e1fb",
       "style": "IPY_MODEL_4d71c1c4a4624f29b018c8eab0d75298",
       "value": true
      }
     },
     "76dfe18182e84e8584940e704c3f685c": {
      "model_module": "@jupyter-widgets/base",
      "model_module_version": "1.2.0",
      "model_name": "LayoutModel",
      "state": {}
     },
     "772d3fcc5be64d0e97630d25411ae314": {
      "model_module": "@jupyter-widgets/base",
      "model_module_version": "1.2.0",
      "model_name": "LayoutModel",
      "state": {}
     },
     "7792f96689e844a295b001a63c5e7a45": {
      "model_module": "@jupyter-widgets/base",
      "model_module_version": "1.2.0",
      "model_name": "LayoutModel",
      "state": {}
     },
     "7869a16f2ba34e05a76c2f37146d1913": {
      "model_module": "@jupyter-widgets/base",
      "model_module_version": "1.2.0",
      "model_name": "LayoutModel",
      "state": {}
     },
     "78762bf1be49410caddbf9a5b4e05a85": {
      "model_module": "@jupyter-widgets/controls",
      "model_module_version": "1.5.0",
      "model_name": "ButtonModel",
      "state": {
       "description": "J1939-6342",
       "disabled": true,
       "layout": "IPY_MODEL_23008c8343244122bcf1b8ec0fb5c427",
       "style": "IPY_MODEL_7f9eb6165499419fa9111e571584a57f"
      }
     },
     "7946cccf29bc43a5a6dede5b931de696": {
      "model_module": "@jupyter-widgets/base",
      "model_module_version": "1.2.0",
      "model_name": "LayoutModel",
      "state": {
       "height": "28px",
       "min_height": "28px",
       "min_width": "200px",
       "width": "200px"
      }
     },
     "794f0158c4db4c9ebe52119be4fdb0aa": {
      "model_module": "@jupyter-widgets/controls",
      "model_module_version": "1.5.0",
      "model_name": "DescriptionStyleModel",
      "state": {
       "description_width": ""
      }
     },
     "7971c9b0abe94dd380e64e14e178c886": {
      "model_module": "@jupyter-widgets/controls",
      "model_module_version": "1.5.0",
      "model_name": "ButtonStyleModel",
      "state": {}
     },
     "79872b5b9e4145508b2ad309d6dddda4": {
      "model_module": "@jupyter-widgets/controls",
      "model_module_version": "1.5.0",
      "model_name": "DescriptionStyleModel",
      "state": {
       "description_width": ""
      }
     },
     "79b89234f369443aadce4f080651270d": {
      "model_module": "@jupyter-widgets/controls",
      "model_module_version": "1.5.0",
      "model_name": "DescriptionStyleModel",
      "state": {
       "description_width": ""
      }
     },
     "7a26c5f4c79645228570c87ba0c6af11": {
      "model_module": "@jupyter-widgets/controls",
      "model_module_version": "1.5.0",
      "model_name": "ButtonStyleModel",
      "state": {}
     },
     "7a62323214c9427b9e93b4941e53f69f": {
      "model_module": "@jupyter-widgets/controls",
      "model_module_version": "1.5.0",
      "model_name": "ButtonStyleModel",
      "state": {}
     },
     "7aa63e9987084b85a396e520b6defb72": {
      "model_module": "@jupyter-widgets/base",
      "model_module_version": "1.2.0",
      "model_name": "LayoutModel",
      "state": {
       "height": "28px",
       "min_height": "28px",
       "min_width": "200px",
       "width": "200px"
      }
     },
     "7ae2a3f1c62843a880509f561f26ed00": {
      "model_module": "@jupyter-widgets/controls",
      "model_module_version": "1.5.0",
      "model_name": "DescriptionStyleModel",
      "state": {
       "description_width": "initial"
      }
     },
     "7b0f7cd15cd949ba991ad754237b909b": {
      "model_module": "@jupyter-widgets/controls",
      "model_module_version": "1.5.0",
      "model_name": "DescriptionStyleModel",
      "state": {
       "description_width": ""
      }
     },
     "7b40f7764516486f94ff33dd4174010b": {
      "model_module": "@jupyter-widgets/controls",
      "model_module_version": "1.5.0",
      "model_name": "DescriptionStyleModel",
      "state": {
       "description_width": ""
      }
     },
     "7b5553ff749c471e8cb5b763ef4d71b3": {
      "model_module": "@jupyter-widgets/controls",
      "model_module_version": "1.5.0",
      "model_name": "ButtonStyleModel",
      "state": {}
     },
     "7c2ffd3311944c158ef5313566a3d437": {
      "model_module": "@jupyter-widgets/controls",
      "model_module_version": "1.5.0",
      "model_name": "DescriptionStyleModel",
      "state": {
       "description_width": ""
      }
     },
     "7c5a787d292945dd80fcc768fd66b7a5": {
      "model_module": "@jupyter-widgets/controls",
      "model_module_version": "1.5.0",
      "model_name": "CheckboxModel",
      "state": {
       "description": "m040",
       "disabled": false,
       "indent": false,
       "layout": "IPY_MODEL_74cfb1a7749542fd8d63accfd11500d2",
       "style": "IPY_MODEL_84219ba2d74f48d2b82f198d55c97b52",
       "value": true
      }
     },
     "7cf04dea9fe6492a909926b80166c92e": {
      "model_module": "@jupyter-widgets/controls",
      "model_module_version": "1.5.0",
      "model_name": "CheckboxModel",
      "state": {
       "description": "m021",
       "disabled": false,
       "indent": false,
       "layout": "IPY_MODEL_048c0514413344cc8862527acc821cb6",
       "style": "IPY_MODEL_1f37972806a7498384a4e8c4fb7fb944",
       "value": true
      }
     },
     "7d79ffbc0f114d2d9cd237f3a7a4f8b6": {
      "model_module": "@jupyter-widgets/controls",
      "model_module_version": "1.5.0",
      "model_name": "DescriptionStyleModel",
      "state": {
       "description_width": ""
      }
     },
     "7e02ea9f462a4b2ab52f90b1502e32e8": {
      "model_module": "@jupyter-widgets/controls",
      "model_module_version": "1.5.0",
      "model_name": "HBoxModel",
      "state": {
       "children": [
        "IPY_MODEL_b5c86b58010c434e9b676c798e73c49d",
        "IPY_MODEL_b121acadf592467eafca6526aeb27622",
        "IPY_MODEL_ee73f42d8cec4962aa96f2e9baebced6",
        "IPY_MODEL_23e4b17501324bc2b1179287ed8f3c61",
        "IPY_MODEL_5e67710dea9643f0a8404d6351f96d51",
        "IPY_MODEL_d6f196247d484c4f8d042463f3f2ed99",
        "IPY_MODEL_f08a6ac24c554375892cae0a73fa660b",
        "IPY_MODEL_7eddc087a3c344ac8f9da8e085264b72",
        "IPY_MODEL_acf5e1c224b547d3b5a2774c5256f564",
        "IPY_MODEL_a4d10477f6424b9f8575d6d439b08daa",
        "IPY_MODEL_bb8cabfcdc624a58ab61b5d86e794408",
        "IPY_MODEL_da64a251b18d4c6cb62c8a3dadefef00",
        "IPY_MODEL_d463a273042c49d8bcebd8c814570152",
        "IPY_MODEL_4468f8df32c048c28e71e5a8eb2f9a10",
        "IPY_MODEL_4cbfa1f36a4c4428bb8c00963473ae9e",
        "IPY_MODEL_38e5a216ba7a4d2e9307c5df11d6cfa8"
       ],
       "layout": "IPY_MODEL_268181990ad94a489669c25776af0807"
      }
     },
     "7e85ecfb7abf44ba9c93db49a19cbde2": {
      "model_module": "@jupyter-widgets/controls",
      "model_module_version": "1.5.0",
      "model_name": "ButtonStyleModel",
      "state": {}
     },
     "7e9a28eecbd7429da0ccd2862752a406": {
      "model_module": "@jupyter-widgets/base",
      "model_module_version": "1.2.0",
      "model_name": "LayoutModel",
      "state": {}
     },
     "7eddc087a3c344ac8f9da8e085264b72": {
      "model_module": "@jupyter-widgets/controls",
      "model_module_version": "1.5.0",
      "model_name": "CheckboxModel",
      "state": {
       "description": "m055",
       "disabled": false,
       "indent": false,
       "layout": "IPY_MODEL_3957cd3c56da4b56a9c947cbd5c55307",
       "style": "IPY_MODEL_be653c48882646a6b556887da5d79399",
       "value": true
      }
     },
     "7ef85298c39e47ffb5b3065048557b99": {
      "model_module": "@jupyter-widgets/base",
      "model_module_version": "1.2.0",
      "model_name": "LayoutModel",
      "state": {
       "min_width": "200px",
       "width": "200px"
      }
     },
     "7f904bd01e6c4f77bd70989ef35cfc4a": {
      "model_module": "@jupyter-widgets/controls",
      "model_module_version": "1.5.0",
      "model_name": "CheckboxModel",
      "state": {
       "description": "m015",
       "disabled": false,
       "indent": false,
       "layout": "IPY_MODEL_f2e193e649ae41c2af48c9e59dc71004",
       "style": "IPY_MODEL_eed914ca1b91415390110e75044f0b89",
       "value": true
      }
     },
     "7f9eb6165499419fa9111e571584a57f": {
      "model_module": "@jupyter-widgets/controls",
      "model_module_version": "1.5.0",
      "model_name": "ButtonStyleModel",
      "state": {}
     },
     "80a935c64ae84de4bef7f158127b8668": {
      "model_module": "@jupyter-widgets/controls",
      "model_module_version": "1.5.0",
      "model_name": "ButtonModel",
      "state": {
       "description": "YYYY-MM-DD HH:mm:SS.f",
       "disabled": true,
       "layout": "IPY_MODEL_970e485f997442f1881761aa7393a39b",
       "style": "IPY_MODEL_f75f1c6ce7fb4b2ea9e0a28405f59d23"
      }
     },
     "80b206c31bdd486ea84633b46598e470": {
      "model_module": "@jupyter-widgets/controls",
      "model_module_version": "1.5.0",
      "model_name": "ButtonModel",
      "state": {
       "description": "Enter celestial target coordinates",
       "disabled": true,
       "layout": "IPY_MODEL_c525d7b2f9bd48889d44f0e30f92da6b",
       "style": "IPY_MODEL_5db7f3aa7e7c48a5a98ad56397287bc3"
      }
     },
     "818378a99c17455b8b7da9e6de1c1514": {
      "model_module": "@jupyter-widgets/controls",
      "model_module_version": "1.5.0",
      "model_name": "HBoxModel",
      "state": {
       "children": [
        "IPY_MODEL_64728d8a37ab4166bf854e37fe322423",
        "IPY_MODEL_99aa6436f00d4f739c8157c679c03d92",
        "IPY_MODEL_9ee73dcf43904833a5bdb7b371855d44"
       ],
       "layout": "IPY_MODEL_da6f7acd5586455db7923d13ffc623d1"
      }
     },
     "81943b02a7a84cec840edc6b5865169f": {
      "model_module": "@jupyter-widgets/controls",
      "model_module_version": "1.5.0",
      "model_name": "DescriptionStyleModel",
      "state": {
       "description_width": ""
      }
     },
     "81dd69d8f2bb43558378855094ced644": {
      "model_module": "@jupyter-widgets/controls",
      "model_module_version": "1.5.0",
      "model_name": "ButtonModel",
      "state": {
       "description": "Enter celestial target coordinates",
       "disabled": true,
       "layout": "IPY_MODEL_be5d618691bb44fc988559eeb3be0efd",
       "style": "IPY_MODEL_be84efa2f0e34be59eb1287b47ef1033"
      }
     },
     "81fdcde5d5b24d408d77e7c670fb5ab2": {
      "model_module": "@jupyter-widgets/controls",
      "model_module_version": "1.5.0",
      "model_name": "ButtonStyleModel",
      "state": {}
     },
     "828dfe602d644b56975ef5b6bb68d57b": {
      "model_module": "@jupyter-widgets/controls",
      "model_module_version": "1.5.0",
      "model_name": "DescriptionStyleModel",
      "state": {
       "description_width": ""
      }
     },
     "82a5ea6302ef4f799f10c3d16e19515f": {
      "model_module": "@jupyter-widgets/base",
      "model_module_version": "1.2.0",
      "model_name": "LayoutModel",
      "state": {
       "height": "28px",
       "min_height": "28px",
       "min_width": "200px",
       "width": "200px"
      }
     },
     "8347ecdf92454374a7e381f1d2868e92": {
      "model_module": "@jupyter-widgets/controls",
      "model_module_version": "1.5.0",
      "model_name": "ButtonModel",
      "state": {
       "description": "-63d42m45.624s",
       "disabled": true,
       "layout": "IPY_MODEL_0f123a20d2284a7a96adeb793a619dc3",
       "style": "IPY_MODEL_9dcd15fecdfd4e48a889ec44c9760d40"
      }
     },
     "8382aca314b141379611037f68345773": {
      "model_module": "@jupyter-widgets/controls",
      "model_module_version": "1.5.0",
      "model_name": "CheckboxModel",
      "state": {
       "description": "m033",
       "disabled": false,
       "indent": false,
       "layout": "IPY_MODEL_de487e78db3b45219f42c21c2bc68100",
       "style": "IPY_MODEL_dcd7123940694e1ca5ff58baecc997ee",
       "value": true
      }
     },
     "84219ba2d74f48d2b82f198d55c97b52": {
      "model_module": "@jupyter-widgets/controls",
      "model_module_version": "1.5.0",
      "model_name": "DescriptionStyleModel",
      "state": {
       "description_width": ""
      }
     },
     "8451031dcaf549b7af6a39f2bc12933d": {
      "model_module": "@jupyter-widgets/base",
      "model_module_version": "1.2.0",
      "model_name": "LayoutModel",
      "state": {}
     },
     "851392f95e044843a985747ddd05a639": {
      "model_module": "@jupyter-widgets/base",
      "model_module_version": "1.2.0",
      "model_name": "LayoutModel",
      "state": {}
     },
     "85536c2a44f049309fdbdd52af24e8bb": {
      "model_module": "@jupyter-widgets/controls",
      "model_module_version": "1.5.0",
      "model_name": "VBoxModel",
      "state": {
       "children": [
        "IPY_MODEL_80a935c64ae84de4bef7f158127b8668",
        "IPY_MODEL_39225400cc4e473eabe63321f80368b0"
       ],
       "layout": "IPY_MODEL_7869a16f2ba34e05a76c2f37146d1913"
      }
     },
     "85dd12aacde44ea8b80f97ecde699487": {
      "model_module": "@jupyter-widgets/base",
      "model_module_version": "1.2.0",
      "model_name": "LayoutModel",
      "state": {}
     },
     "869bfcd9439842d5bf68ca13737fa171": {
      "model_module": "@jupyter-widgets/controls",
      "model_module_version": "1.5.0",
      "model_name": "CheckboxModel",
      "state": {
       "description": "m029",
       "disabled": false,
       "indent": false,
       "layout": "IPY_MODEL_e6f263de469e4262bf0b9e0988d7b900",
       "style": "IPY_MODEL_a655651465e14a389c3c7ae3e8c650bb",
       "value": true
      }
     },
     "86b379ead1b142b89f9542e010d1e1fb": {
      "model_module": "@jupyter-widgets/base",
      "model_module_version": "1.2.0",
      "model_name": "LayoutModel",
      "state": {}
     },
     "86f08f9efc1f471e9a56f32d346a9263": {
      "model_module": "@jupyter-widgets/base",
      "model_module_version": "1.2.0",
      "model_name": "LayoutModel",
      "state": {}
     },
     "879ce88394224c7a9bd6dd657b250db8": {
      "model_module": "@jupyter-widgets/controls",
      "model_module_version": "1.5.0",
      "model_name": "DescriptionStyleModel",
      "state": {
       "description_width": ""
      }
     },
     "8836e6ab212e467599b8f9eab16d3f1d": {
      "model_module": "@jupyter-widgets/base",
      "model_module_version": "1.2.0",
      "model_name": "LayoutModel",
      "state": {}
     },
     "894a8e8e1afa413db0888fce9afcdf64": {
      "model_module": "@jupyter-widgets/controls",
      "model_module_version": "1.5.0",
      "model_name": "TextModel",
      "state": {
       "description": "Duration [sec]",
       "layout": "IPY_MODEL_c66315361c7a4c81bba391cf1c08f6c7",
       "style": "IPY_MODEL_3a1084ce20034d30b7af958f9fcba7ad",
       "value": "600"
      }
     },
     "8a20c6730bff41f5b881e959083597c0": {
      "model_module": "@jupyter-widgets/controls",
      "model_module_version": "1.5.0",
      "model_name": "DescriptionStyleModel",
      "state": {
       "description_width": ""
      }
     },
     "8a4b9d86360a42b79e44ab4795c2e714": {
      "model_module": "@jupyter-widgets/base",
      "model_module_version": "1.2.0",
      "model_name": "LayoutModel",
      "state": {}
     },
     "8aa3f94e64154b80a7936b334877ec20": {
      "model_module": "@jupyter-widgets/base",
      "model_module_version": "1.2.0",
      "model_name": "LayoutModel",
      "state": {}
     },
     "8aec4d8bac834c23a6ac0fb7af080c30": {
      "model_module": "@jupyter-widgets/base",
      "model_module_version": "1.2.0",
      "model_name": "LayoutModel",
      "state": {}
     },
     "8b09220270ac49a683f6c4fca3a505e9": {
      "model_module": "@jupyter-widgets/controls",
      "model_module_version": "1.5.0",
      "model_name": "TextModel",
      "state": {
       "description": "RA",
       "layout": "IPY_MODEL_ffd3425c99a546f79d16713d42900bcd",
       "style": "IPY_MODEL_f78c0eb5d2aa48a7b3830ad36e785c06",
       "value": "00h42m44.2992s"
      }
     },
     "8c1e6403d7e942dea5546bdff43f56dd": {
      "model_module": "@jupyter-widgets/base",
      "model_module_version": "1.2.0",
      "model_name": "LayoutModel",
      "state": {}
     },
     "8c52128efe62408aa74edccd0479e591": {
      "model_module": "@jupyter-widgets/controls",
      "model_module_version": "1.5.0",
      "model_name": "DescriptionStyleModel",
      "state": {
       "description_width": ""
      }
     },
     "8c70d3baaa7d4d86b4ccc8f0fe518d1f": {
      "model_module": "@jupyter-widgets/base",
      "model_module_version": "1.2.0",
      "model_name": "LayoutModel",
      "state": {
       "width": "608px"
      }
     },
     "8c9bbc93c53548f68a9c0feb33234190": {
      "model_module": "@jupyter-widgets/base",
      "model_module_version": "1.2.0",
      "model_name": "LayoutModel",
      "state": {}
     },
     "8d176beb224c40f496a031e46b76894c": {
      "model_module": "@jupyter-widgets/controls",
      "model_module_version": "1.5.0",
      "model_name": "CheckboxModel",
      "state": {
       "description": "m048",
       "disabled": false,
       "indent": false,
       "layout": "IPY_MODEL_b08ddd0760c84fa6ba326b21dd99b8fc",
       "style": "IPY_MODEL_bb23184775bb4948bdb2d5d02f32ebba",
       "value": true
      }
     },
     "8e44de5a82d84968918a3a60df1d2ac2": {
      "model_module": "@jupyter-widgets/base",
      "model_module_version": "1.2.0",
      "model_name": "LayoutModel",
      "state": {}
     },
     "8e8087fe3a04458eaf521927211b4a97": {
      "model_module": "@jupyter-widgets/controls",
      "model_module_version": "1.5.0",
      "model_name": "ButtonStyleModel",
      "state": {}
     },
     "8e8198d90bc94a448eefa343ed35c196": {
      "model_module": "@jupyter-widgets/controls",
      "model_module_version": "1.5.0",
      "model_name": "CheckboxModel",
      "state": {
       "description": "m044",
       "disabled": false,
       "indent": false,
       "layout": "IPY_MODEL_0de0ca15746f4094a41defef4361342d",
       "style": "IPY_MODEL_22f6ff693f89490ebd9fd8f08a497a8a",
       "value": true
      }
     },
     "8eb058b845c2467d9ae4fba66997c337": {
      "model_module": "@jupyter-widgets/base",
      "model_module_version": "1.2.0",
      "model_name": "LayoutModel",
      "state": {}
     },
     "8fa5b4d0b40844b6ac02bcff11cea8c3": {
      "model_module": "@jupyter-widgets/controls",
      "model_module_version": "1.5.0",
      "model_name": "DescriptionStyleModel",
      "state": {
       "description_width": "initial"
      }
     },
     "8faeecc314274446a87a17405214be9a": {
      "model_module": "@jupyter-widgets/controls",
      "model_module_version": "1.5.0",
      "model_name": "CheckboxModel",
      "state": {
       "description": "m020",
       "disabled": false,
       "indent": false,
       "layout": "IPY_MODEL_8c1e6403d7e942dea5546bdff43f56dd",
       "style": "IPY_MODEL_e162b154237e407d956c6c38366c680b",
       "value": true
      }
     },
     "903eecae608c4eae8030d14b187c0733": {
      "model_module": "@jupyter-widgets/controls",
      "model_module_version": "1.5.0",
      "model_name": "CheckboxModel",
      "state": {
       "description": "m007",
       "disabled": false,
       "indent": false,
       "layout": "IPY_MODEL_519634d2c22845e5bf291057875ce441",
       "style": "IPY_MODEL_542ab996a8ef48c48fd7d24e56fb57e1",
       "value": true
      }
     },
     "904fe9c174f94a3f99e1ab78e9a49647": {
      "model_module": "@jupyter-widgets/base",
      "model_module_version": "1.2.0",
      "model_name": "LayoutModel",
      "state": {}
     },
     "90a3ac4ce8f74160ba4894b37ff78d95": {
      "model_module": "@jupyter-widgets/controls",
      "model_module_version": "1.5.0",
      "model_name": "DescriptionStyleModel",
      "state": {
       "description_width": ""
      }
     },
     "9154b50ae8134ac69c1f627a41849b16": {
      "model_module": "@jupyter-widgets/controls",
      "model_module_version": "1.5.0",
      "model_name": "DescriptionStyleModel",
      "state": {
       "description_width": ""
      }
     },
     "91cd720864a64e6e9416f8eb930ca580": {
      "model_module": "@jupyter-widgets/controls",
      "model_module_version": "1.5.0",
      "model_name": "DescriptionStyleModel",
      "state": {
       "description_width": "initial"
      }
     },
     "9274a0dc347247e8b63c5a9cea2d2444": {
      "model_module": "@jupyter-widgets/base",
      "model_module_version": "1.2.0",
      "model_name": "LayoutModel",
      "state": {}
     },
     "927657a48b9e4f1c9bf0ff01f11d9e49": {
      "model_module": "@jupyter-widgets/controls",
      "model_module_version": "1.5.0",
      "model_name": "CheckboxModel",
      "state": {
       "description": "m027",
       "disabled": false,
       "indent": false,
       "layout": "IPY_MODEL_f9de83d4a1714069affc470dea6fd7ba",
       "style": "IPY_MODEL_5895d25ec0b9438bb8146bea80c7a7d6",
       "value": true
      }
     },
     "928907fe76c0450f99bdb20c998753b4": {
      "model_module": "@jupyter-widgets/base",
      "model_module_version": "1.2.0",
      "model_name": "LayoutModel",
      "state": {}
     },
     "92918ea1b9834cbdb89d0ca359bd1ba8": {
      "model_module": "@jupyter-widgets/base",
      "model_module_version": "1.2.0",
      "model_name": "LayoutModel",
      "state": {
       "min_width": "200px",
       "width": "200px"
      }
     },
     "92d040b1efac43649765085ff7715a3d": {
      "model_module": "@jupyter-widgets/controls",
      "model_module_version": "1.5.0",
      "model_name": "CheckboxModel",
      "state": {
       "description": "m043",
       "disabled": false,
       "indent": false,
       "layout": "IPY_MODEL_0552d987f0e9401bb02ef0e5ee3409e1",
       "style": "IPY_MODEL_9154b50ae8134ac69c1f627a41849b16",
       "value": true
      }
     },
     "92ea00212bd841f9b6d09ed608c103cf": {
      "model_module": "@jupyter-widgets/base",
      "model_module_version": "1.2.0",
      "model_name": "LayoutModel",
      "state": {}
     },
     "930896eeffd2485c850cbcc8d16b5025": {
      "model_module": "@jupyter-widgets/base",
      "model_module_version": "1.2.0",
      "model_name": "LayoutModel",
      "state": {
       "min_width": "200px",
       "width": "200px"
      }
     },
     "930afa6fd4cb405f9f8f19fb588e38f4": {
      "model_module": "@jupyter-widgets/controls",
      "model_module_version": "1.5.0",
      "model_name": "DescriptionStyleModel",
      "state": {
       "description_width": ""
      }
     },
     "938b7506102045cea97fcb0d7044b67a": {
      "model_module": "@jupyter-widgets/base",
      "model_module_version": "1.2.0",
      "model_name": "LayoutModel",
      "state": {}
     },
     "948b1c2696984922bcf7d80e74efe3fb": {
      "model_module": "@jupyter-widgets/controls",
      "model_module_version": "1.5.0",
      "model_name": "HBoxModel",
      "state": {
       "children": [
        "IPY_MODEL_78762bf1be49410caddbf9a5b4e05a85",
        "IPY_MODEL_a88d8436ec114cfe98685684fdd69deb",
        "IPY_MODEL_3e2ee234bc26435e91837b6f8fc86952"
       ],
       "layout": "IPY_MODEL_538a274b29ea4c61a5f9e8aee6e30c10"
      }
     },
     "9584b1612f664414aa40c5c80d3dd67f": {
      "model_module": "@jupyter-widgets/base",
      "model_module_version": "1.2.0",
      "model_name": "LayoutModel",
      "state": {}
     },
     "9637e829aa5045239527f7af4330174f": {
      "model_module": "@jupyter-widgets/base",
      "model_module_version": "1.2.0",
      "model_name": "LayoutModel",
      "state": {}
     },
     "968014ecbd0a4a3a97269c198365ddef": {
      "model_module": "@jupyter-widgets/controls",
      "model_module_version": "1.5.0",
      "model_name": "DescriptionStyleModel",
      "state": {
       "description_width": ""
      }
     },
     "970e485f997442f1881761aa7393a39b": {
      "model_module": "@jupyter-widgets/base",
      "model_module_version": "1.2.0",
      "model_name": "LayoutModel",
      "state": {
       "height": "28px",
       "min_height": "28px",
       "min_width": "200px",
       "width": "200px"
      }
     },
     "972d75596ac84b5488fd8fe0a0b384fa": {
      "model_module": "@jupyter-widgets/base",
      "model_module_version": "1.2.0",
      "model_name": "LayoutModel",
      "state": {
       "width": "608px"
      }
     },
     "97b5326857a24517b5ffb4844aa2762b": {
      "model_module": "@jupyter-widgets/controls",
      "model_module_version": "1.5.0",
      "model_name": "DescriptionStyleModel",
      "state": {
       "description_width": ""
      }
     },
     "9809fc42b7ad4cc1bea8b4185d2d0e13": {
      "model_module": "@jupyter-widgets/controls",
      "model_module_version": "1.5.0",
      "model_name": "ButtonStyleModel",
      "state": {}
     },
     "98228912829d4d1abaa3de5210aa11e7": {
      "model_module": "@jupyter-widgets/controls",
      "model_module_version": "1.5.0",
      "model_name": "VBoxModel",
      "state": {
       "children": [
        "IPY_MODEL_fc5473c5889747119a943e046fbc906a",
        "IPY_MODEL_129b4d36bce649f5846382bac8308697",
        "IPY_MODEL_41f76cbf69d54660ac11b97a6bdbc2e4",
        "IPY_MODEL_e2bcf154f7084683887a12ba1c346f22"
       ],
       "layout": "IPY_MODEL_0eb0796157944e73b83b5683be9722ce"
      }
     },
     "98dc097064ab4985aad3e884b730a862": {
      "model_module": "@jupyter-widgets/controls",
      "model_module_version": "1.5.0",
      "model_name": "VBoxModel",
      "state": {
       "children": [
        "IPY_MODEL_80b206c31bdd486ea84633b46598e470",
        "IPY_MODEL_948b1c2696984922bcf7d80e74efe3fb",
        "IPY_MODEL_c8e4a252779c414ba6c6fb3c9a9905e9"
       ],
       "layout": "IPY_MODEL_6401407e30ad4392a182e8c0134f3b6e"
      }
     },
     "992106f6eb904e93b925347fd8a80f3f": {
      "model_module": "@jupyter-widgets/controls",
      "model_module_version": "1.5.0",
      "model_name": "DescriptionStyleModel",
      "state": {
       "description_width": "initial"
      }
     },
     "996354840c8849d49a5f8baa6058269a": {
      "model_module": "@jupyter-widgets/base",
      "model_module_version": "1.2.0",
      "model_name": "LayoutModel",
      "state": {}
     },
     "997b888a42b14283ab92844da56a9fe8": {
      "model_module": "@jupyter-widgets/controls",
      "model_module_version": "1.5.0",
      "model_name": "DescriptionStyleModel",
      "state": {
       "description_width": ""
      }
     },
     "999b73f2aac14d659342da33ac1a5ca5": {
      "model_module": "@jupyter-widgets/base",
      "model_module_version": "1.2.0",
      "model_name": "LayoutModel",
      "state": {
       "min_width": "200px",
       "width": "200px"
      }
     },
     "99aa6436f00d4f739c8157c679c03d92": {
      "model_module": "@jupyter-widgets/controls",
      "model_module_version": "1.5.0",
      "model_name": "TextModel",
      "state": {
       "description": "RA",
       "layout": "IPY_MODEL_ee9a1877726e4698a1d8b7890faf9c8d",
       "style": "IPY_MODEL_91cd720864a64e6e9416f8eb930ca580",
       "value": "00h42m44.2992s"
      }
     },
     "99b0cc2b7d964bb7aaacbfe844c53321": {
      "model_module": "@jupyter-widgets/base",
      "model_module_version": "1.2.0",
      "model_name": "LayoutModel",
      "state": {}
     },
     "9a59f20cddee4ed5b29e15203706f6af": {
      "model_module": "@jupyter-widgets/base",
      "model_module_version": "1.2.0",
      "model_name": "LayoutModel",
      "state": {}
     },
     "9af6ff41638c405490703f653311d595": {
      "model_module": "@jupyter-widgets/controls",
      "model_module_version": "1.5.0",
      "model_name": "CheckboxModel",
      "state": {
       "description": "m012",
       "disabled": false,
       "indent": false,
       "layout": "IPY_MODEL_9b6eb5aad51c42b2b1eef2979897e076",
       "style": "IPY_MODEL_2f69dcdb06604da6a19ce9f56df6e512",
       "value": true
      }
     },
     "9b6eb5aad51c42b2b1eef2979897e076": {
      "model_module": "@jupyter-widgets/base",
      "model_module_version": "1.2.0",
      "model_name": "LayoutModel",
      "state": {}
     },
     "9b7ab39956b24dc1aa198db484b94d4c": {
      "model_module": "@jupyter-widgets/base",
      "model_module_version": "1.2.0",
      "model_name": "LayoutModel",
      "state": {
       "height": "28px",
       "min_height": "28px",
       "min_width": "200px",
       "width": "200px"
      }
     },
     "9c73a4fd61844f49b7fcd063703551e6": {
      "model_module": "@jupyter-widgets/controls",
      "model_module_version": "1.5.0",
      "model_name": "DescriptionStyleModel",
      "state": {
       "description_width": ""
      }
     },
     "9d2922ac03cf4daf81219344623e4a48": {
      "model_module": "@jupyter-widgets/controls",
      "model_module_version": "1.5.0",
      "model_name": "HBoxModel",
      "state": {
       "children": [
        "IPY_MODEL_e7e0ff6040d44209acf4dbcfb241fb98",
        "IPY_MODEL_64a5cafdbd1140feb9808e30ae080766",
        "IPY_MODEL_8347ecdf92454374a7e381f1d2868e92"
       ],
       "layout": "IPY_MODEL_5dc41e1275174e8c9a89865e337013c2"
      }
     },
     "9d56dc95e22749d5a87ffcf11bbd43d2": {
      "model_module": "@jupyter-widgets/controls",
      "model_module_version": "1.5.0",
      "model_name": "DescriptionStyleModel",
      "state": {
       "description_width": ""
      }
     },
     "9d62a221fefe4773b66cb9be84ff640b": {
      "model_module": "@jupyter-widgets/controls",
      "model_module_version": "1.5.0",
      "model_name": "CheckboxModel",
      "state": {
       "description": "m045",
       "disabled": false,
       "indent": false,
       "layout": "IPY_MODEL_c1959884f28b4a788af94e985ef234f3",
       "style": "IPY_MODEL_04f691eb955445e9a57ba0e904120356",
       "value": true
      }
     },
     "9d799d364ad4431d9078e22e2bb7cd08": {
      "model_module": "@jupyter-widgets/base",
      "model_module_version": "1.2.0",
      "model_name": "LayoutModel",
      "state": {
       "height": "28px",
       "min_height": "28px",
       "min_width": "200px",
       "width": "200px"
      }
     },
     "9dcd15fecdfd4e48a889ec44c9760d40": {
      "model_module": "@jupyter-widgets/controls",
      "model_module_version": "1.5.0",
      "model_name": "ButtonStyleModel",
      "state": {}
     },
     "9ee73dcf43904833a5bdb7b371855d44": {
      "model_module": "@jupyter-widgets/controls",
      "model_module_version": "1.5.0",
      "model_name": "TextModel",
      "state": {
       "description": "Dec",
       "layout": "IPY_MODEL_bcfaa9bfd6a04943b980bff620788e52",
       "style": "IPY_MODEL_f38ff24ab3014557a9638bf479ca4780",
       "value": "+41d16m09.012s"
      }
     },
     "9f0882b9c2ad47f4abf642ba5b18b37c": {
      "model_module": "@jupyter-widgets/controls",
      "model_module_version": "1.5.0",
      "model_name": "CheckboxModel",
      "state": {
       "description": "m022",
       "disabled": false,
       "indent": false,
       "layout": "IPY_MODEL_63f4c9b76d0442b98f55a105db335025",
       "style": "IPY_MODEL_4168c42026c646b986349a831a95529f",
       "value": true
      }
     },
     "9f50f9a5c2884a13bc84942289bc93e0": {
      "model_module": "@jupyter-widgets/base",
      "model_module_version": "1.2.0",
      "model_name": "LayoutModel",
      "state": {}
     },
     "9fbe294fb1ea4861bf8454e95b4548e8": {
      "model_module": "@jupyter-widgets/controls",
      "model_module_version": "1.5.0",
      "model_name": "ButtonModel",
      "state": {
       "description": "19h39m25.0264s",
       "disabled": true,
       "layout": "IPY_MODEL_7aa63e9987084b85a396e520b6defb72",
       "style": "IPY_MODEL_b691e0651dd34934947dcf9907e59e0d"
      }
     },
     "a0304591c6ee47da82966b86f364bf72": {
      "model_module": "@jupyter-widgets/controls",
      "model_module_version": "1.5.0",
      "model_name": "DescriptionStyleModel",
      "state": {
       "description_width": ""
      }
     },
     "a064c149b1c3461ea92d0c133ddecf8b": {
      "model_module": "@jupyter-widgets/controls",
      "model_module_version": "1.5.0",
      "model_name": "ButtonModel",
      "state": {
       "description": "Enter celestial target coordinates",
       "disabled": true,
       "layout": "IPY_MODEL_baf412103fe6454cba2ce6d2c3e2b11b",
       "style": "IPY_MODEL_7b5553ff749c471e8cb5b763ef4d71b3"
      }
     },
     "a0ed65067d40438ca14ec63e945c0e97": {
      "model_module": "@jupyter-widgets/controls",
      "model_module_version": "1.5.0",
      "model_name": "DescriptionStyleModel",
      "state": {
       "description_width": ""
      }
     },
     "a115a4ee1faf4062bda62216a9306b69": {
      "model_module": "@jupyter-widgets/base",
      "model_module_version": "1.2.0",
      "model_name": "LayoutModel",
      "state": {
       "height": "28px",
       "min_height": "28px",
       "min_width": "200px",
       "width": "200px"
      }
     },
     "a1f5710ef278456b98fc68f057899d9c": {
      "model_module": "@jupyter-widgets/controls",
      "model_module_version": "1.5.0",
      "model_name": "TextModel",
      "state": {
       "description": "# timeslots",
       "layout": "IPY_MODEL_ade295833cac4fb994b4373a4939821e",
       "style": "IPY_MODEL_e470b6b176084e1fb9a6ef9cb0537349",
       "value": "50"
      }
     },
     "a229c2ca1528483d9d46df20e5e32471": {
      "model_module": "@jupyter-widgets/controls",
      "model_module_version": "1.5.0",
      "model_name": "ButtonModel",
      "state": {
       "description": "J1939-6342",
       "disabled": true,
       "layout": "IPY_MODEL_a115a4ee1faf4062bda62216a9306b69",
       "style": "IPY_MODEL_05e0812b4d724f1fb90b331f90dadb0a"
      }
     },
     "a4096703e59249eb90de520e70693a9c": {
      "model_module": "@jupyter-widgets/controls",
      "model_module_version": "1.5.0",
      "model_name": "CheckboxModel",
      "state": {
       "description": "m007",
       "disabled": false,
       "indent": false,
       "layout": "IPY_MODEL_c02760203ab0434cbaedf7b317fe2446",
       "style": "IPY_MODEL_062594f7c7ec4cc7875b4fb885ca0799",
       "value": true
      }
     },
     "a426df9b0ddc47c78d4031ef5efc891c": {
      "model_module": "@jupyter-widgets/base",
      "model_module_version": "1.2.0",
      "model_name": "LayoutModel",
      "state": {}
     },
     "a4d10477f6424b9f8575d6d439b08daa": {
      "model_module": "@jupyter-widgets/controls",
      "model_module_version": "1.5.0",
      "model_name": "CheckboxModel",
      "state": {
       "description": "m057",
       "disabled": false,
       "indent": false,
       "layout": "IPY_MODEL_e11c854a32e446d498d917011ddd3690",
       "style": "IPY_MODEL_f5cb9319028449e5b3b4c5081908d24c",
       "value": true
      }
     },
     "a530a7a8c4d64917884f320c2fba5369": {
      "model_module": "@jupyter-widgets/controls",
      "model_module_version": "1.5.0",
      "model_name": "CheckboxModel",
      "state": {
       "description": "m008",
       "disabled": false,
       "indent": false,
       "layout": "IPY_MODEL_85dd12aacde44ea8b80f97ecde699487",
       "style": "IPY_MODEL_c13d0bbfc4c4427aa89ceca9ea503d6c",
       "value": true
      }
     },
     "a54b79a508514baa92c88b1ac2a47dc3": {
      "model_module": "@jupyter-widgets/controls",
      "model_module_version": "1.5.0",
      "model_name": "ButtonModel",
      "state": {
       "description": "Enter celestial target coordinates",
       "disabled": true,
       "layout": "IPY_MODEL_d70f266ac3974db5a98879167860c87f",
       "style": "IPY_MODEL_e7050016a7cd46e5944f5a6511b02482"
      }
     },
     "a5c547e0911a44c8b4d6b16afae330ca": {
      "model_module": "@jupyter-widgets/controls",
      "model_module_version": "1.5.0",
      "model_name": "ButtonModel",
      "state": {
       "description": "YYYY-MM-DD HH:mm:SS.f",
       "disabled": true,
       "layout": "IPY_MODEL_f29c70105c084e1a8cb8349c0c936acd",
       "style": "IPY_MODEL_10c2bf416e134a2eb91b83a89aac9700"
      }
     },
     "a5fc42d4e76b48c3940ec4dcb0dbffa3": {
      "model_module": "@jupyter-widgets/controls",
      "model_module_version": "1.5.0",
      "model_name": "CheckboxModel",
      "state": {
       "description": "m023",
       "disabled": false,
       "indent": false,
       "layout": "IPY_MODEL_662842f5a0a042f0b64a9a90333d6806",
       "style": "IPY_MODEL_6f8c657f90584be5ad3b68f6def92a4e",
       "value": true
      }
     },
     "a655651465e14a389c3c7ae3e8c650bb": {
      "model_module": "@jupyter-widgets/controls",
      "model_module_version": "1.5.0",
      "model_name": "DescriptionStyleModel",
      "state": {
       "description_width": ""
      }
     },
     "a678037a40c14245a58c8f39866d136f": {
      "model_module": "@jupyter-widgets/base",
      "model_module_version": "1.2.0",
      "model_name": "LayoutModel",
      "state": {}
     },
     "a6a07a7ea1204f7e97ee93c6675e8848": {
      "model_module": "@jupyter-widgets/controls",
      "model_module_version": "1.5.0",
      "model_name": "DescriptionStyleModel",
      "state": {
       "description_width": ""
      }
     },
     "a74e0eee66bf44e0aae55ac9fd0f5134": {
      "model_module": "@jupyter-widgets/controls",
      "model_module_version": "1.5.0",
      "model_name": "DescriptionStyleModel",
      "state": {
       "description_width": ""
      }
     },
     "a7746e70fd854400bf73046c19711530": {
      "model_module": "@jupyter-widgets/controls",
      "model_module_version": "1.5.0",
      "model_name": "TextModel",
      "state": {
       "description": "Dec",
       "layout": "IPY_MODEL_b05a4bbee7c042ee9e5bee592f0da5fc",
       "style": "IPY_MODEL_992106f6eb904e93b925347fd8a80f3f",
       "value": "+41d16m09.012s"
      }
     },
     "a7ceaec6f1954f4a86a44b954b750438": {
      "model_module": "@jupyter-widgets/base",
      "model_module_version": "1.2.0",
      "model_name": "LayoutModel",
      "state": {
       "height": "28px",
       "min_height": "28px",
       "min_width": "200px",
       "width": "200px"
      }
     },
     "a7da34cd986c414abcc42ff7a2b05110": {
      "model_module": "@jupyter-widgets/controls",
      "model_module_version": "1.5.0",
      "model_name": "CheckboxModel",
      "state": {
       "description": "m035",
       "disabled": false,
       "indent": false,
       "layout": "IPY_MODEL_fa10d74a37004f7db7dbb37657f50885",
       "style": "IPY_MODEL_79b89234f369443aadce4f080651270d",
       "value": true
      }
     },
     "a887ca2d4bad45939a31d41170221b61": {
      "model_module": "@jupyter-widgets/controls",
      "model_module_version": "1.5.0",
      "model_name": "ButtonModel",
      "state": {
       "description": "Add target",
       "layout": "IPY_MODEL_c314bf0b6f3546ef806cda21ad754389",
       "style": "IPY_MODEL_465edb5cd751497fbccdb5079fcf5f5e"
      }
     },
     "a88d8436ec114cfe98685684fdd69deb": {
      "model_module": "@jupyter-widgets/controls",
      "model_module_version": "1.5.0",
      "model_name": "ButtonModel",
      "state": {
       "description": "19h39m25.0264s",
       "disabled": true,
       "layout": "IPY_MODEL_7946cccf29bc43a5a6dede5b931de696",
       "style": "IPY_MODEL_c40076388c2f4e40af1baee2eaac484b"
      }
     },
     "a8c8b47e5d87447b9f15cec5e1f2d11c": {
      "model_module": "@jupyter-widgets/controls",
      "model_module_version": "1.5.0",
      "model_name": "DescriptionStyleModel",
      "state": {
       "description_width": ""
      }
     },
     "a8ffb05bd2244e09b7712b4bf82ac9fe": {
      "model_module": "@jupyter-widgets/controls",
      "model_module_version": "1.5.0",
      "model_name": "DescriptionStyleModel",
      "state": {
       "description_width": ""
      }
     },
     "a9c50beed80a43adb194fbc5053b054b": {
      "model_module": "@jupyter-widgets/controls",
      "model_module_version": "1.5.0",
      "model_name": "TextModel",
      "state": {
       "description": "Name",
       "layout": "IPY_MODEL_687d805970d24ff4ac86d292df2dde46",
       "style": "IPY_MODEL_22d1ff3ebf974555b025ccb08a868cf8",
       "value": "Test"
      }
     },
     "aa8bbf148fb549f398c936946271b09a": {
      "model_module": "@jupyter-widgets/base",
      "model_module_version": "1.2.0",
      "model_name": "LayoutModel",
      "state": {}
     },
     "aad6f402ca004e618dd64003e8f04305": {
      "model_module": "@jupyter-widgets/base",
      "model_module_version": "1.2.0",
      "model_name": "LayoutModel",
      "state": {}
     },
     "abd1f40cade542e2bc426415bb485dd7": {
      "model_module": "@jupyter-widgets/controls",
      "model_module_version": "1.5.0",
      "model_name": "CheckboxModel",
      "state": {
       "description": "m032",
       "disabled": false,
       "indent": false,
       "layout": "IPY_MODEL_f583f89badc546fdb86e294698f85640",
       "style": "IPY_MODEL_251c193f4a0847f18a726a19cf59d39a",
       "value": true
      }
     },
     "abda3d62723548b9bd37cf1537e1c4c2": {
      "model_module": "@jupyter-widgets/controls",
      "model_module_version": "1.5.0",
      "model_name": "HBoxModel",
      "state": {
       "children": [
        "IPY_MODEL_1082c48ff4f84fc6a33df768b55f940b",
        "IPY_MODEL_be026e9c81d840799d4114c1e1a8986e",
        "IPY_MODEL_03849d58d4f94e76939c1467e45f48a3"
       ],
       "layout": "IPY_MODEL_3005f68aeecf4bb8b4a0a1b0a653a0c5"
      }
     },
     "abfb7df64c6f4fd6ad1ed7ebdcef87cd": {
      "model_module": "@jupyter-widgets/base",
      "model_module_version": "1.2.0",
      "model_name": "LayoutModel",
      "state": {}
     },
     "accf986086fe4eb8bd530e2d559c8657": {
      "model_module": "@jupyter-widgets/controls",
      "model_module_version": "1.5.0",
      "model_name": "DescriptionStyleModel",
      "state": {
       "description_width": ""
      }
     },
     "acf5e1c224b547d3b5a2774c5256f564": {
      "model_module": "@jupyter-widgets/controls",
      "model_module_version": "1.5.0",
      "model_name": "CheckboxModel",
      "state": {
       "description": "m056",
       "disabled": false,
       "indent": false,
       "layout": "IPY_MODEL_fdb3637529b04c9e93507e1074555745",
       "style": "IPY_MODEL_df787e27b891431cb4846fed97cffbe6",
       "value": true
      }
     },
     "ad0c73706f844da38c83e0ba08040247": {
      "model_module": "@jupyter-widgets/controls",
      "model_module_version": "1.5.0",
      "model_name": "DescriptionStyleModel",
      "state": {
       "description_width": ""
      }
     },
     "ad9d72cb37904de2b9d8672e947d140d": {
      "model_module": "@jupyter-widgets/controls",
      "model_module_version": "1.5.0",
      "model_name": "ButtonStyleModel",
      "state": {}
     },
     "ad9f9974075149dd8eaa2ad06d2b9905": {
      "model_module": "@jupyter-widgets/controls",
      "model_module_version": "1.5.0",
      "model_name": "DescriptionStyleModel",
      "state": {
       "description_width": ""
      }
     },
     "ade295833cac4fb994b4373a4939821e": {
      "model_module": "@jupyter-widgets/base",
      "model_module_version": "1.2.0",
      "model_name": "LayoutModel",
      "state": {
       "min_width": "200px",
       "width": "200px"
      }
     },
     "aea5749c454e4cf9bfe60a3af28d1162": {
      "model_module": "@jupyter-widgets/controls",
      "model_module_version": "1.5.0",
      "model_name": "CheckboxModel",
      "state": {
       "description": "m009",
       "disabled": false,
       "indent": false,
       "layout": "IPY_MODEL_06147d3f213d4922912fcb5a0afd5a10",
       "style": "IPY_MODEL_bbc63674db8343f7a0a66ff2f33ab0a2",
       "value": true
      }
     },
     "af3e634c49254dfdb3cb8ede7dbfa492": {
      "model_module": "@jupyter-widgets/controls",
      "model_module_version": "1.5.0",
      "model_name": "CheckboxModel",
      "state": {
       "description": "m010",
       "disabled": false,
       "indent": false,
       "layout": "IPY_MODEL_ed28c0cf4891425493a56e750ea52ea1",
       "style": "IPY_MODEL_de740ecc4e1d47b8a7cd54f76cef9993",
       "value": true
      }
     },
     "af47507134d1484bb17f639825fa5c77": {
      "model_module": "@jupyter-widgets/controls",
      "model_module_version": "1.5.0",
      "model_name": "DescriptionStyleModel",
      "state": {
       "description_width": ""
      }
     },
     "aff6f67883af4914b3060e7e4f507392": {
      "model_module": "@jupyter-widgets/controls",
      "model_module_version": "1.5.0",
      "model_name": "TextModel",
      "state": {
       "description": "Start time",
       "layout": "IPY_MODEL_0ca4c87db781458d96153cfc721cc886",
       "style": "IPY_MODEL_f528dcc6e2624e81a4fe17d7dce488dc",
       "value": "2013-6-21 21:00:00"
      }
     },
     "b05a4bbee7c042ee9e5bee592f0da5fc": {
      "model_module": "@jupyter-widgets/base",
      "model_module_version": "1.2.0",
      "model_name": "LayoutModel",
      "state": {
       "min_width": "200px",
       "width": "200px"
      }
     },
     "b08ddd0760c84fa6ba326b21dd99b8fc": {
      "model_module": "@jupyter-widgets/base",
      "model_module_version": "1.2.0",
      "model_name": "LayoutModel",
      "state": {}
     },
     "b09ea3bae31a48d588de0e74562db492": {
      "model_module": "@jupyter-widgets/controls",
      "model_module_version": "1.5.0",
      "model_name": "ButtonStyleModel",
      "state": {}
     },
     "b0e4333b379b45bdb2c09abfcc2e08f9": {
      "model_module": "@jupyter-widgets/base",
      "model_module_version": "1.2.0",
      "model_name": "LayoutModel",
      "state": {}
     },
     "b121acadf592467eafca6526aeb27622": {
      "model_module": "@jupyter-widgets/controls",
      "model_module_version": "1.5.0",
      "model_name": "CheckboxModel",
      "state": {
       "description": "m049",
       "disabled": false,
       "indent": false,
       "layout": "IPY_MODEL_8eb058b845c2467d9ae4fba66997c337",
       "style": "IPY_MODEL_db06544c22b34b5d8e7663dfc4425963",
       "value": true
      }
     },
     "b24b41a48a5f49bcabce9429d7fe07a3": {
      "model_module": "@jupyter-widgets/controls",
      "model_module_version": "1.5.0",
      "model_name": "DescriptionStyleModel",
      "state": {
       "description_width": ""
      }
     },
     "b27e8c5670534532b1f663265b3fec09": {
      "model_module": "@jupyter-widgets/controls",
      "model_module_version": "1.5.0",
      "model_name": "ButtonModel",
      "state": {
       "description": "Enter celestial target coordinates",
       "disabled": true,
       "layout": "IPY_MODEL_f7ae302127414096a9cf4b571a3733ff",
       "style": "IPY_MODEL_f30abe87896143c4a241768ec5678354"
      }
     },
     "b3707ed3d22c4a829ad51cb5d70d7876": {
      "model_module": "@jupyter-widgets/controls",
      "model_module_version": "1.5.0",
      "model_name": "CheckboxModel",
      "state": {
       "description": "m034",
       "disabled": false,
       "indent": false,
       "layout": "IPY_MODEL_49830c1a31d042a0b626f5eab327edf4",
       "style": "IPY_MODEL_71753b7d6a6244b4b7e5ab8c0a260eed",
       "value": true
      }
     },
     "b3f04cf992a84082b2507d6fd94a5522": {
      "model_module": "@jupyter-widgets/controls",
      "model_module_version": "1.5.0",
      "model_name": "DescriptionStyleModel",
      "state": {
       "description_width": "initial"
      }
     },
     "b4962f64a029465b9329e2484e5662ab": {
      "model_module": "@jupyter-widgets/controls",
      "model_module_version": "1.5.0",
      "model_name": "DescriptionStyleModel",
      "state": {
       "description_width": ""
      }
     },
     "b4f1041048394614ba67458f2021dbb0": {
      "model_module": "@jupyter-widgets/base",
      "model_module_version": "1.2.0",
      "model_name": "LayoutModel",
      "state": {}
     },
     "b52a94a175b143e481070576eb291558": {
      "model_module": "@jupyter-widgets/controls",
      "model_module_version": "1.5.0",
      "model_name": "ButtonModel",
      "state": {
       "description": "J1939-6342",
       "disabled": true,
       "layout": "IPY_MODEL_c58c83930225460bbb8a718934294391",
       "style": "IPY_MODEL_7e85ecfb7abf44ba9c93db49a19cbde2"
      }
     },
     "b5c86b58010c434e9b676c798e73c49d": {
      "model_module": "@jupyter-widgets/controls",
      "model_module_version": "1.5.0",
      "model_name": "CheckboxModel",
      "state": {
       "description": "m048",
       "disabled": false,
       "indent": false,
       "layout": "IPY_MODEL_62ce93a583cc4eefa37c49ebd989cc84",
       "style": "IPY_MODEL_b8aab03d64ab458e965a7ff837f61681",
       "value": true
      }
     },
     "b691e0651dd34934947dcf9907e59e0d": {
      "model_module": "@jupyter-widgets/controls",
      "model_module_version": "1.5.0",
      "model_name": "ButtonStyleModel",
      "state": {}
     },
     "b77bc54c2b4a47eab150d0b2dd356047": {
      "model_module": "@jupyter-widgets/controls",
      "model_module_version": "1.5.0",
      "model_name": "ButtonModel",
      "state": {
       "description": "Enter celestial target coordinates",
       "disabled": true,
       "layout": "IPY_MODEL_972d75596ac84b5488fd8fe0a0b384fa",
       "style": "IPY_MODEL_060844b7a9884520baf99ea9fa24f826"
      }
     },
     "b8aab03d64ab458e965a7ff837f61681": {
      "model_module": "@jupyter-widgets/controls",
      "model_module_version": "1.5.0",
      "model_name": "DescriptionStyleModel",
      "state": {
       "description_width": ""
      }
     },
     "b8d8880319884b32b9b02eaec1e93e30": {
      "model_module": "@jupyter-widgets/controls",
      "model_module_version": "1.5.0",
      "model_name": "TextModel",
      "state": {
       "description": "Dec",
       "layout": "IPY_MODEL_7ef85298c39e47ffb5b3065048557b99",
       "style": "IPY_MODEL_d500bc60b96d4c7c9c95cb24590bd5af",
       "value": "+41d16m09.012s"
      }
     },
     "ba18141dd8d84d0b99fe9c7945ec5878": {
      "model_module": "@jupyter-widgets/controls",
      "model_module_version": "1.5.0",
      "model_name": "ButtonStyleModel",
      "state": {}
     },
     "bad32d8c901744be9813a6e2b8194759": {
      "model_module": "@jupyter-widgets/base",
      "model_module_version": "1.2.0",
      "model_name": "LayoutModel",
      "state": {
       "width": "608px"
      }
     },
     "baf412103fe6454cba2ce6d2c3e2b11b": {
      "model_module": "@jupyter-widgets/base",
      "model_module_version": "1.2.0",
      "model_name": "LayoutModel",
      "state": {
       "width": "608px"
      }
     },
     "bb23184775bb4948bdb2d5d02f32ebba": {
      "model_module": "@jupyter-widgets/controls",
      "model_module_version": "1.5.0",
      "model_name": "DescriptionStyleModel",
      "state": {
       "description_width": ""
      }
     },
     "bb520ae4fd4646efa822ca600f8b6c9d": {
      "model_module": "@jupyter-widgets/base",
      "model_module_version": "1.2.0",
      "model_name": "LayoutModel",
      "state": {}
     },
     "bb8cabfcdc624a58ab61b5d86e794408": {
      "model_module": "@jupyter-widgets/controls",
      "model_module_version": "1.5.0",
      "model_name": "CheckboxModel",
      "state": {
       "description": "m058",
       "disabled": false,
       "indent": false,
       "layout": "IPY_MODEL_cb38e8a7fa504000a12a16a7690c6965",
       "style": "IPY_MODEL_997b888a42b14283ab92844da56a9fe8",
       "value": true
      }
     },
     "bbc63674db8343f7a0a66ff2f33ab0a2": {
      "model_module": "@jupyter-widgets/controls",
      "model_module_version": "1.5.0",
      "model_name": "DescriptionStyleModel",
      "state": {
       "description_width": ""
      }
     },
     "bbcb0801a8f74ba6a4a5245205d37757": {
      "model_module": "@jupyter-widgets/controls",
      "model_module_version": "1.5.0",
      "model_name": "TextModel",
      "state": {
       "description": "Dec",
       "layout": "IPY_MODEL_999b73f2aac14d659342da33ac1a5ca5",
       "style": "IPY_MODEL_43d8220cf696460e9fda44fc4fea30d1",
       "value": "+41d16m09.012s"
      }
     },
     "bc2e6291d5b8482a9b8cff4eef8a5385": {
      "model_module": "@jupyter-widgets/base",
      "model_module_version": "1.2.0",
      "model_name": "LayoutModel",
      "state": {
       "height": "28px",
       "min_height": "28px",
       "min_width": "200px",
       "width": "200px"
      }
     },
     "bcfaa9bfd6a04943b980bff620788e52": {
      "model_module": "@jupyter-widgets/base",
      "model_module_version": "1.2.0",
      "model_name": "LayoutModel",
      "state": {
       "min_width": "200px",
       "width": "200px"
      }
     },
     "bd64a3299ced448bb272e62b274673d5": {
      "model_module": "@jupyter-widgets/controls",
      "model_module_version": "1.5.0",
      "model_name": "DescriptionStyleModel",
      "state": {
       "description_width": ""
      }
     },
     "be026e9c81d840799d4114c1e1a8986e": {
      "model_module": "@jupyter-widgets/controls",
      "model_module_version": "1.5.0",
      "model_name": "ButtonModel",
      "state": {
       "description": "19h39m25.0264s",
       "disabled": true,
       "layout": "IPY_MODEL_e896731ed4c940ab90cc484edbe557e0",
       "style": "IPY_MODEL_3d69c0c16c194144bca72348c8d73e35"
      }
     },
     "be22b92f83bd4f4d994782d8625a062e": {
      "model_module": "@jupyter-widgets/base",
      "model_module_version": "1.2.0",
      "model_name": "LayoutModel",
      "state": {
       "width": "608px"
      }
     },
     "be5d618691bb44fc988559eeb3be0efd": {
      "model_module": "@jupyter-widgets/base",
      "model_module_version": "1.2.0",
      "model_name": "LayoutModel",
      "state": {
       "width": "608px"
      }
     },
     "be6057e728804065958fe85ae2723229": {
      "model_module": "@jupyter-widgets/base",
      "model_module_version": "1.2.0",
      "model_name": "LayoutModel",
      "state": {}
     },
     "be653c48882646a6b556887da5d79399": {
      "model_module": "@jupyter-widgets/controls",
      "model_module_version": "1.5.0",
      "model_name": "DescriptionStyleModel",
      "state": {
       "description_width": ""
      }
     },
     "be84efa2f0e34be59eb1287b47ef1033": {
      "model_module": "@jupyter-widgets/controls",
      "model_module_version": "1.5.0",
      "model_name": "ButtonStyleModel",
      "state": {}
     },
     "bf56db0fc78040ee9351eabd03a8bd80": {
      "model_module": "@jupyter-widgets/controls",
      "model_module_version": "1.5.0",
      "model_name": "CheckboxModel",
      "state": {
       "description": "m032",
       "disabled": false,
       "indent": false,
       "layout": "IPY_MODEL_7792f96689e844a295b001a63c5e7a45",
       "style": "IPY_MODEL_365f0467ee21410b9ed942d23eeeb47e",
       "value": true
      }
     },
     "c02760203ab0434cbaedf7b317fe2446": {
      "model_module": "@jupyter-widgets/base",
      "model_module_version": "1.2.0",
      "model_name": "LayoutModel",
      "state": {}
     },
     "c03a464968ea4333bf66a1548e2f62e6": {
      "model_module": "@jupyter-widgets/base",
      "model_module_version": "1.2.0",
      "model_name": "LayoutModel",
      "state": {}
     },
     "c03ddb714f064aa5be9b352c507bfab9": {
      "model_module": "@jupyter-widgets/controls",
      "model_module_version": "1.5.0",
      "model_name": "DescriptionStyleModel",
      "state": {
       "description_width": ""
      }
     },
     "c080fd81fa6f4e2897ef37f9b262b4cb": {
      "model_module": "@jupyter-widgets/controls",
      "model_module_version": "1.5.0",
      "model_name": "CheckboxModel",
      "state": {
       "description": "m038",
       "disabled": false,
       "indent": false,
       "layout": "IPY_MODEL_8aa3f94e64154b80a7936b334877ec20",
       "style": "IPY_MODEL_a6a07a7ea1204f7e97ee93c6675e8848",
       "value": true
      }
     },
     "c13d0bbfc4c4427aa89ceca9ea503d6c": {
      "model_module": "@jupyter-widgets/controls",
      "model_module_version": "1.5.0",
      "model_name": "DescriptionStyleModel",
      "state": {
       "description_width": ""
      }
     },
     "c163d230d473424eb7ec47fc39d8a0a2": {
      "model_module": "@jupyter-widgets/controls",
      "model_module_version": "1.5.0",
      "model_name": "CheckboxModel",
      "state": {
       "description": "m027",
       "disabled": false,
       "indent": false,
       "layout": "IPY_MODEL_d22b478aec154be7aad9c3a2642c9fdc",
       "style": "IPY_MODEL_7b0f7cd15cd949ba991ad754237b909b",
       "value": true
      }
     },
     "c1959884f28b4a788af94e985ef234f3": {
      "model_module": "@jupyter-widgets/base",
      "model_module_version": "1.2.0",
      "model_name": "LayoutModel",
      "state": {}
     },
     "c314bf0b6f3546ef806cda21ad754389": {
      "model_module": "@jupyter-widgets/base",
      "model_module_version": "1.2.0",
      "model_name": "LayoutModel",
      "state": {
       "width": "auto"
      }
     },
     "c3489868e3c44ba38135f949e98d6372": {
      "model_module": "@jupyter-widgets/base",
      "model_module_version": "1.2.0",
      "model_name": "LayoutModel",
      "state": {}
     },
     "c38f3c53c0954975b428976dbe33194a": {
      "model_module": "@jupyter-widgets/controls",
      "model_module_version": "1.5.0",
      "model_name": "DescriptionStyleModel",
      "state": {
       "description_width": "initial"
      }
     },
     "c3c2131fd69e4717918b926d5f7caf06": {
      "model_module": "@jupyter-widgets/base",
      "model_module_version": "1.2.0",
      "model_name": "LayoutModel",
      "state": {
       "height": "28px",
       "min_height": "28px",
       "min_width": "200px",
       "width": "200px"
      }
     },
     "c40076388c2f4e40af1baee2eaac484b": {
      "model_module": "@jupyter-widgets/controls",
      "model_module_version": "1.5.0",
      "model_name": "ButtonStyleModel",
      "state": {}
     },
     "c4b12962dd704ca9bd19e4af316c04f2": {
      "model_module": "@jupyter-widgets/controls",
      "model_module_version": "1.5.0",
      "model_name": "VBoxModel",
      "state": {
       "children": [
        "IPY_MODEL_7209f10cd51e4aa696403b275afd1e0b",
        "IPY_MODEL_1243a430540548139ea38193c625aa39",
        "IPY_MODEL_1f6c57d760a3478d9de916b182a8d23e",
        "IPY_MODEL_7e02ea9f462a4b2ab52f90b1502e32e8"
       ],
       "layout": "IPY_MODEL_49f4afd0c81744259e5697cbfa42ba15"
      }
     },
     "c5072ceb73834c55aeed0ae25d9350a9": {
      "model_module": "@jupyter-widgets/base",
      "model_module_version": "1.2.0",
      "model_name": "LayoutModel",
      "state": {}
     },
     "c50d98ae375e4899add9a2452e001062": {
      "model_module": "@jupyter-widgets/controls",
      "model_module_version": "1.5.0",
      "model_name": "DescriptionStyleModel",
      "state": {
       "description_width": ""
      }
     },
     "c525d7b2f9bd48889d44f0e30f92da6b": {
      "model_module": "@jupyter-widgets/base",
      "model_module_version": "1.2.0",
      "model_name": "LayoutModel",
      "state": {
       "width": "608px"
      }
     },
     "c545ec767ba94bc1b51fbccabf2b1618": {
      "model_module": "@jupyter-widgets/base",
      "model_module_version": "1.2.0",
      "model_name": "LayoutModel",
      "state": {}
     },
     "c58c83930225460bbb8a718934294391": {
      "model_module": "@jupyter-widgets/base",
      "model_module_version": "1.2.0",
      "model_name": "LayoutModel",
      "state": {
       "height": "28px",
       "min_height": "28px",
       "min_width": "200px",
       "width": "200px"
      }
     },
     "c6251f1fe3494a3a9cce5e304c3c1e1c": {
      "model_module": "@jupyter-widgets/controls",
      "model_module_version": "1.5.0",
      "model_name": "CheckboxModel",
      "state": {
       "description": "m039",
       "disabled": false,
       "indent": false,
       "layout": "IPY_MODEL_059d2aa697cd4852be78f52b5c14c0d8",
       "style": "IPY_MODEL_c03ddb714f064aa5be9b352c507bfab9",
       "value": true
      }
     },
     "c660e0341b764fb299df58912111b22e": {
      "model_module": "@jupyter-widgets/controls",
      "model_module_version": "1.5.0",
      "model_name": "DescriptionStyleModel",
      "state": {
       "description_width": ""
      }
     },
     "c66315361c7a4c81bba391cf1c08f6c7": {
      "model_module": "@jupyter-widgets/base",
      "model_module_version": "1.2.0",
      "model_name": "LayoutModel",
      "state": {
       "min_width": "200px",
       "width": "200px"
      }
     },
     "c6708a95bf424a05ba346ea44d9b1891": {
      "model_module": "@jupyter-widgets/controls",
      "model_module_version": "1.5.0",
      "model_name": "CheckboxModel",
      "state": {
       "description": "m016",
       "disabled": false,
       "indent": false,
       "layout": "IPY_MODEL_d0cf6ff56dda4342ae07053402c23678",
       "style": "IPY_MODEL_b24b41a48a5f49bcabce9429d7fe07a3",
       "value": true
      }
     },
     "c70db5e62fab4c2ba272bcca6af10eb4": {
      "model_module": "@jupyter-widgets/controls",
      "model_module_version": "1.5.0",
      "model_name": "ButtonStyleModel",
      "state": {}
     },
     "c763958875144392ab301a1a2ce5829d": {
      "model_module": "@jupyter-widgets/controls",
      "model_module_version": "1.5.0",
      "model_name": "CheckboxModel",
      "state": {
       "description": "m013",
       "disabled": false,
       "indent": false,
       "layout": "IPY_MODEL_f48c9b432889464aad021d174716cb85",
       "style": "IPY_MODEL_222ade7aa2bd4360baa04c2cd26da787",
       "value": true
      }
     },
     "c76c552166634823ad1d014cd649bfce": {
      "model_module": "@jupyter-widgets/controls",
      "model_module_version": "1.5.0",
      "model_name": "ButtonStyleModel",
      "state": {}
     },
     "c8e4a252779c414ba6c6fb3c9a9905e9": {
      "model_module": "@jupyter-widgets/controls",
      "model_module_version": "1.5.0",
      "model_name": "HBoxModel",
      "state": {
       "children": [
        "IPY_MODEL_00f5a782a19041fcb8114999d6251332",
        "IPY_MODEL_70461503642042f4ab9b3d724f19e630",
        "IPY_MODEL_b8d8880319884b32b9b02eaec1e93e30",
        "IPY_MODEL_a887ca2d4bad45939a31d41170221b61"
       ],
       "layout": "IPY_MODEL_b4f1041048394614ba67458f2021dbb0"
      }
     },
     "caf6cd3aaed340bf92e30063260b0d01": {
      "model_module": "@jupyter-widgets/controls",
      "model_module_version": "1.5.0",
      "model_name": "DescriptionStyleModel",
      "state": {
       "description_width": "initial"
      }
     },
     "cb38e8a7fa504000a12a16a7690c6965": {
      "model_module": "@jupyter-widgets/base",
      "model_module_version": "1.2.0",
      "model_name": "LayoutModel",
      "state": {}
     },
     "cd1622e1ad304cc1909fd326c5ef0cf9": {
      "model_module": "@jupyter-widgets/controls",
      "model_module_version": "1.5.0",
      "model_name": "ButtonStyleModel",
      "state": {}
     },
     "ce8d6df75ff84426b717fa0a87810285": {
      "model_module": "@jupyter-widgets/controls",
      "model_module_version": "1.5.0",
      "model_name": "CheckboxModel",
      "state": {
       "description": "m031",
       "disabled": false,
       "indent": false,
       "layout": "IPY_MODEL_ffa59f8c5f98466f889bafd6ea87a8a1",
       "style": "IPY_MODEL_ffa0198acc87441abb46f67ca3ad70d0",
       "value": true
      }
     },
     "cf8d5100b7d94513a8977145f6d7a781": {
      "model_module": "@jupyter-widgets/controls",
      "model_module_version": "1.5.0",
      "model_name": "ButtonModel",
      "state": {
       "description": "Enter celestial target coordinates",
       "disabled": true,
       "layout": "IPY_MODEL_f3f58f211d0042b8b1a2105e3075fce3",
       "style": "IPY_MODEL_ba18141dd8d84d0b99fe9c7945ec5878"
      }
     },
     "cfa27ce3bcf949c6bfe473f1a3eed6a4": {
      "model_module": "@jupyter-widgets/controls",
      "model_module_version": "1.5.0",
      "model_name": "DescriptionStyleModel",
      "state": {
       "description_width": "initial"
      }
     },
     "d0720ff4e4024f3ea390a3d50f0ec4c3": {
      "model_module": "@jupyter-widgets/controls",
      "model_module_version": "1.5.0",
      "model_name": "CheckboxModel",
      "state": {
       "description": "m023",
       "disabled": false,
       "indent": false,
       "layout": "IPY_MODEL_86f08f9efc1f471e9a56f32d346a9263",
       "style": "IPY_MODEL_dccba34850cb4bc5a6278fbb51beb33d",
       "value": true
      }
     },
     "d0cf6ff56dda4342ae07053402c23678": {
      "model_module": "@jupyter-widgets/base",
      "model_module_version": "1.2.0",
      "model_name": "LayoutModel",
      "state": {}
     },
     "d0f66cccf9f24792a831ce9ea193474e": {
      "model_module": "@jupyter-widgets/controls",
      "model_module_version": "1.5.0",
      "model_name": "CheckboxModel",
      "state": {
       "description": "m044",
       "disabled": false,
       "indent": false,
       "layout": "IPY_MODEL_772d3fcc5be64d0e97630d25411ae314",
       "style": "IPY_MODEL_6dfd4366f6f24ac58c983d58f1bb9996",
       "value": true
      }
     },
     "d12bf240fe6745bd9faca7d4b9eb867e": {
      "model_module": "@jupyter-widgets/controls",
      "model_module_version": "1.5.0",
      "model_name": "CheckboxModel",
      "state": {
       "description": "m020",
       "disabled": false,
       "indent": false,
       "layout": "IPY_MODEL_45f6553b0446482f9eb9ac7560b2288b",
       "style": "IPY_MODEL_323eeaa1c27343919e1231303dc97771",
       "value": true
      }
     },
     "d17283972c77404b85ec2b1b212f78b6": {
      "model_module": "@jupyter-widgets/controls",
      "model_module_version": "1.5.0",
      "model_name": "ButtonStyleModel",
      "state": {}
     },
     "d1941117b9064bd1aec20b284ba0fb17": {
      "model_module": "@jupyter-widgets/controls",
      "model_module_version": "1.5.0",
      "model_name": "TextModel",
      "state": {
       "description": "Name",
       "layout": "IPY_MODEL_57a469ec97ef477f80b18f315f1fca83",
       "style": "IPY_MODEL_cfa27ce3bcf949c6bfe473f1a3eed6a4",
       "value": "Test"
      }
     },
     "d196439d884048a9947c59306a2c60a1": {
      "model_module": "@jupyter-widgets/base",
      "model_module_version": "1.2.0",
      "model_name": "LayoutModel",
      "state": {}
     },
     "d22b478aec154be7aad9c3a2642c9fdc": {
      "model_module": "@jupyter-widgets/base",
      "model_module_version": "1.2.0",
      "model_name": "LayoutModel",
      "state": {}
     },
     "d2481f3e2f97400e9d0110f43daa45a4": {
      "model_module": "@jupyter-widgets/controls",
      "model_module_version": "1.5.0",
      "model_name": "CheckboxModel",
      "state": {
       "description": "m035",
       "disabled": false,
       "indent": false,
       "layout": "IPY_MODEL_40ce58316ed64f29a581cdb37bfae9dc",
       "style": "IPY_MODEL_ec65c962162141d3bec59d42477b27fc",
       "value": true
      }
     },
     "d315bbeacee947bba486dca6d5758cef": {
      "model_module": "@jupyter-widgets/base",
      "model_module_version": "1.2.0",
      "model_name": "LayoutModel",
      "state": {
       "height": "28px",
       "min_height": "28px",
       "min_width": "200px",
       "width": "200px"
      }
     },
     "d3dc8249442c40dfbe2e17724a7466a8": {
      "model_module": "@jupyter-widgets/controls",
      "model_module_version": "1.5.0",
      "model_name": "HBoxModel",
      "state": {
       "children": [
        "IPY_MODEL_4e983448659744fdb103f30ffaf03387",
        "IPY_MODEL_8b09220270ac49a683f6c4fca3a505e9",
        "IPY_MODEL_a7746e70fd854400bf73046c19711530"
       ],
       "layout": "IPY_MODEL_111faebba87547018d60959b77f3713d"
      }
     },
     "d460fad1cfa240638c44ea4cee4fcb84": {
      "model_module": "@jupyter-widgets/base",
      "model_module_version": "1.2.0",
      "model_name": "LayoutModel",
      "state": {
       "min_width": "200px",
       "width": "200px"
      }
     },
     "d463a273042c49d8bcebd8c814570152": {
      "model_module": "@jupyter-widgets/controls",
      "model_module_version": "1.5.0",
      "model_name": "CheckboxModel",
      "state": {
       "description": "m060",
       "disabled": false,
       "indent": false,
       "layout": "IPY_MODEL_23871e335b0845f58be965d929a5a877",
       "style": "IPY_MODEL_af47507134d1484bb17f639825fa5c77",
       "value": true
      }
     },
     "d49f059516314f7d9c040ce11d7a2a41": {
      "model_module": "@jupyter-widgets/controls",
      "model_module_version": "1.5.0",
      "model_name": "CheckboxModel",
      "state": {
       "description": "m021",
       "disabled": false,
       "indent": false,
       "layout": "IPY_MODEL_8c9bbc93c53548f68a9c0feb33234190",
       "style": "IPY_MODEL_6e19f7f1cc1e46f59336d1e1b7be3805",
       "value": true
      }
     },
     "d500bc60b96d4c7c9c95cb24590bd5af": {
      "model_module": "@jupyter-widgets/controls",
      "model_module_version": "1.5.0",
      "model_name": "DescriptionStyleModel",
      "state": {
       "description_width": "initial"
      }
     },
     "d650fb384b544c4c9cb4f79f74917964": {
      "model_module": "@jupyter-widgets/controls",
      "model_module_version": "1.5.0",
      "model_name": "ButtonModel",
      "state": {
       "description": "Enter celestial target coordinates",
       "disabled": true,
       "layout": "IPY_MODEL_8c70d3baaa7d4d86b4ccc8f0fe518d1f",
       "style": "IPY_MODEL_8e8087fe3a04458eaf521927211b4a97"
      }
     },
     "d686dc197a954bef962c652addbd4dd7": {
      "model_module": "@jupyter-widgets/controls",
      "model_module_version": "1.5.0",
      "model_name": "DescriptionStyleModel",
      "state": {
       "description_width": ""
      }
     },
     "d69b60952c214d67ac523f73f5972e05": {
      "model_module": "@jupyter-widgets/controls",
      "model_module_version": "1.5.0",
      "model_name": "DescriptionStyleModel",
      "state": {
       "description_width": ""
      }
     },
     "d6f196247d484c4f8d042463f3f2ed99": {
      "model_module": "@jupyter-widgets/controls",
      "model_module_version": "1.5.0",
      "model_name": "CheckboxModel",
      "state": {
       "description": "m053",
       "disabled": false,
       "indent": false,
       "layout": "IPY_MODEL_851392f95e044843a985747ddd05a639",
       "style": "IPY_MODEL_6620f79b880d4bc5ac886c990189f6c5",
       "value": true
      }
     },
     "d70f266ac3974db5a98879167860c87f": {
      "model_module": "@jupyter-widgets/base",
      "model_module_version": "1.2.0",
      "model_name": "LayoutModel",
      "state": {
       "width": "608px"
      }
     },
     "d717540352a5432b9fa49ac3ba0bf10f": {
      "model_module": "@jupyter-widgets/controls",
      "model_module_version": "1.5.0",
      "model_name": "DescriptionStyleModel",
      "state": {
       "description_width": ""
      }
     },
     "d76d0cebb20b489fa68428ca9a0408cb": {
      "model_module": "@jupyter-widgets/controls",
      "model_module_version": "1.5.0",
      "model_name": "CheckboxModel",
      "state": {
       "description": "m011",
       "disabled": false,
       "indent": false,
       "layout": "IPY_MODEL_014a91fa165448c38c03aa01821343bf",
       "style": "IPY_MODEL_8c52128efe62408aa74edccd0479e591",
       "value": true
      }
     },
     "d8e85cf85fd34046b4f33c2796f18a68": {
      "model_module": "@jupyter-widgets/controls",
      "model_module_version": "1.5.0",
      "model_name": "CheckboxModel",
      "state": {
       "description": "m046",
       "disabled": false,
       "indent": false,
       "layout": "IPY_MODEL_bb520ae4fd4646efa822ca600f8b6c9d",
       "style": "IPY_MODEL_20473cb747314062a4298c5ed5fccab4",
       "value": true
      }
     },
     "d9b4c2ee9db14e6fa0b74cf4eb8ed57d": {
      "model_module": "@jupyter-widgets/controls",
      "model_module_version": "1.5.0",
      "model_name": "CheckboxModel",
      "state": {
       "description": "m003",
       "disabled": false,
       "indent": false,
       "layout": "IPY_MODEL_686c1216e9b24e95bf67b7551f5b23d0",
       "style": "IPY_MODEL_1c4d8cc6c5974270a9680ff19c65c588",
       "value": true
      }
     },
     "da24783371fa473dbd1b1e26c92bd3ee": {
      "model_module": "@jupyter-widgets/base",
      "model_module_version": "1.2.0",
      "model_name": "LayoutModel",
      "state": {}
     },
     "da64a251b18d4c6cb62c8a3dadefef00": {
      "model_module": "@jupyter-widgets/controls",
      "model_module_version": "1.5.0",
      "model_name": "CheckboxModel",
      "state": {
       "description": "m059",
       "disabled": false,
       "indent": false,
       "layout": "IPY_MODEL_8836e6ab212e467599b8f9eab16d3f1d",
       "style": "IPY_MODEL_794f0158c4db4c9ebe52119be4fdb0aa",
       "value": true
      }
     },
     "da65ba43f86b47b5b85e136a98617097": {
      "model_module": "@jupyter-widgets/base",
      "model_module_version": "1.2.0",
      "model_name": "LayoutModel",
      "state": {}
     },
     "da6f7acd5586455db7923d13ffc623d1": {
      "model_module": "@jupyter-widgets/base",
      "model_module_version": "1.2.0",
      "model_name": "LayoutModel",
      "state": {}
     },
     "dab29f5ef9f04018a8c71aa0ffe79f1a": {
      "model_module": "@jupyter-widgets/controls",
      "model_module_version": "1.5.0",
      "model_name": "HBoxModel",
      "state": {
       "children": [
        "IPY_MODEL_b52a94a175b143e481070576eb291558",
        "IPY_MODEL_05a2d64f5e6a42ef9f9bf15d16432cc9",
        "IPY_MODEL_062c6858ad5b454eb5f4b58722cf1641"
       ],
       "layout": "IPY_MODEL_5f00503797fe471b97e301f7da3d14e4"
      }
     },
     "db06544c22b34b5d8e7663dfc4425963": {
      "model_module": "@jupyter-widgets/controls",
      "model_module_version": "1.5.0",
      "model_name": "DescriptionStyleModel",
      "state": {
       "description_width": ""
      }
     },
     "dca045f94e444c14a80063b90c5f19c0": {
      "model_module": "@jupyter-widgets/base",
      "model_module_version": "1.2.0",
      "model_name": "LayoutModel",
      "state": {
       "height": "28px",
       "min_height": "28px",
       "min_width": "200px",
       "width": "200px"
      }
     },
     "dccba34850cb4bc5a6278fbb51beb33d": {
      "model_module": "@jupyter-widgets/controls",
      "model_module_version": "1.5.0",
      "model_name": "DescriptionStyleModel",
      "state": {
       "description_width": ""
      }
     },
     "dcd7123940694e1ca5ff58baecc997ee": {
      "model_module": "@jupyter-widgets/controls",
      "model_module_version": "1.5.0",
      "model_name": "DescriptionStyleModel",
      "state": {
       "description_width": ""
      }
     },
     "dd45ce935f17415883622bb5a4cc48c6": {
      "model_module": "@jupyter-widgets/base",
      "model_module_version": "1.2.0",
      "model_name": "LayoutModel",
      "state": {}
     },
     "de04bc3c3dfa448b9e29adb57d33f143": {
      "model_module": "@jupyter-widgets/controls",
      "model_module_version": "1.5.0",
      "model_name": "CheckboxModel",
      "state": {
       "description": "m017",
       "disabled": false,
       "indent": false,
       "layout": "IPY_MODEL_abfb7df64c6f4fd6ad1ed7ebdcef87cd",
       "style": "IPY_MODEL_2bec2e3e4e454dcdbcc7631dfa7503e1",
       "value": true
      }
     },
     "de2f1d69e4c746a3838e91dc54e0552c": {
      "model_module": "@jupyter-widgets/controls",
      "model_module_version": "1.5.0",
      "model_name": "CheckboxModel",
      "state": {
       "description": "m003",
       "disabled": false,
       "indent": false,
       "layout": "IPY_MODEL_f9b07d4fe3304f3582d87eb6bda160fe",
       "style": "IPY_MODEL_b4962f64a029465b9329e2484e5662ab",
       "value": true
      }
     },
     "de487e78db3b45219f42c21c2bc68100": {
      "model_module": "@jupyter-widgets/base",
      "model_module_version": "1.2.0",
      "model_name": "LayoutModel",
      "state": {}
     },
     "de740ecc4e1d47b8a7cd54f76cef9993": {
      "model_module": "@jupyter-widgets/controls",
      "model_module_version": "1.5.0",
      "model_name": "DescriptionStyleModel",
      "state": {
       "description_width": ""
      }
     },
     "df5f9762dee342d5ad6e957efbce8a1e": {
      "model_module": "@jupyter-widgets/base",
      "model_module_version": "1.2.0",
      "model_name": "LayoutModel",
      "state": {}
     },
     "df787e27b891431cb4846fed97cffbe6": {
      "model_module": "@jupyter-widgets/controls",
      "model_module_version": "1.5.0",
      "model_name": "DescriptionStyleModel",
      "state": {
       "description_width": ""
      }
     },
     "df7f1093166f4447be4d8f1580647e83": {
      "model_module": "@jupyter-widgets/base",
      "model_module_version": "1.2.0",
      "model_name": "LayoutModel",
      "state": {
       "height": "28px",
       "min_height": "28px",
       "min_width": "200px",
       "width": "200px"
      }
     },
     "e11c854a32e446d498d917011ddd3690": {
      "model_module": "@jupyter-widgets/base",
      "model_module_version": "1.2.0",
      "model_name": "LayoutModel",
      "state": {}
     },
     "e162b154237e407d956c6c38366c680b": {
      "model_module": "@jupyter-widgets/controls",
      "model_module_version": "1.5.0",
      "model_name": "DescriptionStyleModel",
      "state": {
       "description_width": ""
      }
     },
     "e1fa3ebacbd644fcb206d3edfc8cb2cf": {
      "model_module": "@jupyter-widgets/base",
      "model_module_version": "1.2.0",
      "model_name": "LayoutModel",
      "state": {}
     },
     "e1fce69920a64d4abd471252f017ca23": {
      "model_module": "@jupyter-widgets/controls",
      "model_module_version": "1.5.0",
      "model_name": "ButtonModel",
      "state": {
       "description": "-63d42m45.624s",
       "disabled": true,
       "layout": "IPY_MODEL_dca045f94e444c14a80063b90c5f19c0",
       "style": "IPY_MODEL_d17283972c77404b85ec2b1b212f78b6"
      }
     },
     "e2abf3adabfe40718ff4f4c07ea5ea2d": {
      "model_module": "@jupyter-widgets/controls",
      "model_module_version": "1.5.0",
      "model_name": "CheckboxModel",
      "state": {
       "description": "m042",
       "disabled": false,
       "indent": false,
       "layout": "IPY_MODEL_92ea00212bd841f9b6d09ed608c103cf",
       "style": "IPY_MODEL_4fc599b245c948239b0256a2cc166088",
       "value": true
      }
     },
     "e2bcf154f7084683887a12ba1c346f22": {
      "model_module": "@jupyter-widgets/controls",
      "model_module_version": "1.5.0",
      "model_name": "HBoxModel",
      "state": {
       "children": [
        "IPY_MODEL_8d176beb224c40f496a031e46b76894c",
        "IPY_MODEL_29a0421ddff7464f84c55cf2c91206c5",
        "IPY_MODEL_06961bd777ce49d5ba4f57f3ccee75f5",
        "IPY_MODEL_f0dfd2eac9484ef4bf1669eea1737c85",
        "IPY_MODEL_3cc4adf9747b47c49402b326fef30648",
        "IPY_MODEL_ec067d81ef604a9da21c9cf4dc4e72d1",
        "IPY_MODEL_f5a3331164c24c9291189cc048114a1e",
        "IPY_MODEL_23efd3f830e84df99fdc9d2f3836ea7c",
        "IPY_MODEL_40107d88de4d49ad88ce48c485f6a60a",
        "IPY_MODEL_67cf29ac3ce24f049845f4db4a52c2bc",
        "IPY_MODEL_4847383d75584a07abbec301786575f0",
        "IPY_MODEL_7075f88d7cd9474b98df620dcdfc9c16",
        "IPY_MODEL_67ebafb67c2c4f9bbb2ae2cbcb024db3",
        "IPY_MODEL_00341454d720470f8ade9796be8dce92",
        "IPY_MODEL_1ae5e7637d3b4196846a9cef0a724b2c",
        "IPY_MODEL_e41cb8ec407742089569019d12af3b45"
       ],
       "layout": "IPY_MODEL_60114f75060a4bd093991c07b930b81d"
      }
     },
     "e3a893ea66d84e4980678d1f581e5920": {
      "model_module": "@jupyter-widgets/base",
      "model_module_version": "1.2.0",
      "model_name": "LayoutModel",
      "state": {}
     },
     "e3b5c636f4de45bab870c865b982159d": {
      "model_module": "@jupyter-widgets/controls",
      "model_module_version": "1.5.0",
      "model_name": "TextModel",
      "state": {
       "description": "Name",
       "layout": "IPY_MODEL_713a818aa680417e934040bb82479787",
       "style": "IPY_MODEL_687d3113a99c467dbc807aa43f716029",
       "value": "Test"
      }
     },
     "e3eed26298954fc4961aa95cd4c13230": {
      "model_module": "@jupyter-widgets/controls",
      "model_module_version": "1.5.0",
      "model_name": "ButtonStyleModel",
      "state": {}
     },
     "e41cb8ec407742089569019d12af3b45": {
      "model_module": "@jupyter-widgets/controls",
      "model_module_version": "1.5.0",
      "model_name": "CheckboxModel",
      "state": {
       "description": "m063",
       "disabled": false,
       "indent": false,
       "layout": "IPY_MODEL_5541ed87298a455e9c892c363ac05a83",
       "style": "IPY_MODEL_0f174dd2989f47ea9c5b267b4e9631be",
       "value": true
      }
     },
     "e470b6b176084e1fb9a6ef9cb0537349": {
      "model_module": "@jupyter-widgets/controls",
      "model_module_version": "1.5.0",
      "model_name": "DescriptionStyleModel",
      "state": {
       "description_width": "initial"
      }
     },
     "e48012c5a8b744c99251c62c7252625d": {
      "model_module": "@jupyter-widgets/controls",
      "model_module_version": "1.5.0",
      "model_name": "CheckboxModel",
      "state": {
       "description": "m034",
       "disabled": false,
       "indent": false,
       "layout": "IPY_MODEL_a678037a40c14245a58c8f39866d136f",
       "style": "IPY_MODEL_fb8c482d162f4d99a245f4901dcbdb5d",
       "value": true
      }
     },
     "e633cc06bf37470fac6d618b55e43001": {
      "model_module": "@jupyter-widgets/base",
      "model_module_version": "1.2.0",
      "model_name": "LayoutModel",
      "state": {
       "height": "28px",
       "min_height": "28px",
       "min_width": "200px",
       "width": "200px"
      }
     },
     "e6f263de469e4262bf0b9e0988d7b900": {
      "model_module": "@jupyter-widgets/base",
      "model_module_version": "1.2.0",
      "model_name": "LayoutModel",
      "state": {}
     },
     "e7050016a7cd46e5944f5a6511b02482": {
      "model_module": "@jupyter-widgets/controls",
      "model_module_version": "1.5.0",
      "model_name": "ButtonStyleModel",
      "state": {}
     },
     "e7e0ff6040d44209acf4dbcfb241fb98": {
      "model_module": "@jupyter-widgets/controls",
      "model_module_version": "1.5.0",
      "model_name": "ButtonModel",
      "state": {
       "description": "J1939-6342",
       "disabled": true,
       "layout": "IPY_MODEL_a7ceaec6f1954f4a86a44b954b750438",
       "style": "IPY_MODEL_23107635ecd04d19969dae9a2db659c3"
      }
     },
     "e7ef2cdd1c114913a689434e9a0f419e": {
      "model_module": "@jupyter-widgets/base",
      "model_module_version": "1.2.0",
      "model_name": "LayoutModel",
      "state": {}
     },
     "e896731ed4c940ab90cc484edbe557e0": {
      "model_module": "@jupyter-widgets/base",
      "model_module_version": "1.2.0",
      "model_name": "LayoutModel",
      "state": {
       "height": "28px",
       "min_height": "28px",
       "min_width": "200px",
       "width": "200px"
      }
     },
     "e8fe4fa5325b45c6ab903aeaacf824cd": {
      "model_module": "@jupyter-widgets/base",
      "model_module_version": "1.2.0",
      "model_name": "LayoutModel",
      "state": {
       "height": "28px",
       "min_height": "28px",
       "min_width": "200px",
       "width": "200px"
      }
     },
     "ea0c6ced0f024572aa52e4850ba82b39": {
      "model_module": "@jupyter-widgets/controls",
      "model_module_version": "1.5.0",
      "model_name": "CheckboxModel",
      "state": {
       "description": "m026",
       "disabled": false,
       "indent": false,
       "layout": "IPY_MODEL_046bec215d1d4a099cee60b69aabda02",
       "style": "IPY_MODEL_ad9f9974075149dd8eaa2ad06d2b9905",
       "value": true
      }
     },
     "eadd8dfd5027484398c284b4b717f03e": {
      "model_module": "@jupyter-widgets/controls",
      "model_module_version": "1.5.0",
      "model_name": "CheckboxModel",
      "state": {
       "description": "m004",
       "disabled": false,
       "indent": false,
       "layout": "IPY_MODEL_54f00cd5f8bf4c5982a632f2d57483c5",
       "style": "IPY_MODEL_5efe2710fa3d481ebf5d83a254789c4f",
       "value": true
      }
     },
     "eb0304376885468caea5000c1c81ee6c": {
      "model_module": "@jupyter-widgets/controls",
      "model_module_version": "1.5.0",
      "model_name": "DescriptionStyleModel",
      "state": {
       "description_width": "initial"
      }
     },
     "ec067d81ef604a9da21c9cf4dc4e72d1": {
      "model_module": "@jupyter-widgets/controls",
      "model_module_version": "1.5.0",
      "model_name": "CheckboxModel",
      "state": {
       "description": "m053",
       "disabled": false,
       "indent": false,
       "layout": "IPY_MODEL_52dc94f94f854d1c846d3c92a1446a87",
       "style": "IPY_MODEL_4c6512642ae04d648843b608806a9169",
       "value": true
      }
     },
     "ec65c962162141d3bec59d42477b27fc": {
      "model_module": "@jupyter-widgets/controls",
      "model_module_version": "1.5.0",
      "model_name": "DescriptionStyleModel",
      "state": {
       "description_width": ""
      }
     },
     "eca99c3ce48c4dc78acd780ab9f6b5ba": {
      "model_module": "@jupyter-widgets/controls",
      "model_module_version": "1.5.0",
      "model_name": "DescriptionStyleModel",
      "state": {
       "description_width": ""
      }
     },
     "ecec6ec598884352968ad0abed287221": {
      "model_module": "@jupyter-widgets/controls",
      "model_module_version": "1.5.0",
      "model_name": "DescriptionStyleModel",
      "state": {
       "description_width": ""
      }
     },
     "ed28c0cf4891425493a56e750ea52ea1": {
      "model_module": "@jupyter-widgets/base",
      "model_module_version": "1.2.0",
      "model_name": "LayoutModel",
      "state": {}
     },
     "edd1059941b24b7ab845354e562581fb": {
      "model_module": "@jupyter-widgets/controls",
      "model_module_version": "1.5.0",
      "model_name": "DescriptionStyleModel",
      "state": {
       "description_width": ""
      }
     },
     "ee73f42d8cec4962aa96f2e9baebced6": {
      "model_module": "@jupyter-widgets/controls",
      "model_module_version": "1.5.0",
      "model_name": "CheckboxModel",
      "state": {
       "description": "m050",
       "disabled": false,
       "indent": false,
       "layout": "IPY_MODEL_326a5e4c540e4beb9a0c4f8c6fca54b5",
       "style": "IPY_MODEL_5e62e2e402b84fff90ae7fa17e569ea5",
       "value": true
      }
     },
     "ee9a1877726e4698a1d8b7890faf9c8d": {
      "model_module": "@jupyter-widgets/base",
      "model_module_version": "1.2.0",
      "model_name": "LayoutModel",
      "state": {
       "min_width": "200px",
       "width": "200px"
      }
     },
     "eed914ca1b91415390110e75044f0b89": {
      "model_module": "@jupyter-widgets/controls",
      "model_module_version": "1.5.0",
      "model_name": "DescriptionStyleModel",
      "state": {
       "description_width": ""
      }
     },
     "ef2a609da1294d6ebe235ae60a740af5": {
      "model_module": "@jupyter-widgets/controls",
      "model_module_version": "1.5.0",
      "model_name": "TextModel",
      "state": {
       "description": "# timeslots",
       "layout": "IPY_MODEL_66676ff792c44614ab6d4fe85b45397b",
       "style": "IPY_MODEL_747a65762e904a1bb07123037b359ec9",
       "value": "50"
      }
     },
     "f049f29cb59a403a9121d8cac6e3eac4": {
      "model_module": "@jupyter-widgets/base",
      "model_module_version": "1.2.0",
      "model_name": "LayoutModel",
      "state": {
       "height": "28px",
       "min_height": "28px",
       "min_width": "200px",
       "width": "200px"
      }
     },
     "f077ac143af74646a3a6c46c04054bd0": {
      "model_module": "@jupyter-widgets/controls",
      "model_module_version": "1.5.0",
      "model_name": "CheckboxModel",
      "state": {
       "description": "m015",
       "disabled": false,
       "indent": false,
       "layout": "IPY_MODEL_928907fe76c0450f99bdb20c998753b4",
       "style": "IPY_MODEL_feec61c63bcb4af99f661b68ff99e254",
       "value": true
      }
     },
     "f08a6ac24c554375892cae0a73fa660b": {
      "model_module": "@jupyter-widgets/controls",
      "model_module_version": "1.5.0",
      "model_name": "CheckboxModel",
      "state": {
       "description": "m054",
       "disabled": false,
       "indent": false,
       "layout": "IPY_MODEL_3c399acae8594c0ea55b23aaee339f75",
       "style": "IPY_MODEL_6808a367e6574461980f021b7cdfa53a",
       "value": true
      }
     },
     "f0dfd2eac9484ef4bf1669eea1737c85": {
      "model_module": "@jupyter-widgets/controls",
      "model_module_version": "1.5.0",
      "model_name": "CheckboxModel",
      "state": {
       "description": "m051",
       "disabled": false,
       "indent": false,
       "layout": "IPY_MODEL_1839368c11a94c3599854ec3329f14fd",
       "style": "IPY_MODEL_1099479ade304ab7ae46d042694575dc",
       "value": true
      }
     },
     "f15bbab9db9d42b7a15dcb4bfc928905": {
      "model_module": "@jupyter-widgets/controls",
      "model_module_version": "1.5.0",
      "model_name": "CheckboxModel",
      "state": {
       "description": "m006",
       "disabled": false,
       "indent": false,
       "layout": "IPY_MODEL_22e93017de3d4011926e3afaa25bffd1",
       "style": "IPY_MODEL_0495ae6e99db4c20b61993a774d12318",
       "value": true
      }
     },
     "f17951ee924846bdb349128cc7e6a5e6": {
      "model_module": "@jupyter-widgets/base",
      "model_module_version": "1.2.0",
      "model_name": "LayoutModel",
      "state": {
       "min_width": "200px",
       "width": "200px"
      }
     },
     "f23883686556464292b5a1c6420ad608": {
      "model_module": "@jupyter-widgets/base",
      "model_module_version": "1.2.0",
      "model_name": "LayoutModel",
      "state": {}
     },
     "f29c70105c084e1a8cb8349c0c936acd": {
      "model_module": "@jupyter-widgets/base",
      "model_module_version": "1.2.0",
      "model_name": "LayoutModel",
      "state": {
       "height": "28px",
       "min_height": "28px",
       "min_width": "200px",
       "width": "200px"
      }
     },
     "f29e71853f0e454a812fb6b6c6186ba9": {
      "model_module": "@jupyter-widgets/controls",
      "model_module_version": "1.5.0",
      "model_name": "DescriptionStyleModel",
      "state": {
       "description_width": ""
      }
     },
     "f2e193e649ae41c2af48c9e59dc71004": {
      "model_module": "@jupyter-widgets/base",
      "model_module_version": "1.2.0",
      "model_name": "LayoutModel",
      "state": {}
     },
     "f30abe87896143c4a241768ec5678354": {
      "model_module": "@jupyter-widgets/controls",
      "model_module_version": "1.5.0",
      "model_name": "ButtonStyleModel",
      "state": {}
     },
     "f35ce1086ea94f02a1af2c59b86bfb55": {
      "model_module": "@jupyter-widgets/controls",
      "model_module_version": "1.5.0",
      "model_name": "ButtonStyleModel",
      "state": {}
     },
     "f368027b71be4b2f9e150f0cb561f930": {
      "model_module": "@jupyter-widgets/base",
      "model_module_version": "1.2.0",
      "model_name": "LayoutModel",
      "state": {}
     },
     "f3845fe7c223467290bc80d2c0788839": {
      "model_module": "@jupyter-widgets/base",
      "model_module_version": "1.2.0",
      "model_name": "LayoutModel",
      "state": {
       "min_width": "200px",
       "width": "200px"
      }
     },
     "f38ff24ab3014557a9638bf479ca4780": {
      "model_module": "@jupyter-widgets/controls",
      "model_module_version": "1.5.0",
      "model_name": "DescriptionStyleModel",
      "state": {
       "description_width": "initial"
      }
     },
     "f3d335d3dad24eb29454111223faeffc": {
      "model_module": "@jupyter-widgets/base",
      "model_module_version": "1.2.0",
      "model_name": "LayoutModel",
      "state": {}
     },
     "f3f58f211d0042b8b1a2105e3075fce3": {
      "model_module": "@jupyter-widgets/base",
      "model_module_version": "1.2.0",
      "model_name": "LayoutModel",
      "state": {
       "width": "608px"
      }
     },
     "f48c9b432889464aad021d174716cb85": {
      "model_module": "@jupyter-widgets/base",
      "model_module_version": "1.2.0",
      "model_name": "LayoutModel",
      "state": {}
     },
     "f5154cf956c845e9bc1d193e886c2b1b": {
      "model_module": "@jupyter-widgets/controls",
      "model_module_version": "1.5.0",
      "model_name": "CheckboxModel",
      "state": {
       "description": "m001",
       "disabled": false,
       "indent": false,
       "layout": "IPY_MODEL_7e9a28eecbd7429da0ccd2862752a406",
       "style": "IPY_MODEL_7d79ffbc0f114d2d9cd237f3a7a4f8b6",
       "value": true
      }
     },
     "f528dcc6e2624e81a4fe17d7dce488dc": {
      "model_module": "@jupyter-widgets/controls",
      "model_module_version": "1.5.0",
      "model_name": "DescriptionStyleModel",
      "state": {
       "description_width": "initial"
      }
     },
     "f564e1c866fe405d80b617ee85225aeb": {
      "model_module": "@jupyter-widgets/controls",
      "model_module_version": "1.5.0",
      "model_name": "DescriptionStyleModel",
      "state": {
       "description_width": ""
      }
     },
     "f583f89badc546fdb86e294698f85640": {
      "model_module": "@jupyter-widgets/base",
      "model_module_version": "1.2.0",
      "model_name": "LayoutModel",
      "state": {}
     },
     "f5a3331164c24c9291189cc048114a1e": {
      "model_module": "@jupyter-widgets/controls",
      "model_module_version": "1.5.0",
      "model_name": "CheckboxModel",
      "state": {
       "description": "m054",
       "disabled": false,
       "indent": false,
       "layout": "IPY_MODEL_53ff12135a184724b3be684e1c356599",
       "style": "IPY_MODEL_6bc09e48e02a4d01895784609e9f49c2",
       "value": true
      }
     },
     "f5cb9319028449e5b3b4c5081908d24c": {
      "model_module": "@jupyter-widgets/controls",
      "model_module_version": "1.5.0",
      "model_name": "DescriptionStyleModel",
      "state": {
       "description_width": ""
      }
     },
     "f684867935ce4e56a76a7c58207ae384": {
      "model_module": "@jupyter-widgets/controls",
      "model_module_version": "1.5.0",
      "model_name": "ButtonModel",
      "state": {
       "description": "J1939-6342",
       "disabled": true,
       "layout": "IPY_MODEL_3a9a8d0ff1db48e8bd17665bac540f68",
       "style": "IPY_MODEL_38482d614d604685a57c0fa181c07447"
      }
     },
     "f68ecd7b487545d79ad24738722f090d": {
      "model_module": "@jupyter-widgets/base",
      "model_module_version": "1.2.0",
      "model_name": "LayoutModel",
      "state": {}
     },
     "f75f1c6ce7fb4b2ea9e0a28405f59d23": {
      "model_module": "@jupyter-widgets/controls",
      "model_module_version": "1.5.0",
      "model_name": "ButtonStyleModel",
      "state": {}
     },
     "f78c0eb5d2aa48a7b3830ad36e785c06": {
      "model_module": "@jupyter-widgets/controls",
      "model_module_version": "1.5.0",
      "model_name": "DescriptionStyleModel",
      "state": {
       "description_width": "initial"
      }
     },
     "f7ae302127414096a9cf4b571a3733ff": {
      "model_module": "@jupyter-widgets/base",
      "model_module_version": "1.2.0",
      "model_name": "LayoutModel",
      "state": {
       "width": "608px"
      }
     },
     "f7f343496d3c4e1e9ff7bc3e48593597": {
      "model_module": "@jupyter-widgets/controls",
      "model_module_version": "1.5.0",
      "model_name": "ButtonModel",
      "state": {
       "description": "Enter celestial target coordinates",
       "disabled": true,
       "layout": "IPY_MODEL_be22b92f83bd4f4d994782d8625a062e",
       "style": "IPY_MODEL_4e011c6a8675412282e8330dc81b413a"
      }
     },
     "f833061a24f24dc58dd34c481e6fdf9f": {
      "model_module": "@jupyter-widgets/base",
      "model_module_version": "1.2.0",
      "model_name": "LayoutModel",
      "state": {}
     },
     "f95206fee7a64bcca8cc0fae1a2811c8": {
      "model_module": "@jupyter-widgets/controls",
      "model_module_version": "1.5.0",
      "model_name": "DescriptionStyleModel",
      "state": {
       "description_width": ""
      }
     },
     "f952305538ed4e4eaae19f1ef3436434": {
      "model_module": "@jupyter-widgets/base",
      "model_module_version": "1.2.0",
      "model_name": "LayoutModel",
      "state": {}
     },
     "f970dfb5858a475ab81c78ac8fd252df": {
      "model_module": "@jupyter-widgets/base",
      "model_module_version": "1.2.0",
      "model_name": "LayoutModel",
      "state": {}
     },
     "f9b07d4fe3304f3582d87eb6bda160fe": {
      "model_module": "@jupyter-widgets/base",
      "model_module_version": "1.2.0",
      "model_name": "LayoutModel",
      "state": {}
     },
     "f9de83d4a1714069affc470dea6fd7ba": {
      "model_module": "@jupyter-widgets/base",
      "model_module_version": "1.2.0",
      "model_name": "LayoutModel",
      "state": {}
     },
     "fa10d74a37004f7db7dbb37657f50885": {
      "model_module": "@jupyter-widgets/base",
      "model_module_version": "1.2.0",
      "model_name": "LayoutModel",
      "state": {}
     },
     "fabafaed389a475aa6f2d070d68a122b": {
      "model_module": "@jupyter-widgets/base",
      "model_module_version": "1.2.0",
      "model_name": "LayoutModel",
      "state": {
       "height": "28px",
       "min_height": "28px",
       "min_width": "200px",
       "width": "200px"
      }
     },
     "fb799e2ccbae4349a91bb87d178e0939": {
      "model_module": "@jupyter-widgets/controls",
      "model_module_version": "1.5.0",
      "model_name": "ButtonStyleModel",
      "state": {}
     },
     "fb8c482d162f4d99a245f4901dcbdb5d": {
      "model_module": "@jupyter-widgets/controls",
      "model_module_version": "1.5.0",
      "model_name": "DescriptionStyleModel",
      "state": {
       "description_width": ""
      }
     },
     "fb8c5425bb4e49b4be4c0e69d5dd6cd5": {
      "model_module": "@jupyter-widgets/controls",
      "model_module_version": "1.5.0",
      "model_name": "ButtonModel",
      "state": {
       "description": "19h39m25.0264s",
       "disabled": true,
       "layout": "IPY_MODEL_d315bbeacee947bba486dca6d5758cef",
       "style": "IPY_MODEL_7a62323214c9427b9e93b4941e53f69f"
      }
     },
     "fc5473c5889747119a943e046fbc906a": {
      "model_module": "@jupyter-widgets/controls",
      "model_module_version": "1.5.0",
      "model_name": "HBoxModel",
      "state": {
       "children": [
        "IPY_MODEL_fd25a3acc5154895a622512af4cb60e4",
        "IPY_MODEL_6423fdd50f0c4a75baed84c7e5b378fb",
        "IPY_MODEL_62c273b2239640f4be1ff69698cb28f8",
        "IPY_MODEL_d9b4c2ee9db14e6fa0b74cf4eb8ed57d",
        "IPY_MODEL_429d6b0afca7410580dd64c55ee6f258",
        "IPY_MODEL_190083b37fc64f1998c4f4a78e50e939",
        "IPY_MODEL_f15bbab9db9d42b7a15dcb4bfc928905",
        "IPY_MODEL_903eecae608c4eae8030d14b187c0733",
        "IPY_MODEL_25994d4fe80f42ff94c022472789fefb",
        "IPY_MODEL_6afef5015291469db8f6bbbf32d11105",
        "IPY_MODEL_af3e634c49254dfdb3cb8ede7dbfa492",
        "IPY_MODEL_d76d0cebb20b489fa68428ca9a0408cb",
        "IPY_MODEL_58d4f0236f9e4a5fb60a2aa8090d0095",
        "IPY_MODEL_005ce3aa268845259f6f0a8a968e6159",
        "IPY_MODEL_36c302fdec8b4ada8a07957970189ac0",
        "IPY_MODEL_f077ac143af74646a3a6c46c04054bd0"
       ],
       "layout": "IPY_MODEL_fd35c39048584464b32fa8f0056601d8"
      }
     },
     "fd25a3acc5154895a622512af4cb60e4": {
      "model_module": "@jupyter-widgets/controls",
      "model_module_version": "1.5.0",
      "model_name": "CheckboxModel",
      "state": {
       "description": "m000",
       "disabled": false,
       "indent": false,
       "layout": "IPY_MODEL_e7ef2cdd1c114913a689434e9a0f419e",
       "style": "IPY_MODEL_f29e71853f0e454a812fb6b6c6186ba9",
       "value": true
      }
     },
     "fd35c39048584464b32fa8f0056601d8": {
      "model_module": "@jupyter-widgets/base",
      "model_module_version": "1.2.0",
      "model_name": "LayoutModel",
      "state": {}
     },
     "fdb3637529b04c9e93507e1074555745": {
      "model_module": "@jupyter-widgets/base",
      "model_module_version": "1.2.0",
      "model_name": "LayoutModel",
      "state": {}
     },
     "fe99d2a4ac1b462a8102b23d1deb6b6d": {
      "model_module": "@jupyter-widgets/controls",
      "model_module_version": "1.5.0",
      "model_name": "CheckboxModel",
      "state": {
       "description": "m036",
       "disabled": false,
       "indent": false,
       "layout": "IPY_MODEL_0e1fddbcb6444cb39db37ef2dfd52d01",
       "style": "IPY_MODEL_2b5a95ae06af4353a92f8c05c863eb1d",
       "value": true
      }
     },
     "feec61c63bcb4af99f661b68ff99e254": {
      "model_module": "@jupyter-widgets/controls",
      "model_module_version": "1.5.0",
      "model_name": "DescriptionStyleModel",
      "state": {
       "description_width": ""
      }
     },
     "ff4c72ae1b1241fd9033b1b21853384f": {
      "model_module": "@jupyter-widgets/controls",
      "model_module_version": "1.5.0",
      "model_name": "DescriptionStyleModel",
      "state": {
       "description_width": ""
      }
     },
     "ff71213747ff4d68b856b8cf198bb619": {
      "model_module": "@jupyter-widgets/controls",
      "model_module_version": "1.5.0",
      "model_name": "TextModel",
      "state": {
       "description": "Dec",
       "layout": "IPY_MODEL_75d462cbd96648a282e9b58afaf05da5",
       "style": "IPY_MODEL_eb0304376885468caea5000c1c81ee6c",
       "value": "+41d16m09.012s"
      }
     },
     "ff7928f169a743558467ea2135d91835": {
      "model_module": "@jupyter-widgets/base",
      "model_module_version": "1.2.0",
      "model_name": "LayoutModel",
      "state": {}
     },
     "ffa0198acc87441abb46f67ca3ad70d0": {
      "model_module": "@jupyter-widgets/controls",
      "model_module_version": "1.5.0",
      "model_name": "DescriptionStyleModel",
      "state": {
       "description_width": ""
      }
     },
     "ffa59f8c5f98466f889bafd6ea87a8a1": {
      "model_module": "@jupyter-widgets/base",
      "model_module_version": "1.2.0",
      "model_name": "LayoutModel",
      "state": {}
     },
     "ffd3425c99a546f79d16713d42900bcd": {
      "model_module": "@jupyter-widgets/base",
      "model_module_version": "1.2.0",
      "model_name": "LayoutModel",
      "state": {
       "min_width": "200px",
       "width": "200px"
      }
     }
    },
    "version_major": 2,
    "version_minor": 0
   }
  }
 },
 "nbformat": 4,
 "nbformat_minor": 4
}
