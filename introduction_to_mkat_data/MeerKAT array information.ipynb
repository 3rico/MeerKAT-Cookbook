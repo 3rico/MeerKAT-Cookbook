{
 "cells": [
  {
   "cell_type": "code",
   "execution_count": 2,
   "metadata": {},
   "outputs": [],
   "source": [
    "%matplotlib inline\n",
    "import numpy as np\n",
    "import matplotlib.pyplot as plt\n",
    "\n",
    "import katdal"
   ]
  },
  {
   "cell_type": "markdown",
   "metadata": {},
   "source": [
    "## MeerKAT antennas"
   ]
  },
  {
   "cell_type": "code",
   "execution_count": 4,
   "metadata": {
    "scrolled": true
   },
   "outputs": [],
   "source": [
    "filename='/home/ruby/winterschool/example_data/1548939342/1548939342/1548939342_sdp_l0.full.rdb'\n",
    "observation = katdal.open(filename)\n",
    "antenna = observation.ants[0]"
   ]
  },
  {
   "cell_type": "code",
   "execution_count": 5,
   "metadata": {},
   "outputs": [
    {
     "name": "stdout",
     "output_type": "stream",
     "text": [
      "m000: 13-m dish at ENU offset [  -8.264  -207.29      1.1965] m from lat -30:42:39.8, long 21:26:38.0, alt 1035.0 m\n"
     ]
    }
   ],
   "source": [
    "print antenna"
   ]
  },
  {
   "cell_type": "markdown",
   "metadata": {},
   "source": [
    "Each antenna is a katpoint.Antenna object.\n",
    "Printing the antenna information will results in a string containing the following information:    \n",
    "`<name>`: `<dia>`-m dish at ENU offset [ `<enu>` ] m from lat `<lat DD:MM:SS.f>`, long `<lon DD:MM:SS.f>`, alt `<elev>` m\n",
    "\n",
    "<table>\n",
    "    <thead>\n",
    "        <tr>\n",
    "            <th>Parameter</th>\n",
    "            <th>Type</th>\n",
    "            <th><p align=\"left\">Description</th>\n",
    "        </tr>\n",
    "    </thead>\n",
    "    <tbody>\n",
    "        <tr>\n",
    "            <td>`name`</td>\n",
    "            <td>[string]</td>\n",
    "            <td><p align=\"left\">Name of the antenna</td>\n",
    "        </tr>\n",
    "        <tr>\n",
    "            <td>`dia`</td>\n",
    "            <td>[float]</td>\n",
    "            <td><p align=\"left\">Dish diameter in meters</td>\n",
    "        </tr>\n",
    "        <tr>\n",
    "            <td>`enu`</td>\n",
    "            <td>[tuple of floats]</td>\n",
    "            <td><p align=\"left\">East-North-Up offset from WGS84 reference position, in metres. The (lat, lon, alt) of each dish is converted to an (East, North, Up) offset relative to the reference position and each offset rounded to the nearest millimetre.</td>\n",
    "        </tr>\n",
    "        <tr>\n",
    "            <td>`lat`</td>\n",
    "            <td>[string or float]</td>\n",
    "            <td><p align=\"left\">Geodetic latitude of reference position, either in 'D:M:S' string format or float in radians</td>\n",
    "        </tr>\n",
    "        <tr>\n",
    "            <td>`lon`</td>\n",
    "            <td>[string or float]</td>\n",
    "            <td><p align=\"left\">Longitude of reference position, either in 'D:M:S' string format or a float in radians</td>\n",
    "        </tr>\n",
    "        <tr>\n",
    "            <td>`elev`</td>\n",
    "            <td>[float]</td>\n",
    "            <td><p align=\"left\">Altitude above WGS84 geoid, in metres</td>\n",
    "        </tr>\n",
    "    </tbody>\n",
    "</table>"
   ]
  },
  {
   "cell_type": "code",
   "execution_count": 6,
   "metadata": {},
   "outputs": [
    {
     "name": "stdout",
     "output_type": "stream",
     "text": [
      "m000: 13.5-m dish at ENU offset (-8.264, -207.29, 1.1965) m from lat -30:42:39.8, long 21:26:38.0, alt 1035.0 m\n"
     ]
    }
   ],
   "source": [
    "print '{}: {}-m dish at ENU offset {} m from lat {}, long {}, alt {:.1f} m'.format(\n",
    "    antenna.name,\n",
    "    antenna.diameter,\n",
    "    antenna.position_enu,\n",
    "    antenna.ref_observer.lat,\n",
    "    antenna.ref_observer.lon,\n",
    "    antenna.ref_observer.elevation,\n",
    "    )"
   ]
  },
  {
   "cell_type": "markdown",
   "metadata": {},
   "source": [
    "## MeerKAT antenna descriptions"
   ]
  },
  {
   "cell_type": "markdown",
   "metadata": {},
   "source": [
    "The information provided by quering the antenna directly is only a subset of the information that is available per antennas.\n",
    "To display the full antenna information set, print `antenna.description`"
   ]
  },
  {
   "cell_type": "code",
   "execution_count": 7,
   "metadata": {},
   "outputs": [
    {
     "name": "stdout",
     "output_type": "stream",
     "text": [
      "m000, -30:42:39.8, 21:26:38.0, 1035.0, 13.5, -8.264 -207.29 1.1965 5872.596 5872.743 1.0, 0:03:31.3 0 -0:00:12.2 0:01:07.1 0:00:14.6 -0:00:13.3 0:13:23.6 0:01:27.9, 1.22\n"
     ]
    }
   ],
   "source": [
    "print antenna.description"
   ]
  },
  {
   "cell_type": "markdown",
   "metadata": {},
   "source": [
    "Each antenna is a katpoint.Antenna object.\n",
    "Printing the antenna information will results in a string containing the following information:    \n",
    "`<name>`, `<ref lat>`, `<ref lon>`, `<ref elev>`, `<dia>`, `<delay: E N U H V 1.0>`, `<pointing P1 P2=0 P3 P4 P5 P6 P7 P8>`, `<beamwidth>`\n",
    "\n",
    "\n",
    "<table>\n",
    "    <thead>\n",
    "        <tr>\n",
    "            <th>Parameter</th>\n",
    "            <th>Type</th>\n",
    "            <th><p align=\"left\">Description</th>\n",
    "        </tr>\n",
    "    </thead>\n",
    "    <tbody>\n",
    "        <tr>\n",
    "            <td>`name`</td>\n",
    "            <td>[string]</td>\n",
    "            <td><p align=\"left\">Name of the antenna</td>\n",
    "        </tr>\n",
    "        <tr>\n",
    "            <td>`ref lat`</td>\n",
    "            <td>[string or float]</td>\n",
    "            <td><p align=\"left\">Geodetic latitude of reference position, either in 'D:M:S' string format or float in radians</td>\n",
    "        </tr>\n",
    "        <tr>\n",
    "            <td>`ref lon`</td>\n",
    "            <td>[string or float]</td>\n",
    "            <td><p align=\"left\">Longitude of reference position, either in 'D:M:S' string format or a float in radians</td>\n",
    "        </tr>\n",
    "        <tr>\n",
    "            <td>`ref elev`</td>\n",
    "            <td>[float]</td>\n",
    "            <td><p align=\"left\">Altitude above WGS84 geoid, in metres</td>\n",
    "        </tr>\n",
    "        <tr>\n",
    "            <td>`dia`</td>\n",
    "            <td>[float]</td>\n",
    "            <td><p align=\"left\">Dish diameter in meters</td>\n",
    "        </tr>\n",
    "        <tr>\n",
    "            <td>`delay`</td>\n",
    "            <td>[`DelayModel` object]</td>\n",
    "            <td><p align=\"left\">Delay model for antenna, either as a direct object, a file-like object representing a parameter file, or a string or sequence of float params.</td>\n",
    "        </tr>\n",
    "        <tr>\n",
    "            <td colspan=3><p align=\"left\">The first three parameters form an East-North-Up offset from WGS84 reference position, in metres:</td>\n",
    "        </tr>\n",
    "        <tr>\n",
    "            <td></td>\n",
    "            <td>`E`</td>\n",
    "            <td><p align=\"left\">antenna position: offset East of reference position</td>\n",
    "        </tr>\n",
    "        <tr>\n",
    "            <td></td>\n",
    "            <td>`N`</td>\n",
    "            <td><p align=\"left\">antenna position: offset North of reference position</td>\n",
    "        </tr>\n",
    "        <tr>\n",
    "            <td></td>\n",
    "            <td>`U`</td>\n",
    "            <td><p align=\"left\">antenna position: offset above reference position</td>\n",
    "        </tr>\n",
    "        <tr>\n",
    "            <td colspan=3><p align=\"left\">The second three set gives the path length correction factors, in metres:</td>\n",
    "        </tr>\n",
    "        <tr>\n",
    "            <td></td>\n",
    "            <td>`H`</td>\n",
    "            <td><p align=\"left\">fixed additional path length for H feed due to electronics / cables</td>\n",
    "        </tr>\n",
    "        <tr>\n",
    "            <td></td>\n",
    "            <td>`V`</td>\n",
    "            <td><p align=\"left\">fixed additional path length for V feed due to electronics / cables</td>\n",
    "        </tr>\n",
    "        <tr>\n",
    "            <td></td>\n",
    "            <td>`NIAO`</td>\n",
    "            <td><p align=\"left\">non-intersecting axis offset - distance between az and el axes</td>\n",
    "        </tr>\n",
    "        <tr>\n",
    "            <td>`pointing`</td>\n",
    "            <td>[`PointingModel` object]</td>\n",
    "            <td><p align=\"left\">Pointing model for antenna, either as a direct object, a file-like object representing a parameter file, or a string or sequence of float parameters, in degrees:</td>\n",
    "        </tr>\n",
    "        <tr>\n",
    "            <td></td>\n",
    "            <td colspan=2><p align=\"left\">PointingModel has 22 parameters with 7 active (non-default):</td>\n",
    "        </tr>\n",
    "        <tr>\n",
    "            <td></td>\n",
    "            <td>`P1`</td>\n",
    "            <td><p align=\"left\">az offset = encoder bias - tilt around [tpoint -IA]</td>\n",
    "        </tr>\n",
    "        <tr>\n",
    "            <td></td>\n",
    "            <td>`P3`</td>\n",
    "            <td><p align=\"left\">left-right axis skew = non-perpendicularity of az/el axes [tpoint -NPAE]</td>\n",
    "        </tr>\n",
    "        <tr>\n",
    "            <td></td>\n",
    "            <td>`P4`</td>\n",
    "            <td><p align=\"left\">az box offset / collimation error = RF-axis misalignment [tpoint CA]</td>\n",
    "        </tr>\n",
    "        <tr>\n",
    "            <td></td>\n",
    "            <td>`P5`</td>\n",
    "            <td><p align=\"left\">tilt out = az ring tilted towards north [tpoint AN]</td>\n",
    "        </tr>\n",
    "        <tr>\n",
    "            <td></td>\n",
    "            <td>`P6`</td>\n",
    "            <td><p align=\"left\">tilt over = az ring tilted towards east [tpoint -AW]</td>\n",
    "        </tr>\n",
    "        <tr>\n",
    "            <td></td>\n",
    "            <td>`P7`</td>\n",
    "            <td><p align=\"left\">el offset = encoder bias - forward axis skew - el box offset [tpoint IE]</td>\n",
    "        </tr>\n",
    "        <tr>\n",
    "            <td></td>\n",
    "            <td>`P8`</td>\n",
    "            <td><p align=\"left\">gravity sag / Hooke law flexure / el centering error [tpoint ECEC/-TF]</td>\n",
    "        </tr>\n",
    "        <tr>\n",
    "            <td>`beamwidth`</td>\n",
    "            <td>[float]</td>\n",
    "            <td><p align=\"left\">Full width at half maximum (FWHM) average beamwidth, as a multiple of $\\lambda$ / D (wavelength / dish diameter). This depends on the dish illumination pattern, and ranges from 1.03 for a uniformly illuminated circular dish to 1.22 for a Gaussian-tapered circular dish (the default).</td>\n",
    "        </tr>\n",
    "    </tbody>\n",
    "</table>"
   ]
  },
  {
   "cell_type": "code",
   "execution_count": 8,
   "metadata": {},
   "outputs": [
    {
     "name": "stdout",
     "output_type": "stream",
     "text": [
      "m000, -30:42:39.8, 21:26:38.0, 1035.0, 13.5, -8.264 -207.29 1.1965 5872.596 5872.743 1.0, 0:03:31.3 0:00:00.0 -0:00:12.2 0:01:07.1 0:00:14.6 -0:00:13.3 0:13:23.6 0:01:27.9, 1.22\n"
     ]
    }
   ],
   "source": [
    "print '{}, {}, {}, {:.1f}, {}, {}, {}, {}'.format(\n",
    "    antenna.name,\n",
    "    antenna.ref_observer.lat,\n",
    "    antenna.ref_observer.lon,\n",
    "    antenna.ref_observer.elev,\n",
    "    antenna.diameter,\n",
    "    ' '.join([str(val) for val in antenna.delay_model.values()]),\n",
    "    ' '.join([str(val) for val in antenna.pointing_model.values()[:8]]),\n",
    "    antenna.beamwidth,\n",
    "    )"
   ]
  },
  {
   "cell_type": "code",
   "execution_count": 9,
   "metadata": {},
   "outputs": [
    {
     "name": "stdout",
     "output_type": "stream",
     "text": [
      "DelayModel has 6 parameters with 6 active (non-default):\n",
      "POS_E = -8.264   m (antenna position: offset East of reference position)\n",
      "POS_N = -207.29  m (antenna position: offset North of reference position)\n",
      "POS_U = 1.1965   m (antenna position: offset above reference position)\n",
      "FIX_H = 5872.596 m (fixed additional path length for H feed due to electronics / cables)\n",
      "FIX_V = 5872.743 m (fixed additional path length for V feed due to electronics / cables)\n",
      "NIAO  = 1.0      m (non-intersecting axis offset - distance between az and el axes)\n"
     ]
    }
   ],
   "source": [
    "print antenna.delay_model"
   ]
  },
  {
   "cell_type": "code",
   "execution_count": 10,
   "metadata": {},
   "outputs": [
    {
     "name": "stdout",
     "output_type": "stream",
     "text": [
      "PointingModel has 22 parameters with 7 active (non-default):\n",
      "P1  = 0:03:31.3  deg (az offset = encoder bias - tilt around [tpoint -IA])\n",
      "P3  = -0:00:12.2 deg (left-right axis skew = non-perpendicularity of az/el axes [tpoint -NPAE])\n",
      "P4  = 0:01:07.1  deg (az box offset / collimation error = RF-axis misalignment [tpoint CA])\n",
      "P5  = 0:00:14.6  deg (tilt out = az ring tilted towards north [tpoint AN])\n",
      "P6  = -0:00:13.3 deg (tilt over = az ring tilted towards east [tpoint -AW])\n",
      "P7  = 0:13:23.6  deg (el offset = encoder bias - forward axis skew - el box offset [tpoint IE])\n",
      "P8  = 0:01:27.9  deg (gravity sag / Hooke law flexure / el centering error [tpoint ECEC/-TF])\n"
     ]
    }
   ],
   "source": [
    "print antenna.pointing_model"
   ]
  },
  {
   "cell_type": "code",
   "execution_count": 11,
   "metadata": {},
   "outputs": [
    {
     "name": "stdout",
     "output_type": "stream",
     "text": [
      "<ephem.Observer date='2019/6/15 10:47:42' epoch='2000/1/1 12:00:00' lon='21:26:38.0' lat='-30:42:39.8' elevation=1035.0m horizon=0:00:00.0 temp=15.0C pressure=0.0mBar>\n",
      "<ephem.Observer date='2019/6/15 10:47:42' epoch='2000/1/1 12:00:00' lon='21:26:37.7' lat='-30:42:46.5' elevation=1036.19988709m horizon=0:00:00.0 temp=15.0C pressure=0.0mBar>\n"
     ]
    }
   ],
   "source": [
    "print antenna.ref_observer\n",
    "print antenna.observer"
   ]
  },
  {
   "cell_type": "markdown",
   "metadata": {},
   "source": [
    "## Antenna position from reference position"
   ]
  },
  {
   "cell_type": "code",
   "execution_count": 12,
   "metadata": {},
   "outputs": [],
   "source": [
    "from astropy import units as u\n",
    "from astropy.coordinates import Longitude, Latitude, EarthLocation"
   ]
  },
  {
   "cell_type": "code",
   "execution_count": 13,
   "metadata": {},
   "outputs": [],
   "source": [
    "# Telescope reference position\n",
    "ref_lon = str(antenna.ref_observer.lon)\n",
    "ref_lon = Longitude(ref_lon.strip(), u.degree, wrap_angle=180*u.degree, copy=False)\n",
    "ref_lat = str(antenna.ref_observer.lat)\n",
    "ref_lat = Latitude(ref_lat.strip(), u.degree, copy=False)\n",
    "ref_alt = str(antenna.ref_observer.elev)\n",
    "ref_alt = u.Quantity(float(ref_alt.strip()), u.m, copy=False)\n",
    "ref_location = EarthLocation(lat=ref_lat.to(u.deg).value,\n",
    "                             lon=ref_lon.to(u.deg).value,\n",
    "                             height=ref_alt.to(u.m).value)\n",
    "[x, y, z] = ref_location.to_geocentric()"
   ]
  },
  {
   "cell_type": "code",
   "execution_count": 14,
   "metadata": {},
   "outputs": [
    {
     "name": "stdout",
     "output_type": "stream",
     "text": [
      "-30d42m41.1507s 21d26m30.8635s 962.623904512 m\n"
     ]
    }
   ],
   "source": [
    "# Antenna position relative to reference\n",
    "[delta_North, delta_East, delta_Up] = antenna.position_enu\n",
    "ant_location = EarthLocation((x.value+float(delta_North))*u.m,\n",
    "                             (y.value+float(delta_East))*u.m,\n",
    "                             (z.value+float(delta_Up))*u.m)\n",
    "print ant_location.lat, ant_location.lon, ant_location.height"
   ]
  },
  {
   "cell_type": "markdown",
   "metadata": {},
   "source": [
    "## Show array layout"
   ]
  },
  {
   "cell_type": "code",
   "execution_count": 15,
   "metadata": {
    "collapsed": true
   },
   "outputs": [],
   "source": [
    "from mpl_toolkits.basemap import Basemap"
   ]
  },
  {
   "cell_type": "code",
   "execution_count": 16,
   "metadata": {},
   "outputs": [],
   "source": [
    "# Get array\n",
    "arr_latitude = []\n",
    "arr_longitude = []\n",
    "arr_names = []\n",
    "for antenna in observation.ants:\n",
    "    # Antenna position relative to reference\n",
    "    [delta_North, delta_East, delta_Up] = antenna.position_enu\n",
    "    ant_location = EarthLocation((x.value+float(delta_North))*u.m,\n",
    "                                 (y.value+float(delta_East))*u.m,\n",
    "                                 (z.value+float(delta_Up))*u.m)\n",
    "\n",
    "    \n",
    "    arr_names.append(antenna.name)\n",
    "    arr_latitude.append(ant_location.lat.value)\n",
    "    arr_longitude.append(ant_location.lon.value)"
   ]
  },
  {
   "cell_type": "code",
   "execution_count": 17,
   "metadata": {},
   "outputs": [],
   "source": [
    "# Earth projection\n",
    "m = Basemap(projection='merc',\n",
    "            lat_0=ref_location.lat.value,\n",
    "            lon_0=ref_location.lon.value,\n",
    "            llcrnrlon=np.min(arr_longitude)-0.005,\n",
    "            llcrnrlat=np.min(arr_latitude)-0.005,\n",
    "            urcrnrlon=np.max(arr_longitude)+0.005,\n",
    "            urcrnrlat=np.max(arr_latitude)+0.005)\n",
    "# set regular grid and map projected coordinates\n",
    "ref_x, ref_y = m(ref_location.lon.value, ref_location.lat.value)\n",
    "arr_x, arr_y = m(arr_longitude, arr_latitude)    "
   ]
  },
  {
   "cell_type": "code",
   "execution_count": 19,
   "metadata": {},
   "outputs": [
    {
     "data": {
      "image/png": "[encoded data removed]",
      "text/plain": [
       "<matplotlib.figure.Figure at 0x7f992bd0c950>"
      ]
     },
     "metadata": {},
     "output_type": "display_data"
    }
   ],
   "source": [
    "# Array layout\n",
    "plt.figure(figsize=(20, 13), facecolor='white');\n",
    "# draw parallels.\n",
    "parallels = np.arange(-30.73, -30.69, .01)\n",
    "m.drawparallels(parallels, labels=[1, 0, 0, 0], fontsize=10);\n",
    "# draw meridians\n",
    "meridians = np.arange(21.41, 21.48, .01)\n",
    "m.drawmeridians(meridians, labels=[0, 0, 0, 1], fontsize=10);\n",
    "m.drawmapboundary(fill_color='white');  # noqa\n",
    "m.scatter(ref_x, ref_y, 1000, marker='+', color='r', label='Array reference');\n",
    "cntr = 0\n",
    "for x, y in zip(arr_x, arr_y):\n",
    "    plt.text(x, y, arr_names[cntr], fontsize=6, ha='center', va='baseline', color='k');\n",
    "    cntr += 1"
   ]
  },
  {
   "cell_type": "code",
   "execution_count": null,
   "metadata": {
    "collapsed": true
   },
   "outputs": [],
   "source": []
  }
 ],
 "metadata": {
  "kernelspec": {
   "display_name": "Python 2",
   "language": "python",
   "name": "python2"
  },
  "language_info": {
   "codemirror_mode": {
    "name": "ipython",
    "version": 2
   },
   "file_extension": ".py",
   "mimetype": "text/x-python",
   "name": "python",
   "nbconvert_exporter": "python",
   "pygments_lexer": "ipython2",
   "version": "2.7.15+"
  }
 },
 "nbformat": 4,
 "nbformat_minor": 2
}
